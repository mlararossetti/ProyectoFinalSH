{
 "cells": [
  {
   "cell_type": "markdown",
   "metadata": {},
   "source": [
    "### Modelo de Flujo de Caja (Cash Flow)\n",
    "\n",
    "Este notebook contiene dos modelos de analisis financiero que tienen como objeto de estudio los diferentes modelo de VE que se encuentran en el Dataset \"ElectricCarData_Norm.csv\". Estos modelos estudian el comportamiento financiero de cada prototipo del vehiculo materializado en el calculo de un Flujo de Caja (Cash Flow) proyectado a 5 años, e indicadores financiero como: ROI (Return on Investment), IR (Indice de Rentabilidad) y Payback Period.\n",
    "\n",
    "El primer modelo recibe como parametro una instancia (modelo de VE) del dataset y devuelve como resultado el comportamiento de este en relacion a las variables financieras anteriormente expuestas y tambien el del un auto convencional para obtener un analisis comparativo y poder evaluar diferencias y el costo de oportunidad de estas dos variantes.\n"
   ]
  },
  {
   "cell_type": "markdown",
   "metadata": {},
   "source": [
    "Importamos las librerias necesarias."
   ]
  },
  {
   "cell_type": "code",
   "execution_count": null,
   "metadata": {},
   "outputs": [],
   "source": [
    "import pandas as pd \n"
   ]
  },
  {
   "cell_type": "markdown",
   "metadata": {},
   "source": [
    "Importamos el dataset que contiene las instancias y variables necesarias. (Este dataset contiene los valores futuros, producto del modelo de ML)"
   ]
  },
  {
   "cell_type": "code",
   "execution_count": 12,
   "metadata": {},
   "outputs": [],
   "source": [
    "future_data = pd.read_csv(r\"Prediccion_Dataset.csv\", index_col = 0)"
   ]
  },
  {
   "cell_type": "markdown",
   "metadata": {},
   "source": [
    "Visualizamos el Dataset."
   ]
  },
  {
   "cell_type": "code",
   "execution_count": 13,
   "metadata": {},
   "outputs": [
    {
     "data": {
      "text/html": [
       "<div>\n",
       "<style scoped>\n",
       "    .dataframe tbody tr th:only-of-type {\n",
       "        vertical-align: middle;\n",
       "    }\n",
       "\n",
       "    .dataframe tbody tr th {\n",
       "        vertical-align: top;\n",
       "    }\n",
       "\n",
       "    .dataframe thead th {\n",
       "        text-align: right;\n",
       "    }\n",
       "</style>\n",
       "<table border=\"1\" class=\"dataframe\">\n",
       "  <thead>\n",
       "    <tr style=\"text-align: right;\">\n",
       "      <th></th>\n",
       "      <th>Income_per_Vehicle (USD)</th>\n",
       "      <th>Miles_per_Vehicle</th>\n",
       "      <th>Hours_Per_Driver</th>\n",
       "    </tr>\n",
       "    <tr>\n",
       "      <th>Year</th>\n",
       "      <th></th>\n",
       "      <th></th>\n",
       "      <th></th>\n",
       "    </tr>\n",
       "  </thead>\n",
       "  <tbody>\n",
       "    <tr>\n",
       "      <th>2025</th>\n",
       "      <td>65357.06</td>\n",
       "      <td>11762.56</td>\n",
       "      <td>1939.06</td>\n",
       "    </tr>\n",
       "    <tr>\n",
       "      <th>2026</th>\n",
       "      <td>64802.76</td>\n",
       "      <td>11703.94</td>\n",
       "      <td>1643.53</td>\n",
       "    </tr>\n",
       "    <tr>\n",
       "      <th>2027</th>\n",
       "      <td>64302.32</td>\n",
       "      <td>11656.52</td>\n",
       "      <td>1348.03</td>\n",
       "    </tr>\n",
       "    <tr>\n",
       "      <th>2028</th>\n",
       "      <td>63485.52</td>\n",
       "      <td>11556.92</td>\n",
       "      <td>1050.00</td>\n",
       "    </tr>\n",
       "    <tr>\n",
       "      <th>2029</th>\n",
       "      <td>63408.43</td>\n",
       "      <td>11587.08</td>\n",
       "      <td>756.66</td>\n",
       "    </tr>\n",
       "  </tbody>\n",
       "</table>\n",
       "</div>"
      ],
      "text/plain": [
       "      Income_per_Vehicle (USD)  Miles_per_Vehicle  Hours_Per_Driver\n",
       "Year                                                               \n",
       "2025                  65357.06           11762.56           1939.06\n",
       "2026                  64802.76           11703.94           1643.53\n",
       "2027                  64302.32           11656.52           1348.03\n",
       "2028                  63485.52           11556.92           1050.00\n",
       "2029                  63408.43           11587.08            756.66"
      ]
     },
     "execution_count": 13,
     "metadata": {},
     "output_type": "execute_result"
    }
   ],
   "source": [
    "future_data.head(5)"
   ]
  },
  {
   "cell_type": "markdown",
   "metadata": {},
   "source": [
    "Utilizamos como instrumento de ponderacion la media o promedio para tener un primer acercamiento y entendimiento a las variables (ingreso anual y millas recorridas al año). "
   ]
  },
  {
   "cell_type": "code",
   "execution_count": 14,
   "metadata": {},
   "outputs": [
    {
     "name": "stdout",
     "output_type": "stream",
     "text": [
      "El promedio de ingresos anuales es: 64271.22\n",
      "El promedio de millas recorridas anualmente es : 11653.4\n"
     ]
    }
   ],
   "source": [
    "promedio_ingresos = round(future_data[\"Income_per_Vehicle (USD)\"].mean(),2)\n",
    "promedio_millas = round(future_data[\"Miles_per_Vehicle\"].mean(),2)\n",
    "print(f'El promedio de ingresos anuales es: {promedio_ingresos}')\n",
    "print(f'El promedio de millas recorridas anualmente es : {promedio_millas}')"
   ]
  },
  {
   "cell_type": "markdown",
   "metadata": {},
   "source": [
    "Se asigna una variable a cada dato."
   ]
  },
  {
   "cell_type": "code",
   "execution_count": 15,
   "metadata": {},
   "outputs": [
    {
     "name": "stdout",
     "output_type": "stream",
     "text": [
      "Los ingresos para el año 2025 son 65357.06\n",
      "Los ingresos para el año 2026 son 64802.76\n",
      "Los ingresos para el año 2027 son 64302.32\n",
      "Los ingresos para el año 2028 son 63485.52\n",
      "Los ingresos para el año 2029 son 63408.43\n"
     ]
    }
   ],
   "source": [
    "año = 2025\n",
    "for _, row in future_data.iterrows():  # iterrows() en lugar de interrows()\n",
    "    globals()[f'Ingresos_año_{año}'] = row[\"Income_per_Vehicle (USD)\"]\n",
    "    print(f'Los ingresos para el año {año} son {globals()[f\"Ingresos_año_{año}\"]}')\n",
    "    año += 1\n",
    "\n",
    "\n"
   ]
  },
  {
   "cell_type": "code",
   "execution_count": 16,
   "metadata": {},
   "outputs": [
    {
     "name": "stdout",
     "output_type": "stream",
     "text": [
      "[65357.06, 64802.76, 64302.32, 63485.52, 63408.43]\n"
     ]
    }
   ],
   "source": [
    "ingresos_años = []\n",
    "\n",
    "for _, row in future_data.iterrows():\n",
    "    ingresos_años.append(row[\"Income_per_Vehicle (USD)\"])\n",
    "print(ingresos_años)"
   ]
  },
  {
   "cell_type": "code",
   "execution_count": 17,
   "metadata": {},
   "outputs": [
    {
     "name": "stdout",
     "output_type": "stream",
     "text": [
      "Las Millas recorridas en el año 2025 son 11762.56\n",
      "Las Millas recorridas en el año 2026 son 11703.94\n",
      "Las Millas recorridas en el año 2027 son 11656.52\n",
      "Las Millas recorridas en el año 2028 son 11556.92\n",
      "Las Millas recorridas en el año 2029 son 11587.08\n"
     ]
    }
   ],
   "source": [
    "año = 2025\n",
    "\n",
    "for _, row in future_data.iterrows():\n",
    "    globals()[f'Millas_Año_{año}'] = row[\"Miles_per_Vehicle\"]\n",
    "    print(f'Las Millas recorridas en el año {año} son {globals()[f\"Millas_Año_{año}\"]}')\n",
    "    año+=1"
   ]
  },
  {
   "cell_type": "code",
   "execution_count": 18,
   "metadata": {},
   "outputs": [
    {
     "name": "stdout",
     "output_type": "stream",
     "text": [
      "[11762.56, 11703.94, 11656.52, 11556.92, 11587.08]\n"
     ]
    }
   ],
   "source": [
    "millas_años = []\n",
    "for _, row in future_data.iterrows():\n",
    "    millas_años.append(row[\"Miles_per_Vehicle\"])\n",
    "print(millas_años)"
   ]
  },
  {
   "cell_type": "code",
   "execution_count": 19,
   "metadata": {},
   "outputs": [
    {
     "name": "stdout",
     "output_type": "stream",
     "text": [
      "[65357.06, 64802.76, 64302.32, 63485.52, 63408.43]\n",
      "[11762.56, 11703.94, 11656.52, 11556.92, 11587.08]\n"
     ]
    }
   ],
   "source": [
    "print(ingresos_años)\n",
    "print(millas_años)"
   ]
  },
  {
   "cell_type": "markdown",
   "metadata": {},
   "source": [
    "En esta sección se elabora el mecanismo para el cálculo del modelo de Flujo de Caja (Cash Flow) y los demas indicadores financieros.\n",
    "\n",
    "A continuación se presentaran las siguientes características:\n",
    "\n",
    "- Debido a que son dos tipos de autos con caracteristicas distintas se crean 2 clases para cada variante, que heredan de la clase madre «Auto».\n",
    "- Las caracteristicas que estructuran la clase «Auto Convencional» corresponden a una ponderacion que representa un propotipo de auto convencional promedio\n",
    "- Se crean funciones para el calculo de las variables financieras anteriormente mencionadas.\n",
    "- El objeto de análisis es un modelo de VE que compone el dataset y tambien de un prototipo promedio de un auto convencional.\n",
    "- El resultado es el dictámen financiero compuesto por las variables financieras expuestas.\n",
    "- Obtención de análisis comparativo entre un VE y un auto convencional.\n",
    "- Análisis Financiero de la totalidad de VE y ranking de los prototipos más rentables."
   ]
  },
  {
   "cell_type": "markdown",
   "metadata": {},
   "source": [
    "### Modelo de Flujo de Caja (Cash Flow) #1\n",
    "Análisis Financiero personalizado (por modelo VE)"
   ]
  },
  {
   "cell_type": "code",
   "execution_count": null,
   "metadata": {},
   "outputs": [],
   "source": [
    "# Dataset de VE\n",
    "df_autos = pd.read_csv(\"df_modelo.csv\")\n",
    "\n",
    "# Se crea la clase Auto y subclases para AutoConvencional y AutoElectrico\n",
    "class Auto:\n",
    "    def __init__(self, precio, iva, licencia_1, licencia_2, placa, inspeccion, seguro, recorrido_anual, ingresos_anuales, tasa_descuento):\n",
    "        self.precio = precio\n",
    "        self.iva = iva\n",
    "        self.licencia_1 = licencia_1\n",
    "        self.licencia_2 = licencia_2\n",
    "        self.placa = placa\n",
    "        self.inspeccion = inspeccion\n",
    "        self.seguro = seguro\n",
    "        self.recorrido_anual = recorrido_anual\n",
    "        self.ingresos_anuales = ingresos_anuales\n",
    "        self.tasa_descuento = tasa_descuento\n",
    "    \n",
    "    def inversion_inicial(self):\n",
    "        raise NotImplementedError\n",
    "    \n",
    "    def costos_operativos(self):\n",
    "        raise NotImplementedError\n",
    "    \n",
    "    def flujo_neto_anual(self):\n",
    "        return self.ingresos_anuales - self.costos_operativos()\n",
    "    \n",
    "    def flujo_caja_proyectado(self, años=5):\n",
    "        # Inversión inicial negativa porqué es el año 0\n",
    "        inversion_inicial = -self.inversion_inicial()\n",
    "        \n",
    "        ingresos_año = [0]\n",
    "        costos_año = [0]\n",
    "        flujo_neto = [0]  # Año 0: \n",
    "        flujo_descuento = [inversion_inicial]  # Año 0 Inversión inicial negativa\n",
    "        # Se calcula el flujo neto anual y mensual para cada año\n",
    "        for año in range(1, años + 1):\n",
    "            self.ingresos_anuales = ingresos_años[año-1] # Codigo nuevo\n",
    "            self.recorrido_anual = millas_años[año-1] # Codigo nuevo\n",
    "            flujo_neto_actual = self.flujo_neto_anual()\n",
    "            flujo_neto.append(flujo_neto_actual)\n",
    "            flujo_descuento_actual = flujo_neto_actual / (1 + self.tasa_descuento) ** año\n",
    "            flujo_descuento.append(flujo_descuento_actual)\n",
    "            ingresos_año.append(self.ingresos_anuales)\n",
    "            costos_año.append(self.costos_operativos())\n",
    "        \n",
    "        # Se crea el DataFrame de resultados\n",
    "        df_flujo_caja = pd.DataFrame({\n",
    "            'Año': range(0, años + 1),\n",
    "            'Ingresos': ingresos_año, \n",
    "            'Costos Operativos': costos_año,\n",
    "            'Flujo Neto': flujo_neto,\n",
    "            'Flujo Neto Descontado (10%)': flujo_descuento\n",
    "        })\n",
    "         # Calculo el flujo total descontado para el ROI\n",
    "        flujo_total = sum(flujo_descuento)\n",
    "        return df_flujo_caja\n",
    "\n",
    "    def calcular_roi(self, flujo_total):\n",
    "        roi = (flujo_total - self.inversion_inicial()) / self.inversion_inicial()\n",
    "        return round(roi, 2)\n",
    "\n",
    "    def calcular_ir(self, flujo_total):\n",
    "        ir = flujo_total / abs(self.inversion_inicial())\n",
    "        return round(ir, 2)\n",
    "\n",
    "    def calcular_payback_period(self):\n",
    "        flujo_acumulado = 0\n",
    "        payback = 0\n",
    "        for año in range(1, 11):\n",
    "            flujo_anual = self.flujo_neto_anual()\n",
    "            flujo_acumulado += flujo_anual\n",
    "            if flujo_acumulado >= abs(self.inversion_inicial()):\n",
    "                payback = año\n",
    "                break\n",
    "        return payback if payback > 0 else \"No recuperado en 10 años\"\n",
    "\n",
    "class AutoConvencional(Auto): #Licencia_1 = unico pago, licencia_2 = anual\n",
    "    def __init__(self, precio=38000, iva=0.08875, licencia_1=550,licencia_2=100, placa = 300,\n",
    "                 seguro=2500, inspeccion = 150,\n",
    "                 eficiencia=0.06, mantenimiento=0.15, recorrido_anual=promedio_millas, #mantenimiento = USD x Milla\n",
    "                 ingresos_anuales=promedio_ingresos, tasa_descuento=0.10):\n",
    "        super().__init__(precio, iva, licencia_1, licencia_2, placa, inspeccion,\n",
    "                         seguro, recorrido_anual, ingresos_anuales, tasa_descuento) # Se usa el super constructor para evitar redundancia ya que es una clase hija\n",
    "        self.eficiencia = eficiencia\n",
    "        self.mantenimiento = mantenimiento\n",
    "    \n",
    "    def inversion_inicial(self):\n",
    "        return self.precio * (1 + self.iva) + self.licencia_1\n",
    "    \n",
    "    def costos_operativos(self):\n",
    "        precio_gasolina_litro = 0.92 #USD x lt\n",
    "        costo_gasolina_anual = (self.recorrido_anual * self.eficiencia) * precio_gasolina_litro\n",
    "        costo_mantenimiento = self.mantenimiento * self.recorrido_anual\n",
    "        return costo_gasolina_anual + costo_mantenimiento + self.seguro + self.licencia_2 + self.placa + self.inspeccion\n",
    "\n",
    "class AutoElectrico(Auto): #Descuento de 5% al 10% en licencia ; Excencion del impuesto de venta\n",
    "    def __init__(self, precio, eficiencia, iva=0, licencia_1=495,licencia_2=100, placa = 300,\n",
    "                 seguro=1500, inspeccion = 100, mantenimiento=0.03, wallbox=600, \n",
    "                 recambio_bateria=5000, #mantenimiento = USD x Milla\n",
    "                 recorrido_anual=16529, ingresos_anuales=93227, tasa_descuento=0.10):\n",
    "        super().__init__(precio, iva, licencia_1, licencia_2, placa, inspeccion, seguro, recorrido_anual, ingresos_anuales, tasa_descuento)\n",
    "        self.eficiencia = eficiencia\n",
    "        self.mantenimiento = mantenimiento\n",
    "        self.wallbox = wallbox\n",
    "        self.recambio_bateria = recambio_bateria\n",
    "    \n",
    "    def inversion_inicial(self):\n",
    "        return self.precio + self.licencia_1 + self.wallbox\n",
    "    \n",
    "    def costos_operativos(self):\n",
    "        precio_electricidad_kWh = 0.13 #USD x kHw\n",
    "        costo_electricidad_anual = (self.recorrido_anual * self.eficiencia) * precio_electricidad_kWh\n",
    "        costo_mantenimiento = self.mantenimiento * self.recorrido_anual\n",
    "        costo_anual_bateria = self.recambio_bateria / 12.5\n",
    "        return costo_electricidad_anual + costo_mantenimiento + costo_anual_bateria + self.seguro + self.licencia_2 + self.placa + self.inspeccion\n",
    "\n",
    "# Función para seleccionar el modelo del auto, calcular flujos e indicadores\n",
    "def comparar_flujo_caja_y_medir_indicadores(modelo, tipo_auto):\n",
    "    # Se Filtra en el dataset para obtener el precio del modelo\n",
    "    filtro_modelo = df_autos[df_autos['Model'] == modelo]\n",
    "    \n",
    "    if filtro_modelo.empty:\n",
    "        print(f\"Modelo '{modelo}' no encontrado en el dataset.\")\n",
    "        return None\n",
    "    \n",
    "    precio = filtro_modelo['Precio Dolar'].values[0]\n",
    "    eficiencia = filtro_modelo['Efficiency (kWh/mile)'].values[0]\n",
    "    \n",
    "    # Instancio el auto eléctrico y el auto convencional\n",
    "    auto_electrico = AutoElectrico(precio, eficiencia)\n",
    "    auto_convencional = AutoConvencional()\n",
    "    \n",
    "    # Se calcula el flujo de caja proyectado\n",
    "    flujo_electrico = auto_electrico.flujo_caja_proyectado()\n",
    "    flujo_convencional = auto_convencional.flujo_caja_proyectado()\n",
    "    \n",
    "    # Sumo flujo neto descontado para cada tipo de auto (obtener total)\n",
    "    flujo_descuento_total_electrico = flujo_electrico['Flujo Neto Descontado (10%)'].sum()\n",
    "    flujo_descuento_total_convencional = flujo_convencional['Flujo Neto Descontado (10%)'].sum()\n",
    "    \n",
    "    # Calculo del ROI, IR y Payback Period para cada auto\n",
    "    roi_electrico = auto_electrico.calcular_roi(flujo_descuento_total_electrico)\n",
    "    roi_convencional = auto_convencional.calcular_roi(flujo_descuento_total_convencional)\n",
    "    ir_electrico = auto_electrico.calcular_ir(flujo_descuento_total_electrico)\n",
    "    ir_convencional = auto_convencional.calcular_ir(flujo_descuento_total_convencional)\n",
    "    payback_electrico = auto_electrico.calcular_payback_period()\n",
    "    payback_convencional = auto_convencional.calcular_payback_period()\n",
    "    \n",
    "    df_flujo_electrico = pd.DataFrame(flujo_electrico)\n",
    "    df_flujo_convencional = pd.DataFrame(flujo_convencional)\n",
    "\n",
    "    # Resultados\n",
    "    print(f\"Flujo de Caja Proyectado para {modelo} (Eléctrico):\")\n",
    "    print(df_flujo_electrico)\n",
    "    \n",
    "    print(\"\\nFlujo de Caja Proyectado para Auto Convencional:\")\n",
    "    print(df_flujo_convencional)\n",
    "    #df_flujo_convencional\n",
    "    print(\"\\nComparación Financiera:\")\n",
    "    print(f\"Auto Eléctrico - Flujo Neto Descontado Total: {flujo_descuento_total_electrico}, ROI: {roi_electrico}%, IR: {ir_electrico} USD, Payback Period: {payback_electrico} años\")\n",
    "    print(f\"Auto Convencional - Flujo Neto Descontado Total: {flujo_descuento_total_convencional}, ROI: {roi_convencional}%, IR: {ir_convencional} USD, Payback Period: {payback_convencional} años\")\n",
    "\n",
    "\n"
   ]
  },
  {
   "cell_type": "markdown",
   "metadata": {},
   "source": [
    "Ejemplo de uso:"
   ]
  },
  {
   "cell_type": "code",
   "execution_count": null,
   "metadata": {},
   "outputs": [
    {
     "name": "stdout",
     "output_type": "stream",
     "text": [
      "Flujo de Caja Proyectado para e-Niro 39 kWh (Eléctrico):\n",
      "   Año  Ingresos  Costos Operativos    Flujo Neto  Flujo Neto Descontado (10%)\n",
      "0    0      0.00           0.000000      0.000000                -37559.000000\n",
      "1    1  65357.06        2911.906611  62445.153389                 56768.321263\n",
      "2    2  64802.76        2909.355469  61893.404531                 51151.573993\n",
      "3    3  64302.32        2907.291750  61395.028250                 46126.993426\n",
      "4    4  63485.52        2902.957158  60582.562842                 41378.705581\n",
      "5    5  63408.43        2904.269722  60504.160278                 37568.323251\n",
      "\n",
      "Flujo de Caja Proyectado para Auto Convencional:\n",
      "   Año  Ingresos  Costos Operativos    Flujo Neto  Flujo Neto Descontado (10%)\n",
      "0    0      0.00           0.000000      0.000000                -41922.500000\n",
      "1    1  65357.06        5463.677312  59893.382688                 54448.529716\n",
      "2    2  64802.76        5451.648488  59351.111512                 49050.505382\n",
      "3    3  64302.32        5441.917904  58860.402096                 44222.691282\n",
      "4    4  63485.52        5421.479984  58064.040016                 39658.520604\n",
      "5    5  63408.43        5427.668816  57980.761184                 36001.490946\n",
      "\n",
      "Comparación Financiera:\n",
      "Auto Eléctrico - Flujo Neto Descontado Total: 195434.91751292767, ROI: 4.2%, IR: 5.2 USD, Payback Period: 1 años\n",
      "Auto Convencional - Flujo Neto Descontado Total: 181459.2379300549, ROI: 3.33%, IR: 4.33 USD, Payback Period: 1 años\n"
     ]
    }
   ],
   "source": [
    "modelo_auto =  'e-Niro 39 kWh'  # El modelo elegido\n",
    "comparar_flujo_caja_y_medir_indicadores(modelo_auto, AutoElectrico)"
   ]
  },
  {
   "cell_type": "markdown",
   "metadata": {},
   "source": [
    "A continuacion se exponen los modelos contenidos en el dataset para agregarlos en le input de la funcion."
   ]
  },
  {
   "cell_type": "code",
   "execution_count": 22,
   "metadata": {},
   "outputs": [
    {
     "data": {
      "text/plain": [
       "array(['Model 3 Long Range Dual Motor', 'ID.3 Pure', '2', 'iX3 ', 'e ',\n",
       "       'Air ', 'e-Golf ', 'e-208 ', 'Model 3 Standard Range Plus',\n",
       "       'Q4 e-tron ', 'EQC 400 4MATIC', 'Leaf ', 'Kona Electric 64 kWh',\n",
       "       'i4 ', 'IONIQ Electric', 'ID.3 Pro S', 'Taycan Turbo S', 'e-Up! ',\n",
       "       'ZS EV', 'Cooper SE ', 'Corsa-e ', 'Model Y Long Range Dual Motor',\n",
       "       'Enyaq iV 50', 'e-tron GT ', 'Model 3 Long Range Performance',\n",
       "       'ID.4 ', 'ID.3 Pro', 'XC40 P8 AWD Recharge', 'i3 120 Ah',\n",
       "       'e-2008 SUV ', 'e-tron 50 quattro', 'e-Niro 64 kWh',\n",
       "       'Zoe ZE50 R110', 'Cybertruck Tri Motor', 'MX-30 ', 'Leaf e+',\n",
       "       'UX 300e', 'el-Born ', 'Zoe ZE50 R135', 'EQA ',\n",
       "       'Model S Long Range', 'Kona Electric 39 kWh',\n",
       "       'e-tron Sportback 55 quattro', 'CITIGOe iV ', 'Mii Electric ',\n",
       "       'e-Soul 64 kWh', 'Ampera-e ', 'Taycan 4S', 'One ', 'U5 ',\n",
       "       'e-tron 55 quattro', 'Roadster ', 'Mokka-e ', 'Enyaq iV 80',\n",
       "       'Model X Long Range', 'e Advance', '3 Crossback E-Tense',\n",
       "       'Twingo ZE', 'e-C4 ', 'Model S Performance', 'Zoe ZE40 R110',\n",
       "       'Model Y Long Range Performance', 'Ariya 87kWh', 'I-Pace ',\n",
       "       'Mustang Mach-E ER RWD', 'Taycan 4S Plus', 'e-NV200 Evalia ',\n",
       "       'Cybertruck Dual Motor', 'Kangoo Maxi ZE 33',\n",
       "       'Mustang Mach-E ER AWD', 'i3s 120 Ah', 'Enyaq iV 80X',\n",
       "       'Taycan Cross Turismo ', 'M-Byte 95 kWh 4WD', 'Sion ',\n",
       "       'e-Niro 39 kWh', 'Q4 Sportback e-tron ', 'EQ forfour ',\n",
       "       'Mustang Mach-E SR AWD', 'Taycan Turbo', 'ID.3 1st',\n",
       "       'Model X Performance', 'EQ fortwo coupe', 'Mustang Mach-E SR RWD',\n",
       "       'EQV 300 Long', '500e Hatchback', 'Cybertruck Single Motor',\n",
       "       'e-tron Sportback 50 quattro', 'Enyaq iV vRS', 'Enyaq iV 60',\n",
       "       'e-tron S 55 quattro', 'EQ fortwo cabrio', 'Ariya e-4ORCE 87kWh',\n",
       "       '500e Convertible', 'ID.3 Pro Performance', 'e-Soul 39 kWh',\n",
       "       'M-Byte 72 kWh 2WD', 'Ariya 63kWh',\n",
       "       'e-tron S Sportback 55 quattro', 'Ariya e-4ORCE 63kWh',\n",
       "       'Ariya e-4ORCE 87kWh Performance', 'M-Byte 95 kWh 2WD'],\n",
       "      dtype=object)"
      ]
     },
     "execution_count": 22,
     "metadata": {},
     "output_type": "execute_result"
    }
   ],
   "source": [
    "df_autos[\"Model\"].unique()"
   ]
  },
  {
   "cell_type": "markdown",
   "metadata": {},
   "source": [
    "### Modelo de Flujo de Caja (Cash Flow) #2:\n",
    "Ranking de rentabilidad financiera de todos los prototipos de VE contenidos en el dataset"
   ]
  },
  {
   "cell_type": "code",
   "execution_count": null,
   "metadata": {},
   "outputs": [
    {
     "data": {
      "text/html": [
       "<div>\n",
       "<style scoped>\n",
       "    .dataframe tbody tr th:only-of-type {\n",
       "        vertical-align: middle;\n",
       "    }\n",
       "\n",
       "    .dataframe tbody tr th {\n",
       "        vertical-align: top;\n",
       "    }\n",
       "\n",
       "    .dataframe thead th {\n",
       "        text-align: right;\n",
       "    }\n",
       "</style>\n",
       "<table border=\"1\" class=\"dataframe\">\n",
       "  <thead>\n",
       "    <tr style=\"text-align: right;\">\n",
       "      <th></th>\n",
       "      <th>Modelo</th>\n",
       "      <th>Precio (USD)</th>\n",
       "      <th>Flujo Neto Descontado (USD)</th>\n",
       "      <th>ROI (%)</th>\n",
       "      <th>IR (USD)</th>\n",
       "      <th>Payback Period (Años)</th>\n",
       "    </tr>\n",
       "  </thead>\n",
       "  <tbody>\n",
       "    <tr>\n",
       "      <th>44</th>\n",
       "      <td>Mii Electric</td>\n",
       "      <td>21336.7</td>\n",
       "      <td>210567.9</td>\n",
       "      <td>8.39</td>\n",
       "      <td>9.39</td>\n",
       "      <td>1</td>\n",
       "    </tr>\n",
       "    <tr>\n",
       "      <th>82</th>\n",
       "      <td>EQ fortwo coupe</td>\n",
       "      <td>22670.2</td>\n",
       "      <td>209228.7</td>\n",
       "      <td>7.80</td>\n",
       "      <td>8.80</td>\n",
       "      <td>1</td>\n",
       "    </tr>\n",
       "    <tr>\n",
       "      <th>17</th>\n",
       "      <td>e-Up!</td>\n",
       "      <td>22706.3</td>\n",
       "      <td>209198.4</td>\n",
       "      <td>7.79</td>\n",
       "      <td>8.79</td>\n",
       "      <td>1</td>\n",
       "    </tr>\n",
       "    <tr>\n",
       "      <th>77</th>\n",
       "      <td>EQ forfour</td>\n",
       "      <td>23351.8</td>\n",
       "      <td>208518.4</td>\n",
       "      <td>7.53</td>\n",
       "      <td>8.53</td>\n",
       "      <td>1</td>\n",
       "    </tr>\n",
       "    <tr>\n",
       "      <th>43</th>\n",
       "      <td>CITIGOe iV</td>\n",
       "      <td>26006.0</td>\n",
       "      <td>205898.6</td>\n",
       "      <td>6.60</td>\n",
       "      <td>7.60</td>\n",
       "      <td>1</td>\n",
       "    </tr>\n",
       "  </tbody>\n",
       "</table>\n",
       "</div>"
      ],
      "text/plain": [
       "             Modelo  Precio (USD)  Flujo Neto Descontado (USD)  ROI (%)  \\\n",
       "44    Mii Electric        21336.7                     210567.9     8.39   \n",
       "82  EQ fortwo coupe       22670.2                     209228.7     7.80   \n",
       "17           e-Up!        22706.3                     209198.4     7.79   \n",
       "77      EQ forfour        23351.8                     208518.4     7.53   \n",
       "43      CITIGOe iV        26006.0                     205898.6     6.60   \n",
       "\n",
       "    IR (USD)  Payback Period (Años)  \n",
       "44      9.39                      1  \n",
       "82      8.80                      1  \n",
       "17      8.79                      1  \n",
       "77      8.53                      1  \n",
       "43      7.60                      1  "
      ]
     },
     "execution_count": 23,
     "metadata": {},
     "output_type": "execute_result"
    }
   ],
   "source": [
    "# Definición de la función para calcular y comparar métricas\n",
    "def calcular_metricas_para_todos_los_modelos(df_autos):\n",
    "    resultados = []\n",
    "    resultados_conv = []\n",
    "\n",
    "    # Se itera sobre cada modelo en el dataset\n",
    "    for _, row in df_autos.iterrows(): #uso _, ya que no necesito el indice\n",
    "        modelo = row['Model']\n",
    "        precio = row['Precio Dolar']\n",
    "        eficiencia = row['Efficiency (kWh/mile)']\n",
    "        # Se instancia AutoEléctrico y AutoConvencional con el precio del modelo actual\n",
    "        auto_electrico = AutoElectrico(precio, eficiencia)\n",
    "        auto_convencional = AutoConvencional()\n",
    "\n",
    "        # Se calcula los flujos de caja proyectados para ambos tipos de autos\n",
    "        flujo_electrico = auto_electrico.flujo_caja_proyectado()\n",
    "        flujo_convencional = auto_convencional.flujo_caja_proyectado()\n",
    "\n",
    "        # Luego, se calcula el flujo neto descontado total\n",
    "        flujo_descuento_total_electrico = flujo_electrico['Flujo Neto Descontado (10%)'].sum()\n",
    "        flujo_descuento_total_convencional = flujo_convencional['Flujo Neto Descontado (10%)'].sum()\n",
    "\n",
    "        # Calculo ROI, IR y Payback Period\n",
    "        roi_electrico = auto_electrico.calcular_roi(flujo_descuento_total_electrico)\n",
    "        ir_electrico = auto_electrico.calcular_ir(flujo_descuento_total_electrico)\n",
    "        payback_electrico = auto_electrico.calcular_payback_period()\n",
    "\n",
    "        # Se agg los resultados a la lista\n",
    "        resultados.append({\n",
    "            'Modelo': modelo,\n",
    "            'Precio (USD)': round(precio,1),\n",
    "            'Flujo Neto Descontado (USD)': round(flujo_descuento_total_electrico,1),\n",
    "            'ROI (%)': roi_electrico,\n",
    "            'IR (USD)': ir_electrico,\n",
    "            'Payback Period (Años)': payback_electrico\n",
    "        })\n",
    "\n",
    "        # Se convierte a DataFrame\n",
    "    df_resultados = pd.DataFrame(resultados)\n",
    "    #df_resultados_conv = pd.DataFrame(resultados_conv)\n",
    "    # Se obtienen los 5 mejores con nlargest\n",
    "    #top_5_modelos = df_resultados.nlargest(5, ['ROI (%)', 'IR (USD)', 'Flujo Neto Descontado (USD)'])\n",
    "    df_resultados = df_resultados.sort_values(by=\"ROI (%)\", ascending=False)\n",
    "\n",
    "    return df_resultados\n",
    "    #return top_5_modelos\n",
    "\n",
    "# Se invoca la función para calcular métricas y obtener los top 5 modelos\n",
    "df_resultados = calcular_metricas_para_todos_los_modelos(df_autos)\n",
    "\n",
    "df_resultados.head(5)"
   ]
  },
  {
   "cell_type": "markdown",
   "metadata": {},
   "source": [
    "Por último se exportan los resultados a un archivo .csv para crear un nuevo Dataset que contenga información financiera de cada prototipo de VE."
   ]
  },
  {
   "cell_type": "code",
   "execution_count": null,
   "metadata": {},
   "outputs": [],
   "source": [
    "df_resultados.to_csv(r\"C:\\Users\\Cristian\\Desktop\\DATA SCIENCE\\HENRY\\P_Final\\Codigo\\Cash_Flow\\Analisis_Financiero_VE.csv\", index = False)"
   ]
  }
 ],
 "metadata": {
  "kernelspec": {
   "display_name": "Python 3",
   "language": "python",
   "name": "python3"
  },
  "language_info": {
   "codemirror_mode": {
    "name": "ipython",
    "version": 3
   },
   "file_extension": ".py",
   "mimetype": "text/x-python",
   "name": "python",
   "nbconvert_exporter": "python",
   "pygments_lexer": "ipython3",
   "version": "3.11.0"
  }
 },
 "nbformat": 4,
 "nbformat_minor": 2
}
