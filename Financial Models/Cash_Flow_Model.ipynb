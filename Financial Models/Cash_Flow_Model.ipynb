{
 "cells": [
  {
   "cell_type": "markdown",
   "metadata": {},
   "source": [
    "### Modelo de Flujo de Caja (Cash Flow)\n",
    "\n",
    "Este notebook contiene dos modelos de analisis financiero que tienen como objeto de estudio los diferentes modelo de VE que se encuentran en el Dataset \"ElectricCarData_Norm.csv\". Estos modelos estudian el comportamiento financiero de cada prototipo del vehiculo materializado en el calculo de un Flujo de Caja (Cash Flow) proyectado a 5 años, e indicadores financiero como: ROI (Return on Investment), IR (Indice de Rentabilidad) y Payback Period.\n",
    "\n",
    "El primer modelo recibe como parametro una instancia (modelo de VE) del dataset y devuelve como resultado el comportamiento de este en relacion a las variables financieras anteriormente expuestas y tambien el del un auto convencional para obtener un analisis comparativo y poder evaluar diferencias y el costo de oportunidad de estas dos variantes.\n"
   ]
  },
  {
   "cell_type": "markdown",
   "metadata": {},
   "source": [
    "Importamos las librerias necesarias."
   ]
  },
  {
   "cell_type": "code",
   "execution_count": 185,
   "metadata": {},
   "outputs": [],
   "source": [
    "import pandas as pd "
   ]
  },
  {
   "cell_type": "markdown",
   "metadata": {},
   "source": [
    "Importamos el dataset que contiene las instancias y variables necesarias. (Este dataset contiene los valores futuros, producto del modelo de ML)"
   ]
  },
  {
   "cell_type": "code",
   "execution_count": 186,
   "metadata": {},
   "outputs": [],
   "source": [
    "#future_data = pd.read_csv(r\"Prediccion_Dataset.csv\", index_col = 0)\n",
    "future_data = pd.read_csv(r\"..\\datasets\\2. Depurados\\TLC Aggregated Data\\ML_TS_Output_Anualized.csv\")\n",
    "future_data = future_data[future_data['industry']=='FHV - High Volume']"
   ]
  },
  {
   "cell_type": "markdown",
   "metadata": {},
   "source": [
    "Visualizamos el Dataset."
   ]
  },
  {
   "cell_type": "code",
   "execution_count": 187,
   "metadata": {},
   "outputs": [
    {
     "data": {
      "text/html": [
       "<div>\n",
       "<style scoped>\n",
       "    .dataframe tbody tr th:only-of-type {\n",
       "        vertical-align: middle;\n",
       "    }\n",
       "\n",
       "    .dataframe tbody tr th {\n",
       "        vertical-align: top;\n",
       "    }\n",
       "\n",
       "    .dataframe thead th {\n",
       "        text-align: right;\n",
       "    }\n",
       "</style>\n",
       "<table border=\"1\" class=\"dataframe\">\n",
       "  <thead>\n",
       "    <tr style=\"text-align: right;\">\n",
       "      <th></th>\n",
       "      <th>industry</th>\n",
       "      <th>year</th>\n",
       "      <th>anual_income_per_vehicle</th>\n",
       "      <th>anual_distance_per_vehicle</th>\n",
       "      <th>anual_hours_per_driver</th>\n",
       "      <th>anual_total_co2_emission</th>\n",
       "    </tr>\n",
       "  </thead>\n",
       "  <tbody>\n",
       "    <tr>\n",
       "      <th>0</th>\n",
       "      <td>FHV - High Volume</td>\n",
       "      <td>2021</td>\n",
       "      <td>61111.547221</td>\n",
       "      <td>11579.379920</td>\n",
       "      <td>2453.100299</td>\n",
       "      <td>269089.638654</td>\n",
       "    </tr>\n",
       "    <tr>\n",
       "      <th>1</th>\n",
       "      <td>FHV - High Volume</td>\n",
       "      <td>2022</td>\n",
       "      <td>64772.609515</td>\n",
       "      <td>11981.139672</td>\n",
       "      <td>2354.199683</td>\n",
       "      <td>341462.060682</td>\n",
       "    </tr>\n",
       "    <tr>\n",
       "      <th>2</th>\n",
       "      <td>FHV - High Volume</td>\n",
       "      <td>2023</td>\n",
       "      <td>66497.771259</td>\n",
       "      <td>12108.181763</td>\n",
       "      <td>2329.998311</td>\n",
       "      <td>378616.000425</td>\n",
       "    </tr>\n",
       "    <tr>\n",
       "      <th>3</th>\n",
       "      <td>FHV - High Volume</td>\n",
       "      <td>2024</td>\n",
       "      <td>65612.343006</td>\n",
       "      <td>11771.171315</td>\n",
       "      <td>2230.171288</td>\n",
       "      <td>390179.064210</td>\n",
       "    </tr>\n",
       "    <tr>\n",
       "      <th>4</th>\n",
       "      <td>FHV - High Volume</td>\n",
       "      <td>2025</td>\n",
       "      <td>65357.057024</td>\n",
       "      <td>11762.559488</td>\n",
       "      <td>1939.063082</td>\n",
       "      <td>390936.358803</td>\n",
       "    </tr>\n",
       "  </tbody>\n",
       "</table>\n",
       "</div>"
      ],
      "text/plain": [
       "            industry  year  anual_income_per_vehicle  \\\n",
       "0  FHV - High Volume  2021              61111.547221   \n",
       "1  FHV - High Volume  2022              64772.609515   \n",
       "2  FHV - High Volume  2023              66497.771259   \n",
       "3  FHV - High Volume  2024              65612.343006   \n",
       "4  FHV - High Volume  2025              65357.057024   \n",
       "\n",
       "   anual_distance_per_vehicle  anual_hours_per_driver  \\\n",
       "0                11579.379920             2453.100299   \n",
       "1                11981.139672             2354.199683   \n",
       "2                12108.181763             2329.998311   \n",
       "3                11771.171315             2230.171288   \n",
       "4                11762.559488             1939.063082   \n",
       "\n",
       "   anual_total_co2_emission  \n",
       "0             269089.638654  \n",
       "1             341462.060682  \n",
       "2             378616.000425  \n",
       "3             390179.064210  \n",
       "4             390936.358803  "
      ]
     },
     "execution_count": 187,
     "metadata": {},
     "output_type": "execute_result"
    }
   ],
   "source": [
    "future_data.head(5)"
   ]
  },
  {
   "cell_type": "code",
   "execution_count": 188,
   "metadata": {},
   "outputs": [],
   "source": [
    "future_data.rename(columns={\n",
    "    'anual_income_per_vehicle': 'Income_per_Vehicle (USD)',\n",
    "    'anual_distance_per_vehicle': 'Miles_per_Vehicle',\n",
    "    'anual_hours_per_driver': 'Hours_per_Driver',\n",
    "    'anual_total_co2_emissio': 'Total_CO2_Emissions'\n",
    "}, inplace=True)\n",
    "anual_hours_per_driver = future_data[future_data['year']<2025]['Hours_per_Driver'].mean()\n",
    "future_data =  future_data[future_data['year']>=2025]"
   ]
  },
  {
   "cell_type": "markdown",
   "metadata": {},
   "source": [
    "Utilizamos como instrumento de ponderacion la media o promedio para tener un primer acercamiento y entendimiento a las variables (ingreso anual y millas recorridas al año). "
   ]
  },
  {
   "cell_type": "code",
   "execution_count": 189,
   "metadata": {},
   "outputs": [
    {
     "name": "stdout",
     "output_type": "stream",
     "text": [
      "El promedio de ingresos anuales es: 64271.22\n",
      "El promedio de millas recorridas anualmente es : 11653.4\n",
      "El promedio de cantidad de horas de manejo : 2341.867394973464\n"
     ]
    }
   ],
   "source": [
    "promedio_ingresos = round(future_data[\"Income_per_Vehicle (USD)\"].mean(),2)\n",
    "promedio_millas = round(future_data[\"Miles_per_Vehicle\"].mean(),2)\n",
    "print(f'El promedio de ingresos anuales es: {promedio_ingresos}')\n",
    "print(f'El promedio de millas recorridas anualmente es : {promedio_millas}')\n",
    "print(f'El promedio de cantidad de horas de manejo : {anual_hours_per_driver}')"
   ]
  },
  {
   "cell_type": "markdown",
   "metadata": {},
   "source": [
    "Se asigna una variable a cada dato."
   ]
  },
  {
   "cell_type": "code",
   "execution_count": 190,
   "metadata": {},
   "outputs": [
    {
     "name": "stdout",
     "output_type": "stream",
     "text": [
      "Los ingresos para el año 2025 son 65357.06\n",
      "Los ingresos para el año 2026 son 64802.76\n",
      "Los ingresos para el año 2027 son 64302.32\n",
      "Los ingresos para el año 2028 son 63485.52\n",
      "Los ingresos para el año 2029 son 63408.43\n"
     ]
    }
   ],
   "source": [
    "año = 2025\n",
    "for _, row in future_data.iterrows():  # iterrows() en lugar de interrows()\n",
    "    globals()[f'Ingresos_año_{año}'] = round(row[\"Income_per_Vehicle (USD)\"],2)\n",
    "    print(f'Los ingresos para el año {año} son {globals()[f\"Ingresos_año_{año}\"]}')\n",
    "    año += 1"
   ]
  },
  {
   "cell_type": "code",
   "execution_count": 191,
   "metadata": {},
   "outputs": [
    {
     "name": "stdout",
     "output_type": "stream",
     "text": [
      "[65357.06, 64802.76, 64302.32, 63485.52, 63408.43]\n"
     ]
    }
   ],
   "source": [
    "ingresos_años = []\n",
    "for _, row in future_data.iterrows():\n",
    "    ingresos_años.append(round(row[\"Income_per_Vehicle (USD)\"],2))\n",
    "print(ingresos_años)"
   ]
  },
  {
   "cell_type": "code",
   "execution_count": 192,
   "metadata": {},
   "outputs": [
    {
     "name": "stdout",
     "output_type": "stream",
     "text": [
      "Las Millas recorridas en el año 2025 son 11762.56\n",
      "Las Millas recorridas en el año 2026 son 11703.94\n",
      "Las Millas recorridas en el año 2027 son 11656.52\n",
      "Las Millas recorridas en el año 2028 son 11556.92\n",
      "Las Millas recorridas en el año 2029 son 11587.08\n"
     ]
    }
   ],
   "source": [
    "año = 2025\n",
    "for _, row in future_data.iterrows():\n",
    "    globals()[f'Millas_Año_{año}'] = round(row[\"Miles_per_Vehicle\"],2)\n",
    "    print(f'Las Millas recorridas en el año {año} son {globals()[f\"Millas_Año_{año}\"]}')\n",
    "    año+=1"
   ]
  },
  {
   "cell_type": "code",
   "execution_count": 193,
   "metadata": {},
   "outputs": [
    {
     "name": "stdout",
     "output_type": "stream",
     "text": [
      "[11762.56, 11703.94, 11656.52, 11556.92, 11587.08]\n"
     ]
    }
   ],
   "source": [
    "millas_años = []\n",
    "for _, row in future_data.iterrows():\n",
    "    millas_años.append(round(row[\"Miles_per_Vehicle\"],2))\n",
    "print(millas_años)"
   ]
  },
  {
   "cell_type": "code",
   "execution_count": 194,
   "metadata": {},
   "outputs": [
    {
     "name": "stdout",
     "output_type": "stream",
     "text": [
      "[65357.06, 64802.76, 64302.32, 63485.52, 63408.43]\n",
      "[11762.56, 11703.94, 11656.52, 11556.92, 11587.08]\n"
     ]
    }
   ],
   "source": [
    "print(ingresos_años)\n",
    "print(millas_años)"
   ]
  },
  {
   "cell_type": "markdown",
   "metadata": {},
   "source": [
    "En esta sección se elabora el mecanismo para el cálculo del modelo de Flujo de Caja (Cash Flow) y los demas indicadores financieros.\n",
    "\n",
    "A continuación se presentaran las siguientes características:\n",
    "\n",
    "- Debido a que son dos tipos de autos con caracteristicas distintas se crean 2 clases para cada variante, que heredan de la clase madre «Auto».\n",
    "- Las caracteristicas que estructuran la clase «Auto Convencional» corresponden a una ponderacion que representa un propotipo de auto convencional promedio\n",
    "- Se crean funciones para el calculo de las variables financieras anteriormente mencionadas.\n",
    "- El objeto de análisis es un modelo de VE que compone el dataset y tambien de un prototipo promedio de un auto convencional.\n",
    "- El resultado es el dictámen financiero compuesto por las variables financieras expuestas.\n",
    "- Obtención de análisis comparativo entre un VE y un auto convencional.\n",
    "- Análisis Financiero de la totalidad de VE y ranking de los prototipos más rentables."
   ]
  },
  {
   "cell_type": "markdown",
   "metadata": {},
   "source": [
    "### Modelo de Flujo de Caja (Cash Flow) #1\n",
    "Análisis Financiero personalizado (por modelo VE)"
   ]
  },
  {
   "cell_type": "code",
   "execution_count": 195,
   "metadata": {},
   "outputs": [],
   "source": [
    "# Se crea la clase Auto y subclases para AutoConvencional y AutoElectrico\n",
    "class Auto:\n",
    "    def __init__(self, precio, iva, licencia_1, licencia_2, placa, inspeccion, seguro, recorrido_anual, ingresos_anuales, tasa_descuento):\n",
    "        self.precio = precio\n",
    "        self.iva = iva\n",
    "        self.licencia_1 = licencia_1\n",
    "        self.licencia_2 = licencia_2\n",
    "        self.placa = placa\n",
    "        self.inspeccion = inspeccion\n",
    "        self.seguro = seguro\n",
    "        self.recorrido_anual = recorrido_anual\n",
    "        self.ingresos_anuales = ingresos_anuales\n",
    "        self.tasa_descuento = tasa_descuento\n",
    "    \n",
    "    def inversion_inicial(self):\n",
    "        raise NotImplementedError\n",
    "    \n",
    "    def costos_operativos(self):\n",
    "        raise NotImplementedError\n",
    "    \n",
    "    def flujo_neto_anual(self):\n",
    "        return self.ingresos_anuales - self.costos_operativos()\n",
    "    \n",
    "    def flujo_caja_proyectado(self, años=5):\n",
    "        # Inversión inicial negativa porqué es el año 0\n",
    "        inversion_inicial = -self.inversion_inicial()\n",
    "        \n",
    "        ingresos_año = [0]\n",
    "        costos_año = [0]\n",
    "        flujo_neto = [0]  # Año 0: \n",
    "        flujo_descuento = [inversion_inicial]  # Año 0 Inversión inicial negativa\n",
    "        ingresos_descuento_año = [0]\n",
    "        # Se calcula el flujo neto anual y mensual para cada año\n",
    "        for año in range(1, años + 1):\n",
    "            self.ingresos_anuales = ingresos_años[año-1] # Codigo nuevo\n",
    "            self.recorrido_anual = millas_años[año-1] # Codigo nuevo\n",
    "            flujo_neto_actual = self.flujo_neto_anual()\n",
    "            flujo_neto.append(flujo_neto_actual)\n",
    "            flujo_descuento_actual = flujo_neto_actual / (1 + self.tasa_descuento) ** año\n",
    "            flujo_descuento.append(flujo_descuento_actual)\n",
    "            ingresos_año.append(self.ingresos_anuales)\n",
    "            ingresos_descuento_año.append(ingresos_años[año-1]  / (1 + self.tasa_descuento) ** año)\n",
    "            costos_año.append(self.costos_operativos())\n",
    "        \n",
    "        # Se crea el DataFrame de resultados\n",
    "        df_flujo_caja = pd.DataFrame({\n",
    "            'Año': range(0, años + 1),\n",
    "            'Ingresos': ingresos_año, \n",
    "            'Costos Operativos': costos_año,\n",
    "            'Flujo Neto': flujo_neto,\n",
    "            'Flujo Neto Descontado (10%)': flujo_descuento,\n",
    "            'Ingresos Descontado (10%)': ingresos_descuento_año\n",
    "        })\n",
    "        # Calculo el flujo total descontado para el ROI\n",
    "        return df_flujo_caja\n",
    "\n",
    "    def calcular_roi(self, flujo_total):\n",
    "        roi = ((1+ flujo_total/ self.inversion_inicial())**(1/5)-1)*100 #- self.inversion_inicial()\n",
    "        return round(roi, 2)\n",
    "\n",
    "    def calcular_ir(self, flujo_total):\n",
    "        ir = flujo_total / abs(self.inversion_inicial())\n",
    "        return round(ir, 2)\n",
    "\n",
    "    def calcular_payback_period(self):\n",
    "        flujo_acumulado = 0\n",
    "        payback = 0\n",
    "        for año in range(1, 5):\n",
    "            flujo_anual = self.flujo_neto_anual()\n",
    "            flujo_acumulado += flujo_anual\n",
    "            if flujo_acumulado >= abs(self.inversion_inicial()):\n",
    "                payback = año\n",
    "                break\n",
    "        return payback if payback > 0 else \"No recuperado en 5 años\"\n",
    "\n",
    "class AutoConvencional(Auto): #Licencia_1 = unico pago, licencia_2 = anual\n",
    "    def __init__(self, precio=36200, iva=0.08875, licencia_1=550,licencia_2=100, placa = 300,\n",
    "                 seguro=5000, inspeccion = 150,\n",
    "                 eficiencia=0.06, mantenimiento=0.15, recorrido_anual=promedio_millas, #mantenimiento = USD x Milla\n",
    "                 ingresos_anuales=promedio_ingresos, tasa_descuento=0.10):\n",
    "        super().__init__(precio, iva, licencia_1, licencia_2, placa, inspeccion,\n",
    "                         seguro, recorrido_anual, ingresos_anuales, tasa_descuento) # Se usa el super constructor para evitar redundancia ya que es una clase hija\n",
    "        self.eficiencia = eficiencia\n",
    "        self.mantenimiento = mantenimiento\n",
    "    \n",
    "    def inversion_inicial(self):\n",
    "        return self.precio * (1 + self.iva) + self.licencia_1\n",
    "    \n",
    "    def costos_operativos(self):\n",
    "        precio_gasolina_litro = 0.92 #USD x lt\n",
    "        costo_gasolina_anual = (self.recorrido_anual * self.eficiencia) * precio_gasolina_litro\n",
    "        costo_mantenimiento = self.mantenimiento * self.recorrido_anual\n",
    "        costo_anual_salario = 2342 * 21  # Precio medio de la hora de un conductor de autos convencionales.\n",
    "        return costo_gasolina_anual + costo_mantenimiento + self.seguro + self.licencia_2 + self.placa + self.inspeccion +costo_anual_salario\n",
    "\n",
    "class AutoElectrico(Auto): #Descuento de 5% al 10% en licencia ; Excencion del impuesto de venta\n",
    "    def __init__(self, precio, eficiencia, iva=0, licencia_1=495,licencia_2=100, placa = 300,\n",
    "                 seguro=1500, inspeccion = 100, mantenimiento=0.03, wallbox=600, \n",
    "                 recambio_bateria=5000, #mantenimiento = USD x Milla\n",
    "                 recorrido_anual=promedio_millas, ingresos_anuales=promedio_ingresos, tasa_descuento=0.10): #16529 #93227\n",
    "        super().__init__(precio, iva, licencia_1, licencia_2, placa, inspeccion, seguro, recorrido_anual, ingresos_anuales, tasa_descuento)\n",
    "        self.eficiencia = eficiencia\n",
    "        self.mantenimiento = mantenimiento\n",
    "        self.wallbox = wallbox\n",
    "        self.recambio_bateria = recambio_bateria\n",
    "    \n",
    "    def inversion_inicial(self):\n",
    "        return self.precio + self.licencia_1 + self.wallbox\n",
    "    \n",
    "    def costos_operativos(self):\n",
    "        precio_electricidad_kWh = 0.13 #USD x kHw\n",
    "        costo_electricidad_anual = (self.recorrido_anual * self.eficiencia) * precio_electricidad_kWh\n",
    "        costo_mantenimiento = self.mantenimiento * self.recorrido_anual\n",
    "        costo_anual_bateria = self.recambio_bateria / 12.5\n",
    "        costo_anual_salario = 2342 * 22.5 # Promedio de horas de menejo de un conductor por año * Precio promedio de la hora de un chofer de taxis en NY.\n",
    "        return costo_electricidad_anual + costo_mantenimiento + costo_anual_bateria + self.seguro + self.licencia_2 + self.placa + self.inspeccion + costo_anual_salario\n",
    "\n",
    "# Función para seleccionar el modelo del auto, calcular flujos e indicadores\n",
    "def comparar_flujo_caja_y_medir_indicadores(df_autos, modelo, tipo_auto):\n",
    "    # Se Filtra en el dataset para obtener el precio del modelo\n",
    "    filtro_modelo = df_autos[df_autos['Model'] == modelo]\n",
    "    \n",
    "    if filtro_modelo.empty:\n",
    "        print(f\"Modelo '{modelo}' no encontrado en el dataset.\")\n",
    "        return None\n",
    "    \n",
    "    precio = filtro_modelo['Precio Dolar'].values[0]\n",
    "    eficiencia = filtro_modelo['Efficiency (kWh/mile)'].values[0]\n",
    "    \n",
    "    # Instancio el auto eléctrico y el auto convencional\n",
    "    auto_electrico = AutoElectrico(precio, eficiencia)\n",
    "    auto_convencional = AutoConvencional()\n",
    "    \n",
    "    # Se calcula el flujo de caja proyectado\n",
    "    flujo_electrico = auto_electrico.flujo_caja_proyectado()\n",
    "    flujo_convencional = auto_convencional.flujo_caja_proyectado()\n",
    "    \n",
    "    # Sumo flujo neto descontado para cada tipo de auto (obtener total)\n",
    "    flujo_descuento_total_electrico = round(flujo_electrico['Flujo Neto Descontado (10%)'].sum(),2)\n",
    "    flujo_descuento_total_convencional = round(flujo_convencional['Flujo Neto Descontado (10%)'].sum(),2)\n",
    "\n",
    "    # Sumo ingresos descontado para cada tipo de auto (obtener total)\n",
    "    ingresos_descuento_total_electrico = round(flujo_electrico['Ingresos Descontado (10%)'].sum(),2)\n",
    "    ingresos_descuento_total_convencional = round(flujo_convencional['Ingresos Descontado (10%)'].sum(),2)\n",
    "\n",
    "    # Calculo del ROI, IR y Payback Period para cada auto\n",
    "    roi_electrico = auto_electrico.calcular_roi(flujo_descuento_total_electrico)\n",
    "    roi_convencional = auto_convencional.calcular_roi(flujo_descuento_total_convencional)\n",
    "    ir_electrico = auto_electrico.calcular_ir(ingresos_descuento_total_electrico)\n",
    "    ir_convencional = auto_convencional.calcular_ir(ingresos_descuento_total_convencional)\n",
    "    payback_electrico = auto_electrico.calcular_payback_period()\n",
    "    payback_convencional = auto_convencional.calcular_payback_period()\n",
    "    \n",
    "    df_flujo_electrico = pd.DataFrame(flujo_electrico)\n",
    "    df_flujo_convencional = pd.DataFrame(flujo_convencional)\n",
    "\n",
    "    # Resultados\n",
    "    print(f\"Flujo de Caja Proyectado para {modelo} (Eléctrico):\")\n",
    "    print(df_flujo_electrico)\n",
    "    \n",
    "    print(\"\\nFlujo de Caja Proyectado para Auto Convencional:\")\n",
    "    print(df_flujo_convencional)\n",
    "    \n",
    "    print(\"\\nComparación Financiera:\")\n",
    "    print(f\"Auto Eléctrico - Flujo Neto Descontado Total: {flujo_descuento_total_electrico}, ROI: {roi_electrico}%, IR: {ir_electrico} USD, Payback Period: {payback_electrico} años\")\n",
    "    print(f\"Auto Convencional - Flujo Neto Descontado Total: {flujo_descuento_total_convencional}, ROI: {roi_convencional}%, IR: {ir_convencional} USD, Payback Period: {payback_convencional} años\")"
   ]
  },
  {
   "cell_type": "markdown",
   "metadata": {},
   "source": [
    "Ejemplo de uso:"
   ]
  },
  {
   "cell_type": "code",
   "execution_count": 196,
   "metadata": {},
   "outputs": [],
   "source": [
    "# Dataset de VE\n",
    "df_autos = pd.read_csv(r'..\\datasets\\2. Depurados\\ElectricCarData_Clean.csv')#\"df_modelo.csv\")\n",
    "df_autos.rename(columns={\n",
    "    'model': 'Model',\n",
    "    'efficiency_whkm': 'Efficiency (Wh/km)'\n",
    "}, inplace=True)\n",
    "\n",
    "df_autos['Efficiency (kWh/mile)'] = df_autos['Efficiency (Wh/km)']/1000* 0.1688666667 \n",
    "df_autos['Precio Dolar'] = df_autos['price_euro'] * 1.06"
   ]
  },
  {
   "cell_type": "code",
   "execution_count": 197,
   "metadata": {},
   "outputs": [
    {
     "name": "stdout",
     "output_type": "stream",
     "text": [
      "Flujo de Caja Proyectado para Mii Electric  (Eléctrico):\n",
      "   Año  Ingresos  Costos Operativos   Flujo Neto  Flujo Neto Descontado (10%)  \\\n",
      "0    0      0.00           0.000000     0.000000                -22431.740000   \n",
      "1    1  65357.06       55490.741247  9866.318753                  8969.380685   \n",
      "2    2  64802.76       55488.769027  9313.990973                  7697.513201   \n",
      "3    3  64302.32       55487.173622  8815.146378                  6622.949946   \n",
      "4    4  63485.52       55483.822665  8001.697335                  5465.266945   \n",
      "5    5  63408.43       55484.837373  7923.592627                  4919.927618   \n",
      "\n",
      "   Ingresos Descontado (10%)  \n",
      "0                   0.000000  \n",
      "1               59415.509091  \n",
      "2               53556.000000  \n",
      "3               48311.284748  \n",
      "4               43361.464381  \n",
      "5               39371.646249  \n",
      "\n",
      "Flujo de Caja Proyectado para Auto Convencional:\n",
      "   Año  Ingresos  Costos Operativos   Flujo Neto  Flujo Neto Descontado (10%)  \\\n",
      "0    0      0.00           0.000000     0.000000                -39962.750000   \n",
      "1    1  65357.06       57145.677312  8211.382688                  7464.893353   \n",
      "2    2  64802.76       57133.648488  7669.111512                  6338.108688   \n",
      "3    3  64302.32       57123.917904  7178.402096                  5393.239742   \n",
      "4    4  63485.52       57103.479984  6382.040016                  4359.019204   \n",
      "5    5  63408.43       57109.668816  6298.761184                  3911.035128   \n",
      "\n",
      "   Ingresos Descontado (10%)  \n",
      "0                   0.000000  \n",
      "1               59415.509091  \n",
      "2               53556.000000  \n",
      "3               48311.284748  \n",
      "4               43361.464381  \n",
      "5               39371.646249  \n",
      "\n",
      "Comparación Financiera:\n",
      "Auto Eléctrico - Flujo Neto Descontado Total: 11243.3, ROI: 8.46%, IR: 10.88 USD, Payback Period: 3 años\n",
      "Auto Convencional - Flujo Neto Descontado Total: -12496.45, ROI: -7.23%, IR: 6.11 USD, Payback Period: No recuperado en 5 años años\n"
     ]
    }
   ],
   "source": [
    "modelo_auto = 'Mii Electric '  # El modelo elegido\n",
    "comparar_flujo_caja_y_medir_indicadores(df_autos,modelo_auto, AutoElectrico)"
   ]
  },
  {
   "cell_type": "markdown",
   "metadata": {},
   "source": [
    "A continuacion se exponen los modelos contenidos en el dataset para agregarlos en le input de la funcion."
   ]
  },
  {
   "cell_type": "code",
   "execution_count": 198,
   "metadata": {},
   "outputs": [],
   "source": [
    "#df_autos[\"Model\"].unique()"
   ]
  },
  {
   "cell_type": "markdown",
   "metadata": {},
   "source": [
    "### Modelo de Flujo de Caja (Cash Flow) #2:\n",
    "Ranking de rentabilidad financiera de todos los prototipos de VE contenidos en el dataset"
   ]
  },
  {
   "cell_type": "code",
   "execution_count": 199,
   "metadata": {},
   "outputs": [
    {
     "data": {
      "text/html": [
       "<div>\n",
       "<style scoped>\n",
       "    .dataframe tbody tr th:only-of-type {\n",
       "        vertical-align: middle;\n",
       "    }\n",
       "\n",
       "    .dataframe tbody tr th {\n",
       "        vertical-align: top;\n",
       "    }\n",
       "\n",
       "    .dataframe thead th {\n",
       "        text-align: right;\n",
       "    }\n",
       "</style>\n",
       "<table border=\"1\" class=\"dataframe\">\n",
       "  <thead>\n",
       "    <tr style=\"text-align: right;\">\n",
       "      <th></th>\n",
       "      <th>Modelo</th>\n",
       "      <th>Precio (USD)</th>\n",
       "      <th>Flujo Neto Descontado (USD)</th>\n",
       "      <th>ROI (%)</th>\n",
       "      <th>IR (USD)</th>\n",
       "      <th>Payback Period (Años)</th>\n",
       "    </tr>\n",
       "  </thead>\n",
       "  <tbody>\n",
       "    <tr>\n",
       "      <th>44</th>\n",
       "      <td>Mii Electric</td>\n",
       "      <td>21336.7</td>\n",
       "      <td>11243.3</td>\n",
       "      <td>8.46</td>\n",
       "      <td>10.88</td>\n",
       "      <td>3</td>\n",
       "    </tr>\n",
       "    <tr>\n",
       "      <th>82</th>\n",
       "      <td>EQ fortwo coupe</td>\n",
       "      <td>22670.2</td>\n",
       "      <td>9908.8</td>\n",
       "      <td>7.22</td>\n",
       "      <td>10.27</td>\n",
       "      <td>3</td>\n",
       "    </tr>\n",
       "    <tr>\n",
       "      <th>17</th>\n",
       "      <td>e-Up!</td>\n",
       "      <td>22706.3</td>\n",
       "      <td>9873.8</td>\n",
       "      <td>7.19</td>\n",
       "      <td>10.25</td>\n",
       "      <td>4</td>\n",
       "    </tr>\n",
       "    <tr>\n",
       "      <th>77</th>\n",
       "      <td>EQ forfour</td>\n",
       "      <td>23351.8</td>\n",
       "      <td>9218.5</td>\n",
       "      <td>6.61</td>\n",
       "      <td>9.98</td>\n",
       "      <td>4</td>\n",
       "    </tr>\n",
       "    <tr>\n",
       "      <th>43</th>\n",
       "      <td>CITIGOe iV</td>\n",
       "      <td>26006.0</td>\n",
       "      <td>6574.0</td>\n",
       "      <td>4.44</td>\n",
       "      <td>9.00</td>\n",
       "      <td>4</td>\n",
       "    </tr>\n",
       "  </tbody>\n",
       "</table>\n",
       "</div>"
      ],
      "text/plain": [
       "             Modelo  Precio (USD)  Flujo Neto Descontado (USD)  ROI (%)  \\\n",
       "44    Mii Electric        21336.7                      11243.3     8.46   \n",
       "82  EQ fortwo coupe       22670.2                       9908.8     7.22   \n",
       "17           e-Up!        22706.3                       9873.8     7.19   \n",
       "77      EQ forfour        23351.8                       9218.5     6.61   \n",
       "43      CITIGOe iV        26006.0                       6574.0     4.44   \n",
       "\n",
       "    IR (USD) Payback Period (Años)  \n",
       "44     10.88                     3  \n",
       "82     10.27                     3  \n",
       "17     10.25                     4  \n",
       "77      9.98                     4  \n",
       "43      9.00                     4  "
      ]
     },
     "execution_count": 199,
     "metadata": {},
     "output_type": "execute_result"
    }
   ],
   "source": [
    "# Definición de la función para calcular y comparar métricas\n",
    "def calcular_metricas_para_todos_los_modelos(df_autos):\n",
    "    resultados = []\n",
    "    resultados_conv = []\n",
    "\n",
    "    # Se itera sobre cada modelo en el dataset\n",
    "    for _, row in df_autos.iterrows(): #uso _, ya que no necesito el indice\n",
    "        modelo = row['Model']\n",
    "        precio = row['Precio Dolar']\n",
    "        eficiencia = row['Efficiency (kWh/mile)']\n",
    "        # Se instancia AutoEléctrico y AutoConvencional con el precio del modelo actual\n",
    "        auto_electrico = AutoElectrico(precio, eficiencia)\n",
    "        auto_convencional = AutoConvencional()\n",
    "\n",
    "        # Se calcula los flujos de caja proyectados para ambos tipos de autos\n",
    "        flujo_electrico = auto_electrico.flujo_caja_proyectado()\n",
    "        flujo_convencional = auto_convencional.flujo_caja_proyectado()\n",
    "\n",
    "        # Luego, se calcula el flujo neto descontado total\n",
    "        flujo_descuento_total_electrico = flujo_electrico['Flujo Neto Descontado (10%)'].sum()\n",
    "        flujo_descuento_total_convencional = flujo_convencional['Flujo Neto Descontado (10%)'].sum()\n",
    "\n",
    "        # Sumo ingresos descontado para cada tipo de auto (obtener total)\n",
    "        ingresos_descuento_total_electrico = round(flujo_electrico['Ingresos Descontado (10%)'].sum(),2)\n",
    "        ingresos_descuento_total_convencional = round(flujo_convencional['Ingresos Descontado (10%)'].sum(),2)\n",
    "\n",
    "\n",
    "        # Calculo ROI, IR y Payback Period\n",
    "        roi_electrico = auto_electrico.calcular_roi(flujo_descuento_total_electrico)\n",
    "        ir_electrico = auto_electrico.calcular_ir(ingresos_descuento_total_electrico)\n",
    "        payback_electrico = auto_electrico.calcular_payback_period()\n",
    "\n",
    "                # Calculo ROI, IR y Payback Period\n",
    "        roi_convencional = auto_convencional.calcular_roi(flujo_descuento_total_convencional)\n",
    "        ir_convencional = auto_convencional.calcular_ir(ingresos_descuento_total_convencional)\n",
    "        payback_convencional = auto_convencional.calcular_payback_period()\n",
    "\n",
    "        # Se agg los resultados a la lista\n",
    "        resultados.append({\n",
    "            'Modelo': modelo,\n",
    "            'Precio (USD)': round(precio,1),\n",
    "            'Flujo Neto Descontado (USD)': round(flujo_descuento_total_electrico,1),\n",
    "            'ROI (%)': roi_electrico,\n",
    "            'IR (USD)': ir_electrico,\n",
    "            'Payback Period (Años)': payback_electrico\n",
    "        })\n",
    "\n",
    "        # Se agg los resultados a la lista\n",
    "        resultados_conv.append({\n",
    "            'Modelo': \"Convenncional\",\n",
    "            'Precio (USD)': 15000,\n",
    "            'Flujo Neto Descontado (USD)': round(flujo_descuento_total_convencional,1),\n",
    "            'ROI (%)': roi_convencional,\n",
    "            'IR (USD)': ir_convencional,\n",
    "            'Payback Period (Años)': payback_convencional\n",
    "        })\n",
    "\n",
    "        # Se convierte a DataFrame\n",
    "    df_resultados = pd.DataFrame(resultados)\n",
    "    df_resultados_conv = pd.DataFrame(resultados_conv)\n",
    "    # Se obtienen los 5 mejores con nlargest\n",
    "    # top_5_modelos = df_resultados.nlargest(5, ['ROI (%)', 'IR (USD)', 'Flujo Neto Descontado (USD)'])\n",
    "    df_resultados = df_resultados.sort_values(by=\"ROI (%)\", ascending=False)\n",
    "    df_resultados_conv = df_resultados_conv.sort_values(by=\"ROI (%)\", ascending=False)\n",
    "\n",
    "    return df_resultados, df_resultados_conv\n",
    "    #return top_5_modelos\n",
    "\n",
    "# Se invoca la función para calcular métricas y obtener los top 5 modelos\n",
    "df_resultados,df_resultados_conv = calcular_metricas_para_todos_los_modelos(df_autos)\n",
    "\n",
    "df_resultados.head(5)"
   ]
  },
  {
   "cell_type": "code",
   "execution_count": 200,
   "metadata": {},
   "outputs": [
    {
     "data": {
      "text/html": [
       "<div>\n",
       "<style scoped>\n",
       "    .dataframe tbody tr th:only-of-type {\n",
       "        vertical-align: middle;\n",
       "    }\n",
       "\n",
       "    .dataframe tbody tr th {\n",
       "        vertical-align: top;\n",
       "    }\n",
       "\n",
       "    .dataframe thead th {\n",
       "        text-align: right;\n",
       "    }\n",
       "</style>\n",
       "<table border=\"1\" class=\"dataframe\">\n",
       "  <thead>\n",
       "    <tr style=\"text-align: right;\">\n",
       "      <th></th>\n",
       "      <th>Modelo</th>\n",
       "      <th>Precio (USD)</th>\n",
       "      <th>Flujo Neto Descontado (USD)</th>\n",
       "      <th>ROI (%)</th>\n",
       "      <th>IR (USD)</th>\n",
       "      <th>Payback Period (Años)</th>\n",
       "    </tr>\n",
       "  </thead>\n",
       "  <tbody>\n",
       "    <tr>\n",
       "      <th>0</th>\n",
       "      <td>Convenncional</td>\n",
       "      <td>15000</td>\n",
       "      <td>-12496.5</td>\n",
       "      <td>-7.23</td>\n",
       "      <td>6.11</td>\n",
       "      <td>No recuperado en 5 años</td>\n",
       "    </tr>\n",
       "    <tr>\n",
       "      <th>1</th>\n",
       "      <td>Convenncional</td>\n",
       "      <td>15000</td>\n",
       "      <td>-12496.5</td>\n",
       "      <td>-7.23</td>\n",
       "      <td>6.11</td>\n",
       "      <td>No recuperado en 5 años</td>\n",
       "    </tr>\n",
       "    <tr>\n",
       "      <th>2</th>\n",
       "      <td>Convenncional</td>\n",
       "      <td>15000</td>\n",
       "      <td>-12496.5</td>\n",
       "      <td>-7.23</td>\n",
       "      <td>6.11</td>\n",
       "      <td>No recuperado en 5 años</td>\n",
       "    </tr>\n",
       "    <tr>\n",
       "      <th>3</th>\n",
       "      <td>Convenncional</td>\n",
       "      <td>15000</td>\n",
       "      <td>-12496.5</td>\n",
       "      <td>-7.23</td>\n",
       "      <td>6.11</td>\n",
       "      <td>No recuperado en 5 años</td>\n",
       "    </tr>\n",
       "    <tr>\n",
       "      <th>4</th>\n",
       "      <td>Convenncional</td>\n",
       "      <td>15000</td>\n",
       "      <td>-12496.5</td>\n",
       "      <td>-7.23</td>\n",
       "      <td>6.11</td>\n",
       "      <td>No recuperado en 5 años</td>\n",
       "    </tr>\n",
       "  </tbody>\n",
       "</table>\n",
       "</div>"
      ],
      "text/plain": [
       "          Modelo  Precio (USD)  Flujo Neto Descontado (USD)  ROI (%)  \\\n",
       "0  Convenncional         15000                     -12496.5    -7.23   \n",
       "1  Convenncional         15000                     -12496.5    -7.23   \n",
       "2  Convenncional         15000                     -12496.5    -7.23   \n",
       "3  Convenncional         15000                     -12496.5    -7.23   \n",
       "4  Convenncional         15000                     -12496.5    -7.23   \n",
       "\n",
       "   IR (USD)    Payback Period (Años)  \n",
       "0      6.11  No recuperado en 5 años  \n",
       "1      6.11  No recuperado en 5 años  \n",
       "2      6.11  No recuperado en 5 años  \n",
       "3      6.11  No recuperado en 5 años  \n",
       "4      6.11  No recuperado en 5 años  "
      ]
     },
     "execution_count": 200,
     "metadata": {},
     "output_type": "execute_result"
    }
   ],
   "source": [
    "df_resultados_conv.head(5)"
   ]
  }
 ],
 "metadata": {
  "kernelspec": {
   "display_name": "Python 3",
   "language": "python",
   "name": "python3"
  },
  "language_info": {
   "codemirror_mode": {
    "name": "ipython",
    "version": 3
   },
   "file_extension": ".py",
   "mimetype": "text/x-python",
   "name": "python",
   "nbconvert_exporter": "python",
   "pygments_lexer": "ipython3",
   "version": "3.12.1"
  }
 },
 "nbformat": 4,
 "nbformat_minor": 2
}
