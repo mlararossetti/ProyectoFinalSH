{
 "cells": [
  {
   "cell_type": "markdown",
   "metadata": {},
   "source": [
    "### Análisis Financiero de Plan de Negocios\n",
    "En este notebook se construye un modelo que permita calcular el Flujo de Caja (Cash Flow) y otros indicadores financieros tales como: ROI (Return On Investment), IR (Indice de Rentabilidad) y Payback Period, de una ruta combinada (compuesta por VE y autos convencionales) y ver la composición de está flota para el alcance de estos indicadores."
   ]
  },
  {
   "cell_type": "markdown",
   "metadata": {},
   "source": [
    "Se importan las librerias necesarias."
   ]
  },
  {
   "cell_type": "code",
   "execution_count": 1,
   "metadata": {},
   "outputs": [],
   "source": [
    "import pandas as pd "
   ]
  },
  {
   "cell_type": "markdown",
   "metadata": {},
   "source": [
    "Se importan los datasets que contienen la información requerida para el análisis."
   ]
  },
  {
   "cell_type": "code",
   "execution_count": 2,
   "metadata": {},
   "outputs": [],
   "source": [
    "# Dataset de VE\n",
    "# df_autos = pd.read_csv(\"df_modelo.csv\") # Dataset de VE\n",
    "df_autos = pd.read_csv(r'..\\datasets\\2. Depurados\\ElectricCarData_Clean.csv')#\"df_modelo.csv\")\n",
    "df_autos.rename(columns={\n",
    "    'model': 'Model',\n",
    "    'efficiency_whkm': 'Efficiency (Wh/km)'\n",
    "}, inplace=True)\n",
    "\n",
    "df_autos['Efficiency (kWh/mile)'] = df_autos['Efficiency (Wh/km)']/1000* 0.1688666667 \n",
    "df_autos['Precio Dolar'] = df_autos['price_euro'] * 1.06"
   ]
  },
  {
   "cell_type": "code",
   "execution_count": 3,
   "metadata": {},
   "outputs": [],
   "source": [
    "#future_data = pd.read_csv(r\"Prediccion_Dataset.csv\", index_col = 0) # Resultados del modelo ML (pronostico a 5 años)\n",
    "future_data = pd.read_csv(r\"..\\datasets\\2. Depurados\\TLC Aggregated Data\\ML_TS_Output_Anualized.csv\")\n",
    "future_data = future_data[future_data['industry']=='FHV - High Volume']"
   ]
  },
  {
   "cell_type": "code",
   "execution_count": 4,
   "metadata": {},
   "outputs": [],
   "source": [
    "future_data.rename(columns={\n",
    "    'anual_income_per_vehicle': 'Income_per_Vehicle (USD)',\n",
    "    'anual_distance_per_vehicle': 'Miles_per_Vehicle',\n",
    "    #'anual_hours_per_driver': 'Hours_per_Driver',\n",
    "    'anual_total_co2_emissio': 'Total_CO2_Emissions'\n",
    "}, inplace=True)\n",
    "#anual_hours_per_driver = future_data[future_data['year']<2025]['Hours_per_Driver'].mean()\n",
    "future_data =  future_data[future_data['year']>=2025]"
   ]
  },
  {
   "cell_type": "markdown",
   "metadata": {},
   "source": [
    "Se obtiene el promedio de las variables (ingreso anual y millas recorridas por año) para un primer acercamiento y entendimiento del comportamiento de las variables."
   ]
  },
  {
   "cell_type": "code",
   "execution_count": 5,
   "metadata": {},
   "outputs": [
    {
     "name": "stdout",
     "output_type": "stream",
     "text": [
      "El promedio de ingresos anuales es: 59327.19\n",
      "El promedio de millas recorridas anualmente es : 10873.13\n"
     ]
    },
    {
     "ename": "NameError",
     "evalue": "name 'anual_hours_per_driver' is not defined",
     "output_type": "error",
     "traceback": [
      "\u001b[1;31m---------------------------------------------------------------------------\u001b[0m",
      "\u001b[1;31mNameError\u001b[0m                                 Traceback (most recent call last)",
      "Cell \u001b[1;32mIn[5], line 5\u001b[0m\n\u001b[0;32m      3\u001b[0m \u001b[38;5;28mprint\u001b[39m(\u001b[38;5;124mf\u001b[39m\u001b[38;5;124m'\u001b[39m\u001b[38;5;124mEl promedio de ingresos anuales es: \u001b[39m\u001b[38;5;132;01m{\u001b[39;00mpromedio_ingresos\u001b[38;5;132;01m}\u001b[39;00m\u001b[38;5;124m'\u001b[39m)\n\u001b[0;32m      4\u001b[0m \u001b[38;5;28mprint\u001b[39m(\u001b[38;5;124mf\u001b[39m\u001b[38;5;124m'\u001b[39m\u001b[38;5;124mEl promedio de millas recorridas anualmente es : \u001b[39m\u001b[38;5;132;01m{\u001b[39;00mpromedio_millas\u001b[38;5;132;01m}\u001b[39;00m\u001b[38;5;124m'\u001b[39m)\n\u001b[1;32m----> 5\u001b[0m \u001b[38;5;28mprint\u001b[39m(\u001b[38;5;124mf\u001b[39m\u001b[38;5;124m'\u001b[39m\u001b[38;5;124mEl promedio de cantidad de horas de manejo : \u001b[39m\u001b[38;5;132;01m{\u001b[39;00m\u001b[43manual_hours_per_driver\u001b[49m\u001b[38;5;132;01m}\u001b[39;00m\u001b[38;5;124m'\u001b[39m)\n",
      "\u001b[1;31mNameError\u001b[0m: name 'anual_hours_per_driver' is not defined"
     ]
    }
   ],
   "source": [
    "promedio_ingresos = round(future_data[\"Income_per_Vehicle (USD)\"].mean(),2)\n",
    "promedio_millas = round(future_data[\"Miles_per_Vehicle\"].mean(),2)\n",
    "print(f'El promedio de ingresos anuales es: {promedio_ingresos}')\n",
    "print(f'El promedio de millas recorridas anualmente es : {promedio_millas}')\n",
    "print(f'El promedio de cantidad de horas de manejo : {anual_hours_per_driver}')"
   ]
  },
  {
   "cell_type": "markdown",
   "metadata": {},
   "source": [
    "A continuación se asigna a cada dato una variable que almacena su información."
   ]
  },
  {
   "cell_type": "code",
   "execution_count": null,
   "metadata": {},
   "outputs": [
    {
     "name": "stdout",
     "output_type": "stream",
     "text": [
      "Los ingresos para el año 2025 son 65357.06\n",
      "Los ingresos para el año 2026 son 64802.76\n",
      "Los ingresos para el año 2027 son 64302.32\n",
      "Los ingresos para el año 2028 son 63485.52\n",
      "Los ingresos para el año 2029 son 63408.43\n"
     ]
    }
   ],
   "source": [
    "año = 2025\n",
    "for _, row in future_data.iterrows():  # iterrows() en lugar de interrows()\n",
    "    globals()[f'Ingresos_año_{año}'] = round(row[\"Income_per_Vehicle (USD)\"],2)\n",
    "    print(f'Los ingresos para el año {año} son {globals()[f\"Ingresos_año_{año}\"]}')\n",
    "    año += 1"
   ]
  },
  {
   "cell_type": "code",
   "execution_count": null,
   "metadata": {},
   "outputs": [
    {
     "name": "stdout",
     "output_type": "stream",
     "text": [
      "[65357.06, 64802.76, 64302.32, 63485.52, 63408.43]\n"
     ]
    }
   ],
   "source": [
    "ingresos_años = []\n",
    "for _, row in future_data.iterrows():\n",
    "    ingresos_años.append(round(row[\"Income_per_Vehicle (USD)\"],2))\n",
    "print(ingresos_años)"
   ]
  },
  {
   "cell_type": "code",
   "execution_count": null,
   "metadata": {},
   "outputs": [
    {
     "name": "stdout",
     "output_type": "stream",
     "text": [
      "Las Millas recorridas en el año 2025 son 11762.56\n",
      "Las Millas recorridas en el año 2026 son 11703.94\n",
      "Las Millas recorridas en el año 2027 son 11656.52\n",
      "Las Millas recorridas en el año 2028 son 11556.92\n",
      "Las Millas recorridas en el año 2029 son 11587.08\n"
     ]
    }
   ],
   "source": [
    "año = 2025\n",
    "for _, row in future_data.iterrows():\n",
    "    globals()[f'Millas_Año_{año}'] = round(row[\"Miles_per_Vehicle\"],2)\n",
    "    print(f'Las Millas recorridas en el año {año} son {globals()[f\"Millas_Año_{año}\"]}')\n",
    "    año+=1"
   ]
  },
  {
   "cell_type": "code",
   "execution_count": null,
   "metadata": {},
   "outputs": [
    {
     "name": "stdout",
     "output_type": "stream",
     "text": [
      "[11762.56, 11703.94, 11656.52, 11556.92, 11587.08]\n"
     ]
    }
   ],
   "source": [
    "millas_años = []\n",
    "for _, row in future_data.iterrows():\n",
    "    millas_años.append(round(row[\"Miles_per_Vehicle\"],2))\n",
    "print(millas_años)"
   ]
  },
  {
   "cell_type": "markdown",
   "metadata": {},
   "source": [
    "### Clases:\n",
    "\n",
    "Se crea una clase «Auto» que contiene caracteristicas generales de este objeto. Luego en cada clase que hereda (Auto Electrico y convencional) se personalizan estas propiedades y se agregan nuevas.\n",
    "\n",
    "Tambien se crean las funciones para el calculo del Cash Flow y los demas indicadores financieros."
   ]
  },
  {
   "cell_type": "code",
   "execution_count": null,
   "metadata": {},
   "outputs": [],
   "source": [
    "class Auto:\n",
    "    def __init__(self, precio, iva, licencia_1, licencia_2, placa, inspeccion, seguro, recorrido_anual, ingresos_anuales, tasa_descuento):\n",
    "        self.precio = precio\n",
    "        self.iva = iva\n",
    "        self.licencia_1 = licencia_1\n",
    "        self.licencia_2 = licencia_2\n",
    "        self.placa = placa\n",
    "        self.inspeccion = inspeccion\n",
    "        self.seguro = seguro\n",
    "        self.recorrido_anual = recorrido_anual\n",
    "        self.ingresos_anuales = ingresos_anuales\n",
    "        self.tasa_descuento = tasa_descuento\n",
    "    \n",
    "    def inversion_inicial(self):\n",
    "        raise NotImplementedError\n",
    "    \n",
    "    def costos_operativos(self):\n",
    "        raise NotImplementedError\n",
    "    \n",
    "    def flujo_neto_anual(self):\n",
    "        return self.ingresos_anuales - self.costos_operativos()\n",
    "    \n",
    "    def flujo_caja_proyectado(self, años=5):\n",
    "        # Inversión inicial negativa porqué es el año 0\n",
    "        inversion_inicial = -self.inversion_inicial()\n",
    "        \n",
    "        ingresos_año = [0]\n",
    "        costos_año = [0]\n",
    "        flujo_neto = [0]  # Año 0: \n",
    "        flujo_descuento = [inversion_inicial]  # Año 0 Inversión inicial negativa\n",
    "        ingresos_descuento_año = [0]\n",
    "        # Se calcula el flujo neto anual y mensual para cada año\n",
    "        for año in range(1, años + 1):\n",
    "            self.ingresos_anuales = ingresos_años[año-1] # Codigo nuevo\n",
    "            self.recorrido_anual = millas_años[año-1] # Codigo nuevo\n",
    "            flujo_neto_actual = self.flujo_neto_anual()\n",
    "            flujo_neto.append(flujo_neto_actual)\n",
    "            flujo_descuento_actual = flujo_neto_actual / (1 + self.tasa_descuento) ** año\n",
    "            flujo_descuento.append(flujo_descuento_actual)\n",
    "            ingresos_año.append(self.ingresos_anuales)\n",
    "            ingresos_descuento_año.append(ingresos_años[año-1]  / (1 + self.tasa_descuento) ** año)\n",
    "            costos_año.append(self.costos_operativos())\n",
    "        \n",
    "        # Se crea el DataFrame de resultados\n",
    "        df_flujo_caja = pd.DataFrame({\n",
    "            'Año': range(0, años + 1),\n",
    "            'Ingresos': ingresos_año, \n",
    "            'Costos Operativos': costos_año,\n",
    "            'Flujo Neto': flujo_neto,\n",
    "            'Flujo Neto Descontado (10%)': flujo_descuento,\n",
    "            'Ingresos Descontado (10%)': ingresos_descuento_año\n",
    "        })\n",
    "        # Calculo el flujo total descontado para el ROI\n",
    "        # flujo_total = sum(flujo_descuento)\n",
    "        # print(flujo_total)\n",
    "        return df_flujo_caja\n",
    "\n",
    "    def calcular_roi(self, flujo_total):\n",
    "        roi = ((1+ flujo_total/ self.inversion_inicial())**(1/5)-1)*100 #- self.inversion_inicial()\n",
    "        return round(roi, 2)\n",
    "\n",
    "    def calcular_ir(self, flujo_total):\n",
    "        ir = flujo_total / abs(self.inversion_inicial())\n",
    "        return round(ir, 2)\n",
    "\n",
    "    def calcular_payback_period(self):\n",
    "        flujo_acumulado = 0\n",
    "        payback = 0\n",
    "        for año in range(1, 11):\n",
    "            flujo_anual = self.flujo_neto_anual()\n",
    "            flujo_acumulado += flujo_anual\n",
    "            if flujo_acumulado >= abs(self.inversion_inicial()):\n",
    "                payback = año\n",
    "                break\n",
    "        return payback if payback > 0 else \"No recuperado en 10 años\"\n"
   ]
  },
  {
   "cell_type": "markdown",
   "metadata": {},
   "source": [
    "Creación de clase de «Auto Convencional»"
   ]
  },
  {
   "cell_type": "code",
   "execution_count": null,
   "metadata": {},
   "outputs": [],
   "source": [
    "class AutoConvencional(Auto): #Licencia_1 = unico pago, licencia_2 = anual\n",
    "    def __init__(self, precio=36200, iva=0.08875, licencia_1=550,licencia_2=100, placa = 300,\n",
    "                 seguro=5000, inspeccion = 150,\n",
    "                 eficiencia=0.06, mantenimiento=0.15, recorrido_anual=promedio_millas, #mantenimiento = USD x Milla\n",
    "                 ingresos_anuales=promedio_ingresos, tasa_descuento=0.10):\n",
    "        super().__init__(precio, iva, licencia_1, licencia_2, placa, inspeccion,\n",
    "                         seguro, recorrido_anual, ingresos_anuales, tasa_descuento) # Se usa el super constructor para evitar redundancia ya que es una clase hija\n",
    "        self.eficiencia = eficiencia\n",
    "        self.mantenimiento = mantenimiento\n",
    "    \n",
    "    def inversion_inicial(self):\n",
    "        return self.precio * (1 + self.iva) + self.licencia_1\n",
    "    \n",
    "    def costos_operativos(self):\n",
    "        precio_gasolina_litro = 0.92 #USD x lt\n",
    "        costo_gasolina_anual = (self.recorrido_anual * self.eficiencia) * precio_gasolina_litro\n",
    "        costo_mantenimiento = self.mantenimiento * self.recorrido_anual\n",
    "        costo_anual_salario = 2342 * 21 # Precio medio de la hora de un conductor de autos convencionales.\n",
    "        return costo_gasolina_anual + costo_mantenimiento + self.seguro + self.licencia_2 + self.placa + self.inspeccion + costo_anual_salario\n"
   ]
  },
  {
   "cell_type": "markdown",
   "metadata": {},
   "source": [
    "Creación de clase de «Auto Electrico»"
   ]
  },
  {
   "cell_type": "code",
   "execution_count": null,
   "metadata": {},
   "outputs": [],
   "source": [
    "class AutoElectrico(Auto): #Descuento de 5% al 10% en licencia ; Excencion del impuesto de venta\n",
    "    def __init__(self, precio, eficiencia, iva=0, licencia_1=495,licencia_2=100, placa = 300,\n",
    "                 seguro=1500, inspeccion = 100, mantenimiento=0.03, wallbox=600, \n",
    "                 recambio_bateria=5000, #mantenimiento = USD x Milla\n",
    "                 recorrido_anual=promedio_millas, ingresos_anuales=promedio_ingresos, tasa_descuento=0.10): #16529 #93227\n",
    "        super().__init__(precio, iva, licencia_1, licencia_2, placa, inspeccion, seguro, recorrido_anual, ingresos_anuales, tasa_descuento)\n",
    "        self.eficiencia = eficiencia\n",
    "        self.mantenimiento = mantenimiento\n",
    "        self.wallbox = wallbox\n",
    "        self.recambio_bateria = recambio_bateria\n",
    "    \n",
    "    def inversion_inicial(self):\n",
    "        return self.precio + self.licencia_1 + self.wallbox\n",
    "    \n",
    "    def costos_operativos(self):\n",
    "        precio_electricidad_kWh = 0.13 #USD x kHw\n",
    "        costo_electricidad_anual = (self.recorrido_anual * self.eficiencia) * precio_electricidad_kWh\n",
    "        costo_mantenimiento = self.mantenimiento * self.recorrido_anual\n",
    "        costo_anual_bateria = self.recambio_bateria / 12.5\n",
    "        costo_anual_salario = 2342 * 22.5 # Promedio de horas de menejo de un conductor por año * Precio promedio de la hora de un chofer de taxis en NY.\n",
    "        return costo_electricidad_anual + costo_mantenimiento + costo_anual_bateria + self.seguro + self.licencia_2 + self.placa + self.inspeccion + costo_anual_salario\n"
   ]
  },
  {
   "cell_type": "markdown",
   "metadata": {},
   "source": [
    "### Modelo #3:\n",
    "Análisis Financiero de Flota Combinada (VE y auto convencional)\n",
    "\n",
    "Esta función estudia el comportamiento de cada uno de los prototipos del Dataset de VE relacionado a los indicadores financieros anteriormente delineados.\n",
    "En cuanto al auto convencional se construye un propotipo prototipo como muestra."
   ]
  },
  {
   "cell_type": "code",
   "execution_count": null,
   "metadata": {},
   "outputs": [],
   "source": [
    "def calcular_metricas_flota(cantidad_ve, cantidad_conv):\n",
    "    resultados = []\n",
    "\n",
    "    for _, fila in df_autos.iterrows():\n",
    "        # Se extraen los datos del Dataset\n",
    "        modelo = fila['Model']\n",
    "        precio_ve = fila['Precio Dolar']\n",
    "        eficiencia_ve = fila['Efficiency (kWh/mile)']\n",
    "        \n",
    "        # Se instancian los autos segun su naturaleza (electrico o convencional)\n",
    "        auto_electrico = AutoElectrico(precio=precio_ve, eficiencia=eficiencia_ve)\n",
    "        auto_convencional = AutoConvencional()\n",
    "        \n",
    "        # Se calcula el flujo de caja proyectado para cada tipo de auto\n",
    "        flujo_ve = auto_electrico.flujo_caja_proyectado()\n",
    "        flujo_conv = auto_convencional.flujo_caja_proyectado()\n",
    "        \n",
    "        # Se combinar flujos de caja para la flota (teniendo en cuenta su respectiva cantidad)\n",
    "        flujo_neto_comb = round(\n",
    "            cantidad_ve * flujo_ve['Flujo Neto Descontado (10%)'].sum() +\n",
    "            cantidad_conv * flujo_conv['Flujo Neto Descontado (10%)'].sum(), 2\n",
    "        )\n",
    "        \n",
    "        ingreso_comb =  round(\n",
    "            cantidad_ve * flujo_ve['Ingresos Descontado (10%)'].sum() +\n",
    "            cantidad_conv * flujo_conv['Ingresos Descontado (10%)'].sum(), 2\n",
    "        )\n",
    "\n",
    "        # Se calcula  la inversión inicial combinada\n",
    "        inversion_comb = round(\n",
    "            cantidad_ve * auto_electrico.inversion_inicial() +\n",
    "            cantidad_conv * auto_convencional.inversion_inicial(), 2\n",
    "        )\n",
    "        \n",
    "        # Se calcular las métricas financieras combinadas\n",
    "        roi_comb = ((1+flujo_neto_comb/inversion_comb)**(1/5)-1)*100\n",
    "        ir_comb = ingreso_comb / abs(inversion_comb)\n",
    "        \n",
    "        # Calculo del payback period combinado (considerando la proporción)\n",
    "        flujo_anual_comb = [\n",
    "            cantidad_ve * flujo_ve['Flujo Neto'].iloc[año] +\n",
    "            cantidad_conv * flujo_conv['Flujo Neto'].iloc[año]\n",
    "            for año in range(1, 6)\n",
    "        ]\n",
    "        flujo_acumulado = 0\n",
    "        payback_comb = 0\n",
    "        for año, flujo in enumerate(flujo_anual_comb, start=1):\n",
    "            flujo_acumulado += flujo\n",
    "            if flujo_acumulado >= abs(inversion_comb):\n",
    "                payback_comb = año\n",
    "                break\n",
    "        \n",
    "        # Se almacenan los resultados para el modelo actual\n",
    "        resultados.append({\n",
    "            'Modelo': modelo,\n",
    "            'Flujo Neto Total (USD/año)': round(flujo_neto_comb ,2),\n",
    "            'ROI (%)': round(roi_comb, 2),\n",
    "            'IR (USD)': round(ir_comb, 2),\n",
    "            'Payback Period (años)': payback_comb if payback_comb > 0 else \"No recuperado en 10 años\"\n",
    "        })\n",
    "\n",
    "    # Se convertierten los resultados a tipo DataFrame para una mejor visualización\n",
    "    df_resultados = pd.DataFrame(resultados)\n",
    "    df_resultados = df_resultados.sort_values(by=\"ROI (%)\", ascending=False).reset_index(drop=True) # Se ordena para tener el ranking \n",
    "\n",
    "\n",
    "    return df_resultados\n"
   ]
  },
  {
   "cell_type": "markdown",
   "metadata": {},
   "source": [
    "Ejemplo de uso:"
   ]
  },
  {
   "cell_type": "code",
   "execution_count": null,
   "metadata": {},
   "outputs": [
    {
     "data": {
      "text/html": [
       "<div>\n",
       "<style scoped>\n",
       "    .dataframe tbody tr th:only-of-type {\n",
       "        vertical-align: middle;\n",
       "    }\n",
       "\n",
       "    .dataframe tbody tr th {\n",
       "        vertical-align: top;\n",
       "    }\n",
       "\n",
       "    .dataframe thead th {\n",
       "        text-align: right;\n",
       "    }\n",
       "</style>\n",
       "<table border=\"1\" class=\"dataframe\">\n",
       "  <thead>\n",
       "    <tr style=\"text-align: right;\">\n",
       "      <th></th>\n",
       "      <th>Modelo</th>\n",
       "      <th>Flujo Neto Total (USD/año)</th>\n",
       "      <th>ROI (%)</th>\n",
       "      <th>IR (USD)</th>\n",
       "      <th>Payback Period (años)</th>\n",
       "    </tr>\n",
       "  </thead>\n",
       "  <tbody>\n",
       "    <tr>\n",
       "      <th>0</th>\n",
       "      <td>Mii Electric</td>\n",
       "      <td>11243.30</td>\n",
       "      <td>8.46</td>\n",
       "      <td>10.88</td>\n",
       "      <td>3</td>\n",
       "    </tr>\n",
       "    <tr>\n",
       "      <th>1</th>\n",
       "      <td>EQ fortwo coupe</td>\n",
       "      <td>9908.85</td>\n",
       "      <td>7.22</td>\n",
       "      <td>10.27</td>\n",
       "      <td>3</td>\n",
       "    </tr>\n",
       "    <tr>\n",
       "      <th>2</th>\n",
       "      <td>e-Up!</td>\n",
       "      <td>9873.78</td>\n",
       "      <td>7.19</td>\n",
       "      <td>10.25</td>\n",
       "      <td>3</td>\n",
       "    </tr>\n",
       "    <tr>\n",
       "      <th>3</th>\n",
       "      <td>EQ forfour</td>\n",
       "      <td>9218.53</td>\n",
       "      <td>6.61</td>\n",
       "      <td>9.98</td>\n",
       "      <td>3</td>\n",
       "    </tr>\n",
       "    <tr>\n",
       "      <th>4</th>\n",
       "      <td>CITIGOe iV</td>\n",
       "      <td>6574.00</td>\n",
       "      <td>4.44</td>\n",
       "      <td>9.00</td>\n",
       "      <td>3</td>\n",
       "    </tr>\n",
       "  </tbody>\n",
       "</table>\n",
       "</div>"
      ],
      "text/plain": [
       "            Modelo  Flujo Neto Total (USD/año)  ROI (%)  IR (USD)  \\\n",
       "0    Mii Electric                     11243.30     8.46     10.88   \n",
       "1  EQ fortwo coupe                     9908.85     7.22     10.27   \n",
       "2           e-Up!                      9873.78     7.19     10.25   \n",
       "3      EQ forfour                      9218.53     6.61      9.98   \n",
       "4      CITIGOe iV                      6574.00     4.44      9.00   \n",
       "\n",
       "  Payback Period (años)  \n",
       "0                     3  \n",
       "1                     3  \n",
       "2                     3  \n",
       "3                     3  \n",
       "4                     3  "
      ]
     },
     "execution_count": 166,
     "metadata": {},
     "output_type": "execute_result"
    }
   ],
   "source": [
    "resultados_flota = calcular_metricas_flota(600, 400) # Primer Parámetro : Cantidad VE; Segundo Parámetro : Cantidad Autos Convencional\n",
    "resultados_flota.head(5) # head (5) para obtener el Ranking "
   ]
  }
 ],
 "metadata": {
  "kernelspec": {
   "display_name": "Python 3",
   "language": "python",
   "name": "python3"
  },
  "language_info": {
   "codemirror_mode": {
    "name": "ipython",
    "version": 3
   },
   "file_extension": ".py",
   "mimetype": "text/x-python",
   "name": "python",
   "nbconvert_exporter": "python",
   "pygments_lexer": "ipython3",
   "version": "3.12.1"
  }
 },
 "nbformat": 4,
 "nbformat_minor": 2
}
