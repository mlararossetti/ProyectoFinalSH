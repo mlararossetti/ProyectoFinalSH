{
 "cells": [
  {
   "cell_type": "markdown",
   "metadata": {},
   "source": [
    "### Análisis Financiero de Plan de Negocios\n",
    "En este notebook se construye un modelo que permita calcular el Flujo de Caja (Cash Flow) y otros indicadores financieros tales como: ROI (Return On Investment), IR (Indice de Rentabilidad) y Payback Period, de una ruta combinada (compuesta por VE y autos convencionales) y ver la composición de está flota para el alcance de estos indicadores."
   ]
  },
  {
   "cell_type": "markdown",
   "metadata": {},
   "source": [
    "Se importan las librerias necesarias."
   ]
  },
  {
   "cell_type": "code",
   "execution_count": null,
   "metadata": {},
   "outputs": [],
   "source": [
    "import pandas as pd "
   ]
  },
  {
   "cell_type": "markdown",
   "metadata": {},
   "source": [
    "Se importan los datasets que contienen la información requerida para el análisis."
   ]
  },
  {
   "cell_type": "code",
   "execution_count": null,
   "metadata": {},
   "outputs": [],
   "source": [
    "df_autos = pd.read_csv(\"df_modelo.csv\") # Dataset de VE\n",
    "future_data = pd.read_csv(r\"Prediccion_Dataset.csv\", index_col = 0) # Resultados del modelo ML (pronostico a 5 años)"
   ]
  },
  {
   "cell_type": "markdown",
   "metadata": {},
   "source": [
    "Se obtiene el promedio de las variables (ingreso anual y millas recorridas por año) para un primer acercamiento y entendimiento del comportamiento de las variables."
   ]
  },
  {
   "cell_type": "code",
   "execution_count": 4,
   "metadata": {},
   "outputs": [
    {
     "name": "stdout",
     "output_type": "stream",
     "text": [
      "El promedio de ingresos anuales es: 64271.22\n",
      "El promedio de millas recorridas anualmente es : 11653.4\n"
     ]
    }
   ],
   "source": [
    "promedio_ingresos = round(future_data[\"Income_per_Vehicle (USD)\"].mean(),2)\n",
    "promedio_millas = round(future_data[\"Miles_per_Vehicle\"].mean(),2)\n",
    "print(f'El promedio de ingresos anuales es: {promedio_ingresos}')\n",
    "print(f'El promedio de millas recorridas anualmente es : {promedio_millas}')"
   ]
  },
  {
   "cell_type": "markdown",
   "metadata": {},
   "source": [
    "A continuación se asigna a cada dato una variable que almacena su información."
   ]
  },
  {
   "cell_type": "code",
   "execution_count": 5,
   "metadata": {},
   "outputs": [
    {
     "name": "stdout",
     "output_type": "stream",
     "text": [
      "Los ingresos para el año 2025 son 65357.06\n",
      "Los ingresos para el año 2026 son 64802.76\n",
      "Los ingresos para el año 2027 son 64302.32\n",
      "Los ingresos para el año 2028 son 63485.52\n",
      "Los ingresos para el año 2029 son 63408.43\n"
     ]
    }
   ],
   "source": [
    "año = 2025\n",
    "for _, row in future_data.iterrows():  # iterrows() en lugar de interrows()\n",
    "    globals()[f'Ingresos_año_{año}'] = row[\"Income_per_Vehicle (USD)\"]\n",
    "    print(f'Los ingresos para el año {año} son {globals()[f\"Ingresos_año_{año}\"]}')\n",
    "    año += 1"
   ]
  },
  {
   "cell_type": "code",
   "execution_count": 6,
   "metadata": {},
   "outputs": [
    {
     "name": "stdout",
     "output_type": "stream",
     "text": [
      "[65357.06, 64802.76, 64302.32, 63485.52, 63408.43]\n"
     ]
    }
   ],
   "source": [
    "ingresos_años = []\n",
    "\n",
    "for _, row in future_data.iterrows():\n",
    "    ingresos_años.append(row[\"Income_per_Vehicle (USD)\"])\n",
    "print(ingresos_años)"
   ]
  },
  {
   "cell_type": "code",
   "execution_count": 7,
   "metadata": {},
   "outputs": [
    {
     "name": "stdout",
     "output_type": "stream",
     "text": [
      "Las Millas recorridas en el año 2025 son 11762.56\n",
      "Las Millas recorridas en el año 2026 son 11703.94\n",
      "Las Millas recorridas en el año 2027 son 11656.52\n",
      "Las Millas recorridas en el año 2028 son 11556.92\n",
      "Las Millas recorridas en el año 2029 son 11587.08\n"
     ]
    }
   ],
   "source": [
    "año = 2025\n",
    "\n",
    "for _, row in future_data.iterrows():\n",
    "    globals()[f'Millas_Año_{año}'] = row[\"Miles_per_Vehicle\"]\n",
    "    print(f'Las Millas recorridas en el año {año} son {globals()[f\"Millas_Año_{año}\"]}')\n",
    "    año+=1"
   ]
  },
  {
   "cell_type": "code",
   "execution_count": 8,
   "metadata": {},
   "outputs": [
    {
     "name": "stdout",
     "output_type": "stream",
     "text": [
      "[11762.56, 11703.94, 11656.52, 11556.92, 11587.08]\n"
     ]
    }
   ],
   "source": [
    "millas_años = []\n",
    "for _, row in future_data.iterrows():\n",
    "    millas_años.append(row[\"Miles_per_Vehicle\"])\n",
    "print(millas_años)"
   ]
  },
  {
   "cell_type": "markdown",
   "metadata": {},
   "source": [
    "### Clases:\n",
    "\n",
    "Se crea una clase «Auto» que contiene caracteristicas generales de este objeto. Luego en cada clase que hereda (Auto Electrico y convencional) se personalizan estas propiedades y se agregan nuevas.\n",
    "\n",
    "Tambien se crean las funciones para el calculo del Cash Flow y los demas indicadores financieros."
   ]
  },
  {
   "cell_type": "code",
   "execution_count": null,
   "metadata": {},
   "outputs": [],
   "source": [
    "class Auto:\n",
    "    def __init__(self, precio, iva, licencia_1, licencia_2, placa, inspeccion, seguro, recorrido_anual, ingresos_anuales, tasa_descuento):\n",
    "        self.precio = precio\n",
    "        self.iva = iva\n",
    "        self.licencia_1 = licencia_1\n",
    "        self.licencia_2 = licencia_2\n",
    "        self.placa = placa\n",
    "        self.inspeccion = inspeccion\n",
    "        self.seguro = seguro\n",
    "        self.recorrido_anual = recorrido_anual\n",
    "        self.ingresos_anuales = ingresos_anuales\n",
    "        self.tasa_descuento = tasa_descuento\n",
    "    \n",
    "    def inversion_inicial(self):\n",
    "        raise NotImplementedError\n",
    "    \n",
    "    def costos_operativos(self):\n",
    "        raise NotImplementedError\n",
    "    \n",
    "    def flujo_neto_anual(self):\n",
    "        return self.ingresos_anuales - self.costos_operativos()\n",
    "    \n",
    "    def flujo_caja_proyectado(self, años=5):\n",
    "        # Inversión inicial negativa porqué es el año 0\n",
    "        inversion_inicial = -self.inversion_inicial()\n",
    "        \n",
    "        \n",
    "        ingresos_año = [0]\n",
    "        costos_año = [0]\n",
    "        flujo_neto = [0]  # Año 0: \n",
    "        flujo_descuento = [inversion_inicial]  # Año 0 Inversión inicial negativa\n",
    "        # Se calcula el flujo neto anual y mensual para cada año\n",
    "        for año in range(1, años + 1):\n",
    "            self.ingresos_anuales = ingresos_años[año-1] # Codigo nuevo\n",
    "            self.recorrido_anual = millas_años[año-1] # Codigo nuevo\n",
    "            flujo_neto_actual = self.flujo_neto_anual()\n",
    "            flujo_neto.append(flujo_neto_actual)\n",
    "            flujo_descuento_actual = flujo_neto_actual / (1 + self.tasa_descuento) ** año\n",
    "            flujo_descuento.append(flujo_descuento_actual)\n",
    "            ingresos_año.append(self.ingresos_anuales)\n",
    "            costos_año.append(self.costos_operativos())\n",
    "        \n",
    "        # Se crea el DataFrame de resultados\n",
    "        df_flujo_caja = pd.DataFrame({\n",
    "            'Año': range(0, años + 1),\n",
    "            'Ingresos': ingresos_año,\n",
    "            'Costos Operativos': costos_año,\n",
    "            'Flujo Neto': flujo_neto,\n",
    "            'Flujo Neto Descontado (10%)': flujo_descuento\n",
    "        })\n",
    "         # Calculo el flujo total descontado para el ROI\n",
    "        flujo_total = sum(flujo_descuento)\n",
    "        return df_flujo_caja\n",
    "\n",
    "    def calcular_roi(self, flujo_total):\n",
    "        roi = (flujo_total - self.inversion_inicial()) / self.inversion_inicial()\n",
    "        return round(roi, 2)\n",
    "\n",
    "    def calcular_ir(self, flujo_total):\n",
    "        ir = flujo_total / abs(self.inversion_inicial())\n",
    "        return round(ir, 2)\n",
    "\n",
    "    def calcular_payback_period(self):\n",
    "        flujo_acumulado = 0\n",
    "        payback = 0\n",
    "        for año in range(1, 11):\n",
    "            flujo_anual = self.flujo_neto_anual()\n",
    "            flujo_acumulado += flujo_anual\n",
    "            if flujo_acumulado >= abs(self.inversion_inicial()):\n",
    "                payback = año\n",
    "                break\n",
    "        return payback if payback > 0 else \"No recuperado en 10 años\"\n"
   ]
  },
  {
   "cell_type": "markdown",
   "metadata": {},
   "source": [
    "Creación de clase de «Auto Convencional»"
   ]
  },
  {
   "cell_type": "code",
   "execution_count": 10,
   "metadata": {},
   "outputs": [],
   "source": [
    "class AutoConvencional(Auto): #Licencia_1 = unico pago, licencia_2 = anual\n",
    "    def __init__(self, precio=38000, iva=0.08875, licencia_1=550,licencia_2=100, placa = 300,\n",
    "                 seguro=2500, inspeccion = 150,\n",
    "                 eficiencia=0.06, mantenimiento=0.15, recorrido_anual=promedio_millas, #mantenimiento = USD x Milla\n",
    "                 ingresos_anuales=promedio_ingresos, tasa_descuento=0.10):\n",
    "        super().__init__(precio, iva, licencia_1, licencia_2, placa, inspeccion,\n",
    "                         seguro, recorrido_anual, ingresos_anuales, tasa_descuento) # Se usa el super constructor para evitar redundancia ya que es una clase hija\n",
    "        self.eficiencia = eficiencia\n",
    "        self.mantenimiento = mantenimiento\n",
    "    \n",
    "    def inversion_inicial(self):\n",
    "        return self.precio * (1 + self.iva) + self.licencia_1\n",
    "    \n",
    "    def costos_operativos(self):\n",
    "        precio_gasolina_litro = 0.92 #USD x lt\n",
    "        costo_gasolina_anual = (self.recorrido_anual * self.eficiencia) * precio_gasolina_litro\n",
    "        costo_mantenimiento = self.mantenimiento * self.recorrido_anual\n",
    "        return costo_gasolina_anual + costo_mantenimiento + self.seguro + self.licencia_2 + self.placa + self.inspeccion\n"
   ]
  },
  {
   "cell_type": "markdown",
   "metadata": {},
   "source": [
    "Creación de clase de «Auto Electrico»"
   ]
  },
  {
   "cell_type": "code",
   "execution_count": 11,
   "metadata": {},
   "outputs": [],
   "source": [
    "class AutoElectrico(Auto): #Descuento de 5% al 10% en licencia ; Excencion del impuesto de venta\n",
    "    def __init__(self, precio, eficiencia, iva=0, licencia_1=495,licencia_2=100, placa = 300,\n",
    "                 seguro=1500, inspeccion = 100, mantenimiento=0.03, wallbox=600, \n",
    "                 recambio_bateria=5000, #mantenimiento = USD x Milla\n",
    "                 recorrido_anual=16529, ingresos_anuales=93227, tasa_descuento=0.10):\n",
    "        super().__init__(precio, iva, licencia_1, licencia_2, placa, inspeccion, seguro, recorrido_anual, ingresos_anuales, tasa_descuento)\n",
    "        self.eficiencia = eficiencia\n",
    "        self.mantenimiento = mantenimiento\n",
    "        self.wallbox = wallbox\n",
    "        self.recambio_bateria = recambio_bateria\n",
    "    \n",
    "    def inversion_inicial(self):\n",
    "        return self.precio + self.licencia_1 + self.wallbox\n",
    "    \n",
    "    def costos_operativos(self):\n",
    "        precio_electricidad_kWh = 0.13 #USD x kHw\n",
    "        costo_electricidad_anual = (self.recorrido_anual * self.eficiencia) * precio_electricidad_kWh\n",
    "        costo_mantenimiento = self.mantenimiento * self.recorrido_anual\n",
    "        costo_anual_bateria = self.recambio_bateria / 12.5\n",
    "        return costo_electricidad_anual + costo_mantenimiento + costo_anual_bateria + self.seguro + self.licencia_2 + self.placa + self.inspeccion\n"
   ]
  },
  {
   "cell_type": "markdown",
   "metadata": {},
   "source": [
    "### Modelo #3:\n",
    "Análisis Financiero de Flota Combinada (VE y auto convencional)\n",
    "\n",
    "Esta función estudia el comportamiento de cada uno de los prototipos del Dataset de VE relacionado a los indicadores financieros anteriormente delineados.\n",
    "En cuanto al auto convencional se construye un propotipo prototipo como muestra."
   ]
  },
  {
   "cell_type": "code",
   "execution_count": null,
   "metadata": {},
   "outputs": [],
   "source": [
    "def calcular_metricas_flota(cantidad_ve, cantidad_conv):\n",
    "    resultados = []\n",
    "\n",
    "    for _, fila in df_autos.iterrows():\n",
    "        # Se extraen los datos del Dataset\n",
    "        modelo = fila['Model']\n",
    "        precio_ve = fila['Precio Dolar']\n",
    "        eficiencia_ve = fila['Efficiency (kWh/mile)']\n",
    "        \n",
    "        # Se instancian los autos segun su naturaleza (electrico o convencional)\n",
    "        auto_electrico = AutoElectrico(precio=precio_ve, eficiencia=eficiencia_ve)\n",
    "        auto_convencional = AutoConvencional()\n",
    "        \n",
    "        # Se calcula el flujo de caja proyectado para cada tipo de auto\n",
    "        flujo_ve = auto_electrico.flujo_caja_proyectado()\n",
    "        flujo_conv = auto_convencional.flujo_caja_proyectado()\n",
    "        \n",
    "        # Se combinar flujos de caja para la flota (teniendo en cuenta su respectiva cantidad)\n",
    "        flujo_neto_comb = (\n",
    "            cantidad_ve * flujo_ve['Flujo Neto Descontado (10%)'].sum() +\n",
    "            cantidad_conv * flujo_conv['Flujo Neto Descontado (10%)'].sum()\n",
    "        )\n",
    "        \n",
    "        # Se calcula  la inversión inicial combinada\n",
    "        inversion_comb = (\n",
    "            cantidad_ve * auto_electrico.inversion_inicial() +\n",
    "            cantidad_conv * auto_convencional.inversion_inicial()\n",
    "        )\n",
    "        \n",
    "        # Se calcular las métricas financieras combinadas\n",
    "        roi_comb = (flujo_neto_comb - inversion_comb) / inversion_comb\n",
    "        ir_comb = flujo_neto_comb / abs(inversion_comb)\n",
    "        \n",
    "        # Calculo del payback period combinado (considerando la proporción)\n",
    "        flujo_anual_comb = [\n",
    "            cantidad_ve * flujo_ve['Flujo Neto'].iloc[año] +\n",
    "            cantidad_conv * flujo_conv['Flujo Neto'].iloc[año]\n",
    "            for año in range(1, 6)\n",
    "        ]\n",
    "        flujo_acumulado = 0\n",
    "        payback_comb = 0\n",
    "        for año, flujo in enumerate(flujo_anual_comb, start=1):\n",
    "            flujo_acumulado += flujo\n",
    "            if flujo_acumulado >= abs(inversion_comb):\n",
    "                payback_comb = año\n",
    "                break\n",
    "        \n",
    "        # Se almacenan los resultados para el modelo actual\n",
    "        resultados.append({\n",
    "            'Modelo': modelo,\n",
    "            'Flujo Neto Total (Millones USD/5 años)': round(flujo_neto_comb / 1e6,2),\n",
    "            'ROI (%)': round(roi_comb, 2),\n",
    "            'IR (USD)': round(ir_comb, 2),\n",
    "            'Payback Period (años)': payback_comb if payback_comb > 0 else \"No recuperado en 10 años\"\n",
    "        })\n",
    "\n",
    "    # Se convertierten los resultados a tipo DataFrame para una mejor visualización\n",
    "    df_resultados = pd.DataFrame(resultados)\n",
    "    df_resultados = df_resultados.sort_values(by=\"ROI (%)\", ascending=False).reset_index(drop=True) # Se ordena para tener el ranking \n",
    "\n",
    "\n",
    "    return df_resultados\n"
   ]
  },
  {
   "cell_type": "markdown",
   "metadata": {},
   "source": [
    "Ejemplo de uso:"
   ]
  },
  {
   "cell_type": "code",
   "execution_count": null,
   "metadata": {},
   "outputs": [
    {
     "data": {
      "text/html": [
       "<div>\n",
       "<style scoped>\n",
       "    .dataframe tbody tr th:only-of-type {\n",
       "        vertical-align: middle;\n",
       "    }\n",
       "\n",
       "    .dataframe tbody tr th {\n",
       "        vertical-align: top;\n",
       "    }\n",
       "\n",
       "    .dataframe thead th {\n",
       "        text-align: right;\n",
       "    }\n",
       "</style>\n",
       "<table border=\"1\" class=\"dataframe\">\n",
       "  <thead>\n",
       "    <tr style=\"text-align: right;\">\n",
       "      <th></th>\n",
       "      <th>Modelo</th>\n",
       "      <th>Flujo Neto Total (Millones USD/5 años)</th>\n",
       "      <th>ROI (%)</th>\n",
       "      <th>IR (USD)</th>\n",
       "      <th>Payback Period (años)</th>\n",
       "    </tr>\n",
       "  </thead>\n",
       "  <tbody>\n",
       "    <tr>\n",
       "      <th>0</th>\n",
       "      <td>Mii Electric</td>\n",
       "      <td>295.16</td>\n",
       "      <td>8.37</td>\n",
       "      <td>9.37</td>\n",
       "      <td>1</td>\n",
       "    </tr>\n",
       "    <tr>\n",
       "      <th>1</th>\n",
       "      <td>EQ fortwo coupe</td>\n",
       "      <td>293.28</td>\n",
       "      <td>7.79</td>\n",
       "      <td>8.79</td>\n",
       "      <td>1</td>\n",
       "    </tr>\n",
       "    <tr>\n",
       "      <th>2</th>\n",
       "      <td>e-Up!</td>\n",
       "      <td>293.24</td>\n",
       "      <td>7.78</td>\n",
       "      <td>8.78</td>\n",
       "      <td>1</td>\n",
       "    </tr>\n",
       "    <tr>\n",
       "      <th>3</th>\n",
       "      <td>EQ forfour</td>\n",
       "      <td>292.29</td>\n",
       "      <td>7.52</td>\n",
       "      <td>8.52</td>\n",
       "      <td>1</td>\n",
       "    </tr>\n",
       "    <tr>\n",
       "      <th>4</th>\n",
       "      <td>CITIGOe iV</td>\n",
       "      <td>288.62</td>\n",
       "      <td>6.59</td>\n",
       "      <td>7.59</td>\n",
       "      <td>1</td>\n",
       "    </tr>\n",
       "  </tbody>\n",
       "</table>\n",
       "</div>"
      ],
      "text/plain": [
       "            Modelo  Flujo Neto Total (Millones USD/5 años)  ROI (%)  IR (USD)  \\\n",
       "0    Mii Electric                                   295.16     8.37      9.37   \n",
       "1  EQ fortwo coupe                                  293.28     7.79      8.79   \n",
       "2           e-Up!                                   293.24     7.78      8.78   \n",
       "3      EQ forfour                                   292.29     7.52      8.52   \n",
       "4      CITIGOe iV                                   288.62     6.59      7.59   \n",
       "\n",
       "   Payback Period (años)  \n",
       "0                      1  \n",
       "1                      1  \n",
       "2                      1  \n",
       "3                      1  \n",
       "4                      1  "
      ]
     },
     "execution_count": 13,
     "metadata": {},
     "output_type": "execute_result"
    }
   ],
   "source": [
    "resultados_flota = calcular_metricas_flota(1400, 2) # Primer Parámetro : Cantidad VE; Segundo Parámetro : Cantidad Autos Convencional\n",
    "resultados_flota.head(5) # head (5) para obtener el Ranking \n"
   ]
  }
 ],
 "metadata": {
  "kernelspec": {
   "display_name": "Python 3",
   "language": "python",
   "name": "python3"
  },
  "language_info": {
   "codemirror_mode": {
    "name": "ipython",
    "version": 3
   },
   "file_extension": ".py",
   "mimetype": "text/x-python",
   "name": "python",
   "nbconvert_exporter": "python",
   "pygments_lexer": "ipython3",
   "version": "3.11.0"
  }
 },
 "nbformat": 4,
 "nbformat_minor": 2
}
