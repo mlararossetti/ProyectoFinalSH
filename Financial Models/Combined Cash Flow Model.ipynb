{
 "cells": [
  {
   "cell_type": "markdown",
   "metadata": {},
   "source": [
    "### Análisis Financiero de Plan de Negocios\n",
    "En este notebook se construye un modelo que permita calcular el Flujo de Caja (Cash Flow) y otros indicadores financieros tales como: ROI (Return On Investment), IR (Indice de Rentabilidad) y Payback Period, de una ruta combinada (compuesta por VE y autos convencionales) y ver la composición de está flota para el alcance de estos indicadores."
   ]
  },
  {
   "cell_type": "markdown",
   "metadata": {},
   "source": [
    "Se importan las librerias necesarias."
   ]
  },
  {
   "cell_type": "code",
   "execution_count": 122,
   "metadata": {},
   "outputs": [],
   "source": [
    "import pandas as pd \n",
    "import numpy_financial as npf\n",
    "import plotly.graph_objects as go\n",
    "from plotly.subplots import make_subplots\n",
    "\n",
    "import ipywidgets as widgets\n",
    "from IPython.display import display"
   ]
  },
  {
   "cell_type": "markdown",
   "metadata": {},
   "source": [
    "Se importan los datasets que contienen la información requerida para el análisis."
   ]
  },
  {
   "cell_type": "code",
   "execution_count": 123,
   "metadata": {},
   "outputs": [],
   "source": [
    "future_data = pd.read_csv(r\"..\\datasets\\2. Depurados\\TLC Aggregated Data\\ML_TS_Output_Anualized.csv\")\n",
    "future_data = future_data[future_data['industry']=='FHV - High Volume']\n",
    "\n",
    "future_data.rename(columns={\n",
    "    'anual_income_per_vehicle': 'Income_per_Vehicle (USD)',\n",
    "    'anual_distance_per_vehicle': 'Miles_per_Vehicle',\n",
    "    'anual_total_co2_emission': 'Total_CO2_Emissions'\n",
    "}, inplace=True)\n",
    "future_data =  future_data[future_data['year']>=2025]\n",
    "\n",
    "# Dataset de VE\n",
    "df_autos = pd.read_csv(r'..\\datasets\\2. Depurados\\ElectricCarData_Clean.csv')\n",
    "df_autos.rename(columns={\n",
    "    'brand': 'Brand',\n",
    "    'model': 'Model',\n",
    "    'efficiency_whkm': 'Efficiency (Wh/km)'\n",
    "}, inplace=True)\n",
    "\n",
    "df_autos['Efficiency (kWh/mile)'] = df_autos['Efficiency (Wh/km)']/1000* 0.1688666667 \n",
    "df_autos['Precio Dolar'] = df_autos['price_euro'] * 1.06"
   ]
  },
  {
   "cell_type": "markdown",
   "metadata": {},
   "source": [
    "Se obtiene el promedio de las variables (ingreso anual y millas recorridas por año) para un primer acercamiento y entendimiento del comportamiento de las variables."
   ]
  },
  {
   "cell_type": "code",
   "execution_count": 124,
   "metadata": {},
   "outputs": [
    {
     "name": "stdout",
     "output_type": "stream",
     "text": [
      "El promedio de ingresos anuales es: 59327.19\n",
      "El promedio de millas recorridas anualmente es : 10873.13\n"
     ]
    }
   ],
   "source": [
    "promedio_ingresos = round(future_data[\"Income_per_Vehicle (USD)\"].mean(),2)\n",
    "promedio_millas = round(future_data[\"Miles_per_Vehicle\"].mean(),2)\n",
    "print(f'El promedio de ingresos anuales es: {promedio_ingresos}')\n",
    "print(f'El promedio de millas recorridas anualmente es : {promedio_millas}')"
   ]
  },
  {
   "cell_type": "markdown",
   "metadata": {},
   "source": [
    "A continuación se asigna a cada dato una variable que almacena su información."
   ]
  },
  {
   "cell_type": "code",
   "execution_count": 125,
   "metadata": {},
   "outputs": [
    {
     "name": "stdout",
     "output_type": "stream",
     "text": [
      "Los ingresos para el año 2025 son 65357.06\n",
      "Los ingresos para el año 2026 son 64802.76\n",
      "Los ingresos para el año 2027 son 64302.32\n",
      "Los ingresos para el año 2028 son 63485.52\n",
      "Los ingresos para el año 2029 son 63408.43\n",
      "Los ingresos para el año 2030 son 63019.9\n",
      "Los ingresos para el año 2031 son 62664.8\n",
      "Los ingresos para el año 2032 son 61984.98\n",
      "Los ingresos para el año 2033 son 62013.27\n",
      "Los ingresos para el año 2034 son 61726.06\n",
      "Los ingresos para el año 2035 son 19833.94\n"
     ]
    }
   ],
   "source": [
    "año = 2025\n",
    "for _, row in future_data.iterrows():  # iterrows() en lugar de interrows()\n",
    "    globals()[f'Ingresos_año_{año}'] = round(row[\"Income_per_Vehicle (USD)\"],2)\n",
    "    print(f'Los ingresos para el año {año} son {globals()[f\"Ingresos_año_{año}\"]}')\n",
    "    año += 1"
   ]
  },
  {
   "cell_type": "code",
   "execution_count": 126,
   "metadata": {},
   "outputs": [
    {
     "name": "stdout",
     "output_type": "stream",
     "text": [
      "[65357.06, 64802.76, 64302.32, 63485.52, 63408.43, 63019.9, 62664.8, 61984.98, 62013.27, 61726.06, 19833.94]\n"
     ]
    }
   ],
   "source": [
    "ingresos_años = []\n",
    "for _, row in future_data.iterrows():\n",
    "    ingresos_años.append(round(row[\"Income_per_Vehicle (USD)\"],2))\n",
    "print(ingresos_años)"
   ]
  },
  {
   "cell_type": "code",
   "execution_count": 127,
   "metadata": {},
   "outputs": [
    {
     "name": "stdout",
     "output_type": "stream",
     "text": [
      "Las Millas recorridas en el año 2025 son 11762.56\n",
      "Las Millas recorridas en el año 2026 son 11703.94\n",
      "Las Millas recorridas en el año 2027 son 11656.52\n",
      "Las Millas recorridas en el año 2028 son 11556.92\n",
      "Las Millas recorridas en el año 2029 son 11587.08\n",
      "Las Millas recorridas en el año 2030 son 11563.32\n",
      "Las Millas recorridas en el año 2031 son 11546.49\n",
      "Las Millas recorridas en el año 2032 son 11474.36\n",
      "Las Millas recorridas en el año 2033 son 11527.96\n",
      "Las Millas recorridas en el año 2034 son 11525.51\n",
      "Las Millas recorridas en el año 2035 son 3699.81\n"
     ]
    }
   ],
   "source": [
    "año = 2025\n",
    "for _, row in future_data.iterrows():\n",
    "    globals()[f'Millas_Año_{año}'] = round(row[\"Miles_per_Vehicle\"],2)\n",
    "    print(f'Las Millas recorridas en el año {año} son {globals()[f\"Millas_Año_{año}\"]}')\n",
    "    año+=1"
   ]
  },
  {
   "cell_type": "code",
   "execution_count": 128,
   "metadata": {},
   "outputs": [
    {
     "name": "stdout",
     "output_type": "stream",
     "text": [
      "[11762.56, 11703.94, 11656.52, 11556.92, 11587.08, 11563.32, 11546.49, 11474.36, 11527.96, 11525.51, 3699.81]\n"
     ]
    }
   ],
   "source": [
    "millas_años = []\n",
    "for _, row in future_data.iterrows():\n",
    "    millas_años.append(round(row[\"Miles_per_Vehicle\"],2))\n",
    "print(millas_años)"
   ]
  },
  {
   "cell_type": "markdown",
   "metadata": {},
   "source": [
    "### Clases:\n",
    "\n",
    "Se crea una clase «Auto» que contiene caracteristicas generales de este objeto. Luego en cada clase que hereda (Auto Electrico y convencional) se personalizan estas propiedades y se agregan nuevas.\n",
    "\n",
    "Tambien se crean las funciones para el calculo del Cash Flow y los demas indicadores financieros."
   ]
  },
  {
   "cell_type": "code",
   "execution_count": 129,
   "metadata": {},
   "outputs": [],
   "source": [
    "class Auto:\n",
    "    def __init__(self,tasa_descuento, precio, iva, licencia_1, licencia_2, placa, inspeccion, seguro, recorrido_anual, \n",
    "                 ingresos_anuales):\n",
    "        self.precio = precio\n",
    "        self.iva = iva\n",
    "        self.licencia_1 = licencia_1\n",
    "        self.licencia_2 = licencia_2\n",
    "        self.placa = placa\n",
    "        self.inspeccion = inspeccion\n",
    "        self.seguro = seguro\n",
    "        self.recorrido_anual = recorrido_anual\n",
    "        self.ingresos_anuales = ingresos_anuales\n",
    "        self.tasa_descuento = tasa_descuento\n",
    "    \n",
    "    def inversion_inicial(self):\n",
    "        raise NotImplementedError\n",
    "    \n",
    "    def costos_operativos(self):\n",
    "        raise NotImplementedError\n",
    "    \n",
    "    def flujo_neto_anual(self):\n",
    "        return self.ingresos_anuales - self.costos_operativos()\n",
    "    \n",
    "    def flujo_caja_proyectado(self, años=7):\n",
    "        \n",
    "        # Inversión inicial negativa porqué es el año 0\n",
    "        inversion_inicial = -self.inversion_inicial()\n",
    "        \n",
    "        ingresos_año = [0]\n",
    "        costos_año = [0]\n",
    "        flujo_neto = [inversion_inicial]  # Año 0: \n",
    "        flujo_descuento = [inversion_inicial]  # Año 0 Inversión inicial negativa\n",
    "        ingresos_descuento_año = [0]\n",
    "        \n",
    "        # Se calcula el flujo neto anual\n",
    "        for año in range(1, años + 1):\n",
    "            self.ingresos_anuales = ingresos_años[año-1]\n",
    "            self.recorrido_anual = millas_años[año-1]\n",
    "            flujo_neto_actual = self.flujo_neto_anual()\n",
    "            flujo_neto.append(flujo_neto_actual)\n",
    "            flujo_descuento_actual = flujo_neto_actual / (1 + self.tasa_descuento) ** año\n",
    "            flujo_descuento.append(flujo_descuento_actual)\n",
    "            ingresos_año.append(self.ingresos_anuales)\n",
    "            ingresos_descuento_año.append(ingresos_años[año-1]  / (1 + self.tasa_descuento) ** año)\n",
    "            costos_año.append(self.costos_operativos())\n",
    "        \n",
    "        # Se crea el DataFrame de resultados\n",
    "        df_flujo_caja = pd.DataFrame({\n",
    "            'Año': range(0, años + 1),\n",
    "            'Ingresos': ingresos_año, \n",
    "            'Costos Operativos': costos_año,\n",
    "            'Flujo Neto': flujo_neto,\n",
    "            'Flujo Neto Descontado': flujo_descuento,\n",
    "            'Ingresos Descontado': ingresos_descuento_año        \n",
    "        })\n",
    "        \n",
    "        # Calculo el flujo total descontado para el ROI\n",
    "        return df_flujo_caja\n",
    "\n",
    "    def calcular_roi(self, flujo_total):\n",
    "        roi = flujo_total/ self.inversion_inicial() *100\n",
    "        roi_mensual_simple = roi/7/12\n",
    "        #roi_mensual_compuesto = ((1+ flujo_total/ self.inversion_inicial())**(1/(7*12))-1)*100 #- self.inversion_inicial()\n",
    "        return round(roi, 2),round(roi_mensual_simple, 2)#,round(roi_mensual_compuesto, 2)\n",
    "\n",
    "    def calcular_ir(self, ingreso_total):\n",
    "        ir = ingreso_total / abs(self.inversion_inicial())\n",
    "        return round(ir, 2)\n",
    "\n",
    "    def calcular_payback_period(self):\n",
    "        flujo_acumulado = 0\n",
    "        payback = 0\n",
    "        for año in range(1, 8):\n",
    "            flujo_anual = self.flujo_neto_anual()\n",
    "            flujo_acumulado += flujo_anual\n",
    "            if flujo_acumulado >= abs(self.inversion_inicial()):\n",
    "                payback = año\n",
    "                break\n",
    "        return payback if payback > 0 else \"No recuperado en 7 años\"\n",
    "    "
   ]
  },
  {
   "cell_type": "markdown",
   "metadata": {},
   "source": [
    "Creación de clase de «Auto Convencional»"
   ]
  },
  {
   "cell_type": "code",
   "execution_count": 130,
   "metadata": {},
   "outputs": [],
   "source": [
    "class AutoConvencional(Auto): #Licencia_1 = unico pago, licencia_2 = anual\n",
    "    def __init__(self, tasa_descuento, precio=36200, iva=0.08875, licencia_1=550,licencia_2=100, placa = 300,\n",
    "                 seguro=5000, inspeccion = 150,\n",
    "                 eficiencia=25 , mantenimiento=0.15, recorrido_anual=promedio_millas, #eficiencia en MPG / mantenimiento = USD x Milla\n",
    "                 ingresos_anuales=promedio_ingresos):\n",
    "        super().__init__(tasa_descuento,precio, iva, licencia_1, licencia_2, placa, inspeccion,\n",
    "                         seguro, recorrido_anual, ingresos_anuales) # Se usa el super constructor para evitar redundancia ya que es una clase hija\n",
    "        self.eficiencia = eficiencia\n",
    "        self.mantenimiento = mantenimiento\n",
    "    \n",
    "    def inversion_inicial(self):\n",
    "        return self.precio * (1 + self.iva) + self.licencia_1\n",
    "    \n",
    "    def costos_operativos(self):\n",
    "        precio_gasolina_galon = 3.06 #USD x galon\n",
    "        costo_gasolina_anual = (self.recorrido_anual / self.eficiencia) * precio_gasolina_galon\n",
    "        costo_mantenimiento = self.mantenimiento * self.recorrido_anual\n",
    "        costo_anual_salario = 2342 * 20  # Precio medio de la hora de un conductor de autos convencionales.\n",
    "        return costo_gasolina_anual + costo_mantenimiento + self.seguro + self.licencia_2 + self.placa + self.inspeccion + costo_anual_salario"
   ]
  },
  {
   "cell_type": "markdown",
   "metadata": {},
   "source": [
    "Creación de clase de «Auto Electrico»"
   ]
  },
  {
   "cell_type": "code",
   "execution_count": 131,
   "metadata": {},
   "outputs": [],
   "source": [
    "class AutoElectrico(Auto): #Descuento de 5% al 10% en licencia ; Excencion del impuesto de venta\n",
    "    def __init__(self,tasa_descuento, precio, eficiencia, iva=0, licencia_1=495,licencia_2=100, placa = 300,\n",
    "                 seguro=1500, inspeccion = 100, mantenimiento=0.03, wallbox=600, \n",
    "                 recambio_bateria=5000, #mantenimiento = USD x Milla\n",
    "                 recorrido_anual=promedio_millas, ingresos_anuales=promedio_ingresos): \n",
    "        super().__init__(tasa_descuento, precio, iva, licencia_1, licencia_2, placa, inspeccion, seguro, recorrido_anual, \n",
    "                         ingresos_anuales)\n",
    "        self.eficiencia = eficiencia\n",
    "        self.mantenimiento = mantenimiento\n",
    "        self.wallbox = wallbox\n",
    "        self.recambio_bateria = recambio_bateria\n",
    "        self.tasa_descuento = tasa_descuento\n",
    "        self.licencia_1=licencia_1\n",
    "    \n",
    "    def inversion_inicial(self):\n",
    "        return self.precio + self.licencia_1 + self.wallbox\n",
    "    \n",
    "    def costos_operativos(self):\n",
    "        precio_electricidad_kWh = 0.13 #USD x kHw\n",
    "        costo_electricidad_anual = (self.recorrido_anual * self.eficiencia) * precio_electricidad_kWh\n",
    "        costo_mantenimiento = self.mantenimiento * self.recorrido_anual\n",
    "        costo_anual_bateria = self.recambio_bateria / 12.5\n",
    "        costo_anual_salario = 2342 * 22 # Promedio de horas de menejo de un conductor por año * Precio promedio de la hora de un chofer de taxis en NY para VE.\n",
    "        return costo_electricidad_anual + costo_mantenimiento + costo_anual_bateria + self.seguro + self.licencia_2 + self.placa + self.inspeccion + costo_anual_salario"
   ]
  },
  {
   "cell_type": "markdown",
   "metadata": {},
   "source": [
    "### Modelo #3:\n",
    "Análisis Financiero de Flota Combinada (VE y auto convencional)\n",
    "\n",
    "Esta función estudia el comportamiento de cada uno de los prototipos del Dataset de VE relacionado a los indicadores financieros anteriormente delineados.\n",
    "En cuanto al auto convencional se construye un propotipo prototipo como muestra."
   ]
  },
  {
   "cell_type": "code",
   "execution_count": 132,
   "metadata": {},
   "outputs": [],
   "source": [
    "def calcular_metricas_flota(tasa_descuento, cantidad_ve, cantidad_conv):\n",
    "    resultados = []\n",
    "    flujo_neto_comb_lista = []\n",
    "    for _, fila in df_autos.iterrows():\n",
    "        # Se extraen los datos del Dataset\n",
    "        marca = fila['Brand']\n",
    "        modelo = fila['Model']\n",
    "        tipo_de_auto = fila['body_style']\n",
    "        segmento = fila['segment']\n",
    "        precio_ve = fila['Precio Dolar']\n",
    "        eficiencia_ve = fila['Efficiency (kWh/mile)']\n",
    "        eficiencia_conv = 25\n",
    "\n",
    "        eficiencia_total = (33.7 /  eficiencia_conv * cantidad_conv + eficiencia_ve * cantidad_ve) / (cantidad_ve+cantidad_conv)\n",
    "\n",
    "        # Se instancian los autos segun su naturaleza (electrico o convencional)\n",
    "        auto_electrico = AutoElectrico(tasa_descuento, precio=precio_ve, eficiencia=eficiencia_ve)\n",
    "        auto_convencional = AutoConvencional(tasa_descuento)\n",
    "\n",
    "\n",
    "        # Se calcula el flujo de caja proyectado para cada tipo de auto\n",
    "        flujo_ve = auto_electrico.flujo_caja_proyectado()\n",
    "        flujo_conv = auto_convencional.flujo_caja_proyectado()\n",
    "        flujo_neto_comb_lista =  cantidad_ve * flujo_ve['Flujo Neto Descontado'] +  cantidad_conv  * flujo_conv['Flujo Neto Descontado']\n",
    "\n",
    "        # Se combinar flujos de caja para la flota (teniendo en cuenta su respectiva cantidad)\n",
    "        flujo_neto_comb = round(\n",
    "            cantidad_ve * flujo_ve['Flujo Neto Descontado'].sum() +\n",
    "            cantidad_conv * flujo_conv['Flujo Neto Descontado'].sum(), 2\n",
    "        )\n",
    "        \n",
    "        ingreso_comb =  round(\n",
    "            cantidad_ve * flujo_ve['Ingresos Descontado'].sum() +\n",
    "            cantidad_conv * flujo_conv['Ingresos Descontado'].sum(), 2\n",
    "        )\n",
    "\n",
    "        # Se calcula  la inversión inicial combinada\n",
    "        inversion_comb = round(\n",
    "            cantidad_ve * auto_electrico.inversion_inicial() +\n",
    "            cantidad_conv * auto_convencional.inversion_inicial(), 2\n",
    "        )\n",
    "        \n",
    "        # Se calcular las métricas financieras combinadas\n",
    "        roi_comb = flujo_neto_comb/ inversion_comb *100 / 7\n",
    "        #roi_mensual_simple = roi_comb/12\n",
    "        ir_comb = ingreso_comb / abs(inversion_comb)\n",
    "        tir_comb = round(npf.irr(flujo_neto_comb_lista)*100,2)\n",
    "\n",
    "        # Calculo del payback period combinado (considerando la proporción)\n",
    "        flujo_anual_comb = [\n",
    "            cantidad_ve * flujo_ve['Flujo Neto'].iloc[año] +\n",
    "            cantidad_conv * flujo_conv['Flujo Neto'].iloc[año]\n",
    "            for año in range(1, 6)\n",
    "        ]\n",
    "        flujo_acumulado = 0\n",
    "        payback_comb = 0\n",
    "        for año, flujo in enumerate(flujo_anual_comb, start=1):\n",
    "            flujo_acumulado += flujo\n",
    "            if flujo_acumulado >= abs(inversion_comb):\n",
    "                payback_comb = año\n",
    "                break\n",
    "        \n",
    "        # Se almacenan los resultados para el modelo actual\n",
    "        resultados.append({\n",
    "            'Brand': marca,\n",
    "            'Model': modelo,\n",
    "            'Tipo de Auto': tipo_de_auto,\n",
    "            'Segmento':segmento,\n",
    "            'Efficiency Total (kWh/mile)' : round(eficiencia_total,4),\n",
    "            'Inversión Inicial Total (USD)': round(inversion_comb,0),\n",
    "            #'Relación Inversión/Eficiencia (USD.mile/kWh)': round (inversion_comb/eficiencia_total,2),\n",
    "            'VNA (USD)': round(flujo_neto_comb,0),\n",
    "            'TIR (%)':round(tir_comb,2),\n",
    "            'ROI Anual (%)': round(roi_comb,2),\n",
    "            #'ROI Mensual(%)': round(roi_mensual_simple,4),\n",
    "            'IR (USD)': round(ir_comb,2),\n",
    "            'Payback Period (Años)': payback_comb if payback_comb > 0 else \"No recuperado en 7 años\"\n",
    "        })\n",
    "\n",
    "    # Se convertierten los resultados a tipo DataFrame para una mejor visualización\n",
    "    df_resultados = pd.DataFrame(resultados)\n",
    "    df_resultados = df_resultados.sort_values(by=\"ROI Anual (%)\", ascending=False).reset_index(drop=True) # Se ordena para tener el ranking \n",
    "\n",
    "\n",
    "    return df_resultados\n"
   ]
  },
  {
   "cell_type": "markdown",
   "metadata": {},
   "source": [
    "Ejemplo de uso:"
   ]
  },
  {
   "cell_type": "code",
   "execution_count": null,
   "metadata": {},
   "outputs": [],
   "source": []
  },
  {
   "cell_type": "code",
   "execution_count": 133,
   "metadata": {},
   "outputs": [
    {
     "data": {
      "text/html": [
       "<div>\n",
       "<style scoped>\n",
       "    .dataframe tbody tr th:only-of-type {\n",
       "        vertical-align: middle;\n",
       "    }\n",
       "\n",
       "    .dataframe tbody tr th {\n",
       "        vertical-align: top;\n",
       "    }\n",
       "\n",
       "    .dataframe thead th {\n",
       "        text-align: right;\n",
       "    }\n",
       "</style>\n",
       "<table border=\"1\" class=\"dataframe\">\n",
       "  <thead>\n",
       "    <tr style=\"text-align: right;\">\n",
       "      <th></th>\n",
       "      <th>Brand</th>\n",
       "      <th>Model</th>\n",
       "      <th>Tipo de Auto</th>\n",
       "      <th>Segmento</th>\n",
       "      <th>Efficiency Total (kWh/mile)</th>\n",
       "      <th>Inversión Inicial Total (USD)</th>\n",
       "      <th>VNA (USD)</th>\n",
       "      <th>TIR (%)</th>\n",
       "      <th>ROI Anual (%)</th>\n",
       "      <th>IR (USD)</th>\n",
       "      <th>Payback Period (Años)</th>\n",
       "    </tr>\n",
       "  </thead>\n",
       "  <tbody>\n",
       "    <tr>\n",
       "      <th>0</th>\n",
       "      <td>SEAT</td>\n",
       "      <td>Mii Electric</td>\n",
       "      <td>Hatchback</td>\n",
       "      <td>A</td>\n",
       "      <td>0.0280</td>\n",
       "      <td>22431740.0</td>\n",
       "      <td>24883171.0</td>\n",
       "      <td>28.28</td>\n",
       "      <td>15.85</td>\n",
       "      <td>13.90</td>\n",
       "      <td>3</td>\n",
       "    </tr>\n",
       "    <tr>\n",
       "      <th>1</th>\n",
       "      <td>Smart</td>\n",
       "      <td>EQ fortwo coupe</td>\n",
       "      <td>Hatchback</td>\n",
       "      <td>A</td>\n",
       "      <td>0.0282</td>\n",
       "      <td>23765220.0</td>\n",
       "      <td>23548447.0</td>\n",
       "      <td>25.50</td>\n",
       "      <td>14.16</td>\n",
       "      <td>13.12</td>\n",
       "      <td>3</td>\n",
       "    </tr>\n",
       "    <tr>\n",
       "      <th>2</th>\n",
       "      <td>Volkswagen</td>\n",
       "      <td>e-Up!</td>\n",
       "      <td>Hatchback</td>\n",
       "      <td>A</td>\n",
       "      <td>0.0280</td>\n",
       "      <td>23801260.0</td>\n",
       "      <td>23513651.0</td>\n",
       "      <td>25.43</td>\n",
       "      <td>14.11</td>\n",
       "      <td>13.10</td>\n",
       "      <td>3</td>\n",
       "    </tr>\n",
       "    <tr>\n",
       "      <th>3</th>\n",
       "      <td>Smart</td>\n",
       "      <td>EQ forfour</td>\n",
       "      <td>Hatchback</td>\n",
       "      <td>A</td>\n",
       "      <td>0.0297</td>\n",
       "      <td>24446800.0</td>\n",
       "      <td>22855672.0</td>\n",
       "      <td>24.17</td>\n",
       "      <td>13.36</td>\n",
       "      <td>12.75</td>\n",
       "      <td>3</td>\n",
       "    </tr>\n",
       "    <tr>\n",
       "      <th>4</th>\n",
       "      <td>Skoda</td>\n",
       "      <td>CITIGOe iV</td>\n",
       "      <td>Hatchback</td>\n",
       "      <td>A</td>\n",
       "      <td>0.0280</td>\n",
       "      <td>27101040.0</td>\n",
       "      <td>20213871.0</td>\n",
       "      <td>19.61</td>\n",
       "      <td>10.66</td>\n",
       "      <td>11.50</td>\n",
       "      <td>3</td>\n",
       "    </tr>\n",
       "  </tbody>\n",
       "</table>\n",
       "</div>"
      ],
      "text/plain": [
       "         Brand            Model Tipo de Auto Segmento  \\\n",
       "0        SEAT     Mii Electric     Hatchback        A   \n",
       "1       Smart   EQ fortwo coupe    Hatchback        A   \n",
       "2  Volkswagen            e-Up!     Hatchback        A   \n",
       "3       Smart       EQ forfour     Hatchback        A   \n",
       "4       Skoda       CITIGOe iV     Hatchback        A   \n",
       "\n",
       "   Efficiency Total (kWh/mile)  Inversión Inicial Total (USD)   VNA (USD)  \\\n",
       "0                       0.0280                     22431740.0  24883171.0   \n",
       "1                       0.0282                     23765220.0  23548447.0   \n",
       "2                       0.0280                     23801260.0  23513651.0   \n",
       "3                       0.0297                     24446800.0  22855672.0   \n",
       "4                       0.0280                     27101040.0  20213871.0   \n",
       "\n",
       "   TIR (%)  ROI Anual (%)  IR (USD) Payback Period (Años)  \n",
       "0    28.28          15.85     13.90                     3  \n",
       "1    25.50          14.16     13.12                     3  \n",
       "2    25.43          14.11     13.10                     3  \n",
       "3    24.17          13.36     12.75                     3  \n",
       "4    19.61          10.66     11.50                     3  "
      ]
     },
     "execution_count": 133,
     "metadata": {},
     "output_type": "execute_result"
    }
   ],
   "source": [
    "tasa_descuento = 0.10 # Primer Parámetro : Cantidad VE; Segundo Parámetro : Cantidad Autos Convencional\n",
    "cantidad_ve = 1000\n",
    "cantidad_conv = 0\n",
    "resultados_flota = calcular_metricas_flota(tasa_descuento, cantidad_ve, cantidad_conv)\n",
    "resultados_flota.head(5) # head (5) para obtener el Ranking "
   ]
  },
  {
   "cell_type": "code",
   "execution_count": 134,
   "metadata": {},
   "outputs": [
    {
     "data": {
      "application/vnd.jupyter.widget-view+json": {
       "model_id": "1e715989bf4248919b621582b926df42",
       "version_major": 2,
       "version_minor": 0
      },
      "text/plain": [
       "Dropdown(description='Tipo de Auto:', options=('Todos', 'Cabrio', 'Hatchback', 'Liftback', 'MPV', 'Pickup', 'S…"
      ]
     },
     "metadata": {},
     "output_type": "display_data"
    },
    {
     "data": {
      "application/vnd.jupyter.widget-view+json": {
       "model_id": "5bfb1352b06d4c6c8bf6f4bd3da7ef05",
       "version_major": 2,
       "version_minor": 0
      },
      "text/plain": [
       "Dropdown(description='Segmento:', options=('Todos', 'A', 'B', 'C', 'D', 'E', 'F', 'N', 'S'), value='Todos')"
      ]
     },
     "metadata": {},
     "output_type": "display_data"
    }
   ],
   "source": [
    "# Obtener los valores únicos y ordenarlos alfabéticamente\n",
    "tipo_de_auto = sorted(resultados_flota['Tipo de Auto'].unique())\n",
    "tipo_de_auto.insert(0, \"Todos\")\n",
    "tipo_de_auto_selector = widgets.Dropdown(\n",
    "    options=tipo_de_auto,\n",
    "    description='Tipo de Auto:',\n",
    "    disabled=False,\n",
    ")\n",
    "\n",
    "segmento = sorted(resultados_flota['Segmento'].unique())\n",
    "segmento.insert(0, \"Todos\")\n",
    "segmento_selector = widgets.Dropdown(\n",
    "    options=segmento,\n",
    "    description='Segmento:',\n",
    "    disabled=False,\n",
    ")\n",
    "\n",
    "\n",
    "def filtra(resultados_flota,tipo_de_auto,segmento):\n",
    "    if segmento == 'Todos':\n",
    "        if tipo_de_auto == 'Todos':\n",
    "            resultados_flota = resultados_flota\n",
    "        else:\n",
    "            resultados_flota = resultados_flota[resultados_flota['Tipo de Auto'] == tipo_de_auto]\n",
    "    elif tipo_de_auto == 'Todos':\n",
    "        resultados_flota = resultados_flota[resultados_flota['Segmento'] == segmento]\n",
    "    \n",
    "    else:\n",
    "        resultados_flota = resultados_flota[(resultados_flota['Tipo de Auto'] == tipo_de_auto) & (resultados_flota['Segmento'] == segmento)]\n",
    "\n",
    "    return resultados_flota \n",
    "\n",
    "display(tipo_de_auto_selector, segmento_selector)"
   ]
  },
  {
   "cell_type": "code",
   "execution_count": 139,
   "metadata": {},
   "outputs": [
    {
     "data": {
      "text/html": [
       "<div>\n",
       "<style scoped>\n",
       "    .dataframe tbody tr th:only-of-type {\n",
       "        vertical-align: middle;\n",
       "    }\n",
       "\n",
       "    .dataframe tbody tr th {\n",
       "        vertical-align: top;\n",
       "    }\n",
       "\n",
       "    .dataframe thead th {\n",
       "        text-align: right;\n",
       "    }\n",
       "</style>\n",
       "<table border=\"1\" class=\"dataframe\">\n",
       "  <thead>\n",
       "    <tr style=\"text-align: right;\">\n",
       "      <th></th>\n",
       "      <th>Brand</th>\n",
       "      <th>Model</th>\n",
       "      <th>Tipo de Auto</th>\n",
       "      <th>Segmento</th>\n",
       "      <th>Efficiency Total (kWh/mile)</th>\n",
       "      <th>Inversión Inicial Total (USD)</th>\n",
       "      <th>VNA (USD)</th>\n",
       "      <th>TIR (%)</th>\n",
       "      <th>ROI Anual (%)</th>\n",
       "      <th>IR (USD)</th>\n",
       "      <th>Payback Period (Años)</th>\n",
       "    </tr>\n",
       "  </thead>\n",
       "  <tbody>\n",
       "    <tr>\n",
       "      <th>13</th>\n",
       "      <td>MG</td>\n",
       "      <td>ZS EV</td>\n",
       "      <td>SUV</td>\n",
       "      <td>B</td>\n",
       "      <td>0.0326</td>\n",
       "      <td>32895000.0</td>\n",
       "      <td>14386325.0</td>\n",
       "      <td>11.89</td>\n",
       "      <td>6.25</td>\n",
       "      <td>9.48</td>\n",
       "      <td>4</td>\n",
       "    </tr>\n",
       "    <tr>\n",
       "      <th>20</th>\n",
       "      <td>Kia</td>\n",
       "      <td>e-Soul 39 kWh</td>\n",
       "      <td>SUV</td>\n",
       "      <td>B</td>\n",
       "      <td>0.0287</td>\n",
       "      <td>36215980.0</td>\n",
       "      <td>11093956.0</td>\n",
       "      <td>8.47</td>\n",
       "      <td>4.38</td>\n",
       "      <td>8.61</td>\n",
       "      <td>4</td>\n",
       "    </tr>\n",
       "    <tr>\n",
       "      <th>23</th>\n",
       "      <td>Hyundai</td>\n",
       "      <td>Kona Electric 39 kWh</td>\n",
       "      <td>SUV</td>\n",
       "      <td>B</td>\n",
       "      <td>0.0260</td>\n",
       "      <td>37104260.0</td>\n",
       "      <td>10225579.0</td>\n",
       "      <td>7.66</td>\n",
       "      <td>3.94</td>\n",
       "      <td>8.40</td>\n",
       "      <td>4</td>\n",
       "    </tr>\n",
       "    <tr>\n",
       "      <th>24</th>\n",
       "      <td>Peugeot</td>\n",
       "      <td>e-2008 SUV</td>\n",
       "      <td>SUV</td>\n",
       "      <td>B</td>\n",
       "      <td>0.0304</td>\n",
       "      <td>37517660.0</td>\n",
       "      <td>9779836.0</td>\n",
       "      <td>7.26</td>\n",
       "      <td>3.72</td>\n",
       "      <td>8.31</td>\n",
       "      <td>4</td>\n",
       "    </tr>\n",
       "    <tr>\n",
       "      <th>28</th>\n",
       "      <td>Opel</td>\n",
       "      <td>Mokka-e</td>\n",
       "      <td>SUV</td>\n",
       "      <td>B</td>\n",
       "      <td>0.0297</td>\n",
       "      <td>38195000.0</td>\n",
       "      <td>9107472.0</td>\n",
       "      <td>6.66</td>\n",
       "      <td>3.41</td>\n",
       "      <td>8.16</td>\n",
       "      <td>4</td>\n",
       "    </tr>\n",
       "  </tbody>\n",
       "</table>\n",
       "</div>"
      ],
      "text/plain": [
       "       Brand                 Model Tipo de Auto Segmento  \\\n",
       "13       MG                  ZS EV          SUV        B   \n",
       "20      Kia          e-Soul 39 kWh          SUV        B   \n",
       "23  Hyundai   Kona Electric 39 kWh          SUV        B   \n",
       "24  Peugeot            e-2008 SUV           SUV        B   \n",
       "28     Opel               Mokka-e           SUV        B   \n",
       "\n",
       "    Efficiency Total (kWh/mile)  Inversión Inicial Total (USD)   VNA (USD)  \\\n",
       "13                       0.0326                     32895000.0  14386325.0   \n",
       "20                       0.0287                     36215980.0  11093956.0   \n",
       "23                       0.0260                     37104260.0  10225579.0   \n",
       "24                       0.0304                     37517660.0   9779836.0   \n",
       "28                       0.0297                     38195000.0   9107472.0   \n",
       "\n",
       "    TIR (%)  ROI Anual (%)  IR (USD) Payback Period (Años)  \n",
       "13    11.89           6.25      9.48                     4  \n",
       "20     8.47           4.38      8.61                     4  \n",
       "23     7.66           3.94      8.40                     4  \n",
       "24     7.26           3.72      8.31                     4  \n",
       "28     6.66           3.41      8.16                     4  "
      ]
     },
     "execution_count": 139,
     "metadata": {},
     "output_type": "execute_result"
    }
   ],
   "source": [
    "tipo_de_auto = tipo_de_auto_selector.value\n",
    "segmento = segmento_selector.value\n",
    "resultados_flota_aux = resultados_flota.copy()\n",
    "resultados_flota_aux = filtra(resultados_flota_aux, tipo_de_auto, segmento )\n",
    "resultados_flota_aux.head(5) # head (5) para obtener el Ranking "
   ]
  },
  {
   "cell_type": "code",
   "execution_count": null,
   "metadata": {},
   "outputs": [],
   "source": [
    "actual_data = pd.read_csv(r\"..\\datasets\\2. Depurados\\TLC Aggregated Data\\merged_taxi_data.csv\")\n",
    "max_date = actual_data['date'].max()\n",
    "actual_data = actual_data[(actual_data['industry']=='FHV - High Volume') & (actual_data['date']==max_date)]\n",
    "\n",
    "unique_vehicles = actual_data['unique_vehicles'].iloc[0]\n",
    "total_trips =  actual_data['total_trips'].iloc[0]\n",
    "avg_trips_per_vehicle = total_trips/unique_vehicles\n",
    "avg_trip_distance = actual_data['avg_trip_distance'].iloc[0]\n",
    "\n",
    "CO2_convencional = (cantidad_conv+cantidad_ve) * avg_trips_per_vehicle * avg_trip_distance  * 400 /1000000\n",
    "CO2_real = (cantidad_conv) * avg_trips_per_vehicle * avg_trip_distance  * 400 /1000000 + cantidad_ve * avg_trips_per_vehicle * avg_trip_distance  * 42 /1000000\n",
    "ahorro_CO2 = (1 - CO2_real/CO2_convencional) * 100\n",
    "\n",
    "best_roi = resultados_flota['ROI Anual (%)'].iloc[0]"
   ]
  },
  {
   "cell_type": "code",
   "execution_count": null,
   "metadata": {},
   "outputs": [
    {
     "data": {
      "application/vnd.plotly.v1+json": {
       "config": {
        "plotlyServerURL": "https://plot.ly"
       },
       "data": [
        {
         "domain": {
          "x": [
           0,
           0.475
          ],
          "y": [
           0.6000000000000001,
           1
          ]
         },
         "gauge": {
          "axis": {
           "range": [
            0,
            30
           ]
          },
          "bar": {
           "color": "blue"
          },
          "steps": [
           {
            "color": "lightblue",
            "range": [
             0,
             15.85
            ]
           },
           {
            "color": "white",
            "range": [
             15.85,
             30
            ]
           }
          ],
          "threshold": {
           "line": {
            "color": "darkblue",
            "width": 4
           },
           "thickness": 0.75,
           "value": 8
          }
         },
         "mode": "gauge+number",
         "number": {
          "suffix": "%"
         },
         "title": {
          "text": "KPI: ROI Anual"
         },
         "type": "indicator",
         "value": 15.85
        },
        {
         "domain": {
          "x": [
           0.525,
           1
          ],
          "y": [
           0.6000000000000001,
           1
          ]
         },
         "gauge": {
          "axis": {
           "range": [
            0,
            2.4823135161970957
           ]
          },
          "bar": {
           "color": "blue"
          },
          "steps": [
           {
            "color": "lightblue",
            "range": [
             0,
             1.2411567580985479
            ]
           },
           {
            "color": "white",
            "range": [
             1.2411567580985479,
             2.4823135161970957
            ]
           }
          ],
          "threshold": {
           "line": {
            "color": "darkblue",
            "width": 4
           },
           "thickness": 0.75,
           "value": 1
          }
         },
         "mode": "gauge+number",
         "number": {
          "suffix": "%"
         },
         "title": {
          "text": "Proporción de Mercado (Cantidad de Autos)"
         },
         "type": "indicator",
         "value": 1.2411567580985479
        },
        {
         "domain": {
          "x": [
           0,
           0.475
          ],
          "y": [
           0,
           0.4
          ]
         },
         "gauge": {
          "axis": {
           "range": [
            0,
            2.4823135161970957
           ]
          },
          "bar": {
           "color": "blue"
          },
          "steps": [
           {
            "color": "lightblue",
            "range": [
             0,
             1.2411567580985479
            ]
           },
           {
            "color": "white",
            "range": [
             1.2411567580985479,
             2.4823135161970957
            ]
           }
          ],
          "threshold": {
           "line": {
            "color": "darkblue",
            "width": 4
           },
           "thickness": 0.75,
           "value": 1
          }
         },
         "mode": "gauge+number",
         "number": {
          "suffix": "%"
         },
         "title": {
          "text": "Proporción de Mercado (Cantidad de Viajes)"
         },
         "type": "indicator",
         "value": 1.2411567580985479
        },
        {
         "domain": {
          "x": [
           0.525,
           1
          ],
          "y": [
           0,
           0.4
          ]
         },
         "gauge": {
          "axis": {
           "range": [
            0,
            100
           ]
          },
          "bar": {
           "color": "blue"
          },
          "steps": [
           {
            "color": "lightblue",
            "range": [
             0,
             89.5
            ]
           },
           {
            "color": "white",
            "range": [
             89.5,
             100
            ]
           }
          ],
          "threshold": {
           "line": {
            "color": "darkblue",
            "width": 4
           },
           "thickness": 0.75,
           "value": 30
          }
         },
         "mode": "gauge+number",
         "number": {
          "suffix": "%"
         },
         "title": {
          "text": "Ahorro de CO2 respecto de flota convencional"
         },
         "type": "indicator",
         "value": 89.5
        }
       ],
       "layout": {
        "height": 1000,
        "template": {
         "data": {
          "bar": [
           {
            "error_x": {
             "color": "#2a3f5f"
            },
            "error_y": {
             "color": "#2a3f5f"
            },
            "marker": {
             "line": {
              "color": "#E5ECF6",
              "width": 0.5
             },
             "pattern": {
              "fillmode": "overlay",
              "size": 10,
              "solidity": 0.2
             }
            },
            "type": "bar"
           }
          ],
          "barpolar": [
           {
            "marker": {
             "line": {
              "color": "#E5ECF6",
              "width": 0.5
             },
             "pattern": {
              "fillmode": "overlay",
              "size": 10,
              "solidity": 0.2
             }
            },
            "type": "barpolar"
           }
          ],
          "carpet": [
           {
            "aaxis": {
             "endlinecolor": "#2a3f5f",
             "gridcolor": "white",
             "linecolor": "white",
             "minorgridcolor": "white",
             "startlinecolor": "#2a3f5f"
            },
            "baxis": {
             "endlinecolor": "#2a3f5f",
             "gridcolor": "white",
             "linecolor": "white",
             "minorgridcolor": "white",
             "startlinecolor": "#2a3f5f"
            },
            "type": "carpet"
           }
          ],
          "choropleth": [
           {
            "colorbar": {
             "outlinewidth": 0,
             "ticks": ""
            },
            "type": "choropleth"
           }
          ],
          "contour": [
           {
            "colorbar": {
             "outlinewidth": 0,
             "ticks": ""
            },
            "colorscale": [
             [
              0,
              "#0d0887"
             ],
             [
              0.1111111111111111,
              "#46039f"
             ],
             [
              0.2222222222222222,
              "#7201a8"
             ],
             [
              0.3333333333333333,
              "#9c179e"
             ],
             [
              0.4444444444444444,
              "#bd3786"
             ],
             [
              0.5555555555555556,
              "#d8576b"
             ],
             [
              0.6666666666666666,
              "#ed7953"
             ],
             [
              0.7777777777777778,
              "#fb9f3a"
             ],
             [
              0.8888888888888888,
              "#fdca26"
             ],
             [
              1,
              "#f0f921"
             ]
            ],
            "type": "contour"
           }
          ],
          "contourcarpet": [
           {
            "colorbar": {
             "outlinewidth": 0,
             "ticks": ""
            },
            "type": "contourcarpet"
           }
          ],
          "heatmap": [
           {
            "colorbar": {
             "outlinewidth": 0,
             "ticks": ""
            },
            "colorscale": [
             [
              0,
              "#0d0887"
             ],
             [
              0.1111111111111111,
              "#46039f"
             ],
             [
              0.2222222222222222,
              "#7201a8"
             ],
             [
              0.3333333333333333,
              "#9c179e"
             ],
             [
              0.4444444444444444,
              "#bd3786"
             ],
             [
              0.5555555555555556,
              "#d8576b"
             ],
             [
              0.6666666666666666,
              "#ed7953"
             ],
             [
              0.7777777777777778,
              "#fb9f3a"
             ],
             [
              0.8888888888888888,
              "#fdca26"
             ],
             [
              1,
              "#f0f921"
             ]
            ],
            "type": "heatmap"
           }
          ],
          "heatmapgl": [
           {
            "colorbar": {
             "outlinewidth": 0,
             "ticks": ""
            },
            "colorscale": [
             [
              0,
              "#0d0887"
             ],
             [
              0.1111111111111111,
              "#46039f"
             ],
             [
              0.2222222222222222,
              "#7201a8"
             ],
             [
              0.3333333333333333,
              "#9c179e"
             ],
             [
              0.4444444444444444,
              "#bd3786"
             ],
             [
              0.5555555555555556,
              "#d8576b"
             ],
             [
              0.6666666666666666,
              "#ed7953"
             ],
             [
              0.7777777777777778,
              "#fb9f3a"
             ],
             [
              0.8888888888888888,
              "#fdca26"
             ],
             [
              1,
              "#f0f921"
             ]
            ],
            "type": "heatmapgl"
           }
          ],
          "histogram": [
           {
            "marker": {
             "pattern": {
              "fillmode": "overlay",
              "size": 10,
              "solidity": 0.2
             }
            },
            "type": "histogram"
           }
          ],
          "histogram2d": [
           {
            "colorbar": {
             "outlinewidth": 0,
             "ticks": ""
            },
            "colorscale": [
             [
              0,
              "#0d0887"
             ],
             [
              0.1111111111111111,
              "#46039f"
             ],
             [
              0.2222222222222222,
              "#7201a8"
             ],
             [
              0.3333333333333333,
              "#9c179e"
             ],
             [
              0.4444444444444444,
              "#bd3786"
             ],
             [
              0.5555555555555556,
              "#d8576b"
             ],
             [
              0.6666666666666666,
              "#ed7953"
             ],
             [
              0.7777777777777778,
              "#fb9f3a"
             ],
             [
              0.8888888888888888,
              "#fdca26"
             ],
             [
              1,
              "#f0f921"
             ]
            ],
            "type": "histogram2d"
           }
          ],
          "histogram2dcontour": [
           {
            "colorbar": {
             "outlinewidth": 0,
             "ticks": ""
            },
            "colorscale": [
             [
              0,
              "#0d0887"
             ],
             [
              0.1111111111111111,
              "#46039f"
             ],
             [
              0.2222222222222222,
              "#7201a8"
             ],
             [
              0.3333333333333333,
              "#9c179e"
             ],
             [
              0.4444444444444444,
              "#bd3786"
             ],
             [
              0.5555555555555556,
              "#d8576b"
             ],
             [
              0.6666666666666666,
              "#ed7953"
             ],
             [
              0.7777777777777778,
              "#fb9f3a"
             ],
             [
              0.8888888888888888,
              "#fdca26"
             ],
             [
              1,
              "#f0f921"
             ]
            ],
            "type": "histogram2dcontour"
           }
          ],
          "mesh3d": [
           {
            "colorbar": {
             "outlinewidth": 0,
             "ticks": ""
            },
            "type": "mesh3d"
           }
          ],
          "parcoords": [
           {
            "line": {
             "colorbar": {
              "outlinewidth": 0,
              "ticks": ""
             }
            },
            "type": "parcoords"
           }
          ],
          "pie": [
           {
            "automargin": true,
            "type": "pie"
           }
          ],
          "scatter": [
           {
            "fillpattern": {
             "fillmode": "overlay",
             "size": 10,
             "solidity": 0.2
            },
            "type": "scatter"
           }
          ],
          "scatter3d": [
           {
            "line": {
             "colorbar": {
              "outlinewidth": 0,
              "ticks": ""
             }
            },
            "marker": {
             "colorbar": {
              "outlinewidth": 0,
              "ticks": ""
             }
            },
            "type": "scatter3d"
           }
          ],
          "scattercarpet": [
           {
            "marker": {
             "colorbar": {
              "outlinewidth": 0,
              "ticks": ""
             }
            },
            "type": "scattercarpet"
           }
          ],
          "scattergeo": [
           {
            "marker": {
             "colorbar": {
              "outlinewidth": 0,
              "ticks": ""
             }
            },
            "type": "scattergeo"
           }
          ],
          "scattergl": [
           {
            "marker": {
             "colorbar": {
              "outlinewidth": 0,
              "ticks": ""
             }
            },
            "type": "scattergl"
           }
          ],
          "scattermapbox": [
           {
            "marker": {
             "colorbar": {
              "outlinewidth": 0,
              "ticks": ""
             }
            },
            "type": "scattermapbox"
           }
          ],
          "scatterpolar": [
           {
            "marker": {
             "colorbar": {
              "outlinewidth": 0,
              "ticks": ""
             }
            },
            "type": "scatterpolar"
           }
          ],
          "scatterpolargl": [
           {
            "marker": {
             "colorbar": {
              "outlinewidth": 0,
              "ticks": ""
             }
            },
            "type": "scatterpolargl"
           }
          ],
          "scatterternary": [
           {
            "marker": {
             "colorbar": {
              "outlinewidth": 0,
              "ticks": ""
             }
            },
            "type": "scatterternary"
           }
          ],
          "surface": [
           {
            "colorbar": {
             "outlinewidth": 0,
             "ticks": ""
            },
            "colorscale": [
             [
              0,
              "#0d0887"
             ],
             [
              0.1111111111111111,
              "#46039f"
             ],
             [
              0.2222222222222222,
              "#7201a8"
             ],
             [
              0.3333333333333333,
              "#9c179e"
             ],
             [
              0.4444444444444444,
              "#bd3786"
             ],
             [
              0.5555555555555556,
              "#d8576b"
             ],
             [
              0.6666666666666666,
              "#ed7953"
             ],
             [
              0.7777777777777778,
              "#fb9f3a"
             ],
             [
              0.8888888888888888,
              "#fdca26"
             ],
             [
              1,
              "#f0f921"
             ]
            ],
            "type": "surface"
           }
          ],
          "table": [
           {
            "cells": {
             "fill": {
              "color": "#EBF0F8"
             },
             "line": {
              "color": "white"
             }
            },
            "header": {
             "fill": {
              "color": "#C8D4E3"
             },
             "line": {
              "color": "white"
             }
            },
            "type": "table"
           }
          ]
         },
         "layout": {
          "annotationdefaults": {
           "arrowcolor": "#2a3f5f",
           "arrowhead": 0,
           "arrowwidth": 1
          },
          "autotypenumbers": "strict",
          "coloraxis": {
           "colorbar": {
            "outlinewidth": 0,
            "ticks": ""
           }
          },
          "colorscale": {
           "diverging": [
            [
             0,
             "#8e0152"
            ],
            [
             0.1,
             "#c51b7d"
            ],
            [
             0.2,
             "#de77ae"
            ],
            [
             0.3,
             "#f1b6da"
            ],
            [
             0.4,
             "#fde0ef"
            ],
            [
             0.5,
             "#f7f7f7"
            ],
            [
             0.6,
             "#e6f5d0"
            ],
            [
             0.7,
             "#b8e186"
            ],
            [
             0.8,
             "#7fbc41"
            ],
            [
             0.9,
             "#4d9221"
            ],
            [
             1,
             "#276419"
            ]
           ],
           "sequential": [
            [
             0,
             "#0d0887"
            ],
            [
             0.1111111111111111,
             "#46039f"
            ],
            [
             0.2222222222222222,
             "#7201a8"
            ],
            [
             0.3333333333333333,
             "#9c179e"
            ],
            [
             0.4444444444444444,
             "#bd3786"
            ],
            [
             0.5555555555555556,
             "#d8576b"
            ],
            [
             0.6666666666666666,
             "#ed7953"
            ],
            [
             0.7777777777777778,
             "#fb9f3a"
            ],
            [
             0.8888888888888888,
             "#fdca26"
            ],
            [
             1,
             "#f0f921"
            ]
           ],
           "sequentialminus": [
            [
             0,
             "#0d0887"
            ],
            [
             0.1111111111111111,
             "#46039f"
            ],
            [
             0.2222222222222222,
             "#7201a8"
            ],
            [
             0.3333333333333333,
             "#9c179e"
            ],
            [
             0.4444444444444444,
             "#bd3786"
            ],
            [
             0.5555555555555556,
             "#d8576b"
            ],
            [
             0.6666666666666666,
             "#ed7953"
            ],
            [
             0.7777777777777778,
             "#fb9f3a"
            ],
            [
             0.8888888888888888,
             "#fdca26"
            ],
            [
             1,
             "#f0f921"
            ]
           ]
          },
          "colorway": [
           "#636efa",
           "#EF553B",
           "#00cc96",
           "#ab63fa",
           "#FFA15A",
           "#19d3f3",
           "#FF6692",
           "#B6E880",
           "#FF97FF",
           "#FECB52"
          ],
          "font": {
           "color": "#2a3f5f"
          },
          "geo": {
           "bgcolor": "white",
           "lakecolor": "white",
           "landcolor": "#E5ECF6",
           "showlakes": true,
           "showland": true,
           "subunitcolor": "white"
          },
          "hoverlabel": {
           "align": "left"
          },
          "hovermode": "closest",
          "mapbox": {
           "style": "light"
          },
          "paper_bgcolor": "white",
          "plot_bgcolor": "#E5ECF6",
          "polar": {
           "angularaxis": {
            "gridcolor": "white",
            "linecolor": "white",
            "ticks": ""
           },
           "bgcolor": "#E5ECF6",
           "radialaxis": {
            "gridcolor": "white",
            "linecolor": "white",
            "ticks": ""
           }
          },
          "scene": {
           "xaxis": {
            "backgroundcolor": "#E5ECF6",
            "gridcolor": "white",
            "gridwidth": 2,
            "linecolor": "white",
            "showbackground": true,
            "ticks": "",
            "zerolinecolor": "white"
           },
           "yaxis": {
            "backgroundcolor": "#E5ECF6",
            "gridcolor": "white",
            "gridwidth": 2,
            "linecolor": "white",
            "showbackground": true,
            "ticks": "",
            "zerolinecolor": "white"
           },
           "zaxis": {
            "backgroundcolor": "#E5ECF6",
            "gridcolor": "white",
            "gridwidth": 2,
            "linecolor": "white",
            "showbackground": true,
            "ticks": "",
            "zerolinecolor": "white"
           }
          },
          "shapedefaults": {
           "line": {
            "color": "#2a3f5f"
           }
          },
          "ternary": {
           "aaxis": {
            "gridcolor": "white",
            "linecolor": "white",
            "ticks": ""
           },
           "baxis": {
            "gridcolor": "white",
            "linecolor": "white",
            "ticks": ""
           },
           "bgcolor": "#E5ECF6",
           "caxis": {
            "gridcolor": "white",
            "linecolor": "white",
            "ticks": ""
           }
          },
          "title": {
           "x": 0.05
          },
          "xaxis": {
           "automargin": true,
           "gridcolor": "white",
           "linecolor": "white",
           "ticks": "",
           "title": {
            "standoff": 15
           },
           "zerolinecolor": "white",
           "zerolinewidth": 2
          },
          "yaxis": {
           "automargin": true,
           "gridcolor": "white",
           "linecolor": "white",
           "ticks": "",
           "title": {
            "standoff": 15
           },
           "zerolinecolor": "white",
           "zerolinewidth": 2
          }
         }
        },
        "title": {
         "font": {
          "color": "black",
          "size": 20
         },
         "text": "Indicadores Clave de Desempeño (KPIs)",
         "x": 0.5,
         "xanchor": "center",
         "yanchor": "top"
        },
        "width": 1000
       }
      }
     },
     "metadata": {},
     "output_type": "display_data"
    }
   ],
   "source": [
    "from plotly.subplots import make_subplots\n",
    "import plotly.graph_objects as go\n",
    "\n",
    "# Crear subplots (2 filas, 2 columnas)\n",
    "fig = make_subplots(\n",
    "    rows=2, cols=2, \n",
    "    # subplot_titles=[\n",
    "    #     \"KPI: ROI Anual\", \n",
    "    #     \"Proporción por Cantidad de Autos\", \n",
    "    #     \"Proporción por Cantidad de Viajes\", \n",
    "    #     \"Ahorro de CO2\"\n",
    "    # ],\n",
    "    specs=[[{\"type\": \"indicator\"}, {\"type\": \"indicator\"}],\n",
    "           [{\"type\": \"indicator\"}, {\"type\": \"indicator\"}]]\n",
    "    ,\n",
    "    horizontal_spacing=0.05,  # Mayor espacio horizontal entre gráficos\n",
    "    vertical_spacing=0.2     # Mayor espacio vertical entre gráficos\n",
    ")\n",
    "\n",
    "# KPI: ROI Anual\n",
    "valor_actual = best_roi  # Valor actual del KPI\n",
    "rango_max = 30\n",
    "threshold_value = 8\n",
    "\n",
    "fig.add_trace(\n",
    "    go.Indicator(\n",
    "        mode=\"gauge+number\",\n",
    "        value=valor_actual,\n",
    "        gauge={\n",
    "            'axis': {'range': [0, rango_max]},\n",
    "            'bar': {'color': \"blue\"},\n",
    "            'steps': [\n",
    "                {'range': [0, valor_actual], 'color': \"lightblue\"},\n",
    "                {'range': [valor_actual, rango_max], 'color': \"white\"}\n",
    "            ],\n",
    "            'threshold': {\n",
    "                'line': {'color': \"darkblue\", 'width': 4},\n",
    "                'thickness': 0.75,\n",
    "                'value': threshold_value\n",
    "            }\n",
    "        },\n",
    "        number={'suffix': \"%\"},\n",
    "        title={'text': \"KPI: ROI Anual\"}\n",
    "    ),\n",
    "    row=1, col=1\n",
    ")\n",
    "\n",
    "# KPI: Proporción por cantidad de autos\n",
    "valor_actual = (cantidad_conv + cantidad_ve) / unique_vehicles * 100\n",
    "rango_max = valor_actual * 2\n",
    "threshold_value = 1\n",
    "\n",
    "fig.add_trace(\n",
    "    go.Indicator(\n",
    "        mode=\"gauge+number\",\n",
    "        value=valor_actual,\n",
    "        gauge={\n",
    "            'axis': {'range': [0, rango_max]},\n",
    "            'bar': {'color': \"blue\"},\n",
    "            'steps': [\n",
    "                {'range': [0, valor_actual], 'color': \"lightblue\"},\n",
    "                {'range': [valor_actual, rango_max], 'color': \"white\"}\n",
    "            ],\n",
    "            'threshold': {\n",
    "                'line': {'color': \"darkblue\", 'width': 4},\n",
    "                'thickness': 0.75,\n",
    "                'value': threshold_value\n",
    "            }\n",
    "        },\n",
    "        number={'suffix': \"%\"},\n",
    "        title={'text': \"Proporción de Mercado (Cantidad de Autos)\"}\n",
    "    ),\n",
    "    row=1, col=2\n",
    ")\n",
    "\n",
    "# KPI: Proporción por cantidad de viajes\n",
    "valor_actual = (cantidad_conv + cantidad_ve) * avg_trips_per_vehicle / total_trips * 100\n",
    "rango_max = valor_actual * 2\n",
    "threshold_value = 1\n",
    "\n",
    "fig.add_trace(\n",
    "    go.Indicator(\n",
    "        mode=\"gauge+number\",\n",
    "        value=valor_actual,\n",
    "        gauge={\n",
    "            'axis': {'range': [0, rango_max]},\n",
    "            'bar': {'color': \"blue\"},\n",
    "            'steps': [\n",
    "                {'range': [0, valor_actual], 'color': \"lightblue\"},\n",
    "                {'range': [valor_actual, rango_max], 'color': \"white\"}\n",
    "            ],\n",
    "            'threshold': {\n",
    "                'line': {'color': \"darkblue\", 'width': 4},\n",
    "                'thickness': 0.75,\n",
    "                'value': threshold_value\n",
    "            }\n",
    "        },\n",
    "        number={'suffix': \"%\"},\n",
    "        title={'text': \"Proporción de Mercado (Cantidad de Viajes)\"}\n",
    "    ),\n",
    "    row=2, col=1\n",
    ")\n",
    "\n",
    "# KPI: Ahorro de CO2\n",
    "valor_actual = ahorro_CO2\n",
    "rango_max = 100\n",
    "threshold_value = 30\n",
    "\n",
    "fig.add_trace(\n",
    "    go.Indicator(\n",
    "        mode=\"gauge+number\",\n",
    "        value=valor_actual,\n",
    "        gauge={\n",
    "            'axis': {'range': [0, rango_max]},\n",
    "            'bar': {'color': \"blue\"},\n",
    "            'steps': [\n",
    "                {'range': [0, valor_actual], 'color': \"lightblue\"},\n",
    "                {'range': [valor_actual, rango_max], 'color': \"white\"}\n",
    "            ],\n",
    "            'threshold': {\n",
    "                'line': {'color': \"darkblue\", 'width': 4},\n",
    "                'thickness': 0.75,\n",
    "                'value': threshold_value\n",
    "            }\n",
    "        },\n",
    "        number={'suffix': \"%\"},\n",
    "        title={'text': \"Ahorro de CO2 respecto de flota convencional\"}\n",
    "    ),\n",
    "    row=2, col=2\n",
    ")\n",
    "\n",
    "# Actualizar el diseño\n",
    "fig.update_layout(\n",
    "    height=1000,  # Aumentar la altura total del gráfico\n",
    "    width=1000,    # Mantener el ancho del gráfico\n",
    "    title={\n",
    "        'text': \"Indicadores Clave de Desempeño (KPIs)\",  # Título del gráfico\n",
    "        'x': 0.5,  # Centrar el título (0.0 = izquierda, 0.5 = centro, 1.0 = derecha)\n",
    "        'xanchor': 'center',  # Asegurar que el anclaje también esté centrado\n",
    "        'yanchor': 'top',     # Anclaje vertical\n",
    "        'font': {\n",
    "            'size': 20,       # Tamaño de la fuente\n",
    "            'color': 'black'  # Color del texto\n",
    "        }\n",
    "    }\n",
    ")\n",
    "\n",
    "\n",
    "# Mostrar el gráfico\n",
    "fig.show()\n"
   ]
  },
  {
   "cell_type": "code",
   "execution_count": null,
   "metadata": {},
   "outputs": [
    {
     "data": {
      "application/vnd.plotly.v1+json": {
       "config": {
        "plotlyServerURL": "https://plot.ly"
       },
       "data": [
        {
         "gauge": {
          "axis": {
           "range": [
            0,
            30
           ]
          },
          "bar": {
           "color": "blue"
          },
          "steps": [
           {
            "color": "lightblue",
            "range": [
             0,
             15.85
            ]
           },
           {
            "color": "white",
            "range": [
             15.85,
             30
            ]
           }
          ],
          "threshold": {
           "line": {
            "color": "darkblue",
            "width": 4
           },
           "thickness": 0.75,
           "value": 8
          }
         },
         "mode": "gauge+number",
         "number": {
          "suffix": "%"
         },
         "title": {
          "text": "KPI: ROI Anual"
         },
         "type": "indicator",
         "value": 15.85
        }
       ],
       "layout": {
        "annotations": [
         {
          "font": {
           "color": "darkblue",
           "size": 12
          },
          "showarrow": false,
          "text": "Objetivo: 8%",
          "x": 0.5,
          "xanchor": "center",
          "y": 0,
          "yanchor": "top"
         }
        ],
        "template": {
         "data": {
          "bar": [
           {
            "error_x": {
             "color": "#2a3f5f"
            },
            "error_y": {
             "color": "#2a3f5f"
            },
            "marker": {
             "line": {
              "color": "#E5ECF6",
              "width": 0.5
             },
             "pattern": {
              "fillmode": "overlay",
              "size": 10,
              "solidity": 0.2
             }
            },
            "type": "bar"
           }
          ],
          "barpolar": [
           {
            "marker": {
             "line": {
              "color": "#E5ECF6",
              "width": 0.5
             },
             "pattern": {
              "fillmode": "overlay",
              "size": 10,
              "solidity": 0.2
             }
            },
            "type": "barpolar"
           }
          ],
          "carpet": [
           {
            "aaxis": {
             "endlinecolor": "#2a3f5f",
             "gridcolor": "white",
             "linecolor": "white",
             "minorgridcolor": "white",
             "startlinecolor": "#2a3f5f"
            },
            "baxis": {
             "endlinecolor": "#2a3f5f",
             "gridcolor": "white",
             "linecolor": "white",
             "minorgridcolor": "white",
             "startlinecolor": "#2a3f5f"
            },
            "type": "carpet"
           }
          ],
          "choropleth": [
           {
            "colorbar": {
             "outlinewidth": 0,
             "ticks": ""
            },
            "type": "choropleth"
           }
          ],
          "contour": [
           {
            "colorbar": {
             "outlinewidth": 0,
             "ticks": ""
            },
            "colorscale": [
             [
              0,
              "#0d0887"
             ],
             [
              0.1111111111111111,
              "#46039f"
             ],
             [
              0.2222222222222222,
              "#7201a8"
             ],
             [
              0.3333333333333333,
              "#9c179e"
             ],
             [
              0.4444444444444444,
              "#bd3786"
             ],
             [
              0.5555555555555556,
              "#d8576b"
             ],
             [
              0.6666666666666666,
              "#ed7953"
             ],
             [
              0.7777777777777778,
              "#fb9f3a"
             ],
             [
              0.8888888888888888,
              "#fdca26"
             ],
             [
              1,
              "#f0f921"
             ]
            ],
            "type": "contour"
           }
          ],
          "contourcarpet": [
           {
            "colorbar": {
             "outlinewidth": 0,
             "ticks": ""
            },
            "type": "contourcarpet"
           }
          ],
          "heatmap": [
           {
            "colorbar": {
             "outlinewidth": 0,
             "ticks": ""
            },
            "colorscale": [
             [
              0,
              "#0d0887"
             ],
             [
              0.1111111111111111,
              "#46039f"
             ],
             [
              0.2222222222222222,
              "#7201a8"
             ],
             [
              0.3333333333333333,
              "#9c179e"
             ],
             [
              0.4444444444444444,
              "#bd3786"
             ],
             [
              0.5555555555555556,
              "#d8576b"
             ],
             [
              0.6666666666666666,
              "#ed7953"
             ],
             [
              0.7777777777777778,
              "#fb9f3a"
             ],
             [
              0.8888888888888888,
              "#fdca26"
             ],
             [
              1,
              "#f0f921"
             ]
            ],
            "type": "heatmap"
           }
          ],
          "heatmapgl": [
           {
            "colorbar": {
             "outlinewidth": 0,
             "ticks": ""
            },
            "colorscale": [
             [
              0,
              "#0d0887"
             ],
             [
              0.1111111111111111,
              "#46039f"
             ],
             [
              0.2222222222222222,
              "#7201a8"
             ],
             [
              0.3333333333333333,
              "#9c179e"
             ],
             [
              0.4444444444444444,
              "#bd3786"
             ],
             [
              0.5555555555555556,
              "#d8576b"
             ],
             [
              0.6666666666666666,
              "#ed7953"
             ],
             [
              0.7777777777777778,
              "#fb9f3a"
             ],
             [
              0.8888888888888888,
              "#fdca26"
             ],
             [
              1,
              "#f0f921"
             ]
            ],
            "type": "heatmapgl"
           }
          ],
          "histogram": [
           {
            "marker": {
             "pattern": {
              "fillmode": "overlay",
              "size": 10,
              "solidity": 0.2
             }
            },
            "type": "histogram"
           }
          ],
          "histogram2d": [
           {
            "colorbar": {
             "outlinewidth": 0,
             "ticks": ""
            },
            "colorscale": [
             [
              0,
              "#0d0887"
             ],
             [
              0.1111111111111111,
              "#46039f"
             ],
             [
              0.2222222222222222,
              "#7201a8"
             ],
             [
              0.3333333333333333,
              "#9c179e"
             ],
             [
              0.4444444444444444,
              "#bd3786"
             ],
             [
              0.5555555555555556,
              "#d8576b"
             ],
             [
              0.6666666666666666,
              "#ed7953"
             ],
             [
              0.7777777777777778,
              "#fb9f3a"
             ],
             [
              0.8888888888888888,
              "#fdca26"
             ],
             [
              1,
              "#f0f921"
             ]
            ],
            "type": "histogram2d"
           }
          ],
          "histogram2dcontour": [
           {
            "colorbar": {
             "outlinewidth": 0,
             "ticks": ""
            },
            "colorscale": [
             [
              0,
              "#0d0887"
             ],
             [
              0.1111111111111111,
              "#46039f"
             ],
             [
              0.2222222222222222,
              "#7201a8"
             ],
             [
              0.3333333333333333,
              "#9c179e"
             ],
             [
              0.4444444444444444,
              "#bd3786"
             ],
             [
              0.5555555555555556,
              "#d8576b"
             ],
             [
              0.6666666666666666,
              "#ed7953"
             ],
             [
              0.7777777777777778,
              "#fb9f3a"
             ],
             [
              0.8888888888888888,
              "#fdca26"
             ],
             [
              1,
              "#f0f921"
             ]
            ],
            "type": "histogram2dcontour"
           }
          ],
          "mesh3d": [
           {
            "colorbar": {
             "outlinewidth": 0,
             "ticks": ""
            },
            "type": "mesh3d"
           }
          ],
          "parcoords": [
           {
            "line": {
             "colorbar": {
              "outlinewidth": 0,
              "ticks": ""
             }
            },
            "type": "parcoords"
           }
          ],
          "pie": [
           {
            "automargin": true,
            "type": "pie"
           }
          ],
          "scatter": [
           {
            "fillpattern": {
             "fillmode": "overlay",
             "size": 10,
             "solidity": 0.2
            },
            "type": "scatter"
           }
          ],
          "scatter3d": [
           {
            "line": {
             "colorbar": {
              "outlinewidth": 0,
              "ticks": ""
             }
            },
            "marker": {
             "colorbar": {
              "outlinewidth": 0,
              "ticks": ""
             }
            },
            "type": "scatter3d"
           }
          ],
          "scattercarpet": [
           {
            "marker": {
             "colorbar": {
              "outlinewidth": 0,
              "ticks": ""
             }
            },
            "type": "scattercarpet"
           }
          ],
          "scattergeo": [
           {
            "marker": {
             "colorbar": {
              "outlinewidth": 0,
              "ticks": ""
             }
            },
            "type": "scattergeo"
           }
          ],
          "scattergl": [
           {
            "marker": {
             "colorbar": {
              "outlinewidth": 0,
              "ticks": ""
             }
            },
            "type": "scattergl"
           }
          ],
          "scattermapbox": [
           {
            "marker": {
             "colorbar": {
              "outlinewidth": 0,
              "ticks": ""
             }
            },
            "type": "scattermapbox"
           }
          ],
          "scatterpolar": [
           {
            "marker": {
             "colorbar": {
              "outlinewidth": 0,
              "ticks": ""
             }
            },
            "type": "scatterpolar"
           }
          ],
          "scatterpolargl": [
           {
            "marker": {
             "colorbar": {
              "outlinewidth": 0,
              "ticks": ""
             }
            },
            "type": "scatterpolargl"
           }
          ],
          "scatterternary": [
           {
            "marker": {
             "colorbar": {
              "outlinewidth": 0,
              "ticks": ""
             }
            },
            "type": "scatterternary"
           }
          ],
          "surface": [
           {
            "colorbar": {
             "outlinewidth": 0,
             "ticks": ""
            },
            "colorscale": [
             [
              0,
              "#0d0887"
             ],
             [
              0.1111111111111111,
              "#46039f"
             ],
             [
              0.2222222222222222,
              "#7201a8"
             ],
             [
              0.3333333333333333,
              "#9c179e"
             ],
             [
              0.4444444444444444,
              "#bd3786"
             ],
             [
              0.5555555555555556,
              "#d8576b"
             ],
             [
              0.6666666666666666,
              "#ed7953"
             ],
             [
              0.7777777777777778,
              "#fb9f3a"
             ],
             [
              0.8888888888888888,
              "#fdca26"
             ],
             [
              1,
              "#f0f921"
             ]
            ],
            "type": "surface"
           }
          ],
          "table": [
           {
            "cells": {
             "fill": {
              "color": "#EBF0F8"
             },
             "line": {
              "color": "white"
             }
            },
            "header": {
             "fill": {
              "color": "#C8D4E3"
             },
             "line": {
              "color": "white"
             }
            },
            "type": "table"
           }
          ]
         },
         "layout": {
          "annotationdefaults": {
           "arrowcolor": "#2a3f5f",
           "arrowhead": 0,
           "arrowwidth": 1
          },
          "autotypenumbers": "strict",
          "coloraxis": {
           "colorbar": {
            "outlinewidth": 0,
            "ticks": ""
           }
          },
          "colorscale": {
           "diverging": [
            [
             0,
             "#8e0152"
            ],
            [
             0.1,
             "#c51b7d"
            ],
            [
             0.2,
             "#de77ae"
            ],
            [
             0.3,
             "#f1b6da"
            ],
            [
             0.4,
             "#fde0ef"
            ],
            [
             0.5,
             "#f7f7f7"
            ],
            [
             0.6,
             "#e6f5d0"
            ],
            [
             0.7,
             "#b8e186"
            ],
            [
             0.8,
             "#7fbc41"
            ],
            [
             0.9,
             "#4d9221"
            ],
            [
             1,
             "#276419"
            ]
           ],
           "sequential": [
            [
             0,
             "#0d0887"
            ],
            [
             0.1111111111111111,
             "#46039f"
            ],
            [
             0.2222222222222222,
             "#7201a8"
            ],
            [
             0.3333333333333333,
             "#9c179e"
            ],
            [
             0.4444444444444444,
             "#bd3786"
            ],
            [
             0.5555555555555556,
             "#d8576b"
            ],
            [
             0.6666666666666666,
             "#ed7953"
            ],
            [
             0.7777777777777778,
             "#fb9f3a"
            ],
            [
             0.8888888888888888,
             "#fdca26"
            ],
            [
             1,
             "#f0f921"
            ]
           ],
           "sequentialminus": [
            [
             0,
             "#0d0887"
            ],
            [
             0.1111111111111111,
             "#46039f"
            ],
            [
             0.2222222222222222,
             "#7201a8"
            ],
            [
             0.3333333333333333,
             "#9c179e"
            ],
            [
             0.4444444444444444,
             "#bd3786"
            ],
            [
             0.5555555555555556,
             "#d8576b"
            ],
            [
             0.6666666666666666,
             "#ed7953"
            ],
            [
             0.7777777777777778,
             "#fb9f3a"
            ],
            [
             0.8888888888888888,
             "#fdca26"
            ],
            [
             1,
             "#f0f921"
            ]
           ]
          },
          "colorway": [
           "#636efa",
           "#EF553B",
           "#00cc96",
           "#ab63fa",
           "#FFA15A",
           "#19d3f3",
           "#FF6692",
           "#B6E880",
           "#FF97FF",
           "#FECB52"
          ],
          "font": {
           "color": "#2a3f5f"
          },
          "geo": {
           "bgcolor": "white",
           "lakecolor": "white",
           "landcolor": "#E5ECF6",
           "showlakes": true,
           "showland": true,
           "subunitcolor": "white"
          },
          "hoverlabel": {
           "align": "left"
          },
          "hovermode": "closest",
          "mapbox": {
           "style": "light"
          },
          "paper_bgcolor": "white",
          "plot_bgcolor": "#E5ECF6",
          "polar": {
           "angularaxis": {
            "gridcolor": "white",
            "linecolor": "white",
            "ticks": ""
           },
           "bgcolor": "#E5ECF6",
           "radialaxis": {
            "gridcolor": "white",
            "linecolor": "white",
            "ticks": ""
           }
          },
          "scene": {
           "xaxis": {
            "backgroundcolor": "#E5ECF6",
            "gridcolor": "white",
            "gridwidth": 2,
            "linecolor": "white",
            "showbackground": true,
            "ticks": "",
            "zerolinecolor": "white"
           },
           "yaxis": {
            "backgroundcolor": "#E5ECF6",
            "gridcolor": "white",
            "gridwidth": 2,
            "linecolor": "white",
            "showbackground": true,
            "ticks": "",
            "zerolinecolor": "white"
           },
           "zaxis": {
            "backgroundcolor": "#E5ECF6",
            "gridcolor": "white",
            "gridwidth": 2,
            "linecolor": "white",
            "showbackground": true,
            "ticks": "",
            "zerolinecolor": "white"
           }
          },
          "shapedefaults": {
           "line": {
            "color": "#2a3f5f"
           }
          },
          "ternary": {
           "aaxis": {
            "gridcolor": "white",
            "linecolor": "white",
            "ticks": ""
           },
           "baxis": {
            "gridcolor": "white",
            "linecolor": "white",
            "ticks": ""
           },
           "bgcolor": "#E5ECF6",
           "caxis": {
            "gridcolor": "white",
            "linecolor": "white",
            "ticks": ""
           }
          },
          "title": {
           "x": 0.05
          },
          "xaxis": {
           "automargin": true,
           "gridcolor": "white",
           "linecolor": "white",
           "ticks": "",
           "title": {
            "standoff": 15
           },
           "zerolinecolor": "white",
           "zerolinewidth": 2
          },
          "yaxis": {
           "automargin": true,
           "gridcolor": "white",
           "linecolor": "white",
           "ticks": "",
           "title": {
            "standoff": 15
           },
           "zerolinecolor": "white",
           "zerolinewidth": 2
          }
         }
        }
       }
      }
     },
     "metadata": {},
     "output_type": "display_data"
    }
   ],
   "source": [
    "# KPI: ROI Anual\n",
    "# Datos\n",
    "valor_actual = best_roi  # Valor actual del KPI\n",
    "rango_max = 30     # Valor máximo del rango\n",
    "threshold_value = 8\n",
    "# Crear el gráfico tipo gauge\n",
    "fig = go.Figure(go.Indicator(\n",
    "    mode=\"gauge+number\",\n",
    "    value=valor_actual,\n",
    "    gauge={\n",
    "        'axis': {'range': [0, rango_max]},\n",
    "        'bar': {'color': \"blue\"},  # Color de la barra del indicador\n",
    "        'steps': [\n",
    "            {'range': [0, valor_actual], 'color': \"lightblue\"},  # Rango bajo\n",
    "            {'range': [valor_actual, rango_max], 'color': \"white\"}  # Rango alto\n",
    "        ],\n",
    "        'threshold': {\n",
    "            'line': {'color': \"darkblue\", 'width': 4},  # Línea del valor umbral\n",
    "            'thickness': 0.75,\n",
    "            'value': threshold_value\n",
    "        }\n",
    "    },\n",
    "    number={'suffix': \"%\"},  \n",
    "    title={'text': \"KPI: ROI Anual\"}  # Título del gráfico\n",
    "))\n",
    "# Agregar una anotación para mostrar el valor del threshold\n",
    "fig.add_annotation(\n",
    "    x=0.5,  # Posición horizontal en coordenadas del gráfico\n",
    "    y=0,    # Posición vertical\n",
    "    text=f\"Objetivo: {threshold_value}%\",  # Texto que se muestra\n",
    "    showarrow=False,  # Sin flecha\n",
    "    font=dict(size=12, color=\"darkblue\"),  # Estilo del texto\n",
    "    xanchor=\"center\",\n",
    "    yanchor=\"top\")\n",
    "# Mostrar el gráfico\n",
    "fig.show()"
   ]
  },
  {
   "cell_type": "code",
   "execution_count": null,
   "metadata": {},
   "outputs": [
    {
     "data": {
      "application/vnd.plotly.v1+json": {
       "config": {
        "plotlyServerURL": "https://plot.ly"
       },
       "data": [
        {
         "gauge": {
          "axis": {
           "range": [
            0,
            2.4823135161970957
           ]
          },
          "bar": {
           "color": "blue"
          },
          "steps": [
           {
            "color": "lightblue",
            "range": [
             0,
             1.2411567580985479
            ]
           },
           {
            "color": "white",
            "range": [
             1.2411567580985479,
             2.4823135161970957
            ]
           }
          ],
          "threshold": {
           "line": {
            "color": "darkblue",
            "width": 4
           },
           "thickness": 0.75,
           "value": 1
          }
         },
         "mode": "gauge+number",
         "number": {
          "suffix": "%"
         },
         "title": {
          "text": "KPI: Proporción de participiación Mercado por cantidad de autos"
         },
         "type": "indicator",
         "value": 1.2411567580985479
        }
       ],
       "layout": {
        "annotations": [
         {
          "font": {
           "color": "darkblue",
           "size": 12
          },
          "showarrow": false,
          "text": "Objetivo: 1%",
          "x": 0.5,
          "xanchor": "center",
          "y": 0,
          "yanchor": "top"
         }
        ],
        "template": {
         "data": {
          "bar": [
           {
            "error_x": {
             "color": "#2a3f5f"
            },
            "error_y": {
             "color": "#2a3f5f"
            },
            "marker": {
             "line": {
              "color": "#E5ECF6",
              "width": 0.5
             },
             "pattern": {
              "fillmode": "overlay",
              "size": 10,
              "solidity": 0.2
             }
            },
            "type": "bar"
           }
          ],
          "barpolar": [
           {
            "marker": {
             "line": {
              "color": "#E5ECF6",
              "width": 0.5
             },
             "pattern": {
              "fillmode": "overlay",
              "size": 10,
              "solidity": 0.2
             }
            },
            "type": "barpolar"
           }
          ],
          "carpet": [
           {
            "aaxis": {
             "endlinecolor": "#2a3f5f",
             "gridcolor": "white",
             "linecolor": "white",
             "minorgridcolor": "white",
             "startlinecolor": "#2a3f5f"
            },
            "baxis": {
             "endlinecolor": "#2a3f5f",
             "gridcolor": "white",
             "linecolor": "white",
             "minorgridcolor": "white",
             "startlinecolor": "#2a3f5f"
            },
            "type": "carpet"
           }
          ],
          "choropleth": [
           {
            "colorbar": {
             "outlinewidth": 0,
             "ticks": ""
            },
            "type": "choropleth"
           }
          ],
          "contour": [
           {
            "colorbar": {
             "outlinewidth": 0,
             "ticks": ""
            },
            "colorscale": [
             [
              0,
              "#0d0887"
             ],
             [
              0.1111111111111111,
              "#46039f"
             ],
             [
              0.2222222222222222,
              "#7201a8"
             ],
             [
              0.3333333333333333,
              "#9c179e"
             ],
             [
              0.4444444444444444,
              "#bd3786"
             ],
             [
              0.5555555555555556,
              "#d8576b"
             ],
             [
              0.6666666666666666,
              "#ed7953"
             ],
             [
              0.7777777777777778,
              "#fb9f3a"
             ],
             [
              0.8888888888888888,
              "#fdca26"
             ],
             [
              1,
              "#f0f921"
             ]
            ],
            "type": "contour"
           }
          ],
          "contourcarpet": [
           {
            "colorbar": {
             "outlinewidth": 0,
             "ticks": ""
            },
            "type": "contourcarpet"
           }
          ],
          "heatmap": [
           {
            "colorbar": {
             "outlinewidth": 0,
             "ticks": ""
            },
            "colorscale": [
             [
              0,
              "#0d0887"
             ],
             [
              0.1111111111111111,
              "#46039f"
             ],
             [
              0.2222222222222222,
              "#7201a8"
             ],
             [
              0.3333333333333333,
              "#9c179e"
             ],
             [
              0.4444444444444444,
              "#bd3786"
             ],
             [
              0.5555555555555556,
              "#d8576b"
             ],
             [
              0.6666666666666666,
              "#ed7953"
             ],
             [
              0.7777777777777778,
              "#fb9f3a"
             ],
             [
              0.8888888888888888,
              "#fdca26"
             ],
             [
              1,
              "#f0f921"
             ]
            ],
            "type": "heatmap"
           }
          ],
          "heatmapgl": [
           {
            "colorbar": {
             "outlinewidth": 0,
             "ticks": ""
            },
            "colorscale": [
             [
              0,
              "#0d0887"
             ],
             [
              0.1111111111111111,
              "#46039f"
             ],
             [
              0.2222222222222222,
              "#7201a8"
             ],
             [
              0.3333333333333333,
              "#9c179e"
             ],
             [
              0.4444444444444444,
              "#bd3786"
             ],
             [
              0.5555555555555556,
              "#d8576b"
             ],
             [
              0.6666666666666666,
              "#ed7953"
             ],
             [
              0.7777777777777778,
              "#fb9f3a"
             ],
             [
              0.8888888888888888,
              "#fdca26"
             ],
             [
              1,
              "#f0f921"
             ]
            ],
            "type": "heatmapgl"
           }
          ],
          "histogram": [
           {
            "marker": {
             "pattern": {
              "fillmode": "overlay",
              "size": 10,
              "solidity": 0.2
             }
            },
            "type": "histogram"
           }
          ],
          "histogram2d": [
           {
            "colorbar": {
             "outlinewidth": 0,
             "ticks": ""
            },
            "colorscale": [
             [
              0,
              "#0d0887"
             ],
             [
              0.1111111111111111,
              "#46039f"
             ],
             [
              0.2222222222222222,
              "#7201a8"
             ],
             [
              0.3333333333333333,
              "#9c179e"
             ],
             [
              0.4444444444444444,
              "#bd3786"
             ],
             [
              0.5555555555555556,
              "#d8576b"
             ],
             [
              0.6666666666666666,
              "#ed7953"
             ],
             [
              0.7777777777777778,
              "#fb9f3a"
             ],
             [
              0.8888888888888888,
              "#fdca26"
             ],
             [
              1,
              "#f0f921"
             ]
            ],
            "type": "histogram2d"
           }
          ],
          "histogram2dcontour": [
           {
            "colorbar": {
             "outlinewidth": 0,
             "ticks": ""
            },
            "colorscale": [
             [
              0,
              "#0d0887"
             ],
             [
              0.1111111111111111,
              "#46039f"
             ],
             [
              0.2222222222222222,
              "#7201a8"
             ],
             [
              0.3333333333333333,
              "#9c179e"
             ],
             [
              0.4444444444444444,
              "#bd3786"
             ],
             [
              0.5555555555555556,
              "#d8576b"
             ],
             [
              0.6666666666666666,
              "#ed7953"
             ],
             [
              0.7777777777777778,
              "#fb9f3a"
             ],
             [
              0.8888888888888888,
              "#fdca26"
             ],
             [
              1,
              "#f0f921"
             ]
            ],
            "type": "histogram2dcontour"
           }
          ],
          "mesh3d": [
           {
            "colorbar": {
             "outlinewidth": 0,
             "ticks": ""
            },
            "type": "mesh3d"
           }
          ],
          "parcoords": [
           {
            "line": {
             "colorbar": {
              "outlinewidth": 0,
              "ticks": ""
             }
            },
            "type": "parcoords"
           }
          ],
          "pie": [
           {
            "automargin": true,
            "type": "pie"
           }
          ],
          "scatter": [
           {
            "fillpattern": {
             "fillmode": "overlay",
             "size": 10,
             "solidity": 0.2
            },
            "type": "scatter"
           }
          ],
          "scatter3d": [
           {
            "line": {
             "colorbar": {
              "outlinewidth": 0,
              "ticks": ""
             }
            },
            "marker": {
             "colorbar": {
              "outlinewidth": 0,
              "ticks": ""
             }
            },
            "type": "scatter3d"
           }
          ],
          "scattercarpet": [
           {
            "marker": {
             "colorbar": {
              "outlinewidth": 0,
              "ticks": ""
             }
            },
            "type": "scattercarpet"
           }
          ],
          "scattergeo": [
           {
            "marker": {
             "colorbar": {
              "outlinewidth": 0,
              "ticks": ""
             }
            },
            "type": "scattergeo"
           }
          ],
          "scattergl": [
           {
            "marker": {
             "colorbar": {
              "outlinewidth": 0,
              "ticks": ""
             }
            },
            "type": "scattergl"
           }
          ],
          "scattermapbox": [
           {
            "marker": {
             "colorbar": {
              "outlinewidth": 0,
              "ticks": ""
             }
            },
            "type": "scattermapbox"
           }
          ],
          "scatterpolar": [
           {
            "marker": {
             "colorbar": {
              "outlinewidth": 0,
              "ticks": ""
             }
            },
            "type": "scatterpolar"
           }
          ],
          "scatterpolargl": [
           {
            "marker": {
             "colorbar": {
              "outlinewidth": 0,
              "ticks": ""
             }
            },
            "type": "scatterpolargl"
           }
          ],
          "scatterternary": [
           {
            "marker": {
             "colorbar": {
              "outlinewidth": 0,
              "ticks": ""
             }
            },
            "type": "scatterternary"
           }
          ],
          "surface": [
           {
            "colorbar": {
             "outlinewidth": 0,
             "ticks": ""
            },
            "colorscale": [
             [
              0,
              "#0d0887"
             ],
             [
              0.1111111111111111,
              "#46039f"
             ],
             [
              0.2222222222222222,
              "#7201a8"
             ],
             [
              0.3333333333333333,
              "#9c179e"
             ],
             [
              0.4444444444444444,
              "#bd3786"
             ],
             [
              0.5555555555555556,
              "#d8576b"
             ],
             [
              0.6666666666666666,
              "#ed7953"
             ],
             [
              0.7777777777777778,
              "#fb9f3a"
             ],
             [
              0.8888888888888888,
              "#fdca26"
             ],
             [
              1,
              "#f0f921"
             ]
            ],
            "type": "surface"
           }
          ],
          "table": [
           {
            "cells": {
             "fill": {
              "color": "#EBF0F8"
             },
             "line": {
              "color": "white"
             }
            },
            "header": {
             "fill": {
              "color": "#C8D4E3"
             },
             "line": {
              "color": "white"
             }
            },
            "type": "table"
           }
          ]
         },
         "layout": {
          "annotationdefaults": {
           "arrowcolor": "#2a3f5f",
           "arrowhead": 0,
           "arrowwidth": 1
          },
          "autotypenumbers": "strict",
          "coloraxis": {
           "colorbar": {
            "outlinewidth": 0,
            "ticks": ""
           }
          },
          "colorscale": {
           "diverging": [
            [
             0,
             "#8e0152"
            ],
            [
             0.1,
             "#c51b7d"
            ],
            [
             0.2,
             "#de77ae"
            ],
            [
             0.3,
             "#f1b6da"
            ],
            [
             0.4,
             "#fde0ef"
            ],
            [
             0.5,
             "#f7f7f7"
            ],
            [
             0.6,
             "#e6f5d0"
            ],
            [
             0.7,
             "#b8e186"
            ],
            [
             0.8,
             "#7fbc41"
            ],
            [
             0.9,
             "#4d9221"
            ],
            [
             1,
             "#276419"
            ]
           ],
           "sequential": [
            [
             0,
             "#0d0887"
            ],
            [
             0.1111111111111111,
             "#46039f"
            ],
            [
             0.2222222222222222,
             "#7201a8"
            ],
            [
             0.3333333333333333,
             "#9c179e"
            ],
            [
             0.4444444444444444,
             "#bd3786"
            ],
            [
             0.5555555555555556,
             "#d8576b"
            ],
            [
             0.6666666666666666,
             "#ed7953"
            ],
            [
             0.7777777777777778,
             "#fb9f3a"
            ],
            [
             0.8888888888888888,
             "#fdca26"
            ],
            [
             1,
             "#f0f921"
            ]
           ],
           "sequentialminus": [
            [
             0,
             "#0d0887"
            ],
            [
             0.1111111111111111,
             "#46039f"
            ],
            [
             0.2222222222222222,
             "#7201a8"
            ],
            [
             0.3333333333333333,
             "#9c179e"
            ],
            [
             0.4444444444444444,
             "#bd3786"
            ],
            [
             0.5555555555555556,
             "#d8576b"
            ],
            [
             0.6666666666666666,
             "#ed7953"
            ],
            [
             0.7777777777777778,
             "#fb9f3a"
            ],
            [
             0.8888888888888888,
             "#fdca26"
            ],
            [
             1,
             "#f0f921"
            ]
           ]
          },
          "colorway": [
           "#636efa",
           "#EF553B",
           "#00cc96",
           "#ab63fa",
           "#FFA15A",
           "#19d3f3",
           "#FF6692",
           "#B6E880",
           "#FF97FF",
           "#FECB52"
          ],
          "font": {
           "color": "#2a3f5f"
          },
          "geo": {
           "bgcolor": "white",
           "lakecolor": "white",
           "landcolor": "#E5ECF6",
           "showlakes": true,
           "showland": true,
           "subunitcolor": "white"
          },
          "hoverlabel": {
           "align": "left"
          },
          "hovermode": "closest",
          "mapbox": {
           "style": "light"
          },
          "paper_bgcolor": "white",
          "plot_bgcolor": "#E5ECF6",
          "polar": {
           "angularaxis": {
            "gridcolor": "white",
            "linecolor": "white",
            "ticks": ""
           },
           "bgcolor": "#E5ECF6",
           "radialaxis": {
            "gridcolor": "white",
            "linecolor": "white",
            "ticks": ""
           }
          },
          "scene": {
           "xaxis": {
            "backgroundcolor": "#E5ECF6",
            "gridcolor": "white",
            "gridwidth": 2,
            "linecolor": "white",
            "showbackground": true,
            "ticks": "",
            "zerolinecolor": "white"
           },
           "yaxis": {
            "backgroundcolor": "#E5ECF6",
            "gridcolor": "white",
            "gridwidth": 2,
            "linecolor": "white",
            "showbackground": true,
            "ticks": "",
            "zerolinecolor": "white"
           },
           "zaxis": {
            "backgroundcolor": "#E5ECF6",
            "gridcolor": "white",
            "gridwidth": 2,
            "linecolor": "white",
            "showbackground": true,
            "ticks": "",
            "zerolinecolor": "white"
           }
          },
          "shapedefaults": {
           "line": {
            "color": "#2a3f5f"
           }
          },
          "ternary": {
           "aaxis": {
            "gridcolor": "white",
            "linecolor": "white",
            "ticks": ""
           },
           "baxis": {
            "gridcolor": "white",
            "linecolor": "white",
            "ticks": ""
           },
           "bgcolor": "#E5ECF6",
           "caxis": {
            "gridcolor": "white",
            "linecolor": "white",
            "ticks": ""
           }
          },
          "title": {
           "x": 0.05
          },
          "xaxis": {
           "automargin": true,
           "gridcolor": "white",
           "linecolor": "white",
           "ticks": "",
           "title": {
            "standoff": 15
           },
           "zerolinecolor": "white",
           "zerolinewidth": 2
          },
          "yaxis": {
           "automargin": true,
           "gridcolor": "white",
           "linecolor": "white",
           "ticks": "",
           "title": {
            "standoff": 15
           },
           "zerolinecolor": "white",
           "zerolinewidth": 2
          }
         }
        }
       }
      }
     },
     "metadata": {},
     "output_type": "display_data"
    }
   ],
   "source": [
    "# KPI: Proporción de participiación Mercado por cantidad de autos\n",
    "# Datos\n",
    "valor_actual = (cantidad_conv+cantidad_ve)/unique_vehicles*100  # Valor actual del KPI\n",
    "rango_max = valor_actual * 2     # Valor máximo del rango\n",
    "threshold_value = 1\n",
    "# Crear el gráfico tipo gauge\n",
    "fig = go.Figure(go.Indicator(\n",
    "    mode=\"gauge+number\",\n",
    "    value=valor_actual,\n",
    "    gauge={\n",
    "        'axis': {'range': [0, rango_max]},\n",
    "        'bar': {'color': \"blue\"},  # Color de la barra del indicador\n",
    "        'steps': [\n",
    "            {'range': [0, valor_actual], 'color': \"lightblue\"},  # Rango bajo\n",
    "            {'range': [valor_actual, rango_max], 'color': \"white\"}  # Rango alto\n",
    "        ],\n",
    "        'threshold': {\n",
    "            'line': {'color': \"darkblue\", 'width': 4},  # Línea del valor umbral\n",
    "            'thickness': 0.75,\n",
    "            'value': threshold_value\n",
    "        }\n",
    "    },\n",
    "    number={'suffix': \"%\"},  \n",
    "    title={'text': \"KPI: Proporción de participiación Mercado por cantidad de autos\"}  # Título del gráfico\n",
    "))\n",
    "# Agregar una anotación para mostrar el valor del threshold\n",
    "fig.add_annotation(\n",
    "    x=0.5,  # Posición horizontal en coordenadas del gráfico\n",
    "    y=0,    # Posición vertical\n",
    "    text=f\"Objetivo: {threshold_value}%\",  # Texto que se muestra\n",
    "    showarrow=False,  # Sin flecha\n",
    "    font=dict(size=12, color=\"darkblue\"),  # Estilo del texto\n",
    "    xanchor=\"center\",\n",
    "    yanchor=\"top\")\n",
    "# Mostrar el gráfico\n",
    "fig.show()"
   ]
  },
  {
   "cell_type": "code",
   "execution_count": null,
   "metadata": {},
   "outputs": [
    {
     "data": {
      "application/vnd.plotly.v1+json": {
       "config": {
        "plotlyServerURL": "https://plot.ly"
       },
       "data": [
        {
         "gauge": {
          "axis": {
           "range": [
            0,
            2.4823135161970957
           ]
          },
          "bar": {
           "color": "blue"
          },
          "steps": [
           {
            "color": "lightblue",
            "range": [
             0,
             1.2411567580985479
            ]
           },
           {
            "color": "white",
            "range": [
             1.2411567580985479,
             2.4823135161970957
            ]
           }
          ],
          "threshold": {
           "line": {
            "color": "darkblue",
            "width": 4
           },
           "thickness": 0.75,
           "value": 1
          }
         },
         "mode": "gauge+number",
         "number": {
          "suffix": "%"
         },
         "title": {
          "text": "KPI: Proporción de participiación Mercado por cantidad de viajes"
         },
         "type": "indicator",
         "value": 1.2411567580985479
        }
       ],
       "layout": {
        "annotations": [
         {
          "font": {
           "color": "darkblue",
           "size": 12
          },
          "showarrow": false,
          "text": "Objetivo: 1%",
          "x": 0.5,
          "xanchor": "center",
          "y": 0,
          "yanchor": "top"
         }
        ],
        "template": {
         "data": {
          "bar": [
           {
            "error_x": {
             "color": "#2a3f5f"
            },
            "error_y": {
             "color": "#2a3f5f"
            },
            "marker": {
             "line": {
              "color": "#E5ECF6",
              "width": 0.5
             },
             "pattern": {
              "fillmode": "overlay",
              "size": 10,
              "solidity": 0.2
             }
            },
            "type": "bar"
           }
          ],
          "barpolar": [
           {
            "marker": {
             "line": {
              "color": "#E5ECF6",
              "width": 0.5
             },
             "pattern": {
              "fillmode": "overlay",
              "size": 10,
              "solidity": 0.2
             }
            },
            "type": "barpolar"
           }
          ],
          "carpet": [
           {
            "aaxis": {
             "endlinecolor": "#2a3f5f",
             "gridcolor": "white",
             "linecolor": "white",
             "minorgridcolor": "white",
             "startlinecolor": "#2a3f5f"
            },
            "baxis": {
             "endlinecolor": "#2a3f5f",
             "gridcolor": "white",
             "linecolor": "white",
             "minorgridcolor": "white",
             "startlinecolor": "#2a3f5f"
            },
            "type": "carpet"
           }
          ],
          "choropleth": [
           {
            "colorbar": {
             "outlinewidth": 0,
             "ticks": ""
            },
            "type": "choropleth"
           }
          ],
          "contour": [
           {
            "colorbar": {
             "outlinewidth": 0,
             "ticks": ""
            },
            "colorscale": [
             [
              0,
              "#0d0887"
             ],
             [
              0.1111111111111111,
              "#46039f"
             ],
             [
              0.2222222222222222,
              "#7201a8"
             ],
             [
              0.3333333333333333,
              "#9c179e"
             ],
             [
              0.4444444444444444,
              "#bd3786"
             ],
             [
              0.5555555555555556,
              "#d8576b"
             ],
             [
              0.6666666666666666,
              "#ed7953"
             ],
             [
              0.7777777777777778,
              "#fb9f3a"
             ],
             [
              0.8888888888888888,
              "#fdca26"
             ],
             [
              1,
              "#f0f921"
             ]
            ],
            "type": "contour"
           }
          ],
          "contourcarpet": [
           {
            "colorbar": {
             "outlinewidth": 0,
             "ticks": ""
            },
            "type": "contourcarpet"
           }
          ],
          "heatmap": [
           {
            "colorbar": {
             "outlinewidth": 0,
             "ticks": ""
            },
            "colorscale": [
             [
              0,
              "#0d0887"
             ],
             [
              0.1111111111111111,
              "#46039f"
             ],
             [
              0.2222222222222222,
              "#7201a8"
             ],
             [
              0.3333333333333333,
              "#9c179e"
             ],
             [
              0.4444444444444444,
              "#bd3786"
             ],
             [
              0.5555555555555556,
              "#d8576b"
             ],
             [
              0.6666666666666666,
              "#ed7953"
             ],
             [
              0.7777777777777778,
              "#fb9f3a"
             ],
             [
              0.8888888888888888,
              "#fdca26"
             ],
             [
              1,
              "#f0f921"
             ]
            ],
            "type": "heatmap"
           }
          ],
          "heatmapgl": [
           {
            "colorbar": {
             "outlinewidth": 0,
             "ticks": ""
            },
            "colorscale": [
             [
              0,
              "#0d0887"
             ],
             [
              0.1111111111111111,
              "#46039f"
             ],
             [
              0.2222222222222222,
              "#7201a8"
             ],
             [
              0.3333333333333333,
              "#9c179e"
             ],
             [
              0.4444444444444444,
              "#bd3786"
             ],
             [
              0.5555555555555556,
              "#d8576b"
             ],
             [
              0.6666666666666666,
              "#ed7953"
             ],
             [
              0.7777777777777778,
              "#fb9f3a"
             ],
             [
              0.8888888888888888,
              "#fdca26"
             ],
             [
              1,
              "#f0f921"
             ]
            ],
            "type": "heatmapgl"
           }
          ],
          "histogram": [
           {
            "marker": {
             "pattern": {
              "fillmode": "overlay",
              "size": 10,
              "solidity": 0.2
             }
            },
            "type": "histogram"
           }
          ],
          "histogram2d": [
           {
            "colorbar": {
             "outlinewidth": 0,
             "ticks": ""
            },
            "colorscale": [
             [
              0,
              "#0d0887"
             ],
             [
              0.1111111111111111,
              "#46039f"
             ],
             [
              0.2222222222222222,
              "#7201a8"
             ],
             [
              0.3333333333333333,
              "#9c179e"
             ],
             [
              0.4444444444444444,
              "#bd3786"
             ],
             [
              0.5555555555555556,
              "#d8576b"
             ],
             [
              0.6666666666666666,
              "#ed7953"
             ],
             [
              0.7777777777777778,
              "#fb9f3a"
             ],
             [
              0.8888888888888888,
              "#fdca26"
             ],
             [
              1,
              "#f0f921"
             ]
            ],
            "type": "histogram2d"
           }
          ],
          "histogram2dcontour": [
           {
            "colorbar": {
             "outlinewidth": 0,
             "ticks": ""
            },
            "colorscale": [
             [
              0,
              "#0d0887"
             ],
             [
              0.1111111111111111,
              "#46039f"
             ],
             [
              0.2222222222222222,
              "#7201a8"
             ],
             [
              0.3333333333333333,
              "#9c179e"
             ],
             [
              0.4444444444444444,
              "#bd3786"
             ],
             [
              0.5555555555555556,
              "#d8576b"
             ],
             [
              0.6666666666666666,
              "#ed7953"
             ],
             [
              0.7777777777777778,
              "#fb9f3a"
             ],
             [
              0.8888888888888888,
              "#fdca26"
             ],
             [
              1,
              "#f0f921"
             ]
            ],
            "type": "histogram2dcontour"
           }
          ],
          "mesh3d": [
           {
            "colorbar": {
             "outlinewidth": 0,
             "ticks": ""
            },
            "type": "mesh3d"
           }
          ],
          "parcoords": [
           {
            "line": {
             "colorbar": {
              "outlinewidth": 0,
              "ticks": ""
             }
            },
            "type": "parcoords"
           }
          ],
          "pie": [
           {
            "automargin": true,
            "type": "pie"
           }
          ],
          "scatter": [
           {
            "fillpattern": {
             "fillmode": "overlay",
             "size": 10,
             "solidity": 0.2
            },
            "type": "scatter"
           }
          ],
          "scatter3d": [
           {
            "line": {
             "colorbar": {
              "outlinewidth": 0,
              "ticks": ""
             }
            },
            "marker": {
             "colorbar": {
              "outlinewidth": 0,
              "ticks": ""
             }
            },
            "type": "scatter3d"
           }
          ],
          "scattercarpet": [
           {
            "marker": {
             "colorbar": {
              "outlinewidth": 0,
              "ticks": ""
             }
            },
            "type": "scattercarpet"
           }
          ],
          "scattergeo": [
           {
            "marker": {
             "colorbar": {
              "outlinewidth": 0,
              "ticks": ""
             }
            },
            "type": "scattergeo"
           }
          ],
          "scattergl": [
           {
            "marker": {
             "colorbar": {
              "outlinewidth": 0,
              "ticks": ""
             }
            },
            "type": "scattergl"
           }
          ],
          "scattermapbox": [
           {
            "marker": {
             "colorbar": {
              "outlinewidth": 0,
              "ticks": ""
             }
            },
            "type": "scattermapbox"
           }
          ],
          "scatterpolar": [
           {
            "marker": {
             "colorbar": {
              "outlinewidth": 0,
              "ticks": ""
             }
            },
            "type": "scatterpolar"
           }
          ],
          "scatterpolargl": [
           {
            "marker": {
             "colorbar": {
              "outlinewidth": 0,
              "ticks": ""
             }
            },
            "type": "scatterpolargl"
           }
          ],
          "scatterternary": [
           {
            "marker": {
             "colorbar": {
              "outlinewidth": 0,
              "ticks": ""
             }
            },
            "type": "scatterternary"
           }
          ],
          "surface": [
           {
            "colorbar": {
             "outlinewidth": 0,
             "ticks": ""
            },
            "colorscale": [
             [
              0,
              "#0d0887"
             ],
             [
              0.1111111111111111,
              "#46039f"
             ],
             [
              0.2222222222222222,
              "#7201a8"
             ],
             [
              0.3333333333333333,
              "#9c179e"
             ],
             [
              0.4444444444444444,
              "#bd3786"
             ],
             [
              0.5555555555555556,
              "#d8576b"
             ],
             [
              0.6666666666666666,
              "#ed7953"
             ],
             [
              0.7777777777777778,
              "#fb9f3a"
             ],
             [
              0.8888888888888888,
              "#fdca26"
             ],
             [
              1,
              "#f0f921"
             ]
            ],
            "type": "surface"
           }
          ],
          "table": [
           {
            "cells": {
             "fill": {
              "color": "#EBF0F8"
             },
             "line": {
              "color": "white"
             }
            },
            "header": {
             "fill": {
              "color": "#C8D4E3"
             },
             "line": {
              "color": "white"
             }
            },
            "type": "table"
           }
          ]
         },
         "layout": {
          "annotationdefaults": {
           "arrowcolor": "#2a3f5f",
           "arrowhead": 0,
           "arrowwidth": 1
          },
          "autotypenumbers": "strict",
          "coloraxis": {
           "colorbar": {
            "outlinewidth": 0,
            "ticks": ""
           }
          },
          "colorscale": {
           "diverging": [
            [
             0,
             "#8e0152"
            ],
            [
             0.1,
             "#c51b7d"
            ],
            [
             0.2,
             "#de77ae"
            ],
            [
             0.3,
             "#f1b6da"
            ],
            [
             0.4,
             "#fde0ef"
            ],
            [
             0.5,
             "#f7f7f7"
            ],
            [
             0.6,
             "#e6f5d0"
            ],
            [
             0.7,
             "#b8e186"
            ],
            [
             0.8,
             "#7fbc41"
            ],
            [
             0.9,
             "#4d9221"
            ],
            [
             1,
             "#276419"
            ]
           ],
           "sequential": [
            [
             0,
             "#0d0887"
            ],
            [
             0.1111111111111111,
             "#46039f"
            ],
            [
             0.2222222222222222,
             "#7201a8"
            ],
            [
             0.3333333333333333,
             "#9c179e"
            ],
            [
             0.4444444444444444,
             "#bd3786"
            ],
            [
             0.5555555555555556,
             "#d8576b"
            ],
            [
             0.6666666666666666,
             "#ed7953"
            ],
            [
             0.7777777777777778,
             "#fb9f3a"
            ],
            [
             0.8888888888888888,
             "#fdca26"
            ],
            [
             1,
             "#f0f921"
            ]
           ],
           "sequentialminus": [
            [
             0,
             "#0d0887"
            ],
            [
             0.1111111111111111,
             "#46039f"
            ],
            [
             0.2222222222222222,
             "#7201a8"
            ],
            [
             0.3333333333333333,
             "#9c179e"
            ],
            [
             0.4444444444444444,
             "#bd3786"
            ],
            [
             0.5555555555555556,
             "#d8576b"
            ],
            [
             0.6666666666666666,
             "#ed7953"
            ],
            [
             0.7777777777777778,
             "#fb9f3a"
            ],
            [
             0.8888888888888888,
             "#fdca26"
            ],
            [
             1,
             "#f0f921"
            ]
           ]
          },
          "colorway": [
           "#636efa",
           "#EF553B",
           "#00cc96",
           "#ab63fa",
           "#FFA15A",
           "#19d3f3",
           "#FF6692",
           "#B6E880",
           "#FF97FF",
           "#FECB52"
          ],
          "font": {
           "color": "#2a3f5f"
          },
          "geo": {
           "bgcolor": "white",
           "lakecolor": "white",
           "landcolor": "#E5ECF6",
           "showlakes": true,
           "showland": true,
           "subunitcolor": "white"
          },
          "hoverlabel": {
           "align": "left"
          },
          "hovermode": "closest",
          "mapbox": {
           "style": "light"
          },
          "paper_bgcolor": "white",
          "plot_bgcolor": "#E5ECF6",
          "polar": {
           "angularaxis": {
            "gridcolor": "white",
            "linecolor": "white",
            "ticks": ""
           },
           "bgcolor": "#E5ECF6",
           "radialaxis": {
            "gridcolor": "white",
            "linecolor": "white",
            "ticks": ""
           }
          },
          "scene": {
           "xaxis": {
            "backgroundcolor": "#E5ECF6",
            "gridcolor": "white",
            "gridwidth": 2,
            "linecolor": "white",
            "showbackground": true,
            "ticks": "",
            "zerolinecolor": "white"
           },
           "yaxis": {
            "backgroundcolor": "#E5ECF6",
            "gridcolor": "white",
            "gridwidth": 2,
            "linecolor": "white",
            "showbackground": true,
            "ticks": "",
            "zerolinecolor": "white"
           },
           "zaxis": {
            "backgroundcolor": "#E5ECF6",
            "gridcolor": "white",
            "gridwidth": 2,
            "linecolor": "white",
            "showbackground": true,
            "ticks": "",
            "zerolinecolor": "white"
           }
          },
          "shapedefaults": {
           "line": {
            "color": "#2a3f5f"
           }
          },
          "ternary": {
           "aaxis": {
            "gridcolor": "white",
            "linecolor": "white",
            "ticks": ""
           },
           "baxis": {
            "gridcolor": "white",
            "linecolor": "white",
            "ticks": ""
           },
           "bgcolor": "#E5ECF6",
           "caxis": {
            "gridcolor": "white",
            "linecolor": "white",
            "ticks": ""
           }
          },
          "title": {
           "x": 0.05
          },
          "xaxis": {
           "automargin": true,
           "gridcolor": "white",
           "linecolor": "white",
           "ticks": "",
           "title": {
            "standoff": 15
           },
           "zerolinecolor": "white",
           "zerolinewidth": 2
          },
          "yaxis": {
           "automargin": true,
           "gridcolor": "white",
           "linecolor": "white",
           "ticks": "",
           "title": {
            "standoff": 15
           },
           "zerolinecolor": "white",
           "zerolinewidth": 2
          }
         }
        }
       }
      }
     },
     "metadata": {},
     "output_type": "display_data"
    }
   ],
   "source": [
    "# KPI: Proporción de participiación Mercado por cantidad de viajes\n",
    "# Datos\n",
    "valor_actual = (cantidad_conv+cantidad_ve)*avg_trips_per_vehicle/total_trips *100  # Valor actual del KPI\n",
    "rango_max = valor_actual * 2     # Valor máximo del rango\n",
    "threshold_value = 1\n",
    "# Crear el gráfico tipo gauge\n",
    "fig = go.Figure(go.Indicator(\n",
    "    mode=\"gauge+number\",\n",
    "    value=valor_actual,\n",
    "    gauge={\n",
    "        'axis': {'range': [0, rango_max]},\n",
    "        'bar': {'color': \"blue\"},  # Color de la barra del indicador\n",
    "        'steps': [\n",
    "            {'range': [0, valor_actual], 'color': \"lightblue\"},  # Rango bajo\n",
    "            {'range': [valor_actual, rango_max], 'color': \"white\"}  # Rango alto\n",
    "        ],\n",
    "        'threshold': {\n",
    "            'line': {'color': \"darkblue\", 'width': 4},  # Línea del valor umbral\n",
    "            'thickness': 0.75,\n",
    "            'value': threshold_value\n",
    "        }\n",
    "    },\n",
    "    number={'suffix': \"%\"},  # Opcional: agrega unidades como '%', 'kWh', etc.\n",
    "    title={'text': \"KPI: Proporción de participiación Mercado por cantidad de viajes\"}  # Título del gráfico\n",
    "))\n",
    "\n",
    "\n",
    "# Agregar una anotación para mostrar el valor del threshold\n",
    "fig.add_annotation(\n",
    "    x=0.5,  # Posición horizontal en coordenadas del gráfico\n",
    "    y=0,    # Posición vertical\n",
    "    text=f\"Objetivo: {threshold_value}%\",  # Texto que se muestra\n",
    "    showarrow=False,  # Sin flecha\n",
    "    font=dict(size=12, color=\"darkblue\"),  # Estilo del texto\n",
    "    xanchor=\"center\",\n",
    "    yanchor=\"top\")\n",
    "\n",
    "# Mostrar el gráfico\n",
    "fig.show()"
   ]
  },
  {
   "cell_type": "code",
   "execution_count": null,
   "metadata": {},
   "outputs": [
    {
     "data": {
      "application/vnd.plotly.v1+json": {
       "config": {
        "plotlyServerURL": "https://plot.ly"
       },
       "data": [
        {
         "gauge": {
          "axis": {
           "range": [
            0,
            100
           ]
          },
          "bar": {
           "color": "blue"
          },
          "steps": [
           {
            "color": "lightblue",
            "range": [
             0,
             89.5
            ]
           },
           {
            "color": "white",
            "range": [
             89.5,
             100
            ]
           }
          ],
          "threshold": {
           "line": {
            "color": "darkblue",
            "width": 4
           },
           "thickness": 0.75,
           "value": 30
          }
         },
         "mode": "gauge+number",
         "number": {
          "suffix": "%"
         },
         "title": {
          "text": "KPI: Ahorro de CO2 respecto de flota convencional"
         },
         "type": "indicator",
         "value": 89.5
        }
       ],
       "layout": {
        "annotations": [
         {
          "font": {
           "color": "darkblue",
           "size": 12
          },
          "showarrow": false,
          "text": "Objetivo: 30%",
          "x": 0.5,
          "xanchor": "center",
          "y": 0,
          "yanchor": "top"
         }
        ],
        "template": {
         "data": {
          "bar": [
           {
            "error_x": {
             "color": "#2a3f5f"
            },
            "error_y": {
             "color": "#2a3f5f"
            },
            "marker": {
             "line": {
              "color": "#E5ECF6",
              "width": 0.5
             },
             "pattern": {
              "fillmode": "overlay",
              "size": 10,
              "solidity": 0.2
             }
            },
            "type": "bar"
           }
          ],
          "barpolar": [
           {
            "marker": {
             "line": {
              "color": "#E5ECF6",
              "width": 0.5
             },
             "pattern": {
              "fillmode": "overlay",
              "size": 10,
              "solidity": 0.2
             }
            },
            "type": "barpolar"
           }
          ],
          "carpet": [
           {
            "aaxis": {
             "endlinecolor": "#2a3f5f",
             "gridcolor": "white",
             "linecolor": "white",
             "minorgridcolor": "white",
             "startlinecolor": "#2a3f5f"
            },
            "baxis": {
             "endlinecolor": "#2a3f5f",
             "gridcolor": "white",
             "linecolor": "white",
             "minorgridcolor": "white",
             "startlinecolor": "#2a3f5f"
            },
            "type": "carpet"
           }
          ],
          "choropleth": [
           {
            "colorbar": {
             "outlinewidth": 0,
             "ticks": ""
            },
            "type": "choropleth"
           }
          ],
          "contour": [
           {
            "colorbar": {
             "outlinewidth": 0,
             "ticks": ""
            },
            "colorscale": [
             [
              0,
              "#0d0887"
             ],
             [
              0.1111111111111111,
              "#46039f"
             ],
             [
              0.2222222222222222,
              "#7201a8"
             ],
             [
              0.3333333333333333,
              "#9c179e"
             ],
             [
              0.4444444444444444,
              "#bd3786"
             ],
             [
              0.5555555555555556,
              "#d8576b"
             ],
             [
              0.6666666666666666,
              "#ed7953"
             ],
             [
              0.7777777777777778,
              "#fb9f3a"
             ],
             [
              0.8888888888888888,
              "#fdca26"
             ],
             [
              1,
              "#f0f921"
             ]
            ],
            "type": "contour"
           }
          ],
          "contourcarpet": [
           {
            "colorbar": {
             "outlinewidth": 0,
             "ticks": ""
            },
            "type": "contourcarpet"
           }
          ],
          "heatmap": [
           {
            "colorbar": {
             "outlinewidth": 0,
             "ticks": ""
            },
            "colorscale": [
             [
              0,
              "#0d0887"
             ],
             [
              0.1111111111111111,
              "#46039f"
             ],
             [
              0.2222222222222222,
              "#7201a8"
             ],
             [
              0.3333333333333333,
              "#9c179e"
             ],
             [
              0.4444444444444444,
              "#bd3786"
             ],
             [
              0.5555555555555556,
              "#d8576b"
             ],
             [
              0.6666666666666666,
              "#ed7953"
             ],
             [
              0.7777777777777778,
              "#fb9f3a"
             ],
             [
              0.8888888888888888,
              "#fdca26"
             ],
             [
              1,
              "#f0f921"
             ]
            ],
            "type": "heatmap"
           }
          ],
          "heatmapgl": [
           {
            "colorbar": {
             "outlinewidth": 0,
             "ticks": ""
            },
            "colorscale": [
             [
              0,
              "#0d0887"
             ],
             [
              0.1111111111111111,
              "#46039f"
             ],
             [
              0.2222222222222222,
              "#7201a8"
             ],
             [
              0.3333333333333333,
              "#9c179e"
             ],
             [
              0.4444444444444444,
              "#bd3786"
             ],
             [
              0.5555555555555556,
              "#d8576b"
             ],
             [
              0.6666666666666666,
              "#ed7953"
             ],
             [
              0.7777777777777778,
              "#fb9f3a"
             ],
             [
              0.8888888888888888,
              "#fdca26"
             ],
             [
              1,
              "#f0f921"
             ]
            ],
            "type": "heatmapgl"
           }
          ],
          "histogram": [
           {
            "marker": {
             "pattern": {
              "fillmode": "overlay",
              "size": 10,
              "solidity": 0.2
             }
            },
            "type": "histogram"
           }
          ],
          "histogram2d": [
           {
            "colorbar": {
             "outlinewidth": 0,
             "ticks": ""
            },
            "colorscale": [
             [
              0,
              "#0d0887"
             ],
             [
              0.1111111111111111,
              "#46039f"
             ],
             [
              0.2222222222222222,
              "#7201a8"
             ],
             [
              0.3333333333333333,
              "#9c179e"
             ],
             [
              0.4444444444444444,
              "#bd3786"
             ],
             [
              0.5555555555555556,
              "#d8576b"
             ],
             [
              0.6666666666666666,
              "#ed7953"
             ],
             [
              0.7777777777777778,
              "#fb9f3a"
             ],
             [
              0.8888888888888888,
              "#fdca26"
             ],
             [
              1,
              "#f0f921"
             ]
            ],
            "type": "histogram2d"
           }
          ],
          "histogram2dcontour": [
           {
            "colorbar": {
             "outlinewidth": 0,
             "ticks": ""
            },
            "colorscale": [
             [
              0,
              "#0d0887"
             ],
             [
              0.1111111111111111,
              "#46039f"
             ],
             [
              0.2222222222222222,
              "#7201a8"
             ],
             [
              0.3333333333333333,
              "#9c179e"
             ],
             [
              0.4444444444444444,
              "#bd3786"
             ],
             [
              0.5555555555555556,
              "#d8576b"
             ],
             [
              0.6666666666666666,
              "#ed7953"
             ],
             [
              0.7777777777777778,
              "#fb9f3a"
             ],
             [
              0.8888888888888888,
              "#fdca26"
             ],
             [
              1,
              "#f0f921"
             ]
            ],
            "type": "histogram2dcontour"
           }
          ],
          "mesh3d": [
           {
            "colorbar": {
             "outlinewidth": 0,
             "ticks": ""
            },
            "type": "mesh3d"
           }
          ],
          "parcoords": [
           {
            "line": {
             "colorbar": {
              "outlinewidth": 0,
              "ticks": ""
             }
            },
            "type": "parcoords"
           }
          ],
          "pie": [
           {
            "automargin": true,
            "type": "pie"
           }
          ],
          "scatter": [
           {
            "fillpattern": {
             "fillmode": "overlay",
             "size": 10,
             "solidity": 0.2
            },
            "type": "scatter"
           }
          ],
          "scatter3d": [
           {
            "line": {
             "colorbar": {
              "outlinewidth": 0,
              "ticks": ""
             }
            },
            "marker": {
             "colorbar": {
              "outlinewidth": 0,
              "ticks": ""
             }
            },
            "type": "scatter3d"
           }
          ],
          "scattercarpet": [
           {
            "marker": {
             "colorbar": {
              "outlinewidth": 0,
              "ticks": ""
             }
            },
            "type": "scattercarpet"
           }
          ],
          "scattergeo": [
           {
            "marker": {
             "colorbar": {
              "outlinewidth": 0,
              "ticks": ""
             }
            },
            "type": "scattergeo"
           }
          ],
          "scattergl": [
           {
            "marker": {
             "colorbar": {
              "outlinewidth": 0,
              "ticks": ""
             }
            },
            "type": "scattergl"
           }
          ],
          "scattermapbox": [
           {
            "marker": {
             "colorbar": {
              "outlinewidth": 0,
              "ticks": ""
             }
            },
            "type": "scattermapbox"
           }
          ],
          "scatterpolar": [
           {
            "marker": {
             "colorbar": {
              "outlinewidth": 0,
              "ticks": ""
             }
            },
            "type": "scatterpolar"
           }
          ],
          "scatterpolargl": [
           {
            "marker": {
             "colorbar": {
              "outlinewidth": 0,
              "ticks": ""
             }
            },
            "type": "scatterpolargl"
           }
          ],
          "scatterternary": [
           {
            "marker": {
             "colorbar": {
              "outlinewidth": 0,
              "ticks": ""
             }
            },
            "type": "scatterternary"
           }
          ],
          "surface": [
           {
            "colorbar": {
             "outlinewidth": 0,
             "ticks": ""
            },
            "colorscale": [
             [
              0,
              "#0d0887"
             ],
             [
              0.1111111111111111,
              "#46039f"
             ],
             [
              0.2222222222222222,
              "#7201a8"
             ],
             [
              0.3333333333333333,
              "#9c179e"
             ],
             [
              0.4444444444444444,
              "#bd3786"
             ],
             [
              0.5555555555555556,
              "#d8576b"
             ],
             [
              0.6666666666666666,
              "#ed7953"
             ],
             [
              0.7777777777777778,
              "#fb9f3a"
             ],
             [
              0.8888888888888888,
              "#fdca26"
             ],
             [
              1,
              "#f0f921"
             ]
            ],
            "type": "surface"
           }
          ],
          "table": [
           {
            "cells": {
             "fill": {
              "color": "#EBF0F8"
             },
             "line": {
              "color": "white"
             }
            },
            "header": {
             "fill": {
              "color": "#C8D4E3"
             },
             "line": {
              "color": "white"
             }
            },
            "type": "table"
           }
          ]
         },
         "layout": {
          "annotationdefaults": {
           "arrowcolor": "#2a3f5f",
           "arrowhead": 0,
           "arrowwidth": 1
          },
          "autotypenumbers": "strict",
          "coloraxis": {
           "colorbar": {
            "outlinewidth": 0,
            "ticks": ""
           }
          },
          "colorscale": {
           "diverging": [
            [
             0,
             "#8e0152"
            ],
            [
             0.1,
             "#c51b7d"
            ],
            [
             0.2,
             "#de77ae"
            ],
            [
             0.3,
             "#f1b6da"
            ],
            [
             0.4,
             "#fde0ef"
            ],
            [
             0.5,
             "#f7f7f7"
            ],
            [
             0.6,
             "#e6f5d0"
            ],
            [
             0.7,
             "#b8e186"
            ],
            [
             0.8,
             "#7fbc41"
            ],
            [
             0.9,
             "#4d9221"
            ],
            [
             1,
             "#276419"
            ]
           ],
           "sequential": [
            [
             0,
             "#0d0887"
            ],
            [
             0.1111111111111111,
             "#46039f"
            ],
            [
             0.2222222222222222,
             "#7201a8"
            ],
            [
             0.3333333333333333,
             "#9c179e"
            ],
            [
             0.4444444444444444,
             "#bd3786"
            ],
            [
             0.5555555555555556,
             "#d8576b"
            ],
            [
             0.6666666666666666,
             "#ed7953"
            ],
            [
             0.7777777777777778,
             "#fb9f3a"
            ],
            [
             0.8888888888888888,
             "#fdca26"
            ],
            [
             1,
             "#f0f921"
            ]
           ],
           "sequentialminus": [
            [
             0,
             "#0d0887"
            ],
            [
             0.1111111111111111,
             "#46039f"
            ],
            [
             0.2222222222222222,
             "#7201a8"
            ],
            [
             0.3333333333333333,
             "#9c179e"
            ],
            [
             0.4444444444444444,
             "#bd3786"
            ],
            [
             0.5555555555555556,
             "#d8576b"
            ],
            [
             0.6666666666666666,
             "#ed7953"
            ],
            [
             0.7777777777777778,
             "#fb9f3a"
            ],
            [
             0.8888888888888888,
             "#fdca26"
            ],
            [
             1,
             "#f0f921"
            ]
           ]
          },
          "colorway": [
           "#636efa",
           "#EF553B",
           "#00cc96",
           "#ab63fa",
           "#FFA15A",
           "#19d3f3",
           "#FF6692",
           "#B6E880",
           "#FF97FF",
           "#FECB52"
          ],
          "font": {
           "color": "#2a3f5f"
          },
          "geo": {
           "bgcolor": "white",
           "lakecolor": "white",
           "landcolor": "#E5ECF6",
           "showlakes": true,
           "showland": true,
           "subunitcolor": "white"
          },
          "hoverlabel": {
           "align": "left"
          },
          "hovermode": "closest",
          "mapbox": {
           "style": "light"
          },
          "paper_bgcolor": "white",
          "plot_bgcolor": "#E5ECF6",
          "polar": {
           "angularaxis": {
            "gridcolor": "white",
            "linecolor": "white",
            "ticks": ""
           },
           "bgcolor": "#E5ECF6",
           "radialaxis": {
            "gridcolor": "white",
            "linecolor": "white",
            "ticks": ""
           }
          },
          "scene": {
           "xaxis": {
            "backgroundcolor": "#E5ECF6",
            "gridcolor": "white",
            "gridwidth": 2,
            "linecolor": "white",
            "showbackground": true,
            "ticks": "",
            "zerolinecolor": "white"
           },
           "yaxis": {
            "backgroundcolor": "#E5ECF6",
            "gridcolor": "white",
            "gridwidth": 2,
            "linecolor": "white",
            "showbackground": true,
            "ticks": "",
            "zerolinecolor": "white"
           },
           "zaxis": {
            "backgroundcolor": "#E5ECF6",
            "gridcolor": "white",
            "gridwidth": 2,
            "linecolor": "white",
            "showbackground": true,
            "ticks": "",
            "zerolinecolor": "white"
           }
          },
          "shapedefaults": {
           "line": {
            "color": "#2a3f5f"
           }
          },
          "ternary": {
           "aaxis": {
            "gridcolor": "white",
            "linecolor": "white",
            "ticks": ""
           },
           "baxis": {
            "gridcolor": "white",
            "linecolor": "white",
            "ticks": ""
           },
           "bgcolor": "#E5ECF6",
           "caxis": {
            "gridcolor": "white",
            "linecolor": "white",
            "ticks": ""
           }
          },
          "title": {
           "x": 0.05
          },
          "xaxis": {
           "automargin": true,
           "gridcolor": "white",
           "linecolor": "white",
           "ticks": "",
           "title": {
            "standoff": 15
           },
           "zerolinecolor": "white",
           "zerolinewidth": 2
          },
          "yaxis": {
           "automargin": true,
           "gridcolor": "white",
           "linecolor": "white",
           "ticks": "",
           "title": {
            "standoff": 15
           },
           "zerolinecolor": "white",
           "zerolinewidth": 2
          }
         }
        }
       }
      }
     },
     "metadata": {},
     "output_type": "display_data"
    }
   ],
   "source": [
    "# KPI: Ahorro CO2\n",
    "# Datos\n",
    "valor_actual = ahorro_CO2  # Valor actual del KPI\n",
    "rango_max = 100     # Valor máximo del rango\n",
    "threshold_value = 30\n",
    "\n",
    "# Crear el gráfico tipo gauge\n",
    "fig = go.Figure(go.Indicator(\n",
    "    mode=\"gauge+number\",\n",
    "    value=valor_actual,\n",
    "    gauge={\n",
    "        'axis': {'range': [0, rango_max]},\n",
    "        'bar': {'color': \"blue\"},  # Color de la barra del indicador\n",
    "        'steps': [\n",
    "            {'range': [0, valor_actual], 'color': \"lightblue\"},  # Rango bajo\n",
    "            {'range': [valor_actual, rango_max], 'color': \"white\"}  # Rango alto\n",
    "        ],\n",
    "        'threshold': {\n",
    "            'line': {'color': \"darkblue\", 'width': 4},  # Línea del valor umbral\n",
    "            'thickness': 0.75,\n",
    "            'value': threshold_value\n",
    "        }\n",
    "    },\n",
    "    number={'suffix': \"%\"},  # Opcional: agrega unidades como '%', 'kWh', etc.\n",
    "    title={'text': \"KPI: Ahorro de CO2 respecto de flota convencional\"}  # Título del gráfico\n",
    "))\n",
    "\n",
    "# Agregar una anotación para mostrar el valor del threshold\n",
    "fig.add_annotation(\n",
    "    x=0.5,  # Posición horizontal en coordenadas del gráfico\n",
    "    y=0,    # Posición vertical\n",
    "    text=f\"Objetivo: {threshold_value}%\",  # Texto que se muestra\n",
    "    showarrow=False,  # Sin flecha\n",
    "    font=dict(size=12, color=\"darkblue\"),  # Estilo del texto\n",
    "    xanchor=\"center\",\n",
    "    yanchor=\"top\"\n",
    ")\n",
    "# Mostrar el gráfico\n",
    "fig.show()"
   ]
  }
 ],
 "metadata": {
  "kernelspec": {
   "display_name": "Python 3",
   "language": "python",
   "name": "python3"
  },
  "language_info": {
   "codemirror_mode": {
    "name": "ipython",
    "version": 3
   },
   "file_extension": ".py",
   "mimetype": "text/x-python",
   "name": "python",
   "nbconvert_exporter": "python",
   "pygments_lexer": "ipython3",
   "version": "3.12.1"
  }
 },
 "nbformat": 4,
 "nbformat_minor": 2
}
