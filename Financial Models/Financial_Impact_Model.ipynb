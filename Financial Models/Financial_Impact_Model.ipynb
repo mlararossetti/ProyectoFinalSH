{
 "cells": [
  {
   "cell_type": "markdown",
   "metadata": {},
   "source": [
    "### Análisis de Impacto Financiero -\n",
    "En este notebook se utiliza el modelo #3 (calculo de metricas con flota combinada) con el objetivo de evaluar el impacto incremental de cada vehiculo convencional incluido. Para ello es necesario repetir el análisis aumentando gradualmente la cantidad de vehículos convencionales y eléctricos. Luego, se obtiene el calculo de los promedios o tendencias más específicas para cada caso."
   ]
  },
  {
   "cell_type": "markdown",
   "metadata": {},
   "source": [
    "Se importan las librerias necesarias."
   ]
  },
  {
   "cell_type": "code",
   "execution_count": null,
   "metadata": {},
   "outputs": [],
   "source": [
    "import pandas as pd \n",
    "import numpy_financial as npf"
   ]
  },
  {
   "cell_type": "markdown",
   "metadata": {},
   "source": [
    "Se importan los datasets que contienen la información requerida para el análisis."
   ]
  },
  {
   "cell_type": "code",
   "execution_count": null,
   "metadata": {},
   "outputs": [],
   "source": [
    "future_data = pd.read_csv(r\"..\\datasets\\2. Depurados\\TLC Aggregated Data\\ML_TS_Output_Anualized.csv\")\n",
    "future_data = future_data[future_data['industry']=='FHV - High Volume']\n",
    "\n",
    "future_data.rename(columns={\n",
    "    'anual_income_per_vehicle': 'Income_per_Vehicle (USD)',\n",
    "    'anual_distance_per_vehicle': 'Miles_per_Vehicle',\n",
    "    'anual_total_co2_emission': 'Total_CO2_Emissions'\n",
    "}, inplace=True)\n",
    "future_data =  future_data[future_data['year']>=2025]\n",
    "\n",
    "# Dataset de VE\n",
    "df_autos = pd.read_csv(r'..\\datasets\\2. Depurados\\ElectricCarData_Clean.csv')\n",
    "df_autos.rename(columns={\n",
    "    'brand': 'Brand',\n",
    "    'model': 'Model',\n",
    "    'efficiency_whkm': 'Efficiency (Wh/km)'\n",
    "}, inplace=True)\n",
    "\n",
    "df_autos['Efficiency (kWh/mile)'] = df_autos['Efficiency (Wh/km)']/1000* 0.1688666667 \n",
    "df_autos['Precio Dolar'] = df_autos['price_euro'] * 1.06"
   ]
  },
  {
   "cell_type": "markdown",
   "metadata": {},
   "source": [
    "Se obtiene el promedio de las variables (ingreso anual y millas recorridas por año) para un primer acercamiento y entendimiento del comportamiento de las variables."
   ]
  },
  {
   "cell_type": "code",
   "execution_count": 3,
   "metadata": {},
   "outputs": [
    {
     "name": "stdout",
     "output_type": "stream",
     "text": [
      "El promedio de ingresos anuales es: 59327.19\n",
      "El promedio de millas recorridas anualmente es : 10873.13\n"
     ]
    }
   ],
   "source": [
    "promedio_ingresos = round(future_data[\"Income_per_Vehicle (USD)\"].mean(),2)\n",
    "promedio_millas = round(future_data[\"Miles_per_Vehicle\"].mean(),2)\n",
    "print(f'El promedio de ingresos anuales es: {promedio_ingresos}')\n",
    "print(f'El promedio de millas recorridas anualmente es : {promedio_millas}')"
   ]
  },
  {
   "cell_type": "markdown",
   "metadata": {},
   "source": [
    "A continuación se asigna a cada dato una variable que almacena su información."
   ]
  },
  {
   "cell_type": "code",
   "execution_count": 4,
   "metadata": {},
   "outputs": [
    {
     "name": "stdout",
     "output_type": "stream",
     "text": [
      "Los ingresos para el año 2025 son 65357.06\n",
      "Los ingresos para el año 2026 son 64802.76\n",
      "Los ingresos para el año 2027 son 64302.32\n",
      "Los ingresos para el año 2028 son 63485.52\n",
      "Los ingresos para el año 2029 son 63408.43\n",
      "Los ingresos para el año 2030 son 63019.9\n",
      "Los ingresos para el año 2031 son 62664.8\n",
      "Los ingresos para el año 2032 son 61984.98\n",
      "Los ingresos para el año 2033 son 62013.27\n",
      "Los ingresos para el año 2034 son 61726.06\n",
      "Los ingresos para el año 2035 son 19833.94\n"
     ]
    }
   ],
   "source": [
    "año = 2025\n",
    "for _, row in future_data.iterrows():  # iterrows() en lugar de interrows()\n",
    "    globals()[f'Ingresos_año_{año}'] = round(row[\"Income_per_Vehicle (USD)\"],2)\n",
    "    print(f'Los ingresos para el año {año} son {globals()[f\"Ingresos_año_{año}\"]}')\n",
    "    año += 1"
   ]
  },
  {
   "cell_type": "code",
   "execution_count": 5,
   "metadata": {},
   "outputs": [
    {
     "name": "stdout",
     "output_type": "stream",
     "text": [
      "[65357.06, 64802.76, 64302.32, 63485.52, 63408.43, 63019.9, 62664.8, 61984.98, 62013.27, 61726.06, 19833.94]\n"
     ]
    }
   ],
   "source": [
    "ingresos_años = []\n",
    "for _, row in future_data.iterrows():\n",
    "    ingresos_años.append(round(row[\"Income_per_Vehicle (USD)\"],2))\n",
    "print(ingresos_años)"
   ]
  },
  {
   "cell_type": "code",
   "execution_count": 6,
   "metadata": {},
   "outputs": [
    {
     "name": "stdout",
     "output_type": "stream",
     "text": [
      "Las Millas recorridas en el año 2025 son 11762.56\n",
      "Las Millas recorridas en el año 2026 son 11703.94\n",
      "Las Millas recorridas en el año 2027 son 11656.52\n",
      "Las Millas recorridas en el año 2028 son 11556.92\n",
      "Las Millas recorridas en el año 2029 son 11587.08\n",
      "Las Millas recorridas en el año 2030 son 11563.32\n",
      "Las Millas recorridas en el año 2031 son 11546.49\n",
      "Las Millas recorridas en el año 2032 son 11474.36\n",
      "Las Millas recorridas en el año 2033 son 11527.96\n",
      "Las Millas recorridas en el año 2034 son 11525.51\n",
      "Las Millas recorridas en el año 2035 son 3699.81\n"
     ]
    }
   ],
   "source": [
    "año = 2025\n",
    "for _, row in future_data.iterrows():\n",
    "    globals()[f'Millas_Año_{año}'] = round(row[\"Miles_per_Vehicle\"],2)\n",
    "    print(f'Las Millas recorridas en el año {año} son {globals()[f\"Millas_Año_{año}\"]}')\n",
    "    año+=1"
   ]
  },
  {
   "cell_type": "code",
   "execution_count": 7,
   "metadata": {},
   "outputs": [
    {
     "name": "stdout",
     "output_type": "stream",
     "text": [
      "[11762.56, 11703.94, 11656.52, 11556.92, 11587.08, 11563.32, 11546.49, 11474.36, 11527.96, 11525.51, 3699.81]\n"
     ]
    }
   ],
   "source": [
    "millas_años = []\n",
    "for _, row in future_data.iterrows():\n",
    "    millas_años.append(round(row[\"Miles_per_Vehicle\"],2))\n",
    "print(millas_años)"
   ]
  },
  {
   "cell_type": "markdown",
   "metadata": {},
   "source": [
    "### Clases:\n",
    "\n",
    "Se crea una clase «Auto» que contiene caracteristicas generales de este objeto. Luego en cada clase que hereda (Auto Electrico y convencional) se personalizan estas propiedades y se agregan nuevas.\n",
    "\n",
    "Tambien se crean las funciones para el calculo del Cash Flow y los demas indicadores financieros."
   ]
  },
  {
   "cell_type": "code",
   "execution_count": 8,
   "metadata": {},
   "outputs": [],
   "source": [
    "class Auto:\n",
    "    def __init__(self,tasa_descuento, precio, iva, licencia_1, licencia_2, placa, inspeccion, seguro, recorrido_anual, \n",
    "                 ingresos_anuales):\n",
    "        self.precio = precio\n",
    "        self.iva = iva\n",
    "        self.licencia_1 = licencia_1\n",
    "        self.licencia_2 = licencia_2\n",
    "        self.placa = placa\n",
    "        self.inspeccion = inspeccion\n",
    "        self.seguro = seguro\n",
    "        self.recorrido_anual = recorrido_anual\n",
    "        self.ingresos_anuales = ingresos_anuales\n",
    "        self.tasa_descuento = tasa_descuento\n",
    "    \n",
    "    def inversion_inicial(self):\n",
    "        raise NotImplementedError\n",
    "    \n",
    "    def costos_operativos(self):\n",
    "        raise NotImplementedError\n",
    "    \n",
    "    def flujo_neto_anual(self):\n",
    "        return self.ingresos_anuales - self.costos_operativos()\n",
    "    \n",
    "    def flujo_caja_proyectado(self, años=7):\n",
    "        \n",
    "        # Inversión inicial negativa porqué es el año 0\n",
    "        inversion_inicial = -self.inversion_inicial()\n",
    "        \n",
    "        ingresos_año = [0]\n",
    "        costos_año = [0]\n",
    "        flujo_neto = [inversion_inicial]  # Año 0: \n",
    "        flujo_descuento = [inversion_inicial]  # Año 0 Inversión inicial negativa\n",
    "        ingresos_descuento_año = [0]\n",
    "        \n",
    "        # Se calcula el flujo neto anual\n",
    "        for año in range(1, años + 1):\n",
    "            self.ingresos_anuales = ingresos_años[año-1]\n",
    "            self.recorrido_anual = millas_años[año-1]\n",
    "            flujo_neto_actual = self.flujo_neto_anual()\n",
    "            flujo_neto.append(flujo_neto_actual)\n",
    "            flujo_descuento_actual = flujo_neto_actual / (1 + self.tasa_descuento) ** año\n",
    "            flujo_descuento.append(flujo_descuento_actual)\n",
    "            ingresos_año.append(self.ingresos_anuales)\n",
    "            ingresos_descuento_año.append(ingresos_años[año-1]  / (1 + self.tasa_descuento) ** año)\n",
    "            costos_año.append(self.costos_operativos())\n",
    "        \n",
    "        # Se crea el DataFrame de resultados\n",
    "        df_flujo_caja = pd.DataFrame({\n",
    "            'Año': range(0, años + 1),\n",
    "            'Ingresos': ingresos_año, \n",
    "            'Costos Operativos': costos_año,\n",
    "            'Flujo Neto': flujo_neto,\n",
    "            'Flujo Neto Descontado': flujo_descuento,\n",
    "            'Ingresos Descontado': ingresos_descuento_año        \n",
    "        })\n",
    "        \n",
    "        # Calculo el flujo total descontado para el ROI\n",
    "        return df_flujo_caja\n",
    "\n",
    "    def calcular_roi(self, flujo_total):\n",
    "        roi = flujo_total/ self.inversion_inicial() *100\n",
    "        roi_mensual_simple = roi/7/12\n",
    "        #roi_mensual_compuesto = ((1+ flujo_total/ self.inversion_inicial())**(1/(7*12))-1)*100 #- self.inversion_inicial()\n",
    "        return round(roi, 2),round(roi_mensual_simple, 2)#,round(roi_mensual_compuesto, 2)\n",
    "\n",
    "    def calcular_ir(self, ingreso_total):\n",
    "        ir = ingreso_total / abs(self.inversion_inicial())\n",
    "        return round(ir, 2)\n",
    "\n",
    "    def calcular_payback_period(self):\n",
    "        flujo_acumulado = 0\n",
    "        payback = 0\n",
    "        for año in range(1, 8):\n",
    "            flujo_anual = self.flujo_neto_anual()\n",
    "            flujo_acumulado += flujo_anual\n",
    "            if flujo_acumulado >= abs(self.inversion_inicial()):\n",
    "                payback = año\n",
    "                break\n",
    "        return payback if payback > 0 else \"No recuperado en 7 años\"\n",
    "    "
   ]
  },
  {
   "cell_type": "markdown",
   "metadata": {},
   "source": [
    "Creación de clase de «Auto Convencional»"
   ]
  },
  {
   "cell_type": "code",
   "execution_count": 9,
   "metadata": {},
   "outputs": [],
   "source": [
    "class AutoConvencional(Auto): #Licencia_1 = unico pago, licencia_2 = anual\n",
    "    def __init__(self, tasa_descuento, precio=36200, iva=0.08875, licencia_1=550,licencia_2=100, placa = 300,\n",
    "                 seguro=5000, inspeccion = 150,\n",
    "                 eficiencia=25 , mantenimiento=0.15, recorrido_anual=promedio_millas, #eficiencia en MPG / mantenimiento = USD x Milla\n",
    "                 ingresos_anuales=promedio_ingresos):\n",
    "        super().__init__(tasa_descuento,precio, iva, licencia_1, licencia_2, placa, inspeccion,\n",
    "                         seguro, recorrido_anual, ingresos_anuales) # Se usa el super constructor para evitar redundancia ya que es una clase hija\n",
    "        self.eficiencia = eficiencia\n",
    "        self.mantenimiento = mantenimiento\n",
    "    \n",
    "    def inversion_inicial(self):\n",
    "        return self.precio * (1 + self.iva) + self.licencia_1\n",
    "    \n",
    "    def costos_operativos(self):\n",
    "        precio_gasolina_galon = 3.06 #USD x galon\n",
    "        costo_gasolina_anual = (self.recorrido_anual / self.eficiencia) * precio_gasolina_galon\n",
    "        costo_mantenimiento = self.mantenimiento * self.recorrido_anual\n",
    "        costo_anual_salario = 2342 * 20  # Precio medio de la hora de un conductor de autos convencionales.\n",
    "        return costo_gasolina_anual + costo_mantenimiento + self.seguro + self.licencia_2 + self.placa + self.inspeccion + costo_anual_salario"
   ]
  },
  {
   "cell_type": "markdown",
   "metadata": {},
   "source": [
    "Creación de clase de «Auto Electrico»"
   ]
  },
  {
   "cell_type": "code",
   "execution_count": 10,
   "metadata": {},
   "outputs": [],
   "source": [
    "class AutoElectrico(Auto): #Descuento de 5% al 10% en licencia ; Excencion del impuesto de venta\n",
    "    def __init__(self,tasa_descuento, precio, eficiencia, iva=0, licencia_1=495,licencia_2=100, placa = 300,\n",
    "                 seguro=1500, inspeccion = 100, mantenimiento=0.03, wallbox=600, \n",
    "                 recambio_bateria=5000, #mantenimiento = USD x Milla\n",
    "                 recorrido_anual=promedio_millas, ingresos_anuales=promedio_ingresos): \n",
    "        super().__init__(tasa_descuento, precio, iva, licencia_1, licencia_2, placa, inspeccion, seguro, recorrido_anual, \n",
    "                         ingresos_anuales)\n",
    "        self.eficiencia = eficiencia\n",
    "        self.mantenimiento = mantenimiento\n",
    "        self.wallbox = wallbox\n",
    "        self.recambio_bateria = recambio_bateria\n",
    "        self.tasa_descuento = tasa_descuento\n",
    "        self.licencia_1=licencia_1\n",
    "    \n",
    "    def inversion_inicial(self):\n",
    "        return self.precio + self.licencia_1 + self.wallbox\n",
    "    \n",
    "    def costos_operativos(self):\n",
    "        precio_electricidad_kWh = 0.13 #USD x kHw\n",
    "        costo_electricidad_anual = (self.recorrido_anual * self.eficiencia) * precio_electricidad_kWh\n",
    "        costo_mantenimiento = self.mantenimiento * self.recorrido_anual\n",
    "        costo_anual_bateria = self.recambio_bateria / 12.5\n",
    "        costo_anual_salario = 2342 * 22 # Promedio de horas de menejo de un conductor por año * Precio promedio de la hora de un chofer de taxis en NY para VE.\n",
    "        return costo_electricidad_anual + costo_mantenimiento + costo_anual_bateria + self.seguro + self.licencia_2 + self.placa + self.inspeccion + costo_anual_salario"
   ]
  },
  {
   "cell_type": "markdown",
   "metadata": {},
   "source": [
    "### Modelo #3:\n",
    "Análisis Financiero de Flota Combinada (VE y auto convencional)\n",
    "\n",
    "Esta función estudia el comportamiento de cada uno de los prototipos del Dataset de VE relacionado a los indicadores financieros anteriormente delineados.\n",
    "En cuanto al auto convencional se construye un propotipo prototipo como muestra."
   ]
  },
  {
   "cell_type": "code",
   "execution_count": 11,
   "metadata": {},
   "outputs": [],
   "source": [
    "def calcular_metricas_flota(tasa_descuento, cantidad_ve, cantidad_conv):\n",
    "    resultados = []\n",
    "    flujo_neto_comb_lista = []\n",
    "    for _, fila in df_autos.iterrows():\n",
    "        # Se extraen los datos del Dataset\n",
    "        marca = fila['Brand']\n",
    "        modelo = fila['Model']\n",
    "        precio_ve = fila['Precio Dolar']\n",
    "        eficiencia_ve = fila['Efficiency (kWh/mile)']\n",
    "        eficiencia_conv = 25\n",
    "\n",
    "        eficiencia_total = (33.7 /  eficiencia_conv * cantidad_conv + eficiencia_ve * cantidad_ve) / (cantidad_ve+cantidad_conv)\n",
    "\n",
    "        # Se instancian los autos segun su naturaleza (electrico o convencional)\n",
    "        auto_electrico = AutoElectrico(tasa_descuento, precio=precio_ve, eficiencia=eficiencia_ve)\n",
    "        auto_convencional = AutoConvencional(tasa_descuento)\n",
    "\n",
    "\n",
    "        # Se calcula el flujo de caja proyectado para cada tipo de auto\n",
    "        flujo_ve = auto_electrico.flujo_caja_proyectado()\n",
    "        flujo_conv = auto_convencional.flujo_caja_proyectado()\n",
    "        flujo_neto_comb_lista =  cantidad_ve * flujo_ve['Flujo Neto Descontado'] +  cantidad_conv  * flujo_conv['Flujo Neto Descontado']\n",
    "\n",
    "        # Se combinar flujos de caja para la flota (teniendo en cuenta su respectiva cantidad)\n",
    "        flujo_neto_comb = round(\n",
    "            cantidad_ve * flujo_ve['Flujo Neto Descontado'].sum() +\n",
    "            cantidad_conv * flujo_conv['Flujo Neto Descontado'].sum(), 2\n",
    "        )\n",
    "        \n",
    "        ingreso_comb =  round(\n",
    "            cantidad_ve * flujo_ve['Ingresos Descontado'].sum() +\n",
    "            cantidad_conv * flujo_conv['Ingresos Descontado'].sum(), 2\n",
    "        )\n",
    "\n",
    "        # Se calcula  la inversión inicial combinada\n",
    "        inversion_comb = round(\n",
    "            cantidad_ve * auto_electrico.inversion_inicial() +\n",
    "            cantidad_conv * auto_convencional.inversion_inicial(), 2\n",
    "        )\n",
    "        \n",
    "        # Se calcular las métricas financieras combinadas\n",
    "        roi_comb = flujo_neto_comb/ inversion_comb *100 / 7\n",
    "        #roi_mensual_simple = roi_comb/12\n",
    "        ir_comb = ingreso_comb / abs(inversion_comb)\n",
    "        tir_comb = round(npf.irr(flujo_neto_comb_lista)*100,2)\n",
    "\n",
    "        # Calculo del payback period combinado (considerando la proporción)\n",
    "        flujo_anual_comb = [\n",
    "            cantidad_ve * flujo_ve['Flujo Neto'].iloc[año] +\n",
    "            cantidad_conv * flujo_conv['Flujo Neto'].iloc[año]\n",
    "            for año in range(1, 6)\n",
    "        ]\n",
    "        flujo_acumulado = 0\n",
    "        payback_comb = 0\n",
    "        for año, flujo in enumerate(flujo_anual_comb, start=1):\n",
    "            flujo_acumulado += flujo\n",
    "            if flujo_acumulado >= abs(inversion_comb):\n",
    "                payback_comb = año\n",
    "                break\n",
    "        \n",
    "        # Se almacenan los resultados para el modelo actual\n",
    "        resultados.append({\n",
    "            'Brand': marca,\n",
    "            'Model': modelo,\n",
    "            'Efficiency Total (kWh/mile)' : round(eficiencia_total,4),\n",
    "            'Inversión Inicial Total (USD)': round(inversion_comb,0),\n",
    "            #'Relación Inversión/Eficiencia (USD.mile/kWh)': round (inversion_comb/eficiencia_total,2),\n",
    "            'VNA (USD)': round(flujo_neto_comb,0),\n",
    "            'TIR (%)':round(tir_comb,2),\n",
    "            'ROI Anual (%)': round(roi_comb,2),\n",
    "            #'ROI Mensual(%)': round(roi_mensual_simple,4),\n",
    "            'IR (USD)': round(ir_comb,2),\n",
    "            'Payback Period (Años)': payback_comb if payback_comb > 0 else \"No recuperado en 7 años\"\n",
    "        })\n",
    "\n",
    "    # Se convertierten los resultados a tipo DataFrame para una mejor visualización\n",
    "    df_resultados = pd.DataFrame(resultados)\n",
    "    df_resultados = df_resultados.sort_values(by=\"ROI Anual (%)\", ascending=False).reset_index(drop=True) # Se ordena para tener el ranking \n",
    "\n",
    "\n",
    "    return df_resultados\n"
   ]
  },
  {
   "cell_type": "markdown",
   "metadata": {},
   "source": [
    "Ejemplo de uso:"
   ]
  },
  {
   "cell_type": "code",
   "execution_count": 12,
   "metadata": {},
   "outputs": [
    {
     "data": {
      "text/html": [
       "<div>\n",
       "<style scoped>\n",
       "    .dataframe tbody tr th:only-of-type {\n",
       "        vertical-align: middle;\n",
       "    }\n",
       "\n",
       "    .dataframe tbody tr th {\n",
       "        vertical-align: top;\n",
       "    }\n",
       "\n",
       "    .dataframe thead th {\n",
       "        text-align: right;\n",
       "    }\n",
       "</style>\n",
       "<table border=\"1\" class=\"dataframe\">\n",
       "  <thead>\n",
       "    <tr style=\"text-align: right;\">\n",
       "      <th></th>\n",
       "      <th>Brand</th>\n",
       "      <th>Model</th>\n",
       "      <th>Efficiency Total (kWh/mile)</th>\n",
       "      <th>Inversión Inicial Total (USD)</th>\n",
       "      <th>VNA (USD)</th>\n",
       "      <th>TIR (%)</th>\n",
       "      <th>ROI Anual (%)</th>\n",
       "      <th>IR (USD)</th>\n",
       "      <th>Payback Period (Años)</th>\n",
       "    </tr>\n",
       "  </thead>\n",
       "  <tbody>\n",
       "    <tr>\n",
       "      <th>0</th>\n",
       "      <td>SEAT</td>\n",
       "      <td>Mii Electric</td>\n",
       "      <td>0.6880</td>\n",
       "      <td>62394.0</td>\n",
       "      <td>26175.0</td>\n",
       "      <td>11.47</td>\n",
       "      <td>5.99</td>\n",
       "      <td>9.99</td>\n",
       "      <td>4</td>\n",
       "    </tr>\n",
       "    <tr>\n",
       "      <th>1</th>\n",
       "      <td>Smart</td>\n",
       "      <td>EQ fortwo coupe</td>\n",
       "      <td>0.6881</td>\n",
       "      <td>63728.0</td>\n",
       "      <td>24840.0</td>\n",
       "      <td>10.70</td>\n",
       "      <td>5.57</td>\n",
       "      <td>9.78</td>\n",
       "      <td>4</td>\n",
       "    </tr>\n",
       "    <tr>\n",
       "      <th>2</th>\n",
       "      <td>Volkswagen</td>\n",
       "      <td>e-Up!</td>\n",
       "      <td>0.6880</td>\n",
       "      <td>63764.0</td>\n",
       "      <td>24805.0</td>\n",
       "      <td>10.68</td>\n",
       "      <td>5.56</td>\n",
       "      <td>9.78</td>\n",
       "      <td>4</td>\n",
       "    </tr>\n",
       "    <tr>\n",
       "      <th>3</th>\n",
       "      <td>Smart</td>\n",
       "      <td>EQ forfour</td>\n",
       "      <td>0.6889</td>\n",
       "      <td>64410.0</td>\n",
       "      <td>24147.0</td>\n",
       "      <td>10.31</td>\n",
       "      <td>5.36</td>\n",
       "      <td>9.68</td>\n",
       "      <td>4</td>\n",
       "    </tr>\n",
       "    <tr>\n",
       "      <th>4</th>\n",
       "      <td>Skoda</td>\n",
       "      <td>CITIGOe iV</td>\n",
       "      <td>0.6880</td>\n",
       "      <td>67064.0</td>\n",
       "      <td>21505.0</td>\n",
       "      <td>8.88</td>\n",
       "      <td>4.58</td>\n",
       "      <td>9.30</td>\n",
       "      <td>4</td>\n",
       "    </tr>\n",
       "  </tbody>\n",
       "</table>\n",
       "</div>"
      ],
      "text/plain": [
       "         Brand            Model  Efficiency Total (kWh/mile)  \\\n",
       "0        SEAT     Mii Electric                        0.6880   \n",
       "1       Smart   EQ fortwo coupe                       0.6881   \n",
       "2  Volkswagen            e-Up!                        0.6880   \n",
       "3       Smart       EQ forfour                        0.6889   \n",
       "4       Skoda       CITIGOe iV                        0.6880   \n",
       "\n",
       "   Inversión Inicial Total (USD)  VNA (USD)  TIR (%)  ROI Anual (%)  IR (USD)  \\\n",
       "0                        62394.0    26175.0    11.47           5.99      9.99   \n",
       "1                        63728.0    24840.0    10.70           5.57      9.78   \n",
       "2                        63764.0    24805.0    10.68           5.56      9.78   \n",
       "3                        64410.0    24147.0    10.31           5.36      9.68   \n",
       "4                        67064.0    21505.0     8.88           4.58      9.30   \n",
       "\n",
       "  Payback Period (Años)  \n",
       "0                     4  \n",
       "1                     4  \n",
       "2                     4  \n",
       "3                     4  \n",
       "4                     4  "
      ]
     },
     "execution_count": 12,
     "metadata": {},
     "output_type": "execute_result"
    }
   ],
   "source": [
    "tasa_descuento = 0.10 # Primer Parámetro : Cantidad VE; Segundo Parámetro : Cantidad Autos Convencional\n",
    "cantidad_ve = 1\n",
    "cantidad_conv = 1\n",
    "resultados_flota = calcular_metricas_flota(tasa_descuento, cantidad_ve, cantidad_conv)\n",
    "resultados_flota.head(5) # head (5) para obtener el Ranking "
   ]
  },
  {
   "cell_type": "markdown",
   "metadata": {},
   "source": [
    "## Calculo del impacto\n",
    "### Impacto Incremental\n",
    "\n",
    "En esta sección se calcula el impacto incremental de agregar un vehiculo convencional a la flota de taxis."
   ]
  },
  {
   "cell_type": "code",
   "execution_count": 20,
   "metadata": {},
   "outputs": [],
   "source": [
    "# Se simulan escenarios con x cantidad de VE y x cantidad de autos convencionales\n",
    "# Para ello se crea un rango de vehículos eléctricos y convencionales\n",
    "rango_ve = range(1, 11)  # De 1 a 10 VE\n",
    "rango_conv = range(0, 11)  # De 0 a 10 Conv\n",
    "\n",
    "# Se iniciliza una lista vacia para mas tarde agregar los valores\n",
    "resultados = []\n",
    "\n",
    "# Simulación de las combinaciones o escenarios\n",
    "for ve in rango_ve:\n",
    "    for conv in rango_conv:\n",
    "        # Se calculan las métricas para la combinación del escenario actual\n",
    "        resultados_flota = calcular_metricas_flota(tasa_descuento=0.10, cantidad_ve=ve, cantidad_conv=conv)\n",
    "        \n",
    "        # Se extraen los valores de las metricas \n",
    "        van = resultados_flota['VNA (USD)'].iloc[0]  # Para extraer la primera fila\n",
    "        tir = resultados_flota['TIR (%)'].iloc[0] # Para extraer la primera fila\n",
    "        roi = resultados_flota['ROI Anual (%)'].iloc[0] # Para extraer la primera fila\n",
    "        payback = resultados_flota['Payback Period (Años)'].iloc[0] # Para extraer la primera fila\n",
    "        ir = resultados_flota['IR (USD)'].iloc[0] # Para extraer la primera fila\n",
    "        # Se almacenan los resultados en la lista antes inicilizada\n",
    "        resultados.append({'VE': ve, 'Conv': conv, 'VAN': van, 'TIR': tir, 'ROI': roi, 'IR' : ir ,'Payback' : payback})\n",
    "\n",
    "# Se convierte a formato DataFrame para mejor visualización.\n",
    "df_resultados = pd.DataFrame(resultados)\n"
   ]
  },
  {
   "cell_type": "code",
   "execution_count": 21,
   "metadata": {},
   "outputs": [],
   "source": [
    "# Aqui se agrupan por cada cantidad de VE para ver el comportamiento de los KPIs por cada vehiculo convencional incluido\n",
    "df_resultados['Impacto_VAN'] = df_resultados.groupby('VE')['VAN'].diff() # Con diff saca al diferencia de la fila anterior\n",
    "df_resultados['Impacto_TIR'] = df_resultados.groupby('VE')['TIR'].diff()\n",
    "df_resultados['Impacto_ROI'] = df_resultados.groupby('VE')['ROI'].diff()\n",
    "df_resultados['Impacto_Payback'] = df_resultados.groupby('VE')['Payback'].diff()\n",
    "df_resultados['Impacto_IR'] = df_resultados.groupby('VE')['IR'].diff()"
   ]
  },
  {
   "cell_type": "code",
   "execution_count": 26,
   "metadata": {},
   "outputs": [
    {
     "name": "stdout",
     "output_type": "stream",
     "text": [
      "Impacto promedio incremental de cada auto convencional incluido en VAN: 1291.40\n",
      "Impacto promedio incremental de cada auto convencional incluido en TIR: -2.07\n",
      "Impacto promedio incremental de cada auto convencional incluido en ROI: -1.19\n",
      "Impacto promedio incremental de cada auto convencional incluido en Payback: 0.12\n",
      "Impacto promedio incremental de cada auto convencional incluido en IR: -0.4733\n"
     ]
    }
   ],
   "source": [
    "# Se obtiene el promedio del 'impacto'\n",
    "impacto_promedio_van = df_resultados['Impacto_VAN'].mean()\n",
    "impacto_promedio_tir = df_resultados['Impacto_TIR'].mean()\n",
    "impacto_promedio_roi = df_resultados['Impacto_ROI'].mean()\n",
    "impacto_promedio_payback = df_resultados['Impacto_Payback'].mean()\n",
    "impacto_promedio_ir = df_resultados['Impacto_IR'].mean()\n",
    "\n",
    "\n",
    "# Se imprime el valor del impacto incremental\n",
    "print(f\"Impacto promedio incremental de cada auto convencional incluido en VAN: {impacto_promedio_van:.2f}\")\n",
    "print(f\"Impacto promedio incremental de cada auto convencional incluido en TIR: {impacto_promedio_tir:.2f}\")\n",
    "print(f\"Impacto promedio incremental de cada auto convencional incluido en ROI: {impacto_promedio_roi:.2f}\")\n",
    "print(f\"Impacto promedio incremental de cada auto convencional incluido en Payback: {impacto_promedio_payback:.2f}\")\n",
    "print(f\"Impacto promedio incremental de cada auto convencional incluido en IR: {impacto_promedio_ir:.4f}\")"
   ]
  },
  {
   "cell_type": "markdown",
   "metadata": {},
   "source": [
    "### Impacto Relativo (Promedio General)\n",
    "Esta sección compara un escenario combinado con uno exclusivo de vehículos eléctricos y refleja el impacto relativo. "
   ]
  },
  {
   "cell_type": "code",
   "execution_count": null,
   "metadata": {},
   "outputs": [
    {
     "name": "stdout",
     "output_type": "stream",
     "text": [
      "El impacto relativo de una flota combinada frente a una exclusiva en el indicador ROI es: 164.61%\n",
      "El impacto relativo de una flota combinada frente a una exclusiva en el indicador IR es: 39.14%\n",
      "El impacto relativo de una flota combinada frente a una exclusiva en el indicador TIR es: 146.56%\n",
      "El impacto relativo de una flota combinada frente a una exclusiva en el indicador Payback es: -25.00%\n",
      "El impacto relativo de una flota combinada frente a una exclusiva en el indicador VNA es: -4.94%\n"
     ]
    }
   ],
   "source": [
    "ve_range = range(1,2) # Rango de simulaciones de cantidad de VE\n",
    "conv_range = range(0,2) # Rango de simulaciones de cantidad de autos convencionales\n",
    "\n",
    "resultados = []\n",
    "\n",
    "# Simulaciones\n",
    "for ve in ve_range:\n",
    "    for conv in conv_range:\n",
    "        resultados_flota = calcular_metricas_flota(0.1, ve, conv) # Obtención de métricas correspondiente a cantidad de autos (Ve y Conv)\n",
    "        resultados_ROI = resultados_flota[\"ROI Anual (%)\"].iloc[0]\n",
    "        resultados_IR = resultados_flota[\"IR (USD)\"].iloc[0]\n",
    "        resultados_TIR = resultados_flota[\"TIR (%)\"].iloc[0]\n",
    "        resultados_Payback = resultados_flota[\"Payback Period (Años)\"].iloc[0]\n",
    "        resultados_VNA = resultados_flota[\"VNA (USD)\"].iloc[0]  \n",
    "        resultados.append({'VE' : ve, 'Conv' : conv, 'ROI' : resultados_ROI, 'IR' : resultados_IR, 'TIR' : resultados_TIR, \n",
    "         'Payback' : resultados_Payback, 'VNA' : resultados_VNA})\n",
    "        \n",
    "resultados = pd.DataFrame(resultados)\n",
    "\n",
    "# Calculo de impactos relativos\n",
    "\n",
    "impacto_ROI = round(((resultados.iloc[0,2] - resultados.iloc[1,2]) / resultados.iloc[1,2]) * 100,2) \n",
    "impacto_IR = round(((resultados.iloc[0,3] - resultados.iloc[1,3]) / resultados.iloc[1,3]) * 100,2)  \n",
    "impacto_TIR = round(((resultados.iloc[0,4] - resultados.iloc[1,4]) / resultados.iloc[1,4]) * 100,2)\n",
    "impacto_payback = round(((resultados.iloc[0,5] - resultados.iloc[1,5]) / resultados.iloc[1,5]) * 100,2)\n",
    "impacto_vna = round(((resultados.iloc[0,6] - resultados.iloc[1,6]) / resultados.iloc[1,6]) * 100,2)\n",
    "\n",
    "print(f'El impacto relativo de una flota combinada frente a una exclusiva en el indicador ROI es: {impacto_ROI:.2f}%')\n",
    "print(f'El impacto relativo de una flota combinada frente a una exclusiva en el indicador IR es: {impacto_IR:.2f}%')\n",
    "print(f'El impacto relativo de una flota combinada frente a una exclusiva en el indicador TIR es: {impacto_TIR:.2f}%')\n",
    "print(f'El impacto relativo de una flota combinada frente a una exclusiva en el indicador Payback es: {impacto_payback:.2f}%')\n",
    "print(f'El impacto relativo de una flota combinada frente a una exclusiva en el indicador VNA es: {impacto_vna:.2f}%')\n",
    "\n",
    "#resultados.head(10)"
   ]
  }
 ],
 "metadata": {
  "kernelspec": {
   "display_name": "Python 3",
   "language": "python",
   "name": "python3"
  },
  "language_info": {
   "codemirror_mode": {
    "name": "ipython",
    "version": 3
   },
   "file_extension": ".py",
   "mimetype": "text/x-python",
   "name": "python",
   "nbconvert_exporter": "python",
   "pygments_lexer": "ipython3",
   "version": "3.11.0"
  }
 },
 "nbformat": 4,
 "nbformat_minor": 2
}
