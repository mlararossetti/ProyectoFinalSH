{
 "cells": [
  {
   "cell_type": "code",
   "execution_count": 54,
   "metadata": {},
   "outputs": [],
   "source": [
    "import logging\n",
    "from google.cloud import storage\n",
    "import time\n",
    "from datetime import datetime\n",
    "import urllib.request\n",
    "import csv\n",
    "from dateutil.relativedelta import relativedelta\n"
   ]
  },
  {
   "cell_type": "code",
   "execution_count": null,
   "metadata": {},
   "outputs": [],
   "source": [
    "\n",
    "# Función para leer la última fecha registrada y calcular el siguiente mes\n",
    "def get_start_date_from_csv(file_path):\n",
    "    print(\"Entro\")\n",
    "    try:\n",
    "        with open(file_path, mode='r', newline='', encoding='utf-8') as file:\n",
    "            reader = csv.reader(file)\n",
    "            last_row = list(reader)[-1]  # Obtener la última fila\n",
    "            last_date = datetime.strptime(last_row[0], \"%d/%m/%Y\")  # Parsear la fecha en formato \"DD/MM/YYYY\"\n",
    "            return last_date + relativedelta(months=1)  # Retornar el mes siguiente\n",
    "    except Exception as e:\n",
    "        logging.error(f\"Error leyendo {file_path}: {e}\")\n",
    "        return datetime(2021, 1, 1)  # Valor predeterminado si no existe el archivo o falla la lectura"
   ]
  },
  {
   "cell_type": "code",
   "execution_count": null,
   "metadata": {},
   "outputs": [
    {
     "name": "stdout",
     "output_type": "stream",
     "text": [
      "Entro\n",
      "2024-07-01 00:00:00\n",
      "2024-08-01 00:00:00\n"
     ]
    }
   ],
   "source": [
    "# Configuración del Bucket (usando GCS)\n",
    "output_folder = 'C:\\\\Users\\\\Hernán\\\\Documents\\\\datasets'  # Ruta del Bucket en GCS\n",
    "fechas_csv = output_folder + \"\\\\Fechas_Archivos_Levantados.csv\"\n",
    "start_date = get_start_date_from_csv(fechas_csv)\n"
   ]
  }
 ],
 "metadata": {
  "kernelspec": {
   "display_name": "Python 3",
   "language": "python",
   "name": "python3"
  },
  "language_info": {
   "codemirror_mode": {
    "name": "ipython",
    "version": 3
   },
   "file_extension": ".py",
   "mimetype": "text/x-python",
   "name": "python",
   "nbconvert_exporter": "python",
   "pygments_lexer": "ipython3",
   "version": "3.12.1"
  }
 },
 "nbformat": 4,
 "nbformat_minor": 2
}
