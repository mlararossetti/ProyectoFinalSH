{
 "cells": [
  {
   "cell_type": "code",
   "execution_count": null,
   "metadata": {
    "vscode": {
     "languageId": "plaintext"
    }
   },
   "outputs": [],
   "source": [
    "import pandas as pd\n",
    "import numpy as np\n",
    "\n",
    "import warnings \n",
    "warnings.filterwarnings(\"ignore\")"
   ]
  },
  {
   "cell_type": "code",
   "execution_count": null,
   "metadata": {
    "vscode": {
     "languageId": "plaintext"
    }
   },
   "outputs": [],
   "source": [
    "df_emission = pd.read_excel(r\"..\\..\\datasets\\1. Originales\\Contaminación\\NYC_Greenhouse_Gas_Emissions_Inventory_20241105.xlsx\")"
   ]
  },
  {
   "cell_type": "code",
   "execution_count": null,
   "metadata": {
    "vscode": {
     "languageId": "plaintext"
    }
   },
   "outputs": [],
   "source": [
    "#Dejamos solo las columnas que necesitamos\n",
    "# Creo una lista con los nombres de las columnas que quiero mantener\n",
    "columnas_a_conservar = [\n",
    "    'Inventory Type', \n",
    "    'Sectors Sector', \n",
    "    'Category Full', \n",
    "    'Category Label', \n",
    "    'Source Full', \n",
    "    'Source Label', \n",
    "    'Source Units', \n",
    "    'CY 2010 tCO2e', \n",
    "    'CY 2011 tCO2e', \n",
    "    'CY 2012 tCO2e', \n",
    "    'CY 2013 tCO2e', \n",
    "    'CY 2014 tCO2e', \n",
    "    'CY 2015 tCO2e', \n",
    "    'CY 2016 tCO2e', \n",
    "    'CY 2017 tCO2e', \n",
    "    'CY 2018 tCO2e', \n",
    "    'CY 2019 tCO2e', \n",
    "    'CY 2020 tCO2e', \n",
    "    'CY 2021 tCO2e', \n",
    "    'CY 2022 tCO2e'\n",
    "]\n",
    "\n",
    "# Filtro el DataFrame\n",
    "df_emission_f = df_emission[columnas_a_conservar]"
   ]
  },
  {
   "cell_type": "code",
   "execution_count": null,
   "metadata": {
    "vscode": {
     "languageId": "plaintext"
    }
   },
   "outputs": [],
   "source": [
    "# Guardar el DataFrame en un archivo Excel en el mismo formato\n",
    "df_emission.to_excel(r\"..\\..\\datasets\\2. Depurados\\Contaminación\\NYC_Greenhouse_Gas_Emissions_Inventory_20241105_saved.xlsx\", index=False)"
   ]
  }
 ],
 "metadata": {
  "language_info": {
   "name": "python"
  }
 },
 "nbformat": 4,
 "nbformat_minor": 2
}
