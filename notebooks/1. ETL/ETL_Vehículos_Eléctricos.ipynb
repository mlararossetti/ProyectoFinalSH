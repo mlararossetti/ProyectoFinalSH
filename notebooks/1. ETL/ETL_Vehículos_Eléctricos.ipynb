{
 "cells": [
  {
   "cell_type": "code",
   "execution_count": 14,
   "metadata": {},
   "outputs": [],
   "source": [
    "import pandas as pd\n",
    "import numpy as np\n",
    "\n",
    "import warnings \n",
    "warnings.filterwarnings(\"ignore\")"
   ]
  },
  {
   "cell_type": "code",
   "execution_count": 15,
   "metadata": {},
   "outputs": [],
   "source": [
    "df_electric_car_data_clean = pd.read_csv(r\"..\\..\\datasets\\1. Originales\\ElectricCarData_Clean.csv\")"
   ]
  },
  {
   "cell_type": "code",
   "execution_count": 16,
   "metadata": {},
   "outputs": [],
   "source": [
    "df_electric_car_data_clean['FastCharge_KmH'] = df_electric_car_data_clean['FastCharge_KmH'].replace('-', np.nan)\n",
    "\n",
    "# Convertir la columna a tipo numérico\n",
    "df_electric_car_data_clean['FastCharge_KmH'] = pd.to_numeric(df_electric_car_data_clean['FastCharge_KmH'], errors='coerce')\n",
    "\n",
    "# Calcular la moda de los valores numéricos, ignorando NaN\n",
    "mode_value = df_electric_car_data_clean['FastCharge_KmH'].mode()[0]\n",
    "\n",
    "# Reemplazar los NaN con la moda calculada\n",
    "df_electric_car_data_clean['FastCharge_KmH'] = df_electric_car_data_clean['FastCharge_KmH'].fillna(mode_value)"
   ]
  },
  {
   "cell_type": "code",
   "execution_count": 17,
   "metadata": {},
   "outputs": [],
   "source": [
    "df_electric_car_data_clean.FastCharge_KmH = df_electric_car_data_clean.FastCharge_KmH.astype('int64')\n"
   ]
  },
  {
   "cell_type": "code",
   "execution_count": 18,
   "metadata": {},
   "outputs": [],
   "source": [
    "df_electric_car_data_clean.rename(columns={\n",
    "    'Brand': 'brand',\n",
    "    'Model': 'model',\n",
    "    'AccelSec': 'accelsec',\n",
    "    'TopSpeed_KmH': 'top_speed_kmh',\n",
    "    'Range_Km': 'range_km',\n",
    "    'Efficiency_WhKm': 'efficiency_whkm',\n",
    "    'FastCharge_KmH': 'fast_charge_kmh',\n",
    "    'RapidCharge': 'rapid_charge',\n",
    "    'PowerTrain': 'power_train',\n",
    "    'PlugType': 'plug_type',\n",
    "    'BodyStyle': 'body_style',\n",
    "    'Segment': 'segment',\n",
    "    'Seats': 'seats',\n",
    "    'PriceEuro': 'price_euro'\n",
    "}, inplace=True)"
   ]
  },
  {
   "cell_type": "code",
   "execution_count": 19,
   "metadata": {},
   "outputs": [],
   "source": [
    "# Guardar el DataFrame en un archivo csv en el mismo formato\n",
    "df_electric_car_data_clean.to_csv(r\"..\\..\\datasets\\2. Depurados\\ElectricCarData_Clean.csv\", index=False)"
   ]
  }
 ],
 "metadata": {
  "kernelspec": {
   "display_name": "Python 3",
   "language": "python",
   "name": "python3"
  },
  "language_info": {
   "codemirror_mode": {
    "name": "ipython",
    "version": 3
   },
   "file_extension": ".py",
   "mimetype": "text/x-python",
   "name": "python",
   "nbconvert_exporter": "python",
   "pygments_lexer": "ipython3",
   "version": "3.12.1"
  }
 },
 "nbformat": 4,
 "nbformat_minor": 2
}
