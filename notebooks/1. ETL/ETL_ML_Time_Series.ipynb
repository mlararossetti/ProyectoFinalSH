{
 "cells": [
  {
   "cell_type": "markdown",
   "metadata": {},
   "source": [
    "Librerías"
   ]
  },
  {
   "cell_type": "code",
   "execution_count": 1,
   "metadata": {},
   "outputs": [],
   "source": [
    "import pandas as pd"
   ]
  },
  {
   "cell_type": "code",
   "execution_count": 2,
   "metadata": {},
   "outputs": [],
   "source": [
    "df = pd.read_csv(r\"..\\..\\datasets\\2. Depurados\\TLC Aggregated Data\\merged_taxi_data.csv\")"
   ]
  },
  {
   "cell_type": "code",
   "execution_count": 3,
   "metadata": {},
   "outputs": [],
   "source": [
    "# Lista de columnas que se conservan de todos los df\n",
    "columnas_a_conservar = [\n",
    "    'date',\n",
    "    'industry',\n",
    "    'total_trips',\n",
    "    'unique_vehicles',\n",
    "    'total_amount',\n",
    "    'avg_trip_distance',\n",
    "    'total_co2_emission',\n",
    "    'days_in_month'\n",
    "]\n",
    "# Elimino las columnas que no necesito.\n",
    "df = df.loc[:, columnas_a_conservar]"
   ]
  },
  {
   "cell_type": "code",
   "execution_count": 4,
   "metadata": {},
   "outputs": [],
   "source": [
    "# Agrupo por 'date' y calculamos distintas variables para el Total del Mercado\n",
    "totals = df.groupby('date').agg({\n",
    "    'total_trips': 'sum',\n",
    "    'unique_vehicles': 'sum',\n",
    "    'total_amount': 'sum',\n",
    "    'avg_trip_distance': 'mean',\n",
    "    'total_co2_emission': 'sum',\n",
    "    'days_in_month': 'first'  # Usar el primer valor porque todos son iguales\n",
    "}).reset_index()\n",
    "\n",
    "# Agregar la columna 'industry' con el valor 'Total Mercado'\n",
    "totals['industry'] = 'Total Mercado'\n",
    "\n",
    "# Concatenar el total al DataFrame original\n",
    "df = pd.concat([df, totals], ignore_index=True)"
   ]
  },
  {
   "cell_type": "code",
   "execution_count": 5,
   "metadata": {},
   "outputs": [],
   "source": [
    "df['date'] = pd.to_datetime(df['date'])"
   ]
  },
  {
   "cell_type": "code",
   "execution_count": 6,
   "metadata": {},
   "outputs": [],
   "source": [
    "# Definir el orden personalizado para 'industry'\n",
    "order = ['FHV - High Volume', 'Yellow Taxi', 'Green Taxi', 'FHV - Other', 'Total Mercado']\n",
    "\n",
    "# Convertir 'industry' a categoría con un orden específico\n",
    "df['industry'] = pd.Categorical(df['industry'], categories=order, ordered=True)\n",
    "\n",
    "# Ordenar primero por 'date' y luego por 'industry'\n",
    "df = df.sort_values(by=['date','industry']).reset_index(drop=True)"
   ]
  },
  {
   "cell_type": "code",
   "execution_count": 7,
   "metadata": {},
   "outputs": [],
   "source": [
    "df.to_csv(r\"..\\..\\datasets\\2. Depurados\\TLC Aggregated Data\\ML_TS_Input.csv\", index=False, encoding='utf-8')"
   ]
  }
 ],
 "metadata": {
  "kernelspec": {
   "display_name": "Python 3",
   "language": "python",
   "name": "python3"
  },
  "language_info": {
   "codemirror_mode": {
    "name": "ipython",
    "version": 3
   },
   "file_extension": ".py",
   "mimetype": "text/x-python",
   "name": "python",
   "nbconvert_exporter": "python",
   "pygments_lexer": "ipython3",
   "version": "3.12.1"
  }
 },
 "nbformat": 4,
 "nbformat_minor": 2
}
