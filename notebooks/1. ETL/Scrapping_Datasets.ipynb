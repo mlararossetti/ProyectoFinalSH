{
 "cells": [
  {
   "cell_type": "markdown",
   "metadata": {},
   "source": [
    "# Scraping de archivos TLC"
   ]
  },
  {
   "cell_type": "markdown",
   "metadata": {},
   "source": [
    "- En este archivo se elabora un script para descargar los archivos desde la web de TLC de forma automática.\n",
    "- El mismo se fija si existe un archivo nuevo que no se encuentre descargado todavía y lo descarga, conseiderando el período Enero 2021 a la actualidad."
   ]
  },
  {
   "cell_type": "markdown",
   "metadata": {},
   "source": [
    "## Liberías"
   ]
  },
  {
   "cell_type": "code",
   "execution_count": 9,
   "metadata": {},
   "outputs": [],
   "source": [
    "import os\n",
    "import urllib.request\n",
    "from datetime import datetime\n",
    "from dateutil.relativedelta import relativedelta"
   ]
  },
  {
   "cell_type": "code",
   "execution_count": 12,
   "metadata": {},
   "outputs": [],
   "source": [
    "# Rutas relativas\n",
    "output_folder = r\"..\\\\..\\\\datasets\\\\1. Originales\\\\TLC Trip Record Data\\\\\"\n",
    "\n",
    "# URLs para cada tipo de dataset\n",
    "base_urls = {\n",
    "    \"yellow\": \"https://d37ci6vzurychx.cloudfront.net/trip-data/yellow_tripdata_{}.parquet\",\n",
    "    \"green\": \"https://d37ci6vzurychx.cloudfront.net/trip-data/green_tripdata_{}.parquet\",\n",
    "    \"fhv\": \"https://d37ci6vzurychx.cloudfront.net/trip-data/fhv_tripdata_{}.parquet\",\n",
    "    \"fhvhv\": \"https://d37ci6vzurychx.cloudfront.net/trip-data/fhvhv_tripdata_{}.parquet\",\n",
    "}"
   ]
  },
  {
   "cell_type": "code",
   "execution_count": 13,
   "metadata": {},
   "outputs": [],
   "source": [
    "# Función para verificar si un archivo ya existe y, si no, descargarlo\n",
    "def download_file(url, file_path, retries=3, delay=5):\n",
    "    if not os.path.exists(file_path):\n",
    "        for attempt in range(1, retries + 1):\n",
    "            try:\n",
    "                print(f\"Intento {attempt} descargando: {file_path}\")\n",
    "                urllib.request.urlretrieve(url, file_path)\n",
    "                print(f\"Descargado y guardado en: {file_path}\")\n",
    "                break  # Salir del bucle si la descarga fue exitosa\n",
    "            except Exception as e:\n",
    "                print(f\"Error en intento {attempt}: {e}\")\n",
    "                if attempt < retries:\n",
    "                    print(f\"Reintentando en {delay} segundos...\")\n",
    "                    time.sleep(delay)  # Esperar antes de intentar de nuevo\n",
    "                else:\n",
    "                    print(f\"No se pudo descargar {file_path} después de {retries} intentos.\")\n",
    "    else:\n",
    "        print(f\"El archivo ya existe: {file_path}\")"
   ]
  },
  {
   "cell_type": "code",
   "execution_count": 14,
   "metadata": {},
   "outputs": [
    {
     "name": "stdout",
     "output_type": "stream",
     "text": [
      "El archivo ya existe: ..\\\\..\\\\datasets\\\\1. Originales\\\\TLC Trip Record Data\\\\yellow_tripdata_2021-01.parquet\n",
      "El archivo ya existe: ..\\\\..\\\\datasets\\\\1. Originales\\\\TLC Trip Record Data\\\\green_tripdata_2021-01.parquet\n",
      "El archivo ya existe: ..\\\\..\\\\datasets\\\\1. Originales\\\\TLC Trip Record Data\\\\fhv_tripdata_2021-01.parquet\n",
      "El archivo ya existe: ..\\\\..\\\\datasets\\\\1. Originales\\\\TLC Trip Record Data\\\\fhvhv_tripdata_2021-01.parquet\n",
      "Intento 1 descargando: ..\\\\..\\\\datasets\\\\1. Originales\\\\TLC Trip Record Data\\\\yellow_tripdata_2021-02.parquet\n",
      "Descargado y guardado en: ..\\\\..\\\\datasets\\\\1. Originales\\\\TLC Trip Record Data\\\\yellow_tripdata_2021-02.parquet\n",
      "Intento 1 descargando: ..\\\\..\\\\datasets\\\\1. Originales\\\\TLC Trip Record Data\\\\green_tripdata_2021-02.parquet\n",
      "Descargado y guardado en: ..\\\\..\\\\datasets\\\\1. Originales\\\\TLC Trip Record Data\\\\green_tripdata_2021-02.parquet\n",
      "Intento 1 descargando: ..\\\\..\\\\datasets\\\\1. Originales\\\\TLC Trip Record Data\\\\fhv_tripdata_2021-02.parquet\n",
      "Descargado y guardado en: ..\\\\..\\\\datasets\\\\1. Originales\\\\TLC Trip Record Data\\\\fhv_tripdata_2021-02.parquet\n",
      "Intento 1 descargando: ..\\\\..\\\\datasets\\\\1. Originales\\\\TLC Trip Record Data\\\\fhvhv_tripdata_2021-02.parquet\n",
      "Descargado y guardado en: ..\\\\..\\\\datasets\\\\1. Originales\\\\TLC Trip Record Data\\\\fhvhv_tripdata_2021-02.parquet\n",
      "Intento 1 descargando: ..\\\\..\\\\datasets\\\\1. Originales\\\\TLC Trip Record Data\\\\yellow_tripdata_2021-03.parquet\n",
      "Descargado y guardado en: ..\\\\..\\\\datasets\\\\1. Originales\\\\TLC Trip Record Data\\\\yellow_tripdata_2021-03.parquet\n",
      "Intento 1 descargando: ..\\\\..\\\\datasets\\\\1. Originales\\\\TLC Trip Record Data\\\\green_tripdata_2021-03.parquet\n",
      "Descargado y guardado en: ..\\\\..\\\\datasets\\\\1. Originales\\\\TLC Trip Record Data\\\\green_tripdata_2021-03.parquet\n",
      "Intento 1 descargando: ..\\\\..\\\\datasets\\\\1. Originales\\\\TLC Trip Record Data\\\\fhv_tripdata_2021-03.parquet\n",
      "Descargado y guardado en: ..\\\\..\\\\datasets\\\\1. Originales\\\\TLC Trip Record Data\\\\fhv_tripdata_2021-03.parquet\n",
      "Intento 1 descargando: ..\\\\..\\\\datasets\\\\1. Originales\\\\TLC Trip Record Data\\\\fhvhv_tripdata_2021-03.parquet\n",
      "Descargado y guardado en: ..\\\\..\\\\datasets\\\\1. Originales\\\\TLC Trip Record Data\\\\fhvhv_tripdata_2021-03.parquet\n",
      "Intento 1 descargando: ..\\\\..\\\\datasets\\\\1. Originales\\\\TLC Trip Record Data\\\\yellow_tripdata_2021-04.parquet\n",
      "Descargado y guardado en: ..\\\\..\\\\datasets\\\\1. Originales\\\\TLC Trip Record Data\\\\yellow_tripdata_2021-04.parquet\n",
      "Intento 1 descargando: ..\\\\..\\\\datasets\\\\1. Originales\\\\TLC Trip Record Data\\\\green_tripdata_2021-04.parquet\n",
      "Descargado y guardado en: ..\\\\..\\\\datasets\\\\1. Originales\\\\TLC Trip Record Data\\\\green_tripdata_2021-04.parquet\n",
      "Intento 1 descargando: ..\\\\..\\\\datasets\\\\1. Originales\\\\TLC Trip Record Data\\\\fhv_tripdata_2021-04.parquet\n",
      "Descargado y guardado en: ..\\\\..\\\\datasets\\\\1. Originales\\\\TLC Trip Record Data\\\\fhv_tripdata_2021-04.parquet\n",
      "Intento 1 descargando: ..\\\\..\\\\datasets\\\\1. Originales\\\\TLC Trip Record Data\\\\fhvhv_tripdata_2021-04.parquet\n"
     ]
    },
    {
     "ename": "KeyboardInterrupt",
     "evalue": "",
     "output_type": "error",
     "traceback": [
      "\u001b[1;31m---------------------------------------------------------------------------\u001b[0m",
      "\u001b[1;31mKeyboardInterrupt\u001b[0m                         Traceback (most recent call last)",
      "Cell \u001b[1;32mIn[14], line 19\u001b[0m\n\u001b[0;32m     17\u001b[0m \u001b[38;5;66;03m# Intentar descargar el archivo\u001b[39;00m\n\u001b[0;32m     18\u001b[0m \u001b[38;5;28;01mtry\u001b[39;00m:\n\u001b[1;32m---> 19\u001b[0m     \u001b[43mdownload_file\u001b[49m\u001b[43m(\u001b[49m\u001b[43murl\u001b[49m\u001b[43m,\u001b[49m\u001b[43m \u001b[49m\u001b[43mfile_path\u001b[49m\u001b[43m)\u001b[49m\n\u001b[0;32m     20\u001b[0m \u001b[38;5;28;01mexcept\u001b[39;00m \u001b[38;5;167;01mException\u001b[39;00m \u001b[38;5;28;01mas\u001b[39;00m e:\n\u001b[0;32m     21\u001b[0m     \u001b[38;5;28mprint\u001b[39m(\u001b[38;5;124mf\u001b[39m\u001b[38;5;124m\"\u001b[39m\u001b[38;5;124mError descargando \u001b[39m\u001b[38;5;132;01m{\u001b[39;00mfile_name\u001b[38;5;132;01m}\u001b[39;00m\u001b[38;5;124m: \u001b[39m\u001b[38;5;132;01m{\u001b[39;00me\u001b[38;5;132;01m}\u001b[39;00m\u001b[38;5;124m\"\u001b[39m)\n",
      "Cell \u001b[1;32mIn[13], line 7\u001b[0m, in \u001b[0;36mdownload_file\u001b[1;34m(url, file_path, retries, delay)\u001b[0m\n\u001b[0;32m      5\u001b[0m \u001b[38;5;28;01mtry\u001b[39;00m:\n\u001b[0;32m      6\u001b[0m     \u001b[38;5;28mprint\u001b[39m(\u001b[38;5;124mf\u001b[39m\u001b[38;5;124m\"\u001b[39m\u001b[38;5;124mIntento \u001b[39m\u001b[38;5;132;01m{\u001b[39;00mattempt\u001b[38;5;132;01m}\u001b[39;00m\u001b[38;5;124m descargando: \u001b[39m\u001b[38;5;132;01m{\u001b[39;00mfile_path\u001b[38;5;132;01m}\u001b[39;00m\u001b[38;5;124m\"\u001b[39m)\n\u001b[1;32m----> 7\u001b[0m     \u001b[43murllib\u001b[49m\u001b[38;5;241;43m.\u001b[39;49m\u001b[43mrequest\u001b[49m\u001b[38;5;241;43m.\u001b[39;49m\u001b[43murlretrieve\u001b[49m\u001b[43m(\u001b[49m\u001b[43murl\u001b[49m\u001b[43m,\u001b[49m\u001b[43m \u001b[49m\u001b[43mfile_path\u001b[49m\u001b[43m)\u001b[49m\n\u001b[0;32m      8\u001b[0m     \u001b[38;5;28mprint\u001b[39m(\u001b[38;5;124mf\u001b[39m\u001b[38;5;124m\"\u001b[39m\u001b[38;5;124mDescargado y guardado en: \u001b[39m\u001b[38;5;132;01m{\u001b[39;00mfile_path\u001b[38;5;132;01m}\u001b[39;00m\u001b[38;5;124m\"\u001b[39m)\n\u001b[0;32m      9\u001b[0m     \u001b[38;5;28;01mbreak\u001b[39;00m  \u001b[38;5;66;03m# Salir del bucle si la descarga fue exitosa\u001b[39;00m\n",
      "File \u001b[1;32mc:\\Users\\hlussiatti\\AppData\\Local\\Programs\\Python\\Python312\\Lib\\urllib\\request.py:268\u001b[0m, in \u001b[0;36murlretrieve\u001b[1;34m(url, filename, reporthook, data)\u001b[0m\n\u001b[0;32m    265\u001b[0m \u001b[38;5;28;01mif\u001b[39;00m reporthook:\n\u001b[0;32m    266\u001b[0m     reporthook(blocknum, bs, size)\n\u001b[1;32m--> 268\u001b[0m \u001b[38;5;28;01mwhile\u001b[39;00m block \u001b[38;5;241m:=\u001b[39m \u001b[43mfp\u001b[49m\u001b[38;5;241;43m.\u001b[39;49m\u001b[43mread\u001b[49m\u001b[43m(\u001b[49m\u001b[43mbs\u001b[49m\u001b[43m)\u001b[49m:\n\u001b[0;32m    269\u001b[0m     read \u001b[38;5;241m+\u001b[39m\u001b[38;5;241m=\u001b[39m \u001b[38;5;28mlen\u001b[39m(block)\n\u001b[0;32m    270\u001b[0m     tfp\u001b[38;5;241m.\u001b[39mwrite(block)\n",
      "File \u001b[1;32mc:\\Users\\hlussiatti\\AppData\\Local\\Programs\\Python\\Python312\\Lib\\http\\client.py:479\u001b[0m, in \u001b[0;36mHTTPResponse.read\u001b[1;34m(self, amt)\u001b[0m\n\u001b[0;32m    476\u001b[0m \u001b[38;5;28;01mif\u001b[39;00m \u001b[38;5;28mself\u001b[39m\u001b[38;5;241m.\u001b[39mlength \u001b[38;5;129;01mis\u001b[39;00m \u001b[38;5;129;01mnot\u001b[39;00m \u001b[38;5;28;01mNone\u001b[39;00m \u001b[38;5;129;01mand\u001b[39;00m amt \u001b[38;5;241m>\u001b[39m \u001b[38;5;28mself\u001b[39m\u001b[38;5;241m.\u001b[39mlength:\n\u001b[0;32m    477\u001b[0m     \u001b[38;5;66;03m# clip the read to the \"end of response\"\u001b[39;00m\n\u001b[0;32m    478\u001b[0m     amt \u001b[38;5;241m=\u001b[39m \u001b[38;5;28mself\u001b[39m\u001b[38;5;241m.\u001b[39mlength\n\u001b[1;32m--> 479\u001b[0m s \u001b[38;5;241m=\u001b[39m \u001b[38;5;28;43mself\u001b[39;49m\u001b[38;5;241;43m.\u001b[39;49m\u001b[43mfp\u001b[49m\u001b[38;5;241;43m.\u001b[39;49m\u001b[43mread\u001b[49m\u001b[43m(\u001b[49m\u001b[43mamt\u001b[49m\u001b[43m)\u001b[49m\n\u001b[0;32m    480\u001b[0m \u001b[38;5;28;01mif\u001b[39;00m \u001b[38;5;129;01mnot\u001b[39;00m s \u001b[38;5;129;01mand\u001b[39;00m amt:\n\u001b[0;32m    481\u001b[0m     \u001b[38;5;66;03m# Ideally, we would raise IncompleteRead if the content-length\u001b[39;00m\n\u001b[0;32m    482\u001b[0m     \u001b[38;5;66;03m# wasn't satisfied, but it might break compatibility.\u001b[39;00m\n\u001b[0;32m    483\u001b[0m     \u001b[38;5;28mself\u001b[39m\u001b[38;5;241m.\u001b[39m_close_conn()\n",
      "File \u001b[1;32mc:\\Users\\hlussiatti\\AppData\\Local\\Programs\\Python\\Python312\\Lib\\socket.py:707\u001b[0m, in \u001b[0;36mSocketIO.readinto\u001b[1;34m(self, b)\u001b[0m\n\u001b[0;32m    705\u001b[0m \u001b[38;5;28;01mwhile\u001b[39;00m \u001b[38;5;28;01mTrue\u001b[39;00m:\n\u001b[0;32m    706\u001b[0m     \u001b[38;5;28;01mtry\u001b[39;00m:\n\u001b[1;32m--> 707\u001b[0m         \u001b[38;5;28;01mreturn\u001b[39;00m \u001b[38;5;28;43mself\u001b[39;49m\u001b[38;5;241;43m.\u001b[39;49m\u001b[43m_sock\u001b[49m\u001b[38;5;241;43m.\u001b[39;49m\u001b[43mrecv_into\u001b[49m\u001b[43m(\u001b[49m\u001b[43mb\u001b[49m\u001b[43m)\u001b[49m\n\u001b[0;32m    708\u001b[0m     \u001b[38;5;28;01mexcept\u001b[39;00m timeout:\n\u001b[0;32m    709\u001b[0m         \u001b[38;5;28mself\u001b[39m\u001b[38;5;241m.\u001b[39m_timeout_occurred \u001b[38;5;241m=\u001b[39m \u001b[38;5;28;01mTrue\u001b[39;00m\n",
      "File \u001b[1;32mc:\\Users\\hlussiatti\\AppData\\Local\\Programs\\Python\\Python312\\Lib\\ssl.py:1253\u001b[0m, in \u001b[0;36mSSLSocket.recv_into\u001b[1;34m(self, buffer, nbytes, flags)\u001b[0m\n\u001b[0;32m   1249\u001b[0m     \u001b[38;5;28;01mif\u001b[39;00m flags \u001b[38;5;241m!=\u001b[39m \u001b[38;5;241m0\u001b[39m:\n\u001b[0;32m   1250\u001b[0m         \u001b[38;5;28;01mraise\u001b[39;00m \u001b[38;5;167;01mValueError\u001b[39;00m(\n\u001b[0;32m   1251\u001b[0m           \u001b[38;5;124m\"\u001b[39m\u001b[38;5;124mnon-zero flags not allowed in calls to recv_into() on \u001b[39m\u001b[38;5;132;01m%s\u001b[39;00m\u001b[38;5;124m\"\u001b[39m \u001b[38;5;241m%\u001b[39m\n\u001b[0;32m   1252\u001b[0m           \u001b[38;5;28mself\u001b[39m\u001b[38;5;241m.\u001b[39m\u001b[38;5;18m__class__\u001b[39m)\n\u001b[1;32m-> 1253\u001b[0m     \u001b[38;5;28;01mreturn\u001b[39;00m \u001b[38;5;28;43mself\u001b[39;49m\u001b[38;5;241;43m.\u001b[39;49m\u001b[43mread\u001b[49m\u001b[43m(\u001b[49m\u001b[43mnbytes\u001b[49m\u001b[43m,\u001b[49m\u001b[43m \u001b[49m\u001b[43mbuffer\u001b[49m\u001b[43m)\u001b[49m\n\u001b[0;32m   1254\u001b[0m \u001b[38;5;28;01melse\u001b[39;00m:\n\u001b[0;32m   1255\u001b[0m     \u001b[38;5;28;01mreturn\u001b[39;00m \u001b[38;5;28msuper\u001b[39m()\u001b[38;5;241m.\u001b[39mrecv_into(buffer, nbytes, flags)\n",
      "File \u001b[1;32mc:\\Users\\hlussiatti\\AppData\\Local\\Programs\\Python\\Python312\\Lib\\ssl.py:1105\u001b[0m, in \u001b[0;36mSSLSocket.read\u001b[1;34m(self, len, buffer)\u001b[0m\n\u001b[0;32m   1103\u001b[0m \u001b[38;5;28;01mtry\u001b[39;00m:\n\u001b[0;32m   1104\u001b[0m     \u001b[38;5;28;01mif\u001b[39;00m buffer \u001b[38;5;129;01mis\u001b[39;00m \u001b[38;5;129;01mnot\u001b[39;00m \u001b[38;5;28;01mNone\u001b[39;00m:\n\u001b[1;32m-> 1105\u001b[0m         \u001b[38;5;28;01mreturn\u001b[39;00m \u001b[38;5;28;43mself\u001b[39;49m\u001b[38;5;241;43m.\u001b[39;49m\u001b[43m_sslobj\u001b[49m\u001b[38;5;241;43m.\u001b[39;49m\u001b[43mread\u001b[49m\u001b[43m(\u001b[49m\u001b[38;5;28;43mlen\u001b[39;49m\u001b[43m,\u001b[49m\u001b[43m \u001b[49m\u001b[43mbuffer\u001b[49m\u001b[43m)\u001b[49m\n\u001b[0;32m   1106\u001b[0m     \u001b[38;5;28;01melse\u001b[39;00m:\n\u001b[0;32m   1107\u001b[0m         \u001b[38;5;28;01mreturn\u001b[39;00m \u001b[38;5;28mself\u001b[39m\u001b[38;5;241m.\u001b[39m_sslobj\u001b[38;5;241m.\u001b[39mread(\u001b[38;5;28mlen\u001b[39m)\n",
      "\u001b[1;31mKeyboardInterrupt\u001b[0m: "
     ]
    }
   ],
   "source": [
    "# Rango de fechas deseado (de enero 2021 a la fecha actual)\n",
    "start_date = datetime(2021, 1, 1)\n",
    "end_date = datetime.now()\n",
    "\n",
    "# Bucle para iterar sobre cada dataset y cada mes\n",
    "current_date = start_date\n",
    "while current_date <= end_date:\n",
    "    year_month = current_date.strftime(\"%Y-%m\")  # Formato de año-mes\n",
    "\n",
    "    for dataset_type, base_url in base_urls.items():\n",
    "        \n",
    "        # Construir la URL y el nombre de archivo de destino\n",
    "        url = base_url.format(year_month)\n",
    "        file_name = f\"{dataset_type}_tripdata_{year_month}.parquet\"\n",
    "        file_path = os.path.join(output_folder, file_name)\n",
    "        \n",
    "        # Intentar descargar el archivo\n",
    "        try:\n",
    "            download_file(url, file_path)\n",
    "        except Exception as e:\n",
    "            print(f\"Error descargando {file_name}: {e}\")\n",
    "    \n",
    "    # Avanzar al siguiente mes usando relativedelta\n",
    "    current_date += relativedelta(months=1)"
   ]
  }
 ],
 "metadata": {
  "kernelspec": {
   "display_name": "Python 3",
   "language": "python",
   "name": "python3"
  },
  "language_info": {
   "codemirror_mode": {
    "name": "ipython",
    "version": 3
   },
   "file_extension": ".py",
   "mimetype": "text/x-python",
   "name": "python",
   "nbconvert_exporter": "python",
   "pygments_lexer": "ipython3",
   "version": "3.12.1"
  }
 },
 "nbformat": 4,
 "nbformat_minor": 2
}
