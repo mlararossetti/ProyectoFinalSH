{
 "cells": [
  {
   "cell_type": "code",
   "execution_count": 26,
   "metadata": {},
   "outputs": [],
   "source": [
    "import pandas as pd"
   ]
  },
  {
   "cell_type": "code",
   "execution_count": 27,
   "metadata": {},
   "outputs": [],
   "source": [
    "df = pd.read_csv(r\"..\\..\\datasets\\2. Depurados\\TLC Aggregated Data\\ML_TS_Output.csv\")"
   ]
  },
  {
   "cell_type": "code",
   "execution_count": 28,
   "metadata": {},
   "outputs": [
    {
     "data": {
      "text/html": [
       "<div>\n",
       "<style scoped>\n",
       "    .dataframe tbody tr th:only-of-type {\n",
       "        vertical-align: middle;\n",
       "    }\n",
       "\n",
       "    .dataframe tbody tr th {\n",
       "        vertical-align: top;\n",
       "    }\n",
       "\n",
       "    .dataframe thead th {\n",
       "        text-align: right;\n",
       "    }\n",
       "</style>\n",
       "<table border=\"1\" class=\"dataframe\">\n",
       "  <thead>\n",
       "    <tr style=\"text-align: right;\">\n",
       "      <th></th>\n",
       "      <th>ds</th>\n",
       "      <th>yhat</th>\n",
       "      <th>yhat_lower</th>\n",
       "      <th>yhat_upper</th>\n",
       "      <th>industry</th>\n",
       "      <th>column</th>\n",
       "    </tr>\n",
       "  </thead>\n",
       "  <tbody>\n",
       "    <tr>\n",
       "      <th>0</th>\n",
       "      <td>2021-01-01</td>\n",
       "      <td>1.239464e+07</td>\n",
       "      <td>1.194575e+07</td>\n",
       "      <td>1.285786e+07</td>\n",
       "      <td>FHV - High Volume</td>\n",
       "      <td>total_trips</td>\n",
       "    </tr>\n",
       "    <tr>\n",
       "      <th>1</th>\n",
       "      <td>2021-02-01</td>\n",
       "      <td>1.255440e+07</td>\n",
       "      <td>1.209617e+07</td>\n",
       "      <td>1.302421e+07</td>\n",
       "      <td>FHV - High Volume</td>\n",
       "      <td>total_trips</td>\n",
       "    </tr>\n",
       "    <tr>\n",
       "      <th>2</th>\n",
       "      <td>2021-03-01</td>\n",
       "      <td>1.433721e+07</td>\n",
       "      <td>1.389973e+07</td>\n",
       "      <td>1.483875e+07</td>\n",
       "      <td>FHV - High Volume</td>\n",
       "      <td>total_trips</td>\n",
       "    </tr>\n",
       "    <tr>\n",
       "      <th>3</th>\n",
       "      <td>2021-04-01</td>\n",
       "      <td>1.383410e+07</td>\n",
       "      <td>1.336851e+07</td>\n",
       "      <td>1.432150e+07</td>\n",
       "      <td>FHV - High Volume</td>\n",
       "      <td>total_trips</td>\n",
       "    </tr>\n",
       "    <tr>\n",
       "      <th>4</th>\n",
       "      <td>2021-05-01</td>\n",
       "      <td>1.451887e+07</td>\n",
       "      <td>1.404423e+07</td>\n",
       "      <td>1.498482e+07</td>\n",
       "      <td>FHV - High Volume</td>\n",
       "      <td>total_trips</td>\n",
       "    </tr>\n",
       "  </tbody>\n",
       "</table>\n",
       "</div>"
      ],
      "text/plain": [
       "           ds          yhat    yhat_lower    yhat_upper           industry  \\\n",
       "0  2021-01-01  1.239464e+07  1.194575e+07  1.285786e+07  FHV - High Volume   \n",
       "1  2021-02-01  1.255440e+07  1.209617e+07  1.302421e+07  FHV - High Volume   \n",
       "2  2021-03-01  1.433721e+07  1.389973e+07  1.483875e+07  FHV - High Volume   \n",
       "3  2021-04-01  1.383410e+07  1.336851e+07  1.432150e+07  FHV - High Volume   \n",
       "4  2021-05-01  1.451887e+07  1.404423e+07  1.498482e+07  FHV - High Volume   \n",
       "\n",
       "        column  \n",
       "0  total_trips  \n",
       "1  total_trips  \n",
       "2  total_trips  \n",
       "3  total_trips  \n",
       "4  total_trips  "
      ]
     },
     "execution_count": 28,
     "metadata": {},
     "output_type": "execute_result"
    }
   ],
   "source": [
    "df.head()"
   ]
  },
  {
   "cell_type": "code",
   "execution_count": 29,
   "metadata": {},
   "outputs": [
    {
     "name": "stdout",
     "output_type": "stream",
     "text": [
      "<class 'pandas.core.frame.DataFrame'>\n",
      "RangeIndex: 3956 entries, 0 to 3955\n",
      "Data columns (total 6 columns):\n",
      " #   Column      Non-Null Count  Dtype  \n",
      "---  ------      --------------  -----  \n",
      " 0   ds          3956 non-null   object \n",
      " 1   yhat        3956 non-null   float64\n",
      " 2   yhat_lower  3956 non-null   float64\n",
      " 3   yhat_upper  3956 non-null   float64\n",
      " 4   industry    3956 non-null   object \n",
      " 5   column      3956 non-null   object \n",
      "dtypes: float64(3), object(3)\n",
      "memory usage: 185.6+ KB\n"
     ]
    }
   ],
   "source": [
    "df.info()"
   ]
  },
  {
   "cell_type": "code",
   "execution_count": 30,
   "metadata": {},
   "outputs": [],
   "source": [
    "\"\"\"\n",
    "Transforma el DataFrame de formato largo a formato amplio.\n",
    "\"\"\"\n",
    "# Convertir la columna 'ds' a datetime\n",
    "df['ds'] = pd.to_datetime(df['ds'].str.split(' ').str[0])\n",
    "\n",
    "# Realizar el pivot\n",
    "df_pivot = df.pivot_table(index=['ds', 'industry'], columns='column', values=['yhat'], aggfunc='first')#, 'yhat_lower', 'yhat_upper'\n",
    "\n",
    "# Aplanar las columnas multi-nivel generadas por el pivot\n",
    "df_pivot.columns = [f'{col[1]}' for col in df_pivot.columns]\n",
    "\n",
    "# Resetear el índice para obtener las columnas 'ds' y 'industry'\n",
    "df_pivot.reset_index(inplace=True)\n",
    "\n",
    "df_pivot['year'] = df_pivot['ds'].dt.year\n",
    "df_pivot['days_in_month'] = df['ds'].dt.days_in_month\n"
   ]
  },
  {
   "cell_type": "code",
   "execution_count": 31,
   "metadata": {},
   "outputs": [
    {
     "data": {
      "text/html": [
       "<div>\n",
       "<style scoped>\n",
       "    .dataframe tbody tr th:only-of-type {\n",
       "        vertical-align: middle;\n",
       "    }\n",
       "\n",
       "    .dataframe tbody tr th {\n",
       "        vertical-align: top;\n",
       "    }\n",
       "\n",
       "    .dataframe thead th {\n",
       "        text-align: right;\n",
       "    }\n",
       "</style>\n",
       "<table border=\"1\" class=\"dataframe\">\n",
       "  <thead>\n",
       "    <tr style=\"text-align: right;\">\n",
       "      <th></th>\n",
       "      <th>ds</th>\n",
       "      <th>industry</th>\n",
       "      <th>avg_trip_distance</th>\n",
       "      <th>total_amount</th>\n",
       "      <th>total_co2_emission</th>\n",
       "      <th>total_trips</th>\n",
       "      <th>unique_vehicles</th>\n",
       "      <th>year</th>\n",
       "      <th>days_in_month</th>\n",
       "    </tr>\n",
       "  </thead>\n",
       "  <tbody>\n",
       "    <tr>\n",
       "      <th>0</th>\n",
       "      <td>2021-01-01</td>\n",
       "      <td>FHV - High Volume</td>\n",
       "      <td>3.575869</td>\n",
       "      <td>2.044370e+08</td>\n",
       "      <td>16792.527590</td>\n",
       "      <td>1.239464e+07</td>\n",
       "      <td>47019.331820</td>\n",
       "      <td>2021</td>\n",
       "      <td>31</td>\n",
       "    </tr>\n",
       "    <tr>\n",
       "      <th>1</th>\n",
       "      <td>2021-01-01</td>\n",
       "      <td>FHV - Other</td>\n",
       "      <td>3.435398</td>\n",
       "      <td>NaN</td>\n",
       "      <td>1763.465074</td>\n",
       "      <td>1.202691e+06</td>\n",
       "      <td>10214.675716</td>\n",
       "      <td>2021</td>\n",
       "      <td>28</td>\n",
       "    </tr>\n",
       "    <tr>\n",
       "      <th>2</th>\n",
       "      <td>2021-01-01</td>\n",
       "      <td>Green Taxi</td>\n",
       "      <td>3.522061</td>\n",
       "      <td>NaN</td>\n",
       "      <td>110.462784</td>\n",
       "      <td>8.548868e+04</td>\n",
       "      <td>991.248863</td>\n",
       "      <td>2021</td>\n",
       "      <td>31</td>\n",
       "    </tr>\n",
       "    <tr>\n",
       "      <th>3</th>\n",
       "      <td>2021-01-01</td>\n",
       "      <td>Total Mercado</td>\n",
       "      <td>3.263928</td>\n",
       "      <td>2.111750e+08</td>\n",
       "      <td>19618.440506</td>\n",
       "      <td>1.507310e+07</td>\n",
       "      <td>62427.784523</td>\n",
       "      <td>2021</td>\n",
       "      <td>30</td>\n",
       "    </tr>\n",
       "    <tr>\n",
       "      <th>4</th>\n",
       "      <td>2021-01-01</td>\n",
       "      <td>Yellow Taxi</td>\n",
       "      <td>2.411213</td>\n",
       "      <td>2.034171e+07</td>\n",
       "      <td>1258.382129</td>\n",
       "      <td>1.753982e+06</td>\n",
       "      <td>4624.998999</td>\n",
       "      <td>2021</td>\n",
       "      <td>31</td>\n",
       "    </tr>\n",
       "  </tbody>\n",
       "</table>\n",
       "</div>"
      ],
      "text/plain": [
       "          ds           industry  avg_trip_distance  total_amount  \\\n",
       "0 2021-01-01  FHV - High Volume           3.575869  2.044370e+08   \n",
       "1 2021-01-01        FHV - Other           3.435398           NaN   \n",
       "2 2021-01-01         Green Taxi           3.522061           NaN   \n",
       "3 2021-01-01      Total Mercado           3.263928  2.111750e+08   \n",
       "4 2021-01-01        Yellow Taxi           2.411213  2.034171e+07   \n",
       "\n",
       "   total_co2_emission   total_trips  unique_vehicles  year  days_in_month  \n",
       "0        16792.527590  1.239464e+07     47019.331820  2021             31  \n",
       "1         1763.465074  1.202691e+06     10214.675716  2021             28  \n",
       "2          110.462784  8.548868e+04       991.248863  2021             31  \n",
       "3        19618.440506  1.507310e+07     62427.784523  2021             30  \n",
       "4         1258.382129  1.753982e+06      4624.998999  2021             31  "
      ]
     },
     "execution_count": 31,
     "metadata": {},
     "output_type": "execute_result"
    }
   ],
   "source": [
    "df_pivot.head()"
   ]
  },
  {
   "cell_type": "code",
   "execution_count": 32,
   "metadata": {},
   "outputs": [],
   "source": [
    "# Variables necesarias pra Modelo de Flujo de Fondos\n",
    "df_pivot['avg_income_per_vehicle'] = df_pivot['total_amount'] / df_pivot['unique_vehicles'] \n",
    "df_pivot['avg_vehicle_distance_per_month'] = df_pivot['total_trips'] *  df_pivot['avg_trip_distance'] / df_pivot['unique_vehicles'] \n",
    "#df_pivot['avg_hours_per_driver_per_month'] = df_pivot['avg_hours_per_day_per_driver'] * df_pivot['days_in_month']"
   ]
  },
  {
   "cell_type": "code",
   "execution_count": 33,
   "metadata": {},
   "outputs": [],
   "source": [
    "# Agrupar por 'industry', 'column' y 'year' y calcular la suma de 'yhat', 'yhat_lower', 'yhat_upper'\n",
    "df_agg = df_pivot.groupby(['industry', 'year'])[['avg_income_per_vehicle', 'avg_vehicle_distance_per_month', 'total_co2_emission']].sum().reset_index() #'avg_hours_per_driver_per_month'"
   ]
  },
  {
   "cell_type": "code",
   "execution_count": 34,
   "metadata": {},
   "outputs": [],
   "source": [
    "df_agg.rename(\n",
    "    columns={\n",
    "        \"industry\": \"industry\",\n",
    "        \"year\": \"year\",\n",
    "        \"avg_income_per_vehicle\": \"anual_income_per_vehicle\",\n",
    "        \"avg_vehicle_distance_per_month\": \"anual_distance_per_vehicle\",\n",
    "        #\"avg_hours_per_driver_per_month\": \"anual_hours_per_driver\",\n",
    "        \"total_co2_emission\": \"anual_total_co2_emission\",\n",
    "    },\n",
    "    inplace=True,\n",
    ")"
   ]
  },
  {
   "cell_type": "code",
   "execution_count": 35,
   "metadata": {},
   "outputs": [],
   "source": [
    "\"\"\"\n",
    "Guarda el DataFrame de agregados anuales en un archivo CSV.\n",
    "\"\"\"\n",
    "df_agg.to_csv(r\"..\\..\\datasets\\2. Depurados\\TLC Aggregated Data\\ML_TS_Output_Anualized.csv\", index=False)\n"
   ]
  }
 ],
 "metadata": {
  "kernelspec": {
   "display_name": "Python 3",
   "language": "python",
   "name": "python3"
  },
  "language_info": {
   "codemirror_mode": {
    "name": "ipython",
    "version": 3
   },
   "file_extension": ".py",
   "mimetype": "text/x-python",
   "name": "python",
   "nbconvert_exporter": "python",
   "pygments_lexer": "ipython3",
   "version": "3.12.1"
  }
 },
 "nbformat": 4,
 "nbformat_minor": 2
}
