{
 "cells": [
  {
   "cell_type": "markdown",
   "metadata": {},
   "source": [
    "# API para carga de Feriados EEUU - New York"
   ]
  },
  {
   "cell_type": "markdown",
   "metadata": {},
   "source": [
    "## Librerías"
   ]
  },
  {
   "cell_type": "code",
   "execution_count": 1,
   "metadata": {},
   "outputs": [],
   "source": [
    "import requests\n",
    "import json\n",
    "import pandas as pd"
   ]
  },
  {
   "cell_type": "code",
   "execution_count": 2,
   "metadata": {},
   "outputs": [],
   "source": [
    "# Función para obtener los feriados\n",
    "def obtener_feriados_nacionales(api_key, country, years):\n",
    "    feriados_nacionales = []\n",
    "\n",
    "    # Iteramos sobre los años solicitados\n",
    "    for year in years:\n",
    "        # Construimos la URL de la API\n",
    "        url = f\"https://calendarific.com/api/v2/holidays?&api_key={api_key}&country={country}&year={year}&location=us-ny\"\n",
    "        \n",
    "        # Hacemos la solicitud a la API\n",
    "        response = requests.get(url)\n",
    "\n",
    "        # Verificamos que la solicitud fue exitosa\n",
    "        if response.status_code == 200:\n",
    "            data = response.json()\n",
    "            # Filtramos los feriados de tipo \"National holiday\"\n",
    "            for holiday in data.get('response', {}).get('holidays', []):\n",
    "                if \"National holiday\" in holiday['type']:\n",
    "                    # Extraemos los detalles relevantes\n",
    "                    feriados_nacionales.append({\n",
    "                        \"name\": holiday['name'],\n",
    "                        \"description\": holiday['description'],\n",
    "                        \"date\": holiday['date']['iso'],\n",
    "                        \"url\": holiday['canonical_url']\n",
    "                    })\n",
    "        else:\n",
    "            print(f\"Error al consultar el año {year}: {response.status_code}\")\n",
    "\n",
    "    return feriados_nacionales"
   ]
  },
  {
   "cell_type": "code",
   "execution_count": 3,
   "metadata": {},
   "outputs": [],
   "source": [
    "# Definimos los parámetros de la consulta\n",
    "api_key = \"eR3C6D3dgnml0e5TIhOAxKABtl5oISLK\"  # Tu clave API\n",
    "country = \"US\"\n",
    "years = range(2021, 2025)  # Desde 2021 hasta 2024"
   ]
  },
  {
   "cell_type": "code",
   "execution_count": 5,
   "metadata": {},
   "outputs": [
    {
     "name": "stdout",
     "output_type": "stream",
     "text": [
      "Los feriados nacionales se han guardado en ..\\..\\datasets\\1. Originales\\feriados_nacionales_2021_2024.csv.\n"
     ]
    }
   ],
   "source": [
    "# Llamamos a la función y obtenemos los feriados\n",
    "feriados = obtener_feriados_nacionales(api_key, country, years)\n",
    "\n",
    "# Guardamos los resultados en un DataFrame de pandas\n",
    "df_feriados = pd.DataFrame(feriados)\n",
    "\n",
    "# Guardamos el DataFrame en un archivo CSV\n",
    "csv_file_path = r'..\\..\\datasets\\1. Originales\\feriados_nacionales_2021_2024.csv'\n",
    "df_feriados.to_csv(csv_file_path, index=False)\n",
    "\n",
    "# Imprimimos una confirmación\n",
    "print(f\"Los feriados nacionales se han guardado en {csv_file_path}.\")"
   ]
  }
 ],
 "metadata": {
  "kernelspec": {
   "display_name": "Python 3",
   "language": "python",
   "name": "python3"
  },
  "language_info": {
   "codemirror_mode": {
    "name": "ipython",
    "version": 3
   },
   "file_extension": ".py",
   "mimetype": "text/x-python",
   "name": "python",
   "nbconvert_exporter": "python",
   "pygments_lexer": "ipython3",
   "version": "3.12.1"
  }
 },
 "nbformat": 4,
 "nbformat_minor": 2
}
