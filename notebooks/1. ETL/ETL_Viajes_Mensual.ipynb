{
 "cells": [
  {
   "cell_type": "code",
   "execution_count": 274,
   "metadata": {},
   "outputs": [],
   "source": [
    "import pandas as pd\n",
    "import numpy as np"
   ]
  },
  {
   "cell_type": "code",
   "execution_count": 275,
   "metadata": {},
   "outputs": [],
   "source": [
    "df = pd.read_csv(r'..\\..\\datasets\\1. Originales\\TLC Aggregated Data\\data_reports_monthly.csv')"
   ]
  },
  {
   "cell_type": "code",
   "execution_count": 276,
   "metadata": {},
   "outputs": [],
   "source": [
    "df.columns = [\n",
    "    'date', 'industry', 'trips_per_day', 'farebox_per_day',\n",
    "    'unique_drivers', 'unique_vehicles', 'vehicles_per_day',\n",
    "    'avg_days_vehicles_on_road', 'avg_hours_per_day_per_vehicle',\n",
    "    'avg_days_drivers_on_road', 'avg_hours_per_day_per_driver',\n",
    "    'avg_minutes_per_trip', 'percent_of_trips_paid_with_credit_card',\n",
    "    'trips_per_day_shared'\n",
    "]"
   ]
  },
  {
   "cell_type": "code",
   "execution_count": 277,
   "metadata": {},
   "outputs": [],
   "source": [
    "# Columnas incuidas\n",
    "columns_to_replace = df.columns.difference(['date', 'industry'])\n",
    "# Reemplazar '-' por '' en las columnas seleccionadas\n",
    "df[columns_to_replace] = df[columns_to_replace].replace({'-':np.nan,',':'','%': ''}, regex=True)"
   ]
  },
  {
   "cell_type": "code",
   "execution_count": 278,
   "metadata": {},
   "outputs": [],
   "source": [
    "df['date'] = pd.to_datetime(df['date'], format='%Y-%m')\n",
    "df['industry'] = df['industry'].astype('category')\n",
    "df['trips_per_day'] = df['trips_per_day'].astype('Int64')\n",
    "df['farebox_per_day'] = df['farebox_per_day'].astype('Int64')\n",
    "df['unique_drivers'] = df['unique_drivers'].astype('Int64')\n",
    "df['unique_vehicles'] = df['unique_vehicles'].astype('Int64')\n",
    "df['vehicles_per_day'] = df['vehicles_per_day'].astype('Int64')\n",
    "df['percent_of_trips_paid_with_credit_card'] = pd.to_numeric(df['percent_of_trips_paid_with_credit_card'], errors='coerce') / 100\n",
    "df['trips_per_day_shared'] = pd.to_numeric(df['trips_per_day_shared'], errors='coerce') "
   ]
  },
  {
   "cell_type": "code",
   "execution_count": 279,
   "metadata": {},
   "outputs": [
    {
     "name": "stderr",
     "output_type": "stream",
     "text": [
      "C:\\Users\\Hernán\\AppData\\Local\\Temp\\ipykernel_6528\\1759112715.py:2: FutureWarning: The behavior of Series.replace (and DataFrame.replace) with CategoricalDtype is deprecated. In a future version, replace will only be used for cases that preserve the categories. To change the categories, use ser.cat.rename_categories instead.\n",
      "  df['industry'] = df['industry'].replace({'Green': 'Green Taxi', 'Yellow': 'Yellow Taxi'})\n"
     ]
    }
   ],
   "source": [
    "# Reemplazar 'Green' y 'Yellow' para igual al datset diario\n",
    "df['industry'] = df['industry'].replace({'Green': 'Green Taxi', 'Yellow': 'Yellow Taxi'})"
   ]
  },
  {
   "cell_type": "code",
   "execution_count": 280,
   "metadata": {},
   "outputs": [],
   "source": [
    "# Agregar \"FHV - Other\" a las categorías de la columna 'industry' para reemplazar las que no están en el datset diario  \n",
    "df['industry'] = df['industry'].cat.add_categories('FHV - Other')\n",
    "\n",
    "# Luego, realizar la asignación de las industrias\n",
    "other_industries = ['FHV - Black Car', 'FHV - Livery', 'FHV - Lux Limo']\n",
    "df.loc[df['industry'].isin(other_industries), 'industry'] = 'FHV - Other'"
   ]
  },
  {
   "cell_type": "code",
   "execution_count": 281,
   "metadata": {},
   "outputs": [],
   "source": [
    "# Agrupar por 'month_year' y 'industry', y agregar 'FHV - Other' por mes\n",
    "df_other = df[df['industry'] == 'FHV - Other'].groupby('date').agg({\n",
    "    'trips_per_day': 'sum',\n",
    "    'farebox_per_day': 'sum',\n",
    "    'unique_drivers': 'sum',\n",
    "    'unique_vehicles': 'sum',\n",
    "    'vehicles_per_day': 'sum',\n",
    "    'avg_days_vehicles_on_road': 'mean',\n",
    "    'avg_hours_per_day_per_vehicle': 'mean',\n",
    "    'avg_days_drivers_on_road': 'mean',\n",
    "    'avg_hours_per_day_per_driver': 'mean',\n",
    "    'avg_minutes_per_trip': 'mean',\n",
    "    'percent_of_trips_paid_with_credit_card': 'mean',\n",
    "    'trips_per_day_shared': 'sum'\n",
    "}).reset_index()\n",
    "\n",
    "# Reasignar índices y juntar los DataFrames\n",
    "df_other['industry'] = 'FHV - Other'  # Asegurarse de que la columna 'industry' sea consistente\n",
    "df = pd.concat([df[df['industry'] != 'FHV - Other'], df_other], ignore_index=True)"
   ]
  },
  {
   "cell_type": "code",
   "execution_count": 282,
   "metadata": {},
   "outputs": [],
   "source": [
    "# df['year'] = df['date'].dt.year\n",
    "# df['month'] = df['date'].dt.month"
   ]
  },
  {
   "cell_type": "code",
   "execution_count": 283,
   "metadata": {},
   "outputs": [
    {
     "data": {
      "text/html": [
       "<div>\n",
       "<style scoped>\n",
       "    .dataframe tbody tr th:only-of-type {\n",
       "        vertical-align: middle;\n",
       "    }\n",
       "\n",
       "    .dataframe tbody tr th {\n",
       "        vertical-align: top;\n",
       "    }\n",
       "\n",
       "    .dataframe thead th {\n",
       "        text-align: right;\n",
       "    }\n",
       "</style>\n",
       "<table border=\"1\" class=\"dataframe\">\n",
       "  <thead>\n",
       "    <tr style=\"text-align: right;\">\n",
       "      <th></th>\n",
       "      <th>date</th>\n",
       "      <th>industry</th>\n",
       "      <th>trips_per_day</th>\n",
       "      <th>farebox_per_day</th>\n",
       "      <th>unique_drivers</th>\n",
       "      <th>unique_vehicles</th>\n",
       "      <th>vehicles_per_day</th>\n",
       "      <th>avg_days_vehicles_on_road</th>\n",
       "      <th>avg_hours_per_day_per_vehicle</th>\n",
       "      <th>avg_days_drivers_on_road</th>\n",
       "      <th>avg_hours_per_day_per_driver</th>\n",
       "      <th>avg_minutes_per_trip</th>\n",
       "      <th>percent_of_trips_paid_with_credit_card</th>\n",
       "      <th>trips_per_day_shared</th>\n",
       "    </tr>\n",
       "  </thead>\n",
       "  <tbody>\n",
       "    <tr>\n",
       "      <th>0</th>\n",
       "      <td>2024-08-01</td>\n",
       "      <td>FHV - High Volume</td>\n",
       "      <td>617043</td>\n",
       "      <td>&lt;NA&gt;</td>\n",
       "      <td>81306</td>\n",
       "      <td>80570</td>\n",
       "      <td>55030</td>\n",
       "      <td>21.200000</td>\n",
       "      <td>6.300000</td>\n",
       "      <td>21.3</td>\n",
       "      <td>6.300000</td>\n",
       "      <td>19.000000</td>\n",
       "      <td>NaN</td>\n",
       "      <td>10185.0</td>\n",
       "    </tr>\n",
       "    <tr>\n",
       "      <th>1</th>\n",
       "      <td>2024-08-01</td>\n",
       "      <td>Green Taxi</td>\n",
       "      <td>1654</td>\n",
       "      <td>38632</td>\n",
       "      <td>728</td>\n",
       "      <td>694</td>\n",
       "      <td>394</td>\n",
       "      <td>17.600000</td>\n",
       "      <td>3.500000</td>\n",
       "      <td>17.0</td>\n",
       "      <td>3.400000</td>\n",
       "      <td>14.900000</td>\n",
       "      <td>0.72</td>\n",
       "      <td>NaN</td>\n",
       "    </tr>\n",
       "    <tr>\n",
       "      <th>2</th>\n",
       "      <td>2024-08-01</td>\n",
       "      <td>Yellow Taxi</td>\n",
       "      <td>94732</td>\n",
       "      <td>2360656</td>\n",
       "      <td>12276</td>\n",
       "      <td>9125</td>\n",
       "      <td>7822</td>\n",
       "      <td>26.600000</td>\n",
       "      <td>7.600000</td>\n",
       "      <td>22.6</td>\n",
       "      <td>6.600000</td>\n",
       "      <td>16.200000</td>\n",
       "      <td>0.81</td>\n",
       "      <td>NaN</td>\n",
       "    </tr>\n",
       "    <tr>\n",
       "      <th>540</th>\n",
       "      <td>2024-08-01</td>\n",
       "      <td>FHV - Other</td>\n",
       "      <td>47825</td>\n",
       "      <td>0</td>\n",
       "      <td>19842</td>\n",
       "      <td>19783</td>\n",
       "      <td>8831</td>\n",
       "      <td>12.966667</td>\n",
       "      <td>3.533333</td>\n",
       "      <td>13.0</td>\n",
       "      <td>3.466667</td>\n",
       "      <td>38.666667</td>\n",
       "      <td>NaN</td>\n",
       "      <td>0.0</td>\n",
       "    </tr>\n",
       "  </tbody>\n",
       "</table>\n",
       "</div>"
      ],
      "text/plain": [
       "          date           industry  trips_per_day  farebox_per_day  \\\n",
       "0   2024-08-01  FHV - High Volume         617043             <NA>   \n",
       "1   2024-08-01         Green Taxi           1654            38632   \n",
       "2   2024-08-01        Yellow Taxi          94732          2360656   \n",
       "540 2024-08-01        FHV - Other          47825                0   \n",
       "\n",
       "     unique_drivers  unique_vehicles  vehicles_per_day  \\\n",
       "0             81306            80570             55030   \n",
       "1               728              694               394   \n",
       "2             12276             9125              7822   \n",
       "540           19842            19783              8831   \n",
       "\n",
       "     avg_days_vehicles_on_road  avg_hours_per_day_per_vehicle  \\\n",
       "0                    21.200000                       6.300000   \n",
       "1                    17.600000                       3.500000   \n",
       "2                    26.600000                       7.600000   \n",
       "540                  12.966667                       3.533333   \n",
       "\n",
       "     avg_days_drivers_on_road  avg_hours_per_day_per_driver  \\\n",
       "0                        21.3                      6.300000   \n",
       "1                        17.0                      3.400000   \n",
       "2                        22.6                      6.600000   \n",
       "540                      13.0                      3.466667   \n",
       "\n",
       "     avg_minutes_per_trip  percent_of_trips_paid_with_credit_card  \\\n",
       "0               19.000000                                     NaN   \n",
       "1               14.900000                                    0.72   \n",
       "2               16.200000                                    0.81   \n",
       "540             38.666667                                     NaN   \n",
       "\n",
       "     trips_per_day_shared  \n",
       "0                 10185.0  \n",
       "1                     NaN  \n",
       "2                     NaN  \n",
       "540                   0.0  "
      ]
     },
     "execution_count": 283,
     "metadata": {},
     "output_type": "execute_result"
    }
   ],
   "source": [
    "df[df['date'] == '2024-08-01']"
   ]
  },
  {
   "cell_type": "code",
   "execution_count": 284,
   "metadata": {},
   "outputs": [],
   "source": [
    "df.to_csv(r'..\\..\\datasets\\2. Depurados\\TLC Aggregated Data\\data_reports_monthly.csv',index=False)  "
   ]
  },
  {
   "cell_type": "markdown",
   "metadata": {},
   "source": [
    "---\n",
    "---\n",
    "Junto los dos datasets en un solo archivo"
   ]
  },
  {
   "cell_type": "code",
   "execution_count": 285,
   "metadata": {},
   "outputs": [],
   "source": [
    "df1 = pd.read_csv(r'..\\..\\datasets\\2. Depurados\\TLC Aggregated Data\\viajes_depurado_by_industry.csv')\n",
    "df2 = pd.read_csv(r'..\\..\\datasets\\2. Depurados\\TLC Aggregated Data\\data_reports_monthly.csv')"
   ]
  },
  {
   "cell_type": "code",
   "execution_count": 286,
   "metadata": {},
   "outputs": [],
   "source": [
    "df1['passenger_count'] = df1['passenger_count'].replace(0, np.nan)\n",
    "df1['fare_amount'] = df1['fare_amount'].replace(0, np.nan)\n",
    "df1['total_amount'] = df1['total_amount'].replace(0, np.nan)\n",
    "df1['shared_requests'] = df1['shared_requests'].replace(0, np.nan)"
   ]
  },
  {
   "cell_type": "code",
   "execution_count": 287,
   "metadata": {},
   "outputs": [
    {
     "name": "stdout",
     "output_type": "stream",
     "text": [
      "<class 'pandas.core.frame.DataFrame'>\n",
      "RangeIndex: 176 entries, 0 to 175\n",
      "Data columns (total 12 columns):\n",
      " #   Column             Non-Null Count  Dtype  \n",
      "---  ------             --------------  -----  \n",
      " 0   year               176 non-null    int64  \n",
      " 1   month              176 non-null    int64  \n",
      " 2   industry           176 non-null    object \n",
      " 3   total_trips        176 non-null    int64  \n",
      " 4   passenger_count    88 non-null     float64\n",
      " 5   trip_distance      176 non-null    float64\n",
      " 6   trip_duration      176 non-null    float64\n",
      " 7   avg_trip_distance  176 non-null    float64\n",
      " 8   avg_trip_duration  176 non-null    float64\n",
      " 9   fare_amount        132 non-null    float64\n",
      " 10  total_amount       132 non-null    float64\n",
      " 11  shared_requests    88 non-null     float64\n",
      "dtypes: float64(8), int64(3), object(1)\n",
      "memory usage: 16.6+ KB\n"
     ]
    }
   ],
   "source": [
    "df1.info()"
   ]
  },
  {
   "cell_type": "code",
   "execution_count": 288,
   "metadata": {},
   "outputs": [],
   "source": [
    "df2 = df2[df2['date'] >= '2021-01-01']"
   ]
  },
  {
   "cell_type": "code",
   "execution_count": 289,
   "metadata": {},
   "outputs": [],
   "source": [
    "df1['date'] = pd.to_datetime(df1['year'].astype(str) + '-' + df1['month'].astype(str), format='%Y-%m')\n",
    "\n",
    "# Convertir ambas columnas 'date' a datetime\n",
    "df1['date'] = pd.to_datetime(df1['date'], errors='coerce')\n",
    "df2['date'] = pd.to_datetime(df2['date'], errors='coerce')"
   ]
  },
  {
   "cell_type": "code",
   "execution_count": null,
   "metadata": {},
   "outputs": [],
   "source": [
    "# Realizar la unión\n",
    "merged_df = pd.merge(df1, df2, on=['date', 'industry'], how='outer')\n",
    "\n",
    "# Eliminar columnas duplicadas\n",
    "df = df.loc[:, ~df.columns.duplicated()]\n",
    "\n",
    "# Guardamos el DataFrame combinado en un archivo CSV\n",
    "merged_df.to_csv(r'..\\..\\datasets\\2. Depurados\\TLC Aggregated Data\\merged_taxi_data.csv', index=False)"
   ]
  }
 ],
 "metadata": {
  "kernelspec": {
   "display_name": "Python 3",
   "language": "python",
   "name": "python3"
  },
  "language_info": {
   "codemirror_mode": {
    "name": "ipython",
    "version": 3
   },
   "file_extension": ".py",
   "mimetype": "text/x-python",
   "name": "python",
   "nbconvert_exporter": "python",
   "pygments_lexer": "ipython3",
   "version": "3.12.1"
  }
 },
 "nbformat": 4,
 "nbformat_minor": 2
}
