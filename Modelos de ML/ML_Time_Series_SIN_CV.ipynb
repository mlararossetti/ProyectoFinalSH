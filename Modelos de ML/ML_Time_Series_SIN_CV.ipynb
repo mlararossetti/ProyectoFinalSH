{
 "cells": [
  {
   "cell_type": "markdown",
   "metadata": {},
   "source": [
    "Librerías"
   ]
  },
  {
   "cell_type": "code",
   "execution_count": 290,
   "metadata": {},
   "outputs": [],
   "source": [
    "import pandas as pd\n",
    "import numpy as np\n",
    "\n",
    "import matplotlib.pyplot as plt\n",
    "from datetime import datetime\n",
    "from datetime import timedelta\n",
    "\n",
    "from sklearn.metrics import mean_absolute_error, mean_squared_error\n",
    "\n",
    "from prophet import Prophet\n",
    "from prophet.diagnostics import generate_cutoffs, cross_validation, performance_metrics\n",
    "from prophet.plot import plot_plotly\n",
    "import plotly.graph_objects as go\n",
    "\n",
    "import time\n"
   ]
  },
  {
   "cell_type": "markdown",
   "metadata": {},
   "source": [
    "- Ce carga un subdataset con los datos necesarios para el modelo de ML"
   ]
  },
  {
   "cell_type": "code",
   "execution_count": 291,
   "metadata": {},
   "outputs": [],
   "source": [
    "# Cargar los datos\n",
    "df = pd.read_csv(r\"..\\datasets\\2. Depurados\\TLC Aggregated Data\\ML_TS_Input.csv\")\n",
    "df['date'] = pd.to_datetime(df['date'])"
   ]
  },
  {
   "cell_type": "code",
   "execution_count": 292,
   "metadata": {},
   "outputs": [],
   "source": [
    "# Obtener el valor máximo de la columna 'date'\n",
    "max_date = df['date'].max()\n",
    "# Calcular la fecha de diciembre dentro de 5 años\n",
    "future_date = datetime(max_date.year + 5, 12, 1)\n",
    "# Calcular la cantidad de meses entre ambas fechas\n",
    "months_difference = (future_date.year - max_date.year) * 12 + (future_date.month - max_date.month)"
   ]
  },
  {
   "cell_type": "code",
   "execution_count": 293,
   "metadata": {},
   "outputs": [],
   "source": [
    "# Función para guardar el forecast en un archivo CSV\n",
    "def guardar_predicciones(forecast, nombre_archivo=\"predicciones.csv\"):\n",
    "    try:\n",
    "        forecast.to_csv(nombre_archivo, index=False)\n",
    "        print(f\"Predicciones guardadas en {nombre_archivo}\")\n",
    "    except Exception as e:\n",
    "        print(f\"Error al guardar las predicciones: {e}\")"
   ]
  },
  {
   "cell_type": "code",
   "execution_count": 294,
   "metadata": {},
   "outputs": [],
   "source": [
    "def graficar_original(df_prophet, column_name):\n",
    "    fig = go.Figure()\n",
    "    fig.add_trace(go.Scatter(x=df_prophet[\"ds\"], y=df_prophet[\"y\"], marker=dict(symbol='circle', color='royalblue')))\n",
    "    fig.layout.update(title_text=\"Datos históricos\", yaxis_title=f\"{column_name}\", xaxis_rangeslider_visible=True)\n",
    "    fig.show()"
   ]
  },
  {
   "cell_type": "code",
   "execution_count": 295,
   "metadata": {},
   "outputs": [],
   "source": [
    "def graficar_predicción(df_prophet, column_name, forecast,industry_type):\n",
    "\n",
    "    # Ajustar valores negativos en el forecast\n",
    "    forecast['yhat'] = forecast['yhat'].clip(lower=0)\n",
    "    forecast['yhat_lower'] = forecast['yhat_lower'].clip(lower=0)\n",
    "\n",
    "    fig = go.Figure()\n",
    "    fig.add_trace(go.Scatter(x=df_prophet[\"ds\"], y=df_prophet[\"y\"], name='Datos Históricos', marker=dict(symbol='circle', color='royalblue')))\n",
    "    fig.add_trace(go.Scatter(x=forecast['ds'], y=forecast['yhat'], name='Predicción', marker=dict(symbol='diamond', color='green')))\n",
    "    fig.add_trace(go.Scatter(x=forecast['ds'].tolist() + forecast['ds'][::-1].tolist(), \n",
    "                            y=forecast['yhat_upper'].tolist() + forecast['yhat_lower'][::-1].tolist(), \n",
    "                            fill='toself', fillcolor='rgba(255, 255, 255, 0.2)', \n",
    "                            line=dict(color='rgba(255, 255, 255, 0)'), name='Intervalo de predicción'))\n",
    "    fig.layout.update(xaxis_title='Fecha', yaxis_title=column_name, title_text=f\"Predicción para {column_name} ({industry_type})\", \n",
    "                    xaxis_rangeslider_visible=True)\n",
    "    fig.show()"
   ]
  },
  {
   "cell_type": "markdown",
   "metadata": {},
   "source": [
    "# Análisis para cada variable y cada industria"
   ]
  },
  {
   "cell_type": "code",
   "execution_count": 296,
   "metadata": {},
   "outputs": [],
   "source": [
    "# Selección de períodos y frecuencia para predicción\n",
    "industry_types = df['industry'].unique()\n",
    "columns_to_predict = ['avg_trip_distance']# 'total_trips', 'unique_vehicles', 'avg_hours_per_day_per_driver', 'total_amount', 'total_co2_emission']\n",
    "periodos = 12\n",
    "frecuencia = \"MS\""
   ]
  },
  {
   "cell_type": "code",
   "execution_count": 297,
   "metadata": {},
   "outputs": [
    {
     "data": {
      "text/html": [
       "<div>\n",
       "<style scoped>\n",
       "    .dataframe tbody tr th:only-of-type {\n",
       "        vertical-align: middle;\n",
       "    }\n",
       "\n",
       "    .dataframe tbody tr th {\n",
       "        vertical-align: top;\n",
       "    }\n",
       "\n",
       "    .dataframe thead th {\n",
       "        text-align: right;\n",
       "    }\n",
       "</style>\n",
       "<table border=\"1\" class=\"dataframe\">\n",
       "  <thead>\n",
       "    <tr style=\"text-align: right;\">\n",
       "      <th></th>\n",
       "      <th>date</th>\n",
       "      <th>industry</th>\n",
       "      <th>total_trips</th>\n",
       "      <th>unique_vehicles</th>\n",
       "      <th>total_amount</th>\n",
       "      <th>avg_trip_distance</th>\n",
       "      <th>avg_hours_per_day_per_driver</th>\n",
       "      <th>total_co2_emission</th>\n",
       "      <th>days_in_month</th>\n",
       "    </tr>\n",
       "  </thead>\n",
       "  <tbody>\n",
       "    <tr>\n",
       "      <th>0</th>\n",
       "      <td>2021-01-01</td>\n",
       "      <td>FHV - High Volume</td>\n",
       "      <td>11902481</td>\n",
       "      <td>47594</td>\n",
       "      <td>1.917688e+08</td>\n",
       "      <td>3.64</td>\n",
       "      <td>6.800</td>\n",
       "      <td>17332.2978</td>\n",
       "      <td>31</td>\n",
       "    </tr>\n",
       "    <tr>\n",
       "      <th>1</th>\n",
       "      <td>2021-01-01</td>\n",
       "      <td>Yellow Taxi</td>\n",
       "      <td>1365612</td>\n",
       "      <td>4625</td>\n",
       "      <td>2.135305e+07</td>\n",
       "      <td>2.43</td>\n",
       "      <td>7.300</td>\n",
       "      <td>1326.4672</td>\n",
       "      <td>31</td>\n",
       "    </tr>\n",
       "    <tr>\n",
       "      <th>2</th>\n",
       "      <td>2021-01-01</td>\n",
       "      <td>Green Taxi</td>\n",
       "      <td>76477</td>\n",
       "      <td>982</td>\n",
       "      <td>1.748679e+06</td>\n",
       "      <td>3.46</td>\n",
       "      <td>4.000</td>\n",
       "      <td>105.8211</td>\n",
       "      <td>31</td>\n",
       "    </tr>\n",
       "    <tr>\n",
       "      <th>3</th>\n",
       "      <td>2021-01-01</td>\n",
       "      <td>FHV - Other</td>\n",
       "      <td>1142350</td>\n",
       "      <td>10128</td>\n",
       "      <td>NaN</td>\n",
       "      <td>3.63</td>\n",
       "      <td>3.800</td>\n",
       "      <td>1660.0704</td>\n",
       "      <td>31</td>\n",
       "    </tr>\n",
       "    <tr>\n",
       "      <th>4</th>\n",
       "      <td>2021-01-01</td>\n",
       "      <td>Total Mercado</td>\n",
       "      <td>14486920</td>\n",
       "      <td>63329</td>\n",
       "      <td>2.148706e+08</td>\n",
       "      <td>3.29</td>\n",
       "      <td>5.475</td>\n",
       "      <td>20424.6565</td>\n",
       "      <td>31</td>\n",
       "    </tr>\n",
       "  </tbody>\n",
       "</table>\n",
       "</div>"
      ],
      "text/plain": [
       "        date           industry  total_trips  unique_vehicles  total_amount  \\\n",
       "0 2021-01-01  FHV - High Volume     11902481            47594  1.917688e+08   \n",
       "1 2021-01-01        Yellow Taxi      1365612             4625  2.135305e+07   \n",
       "2 2021-01-01         Green Taxi        76477              982  1.748679e+06   \n",
       "3 2021-01-01        FHV - Other      1142350            10128           NaN   \n",
       "4 2021-01-01      Total Mercado     14486920            63329  2.148706e+08   \n",
       "\n",
       "   avg_trip_distance  avg_hours_per_day_per_driver  total_co2_emission  \\\n",
       "0               3.64                         6.800          17332.2978   \n",
       "1               2.43                         7.300           1326.4672   \n",
       "2               3.46                         4.000            105.8211   \n",
       "3               3.63                         3.800           1660.0704   \n",
       "4               3.29                         5.475          20424.6565   \n",
       "\n",
       "   days_in_month  \n",
       "0             31  \n",
       "1             31  \n",
       "2             31  \n",
       "3             31  \n",
       "4             31  "
      ]
     },
     "execution_count": 297,
     "metadata": {},
     "output_type": "execute_result"
    }
   ],
   "source": [
    "df.head()"
   ]
  },
  {
   "cell_type": "code",
   "execution_count": 298,
   "metadata": {},
   "outputs": [],
   "source": [
    "# Función para cargar los datos y filtrar la serie de tiempo seleccionada\n",
    "def cargar_y_preparar_datos(df, industry_type, column_name):\n",
    "    \"\"\"\n",
    "    Filtra y prepara los datos para Prophet según el tipo de industria y la columna seleccionada.\n",
    "    \"\"\"\n",
    "    df_filtered = df[df['industry'] == industry_type][['date', column_name]].copy()\n",
    "    df_filtered.columns = ['ds', 'y']  # Renombrar columnas para Prophet\n",
    "    df_filtered['ds'] = pd.to_datetime(df_filtered['ds'])  # Asegurar formato de fecha\n",
    "    return df_filtered if not df_filtered['y'].isnull().all() else None"
   ]
  },
  {
   "cell_type": "code",
   "execution_count": 299,
   "metadata": {},
   "outputs": [],
   "source": [
    "def evaluate_model(df_forecast, df_prophet_test):\n",
    "    # Extraer valores reales y predichos\n",
    "    y_true = df_prophet_test ['y'].values\n",
    "    y_pred = df_forecast[df_forecast['ds'] > pd.to_datetime(\"2023-08-01\", format='%Y-%m-%d')]['yhat'].values\n",
    "\n",
    "    # Calcular métricas\n",
    "    mae = mean_absolute_error(y_true, y_pred)\n",
    "    mse = mean_squared_error(y_true, y_pred)\n",
    "    rmse = np.sqrt(mse)\n",
    "    mape = np.mean(np.abs((y_true - y_pred) / y_true)) * 100\n",
    "    smape = 100 / len(y_true) * np.sum(2 * np.abs(y_pred - y_true) / (np.abs(y_true) + np.abs(y_pred)))\n",
    "    \n",
    "    # print(\" \")  \n",
    "    # print(\"Resultados de validación cruzada:\")    \n",
    "    # print(f'Mean Absolute Error: {mae:.2f}')\n",
    "    # print(f'Mean Absolute Percentage Error : {mape:.2f}')\n",
    "    # print(f'Symmetric Mean Absolute Percentage Errorr : {smape:.2f}')\n",
    "    # print(f'Mean Squared Error: {mse:.2f}')\n",
    "    # print(f'Root Mean Squared Error: {rmse:.2f}')\n",
    "    # print(\" \")  \n",
    "\n",
    "    return {'mae': mae, 'mape': mape, 'smape': smape, 'mse': mse, 'rmse': rmse}\n"
   ]
  },
  {
   "cell_type": "code",
   "execution_count": 300,
   "metadata": {},
   "outputs": [],
   "source": [
    "def pronóstico_con_grid_search(df_prophet, column_name, industry_type, periodos, frecuencia):\n",
    "    \"\"\"\n",
    "    Realiza Grid Search para encontrar los mejores hiperparámetros de Prophet y calcula el error.\n",
    "  \n",
    "    Parameters that can be tuned\n",
    "\n",
    "    - changepoint_prior_scale: This is probably the most impactful parameter. It determines the flexibility of the trend, and in particular how \n",
    "      much the trend changes at the trend changepoints. As described in this documentation, if it is too small, the trend will be underfit and \n",
    "      variance that should have been modeled with trend changes will instead end up being handled with the noise term. If it is too large, the trend \n",
    "      will overfit and in the most extreme case you can end up with the trend capturing yearly seasonality. The default of 0.05 works for many time series, \n",
    "      but this could be tuned; a range of [0.001, 0.5] would likely be about right. Parameters like this (regularization penalties; this is effectively a \n",
    "      lasso penalty) are often tuned on a log scale.\n",
    "\n",
    "    - seasonality_prior_scale: This parameter controls the flexibility of the seasonality. Similarly, a large value allows the seasonality to fit large fluctuations, \n",
    "      a small value shrinks the magnitude of the seasonality. The default is 10., which applies basically no regularization. That is because we very rarely \n",
    "      see overfitting here (there’s inherent regularization with the fact that it is being modeled with a truncated Fourier series, so it’s essentially low-pass \n",
    "      filtered). A reasonable range for tuning it would probably be [0.01, 10]; when set to 0.01 you should find that the magnitude of seasonality is forced to be \n",
    "      very small. This likely also makes sense on a log scale, since it is effectively an L2 penalty like in ridge regression.\n",
    "\n",
    "    - holidays_prior_scale: This controls flexibility to fit holiday effects. Similar to seasonality_prior_scale, it defaults to 10.0 which applies basically \n",
    "      no regularization, since we usually have multiple observations of holidays and can do a good job of estimating their effects. This could also be tuned \n",
    "      on a range of [0.01, 10] as with seasonality_prior_scale.\n",
    "\n",
    "    - seasonality_mode: Options are ['additive', 'multiplicative']. Default is 'additive', but many business time series will have multiplicative seasonality. \n",
    "      This is best identified just from looking at the time series and seeing if the magnitude of seasonal fluctuations grows with the magnitude of the time series \n",
    "      (see the documentation here on multiplicative seasonality), but when that isn’t possible, it could be tuned.\n",
    "\n",
    "      \n",
    "    \"\"\"\n",
    "  \n",
    "    grid_search = {\n",
    "        'changepoint_prior_scale': [0.01, 0.05, 0.1, 0.15, 0.2],\n",
    "        'seasonality_prior_scale': [0.01, 0.05, 0.1, 1.0, 5.0, 10.0, 15.0, 20.0],\n",
    "        'seasonality_mode': ['additive', 'multiplicative']\n",
    "    }\n",
    "    \n",
    "    resultados = []  \n",
    "    \n",
    "    df_prophet_train = df_prophet[df_prophet['ds']<= pd.to_datetime(\"2023-08-01\", format='%Y-%m-%d')]\n",
    "    df_prophet_test = df_prophet[df_prophet['ds'] >=  pd.to_datetime(\"2023-09-01\", format='%Y-%m-%d')]\n",
    "\n",
    "    # Grid Search\n",
    "    for cps in grid_search['changepoint_prior_scale']:\n",
    "        for sps in grid_search['seasonality_prior_scale']:\n",
    "            for sm in grid_search['seasonality_mode']:\n",
    "                        start_time = time.time()\n",
    "                      \n",
    "                        print(f\"Evaluación combinación: CPS={cps}, SPS={sps}, SM={sm}\") #FO={fo}\n",
    "\n",
    "                        # Crear y entrenar modelo Prophet con los parámetros actuales\n",
    "                        model = Prophet(changepoint_prior_scale=cps, seasonality_prior_scale=sps, seasonality_mode=sm, yearly_seasonality=True, weekly_seasonality=False)\n",
    "                        \n",
    "                        \"\"\"Prophet includes yearly, weekly, and daily seasonality by default for daily data. \n",
    "                        For sub-daily data, only daily seasonality is included by default.\"\"\"\n",
    "                        #model.add_seasonality(name='monthly', period=12, fourier_order=3)                        \n",
    "                        model.fit(df_prophet_train)\n",
    "\n",
    "                        # Crear el futuro dataframe con frecuencia específica\n",
    "                        future = model.make_future_dataframe(periods=periodos, freq=frecuencia)\n",
    "                        forecast = model.predict(future)\n",
    "                        #graficar_predicción(df_prophet, column_name, forecast, industry_type)\n",
    "\n",
    "                        # Evaluar modelo\n",
    "                        metrics = evaluate_model(forecast,df_prophet_test)\n",
    "                        if metrics is None:\n",
    "                            continue\n",
    "                        \n",
    "                        elapsed_time = time.time() - start_time\n",
    "                        resultados.append({\n",
    "                            'changepoint_prior_scale': cps,\n",
    "                            'seasonality_prior_scale': sps,\n",
    "                            'seasonality_mode': sm,\n",
    "                            #'fourier_order': fo,\n",
    "                            **metrics,\n",
    "                            'training time': elapsed_time\n",
    "                        })\n",
    "\n",
    "                        # Crear DataFrame con todos los resultados\n",
    "                        df_resultados = pd.DataFrame(resultados)\n",
    "\n",
    "                        # Identificar los mejores parámetros según el menor MAE\n",
    "                        if not df_resultados.empty:\n",
    "                            mejor_modelo = df_resultados.loc[df_resultados['mae'].idxmin()]\n",
    "                        else:\n",
    "                            mejor_modelo = None\n",
    "\n",
    "    return df_resultados, mejor_modelo"
   ]
  },
  {
   "cell_type": "code",
   "execution_count": 301,
   "metadata": {},
   "outputs": [
    {
     "name": "stdout",
     "output_type": "stream",
     "text": [
      "Procesando: FHV - High Volume, columna: avg_trip_distance\n",
      "Evaluación combinación: CPS=0.01, SPS=0.01, SM=additive\n"
     ]
    },
    {
     "name": "stderr",
     "output_type": "stream",
     "text": [
      "17:59:32 - cmdstanpy - INFO - Chain [1] start processing\n",
      "17:59:33 - cmdstanpy - INFO - Chain [1] done processing\n"
     ]
    },
    {
     "name": "stdout",
     "output_type": "stream",
     "text": [
      "Evaluación combinación: CPS=0.01, SPS=0.01, SM=multiplicative\n"
     ]
    },
    {
     "name": "stderr",
     "output_type": "stream",
     "text": [
      "17:59:33 - cmdstanpy - INFO - Chain [1] start processing\n",
      "17:59:34 - cmdstanpy - INFO - Chain [1] done processing\n",
      "17:59:34 - cmdstanpy - INFO - Chain [1] start processing\n"
     ]
    },
    {
     "name": "stdout",
     "output_type": "stream",
     "text": [
      "Evaluación combinación: CPS=0.01, SPS=0.05, SM=additive\n"
     ]
    },
    {
     "name": "stderr",
     "output_type": "stream",
     "text": [
      "17:59:34 - cmdstanpy - INFO - Chain [1] done processing\n",
      "17:59:35 - cmdstanpy - INFO - Chain [1] start processing\n"
     ]
    },
    {
     "name": "stdout",
     "output_type": "stream",
     "text": [
      "Evaluación combinación: CPS=0.01, SPS=0.05, SM=multiplicative\n"
     ]
    },
    {
     "name": "stderr",
     "output_type": "stream",
     "text": [
      "17:59:35 - cmdstanpy - INFO - Chain [1] done processing\n"
     ]
    },
    {
     "name": "stdout",
     "output_type": "stream",
     "text": [
      "Evaluación combinación: CPS=0.01, SPS=0.1, SM=additive\n"
     ]
    },
    {
     "name": "stderr",
     "output_type": "stream",
     "text": [
      "17:59:35 - cmdstanpy - INFO - Chain [1] start processing\n",
      "17:59:36 - cmdstanpy - INFO - Chain [1] done processing\n",
      "17:59:36 - cmdstanpy - INFO - Chain [1] start processing\n"
     ]
    },
    {
     "name": "stdout",
     "output_type": "stream",
     "text": [
      "Evaluación combinación: CPS=0.01, SPS=0.1, SM=multiplicative\n"
     ]
    },
    {
     "name": "stderr",
     "output_type": "stream",
     "text": [
      "17:59:36 - cmdstanpy - INFO - Chain [1] done processing\n"
     ]
    },
    {
     "name": "stdout",
     "output_type": "stream",
     "text": [
      "Evaluación combinación: CPS=0.01, SPS=1.0, SM=additive\n"
     ]
    },
    {
     "name": "stderr",
     "output_type": "stream",
     "text": [
      "17:59:37 - cmdstanpy - INFO - Chain [1] start processing\n",
      "17:59:37 - cmdstanpy - INFO - Chain [1] done processing\n",
      "17:59:37 - cmdstanpy - INFO - Chain [1] start processing\n"
     ]
    },
    {
     "name": "stdout",
     "output_type": "stream",
     "text": [
      "Evaluación combinación: CPS=0.01, SPS=1.0, SM=multiplicative\n"
     ]
    },
    {
     "name": "stderr",
     "output_type": "stream",
     "text": [
      "17:59:38 - cmdstanpy - INFO - Chain [1] done processing\n"
     ]
    },
    {
     "name": "stdout",
     "output_type": "stream",
     "text": [
      "Evaluación combinación: CPS=0.01, SPS=5.0, SM=additive\n"
     ]
    },
    {
     "name": "stderr",
     "output_type": "stream",
     "text": [
      "17:59:38 - cmdstanpy - INFO - Chain [1] start processing\n",
      "17:59:38 - cmdstanpy - INFO - Chain [1] done processing\n",
      "17:59:39 - cmdstanpy - INFO - Chain [1] start processing\n"
     ]
    },
    {
     "name": "stdout",
     "output_type": "stream",
     "text": [
      "Evaluación combinación: CPS=0.01, SPS=5.0, SM=multiplicative\n"
     ]
    },
    {
     "name": "stderr",
     "output_type": "stream",
     "text": [
      "17:59:39 - cmdstanpy - INFO - Chain [1] done processing\n"
     ]
    },
    {
     "name": "stdout",
     "output_type": "stream",
     "text": [
      "Evaluación combinación: CPS=0.01, SPS=10.0, SM=additive\n"
     ]
    },
    {
     "name": "stderr",
     "output_type": "stream",
     "text": [
      "17:59:40 - cmdstanpy - INFO - Chain [1] start processing\n",
      "17:59:40 - cmdstanpy - INFO - Chain [1] done processing\n",
      "17:59:40 - cmdstanpy - INFO - Chain [1] start processing\n"
     ]
    },
    {
     "name": "stdout",
     "output_type": "stream",
     "text": [
      "Evaluación combinación: CPS=0.01, SPS=10.0, SM=multiplicative\n"
     ]
    },
    {
     "name": "stderr",
     "output_type": "stream",
     "text": [
      "17:59:41 - cmdstanpy - INFO - Chain [1] done processing\n"
     ]
    },
    {
     "name": "stdout",
     "output_type": "stream",
     "text": [
      "Evaluación combinación: CPS=0.01, SPS=15.0, SM=additive\n"
     ]
    },
    {
     "name": "stderr",
     "output_type": "stream",
     "text": [
      "17:59:41 - cmdstanpy - INFO - Chain [1] start processing\n",
      "17:59:42 - cmdstanpy - INFO - Chain [1] done processing\n",
      "17:59:42 - cmdstanpy - INFO - Chain [1] start processing\n"
     ]
    },
    {
     "name": "stdout",
     "output_type": "stream",
     "text": [
      "Evaluación combinación: CPS=0.01, SPS=15.0, SM=multiplicative\n"
     ]
    },
    {
     "name": "stderr",
     "output_type": "stream",
     "text": [
      "17:59:42 - cmdstanpy - INFO - Chain [1] done processing\n"
     ]
    },
    {
     "name": "stdout",
     "output_type": "stream",
     "text": [
      "Evaluación combinación: CPS=0.01, SPS=20.0, SM=additive\n"
     ]
    },
    {
     "name": "stderr",
     "output_type": "stream",
     "text": [
      "17:59:43 - cmdstanpy - INFO - Chain [1] start processing\n",
      "17:59:43 - cmdstanpy - INFO - Chain [1] done processing\n",
      "17:59:43 - cmdstanpy - INFO - Chain [1] start processing\n"
     ]
    },
    {
     "name": "stdout",
     "output_type": "stream",
     "text": [
      "Evaluación combinación: CPS=0.01, SPS=20.0, SM=multiplicative\n"
     ]
    },
    {
     "name": "stderr",
     "output_type": "stream",
     "text": [
      "17:59:44 - cmdstanpy - INFO - Chain [1] done processing\n"
     ]
    },
    {
     "name": "stdout",
     "output_type": "stream",
     "text": [
      "Evaluación combinación: CPS=0.05, SPS=0.01, SM=additive\n"
     ]
    },
    {
     "name": "stderr",
     "output_type": "stream",
     "text": [
      "17:59:44 - cmdstanpy - INFO - Chain [1] start processing\n",
      "17:59:44 - cmdstanpy - INFO - Chain [1] done processing\n",
      "17:59:45 - cmdstanpy - INFO - Chain [1] start processing\n"
     ]
    },
    {
     "name": "stdout",
     "output_type": "stream",
     "text": [
      "Evaluación combinación: CPS=0.05, SPS=0.01, SM=multiplicative\n"
     ]
    },
    {
     "name": "stderr",
     "output_type": "stream",
     "text": [
      "17:59:45 - cmdstanpy - INFO - Chain [1] done processing\n"
     ]
    },
    {
     "name": "stdout",
     "output_type": "stream",
     "text": [
      "Evaluación combinación: CPS=0.05, SPS=0.05, SM=additive\n"
     ]
    },
    {
     "name": "stderr",
     "output_type": "stream",
     "text": [
      "17:59:46 - cmdstanpy - INFO - Chain [1] start processing\n",
      "17:59:46 - cmdstanpy - INFO - Chain [1] done processing\n",
      "17:59:46 - cmdstanpy - INFO - Chain [1] start processing\n"
     ]
    },
    {
     "name": "stdout",
     "output_type": "stream",
     "text": [
      "Evaluación combinación: CPS=0.05, SPS=0.05, SM=multiplicative\n"
     ]
    },
    {
     "name": "stderr",
     "output_type": "stream",
     "text": [
      "17:59:47 - cmdstanpy - INFO - Chain [1] done processing\n"
     ]
    },
    {
     "name": "stdout",
     "output_type": "stream",
     "text": [
      "Evaluación combinación: CPS=0.05, SPS=0.1, SM=additive\n"
     ]
    },
    {
     "name": "stderr",
     "output_type": "stream",
     "text": [
      "17:59:47 - cmdstanpy - INFO - Chain [1] start processing\n",
      "17:59:48 - cmdstanpy - INFO - Chain [1] done processing\n",
      "17:59:48 - cmdstanpy - INFO - Chain [1] start processing\n"
     ]
    },
    {
     "name": "stdout",
     "output_type": "stream",
     "text": [
      "Evaluación combinación: CPS=0.05, SPS=0.1, SM=multiplicative\n"
     ]
    },
    {
     "name": "stderr",
     "output_type": "stream",
     "text": [
      "17:59:50 - cmdstanpy - INFO - Chain [1] done processing\n",
      "17:59:50 - cmdstanpy - INFO - Chain [1] start processing\n"
     ]
    },
    {
     "name": "stdout",
     "output_type": "stream",
     "text": [
      "Evaluación combinación: CPS=0.05, SPS=1.0, SM=additive\n"
     ]
    },
    {
     "name": "stderr",
     "output_type": "stream",
     "text": [
      "17:59:51 - cmdstanpy - INFO - Chain [1] done processing\n",
      "17:59:51 - cmdstanpy - INFO - Chain [1] start processing\n"
     ]
    },
    {
     "name": "stdout",
     "output_type": "stream",
     "text": [
      "Evaluación combinación: CPS=0.05, SPS=1.0, SM=multiplicative\n"
     ]
    },
    {
     "name": "stderr",
     "output_type": "stream",
     "text": [
      "17:59:52 - cmdstanpy - INFO - Chain [1] done processing\n",
      "17:59:52 - cmdstanpy - INFO - Chain [1] start processing\n"
     ]
    },
    {
     "name": "stdout",
     "output_type": "stream",
     "text": [
      "Evaluación combinación: CPS=0.05, SPS=5.0, SM=additive\n"
     ]
    },
    {
     "name": "stderr",
     "output_type": "stream",
     "text": [
      "17:59:53 - cmdstanpy - INFO - Chain [1] done processing\n"
     ]
    },
    {
     "name": "stdout",
     "output_type": "stream",
     "text": [
      "Evaluación combinación: CPS=0.05, SPS=5.0, SM=multiplicative\n"
     ]
    },
    {
     "name": "stderr",
     "output_type": "stream",
     "text": [
      "17:59:53 - cmdstanpy - INFO - Chain [1] start processing\n",
      "17:59:55 - cmdstanpy - INFO - Chain [1] done processing\n",
      "17:59:55 - cmdstanpy - INFO - Chain [1] start processing\n"
     ]
    },
    {
     "name": "stdout",
     "output_type": "stream",
     "text": [
      "Evaluación combinación: CPS=0.05, SPS=10.0, SM=additive\n"
     ]
    },
    {
     "name": "stderr",
     "output_type": "stream",
     "text": [
      "17:59:55 - cmdstanpy - INFO - Chain [1] done processing\n"
     ]
    },
    {
     "name": "stdout",
     "output_type": "stream",
     "text": [
      "Evaluación combinación: CPS=0.05, SPS=10.0, SM=multiplicative\n"
     ]
    },
    {
     "name": "stderr",
     "output_type": "stream",
     "text": [
      "17:59:56 - cmdstanpy - INFO - Chain [1] start processing\n",
      "17:59:57 - cmdstanpy - INFO - Chain [1] done processing\n"
     ]
    },
    {
     "name": "stdout",
     "output_type": "stream",
     "text": [
      "Evaluación combinación: CPS=0.05, SPS=15.0, SM=additive\n"
     ]
    },
    {
     "name": "stderr",
     "output_type": "stream",
     "text": [
      "17:59:57 - cmdstanpy - INFO - Chain [1] start processing\n",
      "17:59:58 - cmdstanpy - INFO - Chain [1] done processing\n"
     ]
    },
    {
     "name": "stdout",
     "output_type": "stream",
     "text": [
      "Evaluación combinación: CPS=0.05, SPS=15.0, SM=multiplicative\n"
     ]
    },
    {
     "name": "stderr",
     "output_type": "stream",
     "text": [
      "17:59:58 - cmdstanpy - INFO - Chain [1] start processing\n",
      "17:59:59 - cmdstanpy - INFO - Chain [1] done processing\n",
      "18:00:00 - cmdstanpy - INFO - Chain [1] start processing\n"
     ]
    },
    {
     "name": "stdout",
     "output_type": "stream",
     "text": [
      "Evaluación combinación: CPS=0.05, SPS=20.0, SM=additive\n"
     ]
    },
    {
     "name": "stderr",
     "output_type": "stream",
     "text": [
      "18:00:00 - cmdstanpy - INFO - Chain [1] done processing\n"
     ]
    },
    {
     "name": "stdout",
     "output_type": "stream",
     "text": [
      "Evaluación combinación: CPS=0.05, SPS=20.0, SM=multiplicative\n"
     ]
    },
    {
     "name": "stderr",
     "output_type": "stream",
     "text": [
      "18:00:01 - cmdstanpy - INFO - Chain [1] start processing\n",
      "18:00:01 - cmdstanpy - INFO - Chain [1] done processing\n",
      "18:00:02 - cmdstanpy - INFO - Chain [1] start processing\n"
     ]
    },
    {
     "name": "stdout",
     "output_type": "stream",
     "text": [
      "Evaluación combinación: CPS=0.1, SPS=0.01, SM=additive\n"
     ]
    },
    {
     "name": "stderr",
     "output_type": "stream",
     "text": [
      "18:00:02 - cmdstanpy - INFO - Chain [1] done processing\n"
     ]
    },
    {
     "name": "stdout",
     "output_type": "stream",
     "text": [
      "Evaluación combinación: CPS=0.1, SPS=0.01, SM=multiplicative\n"
     ]
    },
    {
     "name": "stderr",
     "output_type": "stream",
     "text": [
      "18:00:02 - cmdstanpy - INFO - Chain [1] start processing\n",
      "18:00:03 - cmdstanpy - INFO - Chain [1] done processing\n"
     ]
    },
    {
     "name": "stdout",
     "output_type": "stream",
     "text": [
      "Evaluación combinación: CPS=0.1, SPS=0.05, SM=additive\n"
     ]
    },
    {
     "name": "stderr",
     "output_type": "stream",
     "text": [
      "18:00:04 - cmdstanpy - INFO - Chain [1] start processing\n",
      "18:00:04 - cmdstanpy - INFO - Chain [1] done processing\n"
     ]
    },
    {
     "name": "stdout",
     "output_type": "stream",
     "text": [
      "Evaluación combinación: CPS=0.1, SPS=0.05, SM=multiplicative\n"
     ]
    },
    {
     "name": "stderr",
     "output_type": "stream",
     "text": [
      "18:00:05 - cmdstanpy - INFO - Chain [1] start processing\n",
      "18:00:06 - cmdstanpy - INFO - Chain [1] done processing\n",
      "18:00:06 - cmdstanpy - INFO - Chain [1] start processing\n"
     ]
    },
    {
     "name": "stdout",
     "output_type": "stream",
     "text": [
      "Evaluación combinación: CPS=0.1, SPS=0.1, SM=additive\n"
     ]
    },
    {
     "name": "stderr",
     "output_type": "stream",
     "text": [
      "18:00:39 - cmdstanpy - INFO - Chain [1] done processing\n"
     ]
    },
    {
     "name": "stdout",
     "output_type": "stream",
     "text": [
      "Evaluación combinación: CPS=0.1, SPS=0.1, SM=multiplicative\n"
     ]
    },
    {
     "name": "stderr",
     "output_type": "stream",
     "text": [
      "18:00:40 - cmdstanpy - INFO - Chain [1] start processing\n",
      "18:01:15 - cmdstanpy - INFO - Chain [1] done processing\n"
     ]
    },
    {
     "name": "stdout",
     "output_type": "stream",
     "text": [
      "Evaluación combinación: CPS=0.1, SPS=1.0, SM=additive\n"
     ]
    },
    {
     "name": "stderr",
     "output_type": "stream",
     "text": [
      "18:01:15 - cmdstanpy - INFO - Chain [1] start processing\n",
      "18:01:45 - cmdstanpy - INFO - Chain [1] done processing\n"
     ]
    },
    {
     "name": "stdout",
     "output_type": "stream",
     "text": [
      "Evaluación combinación: CPS=0.1, SPS=1.0, SM=multiplicative\n"
     ]
    },
    {
     "name": "stderr",
     "output_type": "stream",
     "text": [
      "18:01:45 - cmdstanpy - INFO - Chain [1] start processing\n",
      "18:02:14 - cmdstanpy - INFO - Chain [1] done processing\n",
      "18:02:15 - cmdstanpy - INFO - Chain [1] start processing\n"
     ]
    },
    {
     "name": "stdout",
     "output_type": "stream",
     "text": [
      "Evaluación combinación: CPS=0.1, SPS=5.0, SM=additive\n"
     ]
    },
    {
     "name": "stderr",
     "output_type": "stream",
     "text": [
      "18:02:44 - cmdstanpy - INFO - Chain [1] done processing\n"
     ]
    },
    {
     "name": "stdout",
     "output_type": "stream",
     "text": [
      "Evaluación combinación: CPS=0.1, SPS=5.0, SM=multiplicative\n"
     ]
    },
    {
     "name": "stderr",
     "output_type": "stream",
     "text": [
      "18:02:44 - cmdstanpy - INFO - Chain [1] start processing\n",
      "18:03:14 - cmdstanpy - INFO - Chain [1] done processing\n",
      "18:03:14 - cmdstanpy - INFO - Chain [1] start processing\n"
     ]
    },
    {
     "name": "stdout",
     "output_type": "stream",
     "text": [
      "Evaluación combinación: CPS=0.1, SPS=10.0, SM=additive\n"
     ]
    },
    {
     "name": "stderr",
     "output_type": "stream",
     "text": [
      "18:03:43 - cmdstanpy - INFO - Chain [1] done processing\n"
     ]
    },
    {
     "name": "stdout",
     "output_type": "stream",
     "text": [
      "Evaluación combinación: CPS=0.1, SPS=10.0, SM=multiplicative\n"
     ]
    },
    {
     "name": "stderr",
     "output_type": "stream",
     "text": [
      "18:03:43 - cmdstanpy - INFO - Chain [1] start processing\n",
      "18:04:13 - cmdstanpy - INFO - Chain [1] done processing\n"
     ]
    },
    {
     "name": "stdout",
     "output_type": "stream",
     "text": [
      "Evaluación combinación: CPS=0.1, SPS=15.0, SM=additive\n"
     ]
    },
    {
     "name": "stderr",
     "output_type": "stream",
     "text": [
      "18:04:13 - cmdstanpy - INFO - Chain [1] start processing\n",
      "18:04:43 - cmdstanpy - INFO - Chain [1] done processing\n",
      "18:04:44 - cmdstanpy - INFO - Chain [1] start processing\n"
     ]
    },
    {
     "name": "stdout",
     "output_type": "stream",
     "text": [
      "Evaluación combinación: CPS=0.1, SPS=15.0, SM=multiplicative\n"
     ]
    },
    {
     "name": "stderr",
     "output_type": "stream",
     "text": [
      "18:05:14 - cmdstanpy - INFO - Chain [1] done processing\n"
     ]
    },
    {
     "name": "stdout",
     "output_type": "stream",
     "text": [
      "Evaluación combinación: CPS=0.1, SPS=20.0, SM=additive\n"
     ]
    },
    {
     "name": "stderr",
     "output_type": "stream",
     "text": [
      "18:05:15 - cmdstanpy - INFO - Chain [1] start processing\n",
      "18:05:44 - cmdstanpy - INFO - Chain [1] done processing\n",
      "18:05:44 - cmdstanpy - INFO - Chain [1] start processing\n"
     ]
    },
    {
     "name": "stdout",
     "output_type": "stream",
     "text": [
      "Evaluación combinación: CPS=0.1, SPS=20.0, SM=multiplicative\n"
     ]
    },
    {
     "name": "stderr",
     "output_type": "stream",
     "text": [
      "18:06:14 - cmdstanpy - INFO - Chain [1] done processing\n"
     ]
    },
    {
     "name": "stdout",
     "output_type": "stream",
     "text": [
      "Evaluación combinación: CPS=0.15, SPS=0.01, SM=additive\n"
     ]
    },
    {
     "name": "stderr",
     "output_type": "stream",
     "text": [
      "18:06:14 - cmdstanpy - INFO - Chain [1] start processing\n",
      "18:06:15 - cmdstanpy - INFO - Chain [1] done processing\n",
      "18:06:15 - cmdstanpy - INFO - Chain [1] start processing\n"
     ]
    },
    {
     "name": "stdout",
     "output_type": "stream",
     "text": [
      "Evaluación combinación: CPS=0.15, SPS=0.01, SM=multiplicative\n"
     ]
    },
    {
     "name": "stderr",
     "output_type": "stream",
     "text": [
      "18:06:16 - cmdstanpy - INFO - Chain [1] done processing\n"
     ]
    },
    {
     "name": "stdout",
     "output_type": "stream",
     "text": [
      "Evaluación combinación: CPS=0.15, SPS=0.05, SM=additive\n"
     ]
    },
    {
     "name": "stderr",
     "output_type": "stream",
     "text": [
      "18:06:16 - cmdstanpy - INFO - Chain [1] start processing\n",
      "18:06:45 - cmdstanpy - INFO - Chain [1] done processing\n"
     ]
    },
    {
     "name": "stdout",
     "output_type": "stream",
     "text": [
      "Evaluación combinación: CPS=0.15, SPS=0.05, SM=multiplicative\n"
     ]
    },
    {
     "name": "stderr",
     "output_type": "stream",
     "text": [
      "18:06:45 - cmdstanpy - INFO - Chain [1] start processing\n",
      "18:06:46 - cmdstanpy - INFO - Chain [1] done processing\n",
      "18:06:46 - cmdstanpy - INFO - Chain [1] start processing\n"
     ]
    },
    {
     "name": "stdout",
     "output_type": "stream",
     "text": [
      "Evaluación combinación: CPS=0.15, SPS=0.1, SM=additive\n"
     ]
    },
    {
     "name": "stderr",
     "output_type": "stream",
     "text": [
      "18:07:15 - cmdstanpy - INFO - Chain [1] done processing\n"
     ]
    },
    {
     "name": "stdout",
     "output_type": "stream",
     "text": [
      "Evaluación combinación: CPS=0.15, SPS=0.1, SM=multiplicative\n"
     ]
    },
    {
     "name": "stderr",
     "output_type": "stream",
     "text": [
      "18:07:15 - cmdstanpy - INFO - Chain [1] start processing\n",
      "18:07:45 - cmdstanpy - INFO - Chain [1] done processing\n"
     ]
    },
    {
     "name": "stdout",
     "output_type": "stream",
     "text": [
      "Evaluación combinación: CPS=0.15, SPS=1.0, SM=additive\n"
     ]
    },
    {
     "name": "stderr",
     "output_type": "stream",
     "text": [
      "18:07:46 - cmdstanpy - INFO - Chain [1] start processing\n",
      "18:08:15 - cmdstanpy - INFO - Chain [1] done processing\n"
     ]
    },
    {
     "name": "stdout",
     "output_type": "stream",
     "text": [
      "Evaluación combinación: CPS=0.15, SPS=1.0, SM=multiplicative\n"
     ]
    },
    {
     "name": "stderr",
     "output_type": "stream",
     "text": [
      "18:08:15 - cmdstanpy - INFO - Chain [1] start processing\n",
      "18:08:45 - cmdstanpy - INFO - Chain [1] done processing\n",
      "18:08:45 - cmdstanpy - INFO - Chain [1] start processing\n"
     ]
    },
    {
     "name": "stdout",
     "output_type": "stream",
     "text": [
      "Evaluación combinación: CPS=0.15, SPS=5.0, SM=additive\n"
     ]
    },
    {
     "name": "stderr",
     "output_type": "stream",
     "text": [
      "18:09:15 - cmdstanpy - INFO - Chain [1] done processing\n"
     ]
    },
    {
     "name": "stdout",
     "output_type": "stream",
     "text": [
      "Evaluación combinación: CPS=0.15, SPS=5.0, SM=multiplicative\n"
     ]
    },
    {
     "name": "stderr",
     "output_type": "stream",
     "text": [
      "18:09:15 - cmdstanpy - INFO - Chain [1] start processing\n",
      "18:09:45 - cmdstanpy - INFO - Chain [1] done processing\n",
      "18:09:45 - cmdstanpy - INFO - Chain [1] start processing\n"
     ]
    },
    {
     "name": "stdout",
     "output_type": "stream",
     "text": [
      "Evaluación combinación: CPS=0.15, SPS=10.0, SM=additive\n"
     ]
    },
    {
     "name": "stderr",
     "output_type": "stream",
     "text": [
      "18:10:14 - cmdstanpy - INFO - Chain [1] done processing\n"
     ]
    },
    {
     "name": "stdout",
     "output_type": "stream",
     "text": [
      "Evaluación combinación: CPS=0.15, SPS=10.0, SM=multiplicative\n"
     ]
    },
    {
     "name": "stderr",
     "output_type": "stream",
     "text": [
      "18:10:15 - cmdstanpy - INFO - Chain [1] start processing\n",
      "18:10:44 - cmdstanpy - INFO - Chain [1] done processing\n"
     ]
    },
    {
     "name": "stdout",
     "output_type": "stream",
     "text": [
      "Evaluación combinación: CPS=0.15, SPS=15.0, SM=additive\n"
     ]
    },
    {
     "name": "stderr",
     "output_type": "stream",
     "text": [
      "18:10:45 - cmdstanpy - INFO - Chain [1] start processing\n",
      "18:11:13 - cmdstanpy - INFO - Chain [1] done processing\n",
      "18:11:13 - cmdstanpy - INFO - Chain [1] start processing\n"
     ]
    },
    {
     "name": "stdout",
     "output_type": "stream",
     "text": [
      "Evaluación combinación: CPS=0.15, SPS=15.0, SM=multiplicative\n"
     ]
    },
    {
     "name": "stderr",
     "output_type": "stream",
     "text": [
      "18:11:43 - cmdstanpy - INFO - Chain [1] done processing\n"
     ]
    },
    {
     "name": "stdout",
     "output_type": "stream",
     "text": [
      "Evaluación combinación: CPS=0.15, SPS=20.0, SM=additive\n"
     ]
    },
    {
     "name": "stderr",
     "output_type": "stream",
     "text": [
      "18:11:43 - cmdstanpy - INFO - Chain [1] start processing\n",
      "18:12:11 - cmdstanpy - INFO - Chain [1] done processing\n",
      "18:12:12 - cmdstanpy - INFO - Chain [1] start processing\n"
     ]
    },
    {
     "name": "stdout",
     "output_type": "stream",
     "text": [
      "Evaluación combinación: CPS=0.15, SPS=20.0, SM=multiplicative\n"
     ]
    },
    {
     "name": "stderr",
     "output_type": "stream",
     "text": [
      "18:12:41 - cmdstanpy - INFO - Chain [1] done processing\n"
     ]
    },
    {
     "name": "stdout",
     "output_type": "stream",
     "text": [
      "Evaluación combinación: CPS=0.2, SPS=0.01, SM=additive\n"
     ]
    },
    {
     "name": "stderr",
     "output_type": "stream",
     "text": [
      "18:12:41 - cmdstanpy - INFO - Chain [1] start processing\n",
      "18:13:12 - cmdstanpy - INFO - Chain [1] done processing\n"
     ]
    },
    {
     "name": "stdout",
     "output_type": "stream",
     "text": [
      "Evaluación combinación: CPS=0.2, SPS=0.01, SM=multiplicative\n"
     ]
    },
    {
     "name": "stderr",
     "output_type": "stream",
     "text": [
      "18:13:12 - cmdstanpy - INFO - Chain [1] start processing\n",
      "18:13:42 - cmdstanpy - INFO - Chain [1] done processing\n"
     ]
    },
    {
     "name": "stdout",
     "output_type": "stream",
     "text": [
      "Evaluación combinación: CPS=0.2, SPS=0.05, SM=additive\n"
     ]
    },
    {
     "name": "stderr",
     "output_type": "stream",
     "text": [
      "18:13:43 - cmdstanpy - INFO - Chain [1] start processing\n",
      "18:14:13 - cmdstanpy - INFO - Chain [1] done processing\n",
      "18:14:13 - cmdstanpy - INFO - Chain [1] start processing\n"
     ]
    },
    {
     "name": "stdout",
     "output_type": "stream",
     "text": [
      "Evaluación combinación: CPS=0.2, SPS=0.05, SM=multiplicative\n"
     ]
    },
    {
     "name": "stderr",
     "output_type": "stream",
     "text": [
      "18:14:43 - cmdstanpy - INFO - Chain [1] done processing\n"
     ]
    },
    {
     "name": "stdout",
     "output_type": "stream",
     "text": [
      "Evaluación combinación: CPS=0.2, SPS=0.1, SM=additive\n"
     ]
    },
    {
     "name": "stderr",
     "output_type": "stream",
     "text": [
      "18:14:43 - cmdstanpy - INFO - Chain [1] start processing\n",
      "18:15:12 - cmdstanpy - INFO - Chain [1] done processing\n",
      "18:15:12 - cmdstanpy - INFO - Chain [1] start processing\n"
     ]
    },
    {
     "name": "stdout",
     "output_type": "stream",
     "text": [
      "Evaluación combinación: CPS=0.2, SPS=0.1, SM=multiplicative\n"
     ]
    },
    {
     "name": "stderr",
     "output_type": "stream",
     "text": [
      "18:15:41 - cmdstanpy - INFO - Chain [1] done processing\n"
     ]
    },
    {
     "name": "stdout",
     "output_type": "stream",
     "text": [
      "Evaluación combinación: CPS=0.2, SPS=1.0, SM=additive\n"
     ]
    },
    {
     "name": "stderr",
     "output_type": "stream",
     "text": [
      "18:15:42 - cmdstanpy - INFO - Chain [1] start processing\n",
      "18:16:10 - cmdstanpy - INFO - Chain [1] done processing\n"
     ]
    },
    {
     "name": "stdout",
     "output_type": "stream",
     "text": [
      "Evaluación combinación: CPS=0.2, SPS=1.0, SM=multiplicative\n"
     ]
    },
    {
     "name": "stderr",
     "output_type": "stream",
     "text": [
      "18:16:11 - cmdstanpy - INFO - Chain [1] start processing\n",
      "18:16:41 - cmdstanpy - INFO - Chain [1] done processing\n",
      "18:16:41 - cmdstanpy - INFO - Chain [1] start processing\n"
     ]
    },
    {
     "name": "stdout",
     "output_type": "stream",
     "text": [
      "Evaluación combinación: CPS=0.2, SPS=5.0, SM=additive\n"
     ]
    },
    {
     "name": "stderr",
     "output_type": "stream",
     "text": [
      "18:17:09 - cmdstanpy - INFO - Chain [1] done processing\n"
     ]
    },
    {
     "name": "stdout",
     "output_type": "stream",
     "text": [
      "Evaluación combinación: CPS=0.2, SPS=5.0, SM=multiplicative\n"
     ]
    },
    {
     "name": "stderr",
     "output_type": "stream",
     "text": [
      "18:17:10 - cmdstanpy - INFO - Chain [1] start processing\n",
      "18:17:39 - cmdstanpy - INFO - Chain [1] done processing\n",
      "18:17:40 - cmdstanpy - INFO - Chain [1] start processing\n"
     ]
    },
    {
     "name": "stdout",
     "output_type": "stream",
     "text": [
      "Evaluación combinación: CPS=0.2, SPS=10.0, SM=additive\n"
     ]
    },
    {
     "name": "stderr",
     "output_type": "stream",
     "text": [
      "18:18:10 - cmdstanpy - INFO - Chain [1] done processing\n"
     ]
    },
    {
     "name": "stdout",
     "output_type": "stream",
     "text": [
      "Evaluación combinación: CPS=0.2, SPS=10.0, SM=multiplicative\n"
     ]
    },
    {
     "name": "stderr",
     "output_type": "stream",
     "text": [
      "18:18:10 - cmdstanpy - INFO - Chain [1] start processing\n",
      "18:18:39 - cmdstanpy - INFO - Chain [1] done processing\n"
     ]
    },
    {
     "name": "stdout",
     "output_type": "stream",
     "text": [
      "Evaluación combinación: CPS=0.2, SPS=15.0, SM=additive\n"
     ]
    },
    {
     "name": "stderr",
     "output_type": "stream",
     "text": [
      "18:18:40 - cmdstanpy - INFO - Chain [1] start processing\n",
      "18:19:11 - cmdstanpy - INFO - Chain [1] done processing\n"
     ]
    },
    {
     "name": "stdout",
     "output_type": "stream",
     "text": [
      "Evaluación combinación: CPS=0.2, SPS=15.0, SM=multiplicative\n"
     ]
    },
    {
     "name": "stderr",
     "output_type": "stream",
     "text": [
      "18:19:11 - cmdstanpy - INFO - Chain [1] start processing\n",
      "18:19:42 - cmdstanpy - INFO - Chain [1] done processing\n"
     ]
    },
    {
     "name": "stdout",
     "output_type": "stream",
     "text": [
      "Evaluación combinación: CPS=0.2, SPS=20.0, SM=additive\n"
     ]
    },
    {
     "name": "stderr",
     "output_type": "stream",
     "text": [
      "18:19:42 - cmdstanpy - INFO - Chain [1] start processing\n",
      "18:20:12 - cmdstanpy - INFO - Chain [1] done processing\n",
      "18:20:13 - cmdstanpy - INFO - Chain [1] start processing\n"
     ]
    },
    {
     "name": "stdout",
     "output_type": "stream",
     "text": [
      "Evaluación combinación: CPS=0.2, SPS=20.0, SM=multiplicative\n"
     ]
    },
    {
     "name": "stderr",
     "output_type": "stream",
     "text": [
      "18:20:43 - cmdstanpy - INFO - Chain [1] done processing\n"
     ]
    },
    {
     "name": "stdout",
     "output_type": "stream",
     "text": [
      "Procesando: Yellow Taxi, columna: avg_trip_distance\n",
      "Evaluación combinación: CPS=0.01, SPS=0.01, SM=additive\n"
     ]
    },
    {
     "name": "stderr",
     "output_type": "stream",
     "text": [
      "18:20:43 - cmdstanpy - INFO - Chain [1] start processing\n",
      "18:20:44 - cmdstanpy - INFO - Chain [1] done processing\n",
      "18:20:44 - cmdstanpy - INFO - Chain [1] start processing\n"
     ]
    },
    {
     "name": "stdout",
     "output_type": "stream",
     "text": [
      "Evaluación combinación: CPS=0.01, SPS=0.01, SM=multiplicative\n"
     ]
    },
    {
     "name": "stderr",
     "output_type": "stream",
     "text": [
      "18:20:45 - cmdstanpy - INFO - Chain [1] done processing\n",
      "18:20:45 - cmdstanpy - INFO - Chain [1] start processing\n"
     ]
    },
    {
     "name": "stdout",
     "output_type": "stream",
     "text": [
      "Evaluación combinación: CPS=0.01, SPS=0.05, SM=additive\n"
     ]
    },
    {
     "name": "stderr",
     "output_type": "stream",
     "text": [
      "18:20:46 - cmdstanpy - INFO - Chain [1] done processing\n"
     ]
    },
    {
     "name": "stdout",
     "output_type": "stream",
     "text": [
      "Evaluación combinación: CPS=0.01, SPS=0.05, SM=multiplicative\n"
     ]
    },
    {
     "name": "stderr",
     "output_type": "stream",
     "text": [
      "18:20:46 - cmdstanpy - INFO - Chain [1] start processing\n",
      "18:20:46 - cmdstanpy - INFO - Chain [1] done processing\n"
     ]
    },
    {
     "name": "stdout",
     "output_type": "stream",
     "text": [
      "Evaluación combinación: CPS=0.01, SPS=0.1, SM=additive\n"
     ]
    },
    {
     "name": "stderr",
     "output_type": "stream",
     "text": [
      "18:20:47 - cmdstanpy - INFO - Chain [1] start processing\n",
      "18:20:47 - cmdstanpy - INFO - Chain [1] done processing\n",
      "18:20:48 - cmdstanpy - INFO - Chain [1] start processing\n"
     ]
    },
    {
     "name": "stdout",
     "output_type": "stream",
     "text": [
      "Evaluación combinación: CPS=0.01, SPS=0.1, SM=multiplicative\n"
     ]
    },
    {
     "name": "stderr",
     "output_type": "stream",
     "text": [
      "18:20:48 - cmdstanpy - INFO - Chain [1] done processing\n",
      "18:20:48 - cmdstanpy - INFO - Chain [1] start processing\n"
     ]
    },
    {
     "name": "stdout",
     "output_type": "stream",
     "text": [
      "Evaluación combinación: CPS=0.01, SPS=1.0, SM=additive\n"
     ]
    },
    {
     "name": "stderr",
     "output_type": "stream",
     "text": [
      "18:20:49 - cmdstanpy - INFO - Chain [1] done processing\n"
     ]
    },
    {
     "name": "stdout",
     "output_type": "stream",
     "text": [
      "Evaluación combinación: CPS=0.01, SPS=1.0, SM=multiplicative\n"
     ]
    },
    {
     "name": "stderr",
     "output_type": "stream",
     "text": [
      "18:20:50 - cmdstanpy - INFO - Chain [1] start processing\n",
      "18:20:50 - cmdstanpy - INFO - Chain [1] done processing\n",
      "18:20:50 - cmdstanpy - INFO - Chain [1] start processing\n"
     ]
    },
    {
     "name": "stdout",
     "output_type": "stream",
     "text": [
      "Evaluación combinación: CPS=0.01, SPS=5.0, SM=additive\n"
     ]
    },
    {
     "name": "stderr",
     "output_type": "stream",
     "text": [
      "18:20:51 - cmdstanpy - INFO - Chain [1] done processing\n"
     ]
    },
    {
     "name": "stdout",
     "output_type": "stream",
     "text": [
      "Evaluación combinación: CPS=0.01, SPS=5.0, SM=multiplicative\n"
     ]
    },
    {
     "name": "stderr",
     "output_type": "stream",
     "text": [
      "18:20:51 - cmdstanpy - INFO - Chain [1] start processing\n",
      "18:20:52 - cmdstanpy - INFO - Chain [1] done processing\n",
      "18:20:52 - cmdstanpy - INFO - Chain [1] start processing\n"
     ]
    },
    {
     "name": "stdout",
     "output_type": "stream",
     "text": [
      "Evaluación combinación: CPS=0.01, SPS=10.0, SM=additive\n"
     ]
    },
    {
     "name": "stderr",
     "output_type": "stream",
     "text": [
      "18:20:53 - cmdstanpy - INFO - Chain [1] done processing\n"
     ]
    },
    {
     "name": "stdout",
     "output_type": "stream",
     "text": [
      "Evaluación combinación: CPS=0.01, SPS=10.0, SM=multiplicative\n"
     ]
    },
    {
     "name": "stderr",
     "output_type": "stream",
     "text": [
      "18:20:53 - cmdstanpy - INFO - Chain [1] start processing\n",
      "18:20:53 - cmdstanpy - INFO - Chain [1] done processing\n",
      "18:20:54 - cmdstanpy - INFO - Chain [1] start processing\n"
     ]
    },
    {
     "name": "stdout",
     "output_type": "stream",
     "text": [
      "Evaluación combinación: CPS=0.01, SPS=15.0, SM=additive\n"
     ]
    },
    {
     "name": "stderr",
     "output_type": "stream",
     "text": [
      "18:20:54 - cmdstanpy - INFO - Chain [1] done processing\n",
      "18:20:55 - cmdstanpy - INFO - Chain [1] start processing\n"
     ]
    },
    {
     "name": "stdout",
     "output_type": "stream",
     "text": [
      "Evaluación combinación: CPS=0.01, SPS=15.0, SM=multiplicative\n"
     ]
    },
    {
     "name": "stderr",
     "output_type": "stream",
     "text": [
      "18:20:55 - cmdstanpy - INFO - Chain [1] done processing\n"
     ]
    },
    {
     "name": "stdout",
     "output_type": "stream",
     "text": [
      "Evaluación combinación: CPS=0.01, SPS=20.0, SM=additive\n"
     ]
    },
    {
     "name": "stderr",
     "output_type": "stream",
     "text": [
      "18:20:56 - cmdstanpy - INFO - Chain [1] start processing\n",
      "18:20:56 - cmdstanpy - INFO - Chain [1] done processing\n",
      "18:20:56 - cmdstanpy - INFO - Chain [1] start processing\n"
     ]
    },
    {
     "name": "stdout",
     "output_type": "stream",
     "text": [
      "Evaluación combinación: CPS=0.01, SPS=20.0, SM=multiplicative\n"
     ]
    },
    {
     "name": "stderr",
     "output_type": "stream",
     "text": [
      "18:20:57 - cmdstanpy - INFO - Chain [1] done processing\n"
     ]
    },
    {
     "name": "stdout",
     "output_type": "stream",
     "text": [
      "Evaluación combinación: CPS=0.05, SPS=0.01, SM=additive\n"
     ]
    },
    {
     "name": "stderr",
     "output_type": "stream",
     "text": [
      "18:20:57 - cmdstanpy - INFO - Chain [1] start processing\n",
      "18:20:58 - cmdstanpy - INFO - Chain [1] done processing\n"
     ]
    },
    {
     "name": "stdout",
     "output_type": "stream",
     "text": [
      "Evaluación combinación: CPS=0.05, SPS=0.01, SM=multiplicative\n"
     ]
    },
    {
     "name": "stderr",
     "output_type": "stream",
     "text": [
      "18:20:58 - cmdstanpy - INFO - Chain [1] start processing\n",
      "18:20:59 - cmdstanpy - INFO - Chain [1] done processing\n"
     ]
    },
    {
     "name": "stdout",
     "output_type": "stream",
     "text": [
      "Evaluación combinación: CPS=0.05, SPS=0.05, SM=additive\n"
     ]
    },
    {
     "name": "stderr",
     "output_type": "stream",
     "text": [
      "18:20:59 - cmdstanpy - INFO - Chain [1] start processing\n",
      "18:21:00 - cmdstanpy - INFO - Chain [1] done processing\n",
      "18:21:00 - cmdstanpy - INFO - Chain [1] start processing\n"
     ]
    },
    {
     "name": "stdout",
     "output_type": "stream",
     "text": [
      "Evaluación combinación: CPS=0.05, SPS=0.05, SM=multiplicative\n"
     ]
    },
    {
     "name": "stderr",
     "output_type": "stream",
     "text": [
      "18:21:01 - cmdstanpy - INFO - Chain [1] done processing\n"
     ]
    },
    {
     "name": "stdout",
     "output_type": "stream",
     "text": [
      "Evaluación combinación: CPS=0.05, SPS=0.1, SM=additive\n"
     ]
    },
    {
     "name": "stderr",
     "output_type": "stream",
     "text": [
      "18:21:01 - cmdstanpy - INFO - Chain [1] start processing\n",
      "18:21:02 - cmdstanpy - INFO - Chain [1] done processing\n",
      "18:21:02 - cmdstanpy - INFO - Chain [1] start processing\n"
     ]
    },
    {
     "name": "stdout",
     "output_type": "stream",
     "text": [
      "Evaluación combinación: CPS=0.05, SPS=0.1, SM=multiplicative\n"
     ]
    },
    {
     "name": "stderr",
     "output_type": "stream",
     "text": [
      "18:21:03 - cmdstanpy - INFO - Chain [1] done processing\n"
     ]
    },
    {
     "name": "stdout",
     "output_type": "stream",
     "text": [
      "Evaluación combinación: CPS=0.05, SPS=1.0, SM=additive\n"
     ]
    },
    {
     "name": "stderr",
     "output_type": "stream",
     "text": [
      "18:21:03 - cmdstanpy - INFO - Chain [1] start processing\n",
      "18:21:04 - cmdstanpy - INFO - Chain [1] done processing\n",
      "18:21:04 - cmdstanpy - INFO - Chain [1] start processing\n"
     ]
    },
    {
     "name": "stdout",
     "output_type": "stream",
     "text": [
      "Evaluación combinación: CPS=0.05, SPS=1.0, SM=multiplicative\n"
     ]
    },
    {
     "name": "stderr",
     "output_type": "stream",
     "text": [
      "18:21:04 - cmdstanpy - INFO - Chain [1] done processing\n"
     ]
    },
    {
     "name": "stdout",
     "output_type": "stream",
     "text": [
      "Evaluación combinación: CPS=0.05, SPS=5.0, SM=additive\n"
     ]
    },
    {
     "name": "stderr",
     "output_type": "stream",
     "text": [
      "18:21:05 - cmdstanpy - INFO - Chain [1] start processing\n",
      "18:21:05 - cmdstanpy - INFO - Chain [1] done processing\n",
      "18:21:06 - cmdstanpy - INFO - Chain [1] start processing\n"
     ]
    },
    {
     "name": "stdout",
     "output_type": "stream",
     "text": [
      "Evaluación combinación: CPS=0.05, SPS=5.0, SM=multiplicative\n"
     ]
    },
    {
     "name": "stderr",
     "output_type": "stream",
     "text": [
      "18:21:06 - cmdstanpy - INFO - Chain [1] done processing\n"
     ]
    },
    {
     "name": "stdout",
     "output_type": "stream",
     "text": [
      "Evaluación combinación: CPS=0.05, SPS=10.0, SM=additive\n"
     ]
    },
    {
     "name": "stderr",
     "output_type": "stream",
     "text": [
      "18:21:07 - cmdstanpy - INFO - Chain [1] start processing\n",
      "18:21:07 - cmdstanpy - INFO - Chain [1] done processing\n",
      "18:21:08 - cmdstanpy - INFO - Chain [1] start processing\n"
     ]
    },
    {
     "name": "stdout",
     "output_type": "stream",
     "text": [
      "Evaluación combinación: CPS=0.05, SPS=10.0, SM=multiplicative\n"
     ]
    },
    {
     "name": "stderr",
     "output_type": "stream",
     "text": [
      "18:21:08 - cmdstanpy - INFO - Chain [1] done processing\n"
     ]
    },
    {
     "name": "stdout",
     "output_type": "stream",
     "text": [
      "Evaluación combinación: CPS=0.05, SPS=15.0, SM=additive\n"
     ]
    },
    {
     "name": "stderr",
     "output_type": "stream",
     "text": [
      "18:21:09 - cmdstanpy - INFO - Chain [1] start processing\n",
      "18:21:10 - cmdstanpy - INFO - Chain [1] done processing\n"
     ]
    },
    {
     "name": "stdout",
     "output_type": "stream",
     "text": [
      "Evaluación combinación: CPS=0.05, SPS=15.0, SM=multiplicative\n"
     ]
    },
    {
     "name": "stderr",
     "output_type": "stream",
     "text": [
      "18:21:10 - cmdstanpy - INFO - Chain [1] start processing\n",
      "18:21:11 - cmdstanpy - INFO - Chain [1] done processing\n"
     ]
    },
    {
     "name": "stdout",
     "output_type": "stream",
     "text": [
      "Evaluación combinación: CPS=0.05, SPS=20.0, SM=additive\n"
     ]
    },
    {
     "name": "stderr",
     "output_type": "stream",
     "text": [
      "18:21:11 - cmdstanpy - INFO - Chain [1] start processing\n",
      "18:21:12 - cmdstanpy - INFO - Chain [1] done processing\n",
      "18:21:12 - cmdstanpy - INFO - Chain [1] start processing\n"
     ]
    },
    {
     "name": "stdout",
     "output_type": "stream",
     "text": [
      "Evaluación combinación: CPS=0.05, SPS=20.0, SM=multiplicative\n"
     ]
    },
    {
     "name": "stderr",
     "output_type": "stream",
     "text": [
      "18:21:13 - cmdstanpy - INFO - Chain [1] done processing\n"
     ]
    },
    {
     "name": "stdout",
     "output_type": "stream",
     "text": [
      "Evaluación combinación: CPS=0.1, SPS=0.01, SM=additive\n"
     ]
    },
    {
     "name": "stderr",
     "output_type": "stream",
     "text": [
      "18:21:13 - cmdstanpy - INFO - Chain [1] start processing\n",
      "18:21:14 - cmdstanpy - INFO - Chain [1] done processing\n",
      "18:21:14 - cmdstanpy - INFO - Chain [1] start processing\n"
     ]
    },
    {
     "name": "stdout",
     "output_type": "stream",
     "text": [
      "Evaluación combinación: CPS=0.1, SPS=0.01, SM=multiplicative\n"
     ]
    },
    {
     "name": "stderr",
     "output_type": "stream",
     "text": [
      "18:21:15 - cmdstanpy - INFO - Chain [1] done processing\n",
      "18:21:15 - cmdstanpy - INFO - Chain [1] start processing\n"
     ]
    },
    {
     "name": "stdout",
     "output_type": "stream",
     "text": [
      "Evaluación combinación: CPS=0.1, SPS=0.05, SM=additive\n"
     ]
    },
    {
     "name": "stderr",
     "output_type": "stream",
     "text": [
      "18:21:16 - cmdstanpy - INFO - Chain [1] done processing\n"
     ]
    },
    {
     "name": "stdout",
     "output_type": "stream",
     "text": [
      "Evaluación combinación: CPS=0.1, SPS=0.05, SM=multiplicative\n"
     ]
    },
    {
     "name": "stderr",
     "output_type": "stream",
     "text": [
      "18:21:16 - cmdstanpy - INFO - Chain [1] start processing\n",
      "18:21:17 - cmdstanpy - INFO - Chain [1] done processing\n",
      "18:21:17 - cmdstanpy - INFO - Chain [1] start processing\n"
     ]
    },
    {
     "name": "stdout",
     "output_type": "stream",
     "text": [
      "Evaluación combinación: CPS=0.1, SPS=0.1, SM=additive\n"
     ]
    },
    {
     "name": "stderr",
     "output_type": "stream",
     "text": [
      "18:21:45 - cmdstanpy - INFO - Chain [1] done processing\n",
      "18:21:45 - cmdstanpy - INFO - Chain [1] start processing\n"
     ]
    },
    {
     "name": "stdout",
     "output_type": "stream",
     "text": [
      "Evaluación combinación: CPS=0.1, SPS=0.1, SM=multiplicative\n"
     ]
    },
    {
     "name": "stderr",
     "output_type": "stream",
     "text": [
      "18:21:46 - cmdstanpy - INFO - Chain [1] done processing\n"
     ]
    },
    {
     "name": "stdout",
     "output_type": "stream",
     "text": [
      "Evaluación combinación: CPS=0.1, SPS=1.0, SM=additive\n"
     ]
    },
    {
     "name": "stderr",
     "output_type": "stream",
     "text": [
      "18:21:46 - cmdstanpy - INFO - Chain [1] start processing\n",
      "18:22:14 - cmdstanpy - INFO - Chain [1] done processing\n",
      "18:22:15 - cmdstanpy - INFO - Chain [1] start processing\n"
     ]
    },
    {
     "name": "stdout",
     "output_type": "stream",
     "text": [
      "Evaluación combinación: CPS=0.1, SPS=1.0, SM=multiplicative\n"
     ]
    },
    {
     "name": "stderr",
     "output_type": "stream",
     "text": [
      "18:22:43 - cmdstanpy - INFO - Chain [1] done processing\n"
     ]
    },
    {
     "name": "stdout",
     "output_type": "stream",
     "text": [
      "Evaluación combinación: CPS=0.1, SPS=5.0, SM=additive\n"
     ]
    },
    {
     "name": "stderr",
     "output_type": "stream",
     "text": [
      "18:22:43 - cmdstanpy - INFO - Chain [1] start processing\n",
      "18:23:11 - cmdstanpy - INFO - Chain [1] done processing\n",
      "18:23:11 - cmdstanpy - INFO - Chain [1] start processing\n"
     ]
    },
    {
     "name": "stdout",
     "output_type": "stream",
     "text": [
      "Evaluación combinación: CPS=0.1, SPS=5.0, SM=multiplicative\n"
     ]
    },
    {
     "name": "stderr",
     "output_type": "stream",
     "text": [
      "18:23:40 - cmdstanpy - INFO - Chain [1] done processing\n"
     ]
    },
    {
     "name": "stdout",
     "output_type": "stream",
     "text": [
      "Evaluación combinación: CPS=0.1, SPS=10.0, SM=additive\n"
     ]
    },
    {
     "name": "stderr",
     "output_type": "stream",
     "text": [
      "18:23:41 - cmdstanpy - INFO - Chain [1] start processing\n",
      "18:24:09 - cmdstanpy - INFO - Chain [1] done processing\n",
      "18:24:09 - cmdstanpy - INFO - Chain [1] start processing\n"
     ]
    },
    {
     "name": "stdout",
     "output_type": "stream",
     "text": [
      "Evaluación combinación: CPS=0.1, SPS=10.0, SM=multiplicative\n"
     ]
    },
    {
     "name": "stderr",
     "output_type": "stream",
     "text": [
      "18:24:38 - cmdstanpy - INFO - Chain [1] done processing\n"
     ]
    },
    {
     "name": "stdout",
     "output_type": "stream",
     "text": [
      "Evaluación combinación: CPS=0.1, SPS=15.0, SM=additive\n"
     ]
    },
    {
     "name": "stderr",
     "output_type": "stream",
     "text": [
      "18:24:39 - cmdstanpy - INFO - Chain [1] start processing\n",
      "18:25:06 - cmdstanpy - INFO - Chain [1] done processing\n"
     ]
    },
    {
     "name": "stdout",
     "output_type": "stream",
     "text": [
      "Evaluación combinación: CPS=0.1, SPS=15.0, SM=multiplicative\n"
     ]
    },
    {
     "name": "stderr",
     "output_type": "stream",
     "text": [
      "18:25:07 - cmdstanpy - INFO - Chain [1] start processing\n",
      "18:25:36 - cmdstanpy - INFO - Chain [1] done processing\n",
      "18:25:36 - cmdstanpy - INFO - Chain [1] start processing\n"
     ]
    },
    {
     "name": "stdout",
     "output_type": "stream",
     "text": [
      "Evaluación combinación: CPS=0.1, SPS=20.0, SM=additive\n"
     ]
    },
    {
     "name": "stderr",
     "output_type": "stream",
     "text": [
      "18:26:04 - cmdstanpy - INFO - Chain [1] done processing\n"
     ]
    },
    {
     "name": "stdout",
     "output_type": "stream",
     "text": [
      "Evaluación combinación: CPS=0.1, SPS=20.0, SM=multiplicative\n"
     ]
    },
    {
     "name": "stderr",
     "output_type": "stream",
     "text": [
      "18:26:04 - cmdstanpy - INFO - Chain [1] start processing\n",
      "18:26:32 - cmdstanpy - INFO - Chain [1] done processing\n",
      "18:26:32 - cmdstanpy - INFO - Chain [1] start processing\n"
     ]
    },
    {
     "name": "stdout",
     "output_type": "stream",
     "text": [
      "Evaluación combinación: CPS=0.15, SPS=0.01, SM=additive\n"
     ]
    },
    {
     "name": "stderr",
     "output_type": "stream",
     "text": [
      "18:26:33 - cmdstanpy - INFO - Chain [1] done processing\n",
      "18:26:33 - cmdstanpy - INFO - Chain [1] start processing\n"
     ]
    },
    {
     "name": "stdout",
     "output_type": "stream",
     "text": [
      "Evaluación combinación: CPS=0.15, SPS=0.01, SM=multiplicative\n"
     ]
    },
    {
     "name": "stderr",
     "output_type": "stream",
     "text": [
      "18:26:34 - cmdstanpy - INFO - Chain [1] done processing\n"
     ]
    },
    {
     "name": "stdout",
     "output_type": "stream",
     "text": [
      "Evaluación combinación: CPS=0.15, SPS=0.05, SM=additive\n"
     ]
    },
    {
     "name": "stderr",
     "output_type": "stream",
     "text": [
      "18:26:35 - cmdstanpy - INFO - Chain [1] start processing\n",
      "18:26:35 - cmdstanpy - INFO - Chain [1] done processing\n"
     ]
    },
    {
     "name": "stdout",
     "output_type": "stream",
     "text": [
      "Evaluación combinación: CPS=0.15, SPS=0.05, SM=multiplicative\n"
     ]
    },
    {
     "name": "stderr",
     "output_type": "stream",
     "text": [
      "18:26:35 - cmdstanpy - INFO - Chain [1] start processing\n",
      "18:26:36 - cmdstanpy - INFO - Chain [1] done processing\n",
      "18:26:36 - cmdstanpy - INFO - Chain [1] start processing\n"
     ]
    },
    {
     "name": "stdout",
     "output_type": "stream",
     "text": [
      "Evaluación combinación: CPS=0.15, SPS=0.1, SM=additive\n"
     ]
    },
    {
     "name": "stderr",
     "output_type": "stream",
     "text": [
      "18:27:04 - cmdstanpy - INFO - Chain [1] done processing\n"
     ]
    },
    {
     "name": "stdout",
     "output_type": "stream",
     "text": [
      "Evaluación combinación: CPS=0.15, SPS=0.1, SM=multiplicative\n"
     ]
    },
    {
     "name": "stderr",
     "output_type": "stream",
     "text": [
      "18:27:04 - cmdstanpy - INFO - Chain [1] start processing\n",
      "18:27:32 - cmdstanpy - INFO - Chain [1] done processing\n",
      "18:27:33 - cmdstanpy - INFO - Chain [1] start processing\n"
     ]
    },
    {
     "name": "stdout",
     "output_type": "stream",
     "text": [
      "Evaluación combinación: CPS=0.15, SPS=1.0, SM=additive\n"
     ]
    },
    {
     "name": "stderr",
     "output_type": "stream",
     "text": [
      "18:28:01 - cmdstanpy - INFO - Chain [1] done processing\n"
     ]
    },
    {
     "name": "stdout",
     "output_type": "stream",
     "text": [
      "Evaluación combinación: CPS=0.15, SPS=1.0, SM=multiplicative\n"
     ]
    },
    {
     "name": "stderr",
     "output_type": "stream",
     "text": [
      "18:28:01 - cmdstanpy - INFO - Chain [1] start processing\n",
      "18:28:29 - cmdstanpy - INFO - Chain [1] done processing\n",
      "18:28:30 - cmdstanpy - INFO - Chain [1] start processing\n"
     ]
    },
    {
     "name": "stdout",
     "output_type": "stream",
     "text": [
      "Evaluación combinación: CPS=0.15, SPS=5.0, SM=additive\n"
     ]
    },
    {
     "name": "stderr",
     "output_type": "stream",
     "text": [
      "18:28:59 - cmdstanpy - INFO - Chain [1] done processing\n"
     ]
    },
    {
     "name": "stdout",
     "output_type": "stream",
     "text": [
      "Evaluación combinación: CPS=0.15, SPS=5.0, SM=multiplicative\n"
     ]
    },
    {
     "name": "stderr",
     "output_type": "stream",
     "text": [
      "18:28:59 - cmdstanpy - INFO - Chain [1] start processing\n",
      "18:29:28 - cmdstanpy - INFO - Chain [1] done processing\n",
      "18:29:28 - cmdstanpy - INFO - Chain [1] start processing\n"
     ]
    },
    {
     "name": "stdout",
     "output_type": "stream",
     "text": [
      "Evaluación combinación: CPS=0.15, SPS=10.0, SM=additive\n"
     ]
    },
    {
     "name": "stderr",
     "output_type": "stream",
     "text": [
      "18:29:55 - cmdstanpy - INFO - Chain [1] done processing\n"
     ]
    },
    {
     "name": "stdout",
     "output_type": "stream",
     "text": [
      "Evaluación combinación: CPS=0.15, SPS=10.0, SM=multiplicative\n"
     ]
    },
    {
     "name": "stderr",
     "output_type": "stream",
     "text": [
      "18:29:56 - cmdstanpy - INFO - Chain [1] start processing\n",
      "18:30:24 - cmdstanpy - INFO - Chain [1] done processing\n",
      "18:30:25 - cmdstanpy - INFO - Chain [1] start processing\n"
     ]
    },
    {
     "name": "stdout",
     "output_type": "stream",
     "text": [
      "Evaluación combinación: CPS=0.15, SPS=15.0, SM=additive\n"
     ]
    },
    {
     "name": "stderr",
     "output_type": "stream",
     "text": [
      "18:30:53 - cmdstanpy - INFO - Chain [1] done processing\n"
     ]
    },
    {
     "name": "stdout",
     "output_type": "stream",
     "text": [
      "Evaluación combinación: CPS=0.15, SPS=15.0, SM=multiplicative\n"
     ]
    },
    {
     "name": "stderr",
     "output_type": "stream",
     "text": [
      "18:30:53 - cmdstanpy - INFO - Chain [1] start processing\n",
      "18:31:23 - cmdstanpy - INFO - Chain [1] done processing\n",
      "18:31:24 - cmdstanpy - INFO - Chain [1] start processing\n"
     ]
    },
    {
     "name": "stdout",
     "output_type": "stream",
     "text": [
      "Evaluación combinación: CPS=0.15, SPS=20.0, SM=additive\n"
     ]
    },
    {
     "name": "stderr",
     "output_type": "stream",
     "text": [
      "18:31:52 - cmdstanpy - INFO - Chain [1] done processing\n"
     ]
    },
    {
     "name": "stdout",
     "output_type": "stream",
     "text": [
      "Evaluación combinación: CPS=0.15, SPS=20.0, SM=multiplicative\n"
     ]
    },
    {
     "name": "stderr",
     "output_type": "stream",
     "text": [
      "18:31:52 - cmdstanpy - INFO - Chain [1] start processing\n",
      "18:32:20 - cmdstanpy - INFO - Chain [1] done processing\n",
      "18:32:21 - cmdstanpy - INFO - Chain [1] start processing\n"
     ]
    },
    {
     "name": "stdout",
     "output_type": "stream",
     "text": [
      "Evaluación combinación: CPS=0.2, SPS=0.01, SM=additive\n"
     ]
    },
    {
     "name": "stderr",
     "output_type": "stream",
     "text": [
      "18:32:21 - cmdstanpy - INFO - Chain [1] done processing\n"
     ]
    },
    {
     "name": "stdout",
     "output_type": "stream",
     "text": [
      "Evaluación combinación: CPS=0.2, SPS=0.01, SM=multiplicative\n"
     ]
    },
    {
     "name": "stderr",
     "output_type": "stream",
     "text": [
      "18:32:22 - cmdstanpy - INFO - Chain [1] start processing\n",
      "18:32:23 - cmdstanpy - INFO - Chain [1] done processing\n"
     ]
    },
    {
     "name": "stdout",
     "output_type": "stream",
     "text": [
      "Evaluación combinación: CPS=0.2, SPS=0.05, SM=additive\n"
     ]
    },
    {
     "name": "stderr",
     "output_type": "stream",
     "text": [
      "18:32:23 - cmdstanpy - INFO - Chain [1] start processing\n",
      "18:32:24 - cmdstanpy - INFO - Chain [1] done processing\n",
      "18:32:24 - cmdstanpy - INFO - Chain [1] start processing\n"
     ]
    },
    {
     "name": "stdout",
     "output_type": "stream",
     "text": [
      "Evaluación combinación: CPS=0.2, SPS=0.05, SM=multiplicative\n"
     ]
    },
    {
     "name": "stderr",
     "output_type": "stream",
     "text": [
      "18:32:25 - cmdstanpy - INFO - Chain [1] done processing\n"
     ]
    },
    {
     "name": "stdout",
     "output_type": "stream",
     "text": [
      "Evaluación combinación: CPS=0.2, SPS=0.1, SM=additive\n"
     ]
    },
    {
     "name": "stderr",
     "output_type": "stream",
     "text": [
      "18:32:25 - cmdstanpy - INFO - Chain [1] start processing\n",
      "18:32:53 - cmdstanpy - INFO - Chain [1] done processing\n",
      "18:32:53 - cmdstanpy - INFO - Chain [1] start processing\n"
     ]
    },
    {
     "name": "stdout",
     "output_type": "stream",
     "text": [
      "Evaluación combinación: CPS=0.2, SPS=0.1, SM=multiplicative\n"
     ]
    },
    {
     "name": "stderr",
     "output_type": "stream",
     "text": [
      "18:33:21 - cmdstanpy - INFO - Chain [1] done processing\n"
     ]
    },
    {
     "name": "stdout",
     "output_type": "stream",
     "text": [
      "Evaluación combinación: CPS=0.2, SPS=1.0, SM=additive\n"
     ]
    },
    {
     "name": "stderr",
     "output_type": "stream",
     "text": [
      "18:33:22 - cmdstanpy - INFO - Chain [1] start processing\n",
      "18:33:51 - cmdstanpy - INFO - Chain [1] done processing\n"
     ]
    },
    {
     "name": "stdout",
     "output_type": "stream",
     "text": [
      "Evaluación combinación: CPS=0.2, SPS=1.0, SM=multiplicative\n"
     ]
    },
    {
     "name": "stderr",
     "output_type": "stream",
     "text": [
      "18:33:52 - cmdstanpy - INFO - Chain [1] start processing\n",
      "18:34:20 - cmdstanpy - INFO - Chain [1] done processing\n",
      "18:34:21 - cmdstanpy - INFO - Chain [1] start processing\n"
     ]
    },
    {
     "name": "stdout",
     "output_type": "stream",
     "text": [
      "Evaluación combinación: CPS=0.2, SPS=5.0, SM=additive\n"
     ]
    },
    {
     "name": "stderr",
     "output_type": "stream",
     "text": [
      "18:34:49 - cmdstanpy - INFO - Chain [1] done processing\n"
     ]
    },
    {
     "name": "stdout",
     "output_type": "stream",
     "text": [
      "Evaluación combinación: CPS=0.2, SPS=5.0, SM=multiplicative\n"
     ]
    },
    {
     "name": "stderr",
     "output_type": "stream",
     "text": [
      "18:34:49 - cmdstanpy - INFO - Chain [1] start processing\n",
      "18:35:18 - cmdstanpy - INFO - Chain [1] done processing\n",
      "18:35:18 - cmdstanpy - INFO - Chain [1] start processing\n"
     ]
    },
    {
     "name": "stdout",
     "output_type": "stream",
     "text": [
      "Evaluación combinación: CPS=0.2, SPS=10.0, SM=additive\n"
     ]
    },
    {
     "name": "stderr",
     "output_type": "stream",
     "text": [
      "18:35:46 - cmdstanpy - INFO - Chain [1] done processing\n"
     ]
    },
    {
     "name": "stdout",
     "output_type": "stream",
     "text": [
      "Evaluación combinación: CPS=0.2, SPS=10.0, SM=multiplicative\n"
     ]
    },
    {
     "name": "stderr",
     "output_type": "stream",
     "text": [
      "18:35:47 - cmdstanpy - INFO - Chain [1] start processing\n",
      "18:36:17 - cmdstanpy - INFO - Chain [1] done processing\n",
      "18:36:17 - cmdstanpy - INFO - Chain [1] start processing\n"
     ]
    },
    {
     "name": "stdout",
     "output_type": "stream",
     "text": [
      "Evaluación combinación: CPS=0.2, SPS=15.0, SM=additive\n"
     ]
    },
    {
     "name": "stderr",
     "output_type": "stream",
     "text": [
      "18:36:29 - cmdstanpy - INFO - Chain [1] done processing\n"
     ]
    },
    {
     "name": "stdout",
     "output_type": "stream",
     "text": [
      "Evaluación combinación: CPS=0.2, SPS=15.0, SM=multiplicative\n"
     ]
    },
    {
     "name": "stderr",
     "output_type": "stream",
     "text": [
      "18:36:29 - cmdstanpy - INFO - Chain [1] start processing\n",
      "18:36:59 - cmdstanpy - INFO - Chain [1] done processing\n",
      "18:36:59 - cmdstanpy - INFO - Chain [1] start processing\n"
     ]
    },
    {
     "name": "stdout",
     "output_type": "stream",
     "text": [
      "Evaluación combinación: CPS=0.2, SPS=20.0, SM=additive\n"
     ]
    },
    {
     "name": "stderr",
     "output_type": "stream",
     "text": [
      "18:37:27 - cmdstanpy - INFO - Chain [1] done processing\n"
     ]
    },
    {
     "name": "stdout",
     "output_type": "stream",
     "text": [
      "Evaluación combinación: CPS=0.2, SPS=20.0, SM=multiplicative\n"
     ]
    },
    {
     "name": "stderr",
     "output_type": "stream",
     "text": [
      "18:37:27 - cmdstanpy - INFO - Chain [1] start processing\n",
      "18:37:56 - cmdstanpy - INFO - Chain [1] done processing\n",
      "18:37:56 - cmdstanpy - INFO - Chain [1] start processing\n"
     ]
    },
    {
     "name": "stdout",
     "output_type": "stream",
     "text": [
      "Procesando: Green Taxi, columna: avg_trip_distance\n",
      "Evaluación combinación: CPS=0.01, SPS=0.01, SM=additive\n"
     ]
    },
    {
     "name": "stderr",
     "output_type": "stream",
     "text": [
      "18:37:57 - cmdstanpy - INFO - Chain [1] done processing\n",
      "18:37:57 - cmdstanpy - INFO - Chain [1] start processing\n"
     ]
    },
    {
     "name": "stdout",
     "output_type": "stream",
     "text": [
      "Evaluación combinación: CPS=0.01, SPS=0.01, SM=multiplicative\n"
     ]
    },
    {
     "name": "stderr",
     "output_type": "stream",
     "text": [
      "18:37:57 - cmdstanpy - INFO - Chain [1] done processing\n"
     ]
    },
    {
     "name": "stdout",
     "output_type": "stream",
     "text": [
      "Evaluación combinación: CPS=0.01, SPS=0.05, SM=additive\n"
     ]
    },
    {
     "name": "stderr",
     "output_type": "stream",
     "text": [
      "18:37:58 - cmdstanpy - INFO - Chain [1] start processing\n",
      "18:37:58 - cmdstanpy - INFO - Chain [1] done processing\n",
      "18:37:59 - cmdstanpy - INFO - Chain [1] start processing\n"
     ]
    },
    {
     "name": "stdout",
     "output_type": "stream",
     "text": [
      "Evaluación combinación: CPS=0.01, SPS=0.05, SM=multiplicative\n"
     ]
    },
    {
     "name": "stderr",
     "output_type": "stream",
     "text": [
      "18:37:59 - cmdstanpy - INFO - Chain [1] done processing\n"
     ]
    },
    {
     "name": "stdout",
     "output_type": "stream",
     "text": [
      "Evaluación combinación: CPS=0.01, SPS=0.1, SM=additive\n"
     ]
    },
    {
     "name": "stderr",
     "output_type": "stream",
     "text": [
      "18:38:00 - cmdstanpy - INFO - Chain [1] start processing\n",
      "18:38:00 - cmdstanpy - INFO - Chain [1] done processing\n"
     ]
    },
    {
     "name": "stdout",
     "output_type": "stream",
     "text": [
      "Evaluación combinación: CPS=0.01, SPS=0.1, SM=multiplicative\n"
     ]
    },
    {
     "name": "stderr",
     "output_type": "stream",
     "text": [
      "18:38:01 - cmdstanpy - INFO - Chain [1] start processing\n",
      "18:38:01 - cmdstanpy - INFO - Chain [1] done processing\n",
      "18:38:01 - cmdstanpy - INFO - Chain [1] start processing\n"
     ]
    },
    {
     "name": "stdout",
     "output_type": "stream",
     "text": [
      "Evaluación combinación: CPS=0.01, SPS=1.0, SM=additive\n"
     ]
    },
    {
     "name": "stderr",
     "output_type": "stream",
     "text": [
      "18:38:02 - cmdstanpy - INFO - Chain [1] done processing\n"
     ]
    },
    {
     "name": "stdout",
     "output_type": "stream",
     "text": [
      "Evaluación combinación: CPS=0.01, SPS=1.0, SM=multiplicative\n"
     ]
    },
    {
     "name": "stderr",
     "output_type": "stream",
     "text": [
      "18:38:03 - cmdstanpy - INFO - Chain [1] start processing\n",
      "18:38:03 - cmdstanpy - INFO - Chain [1] done processing\n"
     ]
    },
    {
     "name": "stdout",
     "output_type": "stream",
     "text": [
      "Evaluación combinación: CPS=0.01, SPS=5.0, SM=additive\n"
     ]
    },
    {
     "name": "stderr",
     "output_type": "stream",
     "text": [
      "18:38:04 - cmdstanpy - INFO - Chain [1] start processing\n",
      "18:38:04 - cmdstanpy - INFO - Chain [1] done processing\n",
      "18:38:05 - cmdstanpy - INFO - Chain [1] start processing\n"
     ]
    },
    {
     "name": "stdout",
     "output_type": "stream",
     "text": [
      "Evaluación combinación: CPS=0.01, SPS=5.0, SM=multiplicative\n"
     ]
    },
    {
     "name": "stderr",
     "output_type": "stream",
     "text": [
      "18:38:05 - cmdstanpy - INFO - Chain [1] done processing\n",
      "18:38:05 - cmdstanpy - INFO - Chain [1] start processing\n"
     ]
    },
    {
     "name": "stdout",
     "output_type": "stream",
     "text": [
      "Evaluación combinación: CPS=0.01, SPS=10.0, SM=additive\n"
     ]
    },
    {
     "name": "stderr",
     "output_type": "stream",
     "text": [
      "18:38:06 - cmdstanpy - INFO - Chain [1] done processing\n"
     ]
    },
    {
     "name": "stdout",
     "output_type": "stream",
     "text": [
      "Evaluación combinación: CPS=0.01, SPS=10.0, SM=multiplicative\n"
     ]
    },
    {
     "name": "stderr",
     "output_type": "stream",
     "text": [
      "18:38:06 - cmdstanpy - INFO - Chain [1] start processing\n",
      "18:38:07 - cmdstanpy - INFO - Chain [1] done processing\n",
      "18:38:07 - cmdstanpy - INFO - Chain [1] start processing\n"
     ]
    },
    {
     "name": "stdout",
     "output_type": "stream",
     "text": [
      "Evaluación combinación: CPS=0.01, SPS=15.0, SM=additive\n"
     ]
    },
    {
     "name": "stderr",
     "output_type": "stream",
     "text": [
      "18:38:08 - cmdstanpy - INFO - Chain [1] done processing\n"
     ]
    },
    {
     "name": "stdout",
     "output_type": "stream",
     "text": [
      "Evaluación combinación: CPS=0.01, SPS=15.0, SM=multiplicative\n"
     ]
    },
    {
     "name": "stderr",
     "output_type": "stream",
     "text": [
      "18:38:08 - cmdstanpy - INFO - Chain [1] start processing\n",
      "18:38:09 - cmdstanpy - INFO - Chain [1] done processing\n"
     ]
    },
    {
     "name": "stdout",
     "output_type": "stream",
     "text": [
      "Evaluación combinación: CPS=0.01, SPS=20.0, SM=additive\n"
     ]
    },
    {
     "name": "stderr",
     "output_type": "stream",
     "text": [
      "18:38:09 - cmdstanpy - INFO - Chain [1] start processing\n",
      "18:38:10 - cmdstanpy - INFO - Chain [1] done processing\n",
      "18:38:10 - cmdstanpy - INFO - Chain [1] start processing\n"
     ]
    },
    {
     "name": "stdout",
     "output_type": "stream",
     "text": [
      "Evaluación combinación: CPS=0.01, SPS=20.0, SM=multiplicative\n"
     ]
    },
    {
     "name": "stderr",
     "output_type": "stream",
     "text": [
      "18:38:10 - cmdstanpy - INFO - Chain [1] done processing\n"
     ]
    },
    {
     "name": "stdout",
     "output_type": "stream",
     "text": [
      "Evaluación combinación: CPS=0.05, SPS=0.01, SM=additive\n"
     ]
    },
    {
     "name": "stderr",
     "output_type": "stream",
     "text": [
      "18:38:11 - cmdstanpy - INFO - Chain [1] start processing\n",
      "18:38:12 - cmdstanpy - INFO - Chain [1] done processing\n",
      "18:38:12 - cmdstanpy - INFO - Chain [1] start processing\n"
     ]
    },
    {
     "name": "stdout",
     "output_type": "stream",
     "text": [
      "Evaluación combinación: CPS=0.05, SPS=0.01, SM=multiplicative\n"
     ]
    },
    {
     "name": "stderr",
     "output_type": "stream",
     "text": [
      "18:38:12 - cmdstanpy - INFO - Chain [1] done processing\n"
     ]
    },
    {
     "name": "stdout",
     "output_type": "stream",
     "text": [
      "Evaluación combinación: CPS=0.05, SPS=0.05, SM=additive\n"
     ]
    },
    {
     "name": "stderr",
     "output_type": "stream",
     "text": [
      "18:38:13 - cmdstanpy - INFO - Chain [1] start processing\n",
      "18:38:14 - cmdstanpy - INFO - Chain [1] done processing\n",
      "18:38:14 - cmdstanpy - INFO - Chain [1] start processing\n"
     ]
    },
    {
     "name": "stdout",
     "output_type": "stream",
     "text": [
      "Evaluación combinación: CPS=0.05, SPS=0.05, SM=multiplicative\n"
     ]
    },
    {
     "name": "stderr",
     "output_type": "stream",
     "text": [
      "18:38:14 - cmdstanpy - INFO - Chain [1] done processing\n"
     ]
    },
    {
     "name": "stdout",
     "output_type": "stream",
     "text": [
      "Evaluación combinación: CPS=0.05, SPS=0.1, SM=additive\n"
     ]
    },
    {
     "name": "stderr",
     "output_type": "stream",
     "text": [
      "18:38:15 - cmdstanpy - INFO - Chain [1] start processing\n",
      "18:38:16 - cmdstanpy - INFO - Chain [1] done processing\n",
      "18:38:16 - cmdstanpy - INFO - Chain [1] start processing\n"
     ]
    },
    {
     "name": "stdout",
     "output_type": "stream",
     "text": [
      "Evaluación combinación: CPS=0.05, SPS=0.1, SM=multiplicative\n"
     ]
    },
    {
     "name": "stderr",
     "output_type": "stream",
     "text": [
      "18:38:16 - cmdstanpy - INFO - Chain [1] done processing\n",
      "18:38:17 - cmdstanpy - INFO - Chain [1] start processing\n"
     ]
    },
    {
     "name": "stdout",
     "output_type": "stream",
     "text": [
      "Evaluación combinación: CPS=0.05, SPS=1.0, SM=additive\n"
     ]
    },
    {
     "name": "stderr",
     "output_type": "stream",
     "text": [
      "18:38:17 - cmdstanpy - INFO - Chain [1] done processing\n"
     ]
    },
    {
     "name": "stdout",
     "output_type": "stream",
     "text": [
      "Evaluación combinación: CPS=0.05, SPS=1.0, SM=multiplicative\n"
     ]
    },
    {
     "name": "stderr",
     "output_type": "stream",
     "text": [
      "18:38:18 - cmdstanpy - INFO - Chain [1] start processing\n",
      "18:38:18 - cmdstanpy - INFO - Chain [1] done processing\n",
      "18:38:19 - cmdstanpy - INFO - Chain [1] start processing\n"
     ]
    },
    {
     "name": "stdout",
     "output_type": "stream",
     "text": [
      "Evaluación combinación: CPS=0.05, SPS=5.0, SM=additive\n"
     ]
    },
    {
     "name": "stderr",
     "output_type": "stream",
     "text": [
      "18:38:20 - cmdstanpy - INFO - Chain [1] done processing\n"
     ]
    },
    {
     "name": "stdout",
     "output_type": "stream",
     "text": [
      "Evaluación combinación: CPS=0.05, SPS=5.0, SM=multiplicative\n"
     ]
    },
    {
     "name": "stderr",
     "output_type": "stream",
     "text": [
      "18:38:20 - cmdstanpy - INFO - Chain [1] start processing\n",
      "18:38:20 - cmdstanpy - INFO - Chain [1] done processing\n",
      "18:38:21 - cmdstanpy - INFO - Chain [1] start processing\n"
     ]
    },
    {
     "name": "stdout",
     "output_type": "stream",
     "text": [
      "Evaluación combinación: CPS=0.05, SPS=10.0, SM=additive\n"
     ]
    },
    {
     "name": "stderr",
     "output_type": "stream",
     "text": [
      "18:38:21 - cmdstanpy - INFO - Chain [1] done processing\n"
     ]
    },
    {
     "name": "stdout",
     "output_type": "stream",
     "text": [
      "Evaluación combinación: CPS=0.05, SPS=10.0, SM=multiplicative\n"
     ]
    },
    {
     "name": "stderr",
     "output_type": "stream",
     "text": [
      "18:38:22 - cmdstanpy - INFO - Chain [1] start processing\n",
      "18:38:22 - cmdstanpy - INFO - Chain [1] done processing\n"
     ]
    },
    {
     "name": "stdout",
     "output_type": "stream",
     "text": [
      "Evaluación combinación: CPS=0.05, SPS=15.0, SM=additive\n"
     ]
    },
    {
     "name": "stderr",
     "output_type": "stream",
     "text": [
      "18:38:23 - cmdstanpy - INFO - Chain [1] start processing\n",
      "18:38:23 - cmdstanpy - INFO - Chain [1] done processing\n",
      "18:38:24 - cmdstanpy - INFO - Chain [1] start processing\n"
     ]
    },
    {
     "name": "stdout",
     "output_type": "stream",
     "text": [
      "Evaluación combinación: CPS=0.05, SPS=15.0, SM=multiplicative\n"
     ]
    },
    {
     "name": "stderr",
     "output_type": "stream",
     "text": [
      "18:38:24 - cmdstanpy - INFO - Chain [1] done processing\n"
     ]
    },
    {
     "name": "stdout",
     "output_type": "stream",
     "text": [
      "Evaluación combinación: CPS=0.05, SPS=20.0, SM=additive\n"
     ]
    },
    {
     "name": "stderr",
     "output_type": "stream",
     "text": [
      "18:38:25 - cmdstanpy - INFO - Chain [1] start processing\n",
      "18:38:25 - cmdstanpy - INFO - Chain [1] done processing\n",
      "18:38:26 - cmdstanpy - INFO - Chain [1] start processing\n"
     ]
    },
    {
     "name": "stdout",
     "output_type": "stream",
     "text": [
      "Evaluación combinación: CPS=0.05, SPS=20.0, SM=multiplicative\n"
     ]
    },
    {
     "name": "stderr",
     "output_type": "stream",
     "text": [
      "18:38:26 - cmdstanpy - INFO - Chain [1] done processing\n"
     ]
    },
    {
     "name": "stdout",
     "output_type": "stream",
     "text": [
      "Evaluación combinación: CPS=0.1, SPS=0.01, SM=additive\n"
     ]
    },
    {
     "name": "stderr",
     "output_type": "stream",
     "text": [
      "18:38:27 - cmdstanpy - INFO - Chain [1] start processing\n",
      "18:38:27 - cmdstanpy - INFO - Chain [1] done processing\n",
      "18:38:28 - cmdstanpy - INFO - Chain [1] start processing\n"
     ]
    },
    {
     "name": "stdout",
     "output_type": "stream",
     "text": [
      "Evaluación combinación: CPS=0.1, SPS=0.01, SM=multiplicative\n"
     ]
    },
    {
     "name": "stderr",
     "output_type": "stream",
     "text": [
      "18:38:29 - cmdstanpy - INFO - Chain [1] done processing\n"
     ]
    },
    {
     "name": "stdout",
     "output_type": "stream",
     "text": [
      "Evaluación combinación: CPS=0.1, SPS=0.05, SM=additive\n"
     ]
    },
    {
     "name": "stderr",
     "output_type": "stream",
     "text": [
      "18:38:29 - cmdstanpy - INFO - Chain [1] start processing\n",
      "18:38:30 - cmdstanpy - INFO - Chain [1] done processing\n"
     ]
    },
    {
     "name": "stdout",
     "output_type": "stream",
     "text": [
      "Evaluación combinación: CPS=0.1, SPS=0.05, SM=multiplicative\n"
     ]
    },
    {
     "name": "stderr",
     "output_type": "stream",
     "text": [
      "18:38:30 - cmdstanpy - INFO - Chain [1] start processing\n",
      "18:38:31 - cmdstanpy - INFO - Chain [1] done processing\n"
     ]
    },
    {
     "name": "stdout",
     "output_type": "stream",
     "text": [
      "Evaluación combinación: CPS=0.1, SPS=0.1, SM=additive\n"
     ]
    },
    {
     "name": "stderr",
     "output_type": "stream",
     "text": [
      "18:38:31 - cmdstanpy - INFO - Chain [1] start processing\n",
      "18:38:32 - cmdstanpy - INFO - Chain [1] done processing\n",
      "18:38:32 - cmdstanpy - INFO - Chain [1] start processing\n"
     ]
    },
    {
     "name": "stdout",
     "output_type": "stream",
     "text": [
      "Evaluación combinación: CPS=0.1, SPS=0.1, SM=multiplicative\n"
     ]
    },
    {
     "name": "stderr",
     "output_type": "stream",
     "text": [
      "18:38:33 - cmdstanpy - INFO - Chain [1] done processing\n"
     ]
    },
    {
     "name": "stdout",
     "output_type": "stream",
     "text": [
      "Evaluación combinación: CPS=0.1, SPS=1.0, SM=additive\n"
     ]
    },
    {
     "name": "stderr",
     "output_type": "stream",
     "text": [
      "18:38:34 - cmdstanpy - INFO - Chain [1] start processing\n",
      "18:38:34 - cmdstanpy - INFO - Chain [1] done processing\n",
      "18:38:35 - cmdstanpy - INFO - Chain [1] start processing\n"
     ]
    },
    {
     "name": "stdout",
     "output_type": "stream",
     "text": [
      "Evaluación combinación: CPS=0.1, SPS=1.0, SM=multiplicative\n"
     ]
    },
    {
     "name": "stderr",
     "output_type": "stream",
     "text": [
      "18:38:35 - cmdstanpy - INFO - Chain [1] done processing\n"
     ]
    },
    {
     "name": "stdout",
     "output_type": "stream",
     "text": [
      "Evaluación combinación: CPS=0.1, SPS=5.0, SM=additive\n"
     ]
    },
    {
     "name": "stderr",
     "output_type": "stream",
     "text": [
      "18:38:36 - cmdstanpy - INFO - Chain [1] start processing\n",
      "18:38:36 - cmdstanpy - INFO - Chain [1] done processing\n"
     ]
    },
    {
     "name": "stdout",
     "output_type": "stream",
     "text": [
      "Evaluación combinación: CPS=0.1, SPS=5.0, SM=multiplicative\n"
     ]
    },
    {
     "name": "stderr",
     "output_type": "stream",
     "text": [
      "18:38:37 - cmdstanpy - INFO - Chain [1] start processing\n",
      "18:38:38 - cmdstanpy - INFO - Chain [1] done processing\n"
     ]
    },
    {
     "name": "stdout",
     "output_type": "stream",
     "text": [
      "Evaluación combinación: CPS=0.1, SPS=10.0, SM=additive\n"
     ]
    },
    {
     "name": "stderr",
     "output_type": "stream",
     "text": [
      "18:38:38 - cmdstanpy - INFO - Chain [1] start processing\n",
      "18:38:39 - cmdstanpy - INFO - Chain [1] done processing\n",
      "18:38:39 - cmdstanpy - INFO - Chain [1] start processing\n"
     ]
    },
    {
     "name": "stdout",
     "output_type": "stream",
     "text": [
      "Evaluación combinación: CPS=0.1, SPS=10.0, SM=multiplicative\n"
     ]
    },
    {
     "name": "stderr",
     "output_type": "stream",
     "text": [
      "18:38:40 - cmdstanpy - INFO - Chain [1] done processing\n"
     ]
    },
    {
     "name": "stdout",
     "output_type": "stream",
     "text": [
      "Evaluación combinación: CPS=0.1, SPS=15.0, SM=additive\n"
     ]
    },
    {
     "name": "stderr",
     "output_type": "stream",
     "text": [
      "18:38:40 - cmdstanpy - INFO - Chain [1] start processing\n",
      "18:38:41 - cmdstanpy - INFO - Chain [1] done processing\n",
      "18:38:41 - cmdstanpy - INFO - Chain [1] start processing\n"
     ]
    },
    {
     "name": "stdout",
     "output_type": "stream",
     "text": [
      "Evaluación combinación: CPS=0.1, SPS=15.0, SM=multiplicative\n"
     ]
    },
    {
     "name": "stderr",
     "output_type": "stream",
     "text": [
      "18:38:43 - cmdstanpy - INFO - Chain [1] done processing\n"
     ]
    },
    {
     "name": "stdout",
     "output_type": "stream",
     "text": [
      "Evaluación combinación: CPS=0.1, SPS=20.0, SM=additive\n"
     ]
    },
    {
     "name": "stderr",
     "output_type": "stream",
     "text": [
      "18:38:43 - cmdstanpy - INFO - Chain [1] start processing\n",
      "18:38:44 - cmdstanpy - INFO - Chain [1] done processing\n",
      "18:38:44 - cmdstanpy - INFO - Chain [1] start processing\n"
     ]
    },
    {
     "name": "stdout",
     "output_type": "stream",
     "text": [
      "Evaluación combinación: CPS=0.1, SPS=20.0, SM=multiplicative\n"
     ]
    },
    {
     "name": "stderr",
     "output_type": "stream",
     "text": [
      "18:38:45 - cmdstanpy - INFO - Chain [1] done processing\n"
     ]
    },
    {
     "name": "stdout",
     "output_type": "stream",
     "text": [
      "Evaluación combinación: CPS=0.15, SPS=0.01, SM=additive\n"
     ]
    },
    {
     "name": "stderr",
     "output_type": "stream",
     "text": [
      "18:38:45 - cmdstanpy - INFO - Chain [1] start processing\n",
      "18:38:46 - cmdstanpy - INFO - Chain [1] done processing\n",
      "18:38:47 - cmdstanpy - INFO - Chain [1] start processing\n"
     ]
    },
    {
     "name": "stdout",
     "output_type": "stream",
     "text": [
      "Evaluación combinación: CPS=0.15, SPS=0.01, SM=multiplicative\n"
     ]
    },
    {
     "name": "stderr",
     "output_type": "stream",
     "text": [
      "18:38:47 - cmdstanpy - INFO - Chain [1] done processing\n",
      "18:38:48 - cmdstanpy - INFO - Chain [1] start processing\n"
     ]
    },
    {
     "name": "stdout",
     "output_type": "stream",
     "text": [
      "Evaluación combinación: CPS=0.15, SPS=0.05, SM=additive\n"
     ]
    },
    {
     "name": "stderr",
     "output_type": "stream",
     "text": [
      "18:38:49 - cmdstanpy - INFO - Chain [1] done processing\n"
     ]
    },
    {
     "name": "stdout",
     "output_type": "stream",
     "text": [
      "Evaluación combinación: CPS=0.15, SPS=0.05, SM=multiplicative\n"
     ]
    },
    {
     "name": "stderr",
     "output_type": "stream",
     "text": [
      "18:38:49 - cmdstanpy - INFO - Chain [1] start processing\n",
      "18:38:50 - cmdstanpy - INFO - Chain [1] done processing\n",
      "18:38:50 - cmdstanpy - INFO - Chain [1] start processing\n"
     ]
    },
    {
     "name": "stdout",
     "output_type": "stream",
     "text": [
      "Evaluación combinación: CPS=0.15, SPS=0.1, SM=additive\n"
     ]
    },
    {
     "name": "stderr",
     "output_type": "stream",
     "text": [
      "18:38:51 - cmdstanpy - INFO - Chain [1] done processing\n"
     ]
    },
    {
     "name": "stdout",
     "output_type": "stream",
     "text": [
      "Evaluación combinación: CPS=0.15, SPS=0.1, SM=multiplicative\n"
     ]
    },
    {
     "name": "stderr",
     "output_type": "stream",
     "text": [
      "18:38:51 - cmdstanpy - INFO - Chain [1] start processing\n",
      "18:38:52 - cmdstanpy - INFO - Chain [1] done processing\n"
     ]
    },
    {
     "name": "stdout",
     "output_type": "stream",
     "text": [
      "Evaluación combinación: CPS=0.15, SPS=1.0, SM=additive\n"
     ]
    },
    {
     "name": "stderr",
     "output_type": "stream",
     "text": [
      "18:38:53 - cmdstanpy - INFO - Chain [1] start processing\n",
      "18:39:21 - cmdstanpy - INFO - Chain [1] done processing\n"
     ]
    },
    {
     "name": "stdout",
     "output_type": "stream",
     "text": [
      "Evaluación combinación: CPS=0.15, SPS=1.0, SM=multiplicative\n"
     ]
    },
    {
     "name": "stderr",
     "output_type": "stream",
     "text": [
      "18:39:22 - cmdstanpy - INFO - Chain [1] start processing\n",
      "18:39:50 - cmdstanpy - INFO - Chain [1] done processing\n",
      "18:39:51 - cmdstanpy - INFO - Chain [1] start processing\n"
     ]
    },
    {
     "name": "stdout",
     "output_type": "stream",
     "text": [
      "Evaluación combinación: CPS=0.15, SPS=5.0, SM=additive\n"
     ]
    },
    {
     "name": "stderr",
     "output_type": "stream",
     "text": [
      "18:40:19 - cmdstanpy - INFO - Chain [1] done processing\n"
     ]
    },
    {
     "name": "stdout",
     "output_type": "stream",
     "text": [
      "Evaluación combinación: CPS=0.15, SPS=5.0, SM=multiplicative\n"
     ]
    },
    {
     "name": "stderr",
     "output_type": "stream",
     "text": [
      "18:40:20 - cmdstanpy - INFO - Chain [1] start processing\n",
      "18:40:48 - cmdstanpy - INFO - Chain [1] done processing\n"
     ]
    },
    {
     "name": "stdout",
     "output_type": "stream",
     "text": [
      "Evaluación combinación: CPS=0.15, SPS=10.0, SM=additive\n"
     ]
    },
    {
     "name": "stderr",
     "output_type": "stream",
     "text": [
      "18:40:48 - cmdstanpy - INFO - Chain [1] start processing\n",
      "18:41:17 - cmdstanpy - INFO - Chain [1] done processing\n",
      "18:41:17 - cmdstanpy - INFO - Chain [1] start processing\n"
     ]
    },
    {
     "name": "stdout",
     "output_type": "stream",
     "text": [
      "Evaluación combinación: CPS=0.15, SPS=10.0, SM=multiplicative\n"
     ]
    },
    {
     "name": "stderr",
     "output_type": "stream",
     "text": [
      "18:41:46 - cmdstanpy - INFO - Chain [1] done processing\n"
     ]
    },
    {
     "name": "stdout",
     "output_type": "stream",
     "text": [
      "Evaluación combinación: CPS=0.15, SPS=15.0, SM=additive\n"
     ]
    },
    {
     "name": "stderr",
     "output_type": "stream",
     "text": [
      "18:41:46 - cmdstanpy - INFO - Chain [1] start processing\n",
      "18:42:14 - cmdstanpy - INFO - Chain [1] done processing\n"
     ]
    },
    {
     "name": "stdout",
     "output_type": "stream",
     "text": [
      "Evaluación combinación: CPS=0.15, SPS=15.0, SM=multiplicative\n"
     ]
    },
    {
     "name": "stderr",
     "output_type": "stream",
     "text": [
      "18:42:14 - cmdstanpy - INFO - Chain [1] start processing\n",
      "18:42:44 - cmdstanpy - INFO - Chain [1] done processing\n",
      "18:42:44 - cmdstanpy - INFO - Chain [1] start processing\n"
     ]
    },
    {
     "name": "stdout",
     "output_type": "stream",
     "text": [
      "Evaluación combinación: CPS=0.15, SPS=20.0, SM=additive\n"
     ]
    },
    {
     "name": "stderr",
     "output_type": "stream",
     "text": [
      "18:43:12 - cmdstanpy - INFO - Chain [1] done processing\n"
     ]
    },
    {
     "name": "stdout",
     "output_type": "stream",
     "text": [
      "Evaluación combinación: CPS=0.15, SPS=20.0, SM=multiplicative\n"
     ]
    },
    {
     "name": "stderr",
     "output_type": "stream",
     "text": [
      "18:43:12 - cmdstanpy - INFO - Chain [1] start processing\n",
      "18:43:41 - cmdstanpy - INFO - Chain [1] done processing\n",
      "18:43:41 - cmdstanpy - INFO - Chain [1] start processing\n"
     ]
    },
    {
     "name": "stdout",
     "output_type": "stream",
     "text": [
      "Evaluación combinación: CPS=0.2, SPS=0.01, SM=additive\n"
     ]
    },
    {
     "name": "stderr",
     "output_type": "stream",
     "text": [
      "18:43:42 - cmdstanpy - INFO - Chain [1] done processing\n"
     ]
    },
    {
     "name": "stdout",
     "output_type": "stream",
     "text": [
      "Evaluación combinación: CPS=0.2, SPS=0.01, SM=multiplicative\n"
     ]
    },
    {
     "name": "stderr",
     "output_type": "stream",
     "text": [
      "18:43:42 - cmdstanpy - INFO - Chain [1] start processing\n",
      "18:43:44 - cmdstanpy - INFO - Chain [1] done processing\n",
      "18:43:44 - cmdstanpy - INFO - Chain [1] start processing\n"
     ]
    },
    {
     "name": "stdout",
     "output_type": "stream",
     "text": [
      "Evaluación combinación: CPS=0.2, SPS=0.05, SM=additive\n"
     ]
    },
    {
     "name": "stderr",
     "output_type": "stream",
     "text": [
      "18:43:45 - cmdstanpy - INFO - Chain [1] done processing\n",
      "18:43:45 - cmdstanpy - INFO - Chain [1] start processing\n"
     ]
    },
    {
     "name": "stdout",
     "output_type": "stream",
     "text": [
      "Evaluación combinación: CPS=0.2, SPS=0.05, SM=multiplicative\n"
     ]
    },
    {
     "name": "stderr",
     "output_type": "stream",
     "text": [
      "18:43:46 - cmdstanpy - INFO - Chain [1] done processing\n"
     ]
    },
    {
     "name": "stdout",
     "output_type": "stream",
     "text": [
      "Evaluación combinación: CPS=0.2, SPS=0.1, SM=additive\n"
     ]
    },
    {
     "name": "stderr",
     "output_type": "stream",
     "text": [
      "18:43:47 - cmdstanpy - INFO - Chain [1] start processing\n",
      "18:44:15 - cmdstanpy - INFO - Chain [1] done processing\n",
      "18:44:15 - cmdstanpy - INFO - Chain [1] start processing\n"
     ]
    },
    {
     "name": "stdout",
     "output_type": "stream",
     "text": [
      "Evaluación combinación: CPS=0.2, SPS=0.1, SM=multiplicative\n"
     ]
    },
    {
     "name": "stderr",
     "output_type": "stream",
     "text": [
      "18:44:45 - cmdstanpy - INFO - Chain [1] done processing\n"
     ]
    },
    {
     "name": "stdout",
     "output_type": "stream",
     "text": [
      "Evaluación combinación: CPS=0.2, SPS=1.0, SM=additive\n"
     ]
    },
    {
     "name": "stderr",
     "output_type": "stream",
     "text": [
      "18:44:45 - cmdstanpy - INFO - Chain [1] start processing\n",
      "18:45:13 - cmdstanpy - INFO - Chain [1] done processing\n"
     ]
    },
    {
     "name": "stdout",
     "output_type": "stream",
     "text": [
      "Evaluación combinación: CPS=0.2, SPS=1.0, SM=multiplicative\n"
     ]
    },
    {
     "name": "stderr",
     "output_type": "stream",
     "text": [
      "18:45:13 - cmdstanpy - INFO - Chain [1] start processing\n",
      "18:45:43 - cmdstanpy - INFO - Chain [1] done processing\n",
      "18:45:43 - cmdstanpy - INFO - Chain [1] start processing\n"
     ]
    },
    {
     "name": "stdout",
     "output_type": "stream",
     "text": [
      "Evaluación combinación: CPS=0.2, SPS=5.0, SM=additive\n"
     ]
    },
    {
     "name": "stderr",
     "output_type": "stream",
     "text": [
      "18:46:11 - cmdstanpy - INFO - Chain [1] done processing\n"
     ]
    },
    {
     "name": "stdout",
     "output_type": "stream",
     "text": [
      "Evaluación combinación: CPS=0.2, SPS=5.0, SM=multiplicative\n"
     ]
    },
    {
     "name": "stderr",
     "output_type": "stream",
     "text": [
      "18:46:11 - cmdstanpy - INFO - Chain [1] start processing\n",
      "18:46:40 - cmdstanpy - INFO - Chain [1] done processing\n"
     ]
    },
    {
     "name": "stdout",
     "output_type": "stream",
     "text": [
      "Evaluación combinación: CPS=0.2, SPS=10.0, SM=additive\n"
     ]
    },
    {
     "name": "stderr",
     "output_type": "stream",
     "text": [
      "18:46:41 - cmdstanpy - INFO - Chain [1] start processing\n",
      "18:47:09 - cmdstanpy - INFO - Chain [1] done processing\n",
      "18:47:09 - cmdstanpy - INFO - Chain [1] start processing\n"
     ]
    },
    {
     "name": "stdout",
     "output_type": "stream",
     "text": [
      "Evaluación combinación: CPS=0.2, SPS=10.0, SM=multiplicative\n"
     ]
    },
    {
     "name": "stderr",
     "output_type": "stream",
     "text": [
      "18:47:38 - cmdstanpy - INFO - Chain [1] done processing\n"
     ]
    },
    {
     "name": "stdout",
     "output_type": "stream",
     "text": [
      "Evaluación combinación: CPS=0.2, SPS=15.0, SM=additive\n"
     ]
    },
    {
     "name": "stderr",
     "output_type": "stream",
     "text": [
      "18:47:38 - cmdstanpy - INFO - Chain [1] start processing\n",
      "18:48:06 - cmdstanpy - INFO - Chain [1] done processing\n"
     ]
    },
    {
     "name": "stdout",
     "output_type": "stream",
     "text": [
      "Evaluación combinación: CPS=0.2, SPS=15.0, SM=multiplicative\n"
     ]
    },
    {
     "name": "stderr",
     "output_type": "stream",
     "text": [
      "18:48:06 - cmdstanpy - INFO - Chain [1] start processing\n",
      "18:48:35 - cmdstanpy - INFO - Chain [1] done processing\n"
     ]
    },
    {
     "name": "stdout",
     "output_type": "stream",
     "text": [
      "Evaluación combinación: CPS=0.2, SPS=20.0, SM=additive\n"
     ]
    },
    {
     "name": "stderr",
     "output_type": "stream",
     "text": [
      "18:48:35 - cmdstanpy - INFO - Chain [1] start processing\n",
      "18:49:03 - cmdstanpy - INFO - Chain [1] done processing\n"
     ]
    },
    {
     "name": "stdout",
     "output_type": "stream",
     "text": [
      "Evaluación combinación: CPS=0.2, SPS=20.0, SM=multiplicative\n"
     ]
    },
    {
     "name": "stderr",
     "output_type": "stream",
     "text": [
      "18:49:04 - cmdstanpy - INFO - Chain [1] start processing\n",
      "18:49:33 - cmdstanpy - INFO - Chain [1] done processing\n"
     ]
    },
    {
     "name": "stdout",
     "output_type": "stream",
     "text": [
      "Procesando: FHV - Other, columna: avg_trip_distance\n",
      "Evaluación combinación: CPS=0.01, SPS=0.01, SM=additive\n"
     ]
    },
    {
     "name": "stderr",
     "output_type": "stream",
     "text": [
      "18:49:33 - cmdstanpy - INFO - Chain [1] start processing\n",
      "18:49:34 - cmdstanpy - INFO - Chain [1] done processing\n"
     ]
    },
    {
     "name": "stdout",
     "output_type": "stream",
     "text": [
      "Evaluación combinación: CPS=0.01, SPS=0.01, SM=multiplicative\n"
     ]
    },
    {
     "name": "stderr",
     "output_type": "stream",
     "text": [
      "18:49:34 - cmdstanpy - INFO - Chain [1] start processing\n",
      "18:49:35 - cmdstanpy - INFO - Chain [1] done processing\n",
      "18:49:35 - cmdstanpy - INFO - Chain [1] start processing\n"
     ]
    },
    {
     "name": "stdout",
     "output_type": "stream",
     "text": [
      "Evaluación combinación: CPS=0.01, SPS=0.05, SM=additive\n"
     ]
    },
    {
     "name": "stderr",
     "output_type": "stream",
     "text": [
      "18:49:35 - cmdstanpy - INFO - Chain [1] done processing\n"
     ]
    },
    {
     "name": "stdout",
     "output_type": "stream",
     "text": [
      "Evaluación combinación: CPS=0.01, SPS=0.05, SM=multiplicative\n"
     ]
    },
    {
     "name": "stderr",
     "output_type": "stream",
     "text": [
      "18:49:36 - cmdstanpy - INFO - Chain [1] start processing\n",
      "18:49:36 - cmdstanpy - INFO - Chain [1] done processing\n",
      "18:49:37 - cmdstanpy - INFO - Chain [1] start processing\n"
     ]
    },
    {
     "name": "stdout",
     "output_type": "stream",
     "text": [
      "Evaluación combinación: CPS=0.01, SPS=0.1, SM=additive\n"
     ]
    },
    {
     "name": "stderr",
     "output_type": "stream",
     "text": [
      "18:49:37 - cmdstanpy - INFO - Chain [1] done processing\n"
     ]
    },
    {
     "name": "stdout",
     "output_type": "stream",
     "text": [
      "Evaluación combinación: CPS=0.01, SPS=0.1, SM=multiplicative\n"
     ]
    },
    {
     "name": "stderr",
     "output_type": "stream",
     "text": [
      "18:49:37 - cmdstanpy - INFO - Chain [1] start processing\n",
      "18:49:38 - cmdstanpy - INFO - Chain [1] done processing\n"
     ]
    },
    {
     "name": "stdout",
     "output_type": "stream",
     "text": [
      "Evaluación combinación: CPS=0.01, SPS=1.0, SM=additive\n"
     ]
    },
    {
     "name": "stderr",
     "output_type": "stream",
     "text": [
      "18:49:38 - cmdstanpy - INFO - Chain [1] start processing\n",
      "18:49:39 - cmdstanpy - INFO - Chain [1] done processing\n",
      "18:49:39 - cmdstanpy - INFO - Chain [1] start processing\n"
     ]
    },
    {
     "name": "stdout",
     "output_type": "stream",
     "text": [
      "Evaluación combinación: CPS=0.01, SPS=1.0, SM=multiplicative\n"
     ]
    },
    {
     "name": "stderr",
     "output_type": "stream",
     "text": [
      "18:49:40 - cmdstanpy - INFO - Chain [1] done processing\n"
     ]
    },
    {
     "name": "stdout",
     "output_type": "stream",
     "text": [
      "Evaluación combinación: CPS=0.01, SPS=5.0, SM=additive\n"
     ]
    },
    {
     "name": "stderr",
     "output_type": "stream",
     "text": [
      "18:49:40 - cmdstanpy - INFO - Chain [1] start processing\n",
      "18:49:41 - cmdstanpy - INFO - Chain [1] done processing\n",
      "18:49:41 - cmdstanpy - INFO - Chain [1] start processing\n"
     ]
    },
    {
     "name": "stdout",
     "output_type": "stream",
     "text": [
      "Evaluación combinación: CPS=0.01, SPS=5.0, SM=multiplicative\n"
     ]
    },
    {
     "name": "stderr",
     "output_type": "stream",
     "text": [
      "18:49:41 - cmdstanpy - INFO - Chain [1] done processing\n"
     ]
    },
    {
     "name": "stdout",
     "output_type": "stream",
     "text": [
      "Evaluación combinación: CPS=0.01, SPS=10.0, SM=additive\n"
     ]
    },
    {
     "name": "stderr",
     "output_type": "stream",
     "text": [
      "18:49:42 - cmdstanpy - INFO - Chain [1] start processing\n",
      "18:49:42 - cmdstanpy - INFO - Chain [1] done processing\n",
      "18:49:42 - cmdstanpy - INFO - Chain [1] start processing\n"
     ]
    },
    {
     "name": "stdout",
     "output_type": "stream",
     "text": [
      "Evaluación combinación: CPS=0.01, SPS=10.0, SM=multiplicative\n"
     ]
    },
    {
     "name": "stderr",
     "output_type": "stream",
     "text": [
      "18:49:43 - cmdstanpy - INFO - Chain [1] done processing\n",
      "18:49:43 - cmdstanpy - INFO - Chain [1] start processing\n"
     ]
    },
    {
     "name": "stdout",
     "output_type": "stream",
     "text": [
      "Evaluación combinación: CPS=0.01, SPS=15.0, SM=additive\n"
     ]
    },
    {
     "name": "stderr",
     "output_type": "stream",
     "text": [
      "18:49:43 - cmdstanpy - INFO - Chain [1] done processing\n",
      "18:49:43 - cmdstanpy - INFO - Chain [1] start processing\n"
     ]
    },
    {
     "name": "stdout",
     "output_type": "stream",
     "text": [
      "Evaluación combinación: CPS=0.01, SPS=15.0, SM=multiplicative\n"
     ]
    },
    {
     "name": "stderr",
     "output_type": "stream",
     "text": [
      "18:49:44 - cmdstanpy - INFO - Chain [1] done processing\n",
      "18:49:44 - cmdstanpy - INFO - Chain [1] start processing\n"
     ]
    },
    {
     "name": "stdout",
     "output_type": "stream",
     "text": [
      "Evaluación combinación: CPS=0.01, SPS=20.0, SM=additive\n"
     ]
    },
    {
     "name": "stderr",
     "output_type": "stream",
     "text": [
      "18:49:44 - cmdstanpy - INFO - Chain [1] done processing\n"
     ]
    },
    {
     "name": "stdout",
     "output_type": "stream",
     "text": [
      "Evaluación combinación: CPS=0.01, SPS=20.0, SM=multiplicative\n"
     ]
    },
    {
     "name": "stderr",
     "output_type": "stream",
     "text": [
      "18:49:45 - cmdstanpy - INFO - Chain [1] start processing\n",
      "18:49:45 - cmdstanpy - INFO - Chain [1] done processing\n",
      "18:49:45 - cmdstanpy - INFO - Chain [1] start processing\n"
     ]
    },
    {
     "name": "stdout",
     "output_type": "stream",
     "text": [
      "Evaluación combinación: CPS=0.05, SPS=0.01, SM=additive\n"
     ]
    },
    {
     "name": "stderr",
     "output_type": "stream",
     "text": [
      "18:49:46 - cmdstanpy - INFO - Chain [1] done processing\n",
      "18:49:46 - cmdstanpy - INFO - Chain [1] start processing\n"
     ]
    },
    {
     "name": "stdout",
     "output_type": "stream",
     "text": [
      "Evaluación combinación: CPS=0.05, SPS=0.01, SM=multiplicative\n"
     ]
    },
    {
     "name": "stderr",
     "output_type": "stream",
     "text": [
      "18:49:46 - cmdstanpy - INFO - Chain [1] done processing\n",
      "18:49:46 - cmdstanpy - INFO - Chain [1] start processing\n"
     ]
    },
    {
     "name": "stdout",
     "output_type": "stream",
     "text": [
      "Evaluación combinación: CPS=0.05, SPS=0.05, SM=additive\n"
     ]
    },
    {
     "name": "stderr",
     "output_type": "stream",
     "text": [
      "18:49:47 - cmdstanpy - INFO - Chain [1] done processing\n",
      "18:49:47 - cmdstanpy - INFO - Chain [1] start processing\n"
     ]
    },
    {
     "name": "stdout",
     "output_type": "stream",
     "text": [
      "Evaluación combinación: CPS=0.05, SPS=0.05, SM=multiplicative\n"
     ]
    },
    {
     "name": "stderr",
     "output_type": "stream",
     "text": [
      "18:49:47 - cmdstanpy - INFO - Chain [1] done processing\n",
      "18:49:48 - cmdstanpy - INFO - Chain [1] start processing\n"
     ]
    },
    {
     "name": "stdout",
     "output_type": "stream",
     "text": [
      "Evaluación combinación: CPS=0.05, SPS=0.1, SM=additive\n"
     ]
    },
    {
     "name": "stderr",
     "output_type": "stream",
     "text": [
      "18:49:48 - cmdstanpy - INFO - Chain [1] done processing\n",
      "18:49:48 - cmdstanpy - INFO - Chain [1] start processing\n"
     ]
    },
    {
     "name": "stdout",
     "output_type": "stream",
     "text": [
      "Evaluación combinación: CPS=0.05, SPS=0.1, SM=multiplicative\n"
     ]
    },
    {
     "name": "stderr",
     "output_type": "stream",
     "text": [
      "18:49:49 - cmdstanpy - INFO - Chain [1] done processing\n",
      "18:49:49 - cmdstanpy - INFO - Chain [1] start processing\n"
     ]
    },
    {
     "name": "stdout",
     "output_type": "stream",
     "text": [
      "Evaluación combinación: CPS=0.05, SPS=1.0, SM=additive\n"
     ]
    },
    {
     "name": "stderr",
     "output_type": "stream",
     "text": [
      "18:49:50 - cmdstanpy - INFO - Chain [1] done processing\n",
      "18:49:50 - cmdstanpy - INFO - Chain [1] start processing\n"
     ]
    },
    {
     "name": "stdout",
     "output_type": "stream",
     "text": [
      "Evaluación combinación: CPS=0.05, SPS=1.0, SM=multiplicative\n"
     ]
    },
    {
     "name": "stderr",
     "output_type": "stream",
     "text": [
      "18:49:51 - cmdstanpy - INFO - Chain [1] done processing\n",
      "18:49:51 - cmdstanpy - INFO - Chain [1] start processing\n"
     ]
    },
    {
     "name": "stdout",
     "output_type": "stream",
     "text": [
      "Evaluación combinación: CPS=0.05, SPS=5.0, SM=additive\n"
     ]
    },
    {
     "name": "stderr",
     "output_type": "stream",
     "text": [
      "18:49:51 - cmdstanpy - INFO - Chain [1] done processing\n",
      "18:49:52 - cmdstanpy - INFO - Chain [1] start processing\n"
     ]
    },
    {
     "name": "stdout",
     "output_type": "stream",
     "text": [
      "Evaluación combinación: CPS=0.05, SPS=5.0, SM=multiplicative\n"
     ]
    },
    {
     "name": "stderr",
     "output_type": "stream",
     "text": [
      "18:49:52 - cmdstanpy - INFO - Chain [1] done processing\n",
      "18:49:52 - cmdstanpy - INFO - Chain [1] start processing\n"
     ]
    },
    {
     "name": "stdout",
     "output_type": "stream",
     "text": [
      "Evaluación combinación: CPS=0.05, SPS=10.0, SM=additive\n"
     ]
    },
    {
     "name": "stderr",
     "output_type": "stream",
     "text": [
      "18:49:53 - cmdstanpy - INFO - Chain [1] done processing\n",
      "18:49:53 - cmdstanpy - INFO - Chain [1] start processing\n"
     ]
    },
    {
     "name": "stdout",
     "output_type": "stream",
     "text": [
      "Evaluación combinación: CPS=0.05, SPS=10.0, SM=multiplicative\n"
     ]
    },
    {
     "name": "stderr",
     "output_type": "stream",
     "text": [
      "18:49:54 - cmdstanpy - INFO - Chain [1] done processing\n"
     ]
    },
    {
     "name": "stdout",
     "output_type": "stream",
     "text": [
      "Evaluación combinación: CPS=0.05, SPS=15.0, SM=additive\n"
     ]
    },
    {
     "name": "stderr",
     "output_type": "stream",
     "text": [
      "18:49:54 - cmdstanpy - INFO - Chain [1] start processing\n",
      "18:49:55 - cmdstanpy - INFO - Chain [1] done processing\n",
      "18:49:55 - cmdstanpy - INFO - Chain [1] start processing\n"
     ]
    },
    {
     "name": "stdout",
     "output_type": "stream",
     "text": [
      "Evaluación combinación: CPS=0.05, SPS=15.0, SM=multiplicative\n"
     ]
    },
    {
     "name": "stderr",
     "output_type": "stream",
     "text": [
      "18:49:55 - cmdstanpy - INFO - Chain [1] done processing\n",
      "18:49:56 - cmdstanpy - INFO - Chain [1] start processing\n"
     ]
    },
    {
     "name": "stdout",
     "output_type": "stream",
     "text": [
      "Evaluación combinación: CPS=0.05, SPS=20.0, SM=additive\n"
     ]
    },
    {
     "name": "stderr",
     "output_type": "stream",
     "text": [
      "18:49:56 - cmdstanpy - INFO - Chain [1] done processing\n",
      "18:49:56 - cmdstanpy - INFO - Chain [1] start processing\n"
     ]
    },
    {
     "name": "stdout",
     "output_type": "stream",
     "text": [
      "Evaluación combinación: CPS=0.05, SPS=20.0, SM=multiplicative\n"
     ]
    },
    {
     "name": "stderr",
     "output_type": "stream",
     "text": [
      "18:49:57 - cmdstanpy - INFO - Chain [1] done processing\n",
      "18:49:57 - cmdstanpy - INFO - Chain [1] start processing\n"
     ]
    },
    {
     "name": "stdout",
     "output_type": "stream",
     "text": [
      "Evaluación combinación: CPS=0.1, SPS=0.01, SM=additive\n"
     ]
    },
    {
     "name": "stderr",
     "output_type": "stream",
     "text": [
      "18:49:58 - cmdstanpy - INFO - Chain [1] done processing\n",
      "18:49:58 - cmdstanpy - INFO - Chain [1] start processing\n"
     ]
    },
    {
     "name": "stdout",
     "output_type": "stream",
     "text": [
      "Evaluación combinación: CPS=0.1, SPS=0.01, SM=multiplicative\n"
     ]
    },
    {
     "name": "stderr",
     "output_type": "stream",
     "text": [
      "18:49:58 - cmdstanpy - INFO - Chain [1] done processing\n",
      "18:49:59 - cmdstanpy - INFO - Chain [1] start processing\n"
     ]
    },
    {
     "name": "stdout",
     "output_type": "stream",
     "text": [
      "Evaluación combinación: CPS=0.1, SPS=0.05, SM=additive\n"
     ]
    },
    {
     "name": "stderr",
     "output_type": "stream",
     "text": [
      "18:49:59 - cmdstanpy - INFO - Chain [1] done processing\n",
      "18:49:59 - cmdstanpy - INFO - Chain [1] start processing\n"
     ]
    },
    {
     "name": "stdout",
     "output_type": "stream",
     "text": [
      "Evaluación combinación: CPS=0.1, SPS=0.05, SM=multiplicative\n"
     ]
    },
    {
     "name": "stderr",
     "output_type": "stream",
     "text": [
      "18:50:00 - cmdstanpy - INFO - Chain [1] done processing\n",
      "18:50:00 - cmdstanpy - INFO - Chain [1] start processing\n"
     ]
    },
    {
     "name": "stdout",
     "output_type": "stream",
     "text": [
      "Evaluación combinación: CPS=0.1, SPS=0.1, SM=additive\n"
     ]
    },
    {
     "name": "stderr",
     "output_type": "stream",
     "text": [
      "18:50:01 - cmdstanpy - INFO - Chain [1] done processing\n",
      "18:50:01 - cmdstanpy - INFO - Chain [1] start processing\n"
     ]
    },
    {
     "name": "stdout",
     "output_type": "stream",
     "text": [
      "Evaluación combinación: CPS=0.1, SPS=0.1, SM=multiplicative\n"
     ]
    },
    {
     "name": "stderr",
     "output_type": "stream",
     "text": [
      "18:50:02 - cmdstanpy - INFO - Chain [1] done processing\n",
      "18:50:02 - cmdstanpy - INFO - Chain [1] start processing\n"
     ]
    },
    {
     "name": "stdout",
     "output_type": "stream",
     "text": [
      "Evaluación combinación: CPS=0.1, SPS=1.0, SM=additive\n"
     ]
    },
    {
     "name": "stderr",
     "output_type": "stream",
     "text": [
      "18:50:03 - cmdstanpy - INFO - Chain [1] done processing\n",
      "18:50:03 - cmdstanpy - INFO - Chain [1] start processing\n"
     ]
    },
    {
     "name": "stdout",
     "output_type": "stream",
     "text": [
      "Evaluación combinación: CPS=0.1, SPS=1.0, SM=multiplicative\n"
     ]
    },
    {
     "name": "stderr",
     "output_type": "stream",
     "text": [
      "18:50:03 - cmdstanpy - INFO - Chain [1] done processing\n",
      "18:50:04 - cmdstanpy - INFO - Chain [1] start processing\n"
     ]
    },
    {
     "name": "stdout",
     "output_type": "stream",
     "text": [
      "Evaluación combinación: CPS=0.1, SPS=5.0, SM=additive\n"
     ]
    },
    {
     "name": "stderr",
     "output_type": "stream",
     "text": [
      "18:50:04 - cmdstanpy - INFO - Chain [1] done processing\n",
      "18:50:04 - cmdstanpy - INFO - Chain [1] start processing\n"
     ]
    },
    {
     "name": "stdout",
     "output_type": "stream",
     "text": [
      "Evaluación combinación: CPS=0.1, SPS=5.0, SM=multiplicative\n"
     ]
    },
    {
     "name": "stderr",
     "output_type": "stream",
     "text": [
      "18:50:05 - cmdstanpy - INFO - Chain [1] done processing\n",
      "18:50:05 - cmdstanpy - INFO - Chain [1] start processing\n"
     ]
    },
    {
     "name": "stdout",
     "output_type": "stream",
     "text": [
      "Evaluación combinación: CPS=0.1, SPS=10.0, SM=additive\n"
     ]
    },
    {
     "name": "stderr",
     "output_type": "stream",
     "text": [
      "18:50:06 - cmdstanpy - INFO - Chain [1] done processing\n",
      "18:50:06 - cmdstanpy - INFO - Chain [1] start processing\n"
     ]
    },
    {
     "name": "stdout",
     "output_type": "stream",
     "text": [
      "Evaluación combinación: CPS=0.1, SPS=10.0, SM=multiplicative\n"
     ]
    },
    {
     "name": "stderr",
     "output_type": "stream",
     "text": [
      "18:50:07 - cmdstanpy - INFO - Chain [1] done processing\n",
      "18:50:07 - cmdstanpy - INFO - Chain [1] start processing\n"
     ]
    },
    {
     "name": "stdout",
     "output_type": "stream",
     "text": [
      "Evaluación combinación: CPS=0.1, SPS=15.0, SM=additive\n"
     ]
    },
    {
     "name": "stderr",
     "output_type": "stream",
     "text": [
      "18:50:08 - cmdstanpy - INFO - Chain [1] done processing\n",
      "18:50:08 - cmdstanpy - INFO - Chain [1] start processing\n"
     ]
    },
    {
     "name": "stdout",
     "output_type": "stream",
     "text": [
      "Evaluación combinación: CPS=0.1, SPS=15.0, SM=multiplicative\n"
     ]
    },
    {
     "name": "stderr",
     "output_type": "stream",
     "text": [
      "18:50:09 - cmdstanpy - INFO - Chain [1] done processing\n",
      "18:50:09 - cmdstanpy - INFO - Chain [1] start processing\n"
     ]
    },
    {
     "name": "stdout",
     "output_type": "stream",
     "text": [
      "Evaluación combinación: CPS=0.1, SPS=20.0, SM=additive\n"
     ]
    },
    {
     "name": "stderr",
     "output_type": "stream",
     "text": [
      "18:50:10 - cmdstanpy - INFO - Chain [1] done processing\n",
      "18:50:10 - cmdstanpy - INFO - Chain [1] start processing\n"
     ]
    },
    {
     "name": "stdout",
     "output_type": "stream",
     "text": [
      "Evaluación combinación: CPS=0.1, SPS=20.0, SM=multiplicative\n"
     ]
    },
    {
     "name": "stderr",
     "output_type": "stream",
     "text": [
      "18:50:11 - cmdstanpy - INFO - Chain [1] done processing\n"
     ]
    },
    {
     "name": "stdout",
     "output_type": "stream",
     "text": [
      "Evaluación combinación: CPS=0.15, SPS=0.01, SM=additive\n"
     ]
    },
    {
     "name": "stderr",
     "output_type": "stream",
     "text": [
      "18:50:11 - cmdstanpy - INFO - Chain [1] start processing\n",
      "18:50:11 - cmdstanpy - INFO - Chain [1] done processing\n"
     ]
    },
    {
     "name": "stdout",
     "output_type": "stream",
     "text": [
      "Evaluación combinación: CPS=0.15, SPS=0.01, SM=multiplicative\n"
     ]
    },
    {
     "name": "stderr",
     "output_type": "stream",
     "text": [
      "18:50:12 - cmdstanpy - INFO - Chain [1] start processing\n",
      "18:50:13 - cmdstanpy - INFO - Chain [1] done processing\n",
      "18:50:13 - cmdstanpy - INFO - Chain [1] start processing\n"
     ]
    },
    {
     "name": "stdout",
     "output_type": "stream",
     "text": [
      "Evaluación combinación: CPS=0.15, SPS=0.05, SM=additive\n"
     ]
    },
    {
     "name": "stderr",
     "output_type": "stream",
     "text": [
      "18:50:13 - cmdstanpy - INFO - Chain [1] done processing\n",
      "18:50:14 - cmdstanpy - INFO - Chain [1] start processing\n"
     ]
    },
    {
     "name": "stdout",
     "output_type": "stream",
     "text": [
      "Evaluación combinación: CPS=0.15, SPS=0.05, SM=multiplicative\n"
     ]
    },
    {
     "name": "stderr",
     "output_type": "stream",
     "text": [
      "18:50:14 - cmdstanpy - INFO - Chain [1] done processing\n",
      "18:50:15 - cmdstanpy - INFO - Chain [1] start processing\n"
     ]
    },
    {
     "name": "stdout",
     "output_type": "stream",
     "text": [
      "Evaluación combinación: CPS=0.15, SPS=0.1, SM=additive\n"
     ]
    },
    {
     "name": "stderr",
     "output_type": "stream",
     "text": [
      "18:50:15 - cmdstanpy - INFO - Chain [1] done processing\n",
      "18:50:15 - cmdstanpy - INFO - Chain [1] start processing\n"
     ]
    },
    {
     "name": "stdout",
     "output_type": "stream",
     "text": [
      "Evaluación combinación: CPS=0.15, SPS=0.1, SM=multiplicative\n"
     ]
    },
    {
     "name": "stderr",
     "output_type": "stream",
     "text": [
      "18:50:16 - cmdstanpy - INFO - Chain [1] done processing\n",
      "18:50:16 - cmdstanpy - INFO - Chain [1] start processing\n"
     ]
    },
    {
     "name": "stdout",
     "output_type": "stream",
     "text": [
      "Evaluación combinación: CPS=0.15, SPS=1.0, SM=additive\n"
     ]
    },
    {
     "name": "stderr",
     "output_type": "stream",
     "text": [
      "18:50:17 - cmdstanpy - INFO - Chain [1] done processing\n",
      "18:50:17 - cmdstanpy - INFO - Chain [1] start processing\n"
     ]
    },
    {
     "name": "stdout",
     "output_type": "stream",
     "text": [
      "Evaluación combinación: CPS=0.15, SPS=1.0, SM=multiplicative\n"
     ]
    },
    {
     "name": "stderr",
     "output_type": "stream",
     "text": [
      "18:50:18 - cmdstanpy - INFO - Chain [1] done processing\n"
     ]
    },
    {
     "name": "stdout",
     "output_type": "stream",
     "text": [
      "Evaluación combinación: CPS=0.15, SPS=5.0, SM=additive\n"
     ]
    },
    {
     "name": "stderr",
     "output_type": "stream",
     "text": [
      "18:50:18 - cmdstanpy - INFO - Chain [1] start processing\n",
      "18:50:19 - cmdstanpy - INFO - Chain [1] done processing\n"
     ]
    },
    {
     "name": "stdout",
     "output_type": "stream",
     "text": [
      "Evaluación combinación: CPS=0.15, SPS=5.0, SM=multiplicative\n"
     ]
    },
    {
     "name": "stderr",
     "output_type": "stream",
     "text": [
      "18:50:19 - cmdstanpy - INFO - Chain [1] start processing\n",
      "18:50:20 - cmdstanpy - INFO - Chain [1] done processing\n",
      "18:50:20 - cmdstanpy - INFO - Chain [1] start processing\n"
     ]
    },
    {
     "name": "stdout",
     "output_type": "stream",
     "text": [
      "Evaluación combinación: CPS=0.15, SPS=10.0, SM=additive\n"
     ]
    },
    {
     "name": "stderr",
     "output_type": "stream",
     "text": [
      "18:50:21 - cmdstanpy - INFO - Chain [1] done processing\n",
      "18:50:21 - cmdstanpy - INFO - Chain [1] start processing\n"
     ]
    },
    {
     "name": "stdout",
     "output_type": "stream",
     "text": [
      "Evaluación combinación: CPS=0.15, SPS=10.0, SM=multiplicative\n"
     ]
    },
    {
     "name": "stderr",
     "output_type": "stream",
     "text": [
      "18:50:22 - cmdstanpy - INFO - Chain [1] done processing\n",
      "18:50:22 - cmdstanpy - INFO - Chain [1] start processing\n"
     ]
    },
    {
     "name": "stdout",
     "output_type": "stream",
     "text": [
      "Evaluación combinación: CPS=0.15, SPS=15.0, SM=additive\n"
     ]
    },
    {
     "name": "stderr",
     "output_type": "stream",
     "text": [
      "18:50:23 - cmdstanpy - INFO - Chain [1] done processing\n",
      "18:50:23 - cmdstanpy - INFO - Chain [1] start processing\n"
     ]
    },
    {
     "name": "stdout",
     "output_type": "stream",
     "text": [
      "Evaluación combinación: CPS=0.15, SPS=15.0, SM=multiplicative\n"
     ]
    },
    {
     "name": "stderr",
     "output_type": "stream",
     "text": [
      "18:50:24 - cmdstanpy - INFO - Chain [1] done processing\n",
      "18:50:24 - cmdstanpy - INFO - Chain [1] start processing\n"
     ]
    },
    {
     "name": "stdout",
     "output_type": "stream",
     "text": [
      "Evaluación combinación: CPS=0.15, SPS=20.0, SM=additive\n"
     ]
    },
    {
     "name": "stderr",
     "output_type": "stream",
     "text": [
      "18:50:25 - cmdstanpy - INFO - Chain [1] done processing\n",
      "18:50:25 - cmdstanpy - INFO - Chain [1] start processing\n"
     ]
    },
    {
     "name": "stdout",
     "output_type": "stream",
     "text": [
      "Evaluación combinación: CPS=0.15, SPS=20.0, SM=multiplicative\n"
     ]
    },
    {
     "name": "stderr",
     "output_type": "stream",
     "text": [
      "18:50:26 - cmdstanpy - INFO - Chain [1] done processing\n",
      "18:50:26 - cmdstanpy - INFO - Chain [1] start processing\n"
     ]
    },
    {
     "name": "stdout",
     "output_type": "stream",
     "text": [
      "Evaluación combinación: CPS=0.2, SPS=0.01, SM=additive\n"
     ]
    },
    {
     "name": "stderr",
     "output_type": "stream",
     "text": [
      "18:50:26 - cmdstanpy - INFO - Chain [1] done processing\n",
      "18:50:27 - cmdstanpy - INFO - Chain [1] start processing\n"
     ]
    },
    {
     "name": "stdout",
     "output_type": "stream",
     "text": [
      "Evaluación combinación: CPS=0.2, SPS=0.01, SM=multiplicative\n"
     ]
    },
    {
     "name": "stderr",
     "output_type": "stream",
     "text": [
      "18:50:27 - cmdstanpy - INFO - Chain [1] done processing\n",
      "18:50:27 - cmdstanpy - INFO - Chain [1] start processing\n"
     ]
    },
    {
     "name": "stdout",
     "output_type": "stream",
     "text": [
      "Evaluación combinación: CPS=0.2, SPS=0.05, SM=additive\n"
     ]
    },
    {
     "name": "stderr",
     "output_type": "stream",
     "text": [
      "18:50:28 - cmdstanpy - INFO - Chain [1] done processing\n",
      "18:50:28 - cmdstanpy - INFO - Chain [1] start processing\n"
     ]
    },
    {
     "name": "stdout",
     "output_type": "stream",
     "text": [
      "Evaluación combinación: CPS=0.2, SPS=0.05, SM=multiplicative\n"
     ]
    },
    {
     "name": "stderr",
     "output_type": "stream",
     "text": [
      "18:50:29 - cmdstanpy - INFO - Chain [1] done processing\n"
     ]
    },
    {
     "name": "stdout",
     "output_type": "stream",
     "text": [
      "Evaluación combinación: CPS=0.2, SPS=0.1, SM=additive\n"
     ]
    },
    {
     "name": "stderr",
     "output_type": "stream",
     "text": [
      "18:50:29 - cmdstanpy - INFO - Chain [1] start processing\n",
      "18:50:30 - cmdstanpy - INFO - Chain [1] done processing\n"
     ]
    },
    {
     "name": "stdout",
     "output_type": "stream",
     "text": [
      "Evaluación combinación: CPS=0.2, SPS=0.1, SM=multiplicative\n"
     ]
    },
    {
     "name": "stderr",
     "output_type": "stream",
     "text": [
      "18:50:30 - cmdstanpy - INFO - Chain [1] start processing\n",
      "18:50:31 - cmdstanpy - INFO - Chain [1] done processing\n",
      "18:50:31 - cmdstanpy - INFO - Chain [1] start processing\n"
     ]
    },
    {
     "name": "stdout",
     "output_type": "stream",
     "text": [
      "Evaluación combinación: CPS=0.2, SPS=1.0, SM=additive\n"
     ]
    },
    {
     "name": "stderr",
     "output_type": "stream",
     "text": [
      "18:50:32 - cmdstanpy - INFO - Chain [1] done processing\n",
      "18:50:32 - cmdstanpy - INFO - Chain [1] start processing\n"
     ]
    },
    {
     "name": "stdout",
     "output_type": "stream",
     "text": [
      "Evaluación combinación: CPS=0.2, SPS=1.0, SM=multiplicative\n"
     ]
    },
    {
     "name": "stderr",
     "output_type": "stream",
     "text": [
      "18:50:33 - cmdstanpy - INFO - Chain [1] done processing\n",
      "18:50:33 - cmdstanpy - INFO - Chain [1] start processing\n"
     ]
    },
    {
     "name": "stdout",
     "output_type": "stream",
     "text": [
      "Evaluación combinación: CPS=0.2, SPS=5.0, SM=additive\n"
     ]
    },
    {
     "name": "stderr",
     "output_type": "stream",
     "text": [
      "18:51:01 - cmdstanpy - INFO - Chain [1] done processing\n",
      "18:51:01 - cmdstanpy - INFO - Chain [1] start processing\n"
     ]
    },
    {
     "name": "stdout",
     "output_type": "stream",
     "text": [
      "Evaluación combinación: CPS=0.2, SPS=5.0, SM=multiplicative\n"
     ]
    },
    {
     "name": "stderr",
     "output_type": "stream",
     "text": [
      "18:51:02 - cmdstanpy - INFO - Chain [1] done processing\n",
      "18:51:02 - cmdstanpy - INFO - Chain [1] start processing\n"
     ]
    },
    {
     "name": "stdout",
     "output_type": "stream",
     "text": [
      "Evaluación combinación: CPS=0.2, SPS=10.0, SM=additive\n"
     ]
    },
    {
     "name": "stderr",
     "output_type": "stream",
     "text": [
      "18:51:29 - cmdstanpy - INFO - Chain [1] done processing\n",
      "18:51:30 - cmdstanpy - INFO - Chain [1] start processing\n"
     ]
    },
    {
     "name": "stdout",
     "output_type": "stream",
     "text": [
      "Evaluación combinación: CPS=0.2, SPS=10.0, SM=multiplicative\n"
     ]
    },
    {
     "name": "stderr",
     "output_type": "stream",
     "text": [
      "18:51:31 - cmdstanpy - INFO - Chain [1] done processing\n",
      "18:51:31 - cmdstanpy - INFO - Chain [1] start processing\n"
     ]
    },
    {
     "name": "stdout",
     "output_type": "stream",
     "text": [
      "Evaluación combinación: CPS=0.2, SPS=15.0, SM=additive\n"
     ]
    },
    {
     "name": "stderr",
     "output_type": "stream",
     "text": [
      "18:52:00 - cmdstanpy - INFO - Chain [1] done processing\n",
      "18:52:00 - cmdstanpy - INFO - Chain [1] start processing\n"
     ]
    },
    {
     "name": "stdout",
     "output_type": "stream",
     "text": [
      "Evaluación combinación: CPS=0.2, SPS=15.0, SM=multiplicative\n"
     ]
    },
    {
     "name": "stderr",
     "output_type": "stream",
     "text": [
      "18:52:01 - cmdstanpy - INFO - Chain [1] done processing\n",
      "18:52:01 - cmdstanpy - INFO - Chain [1] start processing\n"
     ]
    },
    {
     "name": "stdout",
     "output_type": "stream",
     "text": [
      "Evaluación combinación: CPS=0.2, SPS=20.0, SM=additive\n"
     ]
    },
    {
     "name": "stderr",
     "output_type": "stream",
     "text": [
      "18:52:29 - cmdstanpy - INFO - Chain [1] done processing\n",
      "18:52:29 - cmdstanpy - INFO - Chain [1] start processing\n"
     ]
    },
    {
     "name": "stdout",
     "output_type": "stream",
     "text": [
      "Evaluación combinación: CPS=0.2, SPS=20.0, SM=multiplicative\n"
     ]
    },
    {
     "name": "stderr",
     "output_type": "stream",
     "text": [
      "18:52:30 - cmdstanpy - INFO - Chain [1] done processing\n"
     ]
    },
    {
     "name": "stdout",
     "output_type": "stream",
     "text": [
      "Procesando: Total Mercado, columna: avg_trip_distance\n",
      "Evaluación combinación: CPS=0.01, SPS=0.01, SM=additive\n"
     ]
    },
    {
     "name": "stderr",
     "output_type": "stream",
     "text": [
      "18:52:30 - cmdstanpy - INFO - Chain [1] start processing\n",
      "18:52:30 - cmdstanpy - INFO - Chain [1] done processing\n",
      "18:52:30 - cmdstanpy - INFO - Chain [1] start processing\n"
     ]
    },
    {
     "name": "stdout",
     "output_type": "stream",
     "text": [
      "Evaluación combinación: CPS=0.01, SPS=0.01, SM=multiplicative\n"
     ]
    },
    {
     "name": "stderr",
     "output_type": "stream",
     "text": [
      "18:52:31 - cmdstanpy - INFO - Chain [1] done processing\n",
      "18:52:31 - cmdstanpy - INFO - Chain [1] start processing\n"
     ]
    },
    {
     "name": "stdout",
     "output_type": "stream",
     "text": [
      "Evaluación combinación: CPS=0.01, SPS=0.05, SM=additive\n"
     ]
    },
    {
     "name": "stderr",
     "output_type": "stream",
     "text": [
      "18:52:31 - cmdstanpy - INFO - Chain [1] done processing\n"
     ]
    },
    {
     "name": "stdout",
     "output_type": "stream",
     "text": [
      "Evaluación combinación: CPS=0.01, SPS=0.05, SM=multiplicative\n"
     ]
    },
    {
     "name": "stderr",
     "output_type": "stream",
     "text": [
      "18:52:32 - cmdstanpy - INFO - Chain [1] start processing\n",
      "18:52:32 - cmdstanpy - INFO - Chain [1] done processing\n",
      "18:52:32 - cmdstanpy - INFO - Chain [1] start processing\n"
     ]
    },
    {
     "name": "stdout",
     "output_type": "stream",
     "text": [
      "Evaluación combinación: CPS=0.01, SPS=0.1, SM=additive\n"
     ]
    },
    {
     "name": "stderr",
     "output_type": "stream",
     "text": [
      "18:52:33 - cmdstanpy - INFO - Chain [1] done processing\n"
     ]
    },
    {
     "name": "stdout",
     "output_type": "stream",
     "text": [
      "Evaluación combinación: CPS=0.01, SPS=0.1, SM=multiplicative\n"
     ]
    },
    {
     "name": "stderr",
     "output_type": "stream",
     "text": [
      "18:52:33 - cmdstanpy - INFO - Chain [1] start processing\n",
      "18:52:33 - cmdstanpy - INFO - Chain [1] done processing\n"
     ]
    },
    {
     "name": "stdout",
     "output_type": "stream",
     "text": [
      "Evaluación combinación: CPS=0.01, SPS=1.0, SM=additive\n"
     ]
    },
    {
     "name": "stderr",
     "output_type": "stream",
     "text": [
      "18:52:34 - cmdstanpy - INFO - Chain [1] start processing\n",
      "18:52:34 - cmdstanpy - INFO - Chain [1] done processing\n"
     ]
    },
    {
     "name": "stdout",
     "output_type": "stream",
     "text": [
      "Evaluación combinación: CPS=0.01, SPS=1.0, SM=multiplicative\n"
     ]
    },
    {
     "name": "stderr",
     "output_type": "stream",
     "text": [
      "18:52:34 - cmdstanpy - INFO - Chain [1] start processing\n",
      "18:52:35 - cmdstanpy - INFO - Chain [1] done processing\n"
     ]
    },
    {
     "name": "stdout",
     "output_type": "stream",
     "text": [
      "Evaluación combinación: CPS=0.01, SPS=5.0, SM=additive\n"
     ]
    },
    {
     "name": "stderr",
     "output_type": "stream",
     "text": [
      "18:52:35 - cmdstanpy - INFO - Chain [1] start processing\n",
      "18:52:36 - cmdstanpy - INFO - Chain [1] done processing\n"
     ]
    },
    {
     "name": "stdout",
     "output_type": "stream",
     "text": [
      "Evaluación combinación: CPS=0.01, SPS=5.0, SM=multiplicative\n"
     ]
    },
    {
     "name": "stderr",
     "output_type": "stream",
     "text": [
      "18:52:36 - cmdstanpy - INFO - Chain [1] start processing\n",
      "18:52:36 - cmdstanpy - INFO - Chain [1] done processing\n"
     ]
    },
    {
     "name": "stdout",
     "output_type": "stream",
     "text": [
      "Evaluación combinación: CPS=0.01, SPS=10.0, SM=additive\n"
     ]
    },
    {
     "name": "stderr",
     "output_type": "stream",
     "text": [
      "18:52:37 - cmdstanpy - INFO - Chain [1] start processing\n",
      "18:52:37 - cmdstanpy - INFO - Chain [1] done processing\n"
     ]
    },
    {
     "name": "stdout",
     "output_type": "stream",
     "text": [
      "Evaluación combinación: CPS=0.01, SPS=10.0, SM=multiplicative\n"
     ]
    },
    {
     "name": "stderr",
     "output_type": "stream",
     "text": [
      "18:52:37 - cmdstanpy - INFO - Chain [1] start processing\n",
      "18:52:38 - cmdstanpy - INFO - Chain [1] done processing\n"
     ]
    },
    {
     "name": "stdout",
     "output_type": "stream",
     "text": [
      "Evaluación combinación: CPS=0.01, SPS=15.0, SM=additive\n"
     ]
    },
    {
     "name": "stderr",
     "output_type": "stream",
     "text": [
      "18:52:38 - cmdstanpy - INFO - Chain [1] start processing\n",
      "18:52:39 - cmdstanpy - INFO - Chain [1] done processing\n",
      "18:52:39 - cmdstanpy - INFO - Chain [1] start processing\n"
     ]
    },
    {
     "name": "stdout",
     "output_type": "stream",
     "text": [
      "Evaluación combinación: CPS=0.01, SPS=15.0, SM=multiplicative\n"
     ]
    },
    {
     "name": "stderr",
     "output_type": "stream",
     "text": [
      "18:52:39 - cmdstanpy - INFO - Chain [1] done processing\n",
      "18:52:40 - cmdstanpy - INFO - Chain [1] start processing\n"
     ]
    },
    {
     "name": "stdout",
     "output_type": "stream",
     "text": [
      "Evaluación combinación: CPS=0.01, SPS=20.0, SM=additive\n"
     ]
    },
    {
     "name": "stderr",
     "output_type": "stream",
     "text": [
      "18:52:40 - cmdstanpy - INFO - Chain [1] done processing\n",
      "18:52:40 - cmdstanpy - INFO - Chain [1] start processing\n"
     ]
    },
    {
     "name": "stdout",
     "output_type": "stream",
     "text": [
      "Evaluación combinación: CPS=0.01, SPS=20.0, SM=multiplicative\n"
     ]
    },
    {
     "name": "stderr",
     "output_type": "stream",
     "text": [
      "18:52:41 - cmdstanpy - INFO - Chain [1] done processing\n",
      "18:52:41 - cmdstanpy - INFO - Chain [1] start processing\n"
     ]
    },
    {
     "name": "stdout",
     "output_type": "stream",
     "text": [
      "Evaluación combinación: CPS=0.05, SPS=0.01, SM=additive\n"
     ]
    },
    {
     "name": "stderr",
     "output_type": "stream",
     "text": [
      "18:52:41 - cmdstanpy - INFO - Chain [1] done processing\n",
      "18:52:41 - cmdstanpy - INFO - Chain [1] start processing\n"
     ]
    },
    {
     "name": "stdout",
     "output_type": "stream",
     "text": [
      "Evaluación combinación: CPS=0.05, SPS=0.01, SM=multiplicative\n"
     ]
    },
    {
     "name": "stderr",
     "output_type": "stream",
     "text": [
      "18:52:42 - cmdstanpy - INFO - Chain [1] done processing\n"
     ]
    },
    {
     "name": "stdout",
     "output_type": "stream",
     "text": [
      "Evaluación combinación: CPS=0.05, SPS=0.05, SM=additive\n"
     ]
    },
    {
     "name": "stderr",
     "output_type": "stream",
     "text": [
      "18:52:42 - cmdstanpy - INFO - Chain [1] start processing\n",
      "18:52:43 - cmdstanpy - INFO - Chain [1] done processing\n",
      "18:52:43 - cmdstanpy - INFO - Chain [1] start processing\n"
     ]
    },
    {
     "name": "stdout",
     "output_type": "stream",
     "text": [
      "Evaluación combinación: CPS=0.05, SPS=0.05, SM=multiplicative\n"
     ]
    },
    {
     "name": "stderr",
     "output_type": "stream",
     "text": [
      "18:52:43 - cmdstanpy - INFO - Chain [1] done processing\n",
      "18:52:44 - cmdstanpy - INFO - Chain [1] start processing\n"
     ]
    },
    {
     "name": "stdout",
     "output_type": "stream",
     "text": [
      "Evaluación combinación: CPS=0.05, SPS=0.1, SM=additive\n"
     ]
    },
    {
     "name": "stderr",
     "output_type": "stream",
     "text": [
      "18:52:44 - cmdstanpy - INFO - Chain [1] done processing\n",
      "18:52:44 - cmdstanpy - INFO - Chain [1] start processing\n"
     ]
    },
    {
     "name": "stdout",
     "output_type": "stream",
     "text": [
      "Evaluación combinación: CPS=0.05, SPS=0.1, SM=multiplicative\n"
     ]
    },
    {
     "name": "stderr",
     "output_type": "stream",
     "text": [
      "18:52:45 - cmdstanpy - INFO - Chain [1] done processing\n",
      "18:52:45 - cmdstanpy - INFO - Chain [1] start processing\n"
     ]
    },
    {
     "name": "stdout",
     "output_type": "stream",
     "text": [
      "Evaluación combinación: CPS=0.05, SPS=1.0, SM=additive\n"
     ]
    },
    {
     "name": "stderr",
     "output_type": "stream",
     "text": [
      "18:53:12 - cmdstanpy - INFO - Chain [1] done processing\n"
     ]
    },
    {
     "name": "stdout",
     "output_type": "stream",
     "text": [
      "Evaluación combinación: CPS=0.05, SPS=1.0, SM=multiplicative\n"
     ]
    },
    {
     "name": "stderr",
     "output_type": "stream",
     "text": [
      "18:53:13 - cmdstanpy - INFO - Chain [1] start processing\n",
      "18:53:14 - cmdstanpy - INFO - Chain [1] done processing\n",
      "18:53:14 - cmdstanpy - INFO - Chain [1] start processing\n"
     ]
    },
    {
     "name": "stdout",
     "output_type": "stream",
     "text": [
      "Evaluación combinación: CPS=0.05, SPS=5.0, SM=additive\n"
     ]
    },
    {
     "name": "stderr",
     "output_type": "stream",
     "text": [
      "18:53:42 - cmdstanpy - INFO - Chain [1] done processing\n"
     ]
    },
    {
     "name": "stdout",
     "output_type": "stream",
     "text": [
      "Evaluación combinación: CPS=0.05, SPS=5.0, SM=multiplicative\n"
     ]
    },
    {
     "name": "stderr",
     "output_type": "stream",
     "text": [
      "18:53:42 - cmdstanpy - INFO - Chain [1] start processing\n",
      "18:53:43 - cmdstanpy - INFO - Chain [1] done processing\n",
      "18:53:43 - cmdstanpy - INFO - Chain [1] start processing\n"
     ]
    },
    {
     "name": "stdout",
     "output_type": "stream",
     "text": [
      "Evaluación combinación: CPS=0.05, SPS=10.0, SM=additive\n"
     ]
    },
    {
     "name": "stderr",
     "output_type": "stream",
     "text": [
      "18:53:44 - cmdstanpy - INFO - Chain [1] done processing\n",
      "18:53:44 - cmdstanpy - INFO - Chain [1] start processing\n"
     ]
    },
    {
     "name": "stdout",
     "output_type": "stream",
     "text": [
      "Evaluación combinación: CPS=0.05, SPS=10.0, SM=multiplicative\n"
     ]
    },
    {
     "name": "stderr",
     "output_type": "stream",
     "text": [
      "18:53:44 - cmdstanpy - INFO - Chain [1] done processing\n",
      "18:53:45 - cmdstanpy - INFO - Chain [1] start processing\n"
     ]
    },
    {
     "name": "stdout",
     "output_type": "stream",
     "text": [
      "Evaluación combinación: CPS=0.05, SPS=15.0, SM=additive\n"
     ]
    },
    {
     "name": "stderr",
     "output_type": "stream",
     "text": [
      "18:54:13 - cmdstanpy - INFO - Chain [1] done processing\n",
      "18:54:13 - cmdstanpy - INFO - Chain [1] start processing\n"
     ]
    },
    {
     "name": "stdout",
     "output_type": "stream",
     "text": [
      "Evaluación combinación: CPS=0.05, SPS=15.0, SM=multiplicative\n"
     ]
    },
    {
     "name": "stderr",
     "output_type": "stream",
     "text": [
      "18:54:43 - cmdstanpy - INFO - Chain [1] done processing\n",
      "18:54:43 - cmdstanpy - INFO - Chain [1] start processing\n"
     ]
    },
    {
     "name": "stdout",
     "output_type": "stream",
     "text": [
      "Evaluación combinación: CPS=0.05, SPS=20.0, SM=additive\n"
     ]
    },
    {
     "name": "stderr",
     "output_type": "stream",
     "text": [
      "18:55:11 - cmdstanpy - INFO - Chain [1] done processing\n",
      "18:55:12 - cmdstanpy - INFO - Chain [1] start processing\n"
     ]
    },
    {
     "name": "stdout",
     "output_type": "stream",
     "text": [
      "Evaluación combinación: CPS=0.05, SPS=20.0, SM=multiplicative\n"
     ]
    },
    {
     "name": "stderr",
     "output_type": "stream",
     "text": [
      "18:55:12 - cmdstanpy - INFO - Chain [1] done processing\n",
      "18:55:12 - cmdstanpy - INFO - Chain [1] start processing\n"
     ]
    },
    {
     "name": "stdout",
     "output_type": "stream",
     "text": [
      "Evaluación combinación: CPS=0.1, SPS=0.01, SM=additive\n"
     ]
    },
    {
     "name": "stderr",
     "output_type": "stream",
     "text": [
      "18:55:13 - cmdstanpy - INFO - Chain [1] done processing\n",
      "18:55:13 - cmdstanpy - INFO - Chain [1] start processing\n"
     ]
    },
    {
     "name": "stdout",
     "output_type": "stream",
     "text": [
      "Evaluación combinación: CPS=0.1, SPS=0.01, SM=multiplicative\n"
     ]
    },
    {
     "name": "stderr",
     "output_type": "stream",
     "text": [
      "18:55:14 - cmdstanpy - INFO - Chain [1] done processing\n",
      "18:55:14 - cmdstanpy - INFO - Chain [1] start processing\n"
     ]
    },
    {
     "name": "stdout",
     "output_type": "stream",
     "text": [
      "Evaluación combinación: CPS=0.1, SPS=0.05, SM=additive\n"
     ]
    },
    {
     "name": "stderr",
     "output_type": "stream",
     "text": [
      "18:55:14 - cmdstanpy - INFO - Chain [1] done processing\n",
      "18:55:15 - cmdstanpy - INFO - Chain [1] start processing\n"
     ]
    },
    {
     "name": "stdout",
     "output_type": "stream",
     "text": [
      "Evaluación combinación: CPS=0.1, SPS=0.05, SM=multiplicative\n"
     ]
    },
    {
     "name": "stderr",
     "output_type": "stream",
     "text": [
      "18:55:15 - cmdstanpy - INFO - Chain [1] done processing\n",
      "18:55:15 - cmdstanpy - INFO - Chain [1] start processing\n"
     ]
    },
    {
     "name": "stdout",
     "output_type": "stream",
     "text": [
      "Evaluación combinación: CPS=0.1, SPS=0.1, SM=additive\n"
     ]
    },
    {
     "name": "stderr",
     "output_type": "stream",
     "text": [
      "18:55:43 - cmdstanpy - INFO - Chain [1] done processing\n",
      "18:55:44 - cmdstanpy - INFO - Chain [1] start processing\n"
     ]
    },
    {
     "name": "stdout",
     "output_type": "stream",
     "text": [
      "Evaluación combinación: CPS=0.1, SPS=0.1, SM=multiplicative\n"
     ]
    },
    {
     "name": "stderr",
     "output_type": "stream",
     "text": [
      "18:55:44 - cmdstanpy - INFO - Chain [1] done processing\n",
      "18:55:44 - cmdstanpy - INFO - Chain [1] start processing\n"
     ]
    },
    {
     "name": "stdout",
     "output_type": "stream",
     "text": [
      "Evaluación combinación: CPS=0.1, SPS=1.0, SM=additive\n"
     ]
    },
    {
     "name": "stderr",
     "output_type": "stream",
     "text": [
      "18:56:13 - cmdstanpy - INFO - Chain [1] done processing\n",
      "18:56:13 - cmdstanpy - INFO - Chain [1] start processing\n"
     ]
    },
    {
     "name": "stdout",
     "output_type": "stream",
     "text": [
      "Evaluación combinación: CPS=0.1, SPS=1.0, SM=multiplicative\n"
     ]
    },
    {
     "name": "stderr",
     "output_type": "stream",
     "text": [
      "18:56:42 - cmdstanpy - INFO - Chain [1] done processing\n",
      "18:56:42 - cmdstanpy - INFO - Chain [1] start processing\n"
     ]
    },
    {
     "name": "stdout",
     "output_type": "stream",
     "text": [
      "Evaluación combinación: CPS=0.1, SPS=5.0, SM=additive\n"
     ]
    },
    {
     "name": "stderr",
     "output_type": "stream",
     "text": [
      "18:57:10 - cmdstanpy - INFO - Chain [1] done processing\n",
      "18:57:10 - cmdstanpy - INFO - Chain [1] start processing\n"
     ]
    },
    {
     "name": "stdout",
     "output_type": "stream",
     "text": [
      "Evaluación combinación: CPS=0.1, SPS=5.0, SM=multiplicative\n"
     ]
    },
    {
     "name": "stderr",
     "output_type": "stream",
     "text": [
      "18:57:38 - cmdstanpy - INFO - Chain [1] done processing\n",
      "18:57:38 - cmdstanpy - INFO - Chain [1] start processing\n"
     ]
    },
    {
     "name": "stdout",
     "output_type": "stream",
     "text": [
      "Evaluación combinación: CPS=0.1, SPS=10.0, SM=additive\n"
     ]
    },
    {
     "name": "stderr",
     "output_type": "stream",
     "text": [
      "18:58:06 - cmdstanpy - INFO - Chain [1] done processing\n",
      "18:58:07 - cmdstanpy - INFO - Chain [1] start processing\n"
     ]
    },
    {
     "name": "stdout",
     "output_type": "stream",
     "text": [
      "Evaluación combinación: CPS=0.1, SPS=10.0, SM=multiplicative\n"
     ]
    },
    {
     "name": "stderr",
     "output_type": "stream",
     "text": [
      "18:58:35 - cmdstanpy - INFO - Chain [1] done processing\n",
      "18:58:36 - cmdstanpy - INFO - Chain [1] start processing\n"
     ]
    },
    {
     "name": "stdout",
     "output_type": "stream",
     "text": [
      "Evaluación combinación: CPS=0.1, SPS=15.0, SM=additive\n"
     ]
    },
    {
     "name": "stderr",
     "output_type": "stream",
     "text": [
      "18:59:04 - cmdstanpy - INFO - Chain [1] done processing\n",
      "18:59:04 - cmdstanpy - INFO - Chain [1] start processing\n"
     ]
    },
    {
     "name": "stdout",
     "output_type": "stream",
     "text": [
      "Evaluación combinación: CPS=0.1, SPS=15.0, SM=multiplicative\n"
     ]
    },
    {
     "name": "stderr",
     "output_type": "stream",
     "text": [
      "18:59:33 - cmdstanpy - INFO - Chain [1] done processing\n",
      "18:59:33 - cmdstanpy - INFO - Chain [1] start processing\n"
     ]
    },
    {
     "name": "stdout",
     "output_type": "stream",
     "text": [
      "Evaluación combinación: CPS=0.1, SPS=20.0, SM=additive\n"
     ]
    },
    {
     "name": "stderr",
     "output_type": "stream",
     "text": [
      "19:00:02 - cmdstanpy - INFO - Chain [1] done processing\n",
      "19:00:02 - cmdstanpy - INFO - Chain [1] start processing\n"
     ]
    },
    {
     "name": "stdout",
     "output_type": "stream",
     "text": [
      "Evaluación combinación: CPS=0.1, SPS=20.0, SM=multiplicative\n"
     ]
    },
    {
     "name": "stderr",
     "output_type": "stream",
     "text": [
      "19:00:32 - cmdstanpy - INFO - Chain [1] done processing\n",
      "19:00:32 - cmdstanpy - INFO - Chain [1] start processing\n"
     ]
    },
    {
     "name": "stdout",
     "output_type": "stream",
     "text": [
      "Evaluación combinación: CPS=0.15, SPS=0.01, SM=additive\n"
     ]
    },
    {
     "name": "stderr",
     "output_type": "stream",
     "text": [
      "19:00:32 - cmdstanpy - INFO - Chain [1] done processing\n",
      "19:00:33 - cmdstanpy - INFO - Chain [1] start processing\n"
     ]
    },
    {
     "name": "stdout",
     "output_type": "stream",
     "text": [
      "Evaluación combinación: CPS=0.15, SPS=0.01, SM=multiplicative\n"
     ]
    },
    {
     "name": "stderr",
     "output_type": "stream",
     "text": [
      "19:00:33 - cmdstanpy - INFO - Chain [1] done processing\n",
      "19:00:33 - cmdstanpy - INFO - Chain [1] start processing\n"
     ]
    },
    {
     "name": "stdout",
     "output_type": "stream",
     "text": [
      "Evaluación combinación: CPS=0.15, SPS=0.05, SM=additive\n"
     ]
    },
    {
     "name": "stderr",
     "output_type": "stream",
     "text": [
      "19:00:34 - cmdstanpy - INFO - Chain [1] done processing\n",
      "19:00:34 - cmdstanpy - INFO - Chain [1] start processing\n"
     ]
    },
    {
     "name": "stdout",
     "output_type": "stream",
     "text": [
      "Evaluación combinación: CPS=0.15, SPS=0.05, SM=multiplicative\n"
     ]
    },
    {
     "name": "stderr",
     "output_type": "stream",
     "text": [
      "19:00:34 - cmdstanpy - INFO - Chain [1] done processing\n",
      "19:00:35 - cmdstanpy - INFO - Chain [1] start processing\n"
     ]
    },
    {
     "name": "stdout",
     "output_type": "stream",
     "text": [
      "Evaluación combinación: CPS=0.15, SPS=0.1, SM=additive\n"
     ]
    },
    {
     "name": "stderr",
     "output_type": "stream",
     "text": [
      "19:00:50 - cmdstanpy - INFO - Chain [1] done processing\n",
      "19:00:50 - cmdstanpy - INFO - Chain [1] start processing\n"
     ]
    },
    {
     "name": "stdout",
     "output_type": "stream",
     "text": [
      "Evaluación combinación: CPS=0.15, SPS=0.1, SM=multiplicative\n"
     ]
    },
    {
     "name": "stderr",
     "output_type": "stream",
     "text": [
      "19:00:50 - cmdstanpy - INFO - Chain [1] done processing\n",
      "19:00:51 - cmdstanpy - INFO - Chain [1] start processing\n"
     ]
    },
    {
     "name": "stdout",
     "output_type": "stream",
     "text": [
      "Evaluación combinación: CPS=0.15, SPS=1.0, SM=additive\n"
     ]
    },
    {
     "name": "stderr",
     "output_type": "stream",
     "text": [
      "19:01:20 - cmdstanpy - INFO - Chain [1] done processing\n",
      "19:01:20 - cmdstanpy - INFO - Chain [1] start processing\n"
     ]
    },
    {
     "name": "stdout",
     "output_type": "stream",
     "text": [
      "Evaluación combinación: CPS=0.15, SPS=1.0, SM=multiplicative\n"
     ]
    },
    {
     "name": "stderr",
     "output_type": "stream",
     "text": [
      "19:01:50 - cmdstanpy - INFO - Chain [1] done processing\n",
      "19:01:50 - cmdstanpy - INFO - Chain [1] start processing\n"
     ]
    },
    {
     "name": "stdout",
     "output_type": "stream",
     "text": [
      "Evaluación combinación: CPS=0.15, SPS=5.0, SM=additive\n"
     ]
    },
    {
     "name": "stderr",
     "output_type": "stream",
     "text": [
      "19:02:18 - cmdstanpy - INFO - Chain [1] done processing\n"
     ]
    },
    {
     "name": "stdout",
     "output_type": "stream",
     "text": [
      "Evaluación combinación: CPS=0.15, SPS=5.0, SM=multiplicative\n"
     ]
    },
    {
     "name": "stderr",
     "output_type": "stream",
     "text": [
      "19:02:18 - cmdstanpy - INFO - Chain [1] start processing\n",
      "19:02:46 - cmdstanpy - INFO - Chain [1] done processing\n",
      "19:02:47 - cmdstanpy - INFO - Chain [1] start processing\n"
     ]
    },
    {
     "name": "stdout",
     "output_type": "stream",
     "text": [
      "Evaluación combinación: CPS=0.15, SPS=10.0, SM=additive\n"
     ]
    },
    {
     "name": "stderr",
     "output_type": "stream",
     "text": [
      "19:03:15 - cmdstanpy - INFO - Chain [1] done processing\n",
      "19:03:15 - cmdstanpy - INFO - Chain [1] start processing\n"
     ]
    },
    {
     "name": "stdout",
     "output_type": "stream",
     "text": [
      "Evaluación combinación: CPS=0.15, SPS=10.0, SM=multiplicative\n"
     ]
    },
    {
     "name": "stderr",
     "output_type": "stream",
     "text": [
      "19:03:45 - cmdstanpy - INFO - Chain [1] done processing\n",
      "19:03:45 - cmdstanpy - INFO - Chain [1] start processing\n"
     ]
    },
    {
     "name": "stdout",
     "output_type": "stream",
     "text": [
      "Evaluación combinación: CPS=0.15, SPS=15.0, SM=additive\n"
     ]
    },
    {
     "name": "stderr",
     "output_type": "stream",
     "text": [
      "19:04:17 - cmdstanpy - INFO - Chain [1] done processing\n",
      "19:04:17 - cmdstanpy - INFO - Chain [1] start processing\n"
     ]
    },
    {
     "name": "stdout",
     "output_type": "stream",
     "text": [
      "Evaluación combinación: CPS=0.15, SPS=15.0, SM=multiplicative\n"
     ]
    },
    {
     "name": "stderr",
     "output_type": "stream",
     "text": [
      "19:04:54 - cmdstanpy - INFO - Chain [1] done processing\n",
      "19:04:54 - cmdstanpy - INFO - Chain [1] start processing\n"
     ]
    },
    {
     "name": "stdout",
     "output_type": "stream",
     "text": [
      "Evaluación combinación: CPS=0.15, SPS=20.0, SM=additive\n"
     ]
    },
    {
     "name": "stderr",
     "output_type": "stream",
     "text": [
      "19:05:27 - cmdstanpy - INFO - Chain [1] done processing\n",
      "19:05:27 - cmdstanpy - INFO - Chain [1] start processing\n"
     ]
    },
    {
     "name": "stdout",
     "output_type": "stream",
     "text": [
      "Evaluación combinación: CPS=0.15, SPS=20.0, SM=multiplicative\n"
     ]
    },
    {
     "name": "stderr",
     "output_type": "stream",
     "text": [
      "19:05:56 - cmdstanpy - INFO - Chain [1] done processing\n",
      "19:05:56 - cmdstanpy - INFO - Chain [1] start processing\n"
     ]
    },
    {
     "name": "stdout",
     "output_type": "stream",
     "text": [
      "Evaluación combinación: CPS=0.2, SPS=0.01, SM=additive\n"
     ]
    },
    {
     "name": "stderr",
     "output_type": "stream",
     "text": [
      "19:05:57 - cmdstanpy - INFO - Chain [1] done processing\n",
      "19:05:57 - cmdstanpy - INFO - Chain [1] start processing\n"
     ]
    },
    {
     "name": "stdout",
     "output_type": "stream",
     "text": [
      "Evaluación combinación: CPS=0.2, SPS=0.01, SM=multiplicative\n"
     ]
    },
    {
     "name": "stderr",
     "output_type": "stream",
     "text": [
      "19:05:57 - cmdstanpy - INFO - Chain [1] done processing\n",
      "19:05:58 - cmdstanpy - INFO - Chain [1] start processing\n"
     ]
    },
    {
     "name": "stdout",
     "output_type": "stream",
     "text": [
      "Evaluación combinación: CPS=0.2, SPS=0.05, SM=additive\n"
     ]
    },
    {
     "name": "stderr",
     "output_type": "stream",
     "text": [
      "19:05:58 - cmdstanpy - INFO - Chain [1] done processing\n"
     ]
    },
    {
     "name": "stdout",
     "output_type": "stream",
     "text": [
      "Evaluación combinación: CPS=0.2, SPS=0.05, SM=multiplicative\n"
     ]
    },
    {
     "name": "stderr",
     "output_type": "stream",
     "text": [
      "19:05:58 - cmdstanpy - INFO - Chain [1] start processing\n",
      "19:05:59 - cmdstanpy - INFO - Chain [1] done processing\n",
      "19:05:59 - cmdstanpy - INFO - Chain [1] start processing\n"
     ]
    },
    {
     "name": "stdout",
     "output_type": "stream",
     "text": [
      "Evaluación combinación: CPS=0.2, SPS=0.1, SM=additive\n"
     ]
    },
    {
     "name": "stderr",
     "output_type": "stream",
     "text": [
      "19:06:27 - cmdstanpy - INFO - Chain [1] done processing\n"
     ]
    },
    {
     "name": "stdout",
     "output_type": "stream",
     "text": [
      "Evaluación combinación: CPS=0.2, SPS=0.1, SM=multiplicative\n"
     ]
    },
    {
     "name": "stderr",
     "output_type": "stream",
     "text": [
      "19:06:28 - cmdstanpy - INFO - Chain [1] start processing\n",
      "19:06:56 - cmdstanpy - INFO - Chain [1] done processing\n",
      "19:06:57 - cmdstanpy - INFO - Chain [1] start processing\n"
     ]
    },
    {
     "name": "stdout",
     "output_type": "stream",
     "text": [
      "Evaluación combinación: CPS=0.2, SPS=1.0, SM=additive\n"
     ]
    },
    {
     "name": "stderr",
     "output_type": "stream",
     "text": [
      "19:07:24 - cmdstanpy - INFO - Chain [1] done processing\n",
      "19:07:25 - cmdstanpy - INFO - Chain [1] start processing\n"
     ]
    },
    {
     "name": "stdout",
     "output_type": "stream",
     "text": [
      "Evaluación combinación: CPS=0.2, SPS=1.0, SM=multiplicative\n"
     ]
    },
    {
     "name": "stderr",
     "output_type": "stream",
     "text": [
      "19:07:53 - cmdstanpy - INFO - Chain [1] done processing\n",
      "19:07:54 - cmdstanpy - INFO - Chain [1] start processing\n"
     ]
    },
    {
     "name": "stdout",
     "output_type": "stream",
     "text": [
      "Evaluación combinación: CPS=0.2, SPS=5.0, SM=additive\n"
     ]
    },
    {
     "name": "stderr",
     "output_type": "stream",
     "text": [
      "19:08:22 - cmdstanpy - INFO - Chain [1] done processing\n",
      "19:08:22 - cmdstanpy - INFO - Chain [1] start processing\n"
     ]
    },
    {
     "name": "stdout",
     "output_type": "stream",
     "text": [
      "Evaluación combinación: CPS=0.2, SPS=5.0, SM=multiplicative\n"
     ]
    },
    {
     "name": "stderr",
     "output_type": "stream",
     "text": [
      "19:08:52 - cmdstanpy - INFO - Chain [1] done processing\n",
      "19:08:52 - cmdstanpy - INFO - Chain [1] start processing\n"
     ]
    },
    {
     "name": "stdout",
     "output_type": "stream",
     "text": [
      "Evaluación combinación: CPS=0.2, SPS=10.0, SM=additive\n"
     ]
    },
    {
     "name": "stderr",
     "output_type": "stream",
     "text": [
      "19:09:20 - cmdstanpy - INFO - Chain [1] done processing\n"
     ]
    },
    {
     "name": "stdout",
     "output_type": "stream",
     "text": [
      "Evaluación combinación: CPS=0.2, SPS=10.0, SM=multiplicative\n"
     ]
    },
    {
     "name": "stderr",
     "output_type": "stream",
     "text": [
      "19:09:20 - cmdstanpy - INFO - Chain [1] start processing\n",
      "19:09:52 - cmdstanpy - INFO - Chain [1] done processing\n",
      "19:09:52 - cmdstanpy - INFO - Chain [1] start processing\n"
     ]
    },
    {
     "name": "stdout",
     "output_type": "stream",
     "text": [
      "Evaluación combinación: CPS=0.2, SPS=15.0, SM=additive\n"
     ]
    },
    {
     "name": "stderr",
     "output_type": "stream",
     "text": [
      "19:10:20 - cmdstanpy - INFO - Chain [1] done processing\n",
      "19:10:20 - cmdstanpy - INFO - Chain [1] start processing\n"
     ]
    },
    {
     "name": "stdout",
     "output_type": "stream",
     "text": [
      "Evaluación combinación: CPS=0.2, SPS=15.0, SM=multiplicative\n"
     ]
    },
    {
     "name": "stderr",
     "output_type": "stream",
     "text": [
      "19:10:49 - cmdstanpy - INFO - Chain [1] done processing\n"
     ]
    },
    {
     "name": "stdout",
     "output_type": "stream",
     "text": [
      "Evaluación combinación: CPS=0.2, SPS=20.0, SM=additive\n"
     ]
    },
    {
     "name": "stderr",
     "output_type": "stream",
     "text": [
      "19:10:49 - cmdstanpy - INFO - Chain [1] start processing\n",
      "19:11:18 - cmdstanpy - INFO - Chain [1] done processing\n",
      "19:11:18 - cmdstanpy - INFO - Chain [1] start processing\n"
     ]
    },
    {
     "name": "stdout",
     "output_type": "stream",
     "text": [
      "Evaluación combinación: CPS=0.2, SPS=20.0, SM=multiplicative\n"
     ]
    },
    {
     "name": "stderr",
     "output_type": "stream",
     "text": [
      "19:11:47 - cmdstanpy - INFO - Chain [1] done processing\n"
     ]
    }
   ],
   "source": [
    "# Iterar sobre todas las combinaciones de industria y columna\n",
    "mejores_resultados = {}\n",
    "todos_los_resultados = pd.DataFrame()\n",
    "\n",
    "for industry_type in industry_types:\n",
    "    for column_name in columns_to_predict:\n",
    "        # Preparar los datos\n",
    "        print(f\"Procesando: {industry_type}, columna: {column_name}\")\n",
    "        df_prophet = cargar_y_preparar_datos(df, industry_type, column_name)\n",
    "\n",
    "        if df_prophet is not None and not df_prophet.empty and df_prophet['y'].notnull().all():\n",
    "\n",
    "            # graficar_original(df_prophet, column_name)\n",
    "\n",
    "            # Ejecutar Grid Search\n",
    "            df_resultados, mejor_modelo= pronóstico_con_grid_search(df_prophet, column_name,industry_type, periodos=12, frecuencia=\"MS\")\n",
    "\n",
    "            # Guardar resultados de Grid Search\n",
    "            if not df_resultados.empty:\n",
    "                # Añadir columnas 'industry' y 'column' al DataFrame df_resultados\n",
    "                df_resultados['industry'] = industry_type\n",
    "                df_resultados['column'] = column_name\n",
    "\n",
    "                # Reordenar las columnas del DataFrame\n",
    "                df_resultados = df_resultados[['industry', 'column', 'changepoint_prior_scale', 'seasonality_prior_scale', \n",
    "                                'seasonality_mode', 'mae', 'mape', 'smape', 'mse', 'rmse', 'training time']] \n",
    "\n",
    "\n",
    "                # Concatenar df_resultados con todos_los_resultados\n",
    "                todos_los_resultados = pd.concat([todos_los_resultados, df_resultados], ignore_index=True)\n",
    "\n",
    "            # Guardar mejores resultados\n",
    "            if mejor_modelo is not None:\n",
    "                mejores_resultados[f\"{industry_type}/{column_name}\"] = mejor_modelo.to_dict()         \n",
    "\n",
    "# Guardar todos los resultados en un archivo\n",
    "todos_los_resultados.to_csv(\"todos_los_resultados_modelos.csv\", index=False)\n",
    "\n",
    "# Guardar el mejor modelo por combinación en otro archivo\n",
    "df_mejores_resultados = pd.DataFrame(mejores_resultados).T.reset_index()\n",
    "df_mejores_resultados[['industry', 'column']] = df_mejores_resultados['index'].str.split('/', expand=True)\n",
    "df_mejores_resultados = df_mejores_resultados.drop(columns=['index'])\n",
    "df_mejores_resultados = df_mejores_resultados[['industry', 'column', 'changepoint_prior_scale', 'seasonality_prior_scale', \n",
    "                                               'seasonality_mode', 'mae', 'mape', 'smape', 'mse', 'rmse', 'training time']] \n",
    "df_mejores_resultados.to_csv(\"mejores_modelos.csv\", index=False)"
   ]
  }
 ],
 "metadata": {
  "kernelspec": {
   "display_name": "Python 3",
   "language": "python",
   "name": "python3"
  },
  "language_info": {
   "codemirror_mode": {
    "name": "ipython",
    "version": 3
   },
   "file_extension": ".py",
   "mimetype": "text/x-python",
   "name": "python",
   "nbconvert_exporter": "python",
   "pygments_lexer": "ipython3",
   "version": "3.12.1"
  }
 },
 "nbformat": 4,
 "nbformat_minor": 2
}
