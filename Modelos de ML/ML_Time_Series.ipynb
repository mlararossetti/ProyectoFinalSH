{
 "cells": [
  {
   "cell_type": "markdown",
   "metadata": {},
   "source": [
    "Librerías"
   ]
  },
  {
   "cell_type": "code",
   "execution_count": null,
   "metadata": {},
   "outputs": [],
   "source": [
    "import pandas as pd\n",
    "import numpy as np\n",
    "\n",
    "import matplotlib.pyplot as plt\n",
    "from datetime import datetime\n",
    "from datetime import timedelta\n",
    "\n",
    "from sklearn.metrics import mean_absolute_error, mean_squared_error\n",
    "\n",
    "from prophet import Prophet\n",
    "#from prophet.diagnostics import generate_cutoffs, cross_validation, performance_metrics\n",
    "from prophet.plot import plot_plotly\n",
    "import plotly.graph_objects as go\n",
    "\n",
    "import time\n"
   ]
  },
  {
   "cell_type": "markdown",
   "metadata": {},
   "source": [
    "- Ce carga un subdataset con los datos necesarios para el modelo de ML"
   ]
  },
  {
   "cell_type": "code",
   "execution_count": null,
   "metadata": {},
   "outputs": [],
   "source": [
    "# Cargar los datos\n",
    "df = pd.read_csv(r\"..\\datasets\\2. Depurados\\TLC Aggregated Data\\ML_TS_Input.csv\")\n",
    "df['date'] = pd.to_datetime(df['date'])"
   ]
  },
  {
   "cell_type": "code",
   "execution_count": null,
   "metadata": {},
   "outputs": [],
   "source": [
    "# Obtener el valor máximo de la columna 'date'\n",
    "max_date = df['date'].max()\n",
    "# Calcular la fecha de diciembre dentro de 5 años\n",
    "future_date = datetime(max_date.year + 5, 12, 1)\n",
    "# Calcular la cantidad de meses entre ambas fechas\n",
    "months_difference = (future_date.year - max_date.year) * 12 + (future_date.month - max_date.month)"
   ]
  },
  {
   "cell_type": "code",
   "execution_count": null,
   "metadata": {},
   "outputs": [],
   "source": [
    "# Función para guardar el forecast en un archivo CSV\n",
    "def guardar_predicciones(forecast, nombre_archivo=\"predicciones.csv\"):\n",
    "    try:\n",
    "        forecast.to_csv(nombre_archivo, index=False)\n",
    "        print(f\"Predicciones guardadas en {nombre_archivo}\")\n",
    "    except Exception as e:\n",
    "        print(f\"Error al guardar las predicciones: {e}\")"
   ]
  },
  {
   "cell_type": "code",
   "execution_count": null,
   "metadata": {},
   "outputs": [],
   "source": [
    "def graficar_original(df_prophet, column_name):\n",
    "    fig = go.Figure()\n",
    "    fig.add_trace(go.Scatter(x=df_prophet[\"ds\"], y=df_prophet[\"y\"], marker=dict(symbol='circle', color='royalblue')))\n",
    "    fig.layout.update(title_text=\"Datos históricos\", yaxis_title=f\"{column_name}\", xaxis_rangeslider_visible=True)\n",
    "    fig.show()"
   ]
  },
  {
   "cell_type": "code",
   "execution_count": null,
   "metadata": {},
   "outputs": [],
   "source": [
    "def graficar_predicción(df_prophet, column_name, forecast,industry_type):\n",
    "\n",
    "    # Ajustar valores negativos en el forecast\n",
    "    forecast['yhat'] = forecast['yhat'].clip(lower=0)\n",
    "    forecast['yhat_lower'] = forecast['yhat_lower'].clip(lower=0)\n",
    "\n",
    "    fig = go.Figure()\n",
    "    fig.add_trace(go.Scatter(x=df_prophet[\"ds\"], y=df_prophet[\"y\"], name='Datos Históricos', marker=dict(symbol='circle', color='royalblue')))\n",
    "    fig.add_trace(go.Scatter(x=forecast['ds'], y=forecast['yhat'], name='Predicción', marker=dict(symbol='diamond', color='green')))\n",
    "    fig.add_trace(go.Scatter(x=forecast['ds'].tolist() + forecast['ds'][::-1].tolist(), \n",
    "                            y=forecast['yhat_upper'].tolist() + forecast['yhat_lower'][::-1].tolist(), \n",
    "                            fill='toself', fillcolor='rgba(255, 255, 255, 0.2)', \n",
    "                            line=dict(color='rgba(255, 255, 255, 0)'), name='Intervalo de predicción'))\n",
    "    fig.layout.update(xaxis_title='Fecha', yaxis_title=column_name, title_text=f\"Predicción para {column_name} ({industry_type})\", \n",
    "                    xaxis_rangeslider_visible=True)\n",
    "    fig.show()"
   ]
  },
  {
   "cell_type": "markdown",
   "metadata": {},
   "source": [
    "# Análisis para cada variable y cada industria"
   ]
  },
  {
   "cell_type": "code",
   "execution_count": null,
   "metadata": {},
   "outputs": [],
   "source": [
    "# Selección de períodos y frecuencia para predicción\n",
    "industry_types = df['industry'].unique()\n",
    "columns_to_predict = ['total_trips', 'unique_vehicles', 'total_amount', 'avg_trip_distance', 'total_co2_emission']\n",
    "periodos = 12\n",
    "frecuencia = \"MS\""
   ]
  },
  {
   "cell_type": "code",
   "execution_count": null,
   "metadata": {},
   "outputs": [
    {
     "data": {
      "text/html": [
       "<div>\n",
       "<style scoped>\n",
       "    .dataframe tbody tr th:only-of-type {\n",
       "        vertical-align: middle;\n",
       "    }\n",
       "\n",
       "    .dataframe tbody tr th {\n",
       "        vertical-align: top;\n",
       "    }\n",
       "\n",
       "    .dataframe thead th {\n",
       "        text-align: right;\n",
       "    }\n",
       "</style>\n",
       "<table border=\"1\" class=\"dataframe\">\n",
       "  <thead>\n",
       "    <tr style=\"text-align: right;\">\n",
       "      <th></th>\n",
       "      <th>date</th>\n",
       "      <th>industry</th>\n",
       "      <th>total_trips</th>\n",
       "      <th>unique_vehicles</th>\n",
       "      <th>total_amount</th>\n",
       "      <th>avg_trip_distance</th>\n",
       "      <th>avg_hours_per_day_per_driver</th>\n",
       "      <th>total_co2_emission</th>\n",
       "      <th>days_in_month</th>\n",
       "    </tr>\n",
       "  </thead>\n",
       "  <tbody>\n",
       "    <tr>\n",
       "      <th>0</th>\n",
       "      <td>2021-01-01</td>\n",
       "      <td>FHV - High Volume</td>\n",
       "      <td>11902481</td>\n",
       "      <td>47594</td>\n",
       "      <td>1.917688e+08</td>\n",
       "      <td>3.64</td>\n",
       "      <td>6.800</td>\n",
       "      <td>17332.2978</td>\n",
       "      <td>31</td>\n",
       "    </tr>\n",
       "    <tr>\n",
       "      <th>1</th>\n",
       "      <td>2021-01-01</td>\n",
       "      <td>Yellow Taxi</td>\n",
       "      <td>1365612</td>\n",
       "      <td>4625</td>\n",
       "      <td>2.135305e+07</td>\n",
       "      <td>2.43</td>\n",
       "      <td>7.300</td>\n",
       "      <td>1326.4672</td>\n",
       "      <td>31</td>\n",
       "    </tr>\n",
       "    <tr>\n",
       "      <th>2</th>\n",
       "      <td>2021-01-01</td>\n",
       "      <td>Green Taxi</td>\n",
       "      <td>76477</td>\n",
       "      <td>982</td>\n",
       "      <td>1.748679e+06</td>\n",
       "      <td>3.46</td>\n",
       "      <td>4.000</td>\n",
       "      <td>105.8211</td>\n",
       "      <td>31</td>\n",
       "    </tr>\n",
       "    <tr>\n",
       "      <th>3</th>\n",
       "      <td>2021-01-01</td>\n",
       "      <td>FHV - Other</td>\n",
       "      <td>1142350</td>\n",
       "      <td>10128</td>\n",
       "      <td>NaN</td>\n",
       "      <td>3.63</td>\n",
       "      <td>3.800</td>\n",
       "      <td>1660.0704</td>\n",
       "      <td>31</td>\n",
       "    </tr>\n",
       "    <tr>\n",
       "      <th>4</th>\n",
       "      <td>2021-01-01</td>\n",
       "      <td>Total Mercado</td>\n",
       "      <td>14486920</td>\n",
       "      <td>63329</td>\n",
       "      <td>2.148706e+08</td>\n",
       "      <td>3.29</td>\n",
       "      <td>5.475</td>\n",
       "      <td>20424.6565</td>\n",
       "      <td>31</td>\n",
       "    </tr>\n",
       "  </tbody>\n",
       "</table>\n",
       "</div>"
      ],
      "text/plain": [
       "        date           industry  total_trips  unique_vehicles  total_amount  \\\n",
       "0 2021-01-01  FHV - High Volume     11902481            47594  1.917688e+08   \n",
       "1 2021-01-01        Yellow Taxi      1365612             4625  2.135305e+07   \n",
       "2 2021-01-01         Green Taxi        76477              982  1.748679e+06   \n",
       "3 2021-01-01        FHV - Other      1142350            10128           NaN   \n",
       "4 2021-01-01      Total Mercado     14486920            63329  2.148706e+08   \n",
       "\n",
       "   avg_trip_distance  avg_hours_per_day_per_driver  total_co2_emission  \\\n",
       "0               3.64                         6.800          17332.2978   \n",
       "1               2.43                         7.300           1326.4672   \n",
       "2               3.46                         4.000            105.8211   \n",
       "3               3.63                         3.800           1660.0704   \n",
       "4               3.29                         5.475          20424.6565   \n",
       "\n",
       "   days_in_month  \n",
       "0             31  \n",
       "1             31  \n",
       "2             31  \n",
       "3             31  \n",
       "4             31  "
      ]
     },
     "execution_count": 8,
     "metadata": {},
     "output_type": "execute_result"
    }
   ],
   "source": [
    "df.head()"
   ]
  },
  {
   "cell_type": "code",
   "execution_count": null,
   "metadata": {},
   "outputs": [],
   "source": [
    "# Función para cargar los datos y filtrar la serie de tiempo seleccionada\n",
    "def cargar_y_preparar_datos(df, industry_type, column_name):\n",
    "    \"\"\"\n",
    "    Filtra y prepara los datos para Prophet según el tipo de industria y la columna seleccionada.\n",
    "    \"\"\"\n",
    "    df_filtered = df[df['industry'] == industry_type][['date', column_name]].copy()\n",
    "    df_filtered.columns = ['ds', 'y']  # Renombrar columnas para Prophet\n",
    "    df_filtered['ds'] = pd.to_datetime(df_filtered['ds'])  # Asegurar formato de fecha\n",
    "    return df_filtered if not df_filtered['y'].isnull().all() else None"
   ]
  },
  {
   "cell_type": "code",
   "execution_count": null,
   "metadata": {},
   "outputs": [],
   "source": [
    "def evaluate_model(df_forecast, df_prophet_test):\n",
    "    # Extraer valores reales y predichos\n",
    "    y_true = df_prophet_test ['y'].values\n",
    "    y_pred = df_forecast[df_forecast['ds'] > pd.to_datetime(\"2023-08-01\", format='%Y-%m-%d')]['yhat'].values\n",
    "\n",
    "    # Calcular métricas\n",
    "    mae = mean_absolute_error(y_true, y_pred)\n",
    "    mse = mean_squared_error(y_true, y_pred)\n",
    "    rmse = np.sqrt(mse)\n",
    "    mape = np.mean(np.abs((y_true - y_pred) / y_true)) * 100\n",
    "    smape = 100 / len(y_true) * np.sum(2 * np.abs(y_pred - y_true) / (np.abs(y_true) + np.abs(y_pred)))\n",
    "    \n",
    "    # print(\" \")  \n",
    "    # print(\"Resultados de validación cruzada:\")    \n",
    "    # print(f'Mean Absolute Error: {mae:.2f}')\n",
    "    # print(f'Mean Absolute Percentage Error : {mape:.2f}')\n",
    "    # print(f'Symmetric Mean Absolute Percentage Errorr : {smape:.2f}')\n",
    "    # print(f'Mean Squared Error: {mse:.2f}')\n",
    "    # print(f'Root Mean Squared Error: {rmse:.2f}')\n",
    "    # print(\" \")  \n",
    "\n",
    "    return {'mae': mae, 'mape': mape, 'smape': smape, 'mse': mse, 'rmse': rmse}\n"
   ]
  },
  {
   "cell_type": "code",
   "execution_count": null,
   "metadata": {},
   "outputs": [],
   "source": [
    "def pronóstico_con_grid_search(df_prophet, column_name, industry_type, periodos, frecuencia):\n",
    "    \"\"\"\n",
    "    Realiza Grid Search para encontrar los mejores hiperparámetros de Prophet y calcula el error.\n",
    "  \n",
    "    Parameters that can be tuned\n",
    "\n",
    "    - changepoint_prior_scale: This is probably the most impactful parameter. It determines the flexibility of the trend, and in particular how \n",
    "      much the trend changes at the trend changepoints. As described in this documentation, if it is too small, the trend will be underfit and \n",
    "      variance that should have been modeled with trend changes will instead end up being handled with the noise term. If it is too large, the trend \n",
    "      will overfit and in the most extreme case you can end up with the trend capturing yearly seasonality. The default of 0.05 works for many time series, \n",
    "      but this could be tuned; a range of [0.001, 0.5] would likely be about right. Parameters like this (regularization penalties; this is effectively a \n",
    "      lasso penalty) are often tuned on a log scale.\n",
    "\n",
    "    - seasonality_prior_scale: This parameter controls the flexibility of the seasonality. Similarly, a large value allows the seasonality to fit large fluctuations, \n",
    "      a small value shrinks the magnitude of the seasonality. The default is 10., which applies basically no regularization. That is because we very rarely \n",
    "      see overfitting here (there’s inherent regularization with the fact that it is being modeled with a truncated Fourier series, so it’s essentially low-pass \n",
    "      filtered). A reasonable range for tuning it would probably be [0.01, 10]; when set to 0.01 you should find that the magnitude of seasonality is forced to be \n",
    "      very small. This likely also makes sense on a log scale, since it is effectively an L2 penalty like in ridge regression.\n",
    "\n",
    "    - seasonality_mode: Options are ['additive', 'multiplicative']. Default is 'additive', but many business time series will have multiplicative seasonality. \n",
    "      This is best identified just from looking at the time series and seeing if the magnitude of seasonal fluctuations grows with the magnitude of the time series \n",
    "      (see the documentation here on multiplicative seasonality), but when that isn’t possible, it could be tuned.\n",
    "\n",
    "      \n",
    "    \"\"\"\n",
    "\n",
    "    grid_search = {\n",
    "        'changepoint_prior_scale': [0.01, 0.05, 0.1, 0.15, 0.2],\n",
    "        'seasonality_prior_scale': [0.01, 0.05, 0.1, 1.0, 5.0, 10.0, 15.0, 20.0],  \n",
    "        'seasonality_mode': ['additive', 'multiplicative']\n",
    "    }\n",
    "    \n",
    "    resultados = []  \n",
    "    \n",
    "    df_prophet_train = df_prophet[df_prophet['ds']<= pd.to_datetime(\"2023-08-01\", format='%Y-%m-%d')]\n",
    "    df_prophet_test = df_prophet[df_prophet['ds'] >=  pd.to_datetime(\"2023-09-01\", format='%Y-%m-%d')]\n",
    "\n",
    "    # Grid Search\n",
    "    for cps in grid_search['changepoint_prior_scale']:\n",
    "        for sps in grid_search['seasonality_prior_scale']:\n",
    "            for sm in grid_search['seasonality_mode']:\n",
    "                        start_time = time.time()\n",
    "                      \n",
    "                        print(f\"Evaluación combinación: CPS={cps}, SPS={sps}, SM={sm}\") #FO={fo}\n",
    "\n",
    "                        # Crear y entrenar modelo Prophet con los parámetros actuales\n",
    "                        model = Prophet(changepoint_prior_scale=cps, seasonality_prior_scale=sps, seasonality_mode=sm, yearly_seasonality=True, weekly_seasonality=False)\n",
    "                        \n",
    "                        \"\"\"Prophet includes yearly, weekly, and daily seasonality by default for daily data. \n",
    "                        For sub-daily data, only daily seasonality is included by default.\"\"\"\n",
    "                        #model.add_seasonality(name='monthly', period=12, fourier_order=3)                        \n",
    "                        model.fit(df_prophet_train)\n",
    "\n",
    "                        # Crear el futuro dataframe con frecuencia específica\n",
    "                        future = model.make_future_dataframe(periods=periodos, freq=frecuencia)\n",
    "                        forecast = model.predict(future)\n",
    "                        #graficar_predicción(df_prophet, column_name, forecast, industry_type)\n",
    "\n",
    "                        # Evaluar modelo\n",
    "                        metrics = evaluate_model(forecast,df_prophet_test)\n",
    "                        if metrics is None:\n",
    "                            continue\n",
    "                        \n",
    "                        elapsed_time = time.time() - start_time\n",
    "                        resultados.append({\n",
    "                            'changepoint_prior_scale': cps,\n",
    "                            'seasonality_prior_scale': sps,\n",
    "                            'seasonality_mode': sm,\n",
    "                            **metrics,\n",
    "                            'training time': elapsed_time\n",
    "                        })\n",
    "\n",
    "                        # Crear DataFrame con todos los resultados\n",
    "                        df_resultados = pd.DataFrame(resultados)\n",
    "\n",
    "                        # Identificar los mejores parámetros según el menor MAE\n",
    "                        if not df_resultados.empty:\n",
    "                            mejor_modelo = df_resultados.loc[df_resultados['mae'].idxmin()]\n",
    "                        else:\n",
    "                            mejor_modelo = None\n",
    "\n",
    "    return df_resultados, mejor_modelo"
   ]
  },
  {
   "cell_type": "code",
   "execution_count": null,
   "metadata": {},
   "outputs": [
    {
     "name": "stderr",
     "output_type": "stream",
     "text": [
      "22:55:17 - cmdstanpy - INFO - Chain [1] done processing\n",
      "22:55:18 - cmdstanpy - INFO - Chain [1] start processing\n"
     ]
    },
    {
     "name": "stdout",
     "output_type": "stream",
     "text": [
      "Evaluación combinación: CPS=0.24, SPS=11.0, SM=additive\n"
     ]
    },
    {
     "name": "stderr",
     "output_type": "stream",
     "text": [
      "22:55:50 - cmdstanpy - INFO - Chain [1] done processing\n",
      "22:55:50 - cmdstanpy - INFO - Chain [1] start processing\n"
     ]
    },
    {
     "name": "stdout",
     "output_type": "stream",
     "text": [
      "Evaluación combinación: CPS=0.24, SPS=11.0, SM=multiplicative\n"
     ]
    },
    {
     "name": "stderr",
     "output_type": "stream",
     "text": [
      "22:56:17 - cmdstanpy - INFO - Chain [1] done processing\n",
      "22:56:17 - cmdstanpy - INFO - Chain [1] start processing\n"
     ]
    },
    {
     "name": "stdout",
     "output_type": "stream",
     "text": [
      "Evaluación combinación: CPS=0.24, SPS=12.0, SM=additive\n"
     ]
    },
    {
     "name": "stderr",
     "output_type": "stream",
     "text": [
      "22:56:41 - cmdstanpy - INFO - Chain [1] done processing\n",
      "22:56:41 - cmdstanpy - INFO - Chain [1] start processing\n"
     ]
    },
    {
     "name": "stdout",
     "output_type": "stream",
     "text": [
      "Evaluación combinación: CPS=0.24, SPS=12.0, SM=multiplicative\n"
     ]
    },
    {
     "name": "stderr",
     "output_type": "stream",
     "text": [
      "22:57:06 - cmdstanpy - INFO - Chain [1] done processing\n",
      "22:57:06 - cmdstanpy - INFO - Chain [1] start processing\n"
     ]
    },
    {
     "name": "stdout",
     "output_type": "stream",
     "text": [
      "Evaluación combinación: CPS=0.24, SPS=13.0, SM=additive\n"
     ]
    },
    {
     "name": "stderr",
     "output_type": "stream",
     "text": [
      "22:57:31 - cmdstanpy - INFO - Chain [1] done processing\n",
      "22:57:31 - cmdstanpy - INFO - Chain [1] start processing\n"
     ]
    },
    {
     "name": "stdout",
     "output_type": "stream",
     "text": [
      "Evaluación combinación: CPS=0.24, SPS=13.0, SM=multiplicative\n"
     ]
    },
    {
     "name": "stderr",
     "output_type": "stream",
     "text": [
      "22:57:55 - cmdstanpy - INFO - Chain [1] done processing\n",
      "22:57:56 - cmdstanpy - INFO - Chain [1] start processing\n"
     ]
    },
    {
     "name": "stdout",
     "output_type": "stream",
     "text": [
      "Evaluación combinación: CPS=0.24, SPS=14.0, SM=additive\n"
     ]
    },
    {
     "name": "stderr",
     "output_type": "stream",
     "text": [
      "22:58:20 - cmdstanpy - INFO - Chain [1] done processing\n",
      "22:58:20 - cmdstanpy - INFO - Chain [1] start processing\n"
     ]
    },
    {
     "name": "stdout",
     "output_type": "stream",
     "text": [
      "Evaluación combinación: CPS=0.24, SPS=14.0, SM=multiplicative\n"
     ]
    },
    {
     "name": "stderr",
     "output_type": "stream",
     "text": [
      "22:58:45 - cmdstanpy - INFO - Chain [1] done processing\n",
      "22:58:45 - cmdstanpy - INFO - Chain [1] start processing\n"
     ]
    },
    {
     "name": "stdout",
     "output_type": "stream",
     "text": [
      "Evaluación combinación: CPS=0.24, SPS=15.0, SM=additive\n"
     ]
    },
    {
     "name": "stderr",
     "output_type": "stream",
     "text": [
      "22:59:10 - cmdstanpy - INFO - Chain [1] done processing\n",
      "22:59:10 - cmdstanpy - INFO - Chain [1] start processing\n"
     ]
    },
    {
     "name": "stdout",
     "output_type": "stream",
     "text": [
      "Evaluación combinación: CPS=0.24, SPS=15.0, SM=multiplicative\n"
     ]
    },
    {
     "name": "stderr",
     "output_type": "stream",
     "text": [
      "22:59:35 - cmdstanpy - INFO - Chain [1] done processing\n",
      "22:59:35 - cmdstanpy - INFO - Chain [1] start processing\n"
     ]
    },
    {
     "name": "stdout",
     "output_type": "stream",
     "text": [
      "Evaluación combinación: CPS=0.25, SPS=5.0, SM=additive\n"
     ]
    },
    {
     "name": "stderr",
     "output_type": "stream",
     "text": [
      "23:00:00 - cmdstanpy - INFO - Chain [1] done processing\n",
      "23:00:00 - cmdstanpy - INFO - Chain [1] start processing\n"
     ]
    },
    {
     "name": "stdout",
     "output_type": "stream",
     "text": [
      "Evaluación combinación: CPS=0.25, SPS=5.0, SM=multiplicative\n"
     ]
    },
    {
     "name": "stderr",
     "output_type": "stream",
     "text": [
      "23:00:25 - cmdstanpy - INFO - Chain [1] done processing\n",
      "23:00:25 - cmdstanpy - INFO - Chain [1] start processing\n"
     ]
    },
    {
     "name": "stdout",
     "output_type": "stream",
     "text": [
      "Evaluación combinación: CPS=0.25, SPS=6.0, SM=additive\n"
     ]
    },
    {
     "name": "stderr",
     "output_type": "stream",
     "text": [
      "23:00:49 - cmdstanpy - INFO - Chain [1] done processing\n",
      "23:00:49 - cmdstanpy - INFO - Chain [1] start processing\n"
     ]
    },
    {
     "name": "stdout",
     "output_type": "stream",
     "text": [
      "Evaluación combinación: CPS=0.25, SPS=6.0, SM=multiplicative\n"
     ]
    },
    {
     "name": "stderr",
     "output_type": "stream",
     "text": [
      "23:01:14 - cmdstanpy - INFO - Chain [1] done processing\n",
      "23:01:15 - cmdstanpy - INFO - Chain [1] start processing\n"
     ]
    },
    {
     "name": "stdout",
     "output_type": "stream",
     "text": [
      "Evaluación combinación: CPS=0.25, SPS=7.0, SM=additive\n"
     ]
    },
    {
     "name": "stderr",
     "output_type": "stream",
     "text": [
      "23:01:39 - cmdstanpy - INFO - Chain [1] done processing\n",
      "23:01:39 - cmdstanpy - INFO - Chain [1] start processing\n"
     ]
    },
    {
     "name": "stdout",
     "output_type": "stream",
     "text": [
      "Evaluación combinación: CPS=0.25, SPS=7.0, SM=multiplicative\n"
     ]
    },
    {
     "name": "stderr",
     "output_type": "stream",
     "text": [
      "23:02:04 - cmdstanpy - INFO - Chain [1] done processing\n",
      "23:02:04 - cmdstanpy - INFO - Chain [1] start processing\n"
     ]
    },
    {
     "name": "stdout",
     "output_type": "stream",
     "text": [
      "Evaluación combinación: CPS=0.25, SPS=8.0, SM=additive\n"
     ]
    },
    {
     "name": "stderr",
     "output_type": "stream",
     "text": [
      "23:02:28 - cmdstanpy - INFO - Chain [1] done processing\n",
      "23:02:29 - cmdstanpy - INFO - Chain [1] start processing\n"
     ]
    },
    {
     "name": "stdout",
     "output_type": "stream",
     "text": [
      "Evaluación combinación: CPS=0.25, SPS=8.0, SM=multiplicative\n"
     ]
    },
    {
     "name": "stderr",
     "output_type": "stream",
     "text": [
      "23:02:53 - cmdstanpy - INFO - Chain [1] done processing\n",
      "23:02:54 - cmdstanpy - INFO - Chain [1] start processing\n"
     ]
    },
    {
     "name": "stdout",
     "output_type": "stream",
     "text": [
      "Evaluación combinación: CPS=0.25, SPS=9.0, SM=additive\n"
     ]
    },
    {
     "name": "stderr",
     "output_type": "stream",
     "text": [
      "23:03:18 - cmdstanpy - INFO - Chain [1] done processing\n",
      "23:03:18 - cmdstanpy - INFO - Chain [1] start processing\n"
     ]
    },
    {
     "name": "stdout",
     "output_type": "stream",
     "text": [
      "Evaluación combinación: CPS=0.25, SPS=9.0, SM=multiplicative\n"
     ]
    },
    {
     "name": "stderr",
     "output_type": "stream",
     "text": [
      "23:03:43 - cmdstanpy - INFO - Chain [1] done processing\n",
      "23:03:44 - cmdstanpy - INFO - Chain [1] start processing\n"
     ]
    },
    {
     "name": "stdout",
     "output_type": "stream",
     "text": [
      "Evaluación combinación: CPS=0.25, SPS=10.0, SM=additive\n"
     ]
    },
    {
     "name": "stderr",
     "output_type": "stream",
     "text": [
      "23:04:08 - cmdstanpy - INFO - Chain [1] done processing\n",
      "23:04:08 - cmdstanpy - INFO - Chain [1] start processing\n"
     ]
    },
    {
     "name": "stdout",
     "output_type": "stream",
     "text": [
      "Evaluación combinación: CPS=0.25, SPS=10.0, SM=multiplicative\n"
     ]
    },
    {
     "name": "stderr",
     "output_type": "stream",
     "text": [
      "23:04:34 - cmdstanpy - INFO - Chain [1] done processing\n",
      "23:04:35 - cmdstanpy - INFO - Chain [1] start processing\n"
     ]
    },
    {
     "name": "stdout",
     "output_type": "stream",
     "text": [
      "Evaluación combinación: CPS=0.25, SPS=11.0, SM=additive\n"
     ]
    },
    {
     "name": "stderr",
     "output_type": "stream",
     "text": [
      "23:04:59 - cmdstanpy - INFO - Chain [1] done processing\n",
      "23:04:59 - cmdstanpy - INFO - Chain [1] start processing\n"
     ]
    },
    {
     "name": "stdout",
     "output_type": "stream",
     "text": [
      "Evaluación combinación: CPS=0.25, SPS=11.0, SM=multiplicative\n"
     ]
    },
    {
     "name": "stderr",
     "output_type": "stream",
     "text": [
      "23:05:24 - cmdstanpy - INFO - Chain [1] done processing\n",
      "23:05:25 - cmdstanpy - INFO - Chain [1] start processing\n"
     ]
    },
    {
     "name": "stdout",
     "output_type": "stream",
     "text": [
      "Evaluación combinación: CPS=0.25, SPS=12.0, SM=additive\n"
     ]
    },
    {
     "name": "stderr",
     "output_type": "stream",
     "text": [
      "23:05:49 - cmdstanpy - INFO - Chain [1] done processing\n",
      "23:05:49 - cmdstanpy - INFO - Chain [1] start processing\n"
     ]
    },
    {
     "name": "stdout",
     "output_type": "stream",
     "text": [
      "Evaluación combinación: CPS=0.25, SPS=12.0, SM=multiplicative\n"
     ]
    },
    {
     "name": "stderr",
     "output_type": "stream",
     "text": [
      "23:06:14 - cmdstanpy - INFO - Chain [1] done processing\n",
      "23:06:14 - cmdstanpy - INFO - Chain [1] start processing\n"
     ]
    },
    {
     "name": "stdout",
     "output_type": "stream",
     "text": [
      "Evaluación combinación: CPS=0.25, SPS=13.0, SM=additive\n"
     ]
    },
    {
     "name": "stderr",
     "output_type": "stream",
     "text": [
      "23:06:38 - cmdstanpy - INFO - Chain [1] done processing\n",
      "23:06:38 - cmdstanpy - INFO - Chain [1] start processing\n"
     ]
    },
    {
     "name": "stdout",
     "output_type": "stream",
     "text": [
      "Evaluación combinación: CPS=0.25, SPS=13.0, SM=multiplicative\n"
     ]
    },
    {
     "name": "stderr",
     "output_type": "stream",
     "text": [
      "23:07:03 - cmdstanpy - INFO - Chain [1] done processing\n",
      "23:07:04 - cmdstanpy - INFO - Chain [1] start processing\n"
     ]
    },
    {
     "name": "stdout",
     "output_type": "stream",
     "text": [
      "Evaluación combinación: CPS=0.25, SPS=14.0, SM=additive\n"
     ]
    },
    {
     "name": "stderr",
     "output_type": "stream",
     "text": [
      "23:07:28 - cmdstanpy - INFO - Chain [1] done processing\n",
      "23:07:28 - cmdstanpy - INFO - Chain [1] start processing\n"
     ]
    },
    {
     "name": "stdout",
     "output_type": "stream",
     "text": [
      "Evaluación combinación: CPS=0.25, SPS=14.0, SM=multiplicative\n"
     ]
    },
    {
     "name": "stderr",
     "output_type": "stream",
     "text": [
      "23:07:53 - cmdstanpy - INFO - Chain [1] done processing\n",
      "23:07:53 - cmdstanpy - INFO - Chain [1] start processing\n"
     ]
    },
    {
     "name": "stdout",
     "output_type": "stream",
     "text": [
      "Evaluación combinación: CPS=0.25, SPS=15.0, SM=additive\n"
     ]
    },
    {
     "name": "stderr",
     "output_type": "stream",
     "text": [
      "23:08:17 - cmdstanpy - INFO - Chain [1] done processing\n",
      "23:08:17 - cmdstanpy - INFO - Chain [1] start processing\n"
     ]
    },
    {
     "name": "stdout",
     "output_type": "stream",
     "text": [
      "Evaluación combinación: CPS=0.25, SPS=15.0, SM=multiplicative\n"
     ]
    },
    {
     "name": "stderr",
     "output_type": "stream",
     "text": [
      "23:08:42 - cmdstanpy - INFO - Chain [1] done processing\n",
      "23:08:42 - cmdstanpy - INFO - Chain [1] start processing\n"
     ]
    },
    {
     "name": "stdout",
     "output_type": "stream",
     "text": [
      "Procesando: Total Mercado, columna: avg_hours_per_day_per_driver\n",
      "Evaluación combinación: CPS=0.15, SPS=5.0, SM=additive\n"
     ]
    },
    {
     "name": "stderr",
     "output_type": "stream",
     "text": [
      "23:09:07 - cmdstanpy - INFO - Chain [1] done processing\n",
      "23:09:07 - cmdstanpy - INFO - Chain [1] start processing\n"
     ]
    },
    {
     "name": "stdout",
     "output_type": "stream",
     "text": [
      "Evaluación combinación: CPS=0.15, SPS=5.0, SM=multiplicative\n"
     ]
    },
    {
     "name": "stderr",
     "output_type": "stream",
     "text": [
      "23:09:32 - cmdstanpy - INFO - Chain [1] done processing\n",
      "23:09:32 - cmdstanpy - INFO - Chain [1] start processing\n"
     ]
    },
    {
     "name": "stdout",
     "output_type": "stream",
     "text": [
      "Evaluación combinación: CPS=0.15, SPS=6.0, SM=additive\n"
     ]
    },
    {
     "name": "stderr",
     "output_type": "stream",
     "text": [
      "23:09:55 - cmdstanpy - INFO - Chain [1] done processing\n",
      "23:09:56 - cmdstanpy - INFO - Chain [1] start processing\n"
     ]
    },
    {
     "name": "stdout",
     "output_type": "stream",
     "text": [
      "Evaluación combinación: CPS=0.15, SPS=6.0, SM=multiplicative\n"
     ]
    },
    {
     "name": "stderr",
     "output_type": "stream",
     "text": [
      "23:10:20 - cmdstanpy - INFO - Chain [1] done processing\n",
      "23:10:21 - cmdstanpy - INFO - Chain [1] start processing\n"
     ]
    },
    {
     "name": "stdout",
     "output_type": "stream",
     "text": [
      "Evaluación combinación: CPS=0.15, SPS=7.0, SM=additive\n"
     ]
    },
    {
     "name": "stderr",
     "output_type": "stream",
     "text": [
      "23:10:45 - cmdstanpy - INFO - Chain [1] done processing\n",
      "23:10:45 - cmdstanpy - INFO - Chain [1] start processing\n"
     ]
    },
    {
     "name": "stdout",
     "output_type": "stream",
     "text": [
      "Evaluación combinación: CPS=0.15, SPS=7.0, SM=multiplicative\n"
     ]
    },
    {
     "name": "stderr",
     "output_type": "stream",
     "text": [
      "23:11:10 - cmdstanpy - INFO - Chain [1] done processing\n",
      "23:11:10 - cmdstanpy - INFO - Chain [1] start processing\n"
     ]
    },
    {
     "name": "stdout",
     "output_type": "stream",
     "text": [
      "Evaluación combinación: CPS=0.15, SPS=8.0, SM=additive\n"
     ]
    },
    {
     "name": "stderr",
     "output_type": "stream",
     "text": [
      "23:11:35 - cmdstanpy - INFO - Chain [1] done processing\n",
      "23:11:35 - cmdstanpy - INFO - Chain [1] start processing\n"
     ]
    },
    {
     "name": "stdout",
     "output_type": "stream",
     "text": [
      "Evaluación combinación: CPS=0.15, SPS=8.0, SM=multiplicative\n"
     ]
    },
    {
     "name": "stderr",
     "output_type": "stream",
     "text": [
      "23:12:00 - cmdstanpy - INFO - Chain [1] done processing\n",
      "23:12:00 - cmdstanpy - INFO - Chain [1] start processing\n"
     ]
    },
    {
     "name": "stdout",
     "output_type": "stream",
     "text": [
      "Evaluación combinación: CPS=0.15, SPS=9.0, SM=additive\n"
     ]
    },
    {
     "name": "stderr",
     "output_type": "stream",
     "text": [
      "23:12:24 - cmdstanpy - INFO - Chain [1] done processing\n",
      "23:12:25 - cmdstanpy - INFO - Chain [1] start processing\n"
     ]
    },
    {
     "name": "stdout",
     "output_type": "stream",
     "text": [
      "Evaluación combinación: CPS=0.15, SPS=9.0, SM=multiplicative\n"
     ]
    },
    {
     "name": "stderr",
     "output_type": "stream",
     "text": [
      "23:12:50 - cmdstanpy - INFO - Chain [1] done processing\n",
      "23:12:50 - cmdstanpy - INFO - Chain [1] start processing\n"
     ]
    },
    {
     "name": "stdout",
     "output_type": "stream",
     "text": [
      "Evaluación combinación: CPS=0.15, SPS=10.0, SM=additive\n"
     ]
    },
    {
     "name": "stderr",
     "output_type": "stream",
     "text": [
      "23:13:14 - cmdstanpy - INFO - Chain [1] done processing\n",
      "23:13:15 - cmdstanpy - INFO - Chain [1] start processing\n"
     ]
    },
    {
     "name": "stdout",
     "output_type": "stream",
     "text": [
      "Evaluación combinación: CPS=0.15, SPS=10.0, SM=multiplicative\n"
     ]
    },
    {
     "name": "stderr",
     "output_type": "stream",
     "text": [
      "23:13:40 - cmdstanpy - INFO - Chain [1] done processing\n",
      "23:13:40 - cmdstanpy - INFO - Chain [1] start processing\n"
     ]
    },
    {
     "name": "stdout",
     "output_type": "stream",
     "text": [
      "Evaluación combinación: CPS=0.15, SPS=11.0, SM=additive\n"
     ]
    },
    {
     "name": "stderr",
     "output_type": "stream",
     "text": [
      "23:14:06 - cmdstanpy - INFO - Chain [1] done processing\n",
      "23:14:06 - cmdstanpy - INFO - Chain [1] start processing\n"
     ]
    },
    {
     "name": "stdout",
     "output_type": "stream",
     "text": [
      "Evaluación combinación: CPS=0.15, SPS=11.0, SM=multiplicative\n"
     ]
    },
    {
     "name": "stderr",
     "output_type": "stream",
     "text": [
      "23:14:31 - cmdstanpy - INFO - Chain [1] done processing\n",
      "23:14:31 - cmdstanpy - INFO - Chain [1] start processing\n"
     ]
    },
    {
     "name": "stdout",
     "output_type": "stream",
     "text": [
      "Evaluación combinación: CPS=0.15, SPS=12.0, SM=additive\n"
     ]
    },
    {
     "name": "stderr",
     "output_type": "stream",
     "text": [
      "23:14:55 - cmdstanpy - INFO - Chain [1] done processing\n",
      "23:14:56 - cmdstanpy - INFO - Chain [1] start processing\n"
     ]
    },
    {
     "name": "stdout",
     "output_type": "stream",
     "text": [
      "Evaluación combinación: CPS=0.15, SPS=12.0, SM=multiplicative\n"
     ]
    },
    {
     "name": "stderr",
     "output_type": "stream",
     "text": [
      "23:15:21 - cmdstanpy - INFO - Chain [1] done processing\n",
      "23:15:21 - cmdstanpy - INFO - Chain [1] start processing\n"
     ]
    },
    {
     "name": "stdout",
     "output_type": "stream",
     "text": [
      "Evaluación combinación: CPS=0.15, SPS=13.0, SM=additive\n"
     ]
    },
    {
     "name": "stderr",
     "output_type": "stream",
     "text": [
      "23:15:45 - cmdstanpy - INFO - Chain [1] done processing\n",
      "23:15:45 - cmdstanpy - INFO - Chain [1] start processing\n"
     ]
    },
    {
     "name": "stdout",
     "output_type": "stream",
     "text": [
      "Evaluación combinación: CPS=0.15, SPS=13.0, SM=multiplicative\n"
     ]
    },
    {
     "name": "stderr",
     "output_type": "stream",
     "text": [
      "23:16:10 - cmdstanpy - INFO - Chain [1] done processing\n",
      "23:16:10 - cmdstanpy - INFO - Chain [1] start processing\n"
     ]
    },
    {
     "name": "stdout",
     "output_type": "stream",
     "text": [
      "Evaluación combinación: CPS=0.15, SPS=14.0, SM=additive\n"
     ]
    },
    {
     "name": "stderr",
     "output_type": "stream",
     "text": [
      "23:16:35 - cmdstanpy - INFO - Chain [1] done processing\n",
      "23:16:35 - cmdstanpy - INFO - Chain [1] start processing\n"
     ]
    },
    {
     "name": "stdout",
     "output_type": "stream",
     "text": [
      "Evaluación combinación: CPS=0.15, SPS=14.0, SM=multiplicative\n"
     ]
    },
    {
     "name": "stderr",
     "output_type": "stream",
     "text": [
      "23:16:59 - cmdstanpy - INFO - Chain [1] done processing\n",
      "23:17:00 - cmdstanpy - INFO - Chain [1] start processing\n"
     ]
    },
    {
     "name": "stdout",
     "output_type": "stream",
     "text": [
      "Evaluación combinación: CPS=0.15, SPS=15.0, SM=additive\n"
     ]
    },
    {
     "name": "stderr",
     "output_type": "stream",
     "text": [
      "23:17:24 - cmdstanpy - INFO - Chain [1] done processing\n"
     ]
    },
    {
     "name": "stdout",
     "output_type": "stream",
     "text": [
      "Evaluación combinación: CPS=0.15, SPS=15.0, SM=multiplicative\n"
     ]
    },
    {
     "name": "stderr",
     "output_type": "stream",
     "text": [
      "23:17:24 - cmdstanpy - INFO - Chain [1] start processing\n",
      "23:17:49 - cmdstanpy - INFO - Chain [1] done processing\n",
      "23:17:49 - cmdstanpy - INFO - Chain [1] start processing\n"
     ]
    },
    {
     "name": "stdout",
     "output_type": "stream",
     "text": [
      "Evaluación combinación: CPS=0.16, SPS=5.0, SM=additive\n"
     ]
    },
    {
     "name": "stderr",
     "output_type": "stream",
     "text": [
      "23:18:13 - cmdstanpy - INFO - Chain [1] done processing\n",
      "23:18:13 - cmdstanpy - INFO - Chain [1] start processing\n"
     ]
    },
    {
     "name": "stdout",
     "output_type": "stream",
     "text": [
      "Evaluación combinación: CPS=0.16, SPS=5.0, SM=multiplicative\n"
     ]
    },
    {
     "name": "stderr",
     "output_type": "stream",
     "text": [
      "23:18:38 - cmdstanpy - INFO - Chain [1] done processing\n",
      "23:18:38 - cmdstanpy - INFO - Chain [1] start processing\n"
     ]
    },
    {
     "name": "stdout",
     "output_type": "stream",
     "text": [
      "Evaluación combinación: CPS=0.16, SPS=6.0, SM=additive\n"
     ]
    },
    {
     "name": "stderr",
     "output_type": "stream",
     "text": [
      "23:19:02 - cmdstanpy - INFO - Chain [1] done processing\n",
      "23:19:03 - cmdstanpy - INFO - Chain [1] start processing\n"
     ]
    },
    {
     "name": "stdout",
     "output_type": "stream",
     "text": [
      "Evaluación combinación: CPS=0.16, SPS=6.0, SM=multiplicative\n"
     ]
    },
    {
     "name": "stderr",
     "output_type": "stream",
     "text": [
      "23:19:27 - cmdstanpy - INFO - Chain [1] done processing\n",
      "23:19:27 - cmdstanpy - INFO - Chain [1] start processing\n"
     ]
    },
    {
     "name": "stdout",
     "output_type": "stream",
     "text": [
      "Evaluación combinación: CPS=0.16, SPS=7.0, SM=additive\n"
     ]
    },
    {
     "name": "stderr",
     "output_type": "stream",
     "text": [
      "23:19:52 - cmdstanpy - INFO - Chain [1] done processing\n",
      "23:19:52 - cmdstanpy - INFO - Chain [1] start processing\n"
     ]
    },
    {
     "name": "stdout",
     "output_type": "stream",
     "text": [
      "Evaluación combinación: CPS=0.16, SPS=7.0, SM=multiplicative\n"
     ]
    },
    {
     "name": "stderr",
     "output_type": "stream",
     "text": [
      "23:20:16 - cmdstanpy - INFO - Chain [1] done processing\n",
      "23:20:17 - cmdstanpy - INFO - Chain [1] start processing\n"
     ]
    },
    {
     "name": "stdout",
     "output_type": "stream",
     "text": [
      "Evaluación combinación: CPS=0.16, SPS=8.0, SM=additive\n"
     ]
    },
    {
     "name": "stderr",
     "output_type": "stream",
     "text": [
      "23:20:41 - cmdstanpy - INFO - Chain [1] done processing\n",
      "23:20:41 - cmdstanpy - INFO - Chain [1] start processing\n"
     ]
    },
    {
     "name": "stdout",
     "output_type": "stream",
     "text": [
      "Evaluación combinación: CPS=0.16, SPS=8.0, SM=multiplicative\n"
     ]
    },
    {
     "name": "stderr",
     "output_type": "stream",
     "text": [
      "23:21:05 - cmdstanpy - INFO - Chain [1] done processing\n",
      "23:21:06 - cmdstanpy - INFO - Chain [1] start processing\n"
     ]
    },
    {
     "name": "stdout",
     "output_type": "stream",
     "text": [
      "Evaluación combinación: CPS=0.16, SPS=9.0, SM=additive\n"
     ]
    },
    {
     "name": "stderr",
     "output_type": "stream",
     "text": [
      "23:21:30 - cmdstanpy - INFO - Chain [1] done processing\n",
      "23:21:30 - cmdstanpy - INFO - Chain [1] start processing\n"
     ]
    },
    {
     "name": "stdout",
     "output_type": "stream",
     "text": [
      "Evaluación combinación: CPS=0.16, SPS=9.0, SM=multiplicative\n"
     ]
    },
    {
     "name": "stderr",
     "output_type": "stream",
     "text": [
      "23:21:55 - cmdstanpy - INFO - Chain [1] done processing\n",
      "23:21:55 - cmdstanpy - INFO - Chain [1] start processing\n"
     ]
    },
    {
     "name": "stdout",
     "output_type": "stream",
     "text": [
      "Evaluación combinación: CPS=0.16, SPS=10.0, SM=additive\n"
     ]
    },
    {
     "name": "stderr",
     "output_type": "stream",
     "text": [
      "23:22:19 - cmdstanpy - INFO - Chain [1] done processing\n",
      "23:22:19 - cmdstanpy - INFO - Chain [1] start processing\n"
     ]
    },
    {
     "name": "stdout",
     "output_type": "stream",
     "text": [
      "Evaluación combinación: CPS=0.16, SPS=10.0, SM=multiplicative\n"
     ]
    },
    {
     "name": "stderr",
     "output_type": "stream",
     "text": [
      "23:22:43 - cmdstanpy - INFO - Chain [1] done processing\n",
      "23:22:44 - cmdstanpy - INFO - Chain [1] start processing\n"
     ]
    },
    {
     "name": "stdout",
     "output_type": "stream",
     "text": [
      "Evaluación combinación: CPS=0.16, SPS=11.0, SM=additive\n"
     ]
    },
    {
     "name": "stderr",
     "output_type": "stream",
     "text": [
      "23:23:08 - cmdstanpy - INFO - Chain [1] done processing\n",
      "23:23:08 - cmdstanpy - INFO - Chain [1] start processing\n"
     ]
    },
    {
     "name": "stdout",
     "output_type": "stream",
     "text": [
      "Evaluación combinación: CPS=0.16, SPS=11.0, SM=multiplicative\n"
     ]
    },
    {
     "name": "stderr",
     "output_type": "stream",
     "text": [
      "23:23:32 - cmdstanpy - INFO - Chain [1] done processing\n",
      "23:23:33 - cmdstanpy - INFO - Chain [1] start processing\n"
     ]
    },
    {
     "name": "stdout",
     "output_type": "stream",
     "text": [
      "Evaluación combinación: CPS=0.16, SPS=12.0, SM=additive\n"
     ]
    },
    {
     "name": "stderr",
     "output_type": "stream",
     "text": [
      "23:23:57 - cmdstanpy - INFO - Chain [1] done processing\n",
      "23:23:57 - cmdstanpy - INFO - Chain [1] start processing\n"
     ]
    },
    {
     "name": "stdout",
     "output_type": "stream",
     "text": [
      "Evaluación combinación: CPS=0.16, SPS=12.0, SM=multiplicative\n"
     ]
    },
    {
     "name": "stderr",
     "output_type": "stream",
     "text": [
      "23:24:21 - cmdstanpy - INFO - Chain [1] done processing\n",
      "23:24:22 - cmdstanpy - INFO - Chain [1] start processing\n"
     ]
    },
    {
     "name": "stdout",
     "output_type": "stream",
     "text": [
      "Evaluación combinación: CPS=0.16, SPS=13.0, SM=additive\n"
     ]
    },
    {
     "name": "stderr",
     "output_type": "stream",
     "text": [
      "23:24:51 - cmdstanpy - INFO - Chain [1] done processing\n"
     ]
    },
    {
     "name": "stdout",
     "output_type": "stream",
     "text": [
      "Evaluación combinación: CPS=0.16, SPS=13.0, SM=multiplicative\n"
     ]
    },
    {
     "name": "stderr",
     "output_type": "stream",
     "text": [
      "23:24:51 - cmdstanpy - INFO - Chain [1] start processing\n",
      "23:25:19 - cmdstanpy - INFO - Chain [1] done processing\n",
      "23:25:19 - cmdstanpy - INFO - Chain [1] start processing\n"
     ]
    },
    {
     "name": "stdout",
     "output_type": "stream",
     "text": [
      "Evaluación combinación: CPS=0.16, SPS=14.0, SM=additive\n"
     ]
    },
    {
     "name": "stderr",
     "output_type": "stream",
     "text": [
      "23:25:44 - cmdstanpy - INFO - Chain [1] done processing\n",
      "23:25:44 - cmdstanpy - INFO - Chain [1] start processing\n"
     ]
    },
    {
     "name": "stdout",
     "output_type": "stream",
     "text": [
      "Evaluación combinación: CPS=0.16, SPS=14.0, SM=multiplicative\n"
     ]
    },
    {
     "name": "stderr",
     "output_type": "stream",
     "text": [
      "23:26:09 - cmdstanpy - INFO - Chain [1] done processing\n",
      "23:26:09 - cmdstanpy - INFO - Chain [1] start processing\n"
     ]
    },
    {
     "name": "stdout",
     "output_type": "stream",
     "text": [
      "Evaluación combinación: CPS=0.16, SPS=15.0, SM=additive\n"
     ]
    },
    {
     "name": "stderr",
     "output_type": "stream",
     "text": [
      "23:26:33 - cmdstanpy - INFO - Chain [1] done processing\n",
      "23:26:33 - cmdstanpy - INFO - Chain [1] start processing\n"
     ]
    },
    {
     "name": "stdout",
     "output_type": "stream",
     "text": [
      "Evaluación combinación: CPS=0.16, SPS=15.0, SM=multiplicative\n"
     ]
    },
    {
     "name": "stderr",
     "output_type": "stream",
     "text": [
      "23:26:58 - cmdstanpy - INFO - Chain [1] done processing\n",
      "23:26:58 - cmdstanpy - INFO - Chain [1] start processing\n"
     ]
    },
    {
     "name": "stdout",
     "output_type": "stream",
     "text": [
      "Evaluación combinación: CPS=0.17, SPS=5.0, SM=additive\n"
     ]
    },
    {
     "name": "stderr",
     "output_type": "stream",
     "text": [
      "23:27:23 - cmdstanpy - INFO - Chain [1] done processing\n",
      "23:27:23 - cmdstanpy - INFO - Chain [1] start processing\n"
     ]
    },
    {
     "name": "stdout",
     "output_type": "stream",
     "text": [
      "Evaluación combinación: CPS=0.17, SPS=5.0, SM=multiplicative\n"
     ]
    },
    {
     "name": "stderr",
     "output_type": "stream",
     "text": [
      "23:27:48 - cmdstanpy - INFO - Chain [1] done processing\n",
      "23:27:48 - cmdstanpy - INFO - Chain [1] start processing\n"
     ]
    },
    {
     "name": "stdout",
     "output_type": "stream",
     "text": [
      "Evaluación combinación: CPS=0.17, SPS=6.0, SM=additive\n"
     ]
    },
    {
     "name": "stderr",
     "output_type": "stream",
     "text": [
      "23:28:12 - cmdstanpy - INFO - Chain [1] done processing\n",
      "23:28:12 - cmdstanpy - INFO - Chain [1] start processing\n"
     ]
    },
    {
     "name": "stdout",
     "output_type": "stream",
     "text": [
      "Evaluación combinación: CPS=0.17, SPS=6.0, SM=multiplicative\n"
     ]
    },
    {
     "name": "stderr",
     "output_type": "stream",
     "text": [
      "23:28:37 - cmdstanpy - INFO - Chain [1] done processing\n",
      "23:28:37 - cmdstanpy - INFO - Chain [1] start processing\n"
     ]
    },
    {
     "name": "stdout",
     "output_type": "stream",
     "text": [
      "Evaluación combinación: CPS=0.17, SPS=7.0, SM=additive\n"
     ]
    },
    {
     "name": "stderr",
     "output_type": "stream",
     "text": [
      "23:29:01 - cmdstanpy - INFO - Chain [1] done processing\n",
      "23:29:02 - cmdstanpy - INFO - Chain [1] start processing\n"
     ]
    },
    {
     "name": "stdout",
     "output_type": "stream",
     "text": [
      "Evaluación combinación: CPS=0.17, SPS=7.0, SM=multiplicative\n"
     ]
    },
    {
     "name": "stderr",
     "output_type": "stream",
     "text": [
      "23:29:26 - cmdstanpy - INFO - Chain [1] done processing\n",
      "23:29:26 - cmdstanpy - INFO - Chain [1] start processing\n"
     ]
    },
    {
     "name": "stdout",
     "output_type": "stream",
     "text": [
      "Evaluación combinación: CPS=0.17, SPS=8.0, SM=additive\n"
     ]
    },
    {
     "name": "stderr",
     "output_type": "stream",
     "text": [
      "23:29:51 - cmdstanpy - INFO - Chain [1] done processing\n",
      "23:29:51 - cmdstanpy - INFO - Chain [1] start processing\n"
     ]
    },
    {
     "name": "stdout",
     "output_type": "stream",
     "text": [
      "Evaluación combinación: CPS=0.17, SPS=8.0, SM=multiplicative\n"
     ]
    },
    {
     "name": "stderr",
     "output_type": "stream",
     "text": [
      "23:30:15 - cmdstanpy - INFO - Chain [1] done processing\n",
      "23:30:16 - cmdstanpy - INFO - Chain [1] start processing\n"
     ]
    },
    {
     "name": "stdout",
     "output_type": "stream",
     "text": [
      "Evaluación combinación: CPS=0.17, SPS=9.0, SM=additive\n"
     ]
    },
    {
     "name": "stderr",
     "output_type": "stream",
     "text": [
      "23:30:40 - cmdstanpy - INFO - Chain [1] done processing\n",
      "23:30:40 - cmdstanpy - INFO - Chain [1] start processing\n"
     ]
    },
    {
     "name": "stdout",
     "output_type": "stream",
     "text": [
      "Evaluación combinación: CPS=0.17, SPS=9.0, SM=multiplicative\n"
     ]
    },
    {
     "name": "stderr",
     "output_type": "stream",
     "text": [
      "23:31:05 - cmdstanpy - INFO - Chain [1] done processing\n",
      "23:31:05 - cmdstanpy - INFO - Chain [1] start processing\n"
     ]
    },
    {
     "name": "stdout",
     "output_type": "stream",
     "text": [
      "Evaluación combinación: CPS=0.17, SPS=10.0, SM=additive\n"
     ]
    },
    {
     "name": "stderr",
     "output_type": "stream",
     "text": [
      "23:31:29 - cmdstanpy - INFO - Chain [1] done processing\n",
      "23:31:29 - cmdstanpy - INFO - Chain [1] start processing\n"
     ]
    },
    {
     "name": "stdout",
     "output_type": "stream",
     "text": [
      "Evaluación combinación: CPS=0.17, SPS=10.0, SM=multiplicative\n"
     ]
    },
    {
     "name": "stderr",
     "output_type": "stream",
     "text": [
      "23:31:54 - cmdstanpy - INFO - Chain [1] done processing\n",
      "23:31:54 - cmdstanpy - INFO - Chain [1] start processing\n"
     ]
    },
    {
     "name": "stdout",
     "output_type": "stream",
     "text": [
      "Evaluación combinación: CPS=0.17, SPS=11.0, SM=additive\n"
     ]
    },
    {
     "name": "stderr",
     "output_type": "stream",
     "text": [
      "23:32:18 - cmdstanpy - INFO - Chain [1] done processing\n",
      "23:32:18 - cmdstanpy - INFO - Chain [1] start processing\n"
     ]
    },
    {
     "name": "stdout",
     "output_type": "stream",
     "text": [
      "Evaluación combinación: CPS=0.17, SPS=11.0, SM=multiplicative\n"
     ]
    },
    {
     "name": "stderr",
     "output_type": "stream",
     "text": [
      "23:32:43 - cmdstanpy - INFO - Chain [1] done processing\n",
      "23:32:43 - cmdstanpy - INFO - Chain [1] start processing\n"
     ]
    },
    {
     "name": "stdout",
     "output_type": "stream",
     "text": [
      "Evaluación combinación: CPS=0.17, SPS=12.0, SM=additive\n"
     ]
    },
    {
     "name": "stderr",
     "output_type": "stream",
     "text": [
      "23:33:07 - cmdstanpy - INFO - Chain [1] done processing\n",
      "23:33:07 - cmdstanpy - INFO - Chain [1] start processing\n"
     ]
    },
    {
     "name": "stdout",
     "output_type": "stream",
     "text": [
      "Evaluación combinación: CPS=0.17, SPS=12.0, SM=multiplicative\n"
     ]
    },
    {
     "name": "stderr",
     "output_type": "stream",
     "text": [
      "23:33:32 - cmdstanpy - INFO - Chain [1] done processing\n",
      "23:33:32 - cmdstanpy - INFO - Chain [1] start processing\n"
     ]
    },
    {
     "name": "stdout",
     "output_type": "stream",
     "text": [
      "Evaluación combinación: CPS=0.17, SPS=13.0, SM=additive\n"
     ]
    },
    {
     "name": "stderr",
     "output_type": "stream",
     "text": [
      "23:33:56 - cmdstanpy - INFO - Chain [1] done processing\n",
      "23:33:56 - cmdstanpy - INFO - Chain [1] start processing\n"
     ]
    },
    {
     "name": "stdout",
     "output_type": "stream",
     "text": [
      "Evaluación combinación: CPS=0.17, SPS=13.0, SM=multiplicative\n"
     ]
    },
    {
     "name": "stderr",
     "output_type": "stream",
     "text": [
      "23:34:22 - cmdstanpy - INFO - Chain [1] done processing\n",
      "23:34:22 - cmdstanpy - INFO - Chain [1] start processing\n"
     ]
    },
    {
     "name": "stdout",
     "output_type": "stream",
     "text": [
      "Evaluación combinación: CPS=0.17, SPS=14.0, SM=additive\n"
     ]
    },
    {
     "name": "stderr",
     "output_type": "stream",
     "text": [
      "23:34:46 - cmdstanpy - INFO - Chain [1] done processing\n",
      "23:34:47 - cmdstanpy - INFO - Chain [1] start processing\n"
     ]
    },
    {
     "name": "stdout",
     "output_type": "stream",
     "text": [
      "Evaluación combinación: CPS=0.17, SPS=14.0, SM=multiplicative\n"
     ]
    },
    {
     "name": "stderr",
     "output_type": "stream",
     "text": [
      "23:35:11 - cmdstanpy - INFO - Chain [1] done processing\n",
      "23:35:12 - cmdstanpy - INFO - Chain [1] start processing\n"
     ]
    },
    {
     "name": "stdout",
     "output_type": "stream",
     "text": [
      "Evaluación combinación: CPS=0.17, SPS=15.0, SM=additive\n"
     ]
    },
    {
     "name": "stderr",
     "output_type": "stream",
     "text": [
      "23:35:36 - cmdstanpy - INFO - Chain [1] done processing\n",
      "23:35:36 - cmdstanpy - INFO - Chain [1] start processing\n"
     ]
    },
    {
     "name": "stdout",
     "output_type": "stream",
     "text": [
      "Evaluación combinación: CPS=0.17, SPS=15.0, SM=multiplicative\n"
     ]
    },
    {
     "name": "stderr",
     "output_type": "stream",
     "text": [
      "23:36:01 - cmdstanpy - INFO - Chain [1] done processing\n",
      "23:36:01 - cmdstanpy - INFO - Chain [1] start processing\n"
     ]
    },
    {
     "name": "stdout",
     "output_type": "stream",
     "text": [
      "Evaluación combinación: CPS=0.18, SPS=5.0, SM=additive\n"
     ]
    },
    {
     "name": "stderr",
     "output_type": "stream",
     "text": [
      "23:36:25 - cmdstanpy - INFO - Chain [1] done processing\n",
      "23:36:26 - cmdstanpy - INFO - Chain [1] start processing\n"
     ]
    },
    {
     "name": "stdout",
     "output_type": "stream",
     "text": [
      "Evaluación combinación: CPS=0.18, SPS=5.0, SM=multiplicative\n"
     ]
    },
    {
     "name": "stderr",
     "output_type": "stream",
     "text": [
      "23:36:50 - cmdstanpy - INFO - Chain [1] done processing\n",
      "23:36:51 - cmdstanpy - INFO - Chain [1] start processing\n"
     ]
    },
    {
     "name": "stdout",
     "output_type": "stream",
     "text": [
      "Evaluación combinación: CPS=0.18, SPS=6.0, SM=additive\n"
     ]
    },
    {
     "name": "stderr",
     "output_type": "stream",
     "text": [
      "23:37:15 - cmdstanpy - INFO - Chain [1] done processing\n",
      "23:37:15 - cmdstanpy - INFO - Chain [1] start processing\n"
     ]
    },
    {
     "name": "stdout",
     "output_type": "stream",
     "text": [
      "Evaluación combinación: CPS=0.18, SPS=6.0, SM=multiplicative\n"
     ]
    },
    {
     "name": "stderr",
     "output_type": "stream",
     "text": [
      "23:37:40 - cmdstanpy - INFO - Chain [1] done processing\n",
      "23:37:40 - cmdstanpy - INFO - Chain [1] start processing\n"
     ]
    },
    {
     "name": "stdout",
     "output_type": "stream",
     "text": [
      "Evaluación combinación: CPS=0.18, SPS=7.0, SM=additive\n"
     ]
    },
    {
     "name": "stderr",
     "output_type": "stream",
     "text": [
      "23:38:04 - cmdstanpy - INFO - Chain [1] done processing\n",
      "23:38:05 - cmdstanpy - INFO - Chain [1] start processing\n"
     ]
    },
    {
     "name": "stdout",
     "output_type": "stream",
     "text": [
      "Evaluación combinación: CPS=0.18, SPS=7.0, SM=multiplicative\n"
     ]
    },
    {
     "name": "stderr",
     "output_type": "stream",
     "text": [
      "23:38:30 - cmdstanpy - INFO - Chain [1] done processing\n",
      "23:38:30 - cmdstanpy - INFO - Chain [1] start processing\n"
     ]
    },
    {
     "name": "stdout",
     "output_type": "stream",
     "text": [
      "Evaluación combinación: CPS=0.18, SPS=8.0, SM=additive\n"
     ]
    },
    {
     "name": "stderr",
     "output_type": "stream",
     "text": [
      "23:38:54 - cmdstanpy - INFO - Chain [1] done processing\n",
      "23:38:54 - cmdstanpy - INFO - Chain [1] start processing\n"
     ]
    },
    {
     "name": "stdout",
     "output_type": "stream",
     "text": [
      "Evaluación combinación: CPS=0.18, SPS=8.0, SM=multiplicative\n"
     ]
    },
    {
     "name": "stderr",
     "output_type": "stream",
     "text": [
      "23:39:19 - cmdstanpy - INFO - Chain [1] done processing\n",
      "23:39:19 - cmdstanpy - INFO - Chain [1] start processing\n"
     ]
    },
    {
     "name": "stdout",
     "output_type": "stream",
     "text": [
      "Evaluación combinación: CPS=0.18, SPS=9.0, SM=additive\n"
     ]
    },
    {
     "name": "stderr",
     "output_type": "stream",
     "text": [
      "23:39:43 - cmdstanpy - INFO - Chain [1] done processing\n",
      "23:39:43 - cmdstanpy - INFO - Chain [1] start processing\n"
     ]
    },
    {
     "name": "stdout",
     "output_type": "stream",
     "text": [
      "Evaluación combinación: CPS=0.18, SPS=9.0, SM=multiplicative\n"
     ]
    },
    {
     "name": "stderr",
     "output_type": "stream",
     "text": [
      "23:40:08 - cmdstanpy - INFO - Chain [1] done processing\n",
      "23:40:08 - cmdstanpy - INFO - Chain [1] start processing\n"
     ]
    },
    {
     "name": "stdout",
     "output_type": "stream",
     "text": [
      "Evaluación combinación: CPS=0.18, SPS=10.0, SM=additive\n"
     ]
    },
    {
     "name": "stderr",
     "output_type": "stream",
     "text": [
      "23:40:32 - cmdstanpy - INFO - Chain [1] done processing\n",
      "23:40:32 - cmdstanpy - INFO - Chain [1] start processing\n"
     ]
    },
    {
     "name": "stdout",
     "output_type": "stream",
     "text": [
      "Evaluación combinación: CPS=0.18, SPS=10.0, SM=multiplicative\n"
     ]
    },
    {
     "name": "stderr",
     "output_type": "stream",
     "text": [
      "23:40:57 - cmdstanpy - INFO - Chain [1] done processing\n",
      "23:40:58 - cmdstanpy - INFO - Chain [1] start processing\n"
     ]
    },
    {
     "name": "stdout",
     "output_type": "stream",
     "text": [
      "Evaluación combinación: CPS=0.18, SPS=11.0, SM=additive\n"
     ]
    },
    {
     "name": "stderr",
     "output_type": "stream",
     "text": [
      "23:41:02 - cmdstanpy - INFO - Chain [1] done processing\n",
      "23:41:03 - cmdstanpy - INFO - Chain [1] start processing\n"
     ]
    },
    {
     "name": "stdout",
     "output_type": "stream",
     "text": [
      "Evaluación combinación: CPS=0.18, SPS=11.0, SM=multiplicative\n"
     ]
    },
    {
     "name": "stderr",
     "output_type": "stream",
     "text": [
      "23:41:28 - cmdstanpy - INFO - Chain [1] done processing\n",
      "23:41:28 - cmdstanpy - INFO - Chain [1] start processing\n"
     ]
    },
    {
     "name": "stdout",
     "output_type": "stream",
     "text": [
      "Evaluación combinación: CPS=0.18, SPS=12.0, SM=additive\n"
     ]
    },
    {
     "name": "stderr",
     "output_type": "stream",
     "text": [
      "23:41:52 - cmdstanpy - INFO - Chain [1] done processing\n",
      "23:41:52 - cmdstanpy - INFO - Chain [1] start processing\n"
     ]
    },
    {
     "name": "stdout",
     "output_type": "stream",
     "text": [
      "Evaluación combinación: CPS=0.18, SPS=12.0, SM=multiplicative\n"
     ]
    },
    {
     "name": "stderr",
     "output_type": "stream",
     "text": [
      "23:42:17 - cmdstanpy - INFO - Chain [1] done processing\n",
      "23:42:17 - cmdstanpy - INFO - Chain [1] start processing\n"
     ]
    },
    {
     "name": "stdout",
     "output_type": "stream",
     "text": [
      "Evaluación combinación: CPS=0.18, SPS=13.0, SM=additive\n"
     ]
    },
    {
     "name": "stderr",
     "output_type": "stream",
     "text": [
      "23:42:41 - cmdstanpy - INFO - Chain [1] done processing\n",
      "23:42:41 - cmdstanpy - INFO - Chain [1] start processing\n"
     ]
    },
    {
     "name": "stdout",
     "output_type": "stream",
     "text": [
      "Evaluación combinación: CPS=0.18, SPS=13.0, SM=multiplicative\n"
     ]
    },
    {
     "name": "stderr",
     "output_type": "stream",
     "text": [
      "23:43:06 - cmdstanpy - INFO - Chain [1] done processing\n",
      "23:43:06 - cmdstanpy - INFO - Chain [1] start processing\n"
     ]
    },
    {
     "name": "stdout",
     "output_type": "stream",
     "text": [
      "Evaluación combinación: CPS=0.18, SPS=14.0, SM=additive\n"
     ]
    },
    {
     "name": "stderr",
     "output_type": "stream",
     "text": [
      "23:43:31 - cmdstanpy - INFO - Chain [1] done processing\n",
      "23:43:31 - cmdstanpy - INFO - Chain [1] start processing\n"
     ]
    },
    {
     "name": "stdout",
     "output_type": "stream",
     "text": [
      "Evaluación combinación: CPS=0.18, SPS=14.0, SM=multiplicative\n"
     ]
    },
    {
     "name": "stderr",
     "output_type": "stream",
     "text": [
      "23:43:56 - cmdstanpy - INFO - Chain [1] done processing\n",
      "23:43:56 - cmdstanpy - INFO - Chain [1] start processing\n"
     ]
    },
    {
     "name": "stdout",
     "output_type": "stream",
     "text": [
      "Evaluación combinación: CPS=0.18, SPS=15.0, SM=additive\n"
     ]
    },
    {
     "name": "stderr",
     "output_type": "stream",
     "text": [
      "23:44:20 - cmdstanpy - INFO - Chain [1] done processing\n",
      "23:44:20 - cmdstanpy - INFO - Chain [1] start processing\n"
     ]
    },
    {
     "name": "stdout",
     "output_type": "stream",
     "text": [
      "Evaluación combinación: CPS=0.18, SPS=15.0, SM=multiplicative\n"
     ]
    },
    {
     "name": "stderr",
     "output_type": "stream",
     "text": [
      "23:44:45 - cmdstanpy - INFO - Chain [1] done processing\n",
      "23:44:45 - cmdstanpy - INFO - Chain [1] start processing\n"
     ]
    },
    {
     "name": "stdout",
     "output_type": "stream",
     "text": [
      "Evaluación combinación: CPS=0.19, SPS=5.0, SM=additive\n"
     ]
    },
    {
     "name": "stderr",
     "output_type": "stream",
     "text": [
      "23:45:10 - cmdstanpy - INFO - Chain [1] done processing\n",
      "23:45:10 - cmdstanpy - INFO - Chain [1] start processing\n"
     ]
    },
    {
     "name": "stdout",
     "output_type": "stream",
     "text": [
      "Evaluación combinación: CPS=0.19, SPS=5.0, SM=multiplicative\n"
     ]
    },
    {
     "name": "stderr",
     "output_type": "stream",
     "text": [
      "23:45:34 - cmdstanpy - INFO - Chain [1] done processing\n",
      "23:45:34 - cmdstanpy - INFO - Chain [1] start processing\n"
     ]
    },
    {
     "name": "stdout",
     "output_type": "stream",
     "text": [
      "Evaluación combinación: CPS=0.19, SPS=6.0, SM=additive\n"
     ]
    },
    {
     "name": "stderr",
     "output_type": "stream",
     "text": [
      "23:45:54 - cmdstanpy - INFO - Chain [1] done processing\n",
      "23:45:54 - cmdstanpy - INFO - Chain [1] start processing\n"
     ]
    },
    {
     "name": "stdout",
     "output_type": "stream",
     "text": [
      "Evaluación combinación: CPS=0.19, SPS=6.0, SM=multiplicative\n"
     ]
    },
    {
     "name": "stderr",
     "output_type": "stream",
     "text": [
      "23:46:19 - cmdstanpy - INFO - Chain [1] done processing\n",
      "23:46:19 - cmdstanpy - INFO - Chain [1] start processing\n"
     ]
    },
    {
     "name": "stdout",
     "output_type": "stream",
     "text": [
      "Evaluación combinación: CPS=0.19, SPS=7.0, SM=additive\n"
     ]
    },
    {
     "name": "stderr",
     "output_type": "stream",
     "text": [
      "23:46:44 - cmdstanpy - INFO - Chain [1] done processing\n",
      "23:46:44 - cmdstanpy - INFO - Chain [1] start processing\n"
     ]
    },
    {
     "name": "stdout",
     "output_type": "stream",
     "text": [
      "Evaluación combinación: CPS=0.19, SPS=7.0, SM=multiplicative\n"
     ]
    },
    {
     "name": "stderr",
     "output_type": "stream",
     "text": [
      "23:47:09 - cmdstanpy - INFO - Chain [1] done processing\n",
      "23:47:09 - cmdstanpy - INFO - Chain [1] start processing\n"
     ]
    },
    {
     "name": "stdout",
     "output_type": "stream",
     "text": [
      "Evaluación combinación: CPS=0.19, SPS=8.0, SM=additive\n"
     ]
    },
    {
     "name": "stderr",
     "output_type": "stream",
     "text": [
      "23:47:33 - cmdstanpy - INFO - Chain [1] done processing\n",
      "23:47:33 - cmdstanpy - INFO - Chain [1] start processing\n"
     ]
    },
    {
     "name": "stdout",
     "output_type": "stream",
     "text": [
      "Evaluación combinación: CPS=0.19, SPS=8.0, SM=multiplicative\n"
     ]
    },
    {
     "name": "stderr",
     "output_type": "stream",
     "text": [
      "23:47:58 - cmdstanpy - INFO - Chain [1] done processing\n",
      "23:47:58 - cmdstanpy - INFO - Chain [1] start processing\n"
     ]
    },
    {
     "name": "stdout",
     "output_type": "stream",
     "text": [
      "Evaluación combinación: CPS=0.19, SPS=9.0, SM=additive\n"
     ]
    },
    {
     "name": "stderr",
     "output_type": "stream",
     "text": [
      "23:48:15 - cmdstanpy - INFO - Chain [1] done processing\n",
      "23:48:15 - cmdstanpy - INFO - Chain [1] start processing\n"
     ]
    },
    {
     "name": "stdout",
     "output_type": "stream",
     "text": [
      "Evaluación combinación: CPS=0.19, SPS=9.0, SM=multiplicative\n"
     ]
    },
    {
     "name": "stderr",
     "output_type": "stream",
     "text": [
      "23:48:40 - cmdstanpy - INFO - Chain [1] done processing\n",
      "23:48:40 - cmdstanpy - INFO - Chain [1] start processing\n"
     ]
    },
    {
     "name": "stdout",
     "output_type": "stream",
     "text": [
      "Evaluación combinación: CPS=0.19, SPS=10.0, SM=additive\n"
     ]
    },
    {
     "name": "stderr",
     "output_type": "stream",
     "text": [
      "23:49:04 - cmdstanpy - INFO - Chain [1] done processing\n",
      "23:49:04 - cmdstanpy - INFO - Chain [1] start processing\n"
     ]
    },
    {
     "name": "stdout",
     "output_type": "stream",
     "text": [
      "Evaluación combinación: CPS=0.19, SPS=10.0, SM=multiplicative\n"
     ]
    },
    {
     "name": "stderr",
     "output_type": "stream",
     "text": [
      "23:49:29 - cmdstanpy - INFO - Chain [1] done processing\n",
      "23:49:29 - cmdstanpy - INFO - Chain [1] start processing\n"
     ]
    },
    {
     "name": "stdout",
     "output_type": "stream",
     "text": [
      "Evaluación combinación: CPS=0.19, SPS=11.0, SM=additive\n"
     ]
    },
    {
     "name": "stderr",
     "output_type": "stream",
     "text": [
      "23:49:54 - cmdstanpy - INFO - Chain [1] done processing\n",
      "23:49:54 - cmdstanpy - INFO - Chain [1] start processing\n"
     ]
    },
    {
     "name": "stdout",
     "output_type": "stream",
     "text": [
      "Evaluación combinación: CPS=0.19, SPS=11.0, SM=multiplicative\n"
     ]
    },
    {
     "name": "stderr",
     "output_type": "stream",
     "text": [
      "23:50:19 - cmdstanpy - INFO - Chain [1] done processing\n",
      "23:50:19 - cmdstanpy - INFO - Chain [1] start processing\n"
     ]
    },
    {
     "name": "stdout",
     "output_type": "stream",
     "text": [
      "Evaluación combinación: CPS=0.19, SPS=12.0, SM=additive\n"
     ]
    },
    {
     "name": "stderr",
     "output_type": "stream",
     "text": [
      "23:50:44 - cmdstanpy - INFO - Chain [1] done processing\n",
      "23:50:44 - cmdstanpy - INFO - Chain [1] start processing\n"
     ]
    },
    {
     "name": "stdout",
     "output_type": "stream",
     "text": [
      "Evaluación combinación: CPS=0.19, SPS=12.0, SM=multiplicative\n"
     ]
    },
    {
     "name": "stderr",
     "output_type": "stream",
     "text": [
      "23:51:09 - cmdstanpy - INFO - Chain [1] done processing\n",
      "23:51:09 - cmdstanpy - INFO - Chain [1] start processing\n"
     ]
    },
    {
     "name": "stdout",
     "output_type": "stream",
     "text": [
      "Evaluación combinación: CPS=0.19, SPS=13.0, SM=additive\n"
     ]
    },
    {
     "name": "stderr",
     "output_type": "stream",
     "text": [
      "23:51:33 - cmdstanpy - INFO - Chain [1] done processing\n",
      "23:51:33 - cmdstanpy - INFO - Chain [1] start processing\n"
     ]
    },
    {
     "name": "stdout",
     "output_type": "stream",
     "text": [
      "Evaluación combinación: CPS=0.19, SPS=13.0, SM=multiplicative\n"
     ]
    },
    {
     "name": "stderr",
     "output_type": "stream",
     "text": [
      "23:51:58 - cmdstanpy - INFO - Chain [1] done processing\n",
      "23:51:58 - cmdstanpy - INFO - Chain [1] start processing\n"
     ]
    },
    {
     "name": "stdout",
     "output_type": "stream",
     "text": [
      "Evaluación combinación: CPS=0.19, SPS=14.0, SM=additive\n"
     ]
    },
    {
     "name": "stderr",
     "output_type": "stream",
     "text": [
      "23:52:22 - cmdstanpy - INFO - Chain [1] done processing\n",
      "23:52:22 - cmdstanpy - INFO - Chain [1] start processing\n"
     ]
    },
    {
     "name": "stdout",
     "output_type": "stream",
     "text": [
      "Evaluación combinación: CPS=0.19, SPS=14.0, SM=multiplicative\n"
     ]
    },
    {
     "name": "stderr",
     "output_type": "stream",
     "text": [
      "23:52:47 - cmdstanpy - INFO - Chain [1] done processing\n",
      "23:52:47 - cmdstanpy - INFO - Chain [1] start processing\n"
     ]
    },
    {
     "name": "stdout",
     "output_type": "stream",
     "text": [
      "Evaluación combinación: CPS=0.19, SPS=15.0, SM=additive\n"
     ]
    },
    {
     "name": "stderr",
     "output_type": "stream",
     "text": [
      "23:53:12 - cmdstanpy - INFO - Chain [1] done processing\n",
      "23:53:12 - cmdstanpy - INFO - Chain [1] start processing\n"
     ]
    },
    {
     "name": "stdout",
     "output_type": "stream",
     "text": [
      "Evaluación combinación: CPS=0.19, SPS=15.0, SM=multiplicative\n"
     ]
    },
    {
     "name": "stderr",
     "output_type": "stream",
     "text": [
      "23:53:37 - cmdstanpy - INFO - Chain [1] done processing\n",
      "23:53:37 - cmdstanpy - INFO - Chain [1] start processing\n"
     ]
    },
    {
     "name": "stdout",
     "output_type": "stream",
     "text": [
      "Evaluación combinación: CPS=0.2, SPS=5.0, SM=additive\n"
     ]
    },
    {
     "name": "stderr",
     "output_type": "stream",
     "text": [
      "23:54:01 - cmdstanpy - INFO - Chain [1] done processing\n",
      "23:54:01 - cmdstanpy - INFO - Chain [1] start processing\n"
     ]
    },
    {
     "name": "stdout",
     "output_type": "stream",
     "text": [
      "Evaluación combinación: CPS=0.2, SPS=5.0, SM=multiplicative\n"
     ]
    },
    {
     "name": "stderr",
     "output_type": "stream",
     "text": [
      "23:54:26 - cmdstanpy - INFO - Chain [1] done processing\n",
      "23:54:26 - cmdstanpy - INFO - Chain [1] start processing\n"
     ]
    },
    {
     "name": "stdout",
     "output_type": "stream",
     "text": [
      "Evaluación combinación: CPS=0.2, SPS=6.0, SM=additive\n"
     ]
    },
    {
     "name": "stderr",
     "output_type": "stream",
     "text": [
      "23:54:51 - cmdstanpy - INFO - Chain [1] done processing\n",
      "23:54:51 - cmdstanpy - INFO - Chain [1] start processing\n"
     ]
    },
    {
     "name": "stdout",
     "output_type": "stream",
     "text": [
      "Evaluación combinación: CPS=0.2, SPS=6.0, SM=multiplicative\n"
     ]
    },
    {
     "name": "stderr",
     "output_type": "stream",
     "text": [
      "23:55:15 - cmdstanpy - INFO - Chain [1] done processing\n",
      "23:55:16 - cmdstanpy - INFO - Chain [1] start processing\n"
     ]
    },
    {
     "name": "stdout",
     "output_type": "stream",
     "text": [
      "Evaluación combinación: CPS=0.2, SPS=7.0, SM=additive\n"
     ]
    },
    {
     "name": "stderr",
     "output_type": "stream",
     "text": [
      "23:55:40 - cmdstanpy - INFO - Chain [1] done processing\n",
      "23:55:40 - cmdstanpy - INFO - Chain [1] start processing\n"
     ]
    },
    {
     "name": "stdout",
     "output_type": "stream",
     "text": [
      "Evaluación combinación: CPS=0.2, SPS=7.0, SM=multiplicative\n"
     ]
    },
    {
     "name": "stderr",
     "output_type": "stream",
     "text": [
      "23:56:05 - cmdstanpy - INFO - Chain [1] done processing\n",
      "23:56:05 - cmdstanpy - INFO - Chain [1] start processing\n"
     ]
    },
    {
     "name": "stdout",
     "output_type": "stream",
     "text": [
      "Evaluación combinación: CPS=0.2, SPS=8.0, SM=additive\n"
     ]
    },
    {
     "name": "stderr",
     "output_type": "stream",
     "text": [
      "23:56:29 - cmdstanpy - INFO - Chain [1] done processing\n",
      "23:56:29 - cmdstanpy - INFO - Chain [1] start processing\n"
     ]
    },
    {
     "name": "stdout",
     "output_type": "stream",
     "text": [
      "Evaluación combinación: CPS=0.2, SPS=8.0, SM=multiplicative\n"
     ]
    },
    {
     "name": "stderr",
     "output_type": "stream",
     "text": [
      "23:56:54 - cmdstanpy - INFO - Chain [1] done processing\n",
      "23:56:54 - cmdstanpy - INFO - Chain [1] start processing\n"
     ]
    },
    {
     "name": "stdout",
     "output_type": "stream",
     "text": [
      "Evaluación combinación: CPS=0.2, SPS=9.0, SM=additive\n"
     ]
    },
    {
     "name": "stderr",
     "output_type": "stream",
     "text": [
      "23:57:18 - cmdstanpy - INFO - Chain [1] done processing\n",
      "23:57:19 - cmdstanpy - INFO - Chain [1] start processing\n"
     ]
    },
    {
     "name": "stdout",
     "output_type": "stream",
     "text": [
      "Evaluación combinación: CPS=0.2, SPS=9.0, SM=multiplicative\n"
     ]
    },
    {
     "name": "stderr",
     "output_type": "stream",
     "text": [
      "23:57:44 - cmdstanpy - INFO - Chain [1] done processing\n",
      "23:57:44 - cmdstanpy - INFO - Chain [1] start processing\n"
     ]
    },
    {
     "name": "stdout",
     "output_type": "stream",
     "text": [
      "Evaluación combinación: CPS=0.2, SPS=10.0, SM=additive\n"
     ]
    },
    {
     "name": "stderr",
     "output_type": "stream",
     "text": [
      "23:58:08 - cmdstanpy - INFO - Chain [1] done processing\n",
      "23:58:08 - cmdstanpy - INFO - Chain [1] start processing\n"
     ]
    },
    {
     "name": "stdout",
     "output_type": "stream",
     "text": [
      "Evaluación combinación: CPS=0.2, SPS=10.0, SM=multiplicative\n"
     ]
    },
    {
     "name": "stderr",
     "output_type": "stream",
     "text": [
      "23:58:33 - cmdstanpy - INFO - Chain [1] done processing\n",
      "23:58:33 - cmdstanpy - INFO - Chain [1] start processing\n"
     ]
    },
    {
     "name": "stdout",
     "output_type": "stream",
     "text": [
      "Evaluación combinación: CPS=0.2, SPS=11.0, SM=additive\n"
     ]
    },
    {
     "name": "stderr",
     "output_type": "stream",
     "text": [
      "23:58:57 - cmdstanpy - INFO - Chain [1] done processing\n",
      "23:58:57 - cmdstanpy - INFO - Chain [1] start processing\n"
     ]
    },
    {
     "name": "stdout",
     "output_type": "stream",
     "text": [
      "Evaluación combinación: CPS=0.2, SPS=11.0, SM=multiplicative\n"
     ]
    },
    {
     "name": "stderr",
     "output_type": "stream",
     "text": [
      "23:59:22 - cmdstanpy - INFO - Chain [1] done processing\n",
      "23:59:22 - cmdstanpy - INFO - Chain [1] start processing\n"
     ]
    },
    {
     "name": "stdout",
     "output_type": "stream",
     "text": [
      "Evaluación combinación: CPS=0.2, SPS=12.0, SM=additive\n"
     ]
    },
    {
     "name": "stderr",
     "output_type": "stream",
     "text": [
      "23:59:47 - cmdstanpy - INFO - Chain [1] done processing\n",
      "23:59:47 - cmdstanpy - INFO - Chain [1] start processing\n"
     ]
    },
    {
     "name": "stdout",
     "output_type": "stream",
     "text": [
      "Evaluación combinación: CPS=0.2, SPS=12.0, SM=multiplicative\n"
     ]
    },
    {
     "name": "stderr",
     "output_type": "stream",
     "text": [
      "00:00:11 - cmdstanpy - INFO - Chain [1] done processing\n",
      "00:00:12 - cmdstanpy - INFO - Chain [1] start processing\n"
     ]
    },
    {
     "name": "stdout",
     "output_type": "stream",
     "text": [
      "Evaluación combinación: CPS=0.2, SPS=13.0, SM=additive\n"
     ]
    },
    {
     "name": "stderr",
     "output_type": "stream",
     "text": [
      "00:00:36 - cmdstanpy - INFO - Chain [1] done processing\n",
      "00:00:36 - cmdstanpy - INFO - Chain [1] start processing\n"
     ]
    },
    {
     "name": "stdout",
     "output_type": "stream",
     "text": [
      "Evaluación combinación: CPS=0.2, SPS=13.0, SM=multiplicative\n"
     ]
    },
    {
     "name": "stderr",
     "output_type": "stream",
     "text": [
      "00:01:01 - cmdstanpy - INFO - Chain [1] done processing\n",
      "00:01:01 - cmdstanpy - INFO - Chain [1] start processing\n"
     ]
    },
    {
     "name": "stdout",
     "output_type": "stream",
     "text": [
      "Evaluación combinación: CPS=0.2, SPS=14.0, SM=additive\n"
     ]
    },
    {
     "name": "stderr",
     "output_type": "stream",
     "text": [
      "00:01:26 - cmdstanpy - INFO - Chain [1] done processing\n",
      "00:01:26 - cmdstanpy - INFO - Chain [1] start processing\n"
     ]
    },
    {
     "name": "stdout",
     "output_type": "stream",
     "text": [
      "Evaluación combinación: CPS=0.2, SPS=14.0, SM=multiplicative\n"
     ]
    },
    {
     "name": "stderr",
     "output_type": "stream",
     "text": [
      "00:01:50 - cmdstanpy - INFO - Chain [1] done processing\n",
      "00:01:51 - cmdstanpy - INFO - Chain [1] start processing\n"
     ]
    },
    {
     "name": "stdout",
     "output_type": "stream",
     "text": [
      "Evaluación combinación: CPS=0.2, SPS=15.0, SM=additive\n"
     ]
    },
    {
     "name": "stderr",
     "output_type": "stream",
     "text": [
      "00:02:15 - cmdstanpy - INFO - Chain [1] done processing\n",
      "00:02:15 - cmdstanpy - INFO - Chain [1] start processing\n"
     ]
    },
    {
     "name": "stdout",
     "output_type": "stream",
     "text": [
      "Evaluación combinación: CPS=0.2, SPS=15.0, SM=multiplicative\n"
     ]
    },
    {
     "name": "stderr",
     "output_type": "stream",
     "text": [
      "00:02:40 - cmdstanpy - INFO - Chain [1] done processing\n",
      "00:02:40 - cmdstanpy - INFO - Chain [1] start processing\n"
     ]
    },
    {
     "name": "stdout",
     "output_type": "stream",
     "text": [
      "Evaluación combinación: CPS=0.21, SPS=5.0, SM=additive\n"
     ]
    },
    {
     "name": "stderr",
     "output_type": "stream",
     "text": [
      "00:03:04 - cmdstanpy - INFO - Chain [1] done processing\n",
      "00:03:04 - cmdstanpy - INFO - Chain [1] start processing\n"
     ]
    },
    {
     "name": "stdout",
     "output_type": "stream",
     "text": [
      "Evaluación combinación: CPS=0.21, SPS=5.0, SM=multiplicative\n"
     ]
    },
    {
     "name": "stderr",
     "output_type": "stream",
     "text": [
      "00:03:29 - cmdstanpy - INFO - Chain [1] done processing\n",
      "00:03:29 - cmdstanpy - INFO - Chain [1] start processing\n"
     ]
    },
    {
     "name": "stdout",
     "output_type": "stream",
     "text": [
      "Evaluación combinación: CPS=0.21, SPS=6.0, SM=additive\n"
     ]
    },
    {
     "name": "stderr",
     "output_type": "stream",
     "text": [
      "00:03:53 - cmdstanpy - INFO - Chain [1] done processing\n",
      "00:03:53 - cmdstanpy - INFO - Chain [1] start processing\n"
     ]
    },
    {
     "name": "stdout",
     "output_type": "stream",
     "text": [
      "Evaluación combinación: CPS=0.21, SPS=6.0, SM=multiplicative\n"
     ]
    },
    {
     "name": "stderr",
     "output_type": "stream",
     "text": [
      "00:04:19 - cmdstanpy - INFO - Chain [1] done processing\n",
      "00:04:19 - cmdstanpy - INFO - Chain [1] start processing\n"
     ]
    },
    {
     "name": "stdout",
     "output_type": "stream",
     "text": [
      "Evaluación combinación: CPS=0.21, SPS=7.0, SM=additive\n"
     ]
    },
    {
     "name": "stderr",
     "output_type": "stream",
     "text": [
      "00:04:44 - cmdstanpy - INFO - Chain [1] done processing\n",
      "00:04:44 - cmdstanpy - INFO - Chain [1] start processing\n"
     ]
    },
    {
     "name": "stdout",
     "output_type": "stream",
     "text": [
      "Evaluación combinación: CPS=0.21, SPS=7.0, SM=multiplicative\n"
     ]
    },
    {
     "name": "stderr",
     "output_type": "stream",
     "text": [
      "00:05:09 - cmdstanpy - INFO - Chain [1] done processing\n",
      "00:05:09 - cmdstanpy - INFO - Chain [1] start processing\n"
     ]
    },
    {
     "name": "stdout",
     "output_type": "stream",
     "text": [
      "Evaluación combinación: CPS=0.21, SPS=8.0, SM=additive\n"
     ]
    },
    {
     "name": "stderr",
     "output_type": "stream",
     "text": [
      "00:05:33 - cmdstanpy - INFO - Chain [1] done processing\n",
      "00:05:33 - cmdstanpy - INFO - Chain [1] start processing\n"
     ]
    },
    {
     "name": "stdout",
     "output_type": "stream",
     "text": [
      "Evaluación combinación: CPS=0.21, SPS=8.0, SM=multiplicative\n"
     ]
    },
    {
     "name": "stderr",
     "output_type": "stream",
     "text": [
      "00:05:58 - cmdstanpy - INFO - Chain [1] done processing\n",
      "00:05:58 - cmdstanpy - INFO - Chain [1] start processing\n"
     ]
    },
    {
     "name": "stdout",
     "output_type": "stream",
     "text": [
      "Evaluación combinación: CPS=0.21, SPS=9.0, SM=additive\n"
     ]
    },
    {
     "name": "stderr",
     "output_type": "stream",
     "text": [
      "00:06:23 - cmdstanpy - INFO - Chain [1] done processing\n",
      "00:06:23 - cmdstanpy - INFO - Chain [1] start processing\n"
     ]
    },
    {
     "name": "stdout",
     "output_type": "stream",
     "text": [
      "Evaluación combinación: CPS=0.21, SPS=9.0, SM=multiplicative\n"
     ]
    },
    {
     "name": "stderr",
     "output_type": "stream",
     "text": [
      "00:06:47 - cmdstanpy - INFO - Chain [1] done processing\n",
      "00:06:48 - cmdstanpy - INFO - Chain [1] start processing\n"
     ]
    },
    {
     "name": "stdout",
     "output_type": "stream",
     "text": [
      "Evaluación combinación: CPS=0.21, SPS=10.0, SM=additive\n"
     ]
    },
    {
     "name": "stderr",
     "output_type": "stream",
     "text": [
      "00:07:12 - cmdstanpy - INFO - Chain [1] done processing\n",
      "00:07:12 - cmdstanpy - INFO - Chain [1] start processing\n"
     ]
    },
    {
     "name": "stdout",
     "output_type": "stream",
     "text": [
      "Evaluación combinación: CPS=0.21, SPS=10.0, SM=multiplicative\n"
     ]
    },
    {
     "name": "stderr",
     "output_type": "stream",
     "text": [
      "00:07:39 - cmdstanpy - INFO - Chain [1] done processing\n",
      "00:07:39 - cmdstanpy - INFO - Chain [1] start processing\n"
     ]
    },
    {
     "name": "stdout",
     "output_type": "stream",
     "text": [
      "Evaluación combinación: CPS=0.21, SPS=11.0, SM=additive\n"
     ]
    },
    {
     "name": "stderr",
     "output_type": "stream",
     "text": [
      "00:08:03 - cmdstanpy - INFO - Chain [1] done processing\n",
      "00:08:03 - cmdstanpy - INFO - Chain [1] start processing\n"
     ]
    },
    {
     "name": "stdout",
     "output_type": "stream",
     "text": [
      "Evaluación combinación: CPS=0.21, SPS=11.0, SM=multiplicative\n"
     ]
    },
    {
     "name": "stderr",
     "output_type": "stream",
     "text": [
      "00:08:28 - cmdstanpy - INFO - Chain [1] done processing\n",
      "00:08:28 - cmdstanpy - INFO - Chain [1] start processing\n"
     ]
    },
    {
     "name": "stdout",
     "output_type": "stream",
     "text": [
      "Evaluación combinación: CPS=0.21, SPS=12.0, SM=additive\n"
     ]
    },
    {
     "name": "stderr",
     "output_type": "stream",
     "text": [
      "00:08:53 - cmdstanpy - INFO - Chain [1] done processing\n",
      "00:08:53 - cmdstanpy - INFO - Chain [1] start processing\n"
     ]
    },
    {
     "name": "stdout",
     "output_type": "stream",
     "text": [
      "Evaluación combinación: CPS=0.21, SPS=12.0, SM=multiplicative\n"
     ]
    },
    {
     "name": "stderr",
     "output_type": "stream",
     "text": [
      "00:09:18 - cmdstanpy - INFO - Chain [1] done processing\n",
      "00:09:18 - cmdstanpy - INFO - Chain [1] start processing\n"
     ]
    },
    {
     "name": "stdout",
     "output_type": "stream",
     "text": [
      "Evaluación combinación: CPS=0.21, SPS=13.0, SM=additive\n"
     ]
    },
    {
     "name": "stderr",
     "output_type": "stream",
     "text": [
      "00:09:42 - cmdstanpy - INFO - Chain [1] done processing\n",
      "00:09:42 - cmdstanpy - INFO - Chain [1] start processing\n"
     ]
    },
    {
     "name": "stdout",
     "output_type": "stream",
     "text": [
      "Evaluación combinación: CPS=0.21, SPS=13.0, SM=multiplicative\n"
     ]
    },
    {
     "name": "stderr",
     "output_type": "stream",
     "text": [
      "00:10:07 - cmdstanpy - INFO - Chain [1] done processing\n",
      "00:10:07 - cmdstanpy - INFO - Chain [1] start processing\n"
     ]
    },
    {
     "name": "stdout",
     "output_type": "stream",
     "text": [
      "Evaluación combinación: CPS=0.21, SPS=14.0, SM=additive\n"
     ]
    },
    {
     "name": "stderr",
     "output_type": "stream",
     "text": [
      "00:10:25 - cmdstanpy - INFO - Chain [1] done processing\n",
      "00:10:25 - cmdstanpy - INFO - Chain [1] start processing\n"
     ]
    },
    {
     "name": "stdout",
     "output_type": "stream",
     "text": [
      "Evaluación combinación: CPS=0.21, SPS=14.0, SM=multiplicative\n"
     ]
    },
    {
     "name": "stderr",
     "output_type": "stream",
     "text": [
      "00:10:50 - cmdstanpy - INFO - Chain [1] done processing\n"
     ]
    },
    {
     "name": "stdout",
     "output_type": "stream",
     "text": [
      "Evaluación combinación: CPS=0.21, SPS=15.0, SM=additive\n"
     ]
    },
    {
     "name": "stderr",
     "output_type": "stream",
     "text": [
      "00:10:50 - cmdstanpy - INFO - Chain [1] start processing\n",
      "00:11:14 - cmdstanpy - INFO - Chain [1] done processing\n",
      "00:11:14 - cmdstanpy - INFO - Chain [1] start processing\n"
     ]
    },
    {
     "name": "stdout",
     "output_type": "stream",
     "text": [
      "Evaluación combinación: CPS=0.21, SPS=15.0, SM=multiplicative\n"
     ]
    },
    {
     "name": "stderr",
     "output_type": "stream",
     "text": [
      "00:11:39 - cmdstanpy - INFO - Chain [1] done processing\n",
      "00:11:39 - cmdstanpy - INFO - Chain [1] start processing\n"
     ]
    },
    {
     "name": "stdout",
     "output_type": "stream",
     "text": [
      "Evaluación combinación: CPS=0.22, SPS=5.0, SM=additive\n"
     ]
    },
    {
     "name": "stderr",
     "output_type": "stream",
     "text": [
      "00:12:03 - cmdstanpy - INFO - Chain [1] done processing\n",
      "00:12:03 - cmdstanpy - INFO - Chain [1] start processing\n"
     ]
    },
    {
     "name": "stdout",
     "output_type": "stream",
     "text": [
      "Evaluación combinación: CPS=0.22, SPS=5.0, SM=multiplicative\n"
     ]
    },
    {
     "name": "stderr",
     "output_type": "stream",
     "text": [
      "00:12:28 - cmdstanpy - INFO - Chain [1] done processing\n",
      "00:12:28 - cmdstanpy - INFO - Chain [1] start processing\n"
     ]
    },
    {
     "name": "stdout",
     "output_type": "stream",
     "text": [
      "Evaluación combinación: CPS=0.22, SPS=6.0, SM=additive\n"
     ]
    },
    {
     "name": "stderr",
     "output_type": "stream",
     "text": [
      "00:12:53 - cmdstanpy - INFO - Chain [1] done processing\n",
      "00:12:53 - cmdstanpy - INFO - Chain [1] start processing\n"
     ]
    },
    {
     "name": "stdout",
     "output_type": "stream",
     "text": [
      "Evaluación combinación: CPS=0.22, SPS=6.0, SM=multiplicative\n"
     ]
    },
    {
     "name": "stderr",
     "output_type": "stream",
     "text": [
      "00:13:17 - cmdstanpy - INFO - Chain [1] done processing\n",
      "00:13:17 - cmdstanpy - INFO - Chain [1] start processing\n"
     ]
    },
    {
     "name": "stdout",
     "output_type": "stream",
     "text": [
      "Evaluación combinación: CPS=0.22, SPS=7.0, SM=additive\n"
     ]
    },
    {
     "name": "stderr",
     "output_type": "stream",
     "text": [
      "00:13:41 - cmdstanpy - INFO - Chain [1] done processing\n",
      "00:13:42 - cmdstanpy - INFO - Chain [1] start processing\n"
     ]
    },
    {
     "name": "stdout",
     "output_type": "stream",
     "text": [
      "Evaluación combinación: CPS=0.22, SPS=7.0, SM=multiplicative\n"
     ]
    },
    {
     "name": "stderr",
     "output_type": "stream",
     "text": [
      "00:14:06 - cmdstanpy - INFO - Chain [1] done processing\n",
      "00:14:06 - cmdstanpy - INFO - Chain [1] start processing\n"
     ]
    },
    {
     "name": "stdout",
     "output_type": "stream",
     "text": [
      "Evaluación combinación: CPS=0.22, SPS=8.0, SM=additive\n"
     ]
    },
    {
     "name": "stderr",
     "output_type": "stream",
     "text": [
      "00:14:31 - cmdstanpy - INFO - Chain [1] done processing\n",
      "00:14:31 - cmdstanpy - INFO - Chain [1] start processing\n"
     ]
    },
    {
     "name": "stdout",
     "output_type": "stream",
     "text": [
      "Evaluación combinación: CPS=0.22, SPS=8.0, SM=multiplicative\n"
     ]
    },
    {
     "name": "stderr",
     "output_type": "stream",
     "text": [
      "00:14:55 - cmdstanpy - INFO - Chain [1] done processing\n",
      "00:14:56 - cmdstanpy - INFO - Chain [1] start processing\n"
     ]
    },
    {
     "name": "stdout",
     "output_type": "stream",
     "text": [
      "Evaluación combinación: CPS=0.22, SPS=9.0, SM=additive\n"
     ]
    },
    {
     "name": "stderr",
     "output_type": "stream",
     "text": [
      "00:15:20 - cmdstanpy - INFO - Chain [1] done processing\n",
      "00:15:20 - cmdstanpy - INFO - Chain [1] start processing\n"
     ]
    },
    {
     "name": "stdout",
     "output_type": "stream",
     "text": [
      "Evaluación combinación: CPS=0.22, SPS=9.0, SM=multiplicative\n"
     ]
    },
    {
     "name": "stderr",
     "output_type": "stream",
     "text": [
      "00:15:44 - cmdstanpy - INFO - Chain [1] done processing\n",
      "00:15:45 - cmdstanpy - INFO - Chain [1] start processing\n"
     ]
    },
    {
     "name": "stdout",
     "output_type": "stream",
     "text": [
      "Evaluación combinación: CPS=0.22, SPS=10.0, SM=additive\n"
     ]
    },
    {
     "name": "stderr",
     "output_type": "stream",
     "text": [
      "00:16:09 - cmdstanpy - INFO - Chain [1] done processing\n",
      "00:16:09 - cmdstanpy - INFO - Chain [1] start processing\n"
     ]
    },
    {
     "name": "stdout",
     "output_type": "stream",
     "text": [
      "Evaluación combinación: CPS=0.22, SPS=10.0, SM=multiplicative\n"
     ]
    },
    {
     "name": "stderr",
     "output_type": "stream",
     "text": [
      "00:16:34 - cmdstanpy - INFO - Chain [1] done processing\n",
      "00:16:34 - cmdstanpy - INFO - Chain [1] start processing\n"
     ]
    },
    {
     "name": "stdout",
     "output_type": "stream",
     "text": [
      "Evaluación combinación: CPS=0.22, SPS=11.0, SM=additive\n"
     ]
    },
    {
     "name": "stderr",
     "output_type": "stream",
     "text": [
      "00:16:58 - cmdstanpy - INFO - Chain [1] done processing\n",
      "00:16:58 - cmdstanpy - INFO - Chain [1] start processing\n"
     ]
    },
    {
     "name": "stdout",
     "output_type": "stream",
     "text": [
      "Evaluación combinación: CPS=0.22, SPS=11.0, SM=multiplicative\n"
     ]
    },
    {
     "name": "stderr",
     "output_type": "stream",
     "text": [
      "00:17:23 - cmdstanpy - INFO - Chain [1] done processing\n",
      "00:17:23 - cmdstanpy - INFO - Chain [1] start processing\n"
     ]
    },
    {
     "name": "stdout",
     "output_type": "stream",
     "text": [
      "Evaluación combinación: CPS=0.22, SPS=12.0, SM=additive\n"
     ]
    },
    {
     "name": "stderr",
     "output_type": "stream",
     "text": [
      "00:17:48 - cmdstanpy - INFO - Chain [1] done processing\n",
      "00:17:48 - cmdstanpy - INFO - Chain [1] start processing\n"
     ]
    },
    {
     "name": "stdout",
     "output_type": "stream",
     "text": [
      "Evaluación combinación: CPS=0.22, SPS=12.0, SM=multiplicative\n"
     ]
    },
    {
     "name": "stderr",
     "output_type": "stream",
     "text": [
      "00:18:12 - cmdstanpy - INFO - Chain [1] done processing\n",
      "00:18:13 - cmdstanpy - INFO - Chain [1] start processing\n"
     ]
    },
    {
     "name": "stdout",
     "output_type": "stream",
     "text": [
      "Evaluación combinación: CPS=0.22, SPS=13.0, SM=additive\n"
     ]
    },
    {
     "name": "stderr",
     "output_type": "stream",
     "text": [
      "00:18:37 - cmdstanpy - INFO - Chain [1] done processing\n",
      "00:18:37 - cmdstanpy - INFO - Chain [1] start processing\n"
     ]
    },
    {
     "name": "stdout",
     "output_type": "stream",
     "text": [
      "Evaluación combinación: CPS=0.22, SPS=13.0, SM=multiplicative\n"
     ]
    },
    {
     "name": "stderr",
     "output_type": "stream",
     "text": [
      "00:19:01 - cmdstanpy - INFO - Chain [1] done processing\n",
      "00:19:02 - cmdstanpy - INFO - Chain [1] start processing\n"
     ]
    },
    {
     "name": "stdout",
     "output_type": "stream",
     "text": [
      "Evaluación combinación: CPS=0.22, SPS=14.0, SM=additive\n"
     ]
    },
    {
     "name": "stderr",
     "output_type": "stream",
     "text": [
      "00:19:26 - cmdstanpy - INFO - Chain [1] done processing\n",
      "00:19:26 - cmdstanpy - INFO - Chain [1] start processing\n"
     ]
    },
    {
     "name": "stdout",
     "output_type": "stream",
     "text": [
      "Evaluación combinación: CPS=0.22, SPS=14.0, SM=multiplicative\n"
     ]
    },
    {
     "name": "stderr",
     "output_type": "stream",
     "text": [
      "00:19:51 - cmdstanpy - INFO - Chain [1] done processing\n",
      "00:19:51 - cmdstanpy - INFO - Chain [1] start processing\n"
     ]
    },
    {
     "name": "stdout",
     "output_type": "stream",
     "text": [
      "Evaluación combinación: CPS=0.22, SPS=15.0, SM=additive\n"
     ]
    },
    {
     "name": "stderr",
     "output_type": "stream",
     "text": [
      "00:20:16 - cmdstanpy - INFO - Chain [1] done processing\n",
      "00:20:16 - cmdstanpy - INFO - Chain [1] start processing\n"
     ]
    },
    {
     "name": "stdout",
     "output_type": "stream",
     "text": [
      "Evaluación combinación: CPS=0.22, SPS=15.0, SM=multiplicative\n"
     ]
    },
    {
     "name": "stderr",
     "output_type": "stream",
     "text": [
      "00:20:40 - cmdstanpy - INFO - Chain [1] done processing\n",
      "00:20:41 - cmdstanpy - INFO - Chain [1] start processing\n"
     ]
    },
    {
     "name": "stdout",
     "output_type": "stream",
     "text": [
      "Evaluación combinación: CPS=0.23, SPS=5.0, SM=additive\n"
     ]
    },
    {
     "name": "stderr",
     "output_type": "stream",
     "text": [
      "00:21:05 - cmdstanpy - INFO - Chain [1] done processing\n",
      "00:21:05 - cmdstanpy - INFO - Chain [1] start processing\n"
     ]
    },
    {
     "name": "stdout",
     "output_type": "stream",
     "text": [
      "Evaluación combinación: CPS=0.23, SPS=5.0, SM=multiplicative\n"
     ]
    },
    {
     "name": "stderr",
     "output_type": "stream",
     "text": [
      "00:21:30 - cmdstanpy - INFO - Chain [1] done processing\n",
      "00:21:30 - cmdstanpy - INFO - Chain [1] start processing\n"
     ]
    },
    {
     "name": "stdout",
     "output_type": "stream",
     "text": [
      "Evaluación combinación: CPS=0.23, SPS=6.0, SM=additive\n"
     ]
    },
    {
     "name": "stderr",
     "output_type": "stream",
     "text": [
      "00:21:54 - cmdstanpy - INFO - Chain [1] done processing\n",
      "00:21:55 - cmdstanpy - INFO - Chain [1] start processing\n"
     ]
    },
    {
     "name": "stdout",
     "output_type": "stream",
     "text": [
      "Evaluación combinación: CPS=0.23, SPS=6.0, SM=multiplicative\n"
     ]
    },
    {
     "name": "stderr",
     "output_type": "stream",
     "text": [
      "00:22:19 - cmdstanpy - INFO - Chain [1] done processing\n",
      "00:22:20 - cmdstanpy - INFO - Chain [1] start processing\n"
     ]
    },
    {
     "name": "stdout",
     "output_type": "stream",
     "text": [
      "Evaluación combinación: CPS=0.23, SPS=7.0, SM=additive\n"
     ]
    },
    {
     "name": "stderr",
     "output_type": "stream",
     "text": [
      "00:22:44 - cmdstanpy - INFO - Chain [1] done processing\n",
      "00:22:44 - cmdstanpy - INFO - Chain [1] start processing\n"
     ]
    },
    {
     "name": "stdout",
     "output_type": "stream",
     "text": [
      "Evaluación combinación: CPS=0.23, SPS=7.0, SM=multiplicative\n"
     ]
    },
    {
     "name": "stderr",
     "output_type": "stream",
     "text": [
      "00:23:09 - cmdstanpy - INFO - Chain [1] done processing\n",
      "00:23:09 - cmdstanpy - INFO - Chain [1] start processing\n"
     ]
    },
    {
     "name": "stdout",
     "output_type": "stream",
     "text": [
      "Evaluación combinación: CPS=0.23, SPS=8.0, SM=additive\n"
     ]
    },
    {
     "name": "stderr",
     "output_type": "stream",
     "text": [
      "00:23:33 - cmdstanpy - INFO - Chain [1] done processing\n",
      "00:23:33 - cmdstanpy - INFO - Chain [1] start processing\n"
     ]
    },
    {
     "name": "stdout",
     "output_type": "stream",
     "text": [
      "Evaluación combinación: CPS=0.23, SPS=8.0, SM=multiplicative\n"
     ]
    },
    {
     "name": "stderr",
     "output_type": "stream",
     "text": [
      "00:23:58 - cmdstanpy - INFO - Chain [1] done processing\n",
      "00:23:58 - cmdstanpy - INFO - Chain [1] start processing\n"
     ]
    },
    {
     "name": "stdout",
     "output_type": "stream",
     "text": [
      "Evaluación combinación: CPS=0.23, SPS=9.0, SM=additive\n"
     ]
    },
    {
     "name": "stderr",
     "output_type": "stream",
     "text": [
      "00:24:23 - cmdstanpy - INFO - Chain [1] done processing\n",
      "00:24:23 - cmdstanpy - INFO - Chain [1] start processing\n"
     ]
    },
    {
     "name": "stdout",
     "output_type": "stream",
     "text": [
      "Evaluación combinación: CPS=0.23, SPS=9.0, SM=multiplicative\n"
     ]
    },
    {
     "name": "stderr",
     "output_type": "stream",
     "text": [
      "00:24:49 - cmdstanpy - INFO - Chain [1] done processing\n",
      "00:24:49 - cmdstanpy - INFO - Chain [1] start processing\n"
     ]
    },
    {
     "name": "stdout",
     "output_type": "stream",
     "text": [
      "Evaluación combinación: CPS=0.23, SPS=10.0, SM=additive\n"
     ]
    },
    {
     "name": "stderr",
     "output_type": "stream",
     "text": [
      "00:25:13 - cmdstanpy - INFO - Chain [1] done processing\n",
      "00:25:13 - cmdstanpy - INFO - Chain [1] start processing\n"
     ]
    },
    {
     "name": "stdout",
     "output_type": "stream",
     "text": [
      "Evaluación combinación: CPS=0.23, SPS=10.0, SM=multiplicative\n"
     ]
    },
    {
     "name": "stderr",
     "output_type": "stream",
     "text": [
      "00:25:38 - cmdstanpy - INFO - Chain [1] done processing\n",
      "00:25:38 - cmdstanpy - INFO - Chain [1] start processing\n"
     ]
    },
    {
     "name": "stdout",
     "output_type": "stream",
     "text": [
      "Evaluación combinación: CPS=0.23, SPS=11.0, SM=additive\n"
     ]
    },
    {
     "name": "stderr",
     "output_type": "stream",
     "text": [
      "00:26:02 - cmdstanpy - INFO - Chain [1] done processing\n",
      "00:26:02 - cmdstanpy - INFO - Chain [1] start processing\n"
     ]
    },
    {
     "name": "stdout",
     "output_type": "stream",
     "text": [
      "Evaluación combinación: CPS=0.23, SPS=11.0, SM=multiplicative\n"
     ]
    },
    {
     "name": "stderr",
     "output_type": "stream",
     "text": [
      "00:26:27 - cmdstanpy - INFO - Chain [1] done processing\n",
      "00:26:27 - cmdstanpy - INFO - Chain [1] start processing\n"
     ]
    },
    {
     "name": "stdout",
     "output_type": "stream",
     "text": [
      "Evaluación combinación: CPS=0.23, SPS=12.0, SM=additive\n"
     ]
    },
    {
     "name": "stderr",
     "output_type": "stream",
     "text": [
      "00:26:51 - cmdstanpy - INFO - Chain [1] done processing\n",
      "00:26:51 - cmdstanpy - INFO - Chain [1] start processing\n"
     ]
    },
    {
     "name": "stdout",
     "output_type": "stream",
     "text": [
      "Evaluación combinación: CPS=0.23, SPS=12.0, SM=multiplicative\n"
     ]
    },
    {
     "name": "stderr",
     "output_type": "stream",
     "text": [
      "00:27:16 - cmdstanpy - INFO - Chain [1] done processing\n",
      "00:27:17 - cmdstanpy - INFO - Chain [1] start processing\n"
     ]
    },
    {
     "name": "stdout",
     "output_type": "stream",
     "text": [
      "Evaluación combinación: CPS=0.23, SPS=13.0, SM=additive\n"
     ]
    },
    {
     "name": "stderr",
     "output_type": "stream",
     "text": [
      "00:27:41 - cmdstanpy - INFO - Chain [1] done processing\n",
      "00:27:41 - cmdstanpy - INFO - Chain [1] start processing\n"
     ]
    },
    {
     "name": "stdout",
     "output_type": "stream",
     "text": [
      "Evaluación combinación: CPS=0.23, SPS=13.0, SM=multiplicative\n"
     ]
    },
    {
     "name": "stderr",
     "output_type": "stream",
     "text": [
      "00:28:06 - cmdstanpy - INFO - Chain [1] done processing\n",
      "00:28:06 - cmdstanpy - INFO - Chain [1] start processing\n"
     ]
    },
    {
     "name": "stdout",
     "output_type": "stream",
     "text": [
      "Evaluación combinación: CPS=0.23, SPS=14.0, SM=additive\n"
     ]
    },
    {
     "name": "stderr",
     "output_type": "stream",
     "text": [
      "00:28:31 - cmdstanpy - INFO - Chain [1] done processing\n",
      "00:28:31 - cmdstanpy - INFO - Chain [1] start processing\n"
     ]
    },
    {
     "name": "stdout",
     "output_type": "stream",
     "text": [
      "Evaluación combinación: CPS=0.23, SPS=14.0, SM=multiplicative\n"
     ]
    },
    {
     "name": "stderr",
     "output_type": "stream",
     "text": [
      "00:28:55 - cmdstanpy - INFO - Chain [1] done processing\n",
      "00:28:55 - cmdstanpy - INFO - Chain [1] start processing\n"
     ]
    },
    {
     "name": "stdout",
     "output_type": "stream",
     "text": [
      "Evaluación combinación: CPS=0.23, SPS=15.0, SM=additive\n"
     ]
    },
    {
     "name": "stderr",
     "output_type": "stream",
     "text": [
      "00:29:20 - cmdstanpy - INFO - Chain [1] done processing\n",
      "00:29:20 - cmdstanpy - INFO - Chain [1] start processing\n"
     ]
    },
    {
     "name": "stdout",
     "output_type": "stream",
     "text": [
      "Evaluación combinación: CPS=0.23, SPS=15.0, SM=multiplicative\n"
     ]
    },
    {
     "name": "stderr",
     "output_type": "stream",
     "text": [
      "00:29:44 - cmdstanpy - INFO - Chain [1] done processing\n",
      "00:29:44 - cmdstanpy - INFO - Chain [1] start processing\n"
     ]
    },
    {
     "name": "stdout",
     "output_type": "stream",
     "text": [
      "Evaluación combinación: CPS=0.24, SPS=5.0, SM=additive\n"
     ]
    },
    {
     "name": "stderr",
     "output_type": "stream",
     "text": [
      "00:30:09 - cmdstanpy - INFO - Chain [1] done processing\n",
      "00:30:09 - cmdstanpy - INFO - Chain [1] start processing\n"
     ]
    },
    {
     "name": "stdout",
     "output_type": "stream",
     "text": [
      "Evaluación combinación: CPS=0.24, SPS=5.0, SM=multiplicative\n"
     ]
    },
    {
     "name": "stderr",
     "output_type": "stream",
     "text": [
      "00:30:33 - cmdstanpy - INFO - Chain [1] done processing\n",
      "00:30:34 - cmdstanpy - INFO - Chain [1] start processing\n"
     ]
    },
    {
     "name": "stdout",
     "output_type": "stream",
     "text": [
      "Evaluación combinación: CPS=0.24, SPS=6.0, SM=additive\n"
     ]
    },
    {
     "name": "stderr",
     "output_type": "stream",
     "text": [
      "00:30:58 - cmdstanpy - INFO - Chain [1] done processing\n",
      "00:30:58 - cmdstanpy - INFO - Chain [1] start processing\n"
     ]
    },
    {
     "name": "stdout",
     "output_type": "stream",
     "text": [
      "Evaluación combinación: CPS=0.24, SPS=6.0, SM=multiplicative\n"
     ]
    },
    {
     "name": "stderr",
     "output_type": "stream",
     "text": [
      "00:31:23 - cmdstanpy - INFO - Chain [1] done processing\n",
      "00:31:23 - cmdstanpy - INFO - Chain [1] start processing\n"
     ]
    },
    {
     "name": "stdout",
     "output_type": "stream",
     "text": [
      "Evaluación combinación: CPS=0.24, SPS=7.0, SM=additive\n"
     ]
    },
    {
     "name": "stderr",
     "output_type": "stream",
     "text": [
      "00:31:47 - cmdstanpy - INFO - Chain [1] done processing\n",
      "00:31:48 - cmdstanpy - INFO - Chain [1] start processing\n"
     ]
    },
    {
     "name": "stdout",
     "output_type": "stream",
     "text": [
      "Evaluación combinación: CPS=0.24, SPS=7.0, SM=multiplicative\n"
     ]
    },
    {
     "name": "stderr",
     "output_type": "stream",
     "text": [
      "00:32:12 - cmdstanpy - INFO - Chain [1] done processing\n",
      "00:32:13 - cmdstanpy - INFO - Chain [1] start processing\n"
     ]
    },
    {
     "name": "stdout",
     "output_type": "stream",
     "text": [
      "Evaluación combinación: CPS=0.24, SPS=8.0, SM=additive\n"
     ]
    },
    {
     "name": "stderr",
     "output_type": "stream",
     "text": [
      "00:32:34 - cmdstanpy - INFO - Chain [1] done processing\n",
      "00:32:35 - cmdstanpy - INFO - Chain [1] start processing\n"
     ]
    },
    {
     "name": "stdout",
     "output_type": "stream",
     "text": [
      "Evaluación combinación: CPS=0.24, SPS=8.0, SM=multiplicative\n"
     ]
    },
    {
     "name": "stderr",
     "output_type": "stream",
     "text": [
      "00:32:59 - cmdstanpy - INFO - Chain [1] done processing\n",
      "00:32:59 - cmdstanpy - INFO - Chain [1] start processing\n"
     ]
    },
    {
     "name": "stdout",
     "output_type": "stream",
     "text": [
      "Evaluación combinación: CPS=0.24, SPS=9.0, SM=additive\n"
     ]
    },
    {
     "name": "stderr",
     "output_type": "stream",
     "text": [
      "00:33:23 - cmdstanpy - INFO - Chain [1] done processing\n",
      "00:33:23 - cmdstanpy - INFO - Chain [1] start processing\n"
     ]
    },
    {
     "name": "stdout",
     "output_type": "stream",
     "text": [
      "Evaluación combinación: CPS=0.24, SPS=9.0, SM=multiplicative\n"
     ]
    },
    {
     "name": "stderr",
     "output_type": "stream",
     "text": [
      "00:33:48 - cmdstanpy - INFO - Chain [1] done processing\n",
      "00:33:48 - cmdstanpy - INFO - Chain [1] start processing\n"
     ]
    },
    {
     "name": "stdout",
     "output_type": "stream",
     "text": [
      "Evaluación combinación: CPS=0.24, SPS=10.0, SM=additive\n"
     ]
    },
    {
     "name": "stderr",
     "output_type": "stream",
     "text": [
      "00:34:13 - cmdstanpy - INFO - Chain [1] done processing\n",
      "00:34:13 - cmdstanpy - INFO - Chain [1] start processing\n"
     ]
    },
    {
     "name": "stdout",
     "output_type": "stream",
     "text": [
      "Evaluación combinación: CPS=0.24, SPS=10.0, SM=multiplicative\n"
     ]
    },
    {
     "name": "stderr",
     "output_type": "stream",
     "text": [
      "00:34:39 - cmdstanpy - INFO - Chain [1] done processing\n",
      "00:34:39 - cmdstanpy - INFO - Chain [1] start processing\n"
     ]
    },
    {
     "name": "stdout",
     "output_type": "stream",
     "text": [
      "Evaluación combinación: CPS=0.24, SPS=11.0, SM=additive\n"
     ]
    },
    {
     "name": "stderr",
     "output_type": "stream",
     "text": [
      "00:35:03 - cmdstanpy - INFO - Chain [1] done processing\n",
      "00:35:03 - cmdstanpy - INFO - Chain [1] start processing\n"
     ]
    },
    {
     "name": "stdout",
     "output_type": "stream",
     "text": [
      "Evaluación combinación: CPS=0.24, SPS=11.0, SM=multiplicative\n"
     ]
    },
    {
     "name": "stderr",
     "output_type": "stream",
     "text": [
      "00:35:28 - cmdstanpy - INFO - Chain [1] done processing\n",
      "00:35:29 - cmdstanpy - INFO - Chain [1] start processing\n"
     ]
    },
    {
     "name": "stdout",
     "output_type": "stream",
     "text": [
      "Evaluación combinación: CPS=0.24, SPS=12.0, SM=additive\n"
     ]
    },
    {
     "name": "stderr",
     "output_type": "stream",
     "text": [
      "00:35:53 - cmdstanpy - INFO - Chain [1] done processing\n",
      "00:35:53 - cmdstanpy - INFO - Chain [1] start processing\n"
     ]
    },
    {
     "name": "stdout",
     "output_type": "stream",
     "text": [
      "Evaluación combinación: CPS=0.24, SPS=12.0, SM=multiplicative\n"
     ]
    },
    {
     "name": "stderr",
     "output_type": "stream",
     "text": [
      "00:36:18 - cmdstanpy - INFO - Chain [1] done processing\n",
      "00:36:18 - cmdstanpy - INFO - Chain [1] start processing\n"
     ]
    },
    {
     "name": "stdout",
     "output_type": "stream",
     "text": [
      "Evaluación combinación: CPS=0.24, SPS=13.0, SM=additive\n"
     ]
    },
    {
     "name": "stderr",
     "output_type": "stream",
     "text": [
      "00:36:42 - cmdstanpy - INFO - Chain [1] done processing\n",
      "00:36:43 - cmdstanpy - INFO - Chain [1] start processing\n"
     ]
    },
    {
     "name": "stdout",
     "output_type": "stream",
     "text": [
      "Evaluación combinación: CPS=0.24, SPS=13.0, SM=multiplicative\n"
     ]
    },
    {
     "name": "stderr",
     "output_type": "stream",
     "text": [
      "00:37:07 - cmdstanpy - INFO - Chain [1] done processing\n",
      "00:37:07 - cmdstanpy - INFO - Chain [1] start processing\n"
     ]
    },
    {
     "name": "stdout",
     "output_type": "stream",
     "text": [
      "Evaluación combinación: CPS=0.24, SPS=14.0, SM=additive\n"
     ]
    },
    {
     "name": "stderr",
     "output_type": "stream",
     "text": [
      "00:37:32 - cmdstanpy - INFO - Chain [1] done processing\n",
      "00:37:32 - cmdstanpy - INFO - Chain [1] start processing\n"
     ]
    },
    {
     "name": "stdout",
     "output_type": "stream",
     "text": [
      "Evaluación combinación: CPS=0.24, SPS=14.0, SM=multiplicative\n"
     ]
    },
    {
     "name": "stderr",
     "output_type": "stream",
     "text": [
      "00:37:57 - cmdstanpy - INFO - Chain [1] done processing\n",
      "00:37:57 - cmdstanpy - INFO - Chain [1] start processing\n"
     ]
    },
    {
     "name": "stdout",
     "output_type": "stream",
     "text": [
      "Evaluación combinación: CPS=0.24, SPS=15.0, SM=additive\n"
     ]
    },
    {
     "name": "stderr",
     "output_type": "stream",
     "text": [
      "00:38:21 - cmdstanpy - INFO - Chain [1] done processing\n",
      "00:38:22 - cmdstanpy - INFO - Chain [1] start processing\n"
     ]
    },
    {
     "name": "stdout",
     "output_type": "stream",
     "text": [
      "Evaluación combinación: CPS=0.24, SPS=15.0, SM=multiplicative\n"
     ]
    },
    {
     "name": "stderr",
     "output_type": "stream",
     "text": [
      "00:38:46 - cmdstanpy - INFO - Chain [1] done processing\n",
      "00:38:47 - cmdstanpy - INFO - Chain [1] start processing\n"
     ]
    },
    {
     "name": "stdout",
     "output_type": "stream",
     "text": [
      "Evaluación combinación: CPS=0.25, SPS=5.0, SM=additive\n"
     ]
    },
    {
     "name": "stderr",
     "output_type": "stream",
     "text": [
      "00:39:11 - cmdstanpy - INFO - Chain [1] done processing\n",
      "00:39:11 - cmdstanpy - INFO - Chain [1] start processing\n"
     ]
    },
    {
     "name": "stdout",
     "output_type": "stream",
     "text": [
      "Evaluación combinación: CPS=0.25, SPS=5.0, SM=multiplicative\n"
     ]
    },
    {
     "name": "stderr",
     "output_type": "stream",
     "text": [
      "00:39:35 - cmdstanpy - INFO - Chain [1] done processing\n",
      "00:39:35 - cmdstanpy - INFO - Chain [1] start processing\n"
     ]
    },
    {
     "name": "stdout",
     "output_type": "stream",
     "text": [
      "Evaluación combinación: CPS=0.25, SPS=6.0, SM=additive\n"
     ]
    },
    {
     "name": "stderr",
     "output_type": "stream",
     "text": [
      "00:39:59 - cmdstanpy - INFO - Chain [1] done processing\n",
      "00:40:00 - cmdstanpy - INFO - Chain [1] start processing\n"
     ]
    },
    {
     "name": "stdout",
     "output_type": "stream",
     "text": [
      "Evaluación combinación: CPS=0.25, SPS=6.0, SM=multiplicative\n"
     ]
    },
    {
     "name": "stderr",
     "output_type": "stream",
     "text": [
      "00:40:24 - cmdstanpy - INFO - Chain [1] done processing\n",
      "00:40:25 - cmdstanpy - INFO - Chain [1] start processing\n"
     ]
    },
    {
     "name": "stdout",
     "output_type": "stream",
     "text": [
      "Evaluación combinación: CPS=0.25, SPS=7.0, SM=additive\n"
     ]
    },
    {
     "name": "stderr",
     "output_type": "stream",
     "text": [
      "00:40:49 - cmdstanpy - INFO - Chain [1] done processing\n",
      "00:40:49 - cmdstanpy - INFO - Chain [1] start processing\n"
     ]
    },
    {
     "name": "stdout",
     "output_type": "stream",
     "text": [
      "Evaluación combinación: CPS=0.25, SPS=7.0, SM=multiplicative\n"
     ]
    },
    {
     "name": "stderr",
     "output_type": "stream",
     "text": [
      "00:41:14 - cmdstanpy - INFO - Chain [1] done processing\n",
      "00:41:14 - cmdstanpy - INFO - Chain [1] start processing\n"
     ]
    },
    {
     "name": "stdout",
     "output_type": "stream",
     "text": [
      "Evaluación combinación: CPS=0.25, SPS=8.0, SM=additive\n"
     ]
    },
    {
     "name": "stderr",
     "output_type": "stream",
     "text": [
      "00:41:38 - cmdstanpy - INFO - Chain [1] done processing\n",
      "00:41:39 - cmdstanpy - INFO - Chain [1] start processing\n"
     ]
    },
    {
     "name": "stdout",
     "output_type": "stream",
     "text": [
      "Evaluación combinación: CPS=0.25, SPS=8.0, SM=multiplicative\n"
     ]
    },
    {
     "name": "stderr",
     "output_type": "stream",
     "text": [
      "00:42:03 - cmdstanpy - INFO - Chain [1] done processing\n",
      "00:42:04 - cmdstanpy - INFO - Chain [1] start processing\n"
     ]
    },
    {
     "name": "stdout",
     "output_type": "stream",
     "text": [
      "Evaluación combinación: CPS=0.25, SPS=9.0, SM=additive\n"
     ]
    },
    {
     "name": "stderr",
     "output_type": "stream",
     "text": [
      "00:42:28 - cmdstanpy - INFO - Chain [1] done processing\n",
      "00:42:28 - cmdstanpy - INFO - Chain [1] start processing\n"
     ]
    },
    {
     "name": "stdout",
     "output_type": "stream",
     "text": [
      "Evaluación combinación: CPS=0.25, SPS=9.0, SM=multiplicative\n"
     ]
    },
    {
     "name": "stderr",
     "output_type": "stream",
     "text": [
      "00:42:46 - cmdstanpy - INFO - Chain [1] done processing\n",
      "00:42:46 - cmdstanpy - INFO - Chain [1] start processing\n"
     ]
    },
    {
     "name": "stdout",
     "output_type": "stream",
     "text": [
      "Evaluación combinación: CPS=0.25, SPS=10.0, SM=additive\n"
     ]
    },
    {
     "name": "stderr",
     "output_type": "stream",
     "text": [
      "00:43:10 - cmdstanpy - INFO - Chain [1] done processing\n",
      "00:43:10 - cmdstanpy - INFO - Chain [1] start processing\n"
     ]
    },
    {
     "name": "stdout",
     "output_type": "stream",
     "text": [
      "Evaluación combinación: CPS=0.25, SPS=10.0, SM=multiplicative\n"
     ]
    },
    {
     "name": "stderr",
     "output_type": "stream",
     "text": [
      "00:43:35 - cmdstanpy - INFO - Chain [1] done processing\n",
      "00:43:35 - cmdstanpy - INFO - Chain [1] start processing\n"
     ]
    },
    {
     "name": "stdout",
     "output_type": "stream",
     "text": [
      "Evaluación combinación: CPS=0.25, SPS=11.0, SM=additive\n"
     ]
    },
    {
     "name": "stderr",
     "output_type": "stream",
     "text": [
      "00:44:00 - cmdstanpy - INFO - Chain [1] done processing\n",
      "00:44:00 - cmdstanpy - INFO - Chain [1] start processing\n"
     ]
    },
    {
     "name": "stdout",
     "output_type": "stream",
     "text": [
      "Evaluación combinación: CPS=0.25, SPS=11.0, SM=multiplicative\n"
     ]
    },
    {
     "name": "stderr",
     "output_type": "stream",
     "text": [
      "00:44:25 - cmdstanpy - INFO - Chain [1] done processing\n",
      "00:44:25 - cmdstanpy - INFO - Chain [1] start processing\n"
     ]
    },
    {
     "name": "stdout",
     "output_type": "stream",
     "text": [
      "Evaluación combinación: CPS=0.25, SPS=12.0, SM=additive\n"
     ]
    },
    {
     "name": "stderr",
     "output_type": "stream",
     "text": [
      "00:44:49 - cmdstanpy - INFO - Chain [1] done processing\n",
      "00:44:49 - cmdstanpy - INFO - Chain [1] start processing\n"
     ]
    },
    {
     "name": "stdout",
     "output_type": "stream",
     "text": [
      "Evaluación combinación: CPS=0.25, SPS=12.0, SM=multiplicative\n"
     ]
    },
    {
     "name": "stderr",
     "output_type": "stream",
     "text": [
      "00:45:15 - cmdstanpy - INFO - Chain [1] done processing\n",
      "00:45:15 - cmdstanpy - INFO - Chain [1] start processing\n"
     ]
    },
    {
     "name": "stdout",
     "output_type": "stream",
     "text": [
      "Evaluación combinación: CPS=0.25, SPS=13.0, SM=additive\n"
     ]
    },
    {
     "name": "stderr",
     "output_type": "stream",
     "text": [
      "00:45:39 - cmdstanpy - INFO - Chain [1] done processing\n",
      "00:45:39 - cmdstanpy - INFO - Chain [1] start processing\n"
     ]
    },
    {
     "name": "stdout",
     "output_type": "stream",
     "text": [
      "Evaluación combinación: CPS=0.25, SPS=13.0, SM=multiplicative\n"
     ]
    },
    {
     "name": "stderr",
     "output_type": "stream",
     "text": [
      "00:46:04 - cmdstanpy - INFO - Chain [1] done processing\n",
      "00:46:04 - cmdstanpy - INFO - Chain [1] start processing\n"
     ]
    },
    {
     "name": "stdout",
     "output_type": "stream",
     "text": [
      "Evaluación combinación: CPS=0.25, SPS=14.0, SM=additive\n"
     ]
    },
    {
     "name": "stderr",
     "output_type": "stream",
     "text": [
      "00:46:28 - cmdstanpy - INFO - Chain [1] done processing\n",
      "00:46:29 - cmdstanpy - INFO - Chain [1] start processing\n"
     ]
    },
    {
     "name": "stdout",
     "output_type": "stream",
     "text": [
      "Evaluación combinación: CPS=0.25, SPS=14.0, SM=multiplicative\n"
     ]
    },
    {
     "name": "stderr",
     "output_type": "stream",
     "text": [
      "00:46:53 - cmdstanpy - INFO - Chain [1] done processing\n",
      "00:46:54 - cmdstanpy - INFO - Chain [1] start processing\n"
     ]
    },
    {
     "name": "stdout",
     "output_type": "stream",
     "text": [
      "Evaluación combinación: CPS=0.25, SPS=15.0, SM=additive\n"
     ]
    },
    {
     "name": "stderr",
     "output_type": "stream",
     "text": [
      "00:47:18 - cmdstanpy - INFO - Chain [1] done processing\n",
      "00:47:18 - cmdstanpy - INFO - Chain [1] start processing\n"
     ]
    },
    {
     "name": "stdout",
     "output_type": "stream",
     "text": [
      "Evaluación combinación: CPS=0.25, SPS=15.0, SM=multiplicative\n"
     ]
    },
    {
     "name": "stderr",
     "output_type": "stream",
     "text": [
      "00:47:43 - cmdstanpy - INFO - Chain [1] done processing\n"
     ]
    }
   ],
   "source": [
    "# Iterar sobre todas las combinaciones de industria y columna\n",
    "mejores_resultados = {}\n",
    "todos_los_resultados = pd.DataFrame()\n",
    "\n",
    "for industry_type in industry_types:\n",
    "    for column_name in columns_to_predict:\n",
    "        # Preparar los datos\n",
    "        print(f\"Procesando: {industry_type}, columna: {column_name}\")\n",
    "        df_prophet = cargar_y_preparar_datos(df, industry_type, column_name)\n",
    "\n",
    "        if df_prophet is not None and not df_prophet.empty and df_prophet['y'].notnull().all():\n",
    "\n",
    "            # graficar_original(df_prophet, column_name)\n",
    "\n",
    "            # Ejecutar Grid Search\n",
    "            df_resultados, mejor_modelo= pronóstico_con_grid_search(df_prophet, column_name,industry_type, periodos=12, frecuencia=\"MS\")\n",
    "\n",
    "            # Guardar resultados de Grid Search\n",
    "            if not df_resultados.empty:\n",
    "                # Añadir columnas 'industry' y 'column' al DataFrame df_resultados\n",
    "                df_resultados['industry'] = industry_type\n",
    "                df_resultados['column'] = column_name\n",
    "\n",
    "                # Reordenar las columnas del DataFrame\n",
    "                df_resultados = df_resultados[['industry', 'column', 'changepoint_prior_scale', 'seasonality_prior_scale', \n",
    "                                'seasonality_mode', 'mae', 'mape', 'smape', 'mse', 'rmse', 'training time']] \n",
    "\n",
    "\n",
    "                # Concatenar df_resultados con todos_los_resultados\n",
    "                todos_los_resultados = pd.concat([todos_los_resultados, df_resultados], ignore_index=True)\n",
    "\n",
    "            # Guardar mejores resultados\n",
    "            if mejor_modelo is not None:\n",
    "                mejores_resultados[f\"{industry_type}/{column_name}\"] = mejor_modelo.to_dict()         \n",
    "\n",
    "# Guardar todos los resultados en un archivo\n",
    "todos_los_resultados.to_csv(\"todos_los_resultados_modelos.csv\", index=False)\n",
    "\n",
    "# Guardar el mejor modelo por combinación en otro archivo\n",
    "df_mejores_resultados = pd.DataFrame(mejores_resultados).T.reset_index()\n",
    "df_mejores_resultados[['industry', 'column']] = df_mejores_resultados['index'].str.split('/', expand=True)\n",
    "df_mejores_resultados = df_mejores_resultados.drop(columns=['index'])\n",
    "df_mejores_resultados = df_mejores_resultados[['industry', 'column', 'changepoint_prior_scale', 'seasonality_prior_scale', \n",
    "                                               'seasonality_mode', 'mae', 'mape', 'smape', 'mse', 'rmse', 'training time']] \n",
    "df_mejores_resultados.to_csv(\"mejores_modelos.csv\", index=False)"
   ]
  }
 ],
 "metadata": {
  "kernelspec": {
   "display_name": "Python 3",
   "language": "python",
   "name": "python3"
  },
  "language_info": {
   "codemirror_mode": {
    "name": "ipython",
    "version": 3
   },
   "file_extension": ".py",
   "mimetype": "text/x-python",
   "name": "python",
   "nbconvert_exporter": "python",
   "pygments_lexer": "ipython3",
   "version": "3.12.1"
  }
 },
 "nbformat": 4,
 "nbformat_minor": 2
}
