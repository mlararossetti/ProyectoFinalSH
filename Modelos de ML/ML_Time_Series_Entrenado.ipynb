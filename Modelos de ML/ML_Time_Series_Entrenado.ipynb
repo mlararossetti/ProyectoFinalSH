{
 "cells": [
  {
   "cell_type": "markdown",
   "metadata": {},
   "source": [
    "Librerías"
   ]
  },
  {
   "cell_type": "code",
   "execution_count": null,
   "metadata": {},
   "outputs": [],
   "source": [
    "import pandas as pd\n",
    "import numpy as np\n",
    "\n",
    "import os\n",
    "import joblib\n",
    "\n",
    "import ipywidgets as widgets\n",
    "from IPython.display import display\n",
    "\n",
    "import matplotlib.pyplot as plt\n",
    "from datetime import datetime\n",
    "from datetime import timedelta\n",
    "\n",
    "from sklearn.metrics import mean_absolute_error, mean_squared_error\n",
    "\n",
    "from prophet import Prophet\n",
    "from prophet.plot import plot_plotly\n",
    "import plotly.graph_objects as go"
   ]
  },
  {
   "cell_type": "markdown",
   "metadata": {},
   "source": [
    "- Ce carga un subdataset con los datos necesarios para el modelo de ML"
   ]
  },
  {
   "cell_type": "code",
   "execution_count": null,
   "metadata": {},
   "outputs": [],
   "source": [
    "# Cargar los datos\n",
    "df = pd.read_csv(r\"..\\datasets\\2. Depurados\\TLC Aggregated Data\\ML_TS_Input.csv\")\n",
    "df['date'] = pd.to_datetime(df['date'])"
   ]
  },
  {
   "cell_type": "code",
   "execution_count": null,
   "metadata": {},
   "outputs": [],
   "source": [
    "# Obtener el valor máximo de la columna 'date'\n",
    "max_date = df['date'].max()\n",
    "# Calcular la fecha de diciembre dentro de 5 años\n",
    "future_date = datetime(max_date.year + 5, 12, 1)\n",
    "# Calcular la cantidad de meses entre ambas fechas\n",
    "months_difference = (future_date.year - max_date.year) * 12 + (future_date.month - max_date.month)"
   ]
  },
  {
   "cell_type": "code",
   "execution_count": null,
   "metadata": {},
   "outputs": [],
   "source": [
    "# Función para guardar el forecast en un archivo CSV\n",
    "def guardar_datos_forecast(forecast, industry_type, column_name, output_file=r\"..\\datasets\\2. Depurados\\TLC Aggregated Data\\ML_TS_Output.csv\"):\n",
    "    \"\"\"\n",
    "    Guarda los resultados del pronóstico en un archivo CSV consolidado.\n",
    "    Si ya existe un pronóstico para la combinación `industry_type` y `column_name`, no lo vuelve a guardar.\n",
    "    \"\"\"\n",
    "    # Crear un DataFrame con la información del pronóstico\n",
    "    forecast_data = forecast[['ds', 'yhat', 'yhat_lower', 'yhat_upper']].copy()\n",
    "    forecast_data['industry'] = industry_type\n",
    "    forecast_data['column'] = column_name\n",
    "\n",
    "    # Verificar si el archivo existe\n",
    "    if os.path.exists(output_file):\n",
    "        # Cargar datos existentes\n",
    "        existing_data = pd.read_csv(output_file)\n",
    "        \n",
    "        # Filtrar para ver si ya existe esta combinación\n",
    "        exists = (\n",
    "            (existing_data['industry'] == industry_type) &\n",
    "            (existing_data['column'] == column_name)\n",
    "        ).any()\n",
    "\n",
    "        if exists:\n",
    "            print(f\"Pronóstico para la combinación '{industry_type}' - '{column_name}' ya existe en {output_file}.\")\n",
    "            return\n",
    "\n",
    "        # Concatenar datos nuevos si no existen\n",
    "        combined_data = pd.concat([existing_data, forecast_data], ignore_index=True)\n",
    "    else:\n",
    "        # Crear un nuevo archivo si no existe\n",
    "        combined_data = forecast_data\n",
    "\n",
    "    # Guardar el archivo consolidado\n",
    "    combined_data.to_csv(output_file, index=False)\n",
    "    print(f\"Pronóstico guardado en {output_file}.\")\n"
   ]
  },
  {
   "cell_type": "code",
   "execution_count": null,
   "metadata": {},
   "outputs": [],
   "source": [
    "def graficar_original(df_prophet, column_name):\n",
    "    fig = go.Figure()\n",
    "    fig.add_trace(go.Scatter(x=df_prophet[\"ds\"], y=df_prophet[\"y\"], marker=dict(symbol='circle', color='royalblue')))\n",
    "    fig.layout.update(title_text=\"Datos históricos\", yaxis_title=f\"{column_name}\", xaxis_rangeslider_visible=True)\n",
    "    fig.show()"
   ]
  },
  {
   "cell_type": "code",
   "execution_count": null,
   "metadata": {},
   "outputs": [],
   "source": [
    "def graficar_predicción(df_prophet, column_name, forecast,industry_type):\n",
    "    \"\"\"\n",
    "    Función para graficar la predicción realizada por Prophet junto con el intervalo de confianza.\n",
    "    Ajusta automáticamente el eje Y al rango de valores de los datos.\n",
    "    \"\"\"\n",
    "    # Crear figura\n",
    "    fig = go.Figure()\n",
    "\n",
    "    # Datos históricos\n",
    "    fig.add_trace(go.Scatter( x=df_prophet[\"ds\"], y=df_prophet[\"y\"], mode='lines+markers', name='Datos Históricos', marker=dict(symbol='circle', color='royalblue'),\n",
    "        line=dict(color='royalblue', width=2)))\n",
    "\n",
    "    # Predicción\n",
    "    fig.add_trace(go.Scatter(x=forecast['ds'], y=forecast['yhat'], mode='lines', name='Predicción', line=dict(color='green', width=3, dash='dot')))\n",
    "\n",
    "    # Intervalo de predicción\n",
    "    fig.add_trace(go.Scatter( x=forecast['ds'].tolist() + forecast['ds'][::-1].tolist(), y=forecast['yhat_upper'].tolist() + forecast['yhat_lower'][::-1].tolist(), \n",
    "        fill='toself', fillcolor='rgba(0, 128, 0, 0.2)', line=dict(color='rgba(0, 0, 0, 0)'), name='Intervalo de Predicción' ))\n",
    "\n",
    "    # Calcular el rango automático para el eje Y\n",
    "    y_values = (df_prophet[\"y\"].tolist() + forecast['yhat'].tolist() ) + forecast['yhat_upper'].tolist() #+ forecast['yhat_lower'].tolist() \n",
    "    \n",
    "    y_min, y_max = min(y_values), max(y_values)\n",
    "\n",
    "    # Configuración del layout\n",
    "    fig.update_layout( title=f\"Predicción para {column_name} ({industry_type})\", xaxis_title='Fecha', yaxis_title=column_name, xaxis_rangeslider_visible=True,\n",
    "        yaxis=dict(range=[y_min, y_max]), template='plotly_white',\n",
    "        legend=dict(yanchor=\"top\", y=0.99, xanchor=\"left\", x=0.01)\n",
    "    )\n",
    "\n",
    "    # Mostrar gráfico\n",
    "    fig.show()    "
   ]
  },
  {
   "cell_type": "code",
   "execution_count": null,
   "metadata": {},
   "outputs": [],
   "source": [
    "# Función para obtener el nombre del archivo del modelo\n",
    "def obtener_nombre_archivo(industry_type, column_name):\n",
    "    \"\"\"Genera un nombre de archivo único para una combinación de industria y columna.\"\"\"\n",
    "    return f\"models/prophet_model_{industry_type}_{column_name}.pkl\"\n",
    "\n",
    "# Función para cargar o entrenar un modelo Prophet\n",
    "def cargar_o_entrenar_modelo(df_prophet, industry_type, column_name, cps, sps, sm):\n",
    "    \"\"\"\n",
    "    Carga un modelo Prophet guardado o lo entrena y guarda si no existe.\n",
    "    \"\"\"\n",
    "    # Crear el directorio \"models\" si no existe\n",
    "    os.makedirs(\"models\", exist_ok=True)\n",
    "    \n",
    "    # Nombre del archivo del modelo\n",
    "    modelo_path = obtener_nombre_archivo(industry_type, column_name)\n",
    "    \n",
    "    # Intentar cargar el modelo si ya existe\n",
    "    if os.path.exists(modelo_path):\n",
    "        print(f\"Cargando modelo desde {modelo_path}...\")\n",
    "        model = joblib.load(modelo_path)\n",
    "    else:\n",
    "        print(f\"Entrenando modelo para {industry_type} - {column_name}...\")\n",
    "        model = Prophet(\n",
    "            changepoint_prior_scale=cps,\n",
    "            seasonality_prior_scale=sps,\n",
    "            seasonality_mode=sm,\n",
    "            yearly_seasonality=True,\n",
    "            weekly_seasonality=False,\n",
    "        )\n",
    "        model.fit(df_prophet)\n",
    "        # Guardar el modelo entrenado\n",
    "        joblib.dump(model, modelo_path)\n",
    "        print(f\"Modelo guardado en {modelo_path}.\")\n",
    "    \n",
    "    return model\n"
   ]
  },
  {
   "cell_type": "code",
   "execution_count": null,
   "metadata": {},
   "outputs": [],
   "source": [
    "# Función para cargar los datos y filtrar la serie de tiempo seleccionada\n",
    "def cargar_y_preparar_datos(df, industry_type, column_name):\n",
    "    \"\"\"\n",
    "    Filtra y prepara los datos para Prophet según el tipo de industria y la columna seleccionada.\n",
    "    \"\"\"\n",
    "    df_filtered = df[df['industry'] == industry_type][['date', column_name]].copy()\n",
    "    df_filtered.columns = ['ds', 'y']  # Renombrar columnas para Prophet\n",
    "    df_filtered['ds'] = pd.to_datetime(df_filtered['ds'])  # Asegurar formato de fecha\n",
    "    return df_filtered if not df_filtered['y'].isnull().all() else None"
   ]
  },
  {
   "cell_type": "code",
   "execution_count": null,
   "metadata": {},
   "outputs": [],
   "source": [
    "def pronóstico_con_grid_search(df_prophet, df_params, industry_type, column_name, periodos, frecuencia):\n",
    "    \"\"\"\n",
    "    Realiza el pronóstico utilizando un modelo Prophet guardado o entrenado.\n",
    "    \"\"\"\n",
    "    # Obtener los mejores parámetros\n",
    "    filtered_df = df_params[(df_params['industry'] == industry_type) & (df_params['column'] == column_name)]\n",
    "    \n",
    "    if not filtered_df.empty:\n",
    "        cps = filtered_df['changepoint_prior_scale'].iloc[0]\n",
    "        sps = filtered_df['seasonality_prior_scale'].iloc[0]\n",
    "        sm = filtered_df['seasonality_mode'].iloc[0]\n",
    "    else:\n",
    "        print(\"No se encontraron datos para la combinación especificada.\")\n",
    "        return\n",
    "\n",
    "    # Cargar o entrenar modelo\n",
    "    model = cargar_o_entrenar_modelo(df_prophet, industry_type, column_name, cps, sps, sm)\n",
    "\n",
    "    # Realizar predicción\n",
    "    future = model.make_future_dataframe(periods=periodos, freq=frecuencia)\n",
    "    forecast = model.predict(future)\n",
    "\n",
    "    # Guardar datos del pronóstico\n",
    "    guardar_datos_forecast(forecast, industry_type, column_name)\n",
    "\n",
    "    # Graficar predicción\n",
    "    graficar_predicción(df_prophet, column_name, forecast, industry_type)\n",
    "    "
   ]
  },
  {
   "cell_type": "code",
   "execution_count": null,
   "metadata": {},
   "outputs": [
    {
     "data": {
      "application/vnd.jupyter.widget-view+json": {
       "model_id": "3b4ef4794ebe425b9b35ea0871bca878",
       "version_major": 2,
       "version_minor": 0
      },
      "text/plain": [
       "Dropdown(description='Industria:', options=('FHV - High Volume', 'FHV - Other', 'Green Taxi', 'Total Mercado',…"
      ]
     },
     "metadata": {},
     "output_type": "display_data"
    },
    {
     "data": {
      "application/vnd.jupyter.widget-view+json": {
       "model_id": "559921d963844a31bfe96ce35dea1fa2",
       "version_major": 2,
       "version_minor": 0
      },
      "text/plain": [
       "Dropdown(description='Columna:', options=('total_trips', 'unique_vehicles', 'total_amount', 'total_co2_emissio…"
      ]
     },
     "metadata": {},
     "output_type": "display_data"
    },
    {
     "data": {
      "application/vnd.jupyter.widget-view+json": {
       "model_id": "ac7ad65c68404bccb1a14da6d74ed937",
       "version_major": 2,
       "version_minor": 0
      },
      "text/plain": [
       "IntSlider(value=128, description='Períodos:', max=128, min=1)"
      ]
     },
     "metadata": {},
     "output_type": "display_data"
    }
   ],
   "source": [
    "\"\"\"\"Selector de opciones embebido en Jupyter Notebook\"\"\"\n",
    "\n",
    "# Cargar los parámetros\n",
    "df_params = pd.read_csv(r\"mejores_modelos.csv\")\n",
    "\n",
    "# Crear un selector para la industria\n",
    "industry_types = df_params['industry'].unique()\n",
    "industry_selector = widgets.Dropdown(\n",
    "    options=industry_types,\n",
    "    description='Industria:',\n",
    "    disabled=False,\n",
    ")\n",
    "\n",
    "# Función para actualizar las columnas en función de la industria seleccionada\n",
    "def update_columns(industry):\n",
    "    columns = df_params[df_params['industry'] == industry]['column'].unique()\n",
    "    column_selector.options = columns\n",
    "\n",
    "# Conectar el cambio de valor del selector de industria\n",
    "industry_selector.observe(lambda change: update_columns(change['new']), names='value')\n",
    "\n",
    "# Crear un selector para las columnas\n",
    "column_selector = widgets.Dropdown(\n",
    "    options = df_params[df_params['industry'] == industry_types[0]]['column'].unique(),\n",
    "    description='Columna:',\n",
    "    disabled=False,\n",
    ")\n",
    "\n",
    "\n",
    "periodo_selector = widgets.IntSlider(value=128, min=1, max=128, step=1, description='Períodos:')\n",
    "display(industry_selector, column_selector, periodo_selector)"
   ]
  },
  {
   "cell_type": "markdown",
   "metadata": {},
   "source": [
    "Elegir las opciones de arriba y solo correr el script de abajo."
   ]
  },
  {
   "cell_type": "code",
   "execution_count": null,
   "metadata": {},
   "outputs": [
    {
     "name": "stdout",
     "output_type": "stream",
     "text": [
      "Cargando modelo desde models/prophet_model_FHV - Other_total_trips.pkl...\n",
      "Pronóstico para la combinación 'FHV - Other' - 'total_trips' ya existe en ..\\datasets\\2. Depurados\\TLC Aggregated Data\\ML_TS_Output.csv.\n"
     ]
    },
    {
     "data": {
      "application/vnd.plotly.v1+json": {
       "config": {
        "plotlyServerURL": "https://plot.ly"
       },
       "data": [
        {
         "line": {
          "color": "royalblue",
          "width": 2
         },
         "marker": {
          "color": "royalblue",
          "symbol": "circle"
         },
         "mode": "lines+markers",
         "name": "Datos Históricos",
         "type": "scatter",
         "x": [
          "2021-01-01T00:00:00",
          "2021-02-01T00:00:00",
          "2021-03-01T00:00:00",
          "2021-04-01T00:00:00",
          "2021-05-01T00:00:00",
          "2021-06-01T00:00:00",
          "2021-07-01T00:00:00",
          "2021-08-01T00:00:00",
          "2021-09-01T00:00:00",
          "2021-10-01T00:00:00",
          "2021-11-01T00:00:00",
          "2021-12-01T00:00:00",
          "2022-01-01T00:00:00",
          "2022-02-01T00:00:00",
          "2022-03-01T00:00:00",
          "2022-04-01T00:00:00",
          "2022-05-01T00:00:00",
          "2022-06-01T00:00:00",
          "2022-07-01T00:00:00",
          "2022-08-01T00:00:00",
          "2022-09-01T00:00:00",
          "2022-10-01T00:00:00",
          "2022-11-01T00:00:00",
          "2022-12-01T00:00:00",
          "2023-01-01T00:00:00",
          "2023-02-01T00:00:00",
          "2023-03-01T00:00:00",
          "2023-04-01T00:00:00",
          "2023-05-01T00:00:00",
          "2023-06-01T00:00:00",
          "2023-07-01T00:00:00",
          "2023-08-01T00:00:00",
          "2023-09-01T00:00:00",
          "2023-10-01T00:00:00",
          "2023-11-01T00:00:00",
          "2023-12-01T00:00:00",
          "2024-01-01T00:00:00",
          "2024-02-01T00:00:00",
          "2024-03-01T00:00:00",
          "2024-04-01T00:00:00",
          "2024-05-01T00:00:00",
          "2024-06-01T00:00:00",
          "2024-07-01T00:00:00",
          "2024-08-01T00:00:00"
         ],
         "y": [
          1142350,
          1037372,
          1349926,
          1303380,
          1303829,
          1342140,
          1298838,
          1255407,
          1152060,
          1241178,
          1214130,
          1337495,
          1141916,
          1260700,
          1398937,
          1331310,
          1253113,
          1204440,
          1156579,
          1151836,
          1219620,
          1200785,
          1139190,
          1282439,
          1146969,
          1135708,
          1355630,
          1271190,
          1417320,
          1246380,
          1369177,
          1444507,
          1314330,
          1859318,
          1691580,
          1575699,
          1553658,
          1486279,
          1654346,
          1563810,
          1579419,
          1468620,
          1448847,
          1482575
         ]
        },
        {
         "line": {
          "color": "green",
          "dash": "dot",
          "width": 3
         },
         "mode": "lines",
         "name": "Predicción",
         "type": "scatter",
         "x": [
          "2021-01-01T00:00:00",
          "2021-02-01T00:00:00",
          "2021-03-01T00:00:00",
          "2021-04-01T00:00:00",
          "2021-05-01T00:00:00",
          "2021-06-01T00:00:00",
          "2021-07-01T00:00:00",
          "2021-08-01T00:00:00",
          "2021-09-01T00:00:00",
          "2021-10-01T00:00:00",
          "2021-11-01T00:00:00",
          "2021-12-01T00:00:00",
          "2022-01-01T00:00:00",
          "2022-02-01T00:00:00",
          "2022-03-01T00:00:00",
          "2022-04-01T00:00:00",
          "2022-05-01T00:00:00",
          "2022-06-01T00:00:00",
          "2022-07-01T00:00:00",
          "2022-08-01T00:00:00",
          "2022-09-01T00:00:00",
          "2022-10-01T00:00:00",
          "2022-11-01T00:00:00",
          "2022-12-01T00:00:00",
          "2023-01-01T00:00:00",
          "2023-02-01T00:00:00",
          "2023-03-01T00:00:00",
          "2023-04-01T00:00:00",
          "2023-05-01T00:00:00",
          "2023-06-01T00:00:00",
          "2023-07-01T00:00:00",
          "2023-08-01T00:00:00",
          "2023-09-01T00:00:00",
          "2023-10-01T00:00:00",
          "2023-11-01T00:00:00",
          "2023-12-01T00:00:00",
          "2024-01-01T00:00:00",
          "2024-02-01T00:00:00",
          "2024-03-01T00:00:00",
          "2024-04-01T00:00:00",
          "2024-05-01T00:00:00",
          "2024-06-01T00:00:00",
          "2024-07-01T00:00:00",
          "2024-08-01T00:00:00",
          "2024-09-01T00:00:00",
          "2024-10-01T00:00:00",
          "2024-11-01T00:00:00",
          "2024-12-01T00:00:00",
          "2025-01-01T00:00:00",
          "2025-02-01T00:00:00",
          "2025-03-01T00:00:00",
          "2025-04-01T00:00:00",
          "2025-05-01T00:00:00",
          "2025-06-01T00:00:00",
          "2025-07-01T00:00:00",
          "2025-08-01T00:00:00",
          "2025-09-01T00:00:00",
          "2025-10-01T00:00:00",
          "2025-11-01T00:00:00",
          "2025-12-01T00:00:00",
          "2026-01-01T00:00:00",
          "2026-02-01T00:00:00",
          "2026-03-01T00:00:00",
          "2026-04-01T00:00:00",
          "2026-05-01T00:00:00",
          "2026-06-01T00:00:00",
          "2026-07-01T00:00:00",
          "2026-08-01T00:00:00",
          "2026-09-01T00:00:00",
          "2026-10-01T00:00:00",
          "2026-11-01T00:00:00",
          "2026-12-01T00:00:00",
          "2027-01-01T00:00:00",
          "2027-02-01T00:00:00",
          "2027-03-01T00:00:00",
          "2027-04-01T00:00:00",
          "2027-05-01T00:00:00",
          "2027-06-01T00:00:00",
          "2027-07-01T00:00:00",
          "2027-08-01T00:00:00",
          "2027-09-01T00:00:00",
          "2027-10-01T00:00:00",
          "2027-11-01T00:00:00",
          "2027-12-01T00:00:00",
          "2028-01-01T00:00:00",
          "2028-02-01T00:00:00",
          "2028-03-01T00:00:00",
          "2028-04-01T00:00:00",
          "2028-05-01T00:00:00",
          "2028-06-01T00:00:00",
          "2028-07-01T00:00:00",
          "2028-08-01T00:00:00",
          "2028-09-01T00:00:00",
          "2028-10-01T00:00:00",
          "2028-11-01T00:00:00",
          "2028-12-01T00:00:00",
          "2029-01-01T00:00:00",
          "2029-02-01T00:00:00",
          "2029-03-01T00:00:00",
          "2029-04-01T00:00:00",
          "2029-05-01T00:00:00",
          "2029-06-01T00:00:00",
          "2029-07-01T00:00:00",
          "2029-08-01T00:00:00",
          "2029-09-01T00:00:00",
          "2029-10-01T00:00:00",
          "2029-11-01T00:00:00",
          "2029-12-01T00:00:00",
          "2030-01-01T00:00:00",
          "2030-02-01T00:00:00",
          "2030-03-01T00:00:00",
          "2030-04-01T00:00:00",
          "2030-05-01T00:00:00",
          "2030-06-01T00:00:00",
          "2030-07-01T00:00:00",
          "2030-08-01T00:00:00",
          "2030-09-01T00:00:00",
          "2030-10-01T00:00:00",
          "2030-11-01T00:00:00",
          "2030-12-01T00:00:00",
          "2031-01-01T00:00:00",
          "2031-02-01T00:00:00",
          "2031-03-01T00:00:00",
          "2031-04-01T00:00:00",
          "2031-05-01T00:00:00",
          "2031-06-01T00:00:00",
          "2031-07-01T00:00:00",
          "2031-08-01T00:00:00",
          "2031-09-01T00:00:00",
          "2031-10-01T00:00:00",
          "2031-11-01T00:00:00",
          "2031-12-01T00:00:00",
          "2032-01-01T00:00:00",
          "2032-02-01T00:00:00",
          "2032-03-01T00:00:00",
          "2032-04-01T00:00:00",
          "2032-05-01T00:00:00",
          "2032-06-01T00:00:00",
          "2032-07-01T00:00:00",
          "2032-08-01T00:00:00",
          "2032-09-01T00:00:00",
          "2032-10-01T00:00:00",
          "2032-11-01T00:00:00",
          "2032-12-01T00:00:00",
          "2033-01-01T00:00:00",
          "2033-02-01T00:00:00",
          "2033-03-01T00:00:00",
          "2033-04-01T00:00:00",
          "2033-05-01T00:00:00",
          "2033-06-01T00:00:00",
          "2033-07-01T00:00:00",
          "2033-08-01T00:00:00",
          "2033-09-01T00:00:00",
          "2033-10-01T00:00:00",
          "2033-11-01T00:00:00",
          "2033-12-01T00:00:00",
          "2034-01-01T00:00:00",
          "2034-02-01T00:00:00",
          "2034-03-01T00:00:00",
          "2034-04-01T00:00:00",
          "2034-05-01T00:00:00",
          "2034-06-01T00:00:00",
          "2034-07-01T00:00:00",
          "2034-08-01T00:00:00",
          "2034-09-01T00:00:00",
          "2034-10-01T00:00:00",
          "2034-11-01T00:00:00",
          "2034-12-01T00:00:00",
          "2035-01-01T00:00:00",
          "2035-02-01T00:00:00",
          "2035-03-01T00:00:00",
          "2035-04-01T00:00:00"
         ],
         "y": [
          1202691.1146596263,
          1180109.2120845197,
          1332925.8383913843,
          1272453.6126117818,
          1282199.8771682545,
          1222601.0975578553,
          1218342.731143501,
          1223171.6258333693,
          1184712.4576698102,
          1317409.08176196,
          1251381.0443258644,
          1280929.165397531,
          1182483.816242925,
          1161432.8412449078,
          1314346.12767586,
          1252903.0183124952,
          1262344.0928617888,
          1202570.9113483056,
          1198823.0548104348,
          1203777.0080592784,
          1165961.7964023065,
          1298548.6475876058,
          1231479.944156516,
          1268051.805325559,
          1177695.3392840324,
          1191498.5830761197,
          1374448.0543853831,
          1345380.090437666,
          1386748.3381077326,
          1360145.6934131458,
          1389130.0066837468,
          1427492.9836689113,
          1423614.9333038058,
          1588184.8952626972,
          1553387.7024279789,
          1583224.8799492484,
          1486786.7854887436,
          1470544.5573135586,
          1621896.794623694,
          1563970.9627560205,
          1575510.3414776907,
          1517678.547648354,
          1514441.70564277,
          1520716.1679825177,
          1483238.5996707005,
          1617493.4939619459,
          1554152.427464628,
          1585899.55463908,
          1488999.9686267907,
          1467995.057195605,
          1622236.062330975,
          1563340.827397204,
          1574613.2120735708,
          1516596.815968208,
          1513882.1659863591,
          1520306.234323177,
          1483457.0873648585,
          1617713.0521566086,
          1553296.3334434314,
          1584407.2483392553,
          1487576.7891780108,
          1468140.9340263759,
          1622513.0383831118,
          1562685.3149963901,
          1573689.6662759585,
          1515531.8713405044,
          1513347.2921361981,
          1519916.6320555222,
          1483716.8067425152,
          1617866.931629165,
          1552413.6110228347,
          1582887.4175452534,
          1486210.8971061108,
          1468363.7913977865,
          1622725.8502551084,
          1562004.7353293495,
          1572740.8944664048,
          1514485.0916210527,
          1512837.3164594544,
          1519547.1349674629,
          1484015.9258840722,
          1617953.7987607536,
          1551505.073130318,
          1581342.2506515724,
          1484904.156191079,
          1468661.9280158908,
          1620014.1653260412,
          1562088.3334583603,
          1573627.712180009,
          1515795.9183506803,
          1512559.0763451129,
          1518833.5386848475,
          1481355.9703730436,
          1615610.8646642773,
          1552269.7981669635,
          1584016.9253414252,
          1487117.3393291219,
          1466112.4278979423,
          1620353.4330333017,
          1561458.1980995398,
          1572730.5827758985,
          1514714.1866705362,
          1511999.5366887082,
          1518423.605025513,
          1481574.4580671878,
          1615830.4228589507,
          1551413.7041457694,
          1582524.6190416082,
          1485694.1598803545,
          1466258.304728727,
          1620630.4090854623,
          1560802.6856987316,
          1571807.036978307,
          1513649.242042833,
          1511464.6628385312,
          1518034.0027578482,
          1481834.177444844,
          1615984.302331508,
          1550530.9817251663,
          1581004.7882476056,
          1484328.267808446,
          1466481.1621001293,
          1620843.2209574315,
          1560122.1060316816,
          1570858.2651687402,
          1512602.4623233764,
          1510954.6871617876,
          1517664.5056697896,
          1482133.2965864078,
          1616071.1694631039,
          1549622.4438326554,
          1579459.6213539278,
          1483021.5268934201,
          1466779.298718218,
          1618131.536028368,
          1560205.7041607029,
          1571745.0828823477,
          1513913.2890530159,
          1510676.4470474364,
          1516950.9093871948,
          1479473.3410753717,
          1613728.2353666334,
          1550387.1688693047,
          1582134.2960437534,
          1485234.7100314596,
          1464229.7986002786,
          1618470.8037356446,
          1559575.5688018743,
          1570847.9534782474,
          1512831.5573728832,
          1510116.9073910357,
          1516540.975727864,
          1479691.828769536,
          1613947.7935612868,
          1549531.074848104,
          1580641.9897439138,
          1483811.5305826855,
          1464375.6754310625,
          1618747.779787785,
          1558920.056401062,
          1569924.407680653,
          1511766.6127451696,
          1509582.0335408798,
          1516151.373460196,
          1479951.5481471885,
          1614101.6730338556,
          1548648.3524275084,
          1579122.1589499225,
          1482445.6385107911,
          1464598.5328024605,
          1618960.5916597897,
          1558239.4767340198
         ]
        },
        {
         "fill": "toself",
         "fillcolor": "rgba(0, 128, 0, 0.2)",
         "line": {
          "color": "rgba(0, 0, 0, 0)"
         },
         "name": "Intervalo de Predicción",
         "type": "scatter",
         "x": [
          "2021-01-01T00:00:00",
          "2021-02-01T00:00:00",
          "2021-03-01T00:00:00",
          "2021-04-01T00:00:00",
          "2021-05-01T00:00:00",
          "2021-06-01T00:00:00",
          "2021-07-01T00:00:00",
          "2021-08-01T00:00:00",
          "2021-09-01T00:00:00",
          "2021-10-01T00:00:00",
          "2021-11-01T00:00:00",
          "2021-12-01T00:00:00",
          "2022-01-01T00:00:00",
          "2022-02-01T00:00:00",
          "2022-03-01T00:00:00",
          "2022-04-01T00:00:00",
          "2022-05-01T00:00:00",
          "2022-06-01T00:00:00",
          "2022-07-01T00:00:00",
          "2022-08-01T00:00:00",
          "2022-09-01T00:00:00",
          "2022-10-01T00:00:00",
          "2022-11-01T00:00:00",
          "2022-12-01T00:00:00",
          "2023-01-01T00:00:00",
          "2023-02-01T00:00:00",
          "2023-03-01T00:00:00",
          "2023-04-01T00:00:00",
          "2023-05-01T00:00:00",
          "2023-06-01T00:00:00",
          "2023-07-01T00:00:00",
          "2023-08-01T00:00:00",
          "2023-09-01T00:00:00",
          "2023-10-01T00:00:00",
          "2023-11-01T00:00:00",
          "2023-12-01T00:00:00",
          "2024-01-01T00:00:00",
          "2024-02-01T00:00:00",
          "2024-03-01T00:00:00",
          "2024-04-01T00:00:00",
          "2024-05-01T00:00:00",
          "2024-06-01T00:00:00",
          "2024-07-01T00:00:00",
          "2024-08-01T00:00:00",
          "2024-09-01T00:00:00",
          "2024-10-01T00:00:00",
          "2024-11-01T00:00:00",
          "2024-12-01T00:00:00",
          "2025-01-01T00:00:00",
          "2025-02-01T00:00:00",
          "2025-03-01T00:00:00",
          "2025-04-01T00:00:00",
          "2025-05-01T00:00:00",
          "2025-06-01T00:00:00",
          "2025-07-01T00:00:00",
          "2025-08-01T00:00:00",
          "2025-09-01T00:00:00",
          "2025-10-01T00:00:00",
          "2025-11-01T00:00:00",
          "2025-12-01T00:00:00",
          "2026-01-01T00:00:00",
          "2026-02-01T00:00:00",
          "2026-03-01T00:00:00",
          "2026-04-01T00:00:00",
          "2026-05-01T00:00:00",
          "2026-06-01T00:00:00",
          "2026-07-01T00:00:00",
          "2026-08-01T00:00:00",
          "2026-09-01T00:00:00",
          "2026-10-01T00:00:00",
          "2026-11-01T00:00:00",
          "2026-12-01T00:00:00",
          "2027-01-01T00:00:00",
          "2027-02-01T00:00:00",
          "2027-03-01T00:00:00",
          "2027-04-01T00:00:00",
          "2027-05-01T00:00:00",
          "2027-06-01T00:00:00",
          "2027-07-01T00:00:00",
          "2027-08-01T00:00:00",
          "2027-09-01T00:00:00",
          "2027-10-01T00:00:00",
          "2027-11-01T00:00:00",
          "2027-12-01T00:00:00",
          "2028-01-01T00:00:00",
          "2028-02-01T00:00:00",
          "2028-03-01T00:00:00",
          "2028-04-01T00:00:00",
          "2028-05-01T00:00:00",
          "2028-06-01T00:00:00",
          "2028-07-01T00:00:00",
          "2028-08-01T00:00:00",
          "2028-09-01T00:00:00",
          "2028-10-01T00:00:00",
          "2028-11-01T00:00:00",
          "2028-12-01T00:00:00",
          "2029-01-01T00:00:00",
          "2029-02-01T00:00:00",
          "2029-03-01T00:00:00",
          "2029-04-01T00:00:00",
          "2029-05-01T00:00:00",
          "2029-06-01T00:00:00",
          "2029-07-01T00:00:00",
          "2029-08-01T00:00:00",
          "2029-09-01T00:00:00",
          "2029-10-01T00:00:00",
          "2029-11-01T00:00:00",
          "2029-12-01T00:00:00",
          "2030-01-01T00:00:00",
          "2030-02-01T00:00:00",
          "2030-03-01T00:00:00",
          "2030-04-01T00:00:00",
          "2030-05-01T00:00:00",
          "2030-06-01T00:00:00",
          "2030-07-01T00:00:00",
          "2030-08-01T00:00:00",
          "2030-09-01T00:00:00",
          "2030-10-01T00:00:00",
          "2030-11-01T00:00:00",
          "2030-12-01T00:00:00",
          "2031-01-01T00:00:00",
          "2031-02-01T00:00:00",
          "2031-03-01T00:00:00",
          "2031-04-01T00:00:00",
          "2031-05-01T00:00:00",
          "2031-06-01T00:00:00",
          "2031-07-01T00:00:00",
          "2031-08-01T00:00:00",
          "2031-09-01T00:00:00",
          "2031-10-01T00:00:00",
          "2031-11-01T00:00:00",
          "2031-12-01T00:00:00",
          "2032-01-01T00:00:00",
          "2032-02-01T00:00:00",
          "2032-03-01T00:00:00",
          "2032-04-01T00:00:00",
          "2032-05-01T00:00:00",
          "2032-06-01T00:00:00",
          "2032-07-01T00:00:00",
          "2032-08-01T00:00:00",
          "2032-09-01T00:00:00",
          "2032-10-01T00:00:00",
          "2032-11-01T00:00:00",
          "2032-12-01T00:00:00",
          "2033-01-01T00:00:00",
          "2033-02-01T00:00:00",
          "2033-03-01T00:00:00",
          "2033-04-01T00:00:00",
          "2033-05-01T00:00:00",
          "2033-06-01T00:00:00",
          "2033-07-01T00:00:00",
          "2033-08-01T00:00:00",
          "2033-09-01T00:00:00",
          "2033-10-01T00:00:00",
          "2033-11-01T00:00:00",
          "2033-12-01T00:00:00",
          "2034-01-01T00:00:00",
          "2034-02-01T00:00:00",
          "2034-03-01T00:00:00",
          "2034-04-01T00:00:00",
          "2034-05-01T00:00:00",
          "2034-06-01T00:00:00",
          "2034-07-01T00:00:00",
          "2034-08-01T00:00:00",
          "2034-09-01T00:00:00",
          "2034-10-01T00:00:00",
          "2034-11-01T00:00:00",
          "2034-12-01T00:00:00",
          "2035-01-01T00:00:00",
          "2035-02-01T00:00:00",
          "2035-03-01T00:00:00",
          "2035-04-01T00:00:00",
          "2035-04-01T00:00:00",
          "2035-03-01T00:00:00",
          "2035-02-01T00:00:00",
          "2035-01-01T00:00:00",
          "2034-12-01T00:00:00",
          "2034-11-01T00:00:00",
          "2034-10-01T00:00:00",
          "2034-09-01T00:00:00",
          "2034-08-01T00:00:00",
          "2034-07-01T00:00:00",
          "2034-06-01T00:00:00",
          "2034-05-01T00:00:00",
          "2034-04-01T00:00:00",
          "2034-03-01T00:00:00",
          "2034-02-01T00:00:00",
          "2034-01-01T00:00:00",
          "2033-12-01T00:00:00",
          "2033-11-01T00:00:00",
          "2033-10-01T00:00:00",
          "2033-09-01T00:00:00",
          "2033-08-01T00:00:00",
          "2033-07-01T00:00:00",
          "2033-06-01T00:00:00",
          "2033-05-01T00:00:00",
          "2033-04-01T00:00:00",
          "2033-03-01T00:00:00",
          "2033-02-01T00:00:00",
          "2033-01-01T00:00:00",
          "2032-12-01T00:00:00",
          "2032-11-01T00:00:00",
          "2032-10-01T00:00:00",
          "2032-09-01T00:00:00",
          "2032-08-01T00:00:00",
          "2032-07-01T00:00:00",
          "2032-06-01T00:00:00",
          "2032-05-01T00:00:00",
          "2032-04-01T00:00:00",
          "2032-03-01T00:00:00",
          "2032-02-01T00:00:00",
          "2032-01-01T00:00:00",
          "2031-12-01T00:00:00",
          "2031-11-01T00:00:00",
          "2031-10-01T00:00:00",
          "2031-09-01T00:00:00",
          "2031-08-01T00:00:00",
          "2031-07-01T00:00:00",
          "2031-06-01T00:00:00",
          "2031-05-01T00:00:00",
          "2031-04-01T00:00:00",
          "2031-03-01T00:00:00",
          "2031-02-01T00:00:00",
          "2031-01-01T00:00:00",
          "2030-12-01T00:00:00",
          "2030-11-01T00:00:00",
          "2030-10-01T00:00:00",
          "2030-09-01T00:00:00",
          "2030-08-01T00:00:00",
          "2030-07-01T00:00:00",
          "2030-06-01T00:00:00",
          "2030-05-01T00:00:00",
          "2030-04-01T00:00:00",
          "2030-03-01T00:00:00",
          "2030-02-01T00:00:00",
          "2030-01-01T00:00:00",
          "2029-12-01T00:00:00",
          "2029-11-01T00:00:00",
          "2029-10-01T00:00:00",
          "2029-09-01T00:00:00",
          "2029-08-01T00:00:00",
          "2029-07-01T00:00:00",
          "2029-06-01T00:00:00",
          "2029-05-01T00:00:00",
          "2029-04-01T00:00:00",
          "2029-03-01T00:00:00",
          "2029-02-01T00:00:00",
          "2029-01-01T00:00:00",
          "2028-12-01T00:00:00",
          "2028-11-01T00:00:00",
          "2028-10-01T00:00:00",
          "2028-09-01T00:00:00",
          "2028-08-01T00:00:00",
          "2028-07-01T00:00:00",
          "2028-06-01T00:00:00",
          "2028-05-01T00:00:00",
          "2028-04-01T00:00:00",
          "2028-03-01T00:00:00",
          "2028-02-01T00:00:00",
          "2028-01-01T00:00:00",
          "2027-12-01T00:00:00",
          "2027-11-01T00:00:00",
          "2027-10-01T00:00:00",
          "2027-09-01T00:00:00",
          "2027-08-01T00:00:00",
          "2027-07-01T00:00:00",
          "2027-06-01T00:00:00",
          "2027-05-01T00:00:00",
          "2027-04-01T00:00:00",
          "2027-03-01T00:00:00",
          "2027-02-01T00:00:00",
          "2027-01-01T00:00:00",
          "2026-12-01T00:00:00",
          "2026-11-01T00:00:00",
          "2026-10-01T00:00:00",
          "2026-09-01T00:00:00",
          "2026-08-01T00:00:00",
          "2026-07-01T00:00:00",
          "2026-06-01T00:00:00",
          "2026-05-01T00:00:00",
          "2026-04-01T00:00:00",
          "2026-03-01T00:00:00",
          "2026-02-01T00:00:00",
          "2026-01-01T00:00:00",
          "2025-12-01T00:00:00",
          "2025-11-01T00:00:00",
          "2025-10-01T00:00:00",
          "2025-09-01T00:00:00",
          "2025-08-01T00:00:00",
          "2025-07-01T00:00:00",
          "2025-06-01T00:00:00",
          "2025-05-01T00:00:00",
          "2025-04-01T00:00:00",
          "2025-03-01T00:00:00",
          "2025-02-01T00:00:00",
          "2025-01-01T00:00:00",
          "2024-12-01T00:00:00",
          "2024-11-01T00:00:00",
          "2024-10-01T00:00:00",
          "2024-09-01T00:00:00",
          "2024-08-01T00:00:00",
          "2024-07-01T00:00:00",
          "2024-06-01T00:00:00",
          "2024-05-01T00:00:00",
          "2024-04-01T00:00:00",
          "2024-03-01T00:00:00",
          "2024-02-01T00:00:00",
          "2024-01-01T00:00:00",
          "2023-12-01T00:00:00",
          "2023-11-01T00:00:00",
          "2023-10-01T00:00:00",
          "2023-09-01T00:00:00",
          "2023-08-01T00:00:00",
          "2023-07-01T00:00:00",
          "2023-06-01T00:00:00",
          "2023-05-01T00:00:00",
          "2023-04-01T00:00:00",
          "2023-03-01T00:00:00",
          "2023-02-01T00:00:00",
          "2023-01-01T00:00:00",
          "2022-12-01T00:00:00",
          "2022-11-01T00:00:00",
          "2022-10-01T00:00:00",
          "2022-09-01T00:00:00",
          "2022-08-01T00:00:00",
          "2022-07-01T00:00:00",
          "2022-06-01T00:00:00",
          "2022-05-01T00:00:00",
          "2022-04-01T00:00:00",
          "2022-03-01T00:00:00",
          "2022-02-01T00:00:00",
          "2022-01-01T00:00:00",
          "2021-12-01T00:00:00",
          "2021-11-01T00:00:00",
          "2021-10-01T00:00:00",
          "2021-09-01T00:00:00",
          "2021-08-01T00:00:00",
          "2021-07-01T00:00:00",
          "2021-06-01T00:00:00",
          "2021-05-01T00:00:00",
          "2021-04-01T00:00:00",
          "2021-03-01T00:00:00",
          "2021-02-01T00:00:00",
          "2021-01-01T00:00:00"
         ],
         "y": [
          1305154.893249769,
          1276394.3266452614,
          1426136.054407458,
          1369718.3527467092,
          1377720.5340225084,
          1323404.9974565783,
          1316842.4134078587,
          1312318.491109868,
          1284576.4852113388,
          1404312.8877486372,
          1352848.9000640612,
          1380238.657822331,
          1284861.1959139267,
          1253757.8310727514,
          1411061.7636795978,
          1351959.2840463617,
          1357097.528015309,
          1300690.2019355532,
          1293357.9780843095,
          1302652.4240471115,
          1264038.048321688,
          1399301.4825148454,
          1335511.1591261642,
          1364278.6350611984,
          1275342.9094681821,
          1291932.0604722009,
          1471348.2780043941,
          1443011.0054521232,
          1485784.8661129596,
          1456367.0959220189,
          1483286.9039821678,
          1526077.3487171626,
          1518936.3977124305,
          1683725.5941859859,
          1649993.638880817,
          1680766.622539814,
          1591925.016008187,
          1573520.084713737,
          1721536.7495727476,
          1669329.689774984,
          1666197.7387243186,
          1610841.4752126352,
          1612973.3536075973,
          1615108.5359859962,
          1590891.091507598,
          1713370.6146537059,
          1644249.0163471475,
          1686044.0815662688,
          1585363.6315637256,
          1569748.1248417594,
          1717783.7369446694,
          1670723.135601572,
          1686536.7289677751,
          1626718.8839667991,
          1631695.5102227419,
          1643486.9763290463,
          1607798.412537526,
          1756337.7235362343,
          1703511.3818992344,
          1738995.1134861354,
          1653972.2083469548,
          1645503.872356862,
          1809711.5350661343,
          1755256.303825355,
          1782452.6884789888,
          1738849.391547987,
          1752363.2466534553,
          1779974.4397480576,
          1738704.4274231242,
          1896217.3756379366,
          1846567.4487963212,
          1880127.9161753263,
          1803939.0779074791,
          1787770.0995959877,
          1971872.9872322315,
          1928742.7177680032,
          1964081.6525400227,
          1892527.3617923472,
          1925534.8514908587,
          1944466.101021513,
          1943516.3748680952,
          2079399.9523975225,
          2030804.4461580887,
          2091130.7560071594,
          2005506.0770219406,
          2043122.0728398438,
          2197075.8901299094,
          2169250.821282657,
          2172069.743119632,
          2145235.9788256437,
          2152589.1180598745,
          2182770.363666507,
          2176273.22571693,
          2316667.755654213,
          2294693.0089130327,
          2318750.5050295573,
          2255178.4010174074,
          2245931.3581759003,
          2442159.877706559,
          2385941.4118186156,
          2421897.5584963867,
          2397577.960849197,
          2405460.161549883,
          2435619.5609674314,
          2423872.3735330137,
          2575524.689235358,
          2589224.886732345,
          2597437.0719884257,
          2502133.299908217,
          2532193.500305181,
          2684820.1771640116,
          2688151.7384095043,
          2683915.7007885193,
          2675280.073799258,
          2722404.3108152435,
          2741992.0236865287,
          2714676.708993538,
          2870136.8429815928,
          2852599.995898637,
          2890400.4680082737,
          2796936.360355367,
          2832403.404750374,
          3038920.1166647905,
          2982182.5531268544,
          3036026.478288463,
          3017300.8349735127,
          3032234.7046406763,
          3061114.0895518577,
          3033919.0851295376,
          3200933.3087976645,
          3173754.766840863,
          3237928.294550371,
          3135282.6754402826,
          3183428.5200679237,
          3324421.5285587404,
          3294271.4609620688,
          3321078.170175994,
          3305670.8701918405,
          3299093.0760034802,
          3366603.7755873194,
          3329919.6089713797,
          3517991.6987907053,
          3471597.441713852,
          3546077.8070737515,
          3473175.002716232,
          3483576.1673617265,
          3661850.646119038,
          3606883.5054118815,
          3660177.792020382,
          3670054.628996368,
          3694021.13577181,
          3717660.788399001,
          3689216.424553326,
          3871500.5930680535,
          3814870.489832695,
          3927845.5939826095,
          3798106.3499733335,
          3850806.6059005223,
          4045400.7107842066,
          4028710.44046153,
          4017904.8269883553,
          4007814.0223690756,
          4037544.894728556,
          4089718.5108670252,
          4104306.4250161014,
          4253809.405361462,
          4220216.585784064,
          4293643.260946823,
          4222301.350662563,
          4239115.93808372,
          4427521.41638547,
          4388565.120518056,
          -1357200.830594664,
          -1248193.3614273658,
          -1376058.4153131684,
          -1356993.8738021846,
          -1198673.9207101606,
          -1170037.2371978257,
          -1051491.138905521,
          -1209013.8448893533,
          -1125895.5099850327,
          -1084320.478439146,
          -1083793.6140447622,
          -942180.5022148492,
          -938546.5800656624,
          -828788.9373652191,
          -992071.2729334979,
          -907937.5716733113,
          -748029.7178323948,
          -770321.287792205,
          -678826.742376561,
          -804964.2485150364,
          -677114.3296482547,
          -679118.610001659,
          -664253.0260159692,
          -561481.1716820819,
          -511907.8069840277,
          -471788.78946795996,
          -579272.623332693,
          -506261.8795082574,
          -374855.06968074903,
          -406194.11816583417,
          -311775.0762043212,
          -393880.047282054,
          -301251.6971534742,
          -319420.5638747795,
          -266065.2196561176,
          -177435.80123963114,
          -139592.48411809633,
          -71609.77507437422,
          -203916.22136718535,
          -138150.75256893103,
          -25637.73322439354,
          -38342.74805242878,
          73416.76330205338,
          -53724.88165004772,
          42419.54434292699,
          35333.343120950456,
          98230.13899784381,
          172179.96810529882,
          190271.80410320582,
          278196.50166380795,
          147731.16354736267,
          155203.12446333896,
          311784.03426852415,
          291392.77684754675,
          403310.71307799395,
          295582.0620560054,
          306984.651580444,
          332787.38638252375,
          390729.5509542406,
          462144.6985841301,
          441397.18316377257,
          546568.6102299269,
          407281.34027065826,
          451771.5030973788,
          574803.9177918785,
          568385.0669633251,
          662700.3190028574,
          573453.511279981,
          627474.0549807483,
          613085.0978313629,
          638000.9214863426,
          729240.1498210256,
          724878.211056565,
          804915.1385609799,
          697506.8037245624,
          728932.1373598743,
          856385.6128389204,
          856296.6390834166,
          918820.7433583814,
          792339.4761565276,
          866799.9617849735,
          883572.4317338694,
          892995.0299715893,
          983707.9025233728,
          988022.5338932616,
          1073729.6835248196,
          929937.7198908927,
          957604.2381677481,
          1078173.995901585,
          1070257.4369916595,
          1146104.1333210322,
          1029882.0958300452,
          1085239.4770415488,
          1106331.2806092051,
          1123882.7918460795,
          1186776.2727060376,
          1214340.203852374,
          1279862.817817437,
          1133316.92808126,
          1170401.411709013,
          1285189.5102477663,
          1266471.241184733,
          1340924.1905897956,
          1232142.287566983,
          1278255.5728903995,
          1287034.455396107,
          1294237.802414911,
          1375374.4853730788,
          1375639.3274378008,
          1431728.6870884437,
          1283505.526661378,
          1322607.3108096647,
          1416649.2409176703,
          1408691.030153326,
          1473530.1618919123,
          1339433.448467211,
          1389964.2951100806,
          1388249.6298431067,
          1403367.693365214,
          1467908.3435148073,
          1452785.891132878,
          1512885.1387441785,
          1365478.7113493464,
          1384555.8857050557,
          1492545.1893696566,
          1458535.1265054285,
          1523465.642461345,
          1394121.6757751743,
          1421349.7272600913,
          1424565.3504119886,
          1419439.6263925566,
          1478510.4574494641,
          1472305.7468612515,
          1522299.5396106567,
          1367616.9524360495,
          1395349.3860276716,
          1481768.3723885645,
          1454107.6812506353,
          1492246.2642100966,
          1327308.3281513792,
          1326682.1008827426,
          1295662.5688742306,
          1264943.192504404,
          1290179.2134800795,
          1247567.8644157178,
          1272829.6081525488,
          1093349.2481978177,
          1081118.9462131325,
          1178839.04893321,
          1138124.5460686649,
          1199858.3310223867,
          1067580.3116558685,
          1111457.7083024187,
          1099710.5708529514,
          1106601.4053425617,
          1169025.3931930088,
          1161752.5064277907,
          1214494.8257580698,
          1069767.464922232,
          1086120.5571897696,
          1186695.433568765,
          1156969.136734915,
          1221968.39109366,
          1086512.640753258,
          1122078.3899358253,
          1126466.5028387113,
          1122279.7596099847,
          1185140.5383135292,
          1176711.320269201,
          1238142.6187060075,
          1080803.4463595813,
          1107419.1479306296
         ]
        }
       ],
       "layout": {
        "legend": {
         "x": 0.01,
         "xanchor": "left",
         "y": 0.99,
         "yanchor": "top"
        },
        "template": {
         "data": {
          "bar": [
           {
            "error_x": {
             "color": "#2a3f5f"
            },
            "error_y": {
             "color": "#2a3f5f"
            },
            "marker": {
             "line": {
              "color": "white",
              "width": 0.5
             },
             "pattern": {
              "fillmode": "overlay",
              "size": 10,
              "solidity": 0.2
             }
            },
            "type": "bar"
           }
          ],
          "barpolar": [
           {
            "marker": {
             "line": {
              "color": "white",
              "width": 0.5
             },
             "pattern": {
              "fillmode": "overlay",
              "size": 10,
              "solidity": 0.2
             }
            },
            "type": "barpolar"
           }
          ],
          "carpet": [
           {
            "aaxis": {
             "endlinecolor": "#2a3f5f",
             "gridcolor": "#C8D4E3",
             "linecolor": "#C8D4E3",
             "minorgridcolor": "#C8D4E3",
             "startlinecolor": "#2a3f5f"
            },
            "baxis": {
             "endlinecolor": "#2a3f5f",
             "gridcolor": "#C8D4E3",
             "linecolor": "#C8D4E3",
             "minorgridcolor": "#C8D4E3",
             "startlinecolor": "#2a3f5f"
            },
            "type": "carpet"
           }
          ],
          "choropleth": [
           {
            "colorbar": {
             "outlinewidth": 0,
             "ticks": ""
            },
            "type": "choropleth"
           }
          ],
          "contour": [
           {
            "colorbar": {
             "outlinewidth": 0,
             "ticks": ""
            },
            "colorscale": [
             [
              0,
              "#0d0887"
             ],
             [
              0.1111111111111111,
              "#46039f"
             ],
             [
              0.2222222222222222,
              "#7201a8"
             ],
             [
              0.3333333333333333,
              "#9c179e"
             ],
             [
              0.4444444444444444,
              "#bd3786"
             ],
             [
              0.5555555555555556,
              "#d8576b"
             ],
             [
              0.6666666666666666,
              "#ed7953"
             ],
             [
              0.7777777777777778,
              "#fb9f3a"
             ],
             [
              0.8888888888888888,
              "#fdca26"
             ],
             [
              1,
              "#f0f921"
             ]
            ],
            "type": "contour"
           }
          ],
          "contourcarpet": [
           {
            "colorbar": {
             "outlinewidth": 0,
             "ticks": ""
            },
            "type": "contourcarpet"
           }
          ],
          "heatmap": [
           {
            "colorbar": {
             "outlinewidth": 0,
             "ticks": ""
            },
            "colorscale": [
             [
              0,
              "#0d0887"
             ],
             [
              0.1111111111111111,
              "#46039f"
             ],
             [
              0.2222222222222222,
              "#7201a8"
             ],
             [
              0.3333333333333333,
              "#9c179e"
             ],
             [
              0.4444444444444444,
              "#bd3786"
             ],
             [
              0.5555555555555556,
              "#d8576b"
             ],
             [
              0.6666666666666666,
              "#ed7953"
             ],
             [
              0.7777777777777778,
              "#fb9f3a"
             ],
             [
              0.8888888888888888,
              "#fdca26"
             ],
             [
              1,
              "#f0f921"
             ]
            ],
            "type": "heatmap"
           }
          ],
          "heatmapgl": [
           {
            "colorbar": {
             "outlinewidth": 0,
             "ticks": ""
            },
            "colorscale": [
             [
              0,
              "#0d0887"
             ],
             [
              0.1111111111111111,
              "#46039f"
             ],
             [
              0.2222222222222222,
              "#7201a8"
             ],
             [
              0.3333333333333333,
              "#9c179e"
             ],
             [
              0.4444444444444444,
              "#bd3786"
             ],
             [
              0.5555555555555556,
              "#d8576b"
             ],
             [
              0.6666666666666666,
              "#ed7953"
             ],
             [
              0.7777777777777778,
              "#fb9f3a"
             ],
             [
              0.8888888888888888,
              "#fdca26"
             ],
             [
              1,
              "#f0f921"
             ]
            ],
            "type": "heatmapgl"
           }
          ],
          "histogram": [
           {
            "marker": {
             "pattern": {
              "fillmode": "overlay",
              "size": 10,
              "solidity": 0.2
             }
            },
            "type": "histogram"
           }
          ],
          "histogram2d": [
           {
            "colorbar": {
             "outlinewidth": 0,
             "ticks": ""
            },
            "colorscale": [
             [
              0,
              "#0d0887"
             ],
             [
              0.1111111111111111,
              "#46039f"
             ],
             [
              0.2222222222222222,
              "#7201a8"
             ],
             [
              0.3333333333333333,
              "#9c179e"
             ],
             [
              0.4444444444444444,
              "#bd3786"
             ],
             [
              0.5555555555555556,
              "#d8576b"
             ],
             [
              0.6666666666666666,
              "#ed7953"
             ],
             [
              0.7777777777777778,
              "#fb9f3a"
             ],
             [
              0.8888888888888888,
              "#fdca26"
             ],
             [
              1,
              "#f0f921"
             ]
            ],
            "type": "histogram2d"
           }
          ],
          "histogram2dcontour": [
           {
            "colorbar": {
             "outlinewidth": 0,
             "ticks": ""
            },
            "colorscale": [
             [
              0,
              "#0d0887"
             ],
             [
              0.1111111111111111,
              "#46039f"
             ],
             [
              0.2222222222222222,
              "#7201a8"
             ],
             [
              0.3333333333333333,
              "#9c179e"
             ],
             [
              0.4444444444444444,
              "#bd3786"
             ],
             [
              0.5555555555555556,
              "#d8576b"
             ],
             [
              0.6666666666666666,
              "#ed7953"
             ],
             [
              0.7777777777777778,
              "#fb9f3a"
             ],
             [
              0.8888888888888888,
              "#fdca26"
             ],
             [
              1,
              "#f0f921"
             ]
            ],
            "type": "histogram2dcontour"
           }
          ],
          "mesh3d": [
           {
            "colorbar": {
             "outlinewidth": 0,
             "ticks": ""
            },
            "type": "mesh3d"
           }
          ],
          "parcoords": [
           {
            "line": {
             "colorbar": {
              "outlinewidth": 0,
              "ticks": ""
             }
            },
            "type": "parcoords"
           }
          ],
          "pie": [
           {
            "automargin": true,
            "type": "pie"
           }
          ],
          "scatter": [
           {
            "fillpattern": {
             "fillmode": "overlay",
             "size": 10,
             "solidity": 0.2
            },
            "type": "scatter"
           }
          ],
          "scatter3d": [
           {
            "line": {
             "colorbar": {
              "outlinewidth": 0,
              "ticks": ""
             }
            },
            "marker": {
             "colorbar": {
              "outlinewidth": 0,
              "ticks": ""
             }
            },
            "type": "scatter3d"
           }
          ],
          "scattercarpet": [
           {
            "marker": {
             "colorbar": {
              "outlinewidth": 0,
              "ticks": ""
             }
            },
            "type": "scattercarpet"
           }
          ],
          "scattergeo": [
           {
            "marker": {
             "colorbar": {
              "outlinewidth": 0,
              "ticks": ""
             }
            },
            "type": "scattergeo"
           }
          ],
          "scattergl": [
           {
            "marker": {
             "colorbar": {
              "outlinewidth": 0,
              "ticks": ""
             }
            },
            "type": "scattergl"
           }
          ],
          "scattermapbox": [
           {
            "marker": {
             "colorbar": {
              "outlinewidth": 0,
              "ticks": ""
             }
            },
            "type": "scattermapbox"
           }
          ],
          "scatterpolar": [
           {
            "marker": {
             "colorbar": {
              "outlinewidth": 0,
              "ticks": ""
             }
            },
            "type": "scatterpolar"
           }
          ],
          "scatterpolargl": [
           {
            "marker": {
             "colorbar": {
              "outlinewidth": 0,
              "ticks": ""
             }
            },
            "type": "scatterpolargl"
           }
          ],
          "scatterternary": [
           {
            "marker": {
             "colorbar": {
              "outlinewidth": 0,
              "ticks": ""
             }
            },
            "type": "scatterternary"
           }
          ],
          "surface": [
           {
            "colorbar": {
             "outlinewidth": 0,
             "ticks": ""
            },
            "colorscale": [
             [
              0,
              "#0d0887"
             ],
             [
              0.1111111111111111,
              "#46039f"
             ],
             [
              0.2222222222222222,
              "#7201a8"
             ],
             [
              0.3333333333333333,
              "#9c179e"
             ],
             [
              0.4444444444444444,
              "#bd3786"
             ],
             [
              0.5555555555555556,
              "#d8576b"
             ],
             [
              0.6666666666666666,
              "#ed7953"
             ],
             [
              0.7777777777777778,
              "#fb9f3a"
             ],
             [
              0.8888888888888888,
              "#fdca26"
             ],
             [
              1,
              "#f0f921"
             ]
            ],
            "type": "surface"
           }
          ],
          "table": [
           {
            "cells": {
             "fill": {
              "color": "#EBF0F8"
             },
             "line": {
              "color": "white"
             }
            },
            "header": {
             "fill": {
              "color": "#C8D4E3"
             },
             "line": {
              "color": "white"
             }
            },
            "type": "table"
           }
          ]
         },
         "layout": {
          "annotationdefaults": {
           "arrowcolor": "#2a3f5f",
           "arrowhead": 0,
           "arrowwidth": 1
          },
          "autotypenumbers": "strict",
          "coloraxis": {
           "colorbar": {
            "outlinewidth": 0,
            "ticks": ""
           }
          },
          "colorscale": {
           "diverging": [
            [
             0,
             "#8e0152"
            ],
            [
             0.1,
             "#c51b7d"
            ],
            [
             0.2,
             "#de77ae"
            ],
            [
             0.3,
             "#f1b6da"
            ],
            [
             0.4,
             "#fde0ef"
            ],
            [
             0.5,
             "#f7f7f7"
            ],
            [
             0.6,
             "#e6f5d0"
            ],
            [
             0.7,
             "#b8e186"
            ],
            [
             0.8,
             "#7fbc41"
            ],
            [
             0.9,
             "#4d9221"
            ],
            [
             1,
             "#276419"
            ]
           ],
           "sequential": [
            [
             0,
             "#0d0887"
            ],
            [
             0.1111111111111111,
             "#46039f"
            ],
            [
             0.2222222222222222,
             "#7201a8"
            ],
            [
             0.3333333333333333,
             "#9c179e"
            ],
            [
             0.4444444444444444,
             "#bd3786"
            ],
            [
             0.5555555555555556,
             "#d8576b"
            ],
            [
             0.6666666666666666,
             "#ed7953"
            ],
            [
             0.7777777777777778,
             "#fb9f3a"
            ],
            [
             0.8888888888888888,
             "#fdca26"
            ],
            [
             1,
             "#f0f921"
            ]
           ],
           "sequentialminus": [
            [
             0,
             "#0d0887"
            ],
            [
             0.1111111111111111,
             "#46039f"
            ],
            [
             0.2222222222222222,
             "#7201a8"
            ],
            [
             0.3333333333333333,
             "#9c179e"
            ],
            [
             0.4444444444444444,
             "#bd3786"
            ],
            [
             0.5555555555555556,
             "#d8576b"
            ],
            [
             0.6666666666666666,
             "#ed7953"
            ],
            [
             0.7777777777777778,
             "#fb9f3a"
            ],
            [
             0.8888888888888888,
             "#fdca26"
            ],
            [
             1,
             "#f0f921"
            ]
           ]
          },
          "colorway": [
           "#636efa",
           "#EF553B",
           "#00cc96",
           "#ab63fa",
           "#FFA15A",
           "#19d3f3",
           "#FF6692",
           "#B6E880",
           "#FF97FF",
           "#FECB52"
          ],
          "font": {
           "color": "#2a3f5f"
          },
          "geo": {
           "bgcolor": "white",
           "lakecolor": "white",
           "landcolor": "white",
           "showlakes": true,
           "showland": true,
           "subunitcolor": "#C8D4E3"
          },
          "hoverlabel": {
           "align": "left"
          },
          "hovermode": "closest",
          "mapbox": {
           "style": "light"
          },
          "paper_bgcolor": "white",
          "plot_bgcolor": "white",
          "polar": {
           "angularaxis": {
            "gridcolor": "#EBF0F8",
            "linecolor": "#EBF0F8",
            "ticks": ""
           },
           "bgcolor": "white",
           "radialaxis": {
            "gridcolor": "#EBF0F8",
            "linecolor": "#EBF0F8",
            "ticks": ""
           }
          },
          "scene": {
           "xaxis": {
            "backgroundcolor": "white",
            "gridcolor": "#DFE8F3",
            "gridwidth": 2,
            "linecolor": "#EBF0F8",
            "showbackground": true,
            "ticks": "",
            "zerolinecolor": "#EBF0F8"
           },
           "yaxis": {
            "backgroundcolor": "white",
            "gridcolor": "#DFE8F3",
            "gridwidth": 2,
            "linecolor": "#EBF0F8",
            "showbackground": true,
            "ticks": "",
            "zerolinecolor": "#EBF0F8"
           },
           "zaxis": {
            "backgroundcolor": "white",
            "gridcolor": "#DFE8F3",
            "gridwidth": 2,
            "linecolor": "#EBF0F8",
            "showbackground": true,
            "ticks": "",
            "zerolinecolor": "#EBF0F8"
           }
          },
          "shapedefaults": {
           "line": {
            "color": "#2a3f5f"
           }
          },
          "ternary": {
           "aaxis": {
            "gridcolor": "#DFE8F3",
            "linecolor": "#A2B1C6",
            "ticks": ""
           },
           "baxis": {
            "gridcolor": "#DFE8F3",
            "linecolor": "#A2B1C6",
            "ticks": ""
           },
           "bgcolor": "white",
           "caxis": {
            "gridcolor": "#DFE8F3",
            "linecolor": "#A2B1C6",
            "ticks": ""
           }
          },
          "title": {
           "x": 0.05
          },
          "xaxis": {
           "automargin": true,
           "gridcolor": "#EBF0F8",
           "linecolor": "#EBF0F8",
           "ticks": "",
           "title": {
            "standoff": 15
           },
           "zerolinecolor": "#EBF0F8",
           "zerolinewidth": 2
          },
          "yaxis": {
           "automargin": true,
           "gridcolor": "#EBF0F8",
           "linecolor": "#EBF0F8",
           "ticks": "",
           "title": {
            "standoff": 15
           },
           "zerolinecolor": "#EBF0F8",
           "zerolinewidth": 2
          }
         }
        },
        "title": {
         "text": "Predicción para total_trips (FHV - Other)"
        },
        "xaxis": {
         "rangeslider": {
          "visible": true
         },
         "title": {
          "text": "Fecha"
         }
        },
        "yaxis": {
         "range": [
          1037372,
          4427521.41638547
         ],
         "title": {
          "text": "total_trips"
         }
        }
       }
      }
     },
     "metadata": {},
     "output_type": "display_data"
    }
   ],
   "source": [
    "periodos = periodo_selector.value\n",
    "frecuencia = \"MS\"\n",
    "\n",
    "industry_type = industry_selector.value\n",
    "column_name = column_selector.value\n",
    "\n",
    "\n",
    "# Cargar los parámetros\n",
    "df_params = pd.read_csv(r\"mejores_modelos.csv\")\n",
    "# Preparar los datos\n",
    "df_prophet = cargar_y_preparar_datos(df, industry_type, column_name)\n",
    "\n",
    "\n",
    "if df_prophet is not None and not df_prophet.empty and df_prophet['y'].notnull().all():\n",
    "\n",
    "    #graficar_original(df_prophet, column_name)\n",
    "\n",
    "    # Ejecutar Grid Search\n",
    "    pronóstico_con_grid_search(df_prophet, df_params, industry_type, column_name, periodos=periodos, frecuencia=frecuencia)"
   ]
  }
 ],
 "metadata": {
  "kernelspec": {
   "display_name": "Python 3",
   "language": "python",
   "name": "python3"
  },
  "language_info": {
   "codemirror_mode": {
    "name": "ipython",
    "version": 3
   },
   "file_extension": ".py",
   "mimetype": "text/x-python",
   "name": "python",
   "nbconvert_exporter": "python",
   "pygments_lexer": "ipython3",
   "version": "3.12.1"
  }
 },
 "nbformat": 4,
 "nbformat_minor": 2
}
