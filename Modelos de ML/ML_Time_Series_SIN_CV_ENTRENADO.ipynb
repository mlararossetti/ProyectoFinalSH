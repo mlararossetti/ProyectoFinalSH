{
 "cells": [
  {
   "cell_type": "markdown",
   "metadata": {},
   "source": [
    "Librerías"
   ]
  },
  {
   "cell_type": "code",
   "execution_count": null,
   "metadata": {},
   "outputs": [],
   "source": [
    "import pandas as pd\n",
    "import numpy as np\n",
    "\n",
    "import os\n",
    "import joblib\n",
    "\n",
    "import ipywidgets as widgets\n",
    "from IPython.display import display\n",
    "\n",
    "import matplotlib.pyplot as plt\n",
    "from datetime import datetime\n",
    "from datetime import timedelta\n",
    "\n",
    "from sklearn.metrics import mean_absolute_error, mean_squared_error\n",
    "\n",
    "from prophet import Prophet\n",
    "from prophet.plot import plot_plotly\n",
    "import plotly.graph_objects as go"
   ]
  },
  {
   "cell_type": "markdown",
   "metadata": {},
   "source": [
    "- Ce carga un subdataset con los datos necesarios para el modelo de ML"
   ]
  },
  {
   "cell_type": "code",
   "execution_count": 47,
   "metadata": {},
   "outputs": [],
   "source": [
    "# Cargar los datos\n",
    "df = pd.read_csv(r\"..\\datasets\\2. Depurados\\TLC Aggregated Data\\ML_TS_Input.csv\")\n",
    "df['date'] = pd.to_datetime(df['date'])"
   ]
  },
  {
   "cell_type": "code",
   "execution_count": 48,
   "metadata": {},
   "outputs": [],
   "source": [
    "# Obtener el valor máximo de la columna 'date'\n",
    "max_date = df['date'].max()\n",
    "# Calcular la fecha de diciembre dentro de 5 años\n",
    "future_date = datetime(max_date.year + 5, 12, 1)\n",
    "# Calcular la cantidad de meses entre ambas fechas\n",
    "months_difference = (future_date.year - max_date.year) * 12 + (future_date.month - max_date.month)"
   ]
  },
  {
   "cell_type": "code",
   "execution_count": 49,
   "metadata": {},
   "outputs": [],
   "source": [
    "# Función para guardar el forecast en un archivo CSV\n",
    "def guardar_datos_forecast(forecast, industry_type, column_name, output_file=r\"..\\datasets\\2. Depurados\\TLC Aggregated Data\\ML_TS_Output.csv\"):\n",
    "    \"\"\"\n",
    "    Guarda los resultados del pronóstico en un archivo CSV consolidado.\n",
    "    Si ya existe un pronóstico para la combinación `industry_type` y `column_name`, no lo vuelve a guardar.\n",
    "    \"\"\"\n",
    "    # Crear un DataFrame con la información del pronóstico\n",
    "    forecast_data = forecast[['ds', 'yhat', 'yhat_lower', 'yhat_upper']].copy()\n",
    "    forecast_data['industry'] = industry_type\n",
    "    forecast_data['column'] = column_name\n",
    "\n",
    "    # Verificar si el archivo existe\n",
    "    if os.path.exists(output_file):\n",
    "        # Cargar datos existentes\n",
    "        existing_data = pd.read_csv(output_file)\n",
    "        \n",
    "        # Filtrar para ver si ya existe esta combinación\n",
    "        exists = (\n",
    "            (existing_data['industry'] == industry_type) &\n",
    "            (existing_data['column'] == column_name)\n",
    "        ).any()\n",
    "\n",
    "        if exists:\n",
    "            print(f\"Pronóstico para la combinación '{industry_type}' - '{column_name}' ya existe en {output_file}.\")\n",
    "            return\n",
    "\n",
    "        # Concatenar datos nuevos si no existen\n",
    "        combined_data = pd.concat([existing_data, forecast_data], ignore_index=True)\n",
    "    else:\n",
    "        # Crear un nuevo archivo si no existe\n",
    "        combined_data = forecast_data\n",
    "\n",
    "    # Guardar el archivo consolidado\n",
    "    combined_data.to_csv(output_file, index=False)\n",
    "    print(f\"Pronóstico guardado en {output_file}.\")\n"
   ]
  },
  {
   "cell_type": "code",
   "execution_count": 50,
   "metadata": {},
   "outputs": [],
   "source": [
    "def graficar_original(df_prophet, column_name):\n",
    "    fig = go.Figure()\n",
    "    fig.add_trace(go.Scatter(x=df_prophet[\"ds\"], y=df_prophet[\"y\"], marker=dict(symbol='circle', color='royalblue')))\n",
    "    fig.layout.update(title_text=\"Datos históricos\", yaxis_title=f\"{column_name}\", xaxis_rangeslider_visible=True)\n",
    "    fig.show()"
   ]
  },
  {
   "cell_type": "code",
   "execution_count": 51,
   "metadata": {},
   "outputs": [],
   "source": [
    "def graficar_predicción(df_prophet, column_name, forecast,industry_type):\n",
    "    \"\"\"\n",
    "    Función para graficar la predicción realizada por Prophet junto con el intervalo de confianza.\n",
    "    Ajusta automáticamente el eje Y al rango de valores de los datos.\n",
    "    \"\"\"\n",
    "    # Crear figura\n",
    "    fig = go.Figure()\n",
    "\n",
    "    # Datos históricos\n",
    "    fig.add_trace(go.Scatter( x=df_prophet[\"ds\"], y=df_prophet[\"y\"], mode='lines+markers', name='Datos Históricos', marker=dict(symbol='circle', color='royalblue'),\n",
    "        line=dict(color='royalblue', width=2)))\n",
    "\n",
    "    # Predicción\n",
    "    fig.add_trace(go.Scatter(x=forecast['ds'], y=forecast['yhat'], mode='lines', name='Predicción', line=dict(color='green', width=3, dash='dot')))\n",
    "\n",
    "    # Intervalo de predicción\n",
    "    fig.add_trace(go.Scatter( x=forecast['ds'].tolist() + forecast['ds'][::-1].tolist(), y=forecast['yhat_upper'].tolist() + forecast['yhat_lower'][::-1].tolist(), \n",
    "        fill='toself', fillcolor='rgba(0, 128, 0, 0.2)', line=dict(color='rgba(0, 0, 0, 0)'), name='Intervalo de Predicción' ))\n",
    "\n",
    "    # Calcular el rango automático para el eje Y\n",
    "    y_values = (df_prophet[\"y\"].tolist() + forecast['yhat'].tolist() ) + forecast['yhat_upper'].tolist() #+ forecast['yhat_lower'].tolist() \n",
    "    \n",
    "    y_min, y_max = min(y_values), max(y_values)\n",
    "\n",
    "    # Configuración del layout\n",
    "    fig.update_layout( title=f\"Predicción para {column_name} ({industry_type})\", xaxis_title='Fecha', yaxis_title=column_name, xaxis_rangeslider_visible=True,\n",
    "        yaxis=dict(range=[y_min, y_max]), template='plotly_white',\n",
    "        legend=dict(yanchor=\"top\", y=0.99, xanchor=\"left\", x=0.01)\n",
    "    )\n",
    "\n",
    "    # Mostrar gráfico\n",
    "    fig.show()    "
   ]
  },
  {
   "cell_type": "code",
   "execution_count": 52,
   "metadata": {},
   "outputs": [],
   "source": [
    "# Función para obtener el nombre del archivo del modelo\n",
    "def obtener_nombre_archivo(industry_type, column_name):\n",
    "    \"\"\"Genera un nombre de archivo único para una combinación de industria y columna.\"\"\"\n",
    "    return f\"models/prophet_model_{industry_type}_{column_name}.pkl\"\n",
    "\n",
    "# Función para cargar o entrenar un modelo Prophet\n",
    "def cargar_o_entrenar_modelo(df_prophet, industry_type, column_name, cps, sps, sm):\n",
    "    \"\"\"\n",
    "    Carga un modelo Prophet guardado o lo entrena y guarda si no existe.\n",
    "    \"\"\"\n",
    "    # Crear el directorio \"models\" si no existe\n",
    "    os.makedirs(\"models\", exist_ok=True)\n",
    "    \n",
    "    # Nombre del archivo del modelo\n",
    "    modelo_path = obtener_nombre_archivo(industry_type, column_name)\n",
    "    \n",
    "    # Intentar cargar el modelo si ya existe\n",
    "    if os.path.exists(modelo_path):\n",
    "        print(f\"Cargando modelo desde {modelo_path}...\")\n",
    "        model = joblib.load(modelo_path)\n",
    "    else:\n",
    "        print(f\"Entrenando modelo para {industry_type} - {column_name}...\")\n",
    "        model = Prophet(\n",
    "            changepoint_prior_scale=cps,\n",
    "            seasonality_prior_scale=sps,\n",
    "            seasonality_mode=sm,\n",
    "            yearly_seasonality=True,\n",
    "            weekly_seasonality=False,\n",
    "        )\n",
    "        model.fit(df_prophet)\n",
    "        # Guardar el modelo entrenado\n",
    "        joblib.dump(model, modelo_path)\n",
    "        print(f\"Modelo guardado en {modelo_path}.\")\n",
    "    \n",
    "    return model\n"
   ]
  },
  {
   "cell_type": "code",
   "execution_count": 53,
   "metadata": {},
   "outputs": [],
   "source": [
    "# Función para cargar los datos y filtrar la serie de tiempo seleccionada\n",
    "def cargar_y_preparar_datos(df, industry_type, column_name):\n",
    "    \"\"\"\n",
    "    Filtra y prepara los datos para Prophet según el tipo de industria y la columna seleccionada.\n",
    "    \"\"\"\n",
    "    df_filtered = df[df['industry'] == industry_type][['date', column_name]].copy()\n",
    "    df_filtered.columns = ['ds', 'y']  # Renombrar columnas para Prophet\n",
    "    df_filtered['ds'] = pd.to_datetime(df_filtered['ds'])  # Asegurar formato de fecha\n",
    "    return df_filtered if not df_filtered['y'].isnull().all() else None"
   ]
  },
  {
   "cell_type": "code",
   "execution_count": 54,
   "metadata": {},
   "outputs": [],
   "source": [
    "def pronóstico_con_grid_search(df_prophet, df_params, industry_type, column_name, periodos, frecuencia):\n",
    "    \"\"\"\n",
    "    Realiza el pronóstico utilizando un modelo Prophet guardado o entrenado.\n",
    "    \"\"\"\n",
    "    # Obtener los mejores parámetros\n",
    "    filtered_df = df_params[(df_params['industry'] == industry_type) & (df_params['column'] == column_name)]\n",
    "    \n",
    "    if not filtered_df.empty:\n",
    "        cps = filtered_df['changepoint_prior_scale'].iloc[0]\n",
    "        sps = filtered_df['seasonality_prior_scale'].iloc[0]\n",
    "        sm = filtered_df['seasonality_mode'].iloc[0]\n",
    "    else:\n",
    "        print(\"No se encontraron datos para la combinación especificada.\")\n",
    "        return\n",
    "\n",
    "    # Cargar o entrenar modelo\n",
    "    model = cargar_o_entrenar_modelo(df_prophet, industry_type, column_name, cps, sps, sm)\n",
    "\n",
    "    # Realizar predicción\n",
    "    future = model.make_future_dataframe(periods=periodos, freq=frecuencia)\n",
    "    forecast = model.predict(future)\n",
    "\n",
    "    # Guardar datos del pronóstico\n",
    "    guardar_datos_forecast(forecast, industry_type, column_name)\n",
    "\n",
    "    # Graficar predicción\n",
    "    graficar_predicción(df_prophet, column_name, forecast, industry_type)\n",
    "    "
   ]
  },
  {
   "cell_type": "code",
   "execution_count": 55,
   "metadata": {},
   "outputs": [
    {
     "data": {
      "application/vnd.jupyter.widget-view+json": {
       "model_id": "e9fa1a0a10ba4053b4aff401741ddeef",
       "version_major": 2,
       "version_minor": 0
      },
      "text/plain": [
       "Dropdown(description='Industria:', options=('FHV - High Volume', 'FHV - Other', 'Green Taxi', 'Total Mercado',…"
      ]
     },
     "metadata": {},
     "output_type": "display_data"
    },
    {
     "data": {
      "application/vnd.jupyter.widget-view+json": {
       "model_id": "8bc11094a32d4b669ef9bda385e70fe0",
       "version_major": 2,
       "version_minor": 0
      },
      "text/plain": [
       "Dropdown(description='Columna:', options=('total_trips', 'unique_vehicles', 'total_amount', 'total_co2_emissio…"
      ]
     },
     "metadata": {},
     "output_type": "display_data"
    },
    {
     "data": {
      "application/vnd.jupyter.widget-view+json": {
       "model_id": "724e0dbab6034d5f85a5462d9cea29fb",
       "version_major": 2,
       "version_minor": 0
      },
      "text/plain": [
       "IntSlider(value=128, description='Períodos:', max=128, min=1)"
      ]
     },
     "metadata": {},
     "output_type": "display_data"
    }
   ],
   "source": [
    "\"\"\"\"Selector de opciones embebido en Jupyter Notebook\"\"\"\n",
    "\n",
    "# Cargar los parámetros\n",
    "df_params = pd.read_csv(r\"mejores_modelos.csv\")\n",
    "\n",
    "# Crear un selector para la industria\n",
    "industry_types = df_params['industry'].unique()\n",
    "industry_selector = widgets.Dropdown(\n",
    "    options=industry_types,\n",
    "    description='Industria:',\n",
    "    disabled=False,\n",
    ")\n",
    "\n",
    "# Función para actualizar las columnas en función de la industria seleccionada\n",
    "def update_columns(industry):\n",
    "    columns = df_params[df_params['industry'] == industry]['column'].unique()\n",
    "    column_selector.options = columns\n",
    "\n",
    "# Conectar el cambio de valor del selector de industria\n",
    "industry_selector.observe(lambda change: update_columns(change['new']), names='value')\n",
    "\n",
    "# Crear un selector para las columnas\n",
    "column_selector = widgets.Dropdown(\n",
    "    options = df_params[df_params['industry'] == industry_types[0]]['column'].unique(),\n",
    "    description='Columna:',\n",
    "    disabled=False,\n",
    ")\n",
    "\n",
    "\n",
    "periodo_selector = widgets.IntSlider(value=128, min=1, max=128, step=1, description='Períodos:')\n",
    "display(industry_selector, column_selector, periodo_selector)"
   ]
  },
  {
   "cell_type": "markdown",
   "metadata": {},
   "source": [
    "Elegir las opciones de arriba y solo correr el script de abajo."
   ]
  },
  {
   "cell_type": "code",
   "execution_count": 79,
   "metadata": {},
   "outputs": [
    {
     "name": "stdout",
     "output_type": "stream",
     "text": [
      "Entrenando modelo para Yellow Taxi - avg_trip_distance...\n"
     ]
    },
    {
     "name": "stderr",
     "output_type": "stream",
     "text": [
      "11:20:01 - cmdstanpy - INFO - Chain [1] start processing\n",
      "11:20:02 - cmdstanpy - INFO - Chain [1] done processing\n"
     ]
    },
    {
     "name": "stdout",
     "output_type": "stream",
     "text": [
      "Modelo guardado en models/prophet_model_Yellow Taxi_avg_trip_distance.pkl.\n",
      "Pronóstico guardado en ..\\datasets\\2. Depurados\\TLC Aggregated Data\\ML_TS_Output.csv.\n"
     ]
    },
    {
     "data": {
      "application/vnd.plotly.v1+json": {
       "config": {
        "plotlyServerURL": "https://plot.ly"
       },
       "data": [
        {
         "line": {
          "color": "royalblue",
          "width": 2
         },
         "marker": {
          "color": "royalblue",
          "symbol": "circle"
         },
         "mode": "lines+markers",
         "name": "Datos Históricos",
         "type": "scatter",
         "x": [
          "2021-01-01T00:00:00",
          "2021-02-01T00:00:00",
          "2021-03-01T00:00:00",
          "2021-04-01T00:00:00",
          "2021-05-01T00:00:00",
          "2021-06-01T00:00:00",
          "2021-07-01T00:00:00",
          "2021-08-01T00:00:00",
          "2021-09-01T00:00:00",
          "2021-10-01T00:00:00",
          "2021-11-01T00:00:00",
          "2021-12-01T00:00:00",
          "2022-01-01T00:00:00",
          "2022-02-01T00:00:00",
          "2022-03-01T00:00:00",
          "2022-04-01T00:00:00",
          "2022-05-01T00:00:00",
          "2022-06-01T00:00:00",
          "2022-07-01T00:00:00",
          "2022-08-01T00:00:00",
          "2022-09-01T00:00:00",
          "2022-10-01T00:00:00",
          "2022-11-01T00:00:00",
          "2022-12-01T00:00:00",
          "2023-01-01T00:00:00",
          "2023-02-01T00:00:00",
          "2023-03-01T00:00:00",
          "2023-04-01T00:00:00",
          "2023-05-01T00:00:00",
          "2023-06-01T00:00:00",
          "2023-07-01T00:00:00",
          "2023-08-01T00:00:00",
          "2023-09-01T00:00:00",
          "2023-10-01T00:00:00",
          "2023-11-01T00:00:00",
          "2023-12-01T00:00:00",
          "2024-01-01T00:00:00",
          "2024-02-01T00:00:00",
          "2024-03-01T00:00:00",
          "2024-04-01T00:00:00",
          "2024-05-01T00:00:00",
          "2024-06-01T00:00:00",
          "2024-07-01T00:00:00",
          "2024-08-01T00:00:00"
         ],
         "y": [
          2.43,
          2.4,
          2.45,
          2.51,
          2.57,
          2.61,
          2.74,
          2.81,
          2.79,
          2.66,
          2.71,
          2.78,
          2.49,
          2.55,
          2.71,
          2.79,
          2.92,
          2.92,
          2.88,
          2.95,
          3.03,
          2.87,
          2.88,
          2.84,
          2.71,
          2.67,
          2.81,
          2.87,
          3.02,
          2.96,
          3,
          3.08,
          2.96,
          2.89,
          2.77,
          2.71,
          2.62,
          2.63,
          2.71,
          2.77,
          2.84,
          2.82,
          2.9,
          2.97
         ]
        },
        {
         "line": {
          "color": "green",
          "dash": "dot",
          "width": 3
         },
         "mode": "lines",
         "name": "Predicción",
         "type": "scatter",
         "x": [
          "2021-01-01T00:00:00",
          "2021-02-01T00:00:00",
          "2021-03-01T00:00:00",
          "2021-04-01T00:00:00",
          "2021-05-01T00:00:00",
          "2021-06-01T00:00:00",
          "2021-07-01T00:00:00",
          "2021-08-01T00:00:00",
          "2021-09-01T00:00:00",
          "2021-10-01T00:00:00",
          "2021-11-01T00:00:00",
          "2021-12-01T00:00:00",
          "2022-01-01T00:00:00",
          "2022-02-01T00:00:00",
          "2022-03-01T00:00:00",
          "2022-04-01T00:00:00",
          "2022-05-01T00:00:00",
          "2022-06-01T00:00:00",
          "2022-07-01T00:00:00",
          "2022-08-01T00:00:00",
          "2022-09-01T00:00:00",
          "2022-10-01T00:00:00",
          "2022-11-01T00:00:00",
          "2022-12-01T00:00:00",
          "2023-01-01T00:00:00",
          "2023-02-01T00:00:00",
          "2023-03-01T00:00:00",
          "2023-04-01T00:00:00",
          "2023-05-01T00:00:00",
          "2023-06-01T00:00:00",
          "2023-07-01T00:00:00",
          "2023-08-01T00:00:00",
          "2023-09-01T00:00:00",
          "2023-10-01T00:00:00",
          "2023-11-01T00:00:00",
          "2023-12-01T00:00:00",
          "2024-01-01T00:00:00",
          "2024-02-01T00:00:00",
          "2024-03-01T00:00:00",
          "2024-04-01T00:00:00",
          "2024-05-01T00:00:00",
          "2024-06-01T00:00:00",
          "2024-07-01T00:00:00",
          "2024-08-01T00:00:00",
          "2024-09-01T00:00:00",
          "2024-10-01T00:00:00",
          "2024-11-01T00:00:00",
          "2024-12-01T00:00:00",
          "2025-01-01T00:00:00",
          "2025-02-01T00:00:00",
          "2025-03-01T00:00:00",
          "2025-04-01T00:00:00",
          "2025-05-01T00:00:00",
          "2025-06-01T00:00:00",
          "2025-07-01T00:00:00",
          "2025-08-01T00:00:00",
          "2025-09-01T00:00:00",
          "2025-10-01T00:00:00",
          "2025-11-01T00:00:00",
          "2025-12-01T00:00:00",
          "2026-01-01T00:00:00",
          "2026-02-01T00:00:00",
          "2026-03-01T00:00:00",
          "2026-04-01T00:00:00",
          "2026-05-01T00:00:00",
          "2026-06-01T00:00:00",
          "2026-07-01T00:00:00",
          "2026-08-01T00:00:00",
          "2026-09-01T00:00:00",
          "2026-10-01T00:00:00",
          "2026-11-01T00:00:00",
          "2026-12-01T00:00:00",
          "2027-01-01T00:00:00",
          "2027-02-01T00:00:00",
          "2027-03-01T00:00:00",
          "2027-04-01T00:00:00",
          "2027-05-01T00:00:00",
          "2027-06-01T00:00:00",
          "2027-07-01T00:00:00",
          "2027-08-01T00:00:00",
          "2027-09-01T00:00:00",
          "2027-10-01T00:00:00",
          "2027-11-01T00:00:00",
          "2027-12-01T00:00:00",
          "2028-01-01T00:00:00",
          "2028-02-01T00:00:00",
          "2028-03-01T00:00:00",
          "2028-04-01T00:00:00",
          "2028-05-01T00:00:00",
          "2028-06-01T00:00:00",
          "2028-07-01T00:00:00",
          "2028-08-01T00:00:00",
          "2028-09-01T00:00:00",
          "2028-10-01T00:00:00",
          "2028-11-01T00:00:00",
          "2028-12-01T00:00:00",
          "2029-01-01T00:00:00",
          "2029-02-01T00:00:00",
          "2029-03-01T00:00:00",
          "2029-04-01T00:00:00",
          "2029-05-01T00:00:00",
          "2029-06-01T00:00:00",
          "2029-07-01T00:00:00",
          "2029-08-01T00:00:00",
          "2029-09-01T00:00:00",
          "2029-10-01T00:00:00",
          "2029-11-01T00:00:00",
          "2029-12-01T00:00:00",
          "2030-01-01T00:00:00",
          "2030-02-01T00:00:00",
          "2030-03-01T00:00:00",
          "2030-04-01T00:00:00",
          "2030-05-01T00:00:00",
          "2030-06-01T00:00:00",
          "2030-07-01T00:00:00",
          "2030-08-01T00:00:00",
          "2030-09-01T00:00:00",
          "2030-10-01T00:00:00",
          "2030-11-01T00:00:00",
          "2030-12-01T00:00:00",
          "2031-01-01T00:00:00",
          "2031-02-01T00:00:00",
          "2031-03-01T00:00:00",
          "2031-04-01T00:00:00",
          "2031-05-01T00:00:00",
          "2031-06-01T00:00:00",
          "2031-07-01T00:00:00",
          "2031-08-01T00:00:00",
          "2031-09-01T00:00:00",
          "2031-10-01T00:00:00",
          "2031-11-01T00:00:00",
          "2031-12-01T00:00:00",
          "2032-01-01T00:00:00",
          "2032-02-01T00:00:00",
          "2032-03-01T00:00:00",
          "2032-04-01T00:00:00",
          "2032-05-01T00:00:00",
          "2032-06-01T00:00:00",
          "2032-07-01T00:00:00",
          "2032-08-01T00:00:00",
          "2032-09-01T00:00:00",
          "2032-10-01T00:00:00",
          "2032-11-01T00:00:00",
          "2032-12-01T00:00:00",
          "2033-01-01T00:00:00",
          "2033-02-01T00:00:00",
          "2033-03-01T00:00:00",
          "2033-04-01T00:00:00",
          "2033-05-01T00:00:00",
          "2033-06-01T00:00:00",
          "2033-07-01T00:00:00",
          "2033-08-01T00:00:00",
          "2033-09-01T00:00:00",
          "2033-10-01T00:00:00",
          "2033-11-01T00:00:00",
          "2033-12-01T00:00:00",
          "2034-01-01T00:00:00",
          "2034-02-01T00:00:00",
          "2034-03-01T00:00:00",
          "2034-04-01T00:00:00",
          "2034-05-01T00:00:00",
          "2034-06-01T00:00:00",
          "2034-07-01T00:00:00",
          "2034-08-01T00:00:00",
          "2034-09-01T00:00:00",
          "2034-10-01T00:00:00",
          "2034-11-01T00:00:00",
          "2034-12-01T00:00:00",
          "2035-01-01T00:00:00",
          "2035-02-01T00:00:00",
          "2035-03-01T00:00:00",
          "2035-04-01T00:00:00"
         ],
         "y": [
          2.411213435069806,
          2.389608560187095,
          2.4804433563077457,
          2.5087178349595374,
          2.6039441213204424,
          2.6211426918953844,
          2.705863088185876,
          2.7982789179370613,
          2.799003331771158,
          2.6434717195453197,
          2.706257721543914,
          2.765712759734556,
          2.5274812201596673,
          2.5604597630157753,
          2.6955522373534135,
          2.7823058647945076,
          2.9025267950347735,
          2.8844936513758324,
          2.9223247791375435,
          3.009820986230131,
          2.990363576150673,
          2.8763156463427815,
          2.862510635360159,
          2.8525027243983745,
          2.6890586066844517,
          2.694513259190082,
          2.8004276374941606,
          2.865077849895921,
          3.0108308441051164,
          2.9736271716740803,
          2.9810534845947427,
          3.047035224412518,
          2.9905640213205067,
          2.900206096985945,
          2.7912577714356717,
          2.7118881345132886,
          2.622370807370595,
          2.605576825553248,
          2.7035988304123455,
          2.7839304287826048,
          2.8326218454347525,
          2.8306632513772763,
          2.910624339049889,
          2.9547321784170935,
          2.9223880839127685,
          2.6724692167949864,
          2.7568322061231867,
          2.8551005160235032,
          2.5095683363503336,
          2.531617845560538,
          2.6618824043390417,
          2.7338112630763214,
          2.812420331970138,
          2.79659765984708,
          2.8493620120476586,
          2.908756596239101,
          2.8764922792495162,
          2.6890677516308417,
          2.71889774105703,
          2.7562702289926575,
          2.495231561683687,
          2.5054029793778483,
          2.6198954696979446,
          2.6838823257818656,
          2.7922469764599067,
          2.7619761587378293,
          2.7879643761154482,
          2.8632183452886046,
          2.8314823171463583,
          2.7055518511682317,
          2.6794682194765627,
          2.6576063593361434,
          2.4819323367363584,
          2.4791583460285507,
          2.5776404014306284,
          2.6341515787452137,
          2.772082646619328,
          2.726796316974922,
          2.7264604997121156,
          2.8181334763523007,
          2.7873545870208534,
          2.7218601921318815,
          2.638545034716301,
          2.5591753977935605,
          2.469658070651394,
          2.452864088833919,
          2.5508860936930233,
          2.631217692063274,
          2.6799091087153126,
          2.677950514657843,
          2.757911602330553,
          2.8020194416976834,
          2.7696753471934157,
          2.519756480075408,
          2.6041194694038445,
          2.7023877793041167,
          2.356855599631026,
          2.378905108841478,
          2.5091696676197626,
          2.58109852635689,
          2.65970759525082,
          2.643884923127569,
          2.696649275328453,
          2.7560438595198566,
          2.7237795425301727,
          2.536355014911626,
          2.566185004337652,
          2.6035574922740583,
          2.3425188249641464,
          2.352690242658983,
          2.467182732978639,
          2.5311695890626575,
          2.639534239740711,
          2.6092634220183237,
          2.6352516393960808,
          2.7105056085688393,
          2.6787695804268816,
          2.552839114448778,
          2.526755482757333,
          2.504893622616891,
          2.3292196000171574,
          2.3264456093093346,
          2.424927664711488,
          2.4814388420258426,
          2.619369909900254,
          2.5740835802557647,
          2.5737477629927628,
          2.665420739632636,
          2.6346418503014966,
          2.569147455413518,
          2.4858322979969363,
          2.4064626610748174,
          2.316945333931895,
          2.3001513521144075,
          2.3981733569735937,
          2.478504955344172,
          2.5271963719963737,
          2.525237777938989,
          2.6051988656111846,
          2.649306704978666,
          2.616962610474248,
          2.367043743357283,
          2.4514067326845916,
          2.5496750425848105,
          2.2041428629117576,
          2.2261923721218357,
          2.3564569309004217,
          2.4283857896374204,
          2.5069948585312822,
          2.4911721864083516,
          2.5439365386088277,
          2.60333112280057,
          2.571066805810837,
          2.383642278192123,
          2.4134722676183964,
          2.4508447555537516,
          2.189806088245225,
          2.199977505939241,
          2.3144699962593323,
          2.378456852343083,
          2.486821503021243,
          2.4565506852989425,
          2.4825389026768754,
          2.5577928718498155,
          2.526056843707757,
          2.400126377730249,
          2.3740427460379627,
          2.352180885897822,
          2.176506863297706,
          2.173732872590135,
          2.272214927992246,
          2.3287261053066466
         ]
        },
        {
         "fill": "toself",
         "fillcolor": "rgba(0, 128, 0, 0.2)",
         "line": {
          "color": "rgba(0, 0, 0, 0)"
         },
         "name": "Intervalo de Predicción",
         "type": "scatter",
         "x": [
          "2021-01-01T00:00:00",
          "2021-02-01T00:00:00",
          "2021-03-01T00:00:00",
          "2021-04-01T00:00:00",
          "2021-05-01T00:00:00",
          "2021-06-01T00:00:00",
          "2021-07-01T00:00:00",
          "2021-08-01T00:00:00",
          "2021-09-01T00:00:00",
          "2021-10-01T00:00:00",
          "2021-11-01T00:00:00",
          "2021-12-01T00:00:00",
          "2022-01-01T00:00:00",
          "2022-02-01T00:00:00",
          "2022-03-01T00:00:00",
          "2022-04-01T00:00:00",
          "2022-05-01T00:00:00",
          "2022-06-01T00:00:00",
          "2022-07-01T00:00:00",
          "2022-08-01T00:00:00",
          "2022-09-01T00:00:00",
          "2022-10-01T00:00:00",
          "2022-11-01T00:00:00",
          "2022-12-01T00:00:00",
          "2023-01-01T00:00:00",
          "2023-02-01T00:00:00",
          "2023-03-01T00:00:00",
          "2023-04-01T00:00:00",
          "2023-05-01T00:00:00",
          "2023-06-01T00:00:00",
          "2023-07-01T00:00:00",
          "2023-08-01T00:00:00",
          "2023-09-01T00:00:00",
          "2023-10-01T00:00:00",
          "2023-11-01T00:00:00",
          "2023-12-01T00:00:00",
          "2024-01-01T00:00:00",
          "2024-02-01T00:00:00",
          "2024-03-01T00:00:00",
          "2024-04-01T00:00:00",
          "2024-05-01T00:00:00",
          "2024-06-01T00:00:00",
          "2024-07-01T00:00:00",
          "2024-08-01T00:00:00",
          "2024-09-01T00:00:00",
          "2024-10-01T00:00:00",
          "2024-11-01T00:00:00",
          "2024-12-01T00:00:00",
          "2025-01-01T00:00:00",
          "2025-02-01T00:00:00",
          "2025-03-01T00:00:00",
          "2025-04-01T00:00:00",
          "2025-05-01T00:00:00",
          "2025-06-01T00:00:00",
          "2025-07-01T00:00:00",
          "2025-08-01T00:00:00",
          "2025-09-01T00:00:00",
          "2025-10-01T00:00:00",
          "2025-11-01T00:00:00",
          "2025-12-01T00:00:00",
          "2026-01-01T00:00:00",
          "2026-02-01T00:00:00",
          "2026-03-01T00:00:00",
          "2026-04-01T00:00:00",
          "2026-05-01T00:00:00",
          "2026-06-01T00:00:00",
          "2026-07-01T00:00:00",
          "2026-08-01T00:00:00",
          "2026-09-01T00:00:00",
          "2026-10-01T00:00:00",
          "2026-11-01T00:00:00",
          "2026-12-01T00:00:00",
          "2027-01-01T00:00:00",
          "2027-02-01T00:00:00",
          "2027-03-01T00:00:00",
          "2027-04-01T00:00:00",
          "2027-05-01T00:00:00",
          "2027-06-01T00:00:00",
          "2027-07-01T00:00:00",
          "2027-08-01T00:00:00",
          "2027-09-01T00:00:00",
          "2027-10-01T00:00:00",
          "2027-11-01T00:00:00",
          "2027-12-01T00:00:00",
          "2028-01-01T00:00:00",
          "2028-02-01T00:00:00",
          "2028-03-01T00:00:00",
          "2028-04-01T00:00:00",
          "2028-05-01T00:00:00",
          "2028-06-01T00:00:00",
          "2028-07-01T00:00:00",
          "2028-08-01T00:00:00",
          "2028-09-01T00:00:00",
          "2028-10-01T00:00:00",
          "2028-11-01T00:00:00",
          "2028-12-01T00:00:00",
          "2029-01-01T00:00:00",
          "2029-02-01T00:00:00",
          "2029-03-01T00:00:00",
          "2029-04-01T00:00:00",
          "2029-05-01T00:00:00",
          "2029-06-01T00:00:00",
          "2029-07-01T00:00:00",
          "2029-08-01T00:00:00",
          "2029-09-01T00:00:00",
          "2029-10-01T00:00:00",
          "2029-11-01T00:00:00",
          "2029-12-01T00:00:00",
          "2030-01-01T00:00:00",
          "2030-02-01T00:00:00",
          "2030-03-01T00:00:00",
          "2030-04-01T00:00:00",
          "2030-05-01T00:00:00",
          "2030-06-01T00:00:00",
          "2030-07-01T00:00:00",
          "2030-08-01T00:00:00",
          "2030-09-01T00:00:00",
          "2030-10-01T00:00:00",
          "2030-11-01T00:00:00",
          "2030-12-01T00:00:00",
          "2031-01-01T00:00:00",
          "2031-02-01T00:00:00",
          "2031-03-01T00:00:00",
          "2031-04-01T00:00:00",
          "2031-05-01T00:00:00",
          "2031-06-01T00:00:00",
          "2031-07-01T00:00:00",
          "2031-08-01T00:00:00",
          "2031-09-01T00:00:00",
          "2031-10-01T00:00:00",
          "2031-11-01T00:00:00",
          "2031-12-01T00:00:00",
          "2032-01-01T00:00:00",
          "2032-02-01T00:00:00",
          "2032-03-01T00:00:00",
          "2032-04-01T00:00:00",
          "2032-05-01T00:00:00",
          "2032-06-01T00:00:00",
          "2032-07-01T00:00:00",
          "2032-08-01T00:00:00",
          "2032-09-01T00:00:00",
          "2032-10-01T00:00:00",
          "2032-11-01T00:00:00",
          "2032-12-01T00:00:00",
          "2033-01-01T00:00:00",
          "2033-02-01T00:00:00",
          "2033-03-01T00:00:00",
          "2033-04-01T00:00:00",
          "2033-05-01T00:00:00",
          "2033-06-01T00:00:00",
          "2033-07-01T00:00:00",
          "2033-08-01T00:00:00",
          "2033-09-01T00:00:00",
          "2033-10-01T00:00:00",
          "2033-11-01T00:00:00",
          "2033-12-01T00:00:00",
          "2034-01-01T00:00:00",
          "2034-02-01T00:00:00",
          "2034-03-01T00:00:00",
          "2034-04-01T00:00:00",
          "2034-05-01T00:00:00",
          "2034-06-01T00:00:00",
          "2034-07-01T00:00:00",
          "2034-08-01T00:00:00",
          "2034-09-01T00:00:00",
          "2034-10-01T00:00:00",
          "2034-11-01T00:00:00",
          "2034-12-01T00:00:00",
          "2035-01-01T00:00:00",
          "2035-02-01T00:00:00",
          "2035-03-01T00:00:00",
          "2035-04-01T00:00:00",
          "2035-04-01T00:00:00",
          "2035-03-01T00:00:00",
          "2035-02-01T00:00:00",
          "2035-01-01T00:00:00",
          "2034-12-01T00:00:00",
          "2034-11-01T00:00:00",
          "2034-10-01T00:00:00",
          "2034-09-01T00:00:00",
          "2034-08-01T00:00:00",
          "2034-07-01T00:00:00",
          "2034-06-01T00:00:00",
          "2034-05-01T00:00:00",
          "2034-04-01T00:00:00",
          "2034-03-01T00:00:00",
          "2034-02-01T00:00:00",
          "2034-01-01T00:00:00",
          "2033-12-01T00:00:00",
          "2033-11-01T00:00:00",
          "2033-10-01T00:00:00",
          "2033-09-01T00:00:00",
          "2033-08-01T00:00:00",
          "2033-07-01T00:00:00",
          "2033-06-01T00:00:00",
          "2033-05-01T00:00:00",
          "2033-04-01T00:00:00",
          "2033-03-01T00:00:00",
          "2033-02-01T00:00:00",
          "2033-01-01T00:00:00",
          "2032-12-01T00:00:00",
          "2032-11-01T00:00:00",
          "2032-10-01T00:00:00",
          "2032-09-01T00:00:00",
          "2032-08-01T00:00:00",
          "2032-07-01T00:00:00",
          "2032-06-01T00:00:00",
          "2032-05-01T00:00:00",
          "2032-04-01T00:00:00",
          "2032-03-01T00:00:00",
          "2032-02-01T00:00:00",
          "2032-01-01T00:00:00",
          "2031-12-01T00:00:00",
          "2031-11-01T00:00:00",
          "2031-10-01T00:00:00",
          "2031-09-01T00:00:00",
          "2031-08-01T00:00:00",
          "2031-07-01T00:00:00",
          "2031-06-01T00:00:00",
          "2031-05-01T00:00:00",
          "2031-04-01T00:00:00",
          "2031-03-01T00:00:00",
          "2031-02-01T00:00:00",
          "2031-01-01T00:00:00",
          "2030-12-01T00:00:00",
          "2030-11-01T00:00:00",
          "2030-10-01T00:00:00",
          "2030-09-01T00:00:00",
          "2030-08-01T00:00:00",
          "2030-07-01T00:00:00",
          "2030-06-01T00:00:00",
          "2030-05-01T00:00:00",
          "2030-04-01T00:00:00",
          "2030-03-01T00:00:00",
          "2030-02-01T00:00:00",
          "2030-01-01T00:00:00",
          "2029-12-01T00:00:00",
          "2029-11-01T00:00:00",
          "2029-10-01T00:00:00",
          "2029-09-01T00:00:00",
          "2029-08-01T00:00:00",
          "2029-07-01T00:00:00",
          "2029-06-01T00:00:00",
          "2029-05-01T00:00:00",
          "2029-04-01T00:00:00",
          "2029-03-01T00:00:00",
          "2029-02-01T00:00:00",
          "2029-01-01T00:00:00",
          "2028-12-01T00:00:00",
          "2028-11-01T00:00:00",
          "2028-10-01T00:00:00",
          "2028-09-01T00:00:00",
          "2028-08-01T00:00:00",
          "2028-07-01T00:00:00",
          "2028-06-01T00:00:00",
          "2028-05-01T00:00:00",
          "2028-04-01T00:00:00",
          "2028-03-01T00:00:00",
          "2028-02-01T00:00:00",
          "2028-01-01T00:00:00",
          "2027-12-01T00:00:00",
          "2027-11-01T00:00:00",
          "2027-10-01T00:00:00",
          "2027-09-01T00:00:00",
          "2027-08-01T00:00:00",
          "2027-07-01T00:00:00",
          "2027-06-01T00:00:00",
          "2027-05-01T00:00:00",
          "2027-04-01T00:00:00",
          "2027-03-01T00:00:00",
          "2027-02-01T00:00:00",
          "2027-01-01T00:00:00",
          "2026-12-01T00:00:00",
          "2026-11-01T00:00:00",
          "2026-10-01T00:00:00",
          "2026-09-01T00:00:00",
          "2026-08-01T00:00:00",
          "2026-07-01T00:00:00",
          "2026-06-01T00:00:00",
          "2026-05-01T00:00:00",
          "2026-04-01T00:00:00",
          "2026-03-01T00:00:00",
          "2026-02-01T00:00:00",
          "2026-01-01T00:00:00",
          "2025-12-01T00:00:00",
          "2025-11-01T00:00:00",
          "2025-10-01T00:00:00",
          "2025-09-01T00:00:00",
          "2025-08-01T00:00:00",
          "2025-07-01T00:00:00",
          "2025-06-01T00:00:00",
          "2025-05-01T00:00:00",
          "2025-04-01T00:00:00",
          "2025-03-01T00:00:00",
          "2025-02-01T00:00:00",
          "2025-01-01T00:00:00",
          "2024-12-01T00:00:00",
          "2024-11-01T00:00:00",
          "2024-10-01T00:00:00",
          "2024-09-01T00:00:00",
          "2024-08-01T00:00:00",
          "2024-07-01T00:00:00",
          "2024-06-01T00:00:00",
          "2024-05-01T00:00:00",
          "2024-04-01T00:00:00",
          "2024-03-01T00:00:00",
          "2024-02-01T00:00:00",
          "2024-01-01T00:00:00",
          "2023-12-01T00:00:00",
          "2023-11-01T00:00:00",
          "2023-10-01T00:00:00",
          "2023-09-01T00:00:00",
          "2023-08-01T00:00:00",
          "2023-07-01T00:00:00",
          "2023-06-01T00:00:00",
          "2023-05-01T00:00:00",
          "2023-04-01T00:00:00",
          "2023-03-01T00:00:00",
          "2023-02-01T00:00:00",
          "2023-01-01T00:00:00",
          "2022-12-01T00:00:00",
          "2022-11-01T00:00:00",
          "2022-10-01T00:00:00",
          "2022-09-01T00:00:00",
          "2022-08-01T00:00:00",
          "2022-07-01T00:00:00",
          "2022-06-01T00:00:00",
          "2022-05-01T00:00:00",
          "2022-04-01T00:00:00",
          "2022-03-01T00:00:00",
          "2022-02-01T00:00:00",
          "2022-01-01T00:00:00",
          "2021-12-01T00:00:00",
          "2021-11-01T00:00:00",
          "2021-10-01T00:00:00",
          "2021-09-01T00:00:00",
          "2021-08-01T00:00:00",
          "2021-07-01T00:00:00",
          "2021-06-01T00:00:00",
          "2021-05-01T00:00:00",
          "2021-04-01T00:00:00",
          "2021-03-01T00:00:00",
          "2021-02-01T00:00:00",
          "2021-01-01T00:00:00"
         ],
         "y": [
          2.438699379723812,
          2.4158488151738915,
          2.505649334252503,
          2.5363382392087828,
          2.6334087058497513,
          2.6459026239398393,
          2.7345635378151263,
          2.82699807774523,
          2.8261902143965907,
          2.6721592191390067,
          2.73578105598402,
          2.793086249328072,
          2.5553516240752,
          2.586233376216348,
          2.7217798201275225,
          2.808658537695248,
          2.9321554534231664,
          2.9107959880465994,
          2.9515815150242672,
          3.0376907394054378,
          3.017387746475403,
          2.9049587893520483,
          2.891260372339,
          2.8813120068245075,
          2.717893681557846,
          2.723062141162585,
          2.827726312446002,
          2.89398238410072,
          3.0383033268699924,
          3.0028393774785895,
          3.0072222954588046,
          3.076681302495817,
          3.018279155930622,
          2.9278773566925533,
          2.820116774885177,
          2.7401014978555653,
          2.651138579339374,
          2.633725125483749,
          2.7313353766663186,
          2.8116087987274794,
          2.859703711484707,
          2.8604229634737726,
          2.9401443670351557,
          2.9831651658463296,
          2.9518710083895146,
          2.7029153392391407,
          2.7916108669036728,
          2.9000743732850722,
          2.5673413572932575,
          2.6011819966638887,
          2.7497142041092912,
          2.8417305620911453,
          2.940970999947272,
          2.942151018021234,
          3.0237180629716383,
          3.105306390074202,
          3.092574656911701,
          2.9428416008072005,
          3.0016482167530723,
          3.072045151723651,
          2.845213006945426,
          2.876256794535205,
          3.0355547045523785,
          3.1142569684366803,
          3.265742437619965,
          3.253208074812188,
          3.309430224399728,
          3.4191780842638186,
          3.4135710438794273,
          3.325208773071355,
          3.335639881020835,
          3.3495338243290576,
          3.1793435455929027,
          3.210798771987598,
          3.355293903409093,
          3.4380076357885287,
          3.641393596587598,
          3.6394402985284606,
          3.688872345279693,
          3.806334524834757,
          3.834578179027651,
          3.784757733039787,
          3.7494408321752313,
          3.702994912945404,
          3.6456337567901267,
          3.674581464339823,
          3.8221955242350947,
          3.9551124867759144,
          4.05619492431911,
          4.109529832545426,
          4.2640670233567475,
          4.360994517060753,
          4.372903584456037,
          4.1869247317844485,
          4.327887512143595,
          4.471800785549165,
          4.207313433880921,
          4.2940559947227,
          4.492125187490019,
          4.589965501258091,
          4.770759687732564,
          4.78601293347734,
          4.914352974642844,
          5.024421402935715,
          5.068769618938808,
          4.949304443693585,
          5.027204631267755,
          5.1581441024253065,
          4.977507000572654,
          5.040674276386666,
          5.21047778342445,
          5.310568834364156,
          5.4740835326429655,
          5.509899425469657,
          5.622183379509138,
          5.7694361542077015,
          5.808381579312676,
          5.712996538373306,
          5.7620068085622,
          5.8448012991456135,
          5.731820624252934,
          5.869325288131576,
          6.011428811544212,
          6.146466264991927,
          6.365688964498399,
          6.381524069215068,
          6.4331147549216885,
          6.61003729551376,
          6.6202451271294915,
          6.621570928851428,
          6.631058825668522,
          6.630328543725537,
          6.590595712514286,
          6.67926083957928,
          6.821782201115946,
          6.9549341363418264,
          7.0685576669841925,
          7.1163653269777045,
          7.236477797739108,
          7.3577541316903945,
          7.4072384904294175,
          7.231714878646162,
          7.36029943157255,
          7.510812565671905,
          7.214322055230169,
          7.319246368197101,
          7.49759260326783,
          7.6131030485061055,
          7.7510071611326286,
          7.809663557207742,
          7.932269936844343,
          8.097739898679949,
          8.139707670913959,
          8.036063475663475,
          8.134896022571935,
          8.278980549390116,
          8.07596476904541,
          8.161841905913697,
          8.350760436730994,
          8.48746399068308,
          8.668395454458558,
          8.673336021970075,
          8.825887737855615,
          9.00437408700892,
          9.064033155282445,
          8.991471152133062,
          9.06222014493936,
          9.087802953528978,
          9.040578688019922,
          9.144941033371412,
          9.337298717569812,
          9.473753691594974,
          -5.246302765884649,
          -5.238257559786768,
          -5.3092356565113175,
          -5.184186993829304,
          -4.830602663878091,
          -4.751227057531343,
          -4.643400294847563,
          -4.440196839510904,
          -4.315866960042409,
          -4.3443567247814565,
          -4.25630450341346,
          -4.127393480621679,
          -4.111198970679934,
          -4.086420434598941,
          -4.097998873367889,
          -4.029975304199355,
          -3.70521856599203,
          -3.7190208067094126,
          -3.6837068105708486,
          -3.4076798843677536,
          -3.343480895951101,
          -3.302445520058819,
          -3.2803083656729766,
          -3.1964733858100587,
          -3.1806372428854095,
          -3.140207476793284,
          -3.19455345742412,
          -3.12119851878648,
          -2.679650169399748,
          -2.6991182610029787,
          -2.6891755871852547,
          -2.366720777982089,
          -2.215515031539312,
          -2.189889351290524,
          -2.1679132711555584,
          -2.119350380335583,
          -2.092150218936247,
          -2.125053298250905,
          -2.1110971186095453,
          -2.079309800260053,
          -1.8865902916933723,
          -1.717842361661091,
          -1.5369719739346739,
          -1.39176957244679,
          -1.2515885019746114,
          -1.2811259784794167,
          -1.2265230798651532,
          -1.1196115166415852,
          -1.1780826230783383,
          -1.1661983279161,
          -1.2045033065074875,
          -1.1551807466598998,
          -0.9148878437230196,
          -0.8334904475100541,
          -0.7703378439365333,
          -0.5745339698940947,
          -0.49964570866060476,
          -0.5150066231587541,
          -0.4632079707942617,
          -0.3900106943153797,
          -0.4421966193986177,
          -0.4220824122402362,
          -0.4895727607503467,
          -0.44750553869983967,
          -0.11608950022386372,
          -0.08943336303514159,
          -0.07261244693029313,
          0.21219764249982723,
          0.31518566563212924,
          0.33171809380500983,
          0.3555131943856008,
          0.4175438776924217,
          0.4131226788038094,
          0.37887384808876395,
          0.31892476801692266,
          0.33421882104155054,
          0.7152078462658007,
          0.6648095755584009,
          0.634813355243015,
          0.9310708984783955,
          1.0264496489591668,
          1.0240973035118548,
          1.0069221490211595,
          1.0435824930172746,
          1.0779272590772624,
          1.0435016544011297,
          1.0222153801607639,
          1.0938133458870654,
          1.230321882254914,
          1.352573109555426,
          1.4894470759125051,
          1.587059680784408,
          1.675444904331006,
          1.619736944339187,
          1.693145233890232,
          1.7841838962802954,
          1.6721631279077684,
          1.68172245940027,
          1.6269929858209486,
          1.675723117191935,
          1.8940430842956837,
          1.9577217905463358,
          2.031906817344274,
          2.1822441621059485,
          2.253988912915423,
          2.2076098579020895,
          2.219120548241306,
          2.284741066871882,
          2.2094935233408197,
          2.186964578404824,
          2.1149195255890922,
          2.1384443110237332,
          2.428384825562698,
          2.4197499244340253,
          2.4272432045446526,
          2.638101700884781,
          2.7082695525587543,
          2.6725732738803716,
          2.6425989320884637,
          2.6844593790985805,
          2.619222525699607,
          2.570102596484426,
          2.450079053299947,
          2.4517294698369674,
          2.8057741792534507,
          2.7195818964315155,
          2.641296128598676,
          2.8916923194126944,
          2.9269042535555863,
          2.8818063466213095,
          2.803249343723172,
          2.803198469026062,
          2.756508600279339,
          2.6749289407581514,
          2.577122649989574,
          2.5952472676577014,
          2.684308506565102,
          2.7655335155373972,
          2.871931808653679,
          2.962140876726112,
          3.0191614124158086,
          2.9534041376146285,
          2.9456402952847,
          2.9820006461102637,
          2.834728132485912,
          2.7726276503343446,
          2.6680995578517,
          2.6611001078373415,
          2.8250472961706925,
          2.8351213752825553,
          2.847002149171049,
          2.96233938662389,
          2.9810621538850848,
          2.8953555307317784,
          2.8560100322657505,
          2.8745086795249817,
          2.754336870863034,
          2.667317143895633,
          2.5317178701565037,
          2.500054292969057,
          2.7369870161574044,
          2.6769482180525475,
          2.616319887249837,
          2.7711335065222062,
          2.770817858426025,
          2.676431346487301,
          2.5927389914755286,
          2.577437266012677,
          2.4806302252860513,
          2.4503042728972564,
          2.3621954107925833,
          2.384285214537272
         ]
        }
       ],
       "layout": {
        "legend": {
         "x": 0.01,
         "xanchor": "left",
         "y": 0.99,
         "yanchor": "top"
        },
        "template": {
         "data": {
          "bar": [
           {
            "error_x": {
             "color": "#2a3f5f"
            },
            "error_y": {
             "color": "#2a3f5f"
            },
            "marker": {
             "line": {
              "color": "white",
              "width": 0.5
             },
             "pattern": {
              "fillmode": "overlay",
              "size": 10,
              "solidity": 0.2
             }
            },
            "type": "bar"
           }
          ],
          "barpolar": [
           {
            "marker": {
             "line": {
              "color": "white",
              "width": 0.5
             },
             "pattern": {
              "fillmode": "overlay",
              "size": 10,
              "solidity": 0.2
             }
            },
            "type": "barpolar"
           }
          ],
          "carpet": [
           {
            "aaxis": {
             "endlinecolor": "#2a3f5f",
             "gridcolor": "#C8D4E3",
             "linecolor": "#C8D4E3",
             "minorgridcolor": "#C8D4E3",
             "startlinecolor": "#2a3f5f"
            },
            "baxis": {
             "endlinecolor": "#2a3f5f",
             "gridcolor": "#C8D4E3",
             "linecolor": "#C8D4E3",
             "minorgridcolor": "#C8D4E3",
             "startlinecolor": "#2a3f5f"
            },
            "type": "carpet"
           }
          ],
          "choropleth": [
           {
            "colorbar": {
             "outlinewidth": 0,
             "ticks": ""
            },
            "type": "choropleth"
           }
          ],
          "contour": [
           {
            "colorbar": {
             "outlinewidth": 0,
             "ticks": ""
            },
            "colorscale": [
             [
              0,
              "#0d0887"
             ],
             [
              0.1111111111111111,
              "#46039f"
             ],
             [
              0.2222222222222222,
              "#7201a8"
             ],
             [
              0.3333333333333333,
              "#9c179e"
             ],
             [
              0.4444444444444444,
              "#bd3786"
             ],
             [
              0.5555555555555556,
              "#d8576b"
             ],
             [
              0.6666666666666666,
              "#ed7953"
             ],
             [
              0.7777777777777778,
              "#fb9f3a"
             ],
             [
              0.8888888888888888,
              "#fdca26"
             ],
             [
              1,
              "#f0f921"
             ]
            ],
            "type": "contour"
           }
          ],
          "contourcarpet": [
           {
            "colorbar": {
             "outlinewidth": 0,
             "ticks": ""
            },
            "type": "contourcarpet"
           }
          ],
          "heatmap": [
           {
            "colorbar": {
             "outlinewidth": 0,
             "ticks": ""
            },
            "colorscale": [
             [
              0,
              "#0d0887"
             ],
             [
              0.1111111111111111,
              "#46039f"
             ],
             [
              0.2222222222222222,
              "#7201a8"
             ],
             [
              0.3333333333333333,
              "#9c179e"
             ],
             [
              0.4444444444444444,
              "#bd3786"
             ],
             [
              0.5555555555555556,
              "#d8576b"
             ],
             [
              0.6666666666666666,
              "#ed7953"
             ],
             [
              0.7777777777777778,
              "#fb9f3a"
             ],
             [
              0.8888888888888888,
              "#fdca26"
             ],
             [
              1,
              "#f0f921"
             ]
            ],
            "type": "heatmap"
           }
          ],
          "heatmapgl": [
           {
            "colorbar": {
             "outlinewidth": 0,
             "ticks": ""
            },
            "colorscale": [
             [
              0,
              "#0d0887"
             ],
             [
              0.1111111111111111,
              "#46039f"
             ],
             [
              0.2222222222222222,
              "#7201a8"
             ],
             [
              0.3333333333333333,
              "#9c179e"
             ],
             [
              0.4444444444444444,
              "#bd3786"
             ],
             [
              0.5555555555555556,
              "#d8576b"
             ],
             [
              0.6666666666666666,
              "#ed7953"
             ],
             [
              0.7777777777777778,
              "#fb9f3a"
             ],
             [
              0.8888888888888888,
              "#fdca26"
             ],
             [
              1,
              "#f0f921"
             ]
            ],
            "type": "heatmapgl"
           }
          ],
          "histogram": [
           {
            "marker": {
             "pattern": {
              "fillmode": "overlay",
              "size": 10,
              "solidity": 0.2
             }
            },
            "type": "histogram"
           }
          ],
          "histogram2d": [
           {
            "colorbar": {
             "outlinewidth": 0,
             "ticks": ""
            },
            "colorscale": [
             [
              0,
              "#0d0887"
             ],
             [
              0.1111111111111111,
              "#46039f"
             ],
             [
              0.2222222222222222,
              "#7201a8"
             ],
             [
              0.3333333333333333,
              "#9c179e"
             ],
             [
              0.4444444444444444,
              "#bd3786"
             ],
             [
              0.5555555555555556,
              "#d8576b"
             ],
             [
              0.6666666666666666,
              "#ed7953"
             ],
             [
              0.7777777777777778,
              "#fb9f3a"
             ],
             [
              0.8888888888888888,
              "#fdca26"
             ],
             [
              1,
              "#f0f921"
             ]
            ],
            "type": "histogram2d"
           }
          ],
          "histogram2dcontour": [
           {
            "colorbar": {
             "outlinewidth": 0,
             "ticks": ""
            },
            "colorscale": [
             [
              0,
              "#0d0887"
             ],
             [
              0.1111111111111111,
              "#46039f"
             ],
             [
              0.2222222222222222,
              "#7201a8"
             ],
             [
              0.3333333333333333,
              "#9c179e"
             ],
             [
              0.4444444444444444,
              "#bd3786"
             ],
             [
              0.5555555555555556,
              "#d8576b"
             ],
             [
              0.6666666666666666,
              "#ed7953"
             ],
             [
              0.7777777777777778,
              "#fb9f3a"
             ],
             [
              0.8888888888888888,
              "#fdca26"
             ],
             [
              1,
              "#f0f921"
             ]
            ],
            "type": "histogram2dcontour"
           }
          ],
          "mesh3d": [
           {
            "colorbar": {
             "outlinewidth": 0,
             "ticks": ""
            },
            "type": "mesh3d"
           }
          ],
          "parcoords": [
           {
            "line": {
             "colorbar": {
              "outlinewidth": 0,
              "ticks": ""
             }
            },
            "type": "parcoords"
           }
          ],
          "pie": [
           {
            "automargin": true,
            "type": "pie"
           }
          ],
          "scatter": [
           {
            "fillpattern": {
             "fillmode": "overlay",
             "size": 10,
             "solidity": 0.2
            },
            "type": "scatter"
           }
          ],
          "scatter3d": [
           {
            "line": {
             "colorbar": {
              "outlinewidth": 0,
              "ticks": ""
             }
            },
            "marker": {
             "colorbar": {
              "outlinewidth": 0,
              "ticks": ""
             }
            },
            "type": "scatter3d"
           }
          ],
          "scattercarpet": [
           {
            "marker": {
             "colorbar": {
              "outlinewidth": 0,
              "ticks": ""
             }
            },
            "type": "scattercarpet"
           }
          ],
          "scattergeo": [
           {
            "marker": {
             "colorbar": {
              "outlinewidth": 0,
              "ticks": ""
             }
            },
            "type": "scattergeo"
           }
          ],
          "scattergl": [
           {
            "marker": {
             "colorbar": {
              "outlinewidth": 0,
              "ticks": ""
             }
            },
            "type": "scattergl"
           }
          ],
          "scattermapbox": [
           {
            "marker": {
             "colorbar": {
              "outlinewidth": 0,
              "ticks": ""
             }
            },
            "type": "scattermapbox"
           }
          ],
          "scatterpolar": [
           {
            "marker": {
             "colorbar": {
              "outlinewidth": 0,
              "ticks": ""
             }
            },
            "type": "scatterpolar"
           }
          ],
          "scatterpolargl": [
           {
            "marker": {
             "colorbar": {
              "outlinewidth": 0,
              "ticks": ""
             }
            },
            "type": "scatterpolargl"
           }
          ],
          "scatterternary": [
           {
            "marker": {
             "colorbar": {
              "outlinewidth": 0,
              "ticks": ""
             }
            },
            "type": "scatterternary"
           }
          ],
          "surface": [
           {
            "colorbar": {
             "outlinewidth": 0,
             "ticks": ""
            },
            "colorscale": [
             [
              0,
              "#0d0887"
             ],
             [
              0.1111111111111111,
              "#46039f"
             ],
             [
              0.2222222222222222,
              "#7201a8"
             ],
             [
              0.3333333333333333,
              "#9c179e"
             ],
             [
              0.4444444444444444,
              "#bd3786"
             ],
             [
              0.5555555555555556,
              "#d8576b"
             ],
             [
              0.6666666666666666,
              "#ed7953"
             ],
             [
              0.7777777777777778,
              "#fb9f3a"
             ],
             [
              0.8888888888888888,
              "#fdca26"
             ],
             [
              1,
              "#f0f921"
             ]
            ],
            "type": "surface"
           }
          ],
          "table": [
           {
            "cells": {
             "fill": {
              "color": "#EBF0F8"
             },
             "line": {
              "color": "white"
             }
            },
            "header": {
             "fill": {
              "color": "#C8D4E3"
             },
             "line": {
              "color": "white"
             }
            },
            "type": "table"
           }
          ]
         },
         "layout": {
          "annotationdefaults": {
           "arrowcolor": "#2a3f5f",
           "arrowhead": 0,
           "arrowwidth": 1
          },
          "autotypenumbers": "strict",
          "coloraxis": {
           "colorbar": {
            "outlinewidth": 0,
            "ticks": ""
           }
          },
          "colorscale": {
           "diverging": [
            [
             0,
             "#8e0152"
            ],
            [
             0.1,
             "#c51b7d"
            ],
            [
             0.2,
             "#de77ae"
            ],
            [
             0.3,
             "#f1b6da"
            ],
            [
             0.4,
             "#fde0ef"
            ],
            [
             0.5,
             "#f7f7f7"
            ],
            [
             0.6,
             "#e6f5d0"
            ],
            [
             0.7,
             "#b8e186"
            ],
            [
             0.8,
             "#7fbc41"
            ],
            [
             0.9,
             "#4d9221"
            ],
            [
             1,
             "#276419"
            ]
           ],
           "sequential": [
            [
             0,
             "#0d0887"
            ],
            [
             0.1111111111111111,
             "#46039f"
            ],
            [
             0.2222222222222222,
             "#7201a8"
            ],
            [
             0.3333333333333333,
             "#9c179e"
            ],
            [
             0.4444444444444444,
             "#bd3786"
            ],
            [
             0.5555555555555556,
             "#d8576b"
            ],
            [
             0.6666666666666666,
             "#ed7953"
            ],
            [
             0.7777777777777778,
             "#fb9f3a"
            ],
            [
             0.8888888888888888,
             "#fdca26"
            ],
            [
             1,
             "#f0f921"
            ]
           ],
           "sequentialminus": [
            [
             0,
             "#0d0887"
            ],
            [
             0.1111111111111111,
             "#46039f"
            ],
            [
             0.2222222222222222,
             "#7201a8"
            ],
            [
             0.3333333333333333,
             "#9c179e"
            ],
            [
             0.4444444444444444,
             "#bd3786"
            ],
            [
             0.5555555555555556,
             "#d8576b"
            ],
            [
             0.6666666666666666,
             "#ed7953"
            ],
            [
             0.7777777777777778,
             "#fb9f3a"
            ],
            [
             0.8888888888888888,
             "#fdca26"
            ],
            [
             1,
             "#f0f921"
            ]
           ]
          },
          "colorway": [
           "#636efa",
           "#EF553B",
           "#00cc96",
           "#ab63fa",
           "#FFA15A",
           "#19d3f3",
           "#FF6692",
           "#B6E880",
           "#FF97FF",
           "#FECB52"
          ],
          "font": {
           "color": "#2a3f5f"
          },
          "geo": {
           "bgcolor": "white",
           "lakecolor": "white",
           "landcolor": "white",
           "showlakes": true,
           "showland": true,
           "subunitcolor": "#C8D4E3"
          },
          "hoverlabel": {
           "align": "left"
          },
          "hovermode": "closest",
          "mapbox": {
           "style": "light"
          },
          "paper_bgcolor": "white",
          "plot_bgcolor": "white",
          "polar": {
           "angularaxis": {
            "gridcolor": "#EBF0F8",
            "linecolor": "#EBF0F8",
            "ticks": ""
           },
           "bgcolor": "white",
           "radialaxis": {
            "gridcolor": "#EBF0F8",
            "linecolor": "#EBF0F8",
            "ticks": ""
           }
          },
          "scene": {
           "xaxis": {
            "backgroundcolor": "white",
            "gridcolor": "#DFE8F3",
            "gridwidth": 2,
            "linecolor": "#EBF0F8",
            "showbackground": true,
            "ticks": "",
            "zerolinecolor": "#EBF0F8"
           },
           "yaxis": {
            "backgroundcolor": "white",
            "gridcolor": "#DFE8F3",
            "gridwidth": 2,
            "linecolor": "#EBF0F8",
            "showbackground": true,
            "ticks": "",
            "zerolinecolor": "#EBF0F8"
           },
           "zaxis": {
            "backgroundcolor": "white",
            "gridcolor": "#DFE8F3",
            "gridwidth": 2,
            "linecolor": "#EBF0F8",
            "showbackground": true,
            "ticks": "",
            "zerolinecolor": "#EBF0F8"
           }
          },
          "shapedefaults": {
           "line": {
            "color": "#2a3f5f"
           }
          },
          "ternary": {
           "aaxis": {
            "gridcolor": "#DFE8F3",
            "linecolor": "#A2B1C6",
            "ticks": ""
           },
           "baxis": {
            "gridcolor": "#DFE8F3",
            "linecolor": "#A2B1C6",
            "ticks": ""
           },
           "bgcolor": "white",
           "caxis": {
            "gridcolor": "#DFE8F3",
            "linecolor": "#A2B1C6",
            "ticks": ""
           }
          },
          "title": {
           "x": 0.05
          },
          "xaxis": {
           "automargin": true,
           "gridcolor": "#EBF0F8",
           "linecolor": "#EBF0F8",
           "ticks": "",
           "title": {
            "standoff": 15
           },
           "zerolinecolor": "#EBF0F8",
           "zerolinewidth": 2
          },
          "yaxis": {
           "automargin": true,
           "gridcolor": "#EBF0F8",
           "linecolor": "#EBF0F8",
           "ticks": "",
           "title": {
            "standoff": 15
           },
           "zerolinecolor": "#EBF0F8",
           "zerolinewidth": 2
          }
         }
        },
        "title": {
         "text": "Predicción para avg_trip_distance (Yellow Taxi)"
        },
        "xaxis": {
         "rangeslider": {
          "visible": true
         },
         "title": {
          "text": "Fecha"
         }
        },
        "yaxis": {
         "range": [
          2.173732872590135,
          9.473753691594974
         ],
         "title": {
          "text": "avg_trip_distance"
         }
        }
       }
      }
     },
     "metadata": {},
     "output_type": "display_data"
    }
   ],
   "source": [
    "periodos = periodo_selector.value\n",
    "frecuencia = \"MS\"\n",
    "\n",
    "industry_type = industry_selector.value\n",
    "column_name = column_selector.value\n",
    "\n",
    "\n",
    "# Cargar los parámetros\n",
    "df_params = pd.read_csv(r\"mejores_modelos.csv\")\n",
    "# Preparar los datos\n",
    "df_prophet = cargar_y_preparar_datos(df, industry_type, column_name)\n",
    "\n",
    "\n",
    "if df_prophet is not None and not df_prophet.empty and df_prophet['y'].notnull().all():\n",
    "\n",
    "    #graficar_original(df_prophet, column_name)\n",
    "\n",
    "    # Ejecutar Grid Search\n",
    "    pronóstico_con_grid_search(df_prophet, df_params, industry_type, column_name, periodos=periodos, frecuencia=frecuencia)"
   ]
  }
 ],
 "metadata": {
  "kernelspec": {
   "display_name": "Python 3",
   "language": "python",
   "name": "python3"
  },
  "language_info": {
   "codemirror_mode": {
    "name": "ipython",
    "version": 3
   },
   "file_extension": ".py",
   "mimetype": "text/x-python",
   "name": "python",
   "nbconvert_exporter": "python",
   "pygments_lexer": "ipython3",
   "version": "3.12.1"
  }
 },
 "nbformat": 4,
 "nbformat_minor": 2
}
