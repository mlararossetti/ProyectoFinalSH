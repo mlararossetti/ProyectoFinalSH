{
 "cells": [
  {
   "cell_type": "markdown",
   "metadata": {},
   "source": [
    "Librerías"
   ]
  },
  {
   "cell_type": "code",
   "execution_count": 15,
   "metadata": {},
   "outputs": [],
   "source": [
    "import pandas as pd\n",
    "import numpy as np\n",
    "\n",
    "import os\n",
    "import joblib\n",
    "\n",
    "import ipywidgets as widgets\n",
    "from IPython.display import display\n",
    "\n",
    "import matplotlib.pyplot as plt\n",
    "from datetime import datetime\n",
    "from datetime import timedelta\n",
    "\n",
    "from sklearn.metrics import mean_absolute_error, mean_squared_error\n",
    "\n",
    "from prophet import Prophet\n",
    "from prophet.plot import plot_plotly\n",
    "import plotly.graph_objects as go\n",
    "\n",
    "import time\n"
   ]
  },
  {
   "cell_type": "markdown",
   "metadata": {},
   "source": [
    "- Ce carga un subdataset con los datos necesarios para el modelo de ML"
   ]
  },
  {
   "cell_type": "code",
   "execution_count": 16,
   "metadata": {},
   "outputs": [],
   "source": [
    "# Cargar los datos\n",
    "df = pd.read_csv(r\"..\\datasets\\2. Depurados\\TLC Aggregated Data\\ML_TS_Input.csv\")\n",
    "df['date'] = pd.to_datetime(df['date'])"
   ]
  },
  {
   "cell_type": "code",
   "execution_count": 17,
   "metadata": {},
   "outputs": [],
   "source": [
    "# Obtener el valor máximo de la columna 'date'\n",
    "max_date = df['date'].max()\n",
    "# Calcular la fecha de diciembre dentro de 5 años\n",
    "future_date = datetime(max_date.year + 5, 12, 1)\n",
    "# Calcular la cantidad de meses entre ambas fechas\n",
    "months_difference = (future_date.year - max_date.year) * 12 + (future_date.month - max_date.month)"
   ]
  },
  {
   "cell_type": "code",
   "execution_count": 18,
   "metadata": {},
   "outputs": [],
   "source": [
    "# Función para guardar el forecast en un archivo CSV\n",
    "def guardar_datos_forecast(forecast, industry_type, column_name, output_file=r\"..\\datasets\\2. Depurados\\TLC Aggregated Data\\ML_TS_Output.csv\"):\n",
    "    \"\"\"\n",
    "    Guarda los resultados del pronóstico en un archivo CSV consolidado.\n",
    "    Si ya existe un pronóstico para la combinación `industry_type` y `column_name`, no lo vuelve a guardar.\n",
    "    \"\"\"\n",
    "    # Crear un DataFrame con la información del pronóstico\n",
    "    forecast_data = forecast[['ds', 'yhat', 'yhat_lower', 'yhat_upper']].copy()\n",
    "    forecast_data['industry'] = industry_type\n",
    "    forecast_data['column'] = column_name\n",
    "\n",
    "    # Verificar si el archivo existe\n",
    "    if os.path.exists(output_file):\n",
    "        # Cargar datos existentes\n",
    "        existing_data = pd.read_csv(output_file)\n",
    "        \n",
    "        # Filtrar para ver si ya existe esta combinación\n",
    "        exists = (\n",
    "            (existing_data['industry'] == industry_type) &\n",
    "            (existing_data['column'] == column_name)\n",
    "        ).any()\n",
    "\n",
    "        if exists:\n",
    "            print(f\"Pronóstico para la combinación '{industry_type}' - '{column_name}' ya existe en {output_file}.\")\n",
    "            return\n",
    "\n",
    "        # Concatenar datos nuevos si no existen\n",
    "        combined_data = pd.concat([existing_data, forecast_data], ignore_index=True)\n",
    "    else:\n",
    "        # Crear un nuevo archivo si no existe\n",
    "        combined_data = forecast_data\n",
    "\n",
    "    # Guardar el archivo consolidado\n",
    "    combined_data.to_csv(output_file, index=False)\n",
    "    print(f\"Pronóstico guardado en {output_file}.\")\n"
   ]
  },
  {
   "cell_type": "code",
   "execution_count": 19,
   "metadata": {},
   "outputs": [],
   "source": [
    "def graficar_original(df_prophet, column_name):\n",
    "    fig = go.Figure()\n",
    "    fig.add_trace(go.Scatter(x=df_prophet[\"ds\"], y=df_prophet[\"y\"], marker=dict(symbol='circle', color='royalblue')))\n",
    "    fig.layout.update(title_text=\"Datos históricos\", yaxis_title=f\"{column_name}\", xaxis_rangeslider_visible=True)\n",
    "    fig.show()"
   ]
  },
  {
   "cell_type": "code",
   "execution_count": 20,
   "metadata": {},
   "outputs": [],
   "source": [
    "def graficar_predicción(df_prophet, column_name, forecast,industry_type):\n",
    "    \"\"\"\n",
    "    Función para graficar la predicción realizada por Prophet junto con el intervalo de confianza.\n",
    "    Ajusta automáticamente el eje Y al rango de valores de los datos.\n",
    "    \"\"\"\n",
    "    # Crear figura\n",
    "    fig = go.Figure()\n",
    "\n",
    "    # Datos históricos\n",
    "    fig.add_trace(go.Scatter( x=df_prophet[\"ds\"], y=df_prophet[\"y\"], mode='lines+markers', name='Datos Históricos', marker=dict(symbol='circle', color='royalblue'),\n",
    "        line=dict(color='royalblue', width=2)))\n",
    "\n",
    "    # Predicción\n",
    "    fig.add_trace(go.Scatter(x=forecast['ds'], y=forecast['yhat'], mode='lines', name='Predicción', line=dict(color='green', width=3, dash='dot')))\n",
    "\n",
    "    # Intervalo de predicción\n",
    "    fig.add_trace(go.Scatter( x=forecast['ds'].tolist() + forecast['ds'][::-1].tolist(), y=forecast['yhat_upper'].tolist() + forecast['yhat_lower'][::-1].tolist(), \n",
    "        fill='toself', fillcolor='rgba(0, 128, 0, 0.2)', line=dict(color='rgba(0, 0, 0, 0)'), name='Intervalo de Predicción' ))\n",
    "\n",
    "    # Calcular el rango automático para el eje Y\n",
    "    y_values = (df_prophet[\"y\"].tolist() + forecast['yhat'].tolist() ) + forecast['yhat_upper'].tolist() #+ forecast['yhat_lower'].tolist() \n",
    "    \n",
    "    y_min, y_max = min(y_values), max(y_values)\n",
    "\n",
    "    # Configuración del layout\n",
    "    fig.update_layout( title=f\"Predicción para {column_name} ({industry_type})\", xaxis_title='Fecha', yaxis_title=column_name, xaxis_rangeslider_visible=True,\n",
    "        yaxis=dict(range=[y_min, y_max]), template='plotly_white',\n",
    "        legend=dict(yanchor=\"top\", y=0.99, xanchor=\"left\", x=0.01)\n",
    "    )\n",
    "\n",
    "    # Mostrar gráfico\n",
    "    fig.show()    "
   ]
  },
  {
   "cell_type": "code",
   "execution_count": 21,
   "metadata": {},
   "outputs": [],
   "source": [
    "# Función para obtener el nombre del archivo del modelo\n",
    "def obtener_nombre_archivo(industry_type, column_name):\n",
    "    \"\"\"Genera un nombre de archivo único para una combinación de industria y columna.\"\"\"\n",
    "    return f\"models/prophet_model_{industry_type}_{column_name}.pkl\"\n",
    "\n",
    "# Función para cargar o entrenar un modelo Prophet\n",
    "def cargar_o_entrenar_modelo(df_prophet, industry_type, column_name, cps, sps, sm):\n",
    "    \"\"\"\n",
    "    Carga un modelo Prophet guardado o lo entrena y guarda si no existe.\n",
    "    \"\"\"\n",
    "    # Crear el directorio \"models\" si no existe\n",
    "    os.makedirs(\"models\", exist_ok=True)\n",
    "    \n",
    "    # Nombre del archivo del modelo\n",
    "    modelo_path = obtener_nombre_archivo(industry_type, column_name)\n",
    "    \n",
    "    # Intentar cargar el modelo si ya existe\n",
    "    if os.path.exists(modelo_path):\n",
    "        print(f\"Cargando modelo desde {modelo_path}...\")\n",
    "        model = joblib.load(modelo_path)\n",
    "    else:\n",
    "        print(f\"Entrenando modelo para {industry_type} - {column_name}...\")\n",
    "        model = Prophet(\n",
    "            changepoint_prior_scale=cps,\n",
    "            seasonality_prior_scale=sps,\n",
    "            seasonality_mode=sm,\n",
    "            yearly_seasonality=True,\n",
    "            weekly_seasonality=False,\n",
    "        )\n",
    "        model.fit(df_prophet)\n",
    "        # Guardar el modelo entrenado\n",
    "        joblib.dump(model, modelo_path)\n",
    "        print(f\"Modelo guardado en {modelo_path}.\")\n",
    "    \n",
    "    return model\n"
   ]
  },
  {
   "cell_type": "code",
   "execution_count": 22,
   "metadata": {},
   "outputs": [],
   "source": [
    "# Función para cargar los datos y filtrar la serie de tiempo seleccionada\n",
    "def cargar_y_preparar_datos(df, industry_type, column_name):\n",
    "    \"\"\"\n",
    "    Filtra y prepara los datos para Prophet según el tipo de industria y la columna seleccionada.\n",
    "    \"\"\"\n",
    "    df_filtered = df[df['industry'] == industry_type][['date', column_name]].copy()\n",
    "    df_filtered.columns = ['ds', 'y']  # Renombrar columnas para Prophet\n",
    "    df_filtered['ds'] = pd.to_datetime(df_filtered['ds'])  # Asegurar formato de fecha\n",
    "    return df_filtered if not df_filtered['y'].isnull().all() else None"
   ]
  },
  {
   "cell_type": "code",
   "execution_count": 23,
   "metadata": {},
   "outputs": [],
   "source": [
    "def pronóstico_con_grid_search(df_prophet, df_params, industry_type, column_name, periodos, frecuencia):\n",
    "    \"\"\"\n",
    "    Realiza el pronóstico utilizando un modelo Prophet guardado o entrenado.\n",
    "    \"\"\"\n",
    "    # Obtener los mejores parámetros\n",
    "    filtered_df = df_params[(df_params['industry'] == industry_type) & (df_params['column'] == column_name)]\n",
    "    \n",
    "    if not filtered_df.empty:\n",
    "        cps = filtered_df['changepoint_prior_scale'].iloc[0]\n",
    "        sps = filtered_df['seasonality_prior_scale'].iloc[0]\n",
    "        sm = filtered_df['seasonality_mode'].iloc[0]\n",
    "    else:\n",
    "        print(\"No se encontraron datos para la combinación especificada.\")\n",
    "        return\n",
    "\n",
    "    # Cargar o entrenar modelo\n",
    "    model = cargar_o_entrenar_modelo(df_prophet, industry_type, column_name, cps, sps, sm)\n",
    "\n",
    "    # Realizar predicción\n",
    "    future = model.make_future_dataframe(periods=periodos, freq=frecuencia)\n",
    "    forecast = model.predict(future)\n",
    "\n",
    "    # Guardar datos del pronóstico\n",
    "    guardar_datos_forecast(forecast, industry_type, column_name)\n",
    "\n",
    "    # Graficar predicción\n",
    "    graficar_predicción(df_prophet, column_name, forecast, industry_type)\n",
    "    "
   ]
  },
  {
   "cell_type": "code",
   "execution_count": 24,
   "metadata": {},
   "outputs": [
    {
     "data": {
      "application/vnd.jupyter.widget-view+json": {
       "model_id": "d40a42f9fbb344ddb7922a9272db88bc",
       "version_major": 2,
       "version_minor": 0
      },
      "text/plain": [
       "Dropdown(description='Industria:', options=('FHV - High Volume', 'Yellow Taxi', 'Green Taxi', 'FHV - Other', '…"
      ]
     },
     "metadata": {},
     "output_type": "display_data"
    },
    {
     "data": {
      "application/vnd.jupyter.widget-view+json": {
       "model_id": "9fafceebe4464202adddbb88e7488b6f",
       "version_major": 2,
       "version_minor": 0
      },
      "text/plain": [
       "Dropdown(description='Columna:', options=('avg_hours_per_day_per_driver',), value='avg_hours_per_day_per_drive…"
      ]
     },
     "metadata": {},
     "output_type": "display_data"
    },
    {
     "data": {
      "application/vnd.jupyter.widget-view+json": {
       "model_id": "e10cff431e0349e89dd19be11afd1876",
       "version_major": 2,
       "version_minor": 0
      },
      "text/plain": [
       "IntSlider(value=64, description='Períodos:', max=120, min=1)"
      ]
     },
     "metadata": {},
     "output_type": "display_data"
    }
   ],
   "source": [
    "\"\"\"\"Selector de opciones embebido en Jupyter Notebook\"\"\"\n",
    "\n",
    "# Cargar los parámetros\n",
    "df_params = pd.read_csv(r\"mejores_modelos.csv\")\n",
    "\n",
    "# Crear un selector para la industria\n",
    "industry_types = df_params['industry'].unique()\n",
    "industry_selector = widgets.Dropdown(\n",
    "    options=industry_types,\n",
    "    description='Industria:',\n",
    "    disabled=False,\n",
    ")\n",
    "\n",
    "# Función para actualizar las columnas en función de la industria seleccionada\n",
    "def update_columns(industry):\n",
    "    columns = df_params[df_params['industry'] == industry]['column'].unique()\n",
    "    column_selector.options = columns\n",
    "\n",
    "# Conectar el cambio de valor del selector de industria\n",
    "industry_selector.observe(lambda change: update_columns(change['new']), names='value')\n",
    "\n",
    "# Crear un selector para las columnas\n",
    "column_selector = widgets.Dropdown(\n",
    "    options = df_params[df_params['industry'] == industry_types[0]]['column'].unique(),\n",
    "    description='Columna:',\n",
    "    disabled=False,\n",
    ")\n",
    "\n",
    "\n",
    "periodo_selector = widgets.IntSlider(value=64, min=1, max=120, step=1, description='Períodos:')\n",
    "display(industry_selector, column_selector, periodo_selector)"
   ]
  },
  {
   "cell_type": "markdown",
   "metadata": {},
   "source": [
    "Elegir las opciones de arriba y solo correr el script de abajo."
   ]
  },
  {
   "cell_type": "code",
   "execution_count": 29,
   "metadata": {},
   "outputs": [
    {
     "name": "stdout",
     "output_type": "stream",
     "text": [
      "Entrenando modelo para Total Mercado - avg_hours_per_day_per_driver...\n"
     ]
    },
    {
     "name": "stderr",
     "output_type": "stream",
     "text": [
      "07:21:40 - cmdstanpy - INFO - Chain [1] start processing\n",
      "07:21:40 - cmdstanpy - INFO - Chain [1] done processing\n"
     ]
    },
    {
     "name": "stdout",
     "output_type": "stream",
     "text": [
      "Modelo guardado en models/prophet_model_Total Mercado_avg_hours_per_day_per_driver.pkl.\n",
      "Pronóstico para la combinación 'Total Mercado' - 'avg_hours_per_day_per_driver' ya existe en ..\\datasets\\2. Depurados\\TLC Aggregated Data\\ML_TS_Output.csv.\n"
     ]
    },
    {
     "data": {
      "application/vnd.plotly.v1+json": {
       "config": {
        "plotlyServerURL": "https://plot.ly"
       },
       "data": [
        {
         "line": {
          "color": "royalblue",
          "width": 2
         },
         "marker": {
          "color": "royalblue",
          "symbol": "circle"
         },
         "mode": "lines+markers",
         "name": "Datos Históricos",
         "type": "scatter",
         "x": [
          "2021-01-01T00:00:00",
          "2021-02-01T00:00:00",
          "2021-03-01T00:00:00",
          "2021-04-01T00:00:00",
          "2021-05-01T00:00:00",
          "2021-06-01T00:00:00",
          "2021-07-01T00:00:00",
          "2021-08-01T00:00:00",
          "2021-09-01T00:00:00",
          "2021-10-01T00:00:00",
          "2021-11-01T00:00:00",
          "2021-12-01T00:00:00",
          "2022-01-01T00:00:00",
          "2022-02-01T00:00:00",
          "2022-03-01T00:00:00",
          "2022-04-01T00:00:00",
          "2022-05-01T00:00:00",
          "2022-06-01T00:00:00",
          "2022-07-01T00:00:00",
          "2022-08-01T00:00:00",
          "2022-09-01T00:00:00",
          "2022-10-01T00:00:00",
          "2022-11-01T00:00:00",
          "2022-12-01T00:00:00",
          "2023-01-01T00:00:00",
          "2023-02-01T00:00:00",
          "2023-03-01T00:00:00",
          "2023-04-01T00:00:00",
          "2023-05-01T00:00:00",
          "2023-06-01T00:00:00",
          "2023-07-01T00:00:00",
          "2023-08-01T00:00:00",
          "2023-09-01T00:00:00",
          "2023-10-01T00:00:00",
          "2023-11-01T00:00:00",
          "2023-12-01T00:00:00",
          "2024-01-01T00:00:00",
          "2024-02-01T00:00:00",
          "2024-03-01T00:00:00",
          "2024-04-01T00:00:00",
          "2024-05-01T00:00:00",
          "2024-06-01T00:00:00",
          "2024-07-01T00:00:00",
          "2024-08-01T00:00:00"
         ],
         "y": [
          5.475,
          5.682499999999999,
          5.817500000000001,
          5.8075,
          5.8175,
          5.8675,
          5.725,
          5.699999999999999,
          5.5425,
          5.55,
          5.525,
          5.3325,
          4.9825,
          5.3675,
          5.4825,
          5.4175,
          5.4325,
          5.45,
          5.282500000000001,
          5.2575,
          5.342499999999999,
          5.3825,
          5.2825,
          5.3075,
          5.1325,
          5.225,
          5.2675,
          5.2575,
          5.3,
          5.2075,
          5.0325,
          5.032500000000001,
          5.1675,
          5.2075,
          5.1575,
          5.175,
          5.0175,
          5.125,
          5.1925,
          5.2,
          5.2575,
          5.225,
          5,
          4.9425
         ]
        },
        {
         "line": {
          "color": "green",
          "dash": "dot",
          "width": 3
         },
         "mode": "lines",
         "name": "Predicción",
         "type": "scatter",
         "x": [
          "2021-01-01T00:00:00",
          "2021-02-01T00:00:00",
          "2021-03-01T00:00:00",
          "2021-04-01T00:00:00",
          "2021-05-01T00:00:00",
          "2021-06-01T00:00:00",
          "2021-07-01T00:00:00",
          "2021-08-01T00:00:00",
          "2021-09-01T00:00:00",
          "2021-10-01T00:00:00",
          "2021-11-01T00:00:00",
          "2021-12-01T00:00:00",
          "2022-01-01T00:00:00",
          "2022-02-01T00:00:00",
          "2022-03-01T00:00:00",
          "2022-04-01T00:00:00",
          "2022-05-01T00:00:00",
          "2022-06-01T00:00:00",
          "2022-07-01T00:00:00",
          "2022-08-01T00:00:00",
          "2022-09-01T00:00:00",
          "2022-10-01T00:00:00",
          "2022-11-01T00:00:00",
          "2022-12-01T00:00:00",
          "2023-01-01T00:00:00",
          "2023-02-01T00:00:00",
          "2023-03-01T00:00:00",
          "2023-04-01T00:00:00",
          "2023-05-01T00:00:00",
          "2023-06-01T00:00:00",
          "2023-07-01T00:00:00",
          "2023-08-01T00:00:00",
          "2023-09-01T00:00:00",
          "2023-10-01T00:00:00",
          "2023-11-01T00:00:00",
          "2023-12-01T00:00:00",
          "2024-01-01T00:00:00",
          "2024-02-01T00:00:00",
          "2024-03-01T00:00:00",
          "2024-04-01T00:00:00",
          "2024-05-01T00:00:00",
          "2024-06-01T00:00:00",
          "2024-07-01T00:00:00",
          "2024-08-01T00:00:00",
          "2024-09-01T00:00:00",
          "2024-10-01T00:00:00",
          "2024-11-01T00:00:00",
          "2024-12-01T00:00:00",
          "2025-01-01T00:00:00",
          "2025-02-01T00:00:00",
          "2025-03-01T00:00:00",
          "2025-04-01T00:00:00",
          "2025-05-01T00:00:00",
          "2025-06-01T00:00:00",
          "2025-07-01T00:00:00",
          "2025-08-01T00:00:00",
          "2025-09-01T00:00:00",
          "2025-10-01T00:00:00",
          "2025-11-01T00:00:00",
          "2025-12-01T00:00:00",
          "2026-01-01T00:00:00",
          "2026-02-01T00:00:00",
          "2026-03-01T00:00:00",
          "2026-04-01T00:00:00",
          "2026-05-01T00:00:00",
          "2026-06-01T00:00:00",
          "2026-07-01T00:00:00",
          "2026-08-01T00:00:00",
          "2026-09-01T00:00:00",
          "2026-10-01T00:00:00",
          "2026-11-01T00:00:00",
          "2026-12-01T00:00:00",
          "2027-01-01T00:00:00",
          "2027-02-01T00:00:00",
          "2027-03-01T00:00:00",
          "2027-04-01T00:00:00",
          "2027-05-01T00:00:00",
          "2027-06-01T00:00:00",
          "2027-07-01T00:00:00",
          "2027-08-01T00:00:00",
          "2027-09-01T00:00:00",
          "2027-10-01T00:00:00",
          "2027-11-01T00:00:00",
          "2027-12-01T00:00:00",
          "2028-01-01T00:00:00",
          "2028-02-01T00:00:00",
          "2028-03-01T00:00:00",
          "2028-04-01T00:00:00",
          "2028-05-01T00:00:00",
          "2028-06-01T00:00:00",
          "2028-07-01T00:00:00",
          "2028-08-01T00:00:00",
          "2028-09-01T00:00:00",
          "2028-10-01T00:00:00",
          "2028-11-01T00:00:00",
          "2028-12-01T00:00:00",
          "2029-01-01T00:00:00",
          "2029-02-01T00:00:00",
          "2029-03-01T00:00:00",
          "2029-04-01T00:00:00",
          "2029-05-01T00:00:00",
          "2029-06-01T00:00:00",
          "2029-07-01T00:00:00",
          "2029-08-01T00:00:00",
          "2029-09-01T00:00:00",
          "2029-10-01T00:00:00",
          "2029-11-01T00:00:00",
          "2029-12-01T00:00:00"
         ],
         "y": [
          5.461889537528878,
          5.710668687246622,
          5.799685731036608,
          5.7990355421443125,
          5.845422744034761,
          5.8656335010311516,
          5.705288034062647,
          5.6861023448010695,
          5.554425313912035,
          5.562973000972714,
          5.511809664706143,
          5.339586439686509,
          5.019288204295977,
          5.31897019690162,
          5.474246862795001,
          5.431085600606029,
          5.4425321105135165,
          5.442262184334522,
          5.294413128713974,
          5.268237142632974,
          5.321351877889598,
          5.363986986681556,
          5.318361266368359,
          5.3019575005038355,
          5.103361409081325,
          5.237945257009404,
          5.280513967033852,
          5.254233133412443,
          5.287993349316018,
          5.2172149679866795,
          5.033792527761931,
          5.030910551111802,
          5.1767670967817825,
          5.21306820522082,
          5.134831623630484,
          5.173432474475131,
          5.022916971145435,
          5.132373911705004,
          5.205511624669469,
          5.198103437090956,
          5.231532832083056,
          5.224907074050637,
          5.006540771695474,
          4.947280866274338,
          4.823988176543364,
          4.959620305460491,
          5.073064030086807,
          4.910503835187925,
          4.568262040841877,
          4.824740129055695,
          4.905930730561171,
          4.896615551996013,
          4.934617280012664,
          4.910931387894193,
          4.708105292678224,
          4.645022954227822,
          4.590297232722092,
          4.673313928872406,
          4.699101901998771,
          4.601345395374135,
          4.324062999582331,
          4.5328217584933626,
          4.605974213306412,
          4.594950979534044,
          4.637498807005648,
          4.597007764055618,
          4.41023504704301,
          4.343759466477166,
          4.356574607044789,
          4.384975668222099,
          4.324641432040792,
          4.293962696516865,
          4.080615803037328,
          4.240355896534291,
          4.305646376750044,
          4.293118116284856,
          4.340187273902084,
          4.283161465676597,
          4.112937533413503,
          4.04347719750567,
          4.1227439835968624,
          4.094603389217761,
          3.9497770480573893,
          3.988377898902151,
          3.837862395572703,
          3.94731933613219,
          4.020457049096521,
          4.013048861518007,
          4.046478256509762,
          4.039852498477657,
          3.82148619612245,
          3.762226290701253,
          3.6389336009709012,
          3.77456572988752,
          3.8880094545127735,
          3.7254492596150737,
          3.383207465269097,
          3.6396855534829182,
          3.7208761549884617,
          3.711560976423103,
          3.749562704439324,
          3.725876812321136,
          3.5230507171052112,
          3.4599683786549824,
          3.405242657148369,
          3.4882593532994353,
          3.5140473264249565,
          3.4162908198014263
         ]
        },
        {
         "fill": "toself",
         "fillcolor": "rgba(0, 128, 0, 0.2)",
         "line": {
          "color": "rgba(0, 0, 0, 0)"
         },
         "name": "Intervalo de Predicción",
         "type": "scatter",
         "x": [
          "2021-01-01T00:00:00",
          "2021-02-01T00:00:00",
          "2021-03-01T00:00:00",
          "2021-04-01T00:00:00",
          "2021-05-01T00:00:00",
          "2021-06-01T00:00:00",
          "2021-07-01T00:00:00",
          "2021-08-01T00:00:00",
          "2021-09-01T00:00:00",
          "2021-10-01T00:00:00",
          "2021-11-01T00:00:00",
          "2021-12-01T00:00:00",
          "2022-01-01T00:00:00",
          "2022-02-01T00:00:00",
          "2022-03-01T00:00:00",
          "2022-04-01T00:00:00",
          "2022-05-01T00:00:00",
          "2022-06-01T00:00:00",
          "2022-07-01T00:00:00",
          "2022-08-01T00:00:00",
          "2022-09-01T00:00:00",
          "2022-10-01T00:00:00",
          "2022-11-01T00:00:00",
          "2022-12-01T00:00:00",
          "2023-01-01T00:00:00",
          "2023-02-01T00:00:00",
          "2023-03-01T00:00:00",
          "2023-04-01T00:00:00",
          "2023-05-01T00:00:00",
          "2023-06-01T00:00:00",
          "2023-07-01T00:00:00",
          "2023-08-01T00:00:00",
          "2023-09-01T00:00:00",
          "2023-10-01T00:00:00",
          "2023-11-01T00:00:00",
          "2023-12-01T00:00:00",
          "2024-01-01T00:00:00",
          "2024-02-01T00:00:00",
          "2024-03-01T00:00:00",
          "2024-04-01T00:00:00",
          "2024-05-01T00:00:00",
          "2024-06-01T00:00:00",
          "2024-07-01T00:00:00",
          "2024-08-01T00:00:00",
          "2024-09-01T00:00:00",
          "2024-10-01T00:00:00",
          "2024-11-01T00:00:00",
          "2024-12-01T00:00:00",
          "2025-01-01T00:00:00",
          "2025-02-01T00:00:00",
          "2025-03-01T00:00:00",
          "2025-04-01T00:00:00",
          "2025-05-01T00:00:00",
          "2025-06-01T00:00:00",
          "2025-07-01T00:00:00",
          "2025-08-01T00:00:00",
          "2025-09-01T00:00:00",
          "2025-10-01T00:00:00",
          "2025-11-01T00:00:00",
          "2025-12-01T00:00:00",
          "2026-01-01T00:00:00",
          "2026-02-01T00:00:00",
          "2026-03-01T00:00:00",
          "2026-04-01T00:00:00",
          "2026-05-01T00:00:00",
          "2026-06-01T00:00:00",
          "2026-07-01T00:00:00",
          "2026-08-01T00:00:00",
          "2026-09-01T00:00:00",
          "2026-10-01T00:00:00",
          "2026-11-01T00:00:00",
          "2026-12-01T00:00:00",
          "2027-01-01T00:00:00",
          "2027-02-01T00:00:00",
          "2027-03-01T00:00:00",
          "2027-04-01T00:00:00",
          "2027-05-01T00:00:00",
          "2027-06-01T00:00:00",
          "2027-07-01T00:00:00",
          "2027-08-01T00:00:00",
          "2027-09-01T00:00:00",
          "2027-10-01T00:00:00",
          "2027-11-01T00:00:00",
          "2027-12-01T00:00:00",
          "2028-01-01T00:00:00",
          "2028-02-01T00:00:00",
          "2028-03-01T00:00:00",
          "2028-04-01T00:00:00",
          "2028-05-01T00:00:00",
          "2028-06-01T00:00:00",
          "2028-07-01T00:00:00",
          "2028-08-01T00:00:00",
          "2028-09-01T00:00:00",
          "2028-10-01T00:00:00",
          "2028-11-01T00:00:00",
          "2028-12-01T00:00:00",
          "2029-01-01T00:00:00",
          "2029-02-01T00:00:00",
          "2029-03-01T00:00:00",
          "2029-04-01T00:00:00",
          "2029-05-01T00:00:00",
          "2029-06-01T00:00:00",
          "2029-07-01T00:00:00",
          "2029-08-01T00:00:00",
          "2029-09-01T00:00:00",
          "2029-10-01T00:00:00",
          "2029-11-01T00:00:00",
          "2029-12-01T00:00:00",
          "2029-12-01T00:00:00",
          "2029-11-01T00:00:00",
          "2029-10-01T00:00:00",
          "2029-09-01T00:00:00",
          "2029-08-01T00:00:00",
          "2029-07-01T00:00:00",
          "2029-06-01T00:00:00",
          "2029-05-01T00:00:00",
          "2029-04-01T00:00:00",
          "2029-03-01T00:00:00",
          "2029-02-01T00:00:00",
          "2029-01-01T00:00:00",
          "2028-12-01T00:00:00",
          "2028-11-01T00:00:00",
          "2028-10-01T00:00:00",
          "2028-09-01T00:00:00",
          "2028-08-01T00:00:00",
          "2028-07-01T00:00:00",
          "2028-06-01T00:00:00",
          "2028-05-01T00:00:00",
          "2028-04-01T00:00:00",
          "2028-03-01T00:00:00",
          "2028-02-01T00:00:00",
          "2028-01-01T00:00:00",
          "2027-12-01T00:00:00",
          "2027-11-01T00:00:00",
          "2027-10-01T00:00:00",
          "2027-09-01T00:00:00",
          "2027-08-01T00:00:00",
          "2027-07-01T00:00:00",
          "2027-06-01T00:00:00",
          "2027-05-01T00:00:00",
          "2027-04-01T00:00:00",
          "2027-03-01T00:00:00",
          "2027-02-01T00:00:00",
          "2027-01-01T00:00:00",
          "2026-12-01T00:00:00",
          "2026-11-01T00:00:00",
          "2026-10-01T00:00:00",
          "2026-09-01T00:00:00",
          "2026-08-01T00:00:00",
          "2026-07-01T00:00:00",
          "2026-06-01T00:00:00",
          "2026-05-01T00:00:00",
          "2026-04-01T00:00:00",
          "2026-03-01T00:00:00",
          "2026-02-01T00:00:00",
          "2026-01-01T00:00:00",
          "2025-12-01T00:00:00",
          "2025-11-01T00:00:00",
          "2025-10-01T00:00:00",
          "2025-09-01T00:00:00",
          "2025-08-01T00:00:00",
          "2025-07-01T00:00:00",
          "2025-06-01T00:00:00",
          "2025-05-01T00:00:00",
          "2025-04-01T00:00:00",
          "2025-03-01T00:00:00",
          "2025-02-01T00:00:00",
          "2025-01-01T00:00:00",
          "2024-12-01T00:00:00",
          "2024-11-01T00:00:00",
          "2024-10-01T00:00:00",
          "2024-09-01T00:00:00",
          "2024-08-01T00:00:00",
          "2024-07-01T00:00:00",
          "2024-06-01T00:00:00",
          "2024-05-01T00:00:00",
          "2024-04-01T00:00:00",
          "2024-03-01T00:00:00",
          "2024-02-01T00:00:00",
          "2024-01-01T00:00:00",
          "2023-12-01T00:00:00",
          "2023-11-01T00:00:00",
          "2023-10-01T00:00:00",
          "2023-09-01T00:00:00",
          "2023-08-01T00:00:00",
          "2023-07-01T00:00:00",
          "2023-06-01T00:00:00",
          "2023-05-01T00:00:00",
          "2023-04-01T00:00:00",
          "2023-03-01T00:00:00",
          "2023-02-01T00:00:00",
          "2023-01-01T00:00:00",
          "2022-12-01T00:00:00",
          "2022-11-01T00:00:00",
          "2022-10-01T00:00:00",
          "2022-09-01T00:00:00",
          "2022-08-01T00:00:00",
          "2022-07-01T00:00:00",
          "2022-06-01T00:00:00",
          "2022-05-01T00:00:00",
          "2022-04-01T00:00:00",
          "2022-03-01T00:00:00",
          "2022-02-01T00:00:00",
          "2022-01-01T00:00:00",
          "2021-12-01T00:00:00",
          "2021-11-01T00:00:00",
          "2021-10-01T00:00:00",
          "2021-09-01T00:00:00",
          "2021-08-01T00:00:00",
          "2021-07-01T00:00:00",
          "2021-06-01T00:00:00",
          "2021-05-01T00:00:00",
          "2021-04-01T00:00:00",
          "2021-03-01T00:00:00",
          "2021-02-01T00:00:00",
          "2021-01-01T00:00:00"
         ],
         "y": [
          5.482863790689185,
          5.731870452342483,
          5.820855785446207,
          5.818987791534791,
          5.8674709946725585,
          5.888153349797271,
          5.7269761388013345,
          5.707359145225844,
          5.575660867801929,
          5.585438459999931,
          5.533836211888615,
          5.362056993934657,
          5.040928192994444,
          5.3411489804253085,
          5.49734941038387,
          5.452535159353986,
          5.46568949882824,
          5.465086615724242,
          5.315213448636817,
          5.289683345093674,
          5.345329240379901,
          5.3867037947632275,
          5.339073924323487,
          5.323720104872507,
          5.123576994884036,
          5.259813937447029,
          5.301702362611867,
          5.277800863542289,
          5.310135640175308,
          5.23884563381003,
          5.056222486995229,
          5.052612230409694,
          5.199523132711772,
          5.235184249596215,
          5.156026008794749,
          5.195150194802047,
          5.044550012053724,
          5.153769899376801,
          5.227488276053453,
          5.2190810311325935,
          5.25196833931316,
          5.2483574411864895,
          5.029104244816074,
          4.968081271498611,
          4.852552676152493,
          5.0169327017089085,
          5.179484355527572,
          5.078992240151919,
          4.8059052173813335,
          5.140288998626215,
          5.313669610227989,
          5.384703178133793,
          5.533454689433975,
          5.613911559163386,
          5.515660994832343,
          5.554062458729202,
          5.618894450704101,
          5.809232103962754,
          5.981417930125421,
          5.9858991298212425,
          5.841266282340009,
          6.204047621755876,
          6.401245863967971,
          6.5304729756255275,
          6.71813403571211,
          6.885855780557053,
          6.888171928220912,
          6.976908110097978,
          7.1997033313684575,
          7.4294032682471745,
          7.540515528220191,
          7.695088235450517,
          7.6590032539377235,
          7.9926816784254475,
          8.297731485203332,
          8.488467414965681,
          8.726947611138018,
          8.806809505033979,
          8.859198856379967,
          9.07617900832008,
          9.379548922500124,
          9.578449142949621,
          9.62022129115563,
          9.88704315101781,
          9.937260932200637,
          10.281421099407174,
          10.560995120877227,
          10.755991538233374,
          11.053730779975528,
          11.352245964075536,
          11.341013734257201,
          11.586913727674709,
          11.748917055903364,
          12.073663369167495,
          12.34461334045117,
          12.394479116243463,
          12.309311736669308,
          12.92994724586192,
          13.308536240076224,
          13.544939973494174,
          13.843478918206728,
          14.008223711605284,
          14.08972024001632,
          14.301504944292232,
          14.466251619514992,
          14.974351716184314,
          15.185604276476118,
          15.456723260329278,
          -9.600187870014473,
          -9.154065866430571,
          -8.747798876966398,
          -8.469729663310568,
          -8.12059325374907,
          -7.93710702438639,
          -7.477543626944664,
          -7.001971460119216,
          -6.763886144488572,
          -6.483993977891395,
          -6.264232138445195,
          -6.133319268307588,
          -5.416650645142052,
          -4.954025508445137,
          -4.71726326960649,
          -4.715879198983601,
          -4.344857406983801,
          -3.9530311794222808,
          -3.3670266573769654,
          -3.147227241438036,
          -2.9418770725193726,
          -2.641455281648651,
          -2.4381072517263225,
          -2.3378084319746493,
          -2.0024881895806437,
          -1.8130837284105235,
          -1.4508250384751589,
          -1.1689877767925312,
          -0.9973297425138254,
          -0.7094795459438997,
          -0.3024126348594791,
          -0.07057242251244383,
          0.08395332319768835,
          0.2716865111611634,
          0.41875584093669077,
          0.4088832698223035,
          0.8704002697947291,
          1.0651197690350085,
          1.3341819970901412,
          1.4837646436119973,
          1.588045636034478,
          1.839588649503033,
          2.207190062514098,
          2.423438356296795,
          2.5248640666680906,
          2.678212042580368,
          2.7534142212529575,
          2.691117616577531,
          3.1258251751695525,
          3.3450812014319697,
          3.4864843864239217,
          3.521402501622909,
          3.7034642893682563,
          3.8926342126012456,
          4.2144629291863716,
          4.34493199819078,
          4.404377215993299,
          4.508950639489736,
          4.510784135545594,
          4.328993776762359,
          4.743840749629928,
          4.96603477226913,
          4.903266517925348,
          4.79622632471649,
          4.925104274814236,
          4.983476123122422,
          5.2038363124153,
          5.208938966131941,
          5.176396430439839,
          5.183749483901946,
          5.109363617063558,
          5.001560223612091,
          5.15163177423632,
          5.113834839162487,
          5.191305576467983,
          5.1554548311841515,
          5.009576254910135,
          5.012465879645594,
          5.194657981756912,
          5.2652185569251255,
          5.2327468675276005,
          5.258381173487397,
          5.215090054350933,
          5.079657290073719,
          5.278012746021685,
          5.294616485545132,
          5.342324743637878,
          5.299731405982034,
          5.246070029443584,
          5.272432843360554,
          5.41987439002725,
          5.420497752180736,
          5.409793017363951,
          5.45201137503046,
          5.296894489557455,
          4.997397740462902,
          5.3177527838907555,
          5.490645007794366,
          5.539823252010028,
          5.5325216679012525,
          5.664236284875766,
          5.684324677978982,
          5.843632742201751,
          5.82262268596991,
          5.775117946818504,
          5.778876610778325,
          5.687957237237065,
          5.439942917577625
         ]
        }
       ],
       "layout": {
        "legend": {
         "x": 0.01,
         "xanchor": "left",
         "y": 0.99,
         "yanchor": "top"
        },
        "template": {
         "data": {
          "bar": [
           {
            "error_x": {
             "color": "#2a3f5f"
            },
            "error_y": {
             "color": "#2a3f5f"
            },
            "marker": {
             "line": {
              "color": "white",
              "width": 0.5
             },
             "pattern": {
              "fillmode": "overlay",
              "size": 10,
              "solidity": 0.2
             }
            },
            "type": "bar"
           }
          ],
          "barpolar": [
           {
            "marker": {
             "line": {
              "color": "white",
              "width": 0.5
             },
             "pattern": {
              "fillmode": "overlay",
              "size": 10,
              "solidity": 0.2
             }
            },
            "type": "barpolar"
           }
          ],
          "carpet": [
           {
            "aaxis": {
             "endlinecolor": "#2a3f5f",
             "gridcolor": "#C8D4E3",
             "linecolor": "#C8D4E3",
             "minorgridcolor": "#C8D4E3",
             "startlinecolor": "#2a3f5f"
            },
            "baxis": {
             "endlinecolor": "#2a3f5f",
             "gridcolor": "#C8D4E3",
             "linecolor": "#C8D4E3",
             "minorgridcolor": "#C8D4E3",
             "startlinecolor": "#2a3f5f"
            },
            "type": "carpet"
           }
          ],
          "choropleth": [
           {
            "colorbar": {
             "outlinewidth": 0,
             "ticks": ""
            },
            "type": "choropleth"
           }
          ],
          "contour": [
           {
            "colorbar": {
             "outlinewidth": 0,
             "ticks": ""
            },
            "colorscale": [
             [
              0,
              "#0d0887"
             ],
             [
              0.1111111111111111,
              "#46039f"
             ],
             [
              0.2222222222222222,
              "#7201a8"
             ],
             [
              0.3333333333333333,
              "#9c179e"
             ],
             [
              0.4444444444444444,
              "#bd3786"
             ],
             [
              0.5555555555555556,
              "#d8576b"
             ],
             [
              0.6666666666666666,
              "#ed7953"
             ],
             [
              0.7777777777777778,
              "#fb9f3a"
             ],
             [
              0.8888888888888888,
              "#fdca26"
             ],
             [
              1,
              "#f0f921"
             ]
            ],
            "type": "contour"
           }
          ],
          "contourcarpet": [
           {
            "colorbar": {
             "outlinewidth": 0,
             "ticks": ""
            },
            "type": "contourcarpet"
           }
          ],
          "heatmap": [
           {
            "colorbar": {
             "outlinewidth": 0,
             "ticks": ""
            },
            "colorscale": [
             [
              0,
              "#0d0887"
             ],
             [
              0.1111111111111111,
              "#46039f"
             ],
             [
              0.2222222222222222,
              "#7201a8"
             ],
             [
              0.3333333333333333,
              "#9c179e"
             ],
             [
              0.4444444444444444,
              "#bd3786"
             ],
             [
              0.5555555555555556,
              "#d8576b"
             ],
             [
              0.6666666666666666,
              "#ed7953"
             ],
             [
              0.7777777777777778,
              "#fb9f3a"
             ],
             [
              0.8888888888888888,
              "#fdca26"
             ],
             [
              1,
              "#f0f921"
             ]
            ],
            "type": "heatmap"
           }
          ],
          "heatmapgl": [
           {
            "colorbar": {
             "outlinewidth": 0,
             "ticks": ""
            },
            "colorscale": [
             [
              0,
              "#0d0887"
             ],
             [
              0.1111111111111111,
              "#46039f"
             ],
             [
              0.2222222222222222,
              "#7201a8"
             ],
             [
              0.3333333333333333,
              "#9c179e"
             ],
             [
              0.4444444444444444,
              "#bd3786"
             ],
             [
              0.5555555555555556,
              "#d8576b"
             ],
             [
              0.6666666666666666,
              "#ed7953"
             ],
             [
              0.7777777777777778,
              "#fb9f3a"
             ],
             [
              0.8888888888888888,
              "#fdca26"
             ],
             [
              1,
              "#f0f921"
             ]
            ],
            "type": "heatmapgl"
           }
          ],
          "histogram": [
           {
            "marker": {
             "pattern": {
              "fillmode": "overlay",
              "size": 10,
              "solidity": 0.2
             }
            },
            "type": "histogram"
           }
          ],
          "histogram2d": [
           {
            "colorbar": {
             "outlinewidth": 0,
             "ticks": ""
            },
            "colorscale": [
             [
              0,
              "#0d0887"
             ],
             [
              0.1111111111111111,
              "#46039f"
             ],
             [
              0.2222222222222222,
              "#7201a8"
             ],
             [
              0.3333333333333333,
              "#9c179e"
             ],
             [
              0.4444444444444444,
              "#bd3786"
             ],
             [
              0.5555555555555556,
              "#d8576b"
             ],
             [
              0.6666666666666666,
              "#ed7953"
             ],
             [
              0.7777777777777778,
              "#fb9f3a"
             ],
             [
              0.8888888888888888,
              "#fdca26"
             ],
             [
              1,
              "#f0f921"
             ]
            ],
            "type": "histogram2d"
           }
          ],
          "histogram2dcontour": [
           {
            "colorbar": {
             "outlinewidth": 0,
             "ticks": ""
            },
            "colorscale": [
             [
              0,
              "#0d0887"
             ],
             [
              0.1111111111111111,
              "#46039f"
             ],
             [
              0.2222222222222222,
              "#7201a8"
             ],
             [
              0.3333333333333333,
              "#9c179e"
             ],
             [
              0.4444444444444444,
              "#bd3786"
             ],
             [
              0.5555555555555556,
              "#d8576b"
             ],
             [
              0.6666666666666666,
              "#ed7953"
             ],
             [
              0.7777777777777778,
              "#fb9f3a"
             ],
             [
              0.8888888888888888,
              "#fdca26"
             ],
             [
              1,
              "#f0f921"
             ]
            ],
            "type": "histogram2dcontour"
           }
          ],
          "mesh3d": [
           {
            "colorbar": {
             "outlinewidth": 0,
             "ticks": ""
            },
            "type": "mesh3d"
           }
          ],
          "parcoords": [
           {
            "line": {
             "colorbar": {
              "outlinewidth": 0,
              "ticks": ""
             }
            },
            "type": "parcoords"
           }
          ],
          "pie": [
           {
            "automargin": true,
            "type": "pie"
           }
          ],
          "scatter": [
           {
            "fillpattern": {
             "fillmode": "overlay",
             "size": 10,
             "solidity": 0.2
            },
            "type": "scatter"
           }
          ],
          "scatter3d": [
           {
            "line": {
             "colorbar": {
              "outlinewidth": 0,
              "ticks": ""
             }
            },
            "marker": {
             "colorbar": {
              "outlinewidth": 0,
              "ticks": ""
             }
            },
            "type": "scatter3d"
           }
          ],
          "scattercarpet": [
           {
            "marker": {
             "colorbar": {
              "outlinewidth": 0,
              "ticks": ""
             }
            },
            "type": "scattercarpet"
           }
          ],
          "scattergeo": [
           {
            "marker": {
             "colorbar": {
              "outlinewidth": 0,
              "ticks": ""
             }
            },
            "type": "scattergeo"
           }
          ],
          "scattergl": [
           {
            "marker": {
             "colorbar": {
              "outlinewidth": 0,
              "ticks": ""
             }
            },
            "type": "scattergl"
           }
          ],
          "scattermapbox": [
           {
            "marker": {
             "colorbar": {
              "outlinewidth": 0,
              "ticks": ""
             }
            },
            "type": "scattermapbox"
           }
          ],
          "scatterpolar": [
           {
            "marker": {
             "colorbar": {
              "outlinewidth": 0,
              "ticks": ""
             }
            },
            "type": "scatterpolar"
           }
          ],
          "scatterpolargl": [
           {
            "marker": {
             "colorbar": {
              "outlinewidth": 0,
              "ticks": ""
             }
            },
            "type": "scatterpolargl"
           }
          ],
          "scatterternary": [
           {
            "marker": {
             "colorbar": {
              "outlinewidth": 0,
              "ticks": ""
             }
            },
            "type": "scatterternary"
           }
          ],
          "surface": [
           {
            "colorbar": {
             "outlinewidth": 0,
             "ticks": ""
            },
            "colorscale": [
             [
              0,
              "#0d0887"
             ],
             [
              0.1111111111111111,
              "#46039f"
             ],
             [
              0.2222222222222222,
              "#7201a8"
             ],
             [
              0.3333333333333333,
              "#9c179e"
             ],
             [
              0.4444444444444444,
              "#bd3786"
             ],
             [
              0.5555555555555556,
              "#d8576b"
             ],
             [
              0.6666666666666666,
              "#ed7953"
             ],
             [
              0.7777777777777778,
              "#fb9f3a"
             ],
             [
              0.8888888888888888,
              "#fdca26"
             ],
             [
              1,
              "#f0f921"
             ]
            ],
            "type": "surface"
           }
          ],
          "table": [
           {
            "cells": {
             "fill": {
              "color": "#EBF0F8"
             },
             "line": {
              "color": "white"
             }
            },
            "header": {
             "fill": {
              "color": "#C8D4E3"
             },
             "line": {
              "color": "white"
             }
            },
            "type": "table"
           }
          ]
         },
         "layout": {
          "annotationdefaults": {
           "arrowcolor": "#2a3f5f",
           "arrowhead": 0,
           "arrowwidth": 1
          },
          "autotypenumbers": "strict",
          "coloraxis": {
           "colorbar": {
            "outlinewidth": 0,
            "ticks": ""
           }
          },
          "colorscale": {
           "diverging": [
            [
             0,
             "#8e0152"
            ],
            [
             0.1,
             "#c51b7d"
            ],
            [
             0.2,
             "#de77ae"
            ],
            [
             0.3,
             "#f1b6da"
            ],
            [
             0.4,
             "#fde0ef"
            ],
            [
             0.5,
             "#f7f7f7"
            ],
            [
             0.6,
             "#e6f5d0"
            ],
            [
             0.7,
             "#b8e186"
            ],
            [
             0.8,
             "#7fbc41"
            ],
            [
             0.9,
             "#4d9221"
            ],
            [
             1,
             "#276419"
            ]
           ],
           "sequential": [
            [
             0,
             "#0d0887"
            ],
            [
             0.1111111111111111,
             "#46039f"
            ],
            [
             0.2222222222222222,
             "#7201a8"
            ],
            [
             0.3333333333333333,
             "#9c179e"
            ],
            [
             0.4444444444444444,
             "#bd3786"
            ],
            [
             0.5555555555555556,
             "#d8576b"
            ],
            [
             0.6666666666666666,
             "#ed7953"
            ],
            [
             0.7777777777777778,
             "#fb9f3a"
            ],
            [
             0.8888888888888888,
             "#fdca26"
            ],
            [
             1,
             "#f0f921"
            ]
           ],
           "sequentialminus": [
            [
             0,
             "#0d0887"
            ],
            [
             0.1111111111111111,
             "#46039f"
            ],
            [
             0.2222222222222222,
             "#7201a8"
            ],
            [
             0.3333333333333333,
             "#9c179e"
            ],
            [
             0.4444444444444444,
             "#bd3786"
            ],
            [
             0.5555555555555556,
             "#d8576b"
            ],
            [
             0.6666666666666666,
             "#ed7953"
            ],
            [
             0.7777777777777778,
             "#fb9f3a"
            ],
            [
             0.8888888888888888,
             "#fdca26"
            ],
            [
             1,
             "#f0f921"
            ]
           ]
          },
          "colorway": [
           "#636efa",
           "#EF553B",
           "#00cc96",
           "#ab63fa",
           "#FFA15A",
           "#19d3f3",
           "#FF6692",
           "#B6E880",
           "#FF97FF",
           "#FECB52"
          ],
          "font": {
           "color": "#2a3f5f"
          },
          "geo": {
           "bgcolor": "white",
           "lakecolor": "white",
           "landcolor": "white",
           "showlakes": true,
           "showland": true,
           "subunitcolor": "#C8D4E3"
          },
          "hoverlabel": {
           "align": "left"
          },
          "hovermode": "closest",
          "mapbox": {
           "style": "light"
          },
          "paper_bgcolor": "white",
          "plot_bgcolor": "white",
          "polar": {
           "angularaxis": {
            "gridcolor": "#EBF0F8",
            "linecolor": "#EBF0F8",
            "ticks": ""
           },
           "bgcolor": "white",
           "radialaxis": {
            "gridcolor": "#EBF0F8",
            "linecolor": "#EBF0F8",
            "ticks": ""
           }
          },
          "scene": {
           "xaxis": {
            "backgroundcolor": "white",
            "gridcolor": "#DFE8F3",
            "gridwidth": 2,
            "linecolor": "#EBF0F8",
            "showbackground": true,
            "ticks": "",
            "zerolinecolor": "#EBF0F8"
           },
           "yaxis": {
            "backgroundcolor": "white",
            "gridcolor": "#DFE8F3",
            "gridwidth": 2,
            "linecolor": "#EBF0F8",
            "showbackground": true,
            "ticks": "",
            "zerolinecolor": "#EBF0F8"
           },
           "zaxis": {
            "backgroundcolor": "white",
            "gridcolor": "#DFE8F3",
            "gridwidth": 2,
            "linecolor": "#EBF0F8",
            "showbackground": true,
            "ticks": "",
            "zerolinecolor": "#EBF0F8"
           }
          },
          "shapedefaults": {
           "line": {
            "color": "#2a3f5f"
           }
          },
          "ternary": {
           "aaxis": {
            "gridcolor": "#DFE8F3",
            "linecolor": "#A2B1C6",
            "ticks": ""
           },
           "baxis": {
            "gridcolor": "#DFE8F3",
            "linecolor": "#A2B1C6",
            "ticks": ""
           },
           "bgcolor": "white",
           "caxis": {
            "gridcolor": "#DFE8F3",
            "linecolor": "#A2B1C6",
            "ticks": ""
           }
          },
          "title": {
           "x": 0.05
          },
          "xaxis": {
           "automargin": true,
           "gridcolor": "#EBF0F8",
           "linecolor": "#EBF0F8",
           "ticks": "",
           "title": {
            "standoff": 15
           },
           "zerolinecolor": "#EBF0F8",
           "zerolinewidth": 2
          },
          "yaxis": {
           "automargin": true,
           "gridcolor": "#EBF0F8",
           "linecolor": "#EBF0F8",
           "ticks": "",
           "title": {
            "standoff": 15
           },
           "zerolinecolor": "#EBF0F8",
           "zerolinewidth": 2
          }
         }
        },
        "title": {
         "text": "Predicción para avg_hours_per_day_per_driver (Total Mercado)"
        },
        "xaxis": {
         "rangeslider": {
          "visible": true
         },
         "title": {
          "text": "Fecha"
         }
        },
        "yaxis": {
         "range": [
          3.383207465269097,
          15.456723260329278
         ],
         "title": {
          "text": "avg_hours_per_day_per_driver"
         }
        }
       }
      }
     },
     "metadata": {},
     "output_type": "display_data"
    }
   ],
   "source": [
    "periodos = periodo_selector.value\n",
    "frecuencia = \"MS\"\n",
    "\n",
    "industry_type = industry_selector.value\n",
    "column_name = column_selector.value\n",
    "\n",
    "\n",
    "# Cargar los parámetros\n",
    "df_params = pd.read_csv(r\"mejores_modelos.csv\")\n",
    "# Preparar los datos\n",
    "df_prophet = cargar_y_preparar_datos(df, industry_type, column_name)\n",
    "\n",
    "\n",
    "if df_prophet is not None and not df_prophet.empty and df_prophet['y'].notnull().all():\n",
    "\n",
    "    #graficar_original(df_prophet, column_name)\n",
    "\n",
    "    # Ejecutar Grid Search\n",
    "    pronóstico_con_grid_search(df_prophet, df_params, industry_type, column_name, periodos=periodos, frecuencia=frecuencia)"
   ]
  }
 ],
 "metadata": {
  "kernelspec": {
   "display_name": "Python 3",
   "language": "python",
   "name": "python3"
  },
  "language_info": {
   "codemirror_mode": {
    "name": "ipython",
    "version": 3
   },
   "file_extension": ".py",
   "mimetype": "text/x-python",
   "name": "python",
   "nbconvert_exporter": "python",
   "pygments_lexer": "ipython3",
   "version": "3.12.1"
  }
 },
 "nbformat": 4,
 "nbformat_minor": 2
}
