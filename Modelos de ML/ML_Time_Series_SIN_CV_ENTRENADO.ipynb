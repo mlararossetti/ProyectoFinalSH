{
 "cells": [
  {
   "cell_type": "markdown",
   "metadata": {},
   "source": [
    "Librerías"
   ]
  },
  {
   "cell_type": "code",
   "execution_count": 1,
   "metadata": {},
   "outputs": [],
   "source": [
    "import pandas as pd\n",
    "import numpy as np\n",
    "\n",
    "import os\n",
    "import joblib\n",
    "\n",
    "import ipywidgets as widgets\n",
    "from IPython.display import display\n",
    "\n",
    "import matplotlib.pyplot as plt\n",
    "from datetime import datetime\n",
    "from datetime import timedelta\n",
    "\n",
    "from sklearn.metrics import mean_absolute_error, mean_squared_error\n",
    "\n",
    "from prophet import Prophet\n",
    "from prophet.plot import plot_plotly\n",
    "import plotly.graph_objects as go\n",
    "\n",
    "import time\n"
   ]
  },
  {
   "cell_type": "markdown",
   "metadata": {},
   "source": [
    "- Ce carga un subdataset con los datos necesarios para el modelo de ML"
   ]
  },
  {
   "cell_type": "code",
   "execution_count": 2,
   "metadata": {},
   "outputs": [],
   "source": [
    "# Cargar los datos\n",
    "df = pd.read_csv(r\"..\\datasets\\2. Depurados\\TLC Aggregated Data\\ML_TS_Input.csv\")\n",
    "df['date'] = pd.to_datetime(df['date'])"
   ]
  },
  {
   "cell_type": "code",
   "execution_count": 3,
   "metadata": {},
   "outputs": [],
   "source": [
    "# Obtener el valor máximo de la columna 'date'\n",
    "max_date = df['date'].max()\n",
    "# Calcular la fecha de diciembre dentro de 5 años\n",
    "future_date = datetime(max_date.year + 5, 12, 1)\n",
    "# Calcular la cantidad de meses entre ambas fechas\n",
    "months_difference = (future_date.year - max_date.year) * 12 + (future_date.month - max_date.month)"
   ]
  },
  {
   "cell_type": "code",
   "execution_count": 4,
   "metadata": {},
   "outputs": [],
   "source": [
    "# Función para guardar el forecast en un archivo CSV\n",
    "def guardar_datos_forecast(forecast, industry_type, column_name, output_file=r\"..\\datasets\\2. Depurados\\TLC Aggregated Data\\ML_TS_Output.csv\"):\n",
    "    \"\"\"\n",
    "    Guarda los resultados del pronóstico en un archivo CSV consolidado.\n",
    "    Si ya existe un pronóstico para la combinación `industry_type` y `column_name`, no lo vuelve a guardar.\n",
    "    \"\"\"\n",
    "    # Crear un DataFrame con la información del pronóstico\n",
    "    forecast_data = forecast[['ds', 'yhat', 'yhat_lower', 'yhat_upper']].copy()\n",
    "    forecast_data['industry'] = industry_type\n",
    "    forecast_data['column'] = column_name\n",
    "\n",
    "    # Verificar si el archivo existe\n",
    "    if os.path.exists(output_file):\n",
    "        # Cargar datos existentes\n",
    "        existing_data = pd.read_csv(output_file)\n",
    "        \n",
    "        # Filtrar para ver si ya existe esta combinación\n",
    "        exists = (\n",
    "            (existing_data['industry'] == industry_type) &\n",
    "            (existing_data['column'] == column_name)\n",
    "        ).any()\n",
    "\n",
    "        if exists:\n",
    "            print(f\"Pronóstico para la combinación '{industry_type}' - '{column_name}' ya existe en {output_file}.\")\n",
    "            return\n",
    "\n",
    "        # Concatenar datos nuevos si no existen\n",
    "        combined_data = pd.concat([existing_data, forecast_data], ignore_index=True)\n",
    "    else:\n",
    "        # Crear un nuevo archivo si no existe\n",
    "        combined_data = forecast_data\n",
    "\n",
    "    # Guardar el archivo consolidado\n",
    "    combined_data.to_csv(output_file, index=False)\n",
    "    print(f\"Pronóstico guardado en {output_file}.\")\n"
   ]
  },
  {
   "cell_type": "code",
   "execution_count": 5,
   "metadata": {},
   "outputs": [],
   "source": [
    "def graficar_original(df_prophet, column_name):\n",
    "    fig = go.Figure()\n",
    "    fig.add_trace(go.Scatter(x=df_prophet[\"ds\"], y=df_prophet[\"y\"], marker=dict(symbol='circle', color='royalblue')))\n",
    "    fig.layout.update(title_text=\"Datos históricos\", yaxis_title=f\"{column_name}\", xaxis_rangeslider_visible=True)\n",
    "    fig.show()"
   ]
  },
  {
   "cell_type": "code",
   "execution_count": 6,
   "metadata": {},
   "outputs": [],
   "source": [
    "def graficar_predicción(df_prophet, column_name, forecast,industry_type):\n",
    "    \"\"\"\n",
    "    Función para graficar la predicción realizada por Prophet junto con el intervalo de confianza.\n",
    "    Ajusta automáticamente el eje Y al rango de valores de los datos.\n",
    "    \"\"\"\n",
    "    # Crear figura\n",
    "    fig = go.Figure()\n",
    "\n",
    "    # Datos históricos\n",
    "    fig.add_trace(go.Scatter( x=df_prophet[\"ds\"], y=df_prophet[\"y\"], mode='lines+markers', name='Datos Históricos', marker=dict(symbol='circle', color='royalblue'),\n",
    "        line=dict(color='royalblue', width=2)))\n",
    "\n",
    "    # Predicción\n",
    "    fig.add_trace(go.Scatter(x=forecast['ds'], y=forecast['yhat'], mode='lines', name='Predicción', line=dict(color='green', width=3, dash='dot')))\n",
    "\n",
    "    # Intervalo de predicción\n",
    "    fig.add_trace(go.Scatter( x=forecast['ds'].tolist() + forecast['ds'][::-1].tolist(), y=forecast['yhat_upper'].tolist() + forecast['yhat_lower'][::-1].tolist(), \n",
    "        fill='toself', fillcolor='rgba(0, 128, 0, 0.2)', line=dict(color='rgba(0, 0, 0, 0)'), name='Intervalo de Predicción' ))\n",
    "\n",
    "    # Calcular el rango automático para el eje Y\n",
    "    y_values = (df_prophet[\"y\"].tolist() + forecast['yhat'].tolist() ) + forecast['yhat_upper'].tolist() #+ forecast['yhat_lower'].tolist() \n",
    "    \n",
    "    y_min, y_max = min(y_values), max(y_values)\n",
    "\n",
    "    # Configuración del layout\n",
    "    fig.update_layout( title=f\"Predicción para {column_name} ({industry_type})\", xaxis_title='Fecha', yaxis_title=column_name, xaxis_rangeslider_visible=True,\n",
    "        yaxis=dict(range=[y_min, y_max]), template='plotly_white',\n",
    "        legend=dict(yanchor=\"top\", y=0.99, xanchor=\"left\", x=0.01)\n",
    "    )\n",
    "\n",
    "    # Mostrar gráfico\n",
    "    fig.show()    "
   ]
  },
  {
   "cell_type": "code",
   "execution_count": 7,
   "metadata": {},
   "outputs": [],
   "source": [
    "# Función para obtener el nombre del archivo del modelo\n",
    "def obtener_nombre_archivo(industry_type, column_name):\n",
    "    \"\"\"Genera un nombre de archivo único para una combinación de industria y columna.\"\"\"\n",
    "    return f\"models/prophet_model_{industry_type}_{column_name}.pkl\"\n",
    "\n",
    "# Función para cargar o entrenar un modelo Prophet\n",
    "def cargar_o_entrenar_modelo(df_prophet, industry_type, column_name, cps, sps, sm):\n",
    "    \"\"\"\n",
    "    Carga un modelo Prophet guardado o lo entrena y guarda si no existe.\n",
    "    \"\"\"\n",
    "    # Crear el directorio \"models\" si no existe\n",
    "    os.makedirs(\"models\", exist_ok=True)\n",
    "    \n",
    "    # Nombre del archivo del modelo\n",
    "    modelo_path = obtener_nombre_archivo(industry_type, column_name)\n",
    "    \n",
    "    # Intentar cargar el modelo si ya existe\n",
    "    if os.path.exists(modelo_path):\n",
    "        print(f\"Cargando modelo desde {modelo_path}...\")\n",
    "        model = joblib.load(modelo_path)\n",
    "    else:\n",
    "        print(f\"Entrenando modelo para {industry_type} - {column_name}...\")\n",
    "        model = Prophet(\n",
    "            changepoint_prior_scale=cps,\n",
    "            seasonality_prior_scale=sps,\n",
    "            seasonality_mode=sm,\n",
    "            yearly_seasonality=True,\n",
    "            weekly_seasonality=False,\n",
    "        )\n",
    "        model.fit(df_prophet)\n",
    "        # Guardar el modelo entrenado\n",
    "        joblib.dump(model, modelo_path)\n",
    "        print(f\"Modelo guardado en {modelo_path}.\")\n",
    "    \n",
    "    return model\n"
   ]
  },
  {
   "cell_type": "code",
   "execution_count": 8,
   "metadata": {},
   "outputs": [],
   "source": [
    "# Función para cargar los datos y filtrar la serie de tiempo seleccionada\n",
    "def cargar_y_preparar_datos(df, industry_type, column_name):\n",
    "    \"\"\"\n",
    "    Filtra y prepara los datos para Prophet según el tipo de industria y la columna seleccionada.\n",
    "    \"\"\"\n",
    "    df_filtered = df[df['industry'] == industry_type][['date', column_name]].copy()\n",
    "    df_filtered.columns = ['ds', 'y']  # Renombrar columnas para Prophet\n",
    "    df_filtered['ds'] = pd.to_datetime(df_filtered['ds'])  # Asegurar formato de fecha\n",
    "    return df_filtered if not df_filtered['y'].isnull().all() else None"
   ]
  },
  {
   "cell_type": "code",
   "execution_count": 9,
   "metadata": {},
   "outputs": [],
   "source": [
    "def pronóstico_con_grid_search(df_prophet, df_params, industry_type, column_name, periodos, frecuencia):\n",
    "    \"\"\"\n",
    "    Realiza el pronóstico utilizando un modelo Prophet guardado o entrenado.\n",
    "    \"\"\"\n",
    "    # Obtener los mejores parámetros\n",
    "    filtered_df = df_params[(df_params['industry'] == industry_type) & (df_params['column'] == column_name)]\n",
    "    \n",
    "    if not filtered_df.empty:\n",
    "        cps = filtered_df['changepoint_prior_scale'].iloc[0]\n",
    "        sps = filtered_df['seasonality_prior_scale'].iloc[0]\n",
    "        sm = filtered_df['seasonality_mode'].iloc[0]\n",
    "    else:\n",
    "        print(\"No se encontraron datos para la combinación especificada.\")\n",
    "        return\n",
    "\n",
    "    # Cargar o entrenar modelo\n",
    "    model = cargar_o_entrenar_modelo(df_prophet, industry_type, column_name, cps, sps, sm)\n",
    "\n",
    "    # Realizar predicción\n",
    "    future = model.make_future_dataframe(periods=periodos, freq=frecuencia)\n",
    "    forecast = model.predict(future)\n",
    "\n",
    "    # Guardar datos del pronóstico\n",
    "    guardar_datos_forecast(forecast, industry_type, column_name)\n",
    "\n",
    "    # Graficar predicción\n",
    "    graficar_predicción(df_prophet, column_name, forecast, industry_type)\n",
    "    "
   ]
  },
  {
   "cell_type": "code",
   "execution_count": 10,
   "metadata": {},
   "outputs": [
    {
     "data": {
      "application/vnd.jupyter.widget-view+json": {
       "model_id": "1dc837f5f5b74fec9f549f7d029cfffc",
       "version_major": 2,
       "version_minor": 0
      },
      "text/plain": [
       "Dropdown(description='Industria:', options=('FHV - High Volume', 'Yellow Taxi', 'Green Taxi', 'FHV - Other', '…"
      ]
     },
     "metadata": {},
     "output_type": "display_data"
    },
    {
     "data": {
      "application/vnd.jupyter.widget-view+json": {
       "model_id": "eb6e438eead44feb8b18442cc0198c32",
       "version_major": 2,
       "version_minor": 0
      },
      "text/plain": [
       "Dropdown(description='Columna:', options=('total_trips', 'unique_vehicles', 'avg_hours_per_day_per_driver', 't…"
      ]
     },
     "metadata": {},
     "output_type": "display_data"
    },
    {
     "data": {
      "application/vnd.jupyter.widget-view+json": {
       "model_id": "1b4d67afc16846e68a83dcf44a1d9d23",
       "version_major": 2,
       "version_minor": 0
      },
      "text/plain": [
       "IntSlider(value=64, description='Períodos:', max=120, min=1)"
      ]
     },
     "metadata": {},
     "output_type": "display_data"
    }
   ],
   "source": [
    "\"\"\"\"Selector de opciones embebido en Jupyter Notebook\"\"\"\n",
    "\n",
    "# Cargar los parámetros\n",
    "df_params = pd.read_csv(r\"mejores_modelos.csv\")\n",
    "\n",
    "# Crear un selector para la industria\n",
    "industry_types = df_params['industry'].unique()\n",
    "industry_selector = widgets.Dropdown(\n",
    "    options=industry_types,\n",
    "    description='Industria:',\n",
    "    disabled=False,\n",
    ")\n",
    "\n",
    "# Función para actualizar las columnas en función de la industria seleccionada\n",
    "def update_columns(industry):\n",
    "    columns = df_params[df_params['industry'] == industry]['column'].unique()\n",
    "    column_selector.options = columns\n",
    "\n",
    "# Conectar el cambio de valor del selector de industria\n",
    "industry_selector.observe(lambda change: update_columns(change['new']), names='value')\n",
    "\n",
    "# Crear un selector para las columnas\n",
    "column_selector = widgets.Dropdown(\n",
    "    options = df_params[df_params['industry'] == industry_types[0]]['column'].unique(),\n",
    "    description='Columna:',\n",
    "    disabled=False,\n",
    ")\n",
    "\n",
    "\n",
    "periodo_selector = widgets.IntSlider(value=64, min=1, max=120, step=1, description='Períodos:')\n",
    "display(industry_selector, column_selector, periodo_selector)"
   ]
  },
  {
   "cell_type": "markdown",
   "metadata": {},
   "source": [
    "Elegir las opciones de arriba y solo correr el script de abajo."
   ]
  },
  {
   "cell_type": "code",
   "execution_count": 17,
   "metadata": {},
   "outputs": [
    {
     "name": "stdout",
     "output_type": "stream",
     "text": [
      "Cargando modelo desde models/prophet_model_Total Mercado_total_trips.pkl...\n",
      "Pronóstico para la combinación 'Total Mercado' - 'total_trips' ya existe en ..\\datasets\\2. Depurados\\TLC Aggregated Data\\ML_TS_Output.csv.\n"
     ]
    },
    {
     "data": {
      "application/vnd.plotly.v1+json": {
       "config": {
        "plotlyServerURL": "https://plot.ly"
       },
       "data": [
        {
         "line": {
          "color": "royalblue",
          "width": 2
         },
         "marker": {
          "color": "royalblue",
          "symbol": "circle"
         },
         "mode": "lines+markers",
         "name": "Datos Históricos",
         "type": "scatter",
         "x": [
          "2021-01-01T00:00:00",
          "2021-02-01T00:00:00",
          "2021-03-01T00:00:00",
          "2021-04-01T00:00:00",
          "2021-05-01T00:00:00",
          "2021-06-01T00:00:00",
          "2021-07-01T00:00:00",
          "2021-08-01T00:00:00",
          "2021-09-01T00:00:00",
          "2021-10-01T00:00:00",
          "2021-11-01T00:00:00",
          "2021-12-01T00:00:00",
          "2022-01-01T00:00:00",
          "2022-02-01T00:00:00",
          "2022-03-01T00:00:00",
          "2022-04-01T00:00:00",
          "2022-05-01T00:00:00",
          "2022-06-01T00:00:00",
          "2022-07-01T00:00:00",
          "2022-08-01T00:00:00",
          "2022-09-01T00:00:00",
          "2022-10-01T00:00:00",
          "2022-11-01T00:00:00",
          "2022-12-01T00:00:00",
          "2023-01-01T00:00:00",
          "2023-02-01T00:00:00",
          "2023-03-01T00:00:00",
          "2023-04-01T00:00:00",
          "2023-05-01T00:00:00",
          "2023-06-01T00:00:00",
          "2023-07-01T00:00:00",
          "2023-08-01T00:00:00",
          "2023-09-01T00:00:00",
          "2023-10-01T00:00:00",
          "2023-11-01T00:00:00",
          "2023-12-01T00:00:00",
          "2024-01-01T00:00:00",
          "2024-02-01T00:00:00",
          "2024-03-01T00:00:00",
          "2024-04-01T00:00:00",
          "2024-05-01T00:00:00",
          "2024-06-01T00:00:00",
          "2024-07-01T00:00:00",
          "2024-08-01T00:00:00"
         ],
         "y": [
          14486920,
          14073780,
          17571978,
          17661180,
          18617763,
          19223280,
          19230943,
          18623808,
          19092810,
          21356024,
          20833680,
          20702978,
          18411458,
          20318284,
          23546267,
          22748610,
          23079965,
          22604190,
          21848304,
          21544070,
          22259550,
          24240078,
          22530420,
          24408501,
          22749722,
          22063076,
          25227242,
          23753520,
          24832178,
          23971350,
          23455251,
          22632201,
          24061230,
          25613781,
          24344100,
          25510427,
          24211403,
          23877614,
          26537581,
          24827520,
          26027600,
          25149090,
          23718906,
          23598874
         ]
        },
        {
         "line": {
          "color": "green",
          "dash": "dot",
          "width": 3
         },
         "mode": "lines",
         "name": "Predicción",
         "type": "scatter",
         "x": [
          "2021-01-01T00:00:00",
          "2021-02-01T00:00:00",
          "2021-03-01T00:00:00",
          "2021-04-01T00:00:00",
          "2021-05-01T00:00:00",
          "2021-06-01T00:00:00",
          "2021-07-01T00:00:00",
          "2021-08-01T00:00:00",
          "2021-09-01T00:00:00",
          "2021-10-01T00:00:00",
          "2021-11-01T00:00:00",
          "2021-12-01T00:00:00",
          "2022-01-01T00:00:00",
          "2022-02-01T00:00:00",
          "2022-03-01T00:00:00",
          "2022-04-01T00:00:00",
          "2022-05-01T00:00:00",
          "2022-06-01T00:00:00",
          "2022-07-01T00:00:00",
          "2022-08-01T00:00:00",
          "2022-09-01T00:00:00",
          "2022-10-01T00:00:00",
          "2022-11-01T00:00:00",
          "2022-12-01T00:00:00",
          "2023-01-01T00:00:00",
          "2023-02-01T00:00:00",
          "2023-03-01T00:00:00",
          "2023-04-01T00:00:00",
          "2023-05-01T00:00:00",
          "2023-06-01T00:00:00",
          "2023-07-01T00:00:00",
          "2023-08-01T00:00:00",
          "2023-09-01T00:00:00",
          "2023-10-01T00:00:00",
          "2023-11-01T00:00:00",
          "2023-12-01T00:00:00",
          "2024-01-01T00:00:00",
          "2024-02-01T00:00:00",
          "2024-03-01T00:00:00",
          "2024-04-01T00:00:00",
          "2024-05-01T00:00:00",
          "2024-06-01T00:00:00",
          "2024-07-01T00:00:00",
          "2024-08-01T00:00:00",
          "2024-09-01T00:00:00",
          "2024-10-01T00:00:00",
          "2024-11-01T00:00:00",
          "2024-12-01T00:00:00",
          "2025-01-01T00:00:00",
          "2025-02-01T00:00:00",
          "2025-03-01T00:00:00",
          "2025-04-01T00:00:00",
          "2025-05-01T00:00:00",
          "2025-06-01T00:00:00",
          "2025-07-01T00:00:00",
          "2025-08-01T00:00:00",
          "2025-09-01T00:00:00",
          "2025-10-01T00:00:00",
          "2025-11-01T00:00:00",
          "2025-12-01T00:00:00",
          "2026-01-01T00:00:00",
          "2026-02-01T00:00:00",
          "2026-03-01T00:00:00",
          "2026-04-01T00:00:00",
          "2026-05-01T00:00:00",
          "2026-06-01T00:00:00",
          "2026-07-01T00:00:00",
          "2026-08-01T00:00:00",
          "2026-09-01T00:00:00",
          "2026-10-01T00:00:00",
          "2026-11-01T00:00:00",
          "2026-12-01T00:00:00",
          "2027-01-01T00:00:00",
          "2027-02-01T00:00:00",
          "2027-03-01T00:00:00",
          "2027-04-01T00:00:00",
          "2027-05-01T00:00:00",
          "2027-06-01T00:00:00",
          "2027-07-01T00:00:00",
          "2027-08-01T00:00:00",
          "2027-09-01T00:00:00",
          "2027-10-01T00:00:00",
          "2027-11-01T00:00:00",
          "2027-12-01T00:00:00",
          "2028-01-01T00:00:00",
          "2028-02-01T00:00:00",
          "2028-03-01T00:00:00",
          "2028-04-01T00:00:00",
          "2028-05-01T00:00:00",
          "2028-06-01T00:00:00",
          "2028-07-01T00:00:00",
          "2028-08-01T00:00:00",
          "2028-09-01T00:00:00",
          "2028-10-01T00:00:00",
          "2028-11-01T00:00:00",
          "2028-12-01T00:00:00",
          "2029-01-01T00:00:00",
          "2029-02-01T00:00:00",
          "2029-03-01T00:00:00",
          "2029-04-01T00:00:00",
          "2029-05-01T00:00:00",
          "2029-06-01T00:00:00",
          "2029-07-01T00:00:00",
          "2029-08-01T00:00:00",
          "2029-09-01T00:00:00",
          "2029-10-01T00:00:00",
          "2029-11-01T00:00:00",
          "2029-12-01T00:00:00"
         ],
         "y": [
          15073100.756981201,
          15418365.66186287,
          17825195.764505357,
          17423103.541635808,
          18411176.306156266,
          18439832.728372954,
          18247556.940938376,
          18244028.239437684,
          19337789.700517423,
          21029573.523516804,
          20302299.129661463,
          21301837.91743433,
          20007315.660209745,
          20200399.050080523,
          23065462.267644763,
          22242345.356980264,
          23036728.63945305,
          22607617.062330313,
          21964406.639976155,
          21567409.751129374,
          22465434.1623722,
          24169144.06943772,
          23084291.494841635,
          23935174.57460634,
          22220984.729400866,
          22206786.607428465,
          25095284.230816867,
          23924379.776563313,
          24713663.233050797,
          24182195.2946187,
          23442506.03899862,
          22975298.394983344,
          23886070.563704323,
          25615737.40613483,
          24370540.70447446,
          25229712.845688827,
          23396847.733654566,
          23381555.360532638,
          26351329.906028565,
          25127502.475884486,
          25932765.4147268,
          25374234.71273496,
          24552194.223952148,
          23991421.32450557,
          24868875.65144004,
          26701272.04920701,
          25445452.975464173,
          26363706.4986685,
          24439527.407345526,
          24332320.875109356,
          27472879.069358826,
          26179845.359998483,
          27013432.60099867,
          26417318.16629484,
          25563698.730314236,
          24991408.15668867,
          25918949.926475126,
          27805998.31840675,
          26477463.341715325,
          27420826.74194893,
          25416186.319611948,
          25331401.594384614,
          28594096.054333605,
          27231754.19067801,
          28093088.211808942,
          27459109.756631855,
          26575284.451347493,
          25993087.9415834,
          26971187.471467115,
          28909837.73488878,
          27508270.60693503,
          28475879.291909557,
          26392717.074219625,
          26332970.566728346,
          29714799.899601996,
          28283203.24906621,
          29171667.38368879,
          28499631.86383624,
          27587060.45317555,
          26996573.242745593,
          28025559.008472342,
          30012609.924214687,
          28537853.078946203,
          29528846.551163174,
          27369299.11748332,
          27337159.96523342,
          30794429.771955788,
          29349149.224041715,
          30274724.365801413,
          29607638.431226287,
          28634464.568371147,
          27966428.83985535,
          28974829.089565776,
          31094866.36668153,
          29617839.50144793,
          30672155.879944887,
          28419719.07523545,
          28281406.582448218,
          31917845.15309871,
          30401113.76982256,
          31354735.927533478,
          30648392.62373286,
          29644633.77728911,
          28967515.863713823,
          30028754.640481062,
          32200711.544964705,
          30648216.013421103,
          31726252.860183936
         ]
        },
        {
         "fill": "toself",
         "fillcolor": "rgba(0, 128, 0, 0.2)",
         "line": {
          "color": "rgba(0, 0, 0, 0)"
         },
         "name": "Intervalo de Predicción",
         "type": "scatter",
         "x": [
          "2021-01-01T00:00:00",
          "2021-02-01T00:00:00",
          "2021-03-01T00:00:00",
          "2021-04-01T00:00:00",
          "2021-05-01T00:00:00",
          "2021-06-01T00:00:00",
          "2021-07-01T00:00:00",
          "2021-08-01T00:00:00",
          "2021-09-01T00:00:00",
          "2021-10-01T00:00:00",
          "2021-11-01T00:00:00",
          "2021-12-01T00:00:00",
          "2022-01-01T00:00:00",
          "2022-02-01T00:00:00",
          "2022-03-01T00:00:00",
          "2022-04-01T00:00:00",
          "2022-05-01T00:00:00",
          "2022-06-01T00:00:00",
          "2022-07-01T00:00:00",
          "2022-08-01T00:00:00",
          "2022-09-01T00:00:00",
          "2022-10-01T00:00:00",
          "2022-11-01T00:00:00",
          "2022-12-01T00:00:00",
          "2023-01-01T00:00:00",
          "2023-02-01T00:00:00",
          "2023-03-01T00:00:00",
          "2023-04-01T00:00:00",
          "2023-05-01T00:00:00",
          "2023-06-01T00:00:00",
          "2023-07-01T00:00:00",
          "2023-08-01T00:00:00",
          "2023-09-01T00:00:00",
          "2023-10-01T00:00:00",
          "2023-11-01T00:00:00",
          "2023-12-01T00:00:00",
          "2024-01-01T00:00:00",
          "2024-02-01T00:00:00",
          "2024-03-01T00:00:00",
          "2024-04-01T00:00:00",
          "2024-05-01T00:00:00",
          "2024-06-01T00:00:00",
          "2024-07-01T00:00:00",
          "2024-08-01T00:00:00",
          "2024-09-01T00:00:00",
          "2024-10-01T00:00:00",
          "2024-11-01T00:00:00",
          "2024-12-01T00:00:00",
          "2025-01-01T00:00:00",
          "2025-02-01T00:00:00",
          "2025-03-01T00:00:00",
          "2025-04-01T00:00:00",
          "2025-05-01T00:00:00",
          "2025-06-01T00:00:00",
          "2025-07-01T00:00:00",
          "2025-08-01T00:00:00",
          "2025-09-01T00:00:00",
          "2025-10-01T00:00:00",
          "2025-11-01T00:00:00",
          "2025-12-01T00:00:00",
          "2026-01-01T00:00:00",
          "2026-02-01T00:00:00",
          "2026-03-01T00:00:00",
          "2026-04-01T00:00:00",
          "2026-05-01T00:00:00",
          "2026-06-01T00:00:00",
          "2026-07-01T00:00:00",
          "2026-08-01T00:00:00",
          "2026-09-01T00:00:00",
          "2026-10-01T00:00:00",
          "2026-11-01T00:00:00",
          "2026-12-01T00:00:00",
          "2027-01-01T00:00:00",
          "2027-02-01T00:00:00",
          "2027-03-01T00:00:00",
          "2027-04-01T00:00:00",
          "2027-05-01T00:00:00",
          "2027-06-01T00:00:00",
          "2027-07-01T00:00:00",
          "2027-08-01T00:00:00",
          "2027-09-01T00:00:00",
          "2027-10-01T00:00:00",
          "2027-11-01T00:00:00",
          "2027-12-01T00:00:00",
          "2028-01-01T00:00:00",
          "2028-02-01T00:00:00",
          "2028-03-01T00:00:00",
          "2028-04-01T00:00:00",
          "2028-05-01T00:00:00",
          "2028-06-01T00:00:00",
          "2028-07-01T00:00:00",
          "2028-08-01T00:00:00",
          "2028-09-01T00:00:00",
          "2028-10-01T00:00:00",
          "2028-11-01T00:00:00",
          "2028-12-01T00:00:00",
          "2029-01-01T00:00:00",
          "2029-02-01T00:00:00",
          "2029-03-01T00:00:00",
          "2029-04-01T00:00:00",
          "2029-05-01T00:00:00",
          "2029-06-01T00:00:00",
          "2029-07-01T00:00:00",
          "2029-08-01T00:00:00",
          "2029-09-01T00:00:00",
          "2029-10-01T00:00:00",
          "2029-11-01T00:00:00",
          "2029-12-01T00:00:00",
          "2029-12-01T00:00:00",
          "2029-11-01T00:00:00",
          "2029-10-01T00:00:00",
          "2029-09-01T00:00:00",
          "2029-08-01T00:00:00",
          "2029-07-01T00:00:00",
          "2029-06-01T00:00:00",
          "2029-05-01T00:00:00",
          "2029-04-01T00:00:00",
          "2029-03-01T00:00:00",
          "2029-02-01T00:00:00",
          "2029-01-01T00:00:00",
          "2028-12-01T00:00:00",
          "2028-11-01T00:00:00",
          "2028-10-01T00:00:00",
          "2028-09-01T00:00:00",
          "2028-08-01T00:00:00",
          "2028-07-01T00:00:00",
          "2028-06-01T00:00:00",
          "2028-05-01T00:00:00",
          "2028-04-01T00:00:00",
          "2028-03-01T00:00:00",
          "2028-02-01T00:00:00",
          "2028-01-01T00:00:00",
          "2027-12-01T00:00:00",
          "2027-11-01T00:00:00",
          "2027-10-01T00:00:00",
          "2027-09-01T00:00:00",
          "2027-08-01T00:00:00",
          "2027-07-01T00:00:00",
          "2027-06-01T00:00:00",
          "2027-05-01T00:00:00",
          "2027-04-01T00:00:00",
          "2027-03-01T00:00:00",
          "2027-02-01T00:00:00",
          "2027-01-01T00:00:00",
          "2026-12-01T00:00:00",
          "2026-11-01T00:00:00",
          "2026-10-01T00:00:00",
          "2026-09-01T00:00:00",
          "2026-08-01T00:00:00",
          "2026-07-01T00:00:00",
          "2026-06-01T00:00:00",
          "2026-05-01T00:00:00",
          "2026-04-01T00:00:00",
          "2026-03-01T00:00:00",
          "2026-02-01T00:00:00",
          "2026-01-01T00:00:00",
          "2025-12-01T00:00:00",
          "2025-11-01T00:00:00",
          "2025-10-01T00:00:00",
          "2025-09-01T00:00:00",
          "2025-08-01T00:00:00",
          "2025-07-01T00:00:00",
          "2025-06-01T00:00:00",
          "2025-05-01T00:00:00",
          "2025-04-01T00:00:00",
          "2025-03-01T00:00:00",
          "2025-02-01T00:00:00",
          "2025-01-01T00:00:00",
          "2024-12-01T00:00:00",
          "2024-11-01T00:00:00",
          "2024-10-01T00:00:00",
          "2024-09-01T00:00:00",
          "2024-08-01T00:00:00",
          "2024-07-01T00:00:00",
          "2024-06-01T00:00:00",
          "2024-05-01T00:00:00",
          "2024-04-01T00:00:00",
          "2024-03-01T00:00:00",
          "2024-02-01T00:00:00",
          "2024-01-01T00:00:00",
          "2023-12-01T00:00:00",
          "2023-11-01T00:00:00",
          "2023-10-01T00:00:00",
          "2023-09-01T00:00:00",
          "2023-08-01T00:00:00",
          "2023-07-01T00:00:00",
          "2023-06-01T00:00:00",
          "2023-05-01T00:00:00",
          "2023-04-01T00:00:00",
          "2023-03-01T00:00:00",
          "2023-02-01T00:00:00",
          "2023-01-01T00:00:00",
          "2022-12-01T00:00:00",
          "2022-11-01T00:00:00",
          "2022-10-01T00:00:00",
          "2022-09-01T00:00:00",
          "2022-08-01T00:00:00",
          "2022-07-01T00:00:00",
          "2022-06-01T00:00:00",
          "2022-05-01T00:00:00",
          "2022-04-01T00:00:00",
          "2022-03-01T00:00:00",
          "2022-02-01T00:00:00",
          "2022-01-01T00:00:00",
          "2021-12-01T00:00:00",
          "2021-11-01T00:00:00",
          "2021-10-01T00:00:00",
          "2021-09-01T00:00:00",
          "2021-08-01T00:00:00",
          "2021-07-01T00:00:00",
          "2021-06-01T00:00:00",
          "2021-05-01T00:00:00",
          "2021-04-01T00:00:00",
          "2021-03-01T00:00:00",
          "2021-02-01T00:00:00",
          "2021-01-01T00:00:00"
         ],
         "y": [
          15699549.73084429,
          16060650.242473423,
          18497124.834207308,
          18044433.9833059,
          19080443.695681695,
          19065429.619758993,
          18956009.27237122,
          18928626.167172126,
          20015694.56542441,
          21646174.37424075,
          20934606.123491142,
          21946920.166488215,
          20675777.932372324,
          20825510.09795008,
          23701448.169392627,
          22893041.792396806,
          23643666.35250605,
          23259242.574606292,
          22608506.491393637,
          22221512.596024543,
          23100613.982895553,
          24835126.934835427,
          23731898.041841768,
          24597337.997471023,
          22869254.502547555,
          22865714.96363112,
          25723070.427307457,
          24602237.76188645,
          25346570.172072947,
          24805837.068243984,
          24046425.776341133,
          23631906.414647803,
          24486820.414925355,
          26280730.53155157,
          24970813.61617256,
          25886488.826302644,
          24027346.764569726,
          24010726.18052852,
          26955195.98888346,
          25772809.369916394,
          26609770.84107377,
          26008928.984619472,
          25183792.66637683,
          24626556.505153533,
          25555936.624880888,
          27339685.604255598,
          26140629.018176787,
          26994996.550843004,
          25128515.576665472,
          24962723.756543387,
          28167064.380370904,
          26845848.469031833,
          27799339.838870417,
          27205134.385363013,
          26322698.35195017,
          25784929.11070386,
          26724478.813082743,
          28763334.31792115,
          27420445.965981085,
          28469139.10643994,
          26419013.743087757,
          26421335.36116004,
          29804153.552613556,
          28544692.375835843,
          29396874.999649156,
          28950156.556031313,
          28011975.67996526,
          27364622.949456584,
          28602609.431883253,
          30750433.191746507,
          29271114.12124545,
          30484776.155620795,
          28397469.35379325,
          28389324.547330488,
          32066591.988126412,
          30599157.749548618,
          31618623.941184163,
          31093471.326280057,
          30154589.026133172,
          29492396.087379433,
          30870162.00528836,
          33165619.059984747,
          31537915.40001051,
          32813589.586794786,
          30461074.54214005,
          30621605.670102358,
          34545351.84150315,
          32977487.58280208,
          34193450.761709325,
          33636648.11026651,
          32501755.105009723,
          31835937.037792005,
          33178842.196637157,
          35675549.57966667,
          34195282.823355705,
          35459884.013917044,
          32915334.648648098,
          32875650.535061873,
          37162379.07913725,
          35575088.27329786,
          36718790.80138309,
          36169220.7189202,
          35018206.00468766,
          34446228.896813564,
          35812018.521634094,
          38658021.70052239,
          36794346.55776889,
          38210012.62047322,
          25139506.177000888,
          24547050.359653123,
          25847733.80503867,
          24260710.62939961,
          23522460.6101403,
          24142854.49130076,
          25165982.91638201,
          25948808.82160768,
          25195058.51401916,
          26437839.211845133,
          23717399.79077991,
          23868342.434589658,
          26007822.516798574,
          25106907.03261088,
          26569187.96386367,
          24712674.217464358,
          23869913.695189968,
          24710034.057900965,
          25675007.45104432,
          26302872.051085185,
          25695746.496441327,
          26976363.926827364,
          24244270.99723977,
          24261690.526470203,
          26265923.51300993,
          25342898.891516693,
          26925879.89375084,
          25284582.510240123,
          24288319.672899462,
          24989476.04986329,
          25758765.152518436,
          26670381.910209987,
          25836905.363114595,
          27282404.135429736,
          24281788.302478172,
          24480618.41200342,
          26481698.251669005,
          25631256.611508105,
          26897162.858255506,
          25337747.546482652,
          24490376.853549797,
          25114277.754133686,
          25930149.867334988,
          26684155.880826075,
          25903435.821990084,
          27295137.82081203,
          24199166.925578393,
          24368590.79507862,
          26397834.2565219,
          25499532.744319823,
          26827988.45695555,
          25112020.119017042,
          24269300.833785653,
          24800515.864984117,
          25628826.011422403,
          26300604.04581503,
          25482197.89336536,
          26798741.76806287,
          23648695.42014867,
          23784584.012307495,
          25663828.48276878,
          24829659.249997273,
          26102624.431666426,
          24206982.475148402,
          23231772.72250336,
          23938514.788615346,
          24695260.737605438,
          25246600.72899319,
          24498711.556849774,
          25729607.47648685,
          22766888.802850295,
          22711159.875522517,
          24566261.486534063,
          23700936.331150766,
          24973954.431860927,
          23247741.44018053,
          22331542.843296032,
          22811015.78343625,
          23541924.218064316,
          24130427.82123766,
          23283455.57604755,
          24414117.66984676,
          21598547.858468484,
          21580577.50843,
          23299664.88548977,
          22405877.26141154,
          23539540.3030376,
          21858087.912582964,
          20949096.629041582,
          21317182.748148266,
          21927741.874953367,
          22395386.63986879,
          21611461.947682183,
          22423102.676084578,
          19509393.737221573,
          19395656.412308097,
          20628962.339925867,
          19659380.328346107,
          20390394.47922028,
          18693171.616589207,
          17600944.647225406,
          17598241.44377869,
          17799144.84503563,
          17774485.096022032,
          16788273.789214764,
          17171800.276921175,
          14800636.809230534,
          14430952.326339925
         ]
        }
       ],
       "layout": {
        "legend": {
         "x": 0.01,
         "xanchor": "left",
         "y": 0.99,
         "yanchor": "top"
        },
        "template": {
         "data": {
          "bar": [
           {
            "error_x": {
             "color": "#2a3f5f"
            },
            "error_y": {
             "color": "#2a3f5f"
            },
            "marker": {
             "line": {
              "color": "white",
              "width": 0.5
             },
             "pattern": {
              "fillmode": "overlay",
              "size": 10,
              "solidity": 0.2
             }
            },
            "type": "bar"
           }
          ],
          "barpolar": [
           {
            "marker": {
             "line": {
              "color": "white",
              "width": 0.5
             },
             "pattern": {
              "fillmode": "overlay",
              "size": 10,
              "solidity": 0.2
             }
            },
            "type": "barpolar"
           }
          ],
          "carpet": [
           {
            "aaxis": {
             "endlinecolor": "#2a3f5f",
             "gridcolor": "#C8D4E3",
             "linecolor": "#C8D4E3",
             "minorgridcolor": "#C8D4E3",
             "startlinecolor": "#2a3f5f"
            },
            "baxis": {
             "endlinecolor": "#2a3f5f",
             "gridcolor": "#C8D4E3",
             "linecolor": "#C8D4E3",
             "minorgridcolor": "#C8D4E3",
             "startlinecolor": "#2a3f5f"
            },
            "type": "carpet"
           }
          ],
          "choropleth": [
           {
            "colorbar": {
             "outlinewidth": 0,
             "ticks": ""
            },
            "type": "choropleth"
           }
          ],
          "contour": [
           {
            "colorbar": {
             "outlinewidth": 0,
             "ticks": ""
            },
            "colorscale": [
             [
              0,
              "#0d0887"
             ],
             [
              0.1111111111111111,
              "#46039f"
             ],
             [
              0.2222222222222222,
              "#7201a8"
             ],
             [
              0.3333333333333333,
              "#9c179e"
             ],
             [
              0.4444444444444444,
              "#bd3786"
             ],
             [
              0.5555555555555556,
              "#d8576b"
             ],
             [
              0.6666666666666666,
              "#ed7953"
             ],
             [
              0.7777777777777778,
              "#fb9f3a"
             ],
             [
              0.8888888888888888,
              "#fdca26"
             ],
             [
              1,
              "#f0f921"
             ]
            ],
            "type": "contour"
           }
          ],
          "contourcarpet": [
           {
            "colorbar": {
             "outlinewidth": 0,
             "ticks": ""
            },
            "type": "contourcarpet"
           }
          ],
          "heatmap": [
           {
            "colorbar": {
             "outlinewidth": 0,
             "ticks": ""
            },
            "colorscale": [
             [
              0,
              "#0d0887"
             ],
             [
              0.1111111111111111,
              "#46039f"
             ],
             [
              0.2222222222222222,
              "#7201a8"
             ],
             [
              0.3333333333333333,
              "#9c179e"
             ],
             [
              0.4444444444444444,
              "#bd3786"
             ],
             [
              0.5555555555555556,
              "#d8576b"
             ],
             [
              0.6666666666666666,
              "#ed7953"
             ],
             [
              0.7777777777777778,
              "#fb9f3a"
             ],
             [
              0.8888888888888888,
              "#fdca26"
             ],
             [
              1,
              "#f0f921"
             ]
            ],
            "type": "heatmap"
           }
          ],
          "heatmapgl": [
           {
            "colorbar": {
             "outlinewidth": 0,
             "ticks": ""
            },
            "colorscale": [
             [
              0,
              "#0d0887"
             ],
             [
              0.1111111111111111,
              "#46039f"
             ],
             [
              0.2222222222222222,
              "#7201a8"
             ],
             [
              0.3333333333333333,
              "#9c179e"
             ],
             [
              0.4444444444444444,
              "#bd3786"
             ],
             [
              0.5555555555555556,
              "#d8576b"
             ],
             [
              0.6666666666666666,
              "#ed7953"
             ],
             [
              0.7777777777777778,
              "#fb9f3a"
             ],
             [
              0.8888888888888888,
              "#fdca26"
             ],
             [
              1,
              "#f0f921"
             ]
            ],
            "type": "heatmapgl"
           }
          ],
          "histogram": [
           {
            "marker": {
             "pattern": {
              "fillmode": "overlay",
              "size": 10,
              "solidity": 0.2
             }
            },
            "type": "histogram"
           }
          ],
          "histogram2d": [
           {
            "colorbar": {
             "outlinewidth": 0,
             "ticks": ""
            },
            "colorscale": [
             [
              0,
              "#0d0887"
             ],
             [
              0.1111111111111111,
              "#46039f"
             ],
             [
              0.2222222222222222,
              "#7201a8"
             ],
             [
              0.3333333333333333,
              "#9c179e"
             ],
             [
              0.4444444444444444,
              "#bd3786"
             ],
             [
              0.5555555555555556,
              "#d8576b"
             ],
             [
              0.6666666666666666,
              "#ed7953"
             ],
             [
              0.7777777777777778,
              "#fb9f3a"
             ],
             [
              0.8888888888888888,
              "#fdca26"
             ],
             [
              1,
              "#f0f921"
             ]
            ],
            "type": "histogram2d"
           }
          ],
          "histogram2dcontour": [
           {
            "colorbar": {
             "outlinewidth": 0,
             "ticks": ""
            },
            "colorscale": [
             [
              0,
              "#0d0887"
             ],
             [
              0.1111111111111111,
              "#46039f"
             ],
             [
              0.2222222222222222,
              "#7201a8"
             ],
             [
              0.3333333333333333,
              "#9c179e"
             ],
             [
              0.4444444444444444,
              "#bd3786"
             ],
             [
              0.5555555555555556,
              "#d8576b"
             ],
             [
              0.6666666666666666,
              "#ed7953"
             ],
             [
              0.7777777777777778,
              "#fb9f3a"
             ],
             [
              0.8888888888888888,
              "#fdca26"
             ],
             [
              1,
              "#f0f921"
             ]
            ],
            "type": "histogram2dcontour"
           }
          ],
          "mesh3d": [
           {
            "colorbar": {
             "outlinewidth": 0,
             "ticks": ""
            },
            "type": "mesh3d"
           }
          ],
          "parcoords": [
           {
            "line": {
             "colorbar": {
              "outlinewidth": 0,
              "ticks": ""
             }
            },
            "type": "parcoords"
           }
          ],
          "pie": [
           {
            "automargin": true,
            "type": "pie"
           }
          ],
          "scatter": [
           {
            "fillpattern": {
             "fillmode": "overlay",
             "size": 10,
             "solidity": 0.2
            },
            "type": "scatter"
           }
          ],
          "scatter3d": [
           {
            "line": {
             "colorbar": {
              "outlinewidth": 0,
              "ticks": ""
             }
            },
            "marker": {
             "colorbar": {
              "outlinewidth": 0,
              "ticks": ""
             }
            },
            "type": "scatter3d"
           }
          ],
          "scattercarpet": [
           {
            "marker": {
             "colorbar": {
              "outlinewidth": 0,
              "ticks": ""
             }
            },
            "type": "scattercarpet"
           }
          ],
          "scattergeo": [
           {
            "marker": {
             "colorbar": {
              "outlinewidth": 0,
              "ticks": ""
             }
            },
            "type": "scattergeo"
           }
          ],
          "scattergl": [
           {
            "marker": {
             "colorbar": {
              "outlinewidth": 0,
              "ticks": ""
             }
            },
            "type": "scattergl"
           }
          ],
          "scattermapbox": [
           {
            "marker": {
             "colorbar": {
              "outlinewidth": 0,
              "ticks": ""
             }
            },
            "type": "scattermapbox"
           }
          ],
          "scatterpolar": [
           {
            "marker": {
             "colorbar": {
              "outlinewidth": 0,
              "ticks": ""
             }
            },
            "type": "scatterpolar"
           }
          ],
          "scatterpolargl": [
           {
            "marker": {
             "colorbar": {
              "outlinewidth": 0,
              "ticks": ""
             }
            },
            "type": "scatterpolargl"
           }
          ],
          "scatterternary": [
           {
            "marker": {
             "colorbar": {
              "outlinewidth": 0,
              "ticks": ""
             }
            },
            "type": "scatterternary"
           }
          ],
          "surface": [
           {
            "colorbar": {
             "outlinewidth": 0,
             "ticks": ""
            },
            "colorscale": [
             [
              0,
              "#0d0887"
             ],
             [
              0.1111111111111111,
              "#46039f"
             ],
             [
              0.2222222222222222,
              "#7201a8"
             ],
             [
              0.3333333333333333,
              "#9c179e"
             ],
             [
              0.4444444444444444,
              "#bd3786"
             ],
             [
              0.5555555555555556,
              "#d8576b"
             ],
             [
              0.6666666666666666,
              "#ed7953"
             ],
             [
              0.7777777777777778,
              "#fb9f3a"
             ],
             [
              0.8888888888888888,
              "#fdca26"
             ],
             [
              1,
              "#f0f921"
             ]
            ],
            "type": "surface"
           }
          ],
          "table": [
           {
            "cells": {
             "fill": {
              "color": "#EBF0F8"
             },
             "line": {
              "color": "white"
             }
            },
            "header": {
             "fill": {
              "color": "#C8D4E3"
             },
             "line": {
              "color": "white"
             }
            },
            "type": "table"
           }
          ]
         },
         "layout": {
          "annotationdefaults": {
           "arrowcolor": "#2a3f5f",
           "arrowhead": 0,
           "arrowwidth": 1
          },
          "autotypenumbers": "strict",
          "coloraxis": {
           "colorbar": {
            "outlinewidth": 0,
            "ticks": ""
           }
          },
          "colorscale": {
           "diverging": [
            [
             0,
             "#8e0152"
            ],
            [
             0.1,
             "#c51b7d"
            ],
            [
             0.2,
             "#de77ae"
            ],
            [
             0.3,
             "#f1b6da"
            ],
            [
             0.4,
             "#fde0ef"
            ],
            [
             0.5,
             "#f7f7f7"
            ],
            [
             0.6,
             "#e6f5d0"
            ],
            [
             0.7,
             "#b8e186"
            ],
            [
             0.8,
             "#7fbc41"
            ],
            [
             0.9,
             "#4d9221"
            ],
            [
             1,
             "#276419"
            ]
           ],
           "sequential": [
            [
             0,
             "#0d0887"
            ],
            [
             0.1111111111111111,
             "#46039f"
            ],
            [
             0.2222222222222222,
             "#7201a8"
            ],
            [
             0.3333333333333333,
             "#9c179e"
            ],
            [
             0.4444444444444444,
             "#bd3786"
            ],
            [
             0.5555555555555556,
             "#d8576b"
            ],
            [
             0.6666666666666666,
             "#ed7953"
            ],
            [
             0.7777777777777778,
             "#fb9f3a"
            ],
            [
             0.8888888888888888,
             "#fdca26"
            ],
            [
             1,
             "#f0f921"
            ]
           ],
           "sequentialminus": [
            [
             0,
             "#0d0887"
            ],
            [
             0.1111111111111111,
             "#46039f"
            ],
            [
             0.2222222222222222,
             "#7201a8"
            ],
            [
             0.3333333333333333,
             "#9c179e"
            ],
            [
             0.4444444444444444,
             "#bd3786"
            ],
            [
             0.5555555555555556,
             "#d8576b"
            ],
            [
             0.6666666666666666,
             "#ed7953"
            ],
            [
             0.7777777777777778,
             "#fb9f3a"
            ],
            [
             0.8888888888888888,
             "#fdca26"
            ],
            [
             1,
             "#f0f921"
            ]
           ]
          },
          "colorway": [
           "#636efa",
           "#EF553B",
           "#00cc96",
           "#ab63fa",
           "#FFA15A",
           "#19d3f3",
           "#FF6692",
           "#B6E880",
           "#FF97FF",
           "#FECB52"
          ],
          "font": {
           "color": "#2a3f5f"
          },
          "geo": {
           "bgcolor": "white",
           "lakecolor": "white",
           "landcolor": "white",
           "showlakes": true,
           "showland": true,
           "subunitcolor": "#C8D4E3"
          },
          "hoverlabel": {
           "align": "left"
          },
          "hovermode": "closest",
          "mapbox": {
           "style": "light"
          },
          "paper_bgcolor": "white",
          "plot_bgcolor": "white",
          "polar": {
           "angularaxis": {
            "gridcolor": "#EBF0F8",
            "linecolor": "#EBF0F8",
            "ticks": ""
           },
           "bgcolor": "white",
           "radialaxis": {
            "gridcolor": "#EBF0F8",
            "linecolor": "#EBF0F8",
            "ticks": ""
           }
          },
          "scene": {
           "xaxis": {
            "backgroundcolor": "white",
            "gridcolor": "#DFE8F3",
            "gridwidth": 2,
            "linecolor": "#EBF0F8",
            "showbackground": true,
            "ticks": "",
            "zerolinecolor": "#EBF0F8"
           },
           "yaxis": {
            "backgroundcolor": "white",
            "gridcolor": "#DFE8F3",
            "gridwidth": 2,
            "linecolor": "#EBF0F8",
            "showbackground": true,
            "ticks": "",
            "zerolinecolor": "#EBF0F8"
           },
           "zaxis": {
            "backgroundcolor": "white",
            "gridcolor": "#DFE8F3",
            "gridwidth": 2,
            "linecolor": "#EBF0F8",
            "showbackground": true,
            "ticks": "",
            "zerolinecolor": "#EBF0F8"
           }
          },
          "shapedefaults": {
           "line": {
            "color": "#2a3f5f"
           }
          },
          "ternary": {
           "aaxis": {
            "gridcolor": "#DFE8F3",
            "linecolor": "#A2B1C6",
            "ticks": ""
           },
           "baxis": {
            "gridcolor": "#DFE8F3",
            "linecolor": "#A2B1C6",
            "ticks": ""
           },
           "bgcolor": "white",
           "caxis": {
            "gridcolor": "#DFE8F3",
            "linecolor": "#A2B1C6",
            "ticks": ""
           }
          },
          "title": {
           "x": 0.05
          },
          "xaxis": {
           "automargin": true,
           "gridcolor": "#EBF0F8",
           "linecolor": "#EBF0F8",
           "ticks": "",
           "title": {
            "standoff": 15
           },
           "zerolinecolor": "#EBF0F8",
           "zerolinewidth": 2
          },
          "yaxis": {
           "automargin": true,
           "gridcolor": "#EBF0F8",
           "linecolor": "#EBF0F8",
           "ticks": "",
           "title": {
            "standoff": 15
           },
           "zerolinecolor": "#EBF0F8",
           "zerolinewidth": 2
          }
         }
        },
        "title": {
         "text": "Predicción para total_trips (Total Mercado)"
        },
        "xaxis": {
         "rangeslider": {
          "visible": true
         },
         "title": {
          "text": "Fecha"
         }
        },
        "yaxis": {
         "range": [
          14073780,
          38658021.70052239
         ],
         "title": {
          "text": "total_trips"
         }
        }
       }
      }
     },
     "metadata": {},
     "output_type": "display_data"
    }
   ],
   "source": [
    "periodos = periodo_selector.value\n",
    "frecuencia = \"MS\"\n",
    "\n",
    "industry_type = industry_selector.value\n",
    "column_name = column_selector.value\n",
    "\n",
    "\n",
    "# Cargar los parámetros\n",
    "df_params = pd.read_csv(r\"mejores_modelos.csv\")\n",
    "# Preparar los datos\n",
    "df_prophet = cargar_y_preparar_datos(df, industry_type, column_name)\n",
    "\n",
    "\n",
    "if df_prophet is not None and not df_prophet.empty and df_prophet['y'].notnull().all():\n",
    "\n",
    "    #graficar_original(df_prophet, column_name)\n",
    "\n",
    "    # Ejecutar Grid Search\n",
    "    pronóstico_con_grid_search(df_prophet, df_params, industry_type, column_name, periodos=periodos, frecuencia=frecuencia)"
   ]
  }
 ],
 "metadata": {
  "kernelspec": {
   "display_name": "Python 3",
   "language": "python",
   "name": "python3"
  },
  "language_info": {
   "codemirror_mode": {
    "name": "ipython",
    "version": 3
   },
   "file_extension": ".py",
   "mimetype": "text/x-python",
   "name": "python",
   "nbconvert_exporter": "python",
   "pygments_lexer": "ipython3",
   "version": "3.12.1"
  }
 },
 "nbformat": 4,
 "nbformat_minor": 2
}
